{
 "cells": [
  {
   "cell_type": "code",
   "execution_count": 1,
   "id": "c5be71fe-2760-4ae7-9d20-17bc33e8c2da",
   "metadata": {},
   "outputs": [],
   "source": [
    "import numpy as np\n",
    "import pandas as pd"
   ]
  },
  {
   "cell_type": "code",
   "execution_count": 6,
   "id": "1e9df6a3-bd73-4634-995a-f789578da8d6",
   "metadata": {},
   "outputs": [],
   "source": [
    "s = pd.Series([1,2,3])\n",
    "s[0] = np.nan\n",
    "s2 = pd.Series(['a', 'b', 'c'])\n",
    "s2[0] = None\n",
    "s2[1] = np.nan"
   ]
  },
  {
   "cell_type": "code",
   "execution_count": 7,
   "id": "54ea087d-5307-4d94-b61d-4326480b1db7",
   "metadata": {},
   "outputs": [
    {
     "data": {
      "text/plain": [
       "0    NaN\n",
       "1    2.0\n",
       "2    3.0\n",
       "dtype: float64"
      ]
     },
     "execution_count": 7,
     "metadata": {},
     "output_type": "execute_result"
    }
   ],
   "source": [
    "s"
   ]
  },
  {
   "cell_type": "code",
   "execution_count": 8,
   "id": "b36d6c98-b89f-4cc3-9627-0f58dbefb77c",
   "metadata": {},
   "outputs": [
    {
     "data": {
      "text/plain": [
       "0    None\n",
       "1     NaN\n",
       "2       c\n",
       "dtype: object"
      ]
     },
     "execution_count": 8,
     "metadata": {},
     "output_type": "execute_result"
    }
   ],
   "source": [
    "s2"
   ]
  },
  {
   "cell_type": "code",
   "execution_count": 21,
   "id": "35852530-0432-411c-bdbd-135e63bc294e",
   "metadata": {},
   "outputs": [],
   "source": [
    "df = pd.DataFrame(pd.date_range('20210101', periods=5))\n",
    "df.iloc[0, 0] = np.nan"
   ]
  },
  {
   "cell_type": "code",
   "execution_count": 24,
   "id": "d52c0fe5-79b9-4f9e-9cb8-ad15c2f9a921",
   "metadata": {},
   "outputs": [
    {
     "data": {
      "text/html": [
       "<div>\n",
       "<style scoped>\n",
       "    .dataframe tbody tr th:only-of-type {\n",
       "        vertical-align: middle;\n",
       "    }\n",
       "\n",
       "    .dataframe tbody tr th {\n",
       "        vertical-align: top;\n",
       "    }\n",
       "\n",
       "    .dataframe thead th {\n",
       "        text-align: right;\n",
       "    }\n",
       "</style>\n",
       "<table border=\"1\" class=\"dataframe\">\n",
       "  <thead>\n",
       "    <tr style=\"text-align: right;\">\n",
       "      <th></th>\n",
       "      <th>0</th>\n",
       "    </tr>\n",
       "  </thead>\n",
       "  <tbody>\n",
       "    <tr>\n",
       "      <th>0</th>\n",
       "      <td>NaT</td>\n",
       "    </tr>\n",
       "    <tr>\n",
       "      <th>1</th>\n",
       "      <td>2021-01-02</td>\n",
       "    </tr>\n",
       "    <tr>\n",
       "      <th>2</th>\n",
       "      <td>2021-01-03</td>\n",
       "    </tr>\n",
       "  </tbody>\n",
       "</table>\n",
       "</div>"
      ],
      "text/plain": [
       "           0\n",
       "0        NaT\n",
       "1 2021-01-02\n",
       "2 2021-01-03"
      ]
     },
     "execution_count": 24,
     "metadata": {},
     "output_type": "execute_result"
    }
   ],
   "source": [
    "df[0:3]"
   ]
  },
  {
   "cell_type": "code",
   "execution_count": 27,
   "id": "1c254f48-df91-49ee-a9b9-b42240262f11",
   "metadata": {},
   "outputs": [],
   "source": [
    "s1 = pd.Series(pd.date_range('20210101', periods=5))\n",
    "s1[0]=np.nan"
   ]
  },
  {
   "cell_type": "code",
   "execution_count": 28,
   "id": "32786dd4-dc6d-4c39-bc51-29de62c4af77",
   "metadata": {},
   "outputs": [
    {
     "data": {
      "text/plain": [
       "0          NaT\n",
       "1   2021-01-02\n",
       "2   2021-01-03\n",
       "3   2021-01-04\n",
       "4   2021-01-05\n",
       "dtype: datetime64[ns]"
      ]
     },
     "execution_count": 28,
     "metadata": {},
     "output_type": "execute_result"
    }
   ],
   "source": [
    "s1"
   ]
  },
  {
   "cell_type": "code",
   "execution_count": 32,
   "id": "270d2175-a3c2-45cb-b929-17daea3b0b09",
   "metadata": {},
   "outputs": [],
   "source": [
    "a = pd.DataFrame(np.random.randn(5,2), index=list('acefh'), columns=['one', 'two'])\n",
    "b = pd.DataFrame(np.random.randn(5,2), index=a.index, columns=a.columns)"
   ]
  },
  {
   "cell_type": "code",
   "execution_count": 33,
   "id": "5c5b645c-987a-4380-ac0b-7ada4280081c",
   "metadata": {},
   "outputs": [],
   "source": [
    "a.loc[['a', 'c'], 'one'] = np.nan\n",
    "b.loc[['a', 'c', 'h'], 'one'] = np.nan"
   ]
  },
  {
   "cell_type": "code",
   "execution_count": 42,
   "id": "babd6ad4-4797-4dd2-826d-8f6b090f7106",
   "metadata": {},
   "outputs": [
    {
     "data": {
      "text/html": [
       "<div>\n",
       "<style scoped>\n",
       "    .dataframe tbody tr th:only-of-type {\n",
       "        vertical-align: middle;\n",
       "    }\n",
       "\n",
       "    .dataframe tbody tr th {\n",
       "        vertical-align: top;\n",
       "    }\n",
       "\n",
       "    .dataframe thead th {\n",
       "        text-align: right;\n",
       "    }\n",
       "</style>\n",
       "<table border=\"1\" class=\"dataframe\">\n",
       "  <thead>\n",
       "    <tr style=\"text-align: right;\">\n",
       "      <th></th>\n",
       "      <th>one</th>\n",
       "      <th>two</th>\n",
       "      <th>three</th>\n",
       "    </tr>\n",
       "  </thead>\n",
       "  <tbody>\n",
       "    <tr>\n",
       "      <th>a</th>\n",
       "      <td>-0.708373</td>\n",
       "      <td>-0.740197</td>\n",
       "      <td>2.844826</td>\n",
       "    </tr>\n",
       "    <tr>\n",
       "      <th>c</th>\n",
       "      <td>0.338926</td>\n",
       "      <td>0.849067</td>\n",
       "      <td>1.482833</td>\n",
       "    </tr>\n",
       "    <tr>\n",
       "      <th>e</th>\n",
       "      <td>-1.964387</td>\n",
       "      <td>-0.165816</td>\n",
       "      <td>0.603843</td>\n",
       "    </tr>\n",
       "    <tr>\n",
       "      <th>f</th>\n",
       "      <td>-1.575118</td>\n",
       "      <td>-0.362841</td>\n",
       "      <td>1.490022</td>\n",
       "    </tr>\n",
       "    <tr>\n",
       "      <th>h</th>\n",
       "      <td>-0.793638</td>\n",
       "      <td>-1.874522</td>\n",
       "      <td>1.091754</td>\n",
       "    </tr>\n",
       "  </tbody>\n",
       "</table>\n",
       "</div>"
      ],
      "text/plain": [
       "        one       two     three\n",
       "a -0.708373 -0.740197  2.844826\n",
       "c  0.338926  0.849067  1.482833\n",
       "e -1.964387 -0.165816  0.603843\n",
       "f -1.575118 -0.362841  1.490022\n",
       "h -0.793638 -1.874522  1.091754"
      ]
     },
     "execution_count": 42,
     "metadata": {},
     "output_type": "execute_result"
    }
   ],
   "source": [
    "df = pd.DataFrame(np.random.randn(5, 3), index=list('acefh'), columns=['one', 'two', 'three'])\n",
    "df"
   ]
  },
  {
   "cell_type": "code",
   "execution_count": 47,
   "id": "5429623e-860c-4122-bd20-c735ff7093ac",
   "metadata": {},
   "outputs": [
    {
     "data": {
      "text/html": [
       "<div>\n",
       "<style scoped>\n",
       "    .dataframe tbody tr th:only-of-type {\n",
       "        vertical-align: middle;\n",
       "    }\n",
       "\n",
       "    .dataframe tbody tr th {\n",
       "        vertical-align: top;\n",
       "    }\n",
       "\n",
       "    .dataframe thead th {\n",
       "        text-align: right;\n",
       "    }\n",
       "</style>\n",
       "<table border=\"1\" class=\"dataframe\">\n",
       "  <thead>\n",
       "    <tr style=\"text-align: right;\">\n",
       "      <th></th>\n",
       "      <th>one</th>\n",
       "      <th>two</th>\n",
       "      <th>three</th>\n",
       "    </tr>\n",
       "  </thead>\n",
       "  <tbody>\n",
       "    <tr>\n",
       "      <th>a</th>\n",
       "      <td>NaN</td>\n",
       "      <td>-0.740197</td>\n",
       "      <td>2.844826</td>\n",
       "    </tr>\n",
       "    <tr>\n",
       "      <th>c</th>\n",
       "      <td>NaN</td>\n",
       "      <td>0.849067</td>\n",
       "      <td>1.482833</td>\n",
       "    </tr>\n",
       "    <tr>\n",
       "      <th>e</th>\n",
       "      <td>-1.964387</td>\n",
       "      <td>-0.165816</td>\n",
       "      <td>0.603843</td>\n",
       "    </tr>\n",
       "    <tr>\n",
       "      <th>f</th>\n",
       "      <td>-1.575118</td>\n",
       "      <td>-0.362841</td>\n",
       "      <td>1.490022</td>\n",
       "    </tr>\n",
       "    <tr>\n",
       "      <th>h</th>\n",
       "      <td>NaN</td>\n",
       "      <td>-1.874522</td>\n",
       "      <td>1.091754</td>\n",
       "    </tr>\n",
       "  </tbody>\n",
       "</table>\n",
       "</div>"
      ],
      "text/plain": [
       "        one       two     three\n",
       "a       NaN -0.740197  2.844826\n",
       "c       NaN  0.849067  1.482833\n",
       "e -1.964387 -0.165816  0.603843\n",
       "f -1.575118 -0.362841  1.490022\n",
       "h       NaN -1.874522  1.091754"
      ]
     },
     "execution_count": 47,
     "metadata": {},
     "output_type": "execute_result"
    }
   ],
   "source": [
    "df.loc[['a', 'c', 'h'], 'one'] = np.nan\n",
    "# df['one'].sum()\n",
    "# df.mean(1)\n",
    "# df.cumsum()\n",
    "# df.cumprod()\n",
    "df"
   ]
  },
  {
   "cell_type": "code",
   "execution_count": 48,
   "id": "e41c4243-b208-4fba-ae1e-c60e708383ce",
   "metadata": {},
   "outputs": [
    {
     "data": {
      "text/html": [
       "<div>\n",
       "<style scoped>\n",
       "    .dataframe tbody tr th:only-of-type {\n",
       "        vertical-align: middle;\n",
       "    }\n",
       "\n",
       "    .dataframe tbody tr th {\n",
       "        vertical-align: top;\n",
       "    }\n",
       "\n",
       "    .dataframe thead th {\n",
       "        text-align: right;\n",
       "    }\n",
       "</style>\n",
       "<table border=\"1\" class=\"dataframe\">\n",
       "  <thead>\n",
       "    <tr style=\"text-align: right;\">\n",
       "      <th></th>\n",
       "      <th>one</th>\n",
       "      <th>two</th>\n",
       "      <th>three</th>\n",
       "    </tr>\n",
       "  </thead>\n",
       "  <tbody>\n",
       "    <tr>\n",
       "      <th>a</th>\n",
       "      <td>NaN</td>\n",
       "      <td>-0.740197</td>\n",
       "      <td>2.844826</td>\n",
       "    </tr>\n",
       "    <tr>\n",
       "      <th>c</th>\n",
       "      <td>NaN</td>\n",
       "      <td>0.108870</td>\n",
       "      <td>4.327659</td>\n",
       "    </tr>\n",
       "    <tr>\n",
       "      <th>e</th>\n",
       "      <td>NaN</td>\n",
       "      <td>-0.056946</td>\n",
       "      <td>4.931502</td>\n",
       "    </tr>\n",
       "    <tr>\n",
       "      <th>f</th>\n",
       "      <td>NaN</td>\n",
       "      <td>-0.419787</td>\n",
       "      <td>6.421524</td>\n",
       "    </tr>\n",
       "    <tr>\n",
       "      <th>h</th>\n",
       "      <td>NaN</td>\n",
       "      <td>-2.294309</td>\n",
       "      <td>7.513278</td>\n",
       "    </tr>\n",
       "  </tbody>\n",
       "</table>\n",
       "</div>"
      ],
      "text/plain": [
       "   one       two     three\n",
       "a  NaN -0.740197  2.844826\n",
       "c  NaN  0.108870  4.327659\n",
       "e  NaN -0.056946  4.931502\n",
       "f  NaN -0.419787  6.421524\n",
       "h  NaN -2.294309  7.513278"
      ]
     },
     "execution_count": 48,
     "metadata": {},
     "output_type": "execute_result"
    }
   ],
   "source": [
    "df.cumsum(skipna=False)"
   ]
  },
  {
   "cell_type": "code",
   "execution_count": 57,
   "id": "bf02bdc5-dad6-4126-ab1c-1287fdae8537",
   "metadata": {},
   "outputs": [
    {
     "data": {
      "text/html": [
       "<div>\n",
       "<style scoped>\n",
       "    .dataframe tbody tr th:only-of-type {\n",
       "        vertical-align: middle;\n",
       "    }\n",
       "\n",
       "    .dataframe tbody tr th {\n",
       "        vertical-align: top;\n",
       "    }\n",
       "\n",
       "    .dataframe thead th {\n",
       "        text-align: right;\n",
       "    }\n",
       "</style>\n",
       "<table border=\"1\" class=\"dataframe\">\n",
       "  <thead>\n",
       "    <tr style=\"text-align: right;\">\n",
       "      <th></th>\n",
       "      <th>one</th>\n",
       "      <th>two</th>\n",
       "      <th>three</th>\n",
       "    </tr>\n",
       "  </thead>\n",
       "  <tbody>\n",
       "    <tr>\n",
       "      <th>a</th>\n",
       "      <td>NaN</td>\n",
       "      <td>-0.740197</td>\n",
       "      <td>2.844826</td>\n",
       "    </tr>\n",
       "    <tr>\n",
       "      <th>c</th>\n",
       "      <td>NaN</td>\n",
       "      <td>0.849067</td>\n",
       "      <td>1.482833</td>\n",
       "    </tr>\n",
       "    <tr>\n",
       "      <th>e</th>\n",
       "      <td>-1.964387</td>\n",
       "      <td>-0.165816</td>\n",
       "      <td>0.603843</td>\n",
       "    </tr>\n",
       "    <tr>\n",
       "      <th>f</th>\n",
       "      <td>-1.575118</td>\n",
       "      <td>-0.362841</td>\n",
       "      <td>1.490022</td>\n",
       "    </tr>\n",
       "    <tr>\n",
       "      <th>h</th>\n",
       "      <td>NaN</td>\n",
       "      <td>-1.874522</td>\n",
       "      <td>1.091754</td>\n",
       "    </tr>\n",
       "  </tbody>\n",
       "</table>\n",
       "</div>"
      ],
      "text/plain": [
       "        one       two     three\n",
       "a       NaN -0.740197  2.844826\n",
       "c       NaN  0.849067  1.482833\n",
       "e -1.964387 -0.165816  0.603843\n",
       "f -1.575118 -0.362841  1.490022\n",
       "h       NaN -1.874522  1.091754"
      ]
     },
     "execution_count": 57,
     "metadata": {},
     "output_type": "execute_result"
    }
   ],
   "source": [
    "# pd.Series([np.nan]).sum()\n",
    "# pd.Series([]).sum()\n",
    "# pd.Series([np.nan]).prod()\n",
    "# pd.Series([]).prod()\n",
    "df"
   ]
  },
  {
   "cell_type": "code",
   "execution_count": 56,
   "id": "c553987a-2362-4902-87ec-8f3b5ffb367d",
   "metadata": {},
   "outputs": [
    {
     "data": {
      "text/html": [
       "<div>\n",
       "<style scoped>\n",
       "    .dataframe tbody tr th:only-of-type {\n",
       "        vertical-align: middle;\n",
       "    }\n",
       "\n",
       "    .dataframe tbody tr th {\n",
       "        vertical-align: top;\n",
       "    }\n",
       "\n",
       "    .dataframe thead th {\n",
       "        text-align: right;\n",
       "    }\n",
       "</style>\n",
       "<table border=\"1\" class=\"dataframe\">\n",
       "  <thead>\n",
       "    <tr style=\"text-align: right;\">\n",
       "      <th></th>\n",
       "      <th>two</th>\n",
       "      <th>three</th>\n",
       "    </tr>\n",
       "    <tr>\n",
       "      <th>one</th>\n",
       "      <th></th>\n",
       "      <th></th>\n",
       "    </tr>\n",
       "  </thead>\n",
       "  <tbody>\n",
       "    <tr>\n",
       "      <th>-1.964387</th>\n",
       "      <td>-0.165816</td>\n",
       "      <td>0.603843</td>\n",
       "    </tr>\n",
       "    <tr>\n",
       "      <th>-1.575118</th>\n",
       "      <td>-0.362841</td>\n",
       "      <td>1.490022</td>\n",
       "    </tr>\n",
       "  </tbody>\n",
       "</table>\n",
       "</div>"
      ],
      "text/plain": [
       "                two     three\n",
       "one                          \n",
       "-1.964387 -0.165816  0.603843\n",
       "-1.575118 -0.362841  1.490022"
      ]
     },
     "execution_count": 56,
     "metadata": {},
     "output_type": "execute_result"
    }
   ],
   "source": [
    "df.groupby('one').mean()"
   ]
  },
  {
   "cell_type": "code",
   "execution_count": 65,
   "id": "7bcbe8fa-c83b-4806-a162-51f720f18464",
   "metadata": {},
   "outputs": [
    {
     "data": {
      "text/html": [
       "<div>\n",
       "<style scoped>\n",
       "    .dataframe tbody tr th:only-of-type {\n",
       "        vertical-align: middle;\n",
       "    }\n",
       "\n",
       "    .dataframe tbody tr th {\n",
       "        vertical-align: top;\n",
       "    }\n",
       "\n",
       "    .dataframe thead th {\n",
       "        text-align: right;\n",
       "    }\n",
       "</style>\n",
       "<table border=\"1\" class=\"dataframe\">\n",
       "  <thead>\n",
       "    <tr style=\"text-align: right;\">\n",
       "      <th></th>\n",
       "      <th>one</th>\n",
       "      <th>two</th>\n",
       "      <th>three</th>\n",
       "    </tr>\n",
       "  </thead>\n",
       "  <tbody>\n",
       "    <tr>\n",
       "      <th>a</th>\n",
       "      <td>-0.463462</td>\n",
       "      <td>1.084086</td>\n",
       "      <td>-0.883248</td>\n",
       "    </tr>\n",
       "    <tr>\n",
       "      <th>c</th>\n",
       "      <td>-1.079095</td>\n",
       "      <td>-1.199628</td>\n",
       "      <td>-0.398823</td>\n",
       "    </tr>\n",
       "    <tr>\n",
       "      <th>e</th>\n",
       "      <td>1.414814</td>\n",
       "      <td>0.749578</td>\n",
       "      <td>0.592461</td>\n",
       "    </tr>\n",
       "    <tr>\n",
       "      <th>f</th>\n",
       "      <td>0.360442</td>\n",
       "      <td>0.430090</td>\n",
       "      <td>-0.209356</td>\n",
       "    </tr>\n",
       "    <tr>\n",
       "      <th>h</th>\n",
       "      <td>1.403704</td>\n",
       "      <td>-1.034869</td>\n",
       "      <td>-0.429076</td>\n",
       "    </tr>\n",
       "  </tbody>\n",
       "</table>\n",
       "</div>"
      ],
      "text/plain": [
       "        one       two     three\n",
       "a -0.463462  1.084086 -0.883248\n",
       "c -1.079095 -1.199628 -0.398823\n",
       "e  1.414814  0.749578  0.592461\n",
       "f  0.360442  0.430090 -0.209356\n",
       "h  1.403704 -1.034869 -0.429076"
      ]
     },
     "execution_count": 65,
     "metadata": {},
     "output_type": "execute_result"
    }
   ],
   "source": [
    "df2 = pd.DataFrame(np.random.randn(5,3), index=list('acefh'), columns=['one', 'two', 'three'])\n",
    "df2"
   ]
  },
  {
   "cell_type": "code",
   "execution_count": 68,
   "id": "2a04fc30-1048-4d94-bf99-740ec10e1f69",
   "metadata": {},
   "outputs": [
    {
     "data": {
      "text/html": [
       "<div>\n",
       "<style scoped>\n",
       "    .dataframe tbody tr th:only-of-type {\n",
       "        vertical-align: middle;\n",
       "    }\n",
       "\n",
       "    .dataframe tbody tr th {\n",
       "        vertical-align: top;\n",
       "    }\n",
       "\n",
       "    .dataframe thead th {\n",
       "        text-align: right;\n",
       "    }\n",
       "</style>\n",
       "<table border=\"1\" class=\"dataframe\">\n",
       "  <thead>\n",
       "    <tr style=\"text-align: right;\">\n",
       "      <th></th>\n",
       "      <th>one</th>\n",
       "      <th>two</th>\n",
       "      <th>three</th>\n",
       "      <th>four</th>\n",
       "      <th>five</th>\n",
       "      <th>timestamp</th>\n",
       "    </tr>\n",
       "  </thead>\n",
       "  <tbody>\n",
       "    <tr>\n",
       "      <th>a</th>\n",
       "      <td>NaN</td>\n",
       "      <td>1.084086</td>\n",
       "      <td>-0.883248</td>\n",
       "      <td>bar</td>\n",
       "      <td>False</td>\n",
       "      <td>NaT</td>\n",
       "    </tr>\n",
       "    <tr>\n",
       "      <th>c</th>\n",
       "      <td>NaN</td>\n",
       "      <td>-1.199628</td>\n",
       "      <td>-0.398823</td>\n",
       "      <td>bar</td>\n",
       "      <td>False</td>\n",
       "      <td>NaT</td>\n",
       "    </tr>\n",
       "    <tr>\n",
       "      <th>e</th>\n",
       "      <td>1.414814</td>\n",
       "      <td>0.749578</td>\n",
       "      <td>0.592461</td>\n",
       "      <td>bar</td>\n",
       "      <td>True</td>\n",
       "      <td>2012-01-01</td>\n",
       "    </tr>\n",
       "    <tr>\n",
       "      <th>f</th>\n",
       "      <td>0.360442</td>\n",
       "      <td>0.430090</td>\n",
       "      <td>-0.209356</td>\n",
       "      <td>bar</td>\n",
       "      <td>True</td>\n",
       "      <td>2012-01-01</td>\n",
       "    </tr>\n",
       "    <tr>\n",
       "      <th>h</th>\n",
       "      <td>NaN</td>\n",
       "      <td>-1.034869</td>\n",
       "      <td>-0.429076</td>\n",
       "      <td>bar</td>\n",
       "      <td>True</td>\n",
       "      <td>NaT</td>\n",
       "    </tr>\n",
       "  </tbody>\n",
       "</table>\n",
       "</div>"
      ],
      "text/plain": [
       "        one       two     three four   five  timestamp\n",
       "a       NaN  1.084086 -0.883248  bar  False        NaT\n",
       "c       NaN -1.199628 -0.398823  bar  False        NaT\n",
       "e  1.414814  0.749578  0.592461  bar   True 2012-01-01\n",
       "f  0.360442  0.430090 -0.209356  bar   True 2012-01-01\n",
       "h       NaN -1.034869 -0.429076  bar   True        NaT"
      ]
     },
     "execution_count": 68,
     "metadata": {},
     "output_type": "execute_result"
    }
   ],
   "source": [
    "df2['four'] = 'bar'\n",
    "df2['five'] = df2['one'] > 0\n",
    "df2['timestamp'] = pd.Timestamp('20120101')\n",
    "df2.loc[['a', 'c', 'h'], ['one', 'timestamp']] = np.nan\n",
    "df2"
   ]
  },
  {
   "cell_type": "code",
   "execution_count": 72,
   "id": "b8f4d617-4435-4705-9865-cbfcaeac0bc6",
   "metadata": {},
   "outputs": [
    {
     "data": {
      "text/plain": [
       "one           object\n",
       "two          float64\n",
       "three        float64\n",
       "four          object\n",
       "five            bool\n",
       "timestamp     object\n",
       "dtype: object"
      ]
     },
     "execution_count": 72,
     "metadata": {},
     "output_type": "execute_result"
    }
   ],
   "source": [
    "# df2.fillna(0)\n",
    "# df2['one'].fillna('missing')\n",
    "df2.fillna('missing').dtypes"
   ]
  },
  {
   "cell_type": "code",
   "execution_count": 74,
   "id": "7f5c4e17-95d5-41df-82c8-fb101caba4fa",
   "metadata": {},
   "outputs": [
    {
     "data": {
      "text/html": [
       "<div>\n",
       "<style scoped>\n",
       "    .dataframe tbody tr th:only-of-type {\n",
       "        vertical-align: middle;\n",
       "    }\n",
       "\n",
       "    .dataframe tbody tr th {\n",
       "        vertical-align: top;\n",
       "    }\n",
       "\n",
       "    .dataframe thead th {\n",
       "        text-align: right;\n",
       "    }\n",
       "</style>\n",
       "<table border=\"1\" class=\"dataframe\">\n",
       "  <thead>\n",
       "    <tr style=\"text-align: right;\">\n",
       "      <th></th>\n",
       "      <th>one</th>\n",
       "      <th>two</th>\n",
       "      <th>three</th>\n",
       "    </tr>\n",
       "  </thead>\n",
       "  <tbody>\n",
       "    <tr>\n",
       "      <th>a</th>\n",
       "      <td>NaN</td>\n",
       "      <td>-0.492670</td>\n",
       "      <td>0.170781</td>\n",
       "    </tr>\n",
       "    <tr>\n",
       "      <th>c</th>\n",
       "      <td>NaN</td>\n",
       "      <td>-0.936994</td>\n",
       "      <td>1.227113</td>\n",
       "    </tr>\n",
       "    <tr>\n",
       "      <th>e</th>\n",
       "      <td>0.316851</td>\n",
       "      <td>0.667145</td>\n",
       "      <td>1.509593</td>\n",
       "    </tr>\n",
       "    <tr>\n",
       "      <th>f</th>\n",
       "      <td>-1.585435</td>\n",
       "      <td>-0.355950</td>\n",
       "      <td>-0.804876</td>\n",
       "    </tr>\n",
       "    <tr>\n",
       "      <th>h</th>\n",
       "      <td>-1.585435</td>\n",
       "      <td>-0.467926</td>\n",
       "      <td>0.886721</td>\n",
       "    </tr>\n",
       "  </tbody>\n",
       "</table>\n",
       "</div>"
      ],
      "text/plain": [
       "        one       two     three\n",
       "a       NaN -0.492670  0.170781\n",
       "c       NaN -0.936994  1.227113\n",
       "e  0.316851  0.667145  1.509593\n",
       "f -1.585435 -0.355950 -0.804876\n",
       "h -1.585435 -0.467926  0.886721"
      ]
     },
     "execution_count": 74,
     "metadata": {},
     "output_type": "execute_result"
    }
   ],
   "source": [
    "df = pd.DataFrame(np.random.randn(5,3), index=list('acefh'), columns=['one', 'two', 'three'])\n",
    "df.loc[['a', 'c', 'h'], 'one'] = np.nan\n",
    "df.fillna(method='pad') # like 'ffill'"
   ]
  },
  {
   "cell_type": "code",
   "execution_count": 75,
   "id": "8979e7f5-7366-4759-aaa7-d6c3d29c31c0",
   "metadata": {},
   "outputs": [
    {
     "data": {
      "text/html": [
       "<div>\n",
       "<style scoped>\n",
       "    .dataframe tbody tr th:only-of-type {\n",
       "        vertical-align: middle;\n",
       "    }\n",
       "\n",
       "    .dataframe tbody tr th {\n",
       "        vertical-align: top;\n",
       "    }\n",
       "\n",
       "    .dataframe thead th {\n",
       "        text-align: right;\n",
       "    }\n",
       "</style>\n",
       "<table border=\"1\" class=\"dataframe\">\n",
       "  <thead>\n",
       "    <tr style=\"text-align: right;\">\n",
       "      <th></th>\n",
       "      <th>one</th>\n",
       "      <th>two</th>\n",
       "      <th>three</th>\n",
       "    </tr>\n",
       "  </thead>\n",
       "  <tbody>\n",
       "    <tr>\n",
       "      <th>a</th>\n",
       "      <td>NaN</td>\n",
       "      <td>-0.492670</td>\n",
       "      <td>0.170781</td>\n",
       "    </tr>\n",
       "    <tr>\n",
       "      <th>c</th>\n",
       "      <td>0.316851</td>\n",
       "      <td>-0.936994</td>\n",
       "      <td>1.227113</td>\n",
       "    </tr>\n",
       "    <tr>\n",
       "      <th>e</th>\n",
       "      <td>0.316851</td>\n",
       "      <td>0.667145</td>\n",
       "      <td>1.509593</td>\n",
       "    </tr>\n",
       "    <tr>\n",
       "      <th>f</th>\n",
       "      <td>-1.585435</td>\n",
       "      <td>-0.355950</td>\n",
       "      <td>-0.804876</td>\n",
       "    </tr>\n",
       "    <tr>\n",
       "      <th>h</th>\n",
       "      <td>NaN</td>\n",
       "      <td>-0.467926</td>\n",
       "      <td>0.886721</td>\n",
       "    </tr>\n",
       "  </tbody>\n",
       "</table>\n",
       "</div>"
      ],
      "text/plain": [
       "        one       two     three\n",
       "a       NaN -0.492670  0.170781\n",
       "c  0.316851 -0.936994  1.227113\n",
       "e  0.316851  0.667145  1.509593\n",
       "f -1.585435 -0.355950 -0.804876\n",
       "h       NaN -0.467926  0.886721"
      ]
     },
     "execution_count": 75,
     "metadata": {},
     "output_type": "execute_result"
    }
   ],
   "source": [
    "df.fillna(method='bfill', limit=1)"
   ]
  },
  {
   "cell_type": "code",
   "execution_count": 81,
   "id": "cfdc7943-7047-4566-8098-c299dcf0895c",
   "metadata": {},
   "outputs": [],
   "source": [
    "dff = pd.DataFrame(np.random.randn(9,3), columns=list('ABC'))\n",
    "dff.loc[[3,4], 'A'] = np.nan\n",
    "dff.loc[[4,5], 'B'] = np.nan\n",
    "dff.loc[[5,6,7], 'C'] = np.nan"
   ]
  },
  {
   "cell_type": "code",
   "execution_count": 82,
   "id": "125865fd-5f46-42bb-85aa-a1f1a56394a7",
   "metadata": {},
   "outputs": [
    {
     "data": {
      "text/html": [
       "<div>\n",
       "<style scoped>\n",
       "    .dataframe tbody tr th:only-of-type {\n",
       "        vertical-align: middle;\n",
       "    }\n",
       "\n",
       "    .dataframe tbody tr th {\n",
       "        vertical-align: top;\n",
       "    }\n",
       "\n",
       "    .dataframe thead th {\n",
       "        text-align: right;\n",
       "    }\n",
       "</style>\n",
       "<table border=\"1\" class=\"dataframe\">\n",
       "  <thead>\n",
       "    <tr style=\"text-align: right;\">\n",
       "      <th></th>\n",
       "      <th>A</th>\n",
       "      <th>B</th>\n",
       "      <th>C</th>\n",
       "    </tr>\n",
       "  </thead>\n",
       "  <tbody>\n",
       "    <tr>\n",
       "      <th>0</th>\n",
       "      <td>1.047133</td>\n",
       "      <td>2.433613</td>\n",
       "      <td>-0.838456</td>\n",
       "    </tr>\n",
       "    <tr>\n",
       "      <th>1</th>\n",
       "      <td>1.054551</td>\n",
       "      <td>0.243732</td>\n",
       "      <td>-0.714219</td>\n",
       "    </tr>\n",
       "    <tr>\n",
       "      <th>2</th>\n",
       "      <td>0.327177</td>\n",
       "      <td>1.853743</td>\n",
       "      <td>-0.121818</td>\n",
       "    </tr>\n",
       "    <tr>\n",
       "      <th>3</th>\n",
       "      <td>NaN</td>\n",
       "      <td>-1.172736</td>\n",
       "      <td>-1.304318</td>\n",
       "    </tr>\n",
       "    <tr>\n",
       "      <th>4</th>\n",
       "      <td>NaN</td>\n",
       "      <td>NaN</td>\n",
       "      <td>2.149567</td>\n",
       "    </tr>\n",
       "    <tr>\n",
       "      <th>5</th>\n",
       "      <td>-0.419368</td>\n",
       "      <td>NaN</td>\n",
       "      <td>NaN</td>\n",
       "    </tr>\n",
       "    <tr>\n",
       "      <th>6</th>\n",
       "      <td>1.545636</td>\n",
       "      <td>-1.135611</td>\n",
       "      <td>NaN</td>\n",
       "    </tr>\n",
       "    <tr>\n",
       "      <th>7</th>\n",
       "      <td>0.490524</td>\n",
       "      <td>-0.036811</td>\n",
       "      <td>NaN</td>\n",
       "    </tr>\n",
       "    <tr>\n",
       "      <th>8</th>\n",
       "      <td>-0.525158</td>\n",
       "      <td>0.243318</td>\n",
       "      <td>-2.450174</td>\n",
       "    </tr>\n",
       "  </tbody>\n",
       "</table>\n",
       "</div>"
      ],
      "text/plain": [
       "          A         B         C\n",
       "0  1.047133  2.433613 -0.838456\n",
       "1  1.054551  0.243732 -0.714219\n",
       "2  0.327177  1.853743 -0.121818\n",
       "3       NaN -1.172736 -1.304318\n",
       "4       NaN       NaN  2.149567\n",
       "5 -0.419368       NaN       NaN\n",
       "6  1.545636 -1.135611       NaN\n",
       "7  0.490524 -0.036811       NaN\n",
       "8 -0.525158  0.243318 -2.450174"
      ]
     },
     "execution_count": 82,
     "metadata": {},
     "output_type": "execute_result"
    }
   ],
   "source": [
    "dff"
   ]
  },
  {
   "cell_type": "code",
   "execution_count": 84,
   "id": "038838a6-dcb4-4c64-aeea-f419709794bd",
   "metadata": {},
   "outputs": [
    {
     "data": {
      "text/plain": [
       "A    0.502928\n",
       "B    0.347035\n",
       "C   -0.546570\n",
       "dtype: float64"
      ]
     },
     "execution_count": 84,
     "metadata": {},
     "output_type": "execute_result"
    }
   ],
   "source": [
    "dff.mean()"
   ]
  },
  {
   "cell_type": "code",
   "execution_count": 83,
   "id": "d2db2502-88d0-4bb2-a661-8adbec33fb80",
   "metadata": {},
   "outputs": [
    {
     "data": {
      "text/html": [
       "<div>\n",
       "<style scoped>\n",
       "    .dataframe tbody tr th:only-of-type {\n",
       "        vertical-align: middle;\n",
       "    }\n",
       "\n",
       "    .dataframe tbody tr th {\n",
       "        vertical-align: top;\n",
       "    }\n",
       "\n",
       "    .dataframe thead th {\n",
       "        text-align: right;\n",
       "    }\n",
       "</style>\n",
       "<table border=\"1\" class=\"dataframe\">\n",
       "  <thead>\n",
       "    <tr style=\"text-align: right;\">\n",
       "      <th></th>\n",
       "      <th>A</th>\n",
       "      <th>B</th>\n",
       "      <th>C</th>\n",
       "    </tr>\n",
       "  </thead>\n",
       "  <tbody>\n",
       "    <tr>\n",
       "      <th>0</th>\n",
       "      <td>1.047133</td>\n",
       "      <td>2.433613</td>\n",
       "      <td>-0.838456</td>\n",
       "    </tr>\n",
       "    <tr>\n",
       "      <th>1</th>\n",
       "      <td>1.054551</td>\n",
       "      <td>0.243732</td>\n",
       "      <td>-0.714219</td>\n",
       "    </tr>\n",
       "    <tr>\n",
       "      <th>2</th>\n",
       "      <td>0.327177</td>\n",
       "      <td>1.853743</td>\n",
       "      <td>-0.121818</td>\n",
       "    </tr>\n",
       "    <tr>\n",
       "      <th>3</th>\n",
       "      <td>0.502928</td>\n",
       "      <td>-1.172736</td>\n",
       "      <td>-1.304318</td>\n",
       "    </tr>\n",
       "    <tr>\n",
       "      <th>4</th>\n",
       "      <td>0.502928</td>\n",
       "      <td>0.347035</td>\n",
       "      <td>2.149567</td>\n",
       "    </tr>\n",
       "    <tr>\n",
       "      <th>5</th>\n",
       "      <td>-0.419368</td>\n",
       "      <td>0.347035</td>\n",
       "      <td>-0.546570</td>\n",
       "    </tr>\n",
       "    <tr>\n",
       "      <th>6</th>\n",
       "      <td>1.545636</td>\n",
       "      <td>-1.135611</td>\n",
       "      <td>-0.546570</td>\n",
       "    </tr>\n",
       "    <tr>\n",
       "      <th>7</th>\n",
       "      <td>0.490524</td>\n",
       "      <td>-0.036811</td>\n",
       "      <td>-0.546570</td>\n",
       "    </tr>\n",
       "    <tr>\n",
       "      <th>8</th>\n",
       "      <td>-0.525158</td>\n",
       "      <td>0.243318</td>\n",
       "      <td>-2.450174</td>\n",
       "    </tr>\n",
       "  </tbody>\n",
       "</table>\n",
       "</div>"
      ],
      "text/plain": [
       "          A         B         C\n",
       "0  1.047133  2.433613 -0.838456\n",
       "1  1.054551  0.243732 -0.714219\n",
       "2  0.327177  1.853743 -0.121818\n",
       "3  0.502928 -1.172736 -1.304318\n",
       "4  0.502928  0.347035  2.149567\n",
       "5 -0.419368  0.347035 -0.546570\n",
       "6  1.545636 -1.135611 -0.546570\n",
       "7  0.490524 -0.036811 -0.546570\n",
       "8 -0.525158  0.243318 -2.450174"
      ]
     },
     "execution_count": 83,
     "metadata": {},
     "output_type": "execute_result"
    }
   ],
   "source": [
    "dff.fillna(dff.mean())"
   ]
  },
  {
   "cell_type": "code",
   "execution_count": 87,
   "id": "d98172f4-1148-4efe-bf14-55d7e5de772a",
   "metadata": {},
   "outputs": [
    {
     "data": {
      "text/html": [
       "<div>\n",
       "<style scoped>\n",
       "    .dataframe tbody tr th:only-of-type {\n",
       "        vertical-align: middle;\n",
       "    }\n",
       "\n",
       "    .dataframe tbody tr th {\n",
       "        vertical-align: top;\n",
       "    }\n",
       "\n",
       "    .dataframe thead th {\n",
       "        text-align: right;\n",
       "    }\n",
       "</style>\n",
       "<table border=\"1\" class=\"dataframe\">\n",
       "  <thead>\n",
       "    <tr style=\"text-align: right;\">\n",
       "      <th></th>\n",
       "      <th>A</th>\n",
       "      <th>B</th>\n",
       "      <th>C</th>\n",
       "    </tr>\n",
       "  </thead>\n",
       "  <tbody>\n",
       "    <tr>\n",
       "      <th>0</th>\n",
       "      <td>1.047133</td>\n",
       "      <td>2.433613</td>\n",
       "      <td>-0.838456</td>\n",
       "    </tr>\n",
       "    <tr>\n",
       "      <th>1</th>\n",
       "      <td>1.054551</td>\n",
       "      <td>0.243732</td>\n",
       "      <td>-0.714219</td>\n",
       "    </tr>\n",
       "    <tr>\n",
       "      <th>2</th>\n",
       "      <td>0.327177</td>\n",
       "      <td>1.853743</td>\n",
       "      <td>-0.121818</td>\n",
       "    </tr>\n",
       "    <tr>\n",
       "      <th>3</th>\n",
       "      <td>NaN</td>\n",
       "      <td>-1.172736</td>\n",
       "      <td>-1.304318</td>\n",
       "    </tr>\n",
       "    <tr>\n",
       "      <th>4</th>\n",
       "      <td>NaN</td>\n",
       "      <td>0.347035</td>\n",
       "      <td>2.149567</td>\n",
       "    </tr>\n",
       "    <tr>\n",
       "      <th>5</th>\n",
       "      <td>-0.419368</td>\n",
       "      <td>0.347035</td>\n",
       "      <td>-0.546570</td>\n",
       "    </tr>\n",
       "    <tr>\n",
       "      <th>6</th>\n",
       "      <td>1.545636</td>\n",
       "      <td>-1.135611</td>\n",
       "      <td>-0.546570</td>\n",
       "    </tr>\n",
       "    <tr>\n",
       "      <th>7</th>\n",
       "      <td>0.490524</td>\n",
       "      <td>-0.036811</td>\n",
       "      <td>-0.546570</td>\n",
       "    </tr>\n",
       "    <tr>\n",
       "      <th>8</th>\n",
       "      <td>-0.525158</td>\n",
       "      <td>0.243318</td>\n",
       "      <td>-2.450174</td>\n",
       "    </tr>\n",
       "  </tbody>\n",
       "</table>\n",
       "</div>"
      ],
      "text/plain": [
       "          A         B         C\n",
       "0  1.047133  2.433613 -0.838456\n",
       "1  1.054551  0.243732 -0.714219\n",
       "2  0.327177  1.853743 -0.121818\n",
       "3       NaN -1.172736 -1.304318\n",
       "4       NaN  0.347035  2.149567\n",
       "5 -0.419368  0.347035 -0.546570\n",
       "6  1.545636 -1.135611 -0.546570\n",
       "7  0.490524 -0.036811 -0.546570\n",
       "8 -0.525158  0.243318 -2.450174"
      ]
     },
     "execution_count": 87,
     "metadata": {},
     "output_type": "execute_result"
    }
   ],
   "source": [
    "dff.fillna(dff.mean()['B': 'C'])"
   ]
  },
  {
   "cell_type": "code",
   "execution_count": 92,
   "id": "9bc9d668-a939-41f5-958d-5884ca7a9d2c",
   "metadata": {},
   "outputs": [
    {
     "data": {
      "text/html": [
       "<div>\n",
       "<style scoped>\n",
       "    .dataframe tbody tr th:only-of-type {\n",
       "        vertical-align: middle;\n",
       "    }\n",
       "\n",
       "    .dataframe tbody tr th {\n",
       "        vertical-align: top;\n",
       "    }\n",
       "\n",
       "    .dataframe thead th {\n",
       "        text-align: right;\n",
       "    }\n",
       "</style>\n",
       "<table border=\"1\" class=\"dataframe\">\n",
       "  <thead>\n",
       "    <tr style=\"text-align: right;\">\n",
       "      <th></th>\n",
       "      <th>B</th>\n",
       "      <th>C</th>\n",
       "    </tr>\n",
       "  </thead>\n",
       "  <tbody>\n",
       "    <tr>\n",
       "      <th>0</th>\n",
       "      <td>2.433613</td>\n",
       "      <td>-0.838456</td>\n",
       "    </tr>\n",
       "    <tr>\n",
       "      <th>1</th>\n",
       "      <td>0.243732</td>\n",
       "      <td>-0.714219</td>\n",
       "    </tr>\n",
       "    <tr>\n",
       "      <th>2</th>\n",
       "      <td>1.853743</td>\n",
       "      <td>-0.121818</td>\n",
       "    </tr>\n",
       "    <tr>\n",
       "      <th>3</th>\n",
       "      <td>-1.172736</td>\n",
       "      <td>-1.304318</td>\n",
       "    </tr>\n",
       "    <tr>\n",
       "      <th>4</th>\n",
       "      <td>0.347035</td>\n",
       "      <td>2.149567</td>\n",
       "    </tr>\n",
       "    <tr>\n",
       "      <th>5</th>\n",
       "      <td>0.347035</td>\n",
       "      <td>-0.546570</td>\n",
       "    </tr>\n",
       "    <tr>\n",
       "      <th>6</th>\n",
       "      <td>-1.135611</td>\n",
       "      <td>-0.546570</td>\n",
       "    </tr>\n",
       "    <tr>\n",
       "      <th>7</th>\n",
       "      <td>-0.036811</td>\n",
       "      <td>-0.546570</td>\n",
       "    </tr>\n",
       "    <tr>\n",
       "      <th>8</th>\n",
       "      <td>0.243318</td>\n",
       "      <td>-2.450174</td>\n",
       "    </tr>\n",
       "  </tbody>\n",
       "</table>\n",
       "</div>"
      ],
      "text/plain": [
       "          B         C\n",
       "0  2.433613 -0.838456\n",
       "1  0.243732 -0.714219\n",
       "2  1.853743 -0.121818\n",
       "3 -1.172736 -1.304318\n",
       "4  0.347035  2.149567\n",
       "5  0.347035 -0.546570\n",
       "6 -1.135611 -0.546570\n",
       "7 -0.036811 -0.546570\n",
       "8  0.243318 -2.450174"
      ]
     },
     "execution_count": 92,
     "metadata": {},
     "output_type": "execute_result"
    }
   ],
   "source": [
    "dff[['B','C']].fillna(dff.mean())"
   ]
  },
  {
   "cell_type": "code",
   "execution_count": 93,
   "id": "ee600f74-1055-4a2c-8e63-5e0fc6c3a3df",
   "metadata": {},
   "outputs": [
    {
     "data": {
      "text/html": [
       "<div>\n",
       "<style scoped>\n",
       "    .dataframe tbody tr th:only-of-type {\n",
       "        vertical-align: middle;\n",
       "    }\n",
       "\n",
       "    .dataframe tbody tr th {\n",
       "        vertical-align: top;\n",
       "    }\n",
       "\n",
       "    .dataframe thead th {\n",
       "        text-align: right;\n",
       "    }\n",
       "</style>\n",
       "<table border=\"1\" class=\"dataframe\">\n",
       "  <thead>\n",
       "    <tr style=\"text-align: right;\">\n",
       "      <th></th>\n",
       "      <th>A</th>\n",
       "      <th>B</th>\n",
       "      <th>C</th>\n",
       "    </tr>\n",
       "  </thead>\n",
       "  <tbody>\n",
       "    <tr>\n",
       "      <th>0</th>\n",
       "      <td>1.047133</td>\n",
       "      <td>2.433613</td>\n",
       "      <td>-0.838456</td>\n",
       "    </tr>\n",
       "    <tr>\n",
       "      <th>1</th>\n",
       "      <td>1.054551</td>\n",
       "      <td>0.243732</td>\n",
       "      <td>-0.714219</td>\n",
       "    </tr>\n",
       "    <tr>\n",
       "      <th>2</th>\n",
       "      <td>0.327177</td>\n",
       "      <td>1.853743</td>\n",
       "      <td>-0.121818</td>\n",
       "    </tr>\n",
       "    <tr>\n",
       "      <th>3</th>\n",
       "      <td>NaN</td>\n",
       "      <td>-1.172736</td>\n",
       "      <td>-1.304318</td>\n",
       "    </tr>\n",
       "    <tr>\n",
       "      <th>4</th>\n",
       "      <td>NaN</td>\n",
       "      <td>0.347035</td>\n",
       "      <td>2.149567</td>\n",
       "    </tr>\n",
       "    <tr>\n",
       "      <th>5</th>\n",
       "      <td>-0.419368</td>\n",
       "      <td>0.347035</td>\n",
       "      <td>-0.546570</td>\n",
       "    </tr>\n",
       "    <tr>\n",
       "      <th>6</th>\n",
       "      <td>1.545636</td>\n",
       "      <td>-1.135611</td>\n",
       "      <td>-0.546570</td>\n",
       "    </tr>\n",
       "    <tr>\n",
       "      <th>7</th>\n",
       "      <td>0.490524</td>\n",
       "      <td>-0.036811</td>\n",
       "      <td>-0.546570</td>\n",
       "    </tr>\n",
       "    <tr>\n",
       "      <th>8</th>\n",
       "      <td>-0.525158</td>\n",
       "      <td>0.243318</td>\n",
       "      <td>-2.450174</td>\n",
       "    </tr>\n",
       "  </tbody>\n",
       "</table>\n",
       "</div>"
      ],
      "text/plain": [
       "          A         B         C\n",
       "0  1.047133  2.433613 -0.838456\n",
       "1  1.054551  0.243732 -0.714219\n",
       "2  0.327177  1.853743 -0.121818\n",
       "3       NaN -1.172736 -1.304318\n",
       "4       NaN  0.347035  2.149567\n",
       "5 -0.419368  0.347035 -0.546570\n",
       "6  1.545636 -1.135611 -0.546570\n",
       "7  0.490524 -0.036811 -0.546570\n",
       "8 -0.525158  0.243318 -2.450174"
      ]
     },
     "execution_count": 93,
     "metadata": {},
     "output_type": "execute_result"
    }
   ],
   "source": [
    "dff.fillna(dff[['B','C']].mean())"
   ]
  },
  {
   "cell_type": "code",
   "execution_count": 95,
   "id": "51766ff1-7a3d-4ca7-b849-416418c03ba9",
   "metadata": {},
   "outputs": [
    {
     "data": {
      "text/html": [
       "<div>\n",
       "<style scoped>\n",
       "    .dataframe tbody tr th:only-of-type {\n",
       "        vertical-align: middle;\n",
       "    }\n",
       "\n",
       "    .dataframe tbody tr th {\n",
       "        vertical-align: top;\n",
       "    }\n",
       "\n",
       "    .dataframe thead th {\n",
       "        text-align: right;\n",
       "    }\n",
       "</style>\n",
       "<table border=\"1\" class=\"dataframe\">\n",
       "  <thead>\n",
       "    <tr style=\"text-align: right;\">\n",
       "      <th></th>\n",
       "      <th>A</th>\n",
       "      <th>B</th>\n",
       "      <th>C</th>\n",
       "    </tr>\n",
       "  </thead>\n",
       "  <tbody>\n",
       "    <tr>\n",
       "      <th>0</th>\n",
       "      <td>1.047133</td>\n",
       "      <td>2.433613</td>\n",
       "      <td>-0.838456</td>\n",
       "    </tr>\n",
       "    <tr>\n",
       "      <th>1</th>\n",
       "      <td>1.054551</td>\n",
       "      <td>0.243732</td>\n",
       "      <td>-0.714219</td>\n",
       "    </tr>\n",
       "    <tr>\n",
       "      <th>2</th>\n",
       "      <td>0.327177</td>\n",
       "      <td>1.853743</td>\n",
       "      <td>-0.121818</td>\n",
       "    </tr>\n",
       "    <tr>\n",
       "      <th>3</th>\n",
       "      <td>0.502928</td>\n",
       "      <td>-1.172736</td>\n",
       "      <td>-1.304318</td>\n",
       "    </tr>\n",
       "    <tr>\n",
       "      <th>4</th>\n",
       "      <td>0.502928</td>\n",
       "      <td>0.347035</td>\n",
       "      <td>2.149567</td>\n",
       "    </tr>\n",
       "    <tr>\n",
       "      <th>5</th>\n",
       "      <td>-0.419368</td>\n",
       "      <td>0.347035</td>\n",
       "      <td>-0.546570</td>\n",
       "    </tr>\n",
       "    <tr>\n",
       "      <th>6</th>\n",
       "      <td>1.545636</td>\n",
       "      <td>-1.135611</td>\n",
       "      <td>-0.546570</td>\n",
       "    </tr>\n",
       "    <tr>\n",
       "      <th>7</th>\n",
       "      <td>0.490524</td>\n",
       "      <td>-0.036811</td>\n",
       "      <td>-0.546570</td>\n",
       "    </tr>\n",
       "    <tr>\n",
       "      <th>8</th>\n",
       "      <td>-0.525158</td>\n",
       "      <td>0.243318</td>\n",
       "      <td>-2.450174</td>\n",
       "    </tr>\n",
       "  </tbody>\n",
       "</table>\n",
       "</div>"
      ],
      "text/plain": [
       "          A         B         C\n",
       "0  1.047133  2.433613 -0.838456\n",
       "1  1.054551  0.243732 -0.714219\n",
       "2  0.327177  1.853743 -0.121818\n",
       "3  0.502928 -1.172736 -1.304318\n",
       "4  0.502928  0.347035  2.149567\n",
       "5 -0.419368  0.347035 -0.546570\n",
       "6  1.545636 -1.135611 -0.546570\n",
       "7  0.490524 -0.036811 -0.546570\n",
       "8 -0.525158  0.243318 -2.450174"
      ]
     },
     "execution_count": 95,
     "metadata": {},
     "output_type": "execute_result"
    }
   ],
   "source": [
    "dff.where(pd.notna(dff), dff.mean(), axis=1)"
   ]
  },
  {
   "cell_type": "code",
   "execution_count": 101,
   "id": "ab2b3087-1bf5-4e8b-9ad1-4ba7f48adb47",
   "metadata": {},
   "outputs": [
    {
     "data": {
      "text/html": [
       "<div>\n",
       "<style scoped>\n",
       "    .dataframe tbody tr th:only-of-type {\n",
       "        vertical-align: middle;\n",
       "    }\n",
       "\n",
       "    .dataframe tbody tr th {\n",
       "        vertical-align: top;\n",
       "    }\n",
       "\n",
       "    .dataframe thead th {\n",
       "        text-align: right;\n",
       "    }\n",
       "</style>\n",
       "<table border=\"1\" class=\"dataframe\">\n",
       "  <thead>\n",
       "    <tr style=\"text-align: right;\">\n",
       "      <th></th>\n",
       "      <th>A</th>\n",
       "      <th>B</th>\n",
       "      <th>C</th>\n",
       "    </tr>\n",
       "  </thead>\n",
       "  <tbody>\n",
       "    <tr>\n",
       "      <th>0</th>\n",
       "      <td>1.047133</td>\n",
       "      <td>2.433613</td>\n",
       "      <td>-0.838456</td>\n",
       "    </tr>\n",
       "    <tr>\n",
       "      <th>1</th>\n",
       "      <td>1.054551</td>\n",
       "      <td>0.243732</td>\n",
       "      <td>-0.714219</td>\n",
       "    </tr>\n",
       "    <tr>\n",
       "      <th>2</th>\n",
       "      <td>0.327177</td>\n",
       "      <td>1.853743</td>\n",
       "      <td>-0.121818</td>\n",
       "    </tr>\n",
       "    <tr>\n",
       "      <th>3</th>\n",
       "      <td>NaN</td>\n",
       "      <td>-1.172736</td>\n",
       "      <td>-1.304318</td>\n",
       "    </tr>\n",
       "    <tr>\n",
       "      <th>4</th>\n",
       "      <td>NaN</td>\n",
       "      <td>NaN</td>\n",
       "      <td>2.149567</td>\n",
       "    </tr>\n",
       "    <tr>\n",
       "      <th>5</th>\n",
       "      <td>-0.419368</td>\n",
       "      <td>NaN</td>\n",
       "      <td>NaN</td>\n",
       "    </tr>\n",
       "    <tr>\n",
       "      <th>6</th>\n",
       "      <td>1.545636</td>\n",
       "      <td>-1.135611</td>\n",
       "      <td>NaN</td>\n",
       "    </tr>\n",
       "    <tr>\n",
       "      <th>7</th>\n",
       "      <td>0.490524</td>\n",
       "      <td>-0.036811</td>\n",
       "      <td>NaN</td>\n",
       "    </tr>\n",
       "    <tr>\n",
       "      <th>8</th>\n",
       "      <td>-0.525158</td>\n",
       "      <td>0.243318</td>\n",
       "      <td>-2.450174</td>\n",
       "    </tr>\n",
       "  </tbody>\n",
       "</table>\n",
       "</div>"
      ],
      "text/plain": [
       "          A         B         C\n",
       "0  1.047133  2.433613 -0.838456\n",
       "1  1.054551  0.243732 -0.714219\n",
       "2  0.327177  1.853743 -0.121818\n",
       "3       NaN -1.172736 -1.304318\n",
       "4       NaN       NaN  2.149567\n",
       "5 -0.419368       NaN       NaN\n",
       "6  1.545636 -1.135611       NaN\n",
       "7  0.490524 -0.036811       NaN\n",
       "8 -0.525158  0.243318 -2.450174"
      ]
     },
     "execution_count": 101,
     "metadata": {},
     "output_type": "execute_result"
    }
   ],
   "source": [
    "dff.where(pd.isna(dff.mean()), dff, axis=1)"
   ]
  },
  {
   "cell_type": "code",
   "execution_count": 102,
   "id": "d35e076c-535f-4658-8e1b-caecde488857",
   "metadata": {},
   "outputs": [
    {
     "data": {
      "text/html": [
       "<div>\n",
       "<style scoped>\n",
       "    .dataframe tbody tr th:only-of-type {\n",
       "        vertical-align: middle;\n",
       "    }\n",
       "\n",
       "    .dataframe tbody tr th {\n",
       "        vertical-align: top;\n",
       "    }\n",
       "\n",
       "    .dataframe thead th {\n",
       "        text-align: right;\n",
       "    }\n",
       "</style>\n",
       "<table border=\"1\" class=\"dataframe\">\n",
       "  <thead>\n",
       "    <tr style=\"text-align: right;\">\n",
       "      <th></th>\n",
       "      <th>one</th>\n",
       "      <th>two</th>\n",
       "      <th>three</th>\n",
       "    </tr>\n",
       "  </thead>\n",
       "  <tbody>\n",
       "    <tr>\n",
       "      <th>a</th>\n",
       "      <td>NaN</td>\n",
       "      <td>-1.408438</td>\n",
       "      <td>-0.606447</td>\n",
       "    </tr>\n",
       "    <tr>\n",
       "      <th>c</th>\n",
       "      <td>NaN</td>\n",
       "      <td>-0.674579</td>\n",
       "      <td>1.389479</td>\n",
       "    </tr>\n",
       "    <tr>\n",
       "      <th>e</th>\n",
       "      <td>NaN</td>\n",
       "      <td>0.075639</td>\n",
       "      <td>-0.967558</td>\n",
       "    </tr>\n",
       "    <tr>\n",
       "      <th>f</th>\n",
       "      <td>NaN</td>\n",
       "      <td>-2.129480</td>\n",
       "      <td>0.487498</td>\n",
       "    </tr>\n",
       "    <tr>\n",
       "      <th>h</th>\n",
       "      <td>NaN</td>\n",
       "      <td>-2.424977</td>\n",
       "      <td>0.239820</td>\n",
       "    </tr>\n",
       "  </tbody>\n",
       "</table>\n",
       "</div>"
      ],
      "text/plain": [
       "   one       two     three\n",
       "a  NaN -1.408438 -0.606447\n",
       "c  NaN -0.674579  1.389479\n",
       "e  NaN  0.075639 -0.967558\n",
       "f  NaN -2.129480  0.487498\n",
       "h  NaN -2.424977  0.239820"
      ]
     },
     "execution_count": 102,
     "metadata": {},
     "output_type": "execute_result"
    }
   ],
   "source": [
    "df = pd.DataFrame(np.random.randn(5,3), index=list('acefh'), columns=['one', 'two', 'three'])\n",
    "df['one'] = np.nan\n",
    "df"
   ]
  },
  {
   "cell_type": "code",
   "execution_count": 114,
   "id": "49321292-c480-4891-89a4-7ed85cafbe5f",
   "metadata": {},
   "outputs": [
    {
     "ename": "AttributeError",
     "evalue": "'DatetimeIndex' object has no attribute 'head'",
     "output_type": "error",
     "traceback": [
      "\u001b[1;31m---------------------------------------------------------------------------\u001b[0m",
      "\u001b[1;31mAttributeError\u001b[0m                            Traceback (most recent call last)",
      "\u001b[1;32mC:\\Users\\THANHP~1\\AppData\\Local\\Temp/ipykernel_2168/3773917093.py\u001b[0m in \u001b[0;36m<module>\u001b[1;34m\u001b[0m\n\u001b[0;32m      1\u001b[0m \u001b[0mindex\u001b[0m \u001b[1;33m=\u001b[0m \u001b[0mpd\u001b[0m\u001b[1;33m.\u001b[0m\u001b[0mdate_range\u001b[0m\u001b[1;33m(\u001b[0m\u001b[1;34m'1/1/2000'\u001b[0m\u001b[1;33m,\u001b[0m \u001b[1;34m'5/1/2008'\u001b[0m\u001b[1;33m,\u001b[0m \u001b[0mfreq\u001b[0m\u001b[1;33m=\u001b[0m\u001b[1;34m'M'\u001b[0m\u001b[1;33m)\u001b[0m\u001b[1;33m\u001b[0m\u001b[1;33m\u001b[0m\u001b[0m\n\u001b[1;32m----> 2\u001b[1;33m \u001b[0mindex\u001b[0m\u001b[1;33m.\u001b[0m\u001b[0mhead\u001b[0m\u001b[1;33m(\u001b[0m\u001b[1;33m)\u001b[0m\u001b[1;33m\u001b[0m\u001b[1;33m\u001b[0m\u001b[0m\n\u001b[0m",
      "\u001b[1;31mAttributeError\u001b[0m: 'DatetimeIndex' object has no attribute 'head'"
     ]
    }
   ],
   "source": [
    "index = pd.date_range('1/1/2000', '5/1/2008', freq='M')\n",
    "# index"
   ]
  },
  {
   "cell_type": "code",
   "execution_count": 115,
   "id": "205e6abb-8985-426f-9277-957dd4101c10",
   "metadata": {},
   "outputs": [],
   "source": [
    "ts = pd.DataFrame({'col1': np.random.randn(len(index))}, index=index)"
   ]
  },
  {
   "cell_type": "code",
   "execution_count": 122,
   "id": "9bc4a170-dcad-44f0-bce8-f588916c5a4f",
   "metadata": {},
   "outputs": [],
   "source": [
    "ts.loc['2001-06':'2002-03'] = np.nan"
   ]
  },
  {
   "cell_type": "code",
   "execution_count": 123,
   "id": "b36f095e-8e84-45bc-b648-7c318474ed63",
   "metadata": {},
   "outputs": [],
   "source": [
    "ts.loc['2004-09':'2006-06'] = np.nan"
   ]
  },
  {
   "cell_type": "code",
   "execution_count": 125,
   "id": "6dc96fc2-af32-4505-98b4-4cb1604da595",
   "metadata": {},
   "outputs": [
    {
     "data": {
      "text/plain": [
       "col1    68\n",
       "dtype: int64"
      ]
     },
     "execution_count": 125,
     "metadata": {},
     "output_type": "execute_result"
    }
   ],
   "source": [
    "ts.count()"
   ]
  },
  {
   "cell_type": "code",
   "execution_count": 126,
   "id": "a7f98dba-7a6c-498e-8482-6822a60050e8",
   "metadata": {},
   "outputs": [
    {
     "data": {
      "text/plain": [
       "<AxesSubplot:>"
      ]
     },
     "execution_count": 126,
     "metadata": {},
     "output_type": "execute_result"
    },
    {
     "data": {
      "image/png": "[encoded data removed]",
      "text/plain": [
       "<Figure size 432x288 with 1 Axes>"
      ]
     },
     "metadata": {
      "needs_background": "light"
     },
     "output_type": "display_data"
    }
   ],
   "source": [
    "ts.plot()"
   ]
  },
  {
   "cell_type": "code",
   "execution_count": 127,
   "id": "bf548d9f-a3f6-414f-986e-c70d557bf329",
   "metadata": {},
   "outputs": [],
   "source": [
    "ts2 = ts.loc[['2000-01-31', '2000-02-29', '2002-07-31', '2005-01-31', '2008-04-30'], :]"
   ]
  },
  {
   "cell_type": "code",
   "execution_count": 135,
   "id": "250f130e-b3ee-4fa4-a34d-34a5ef59f078",
   "metadata": {},
   "outputs": [],
   "source": [
    "ts2[['2000-02-29', '2005-01-31']] = np.nan"
   ]
  },
  {
   "cell_type": "code",
   "execution_count": 142,
   "id": "7b8b71d9-d971-47e5-ab48-b9c9f5bfff82",
   "metadata": {},
   "outputs": [
    {
     "data": {
      "text/html": [
       "<div>\n",
       "<style scoped>\n",
       "    .dataframe tbody tr th:only-of-type {\n",
       "        vertical-align: middle;\n",
       "    }\n",
       "\n",
       "    .dataframe tbody tr th {\n",
       "        vertical-align: top;\n",
       "    }\n",
       "\n",
       "    .dataframe thead th {\n",
       "        text-align: right;\n",
       "    }\n",
       "</style>\n",
       "<table border=\"1\" class=\"dataframe\">\n",
       "  <thead>\n",
       "    <tr style=\"text-align: right;\">\n",
       "      <th></th>\n",
       "      <th>col1</th>\n",
       "    </tr>\n",
       "  </thead>\n",
       "  <tbody>\n",
       "    <tr>\n",
       "      <th>2000-01-31</th>\n",
       "      <td>-0.690267</td>\n",
       "    </tr>\n",
       "    <tr>\n",
       "      <th>2000-02-29</th>\n",
       "      <td>NaN</td>\n",
       "    </tr>\n",
       "    <tr>\n",
       "      <th>2002-07-31</th>\n",
       "      <td>-0.640096</td>\n",
       "    </tr>\n",
       "    <tr>\n",
       "      <th>2005-01-31</th>\n",
       "      <td>NaN</td>\n",
       "    </tr>\n",
       "    <tr>\n",
       "      <th>2008-04-30</th>\n",
       "      <td>-0.381589</td>\n",
       "    </tr>\n",
       "  </tbody>\n",
       "</table>\n",
       "</div>"
      ],
      "text/plain": [
       "                col1\n",
       "2000-01-31 -0.690267\n",
       "2000-02-29       NaN\n",
       "2002-07-31 -0.640096\n",
       "2005-01-31       NaN\n",
       "2008-04-30 -0.381589"
      ]
     },
     "execution_count": 142,
     "metadata": {},
     "output_type": "execute_result"
    }
   ],
   "source": [
    "ts2"
   ]
  },
  {
   "cell_type": "code",
   "execution_count": 1,
   "id": "0f4fe282-e6d8-4e10-9e64-c6d53955d8be",
   "metadata": {},
   "outputs": [],
   "source": [
    "import numpy as np\n",
    "import pandas as pd\n",
    "import scipy"
   ]
  },
  {
   "cell_type": "code",
   "execution_count": 3,
   "id": "8310def1-a277-464b-9405-020cb22bfaca",
   "metadata": {},
   "outputs": [],
   "source": [
    "np.random.seed(2)\n",
    "ser = pd.Series(np.arange(1, 10.1, 0.25) ** 2 + np.random.randn(37))\n",
    "missing = np.array([4, 13, 14, 15, 16, 17, 18, 19, 20, 29])"
   ]
  },
  {
   "cell_type": "code",
   "execution_count": 7,
   "id": "2291fb18-8612-4f7a-8ffb-5cefe3524e88",
   "metadata": {},
   "outputs": [
    {
     "data": {
      "text/plain": [
       "<AxesSubplot:>"
      ]
     },
     "execution_count": 7,
     "metadata": {},
     "output_type": "execute_result"
    },
    {
     "data": {
      "image/png": "[encoded data removed]",
      "text/plain": [
       "<Figure size 432x288 with 1 Axes>"
      ]
     },
     "metadata": {
      "needs_background": "light"
     },
     "output_type": "display_data"
    }
   ],
   "source": [
    "ser[missing] = np.nan\n",
    "methods = ['linear', 'quadratic', 'cubic']\n",
    "df = pd.DataFrame({m: ser.interpolate(method=m) for m in methods})\n",
    "df.plot()"
   ]
  },
  {
   "cell_type": "code",
   "execution_count": 8,
   "id": "5d8bb336-e82a-4f16-8c5d-b34c5b2ac3f2",
   "metadata": {},
   "outputs": [
    {
     "data": {
      "text/plain": [
       "49.00    0.471410\n",
       "49.25    0.476841\n",
       "49.50    0.481780\n",
       "49.75    0.485998\n",
       "50.00    0.489266\n",
       "50.25    0.491814\n",
       "50.50    0.493995\n",
       "50.75    0.495763\n",
       "51.00    0.497074\n",
       "dtype: float64"
      ]
     },
     "execution_count": 8,
     "metadata": {},
     "output_type": "execute_result"
    }
   ],
   "source": [
    "ser = pd.Series(np.sort(np.random.uniform(size=100)))\n",
    "new_index = ser.index.union(pd.Index([49.25, 49.5, 49.75, 50.25, 50.5, 50.75]))\n",
    "interp_s = ser.reindex(new_index).interpolate(method='pchip')\n",
    "interp_s[49:51]"
   ]
  },
  {
   "cell_type": "code",
   "execution_count": 9,
   "id": "44833d43-84be-4a5a-85ed-bf35935e9d7c",
   "metadata": {},
   "outputs": [],
   "source": [
    "ser = pd.Series([np.nan, np.nan, 5, np.nan, np.nan, np.nan, 13, np.nan, np.nan])"
   ]
  },
  {
   "cell_type": "code",
   "execution_count": 10,
   "id": "44237991-d4e8-42a9-bd04-8f4a18f9df76",
   "metadata": {},
   "outputs": [
    {
     "data": {
      "text/plain": [
       "0     NaN\n",
       "1     NaN\n",
       "2     5.0\n",
       "3     7.0\n",
       "4     9.0\n",
       "5    11.0\n",
       "6    13.0\n",
       "7    13.0\n",
       "8    13.0\n",
       "dtype: float64"
      ]
     },
     "execution_count": 10,
     "metadata": {},
     "output_type": "execute_result"
    }
   ],
   "source": [
    "ser.interpolate()"
   ]
  },
  {
   "cell_type": "code",
   "execution_count": 3,
   "id": "09b790aa-5d27-46ad-b0bf-ab24e00683be",
   "metadata": {},
   "outputs": [],
   "source": [
    "ser = pd.Series([0.0, 1.0, 2.0, 3.0, 4.0])\n",
    "df = pd.DataFrame({'a': [0,1,2,3,4], 'b': [5,6,7,8,9]})"
   ]
  },
  {
   "cell_type": "code",
   "execution_count": 11,
   "id": "3d736899-12b2-43f0-badf-7b7191e71cbe",
   "metadata": {},
   "outputs": [
    {
     "data": {
      "text/plain": [
       "0    1.0\n",
       "1    1.0\n",
       "2    2.0\n",
       "3    4.0\n",
       "4    4.0\n",
       "dtype: float64"
      ]
     },
     "execution_count": 11,
     "metadata": {},
     "output_type": "execute_result"
    }
   ],
   "source": [
    "# ser.replace(0,5)\n",
    "# ser.replace([0,1,2,3,4], [4,3,2,1,0])\n",
    "# ser.replace({0: 10, 4:100})\n",
    "ser.replace([0,3], method='bfill')"
   ]
  },
  {
   "cell_type": "code",
   "execution_count": 7,
   "id": "5b7c631e-f097-4276-a269-790799b1b717",
   "metadata": {},
   "outputs": [
    {
     "data": {
      "text/html": [
       "<div>\n",
       "<style scoped>\n",
       "    .dataframe tbody tr th:only-of-type {\n",
       "        vertical-align: middle;\n",
       "    }\n",
       "\n",
       "    .dataframe tbody tr th {\n",
       "        vertical-align: top;\n",
       "    }\n",
       "\n",
       "    .dataframe thead th {\n",
       "        text-align: right;\n",
       "    }\n",
       "</style>\n",
       "<table border=\"1\" class=\"dataframe\">\n",
       "  <thead>\n",
       "    <tr style=\"text-align: right;\">\n",
       "      <th></th>\n",
       "      <th>a</th>\n",
       "      <th>b</th>\n",
       "    </tr>\n",
       "  </thead>\n",
       "  <tbody>\n",
       "    <tr>\n",
       "      <th>0</th>\n",
       "      <td>100</td>\n",
       "      <td>100</td>\n",
       "    </tr>\n",
       "    <tr>\n",
       "      <th>1</th>\n",
       "      <td>1</td>\n",
       "      <td>6</td>\n",
       "    </tr>\n",
       "    <tr>\n",
       "      <th>2</th>\n",
       "      <td>2</td>\n",
       "      <td>7</td>\n",
       "    </tr>\n",
       "    <tr>\n",
       "      <th>3</th>\n",
       "      <td>3</td>\n",
       "      <td>8</td>\n",
       "    </tr>\n",
       "    <tr>\n",
       "      <th>4</th>\n",
       "      <td>4</td>\n",
       "      <td>9</td>\n",
       "    </tr>\n",
       "  </tbody>\n",
       "</table>\n",
       "</div>"
      ],
      "text/plain": [
       "     a    b\n",
       "0  100  100\n",
       "1    1    6\n",
       "2    2    7\n",
       "3    3    8\n",
       "4    4    9"
      ]
     },
     "execution_count": 7,
     "metadata": {},
     "output_type": "execute_result"
    }
   ],
   "source": [
    "df.replace({'a': 0, 'b': 5}, 100)"
   ]
  },
  {
   "cell_type": "code",
   "execution_count": 13,
   "id": "11e32903-ac16-44e4-b791-468e27919f9e",
   "metadata": {},
   "outputs": [
    {
     "data": {
      "text/html": [
       "<div>\n",
       "<style scoped>\n",
       "    .dataframe tbody tr th:only-of-type {\n",
       "        vertical-align: middle;\n",
       "    }\n",
       "\n",
       "    .dataframe tbody tr th {\n",
       "        vertical-align: top;\n",
       "    }\n",
       "\n",
       "    .dataframe thead th {\n",
       "        text-align: right;\n",
       "    }\n",
       "</style>\n",
       "<table border=\"1\" class=\"dataframe\">\n",
       "  <thead>\n",
       "    <tr style=\"text-align: right;\">\n",
       "      <th></th>\n",
       "      <th>a</th>\n",
       "      <th>b</th>\n",
       "      <th>c</th>\n",
       "    </tr>\n",
       "  </thead>\n",
       "  <tbody>\n",
       "    <tr>\n",
       "      <th>0</th>\n",
       "      <td>0</td>\n",
       "      <td>a</td>\n",
       "      <td>a</td>\n",
       "    </tr>\n",
       "    <tr>\n",
       "      <th>1</th>\n",
       "      <td>1</td>\n",
       "      <td>b</td>\n",
       "      <td>b</td>\n",
       "    </tr>\n",
       "    <tr>\n",
       "      <th>2</th>\n",
       "      <td>2</td>\n",
       "      <td>.</td>\n",
       "      <td>NaN</td>\n",
       "    </tr>\n",
       "    <tr>\n",
       "      <th>3</th>\n",
       "      <td>3</td>\n",
       "      <td>.</td>\n",
       "      <td>d</td>\n",
       "    </tr>\n",
       "  </tbody>\n",
       "</table>\n",
       "</div>"
      ],
      "text/plain": [
       "   a  b    c\n",
       "0  0  a    a\n",
       "1  1  b    b\n",
       "2  2  .  NaN\n",
       "3  3  .    d"
      ]
     },
     "execution_count": 13,
     "metadata": {},
     "output_type": "execute_result"
    }
   ],
   "source": [
    "d = {'a': list(range(4)), 'b': list('ab..'), 'c': ['a', 'b', np.nan, 'd']}\n",
    "df = pd.DataFrame(d)\n",
    "df"
   ]
  },
  {
   "cell_type": "code",
   "execution_count": 20,
   "id": "75bcad12-2c83-42e8-a004-cf98eaf796e0",
   "metadata": {},
   "outputs": [
    {
     "data": {
      "text/html": [
       "<div>\n",
       "<style scoped>\n",
       "    .dataframe tbody tr th:only-of-type {\n",
       "        vertical-align: middle;\n",
       "    }\n",
       "\n",
       "    .dataframe tbody tr th {\n",
       "        vertical-align: top;\n",
       "    }\n",
       "\n",
       "    .dataframe thead th {\n",
       "        text-align: right;\n",
       "    }\n",
       "</style>\n",
       "<table border=\"1\" class=\"dataframe\">\n",
       "  <thead>\n",
       "    <tr style=\"text-align: right;\">\n",
       "      <th></th>\n",
       "      <th>a</th>\n",
       "      <th>b</th>\n",
       "      <th>c</th>\n",
       "    </tr>\n",
       "  </thead>\n",
       "  <tbody>\n",
       "    <tr>\n",
       "      <th>0</th>\n",
       "      <td>0</td>\n",
       "      <td>a</td>\n",
       "      <td>a</td>\n",
       "    </tr>\n",
       "    <tr>\n",
       "      <th>1</th>\n",
       "      <td>1</td>\n",
       "      <td></td>\n",
       "      <td>b</td>\n",
       "    </tr>\n",
       "    <tr>\n",
       "      <th>2</th>\n",
       "      <td>2</td>\n",
       "      <td>.</td>\n",
       "      <td>NaN</td>\n",
       "    </tr>\n",
       "    <tr>\n",
       "      <th>3</th>\n",
       "      <td>3</td>\n",
       "      <td>.</td>\n",
       "      <td>d</td>\n",
       "    </tr>\n",
       "  </tbody>\n",
       "</table>\n",
       "</div>"
      ],
      "text/plain": [
       "   a  b    c\n",
       "0  0  a    a\n",
       "1  1       b\n",
       "2  2  .  NaN\n",
       "3  3  .    d"
      ]
     },
     "execution_count": 20,
     "metadata": {},
     "output_type": "execute_result"
    }
   ],
   "source": [
    "# df.replace('.', np.nan)\n",
    "# df.replace(['a', '.'], ['b', np.nan])\n",
    "# df.replace([r'\\.', r'(a)'], ['dot', r'\\1stuff'], regex=True)\n",
    "# df.replace({'b': '.'}, {'b': np.nan}, regex=True)\n",
    "# df.replace({'b': '.'}, np.nan, regex=True)\n",
    "df.replace({'b': {'b': r\"\"}}, regex=True)"
   ]
  },
  {
   "cell_type": "code",
   "execution_count": 22,
   "id": "33a2496a-78ee-4d99-a193-a280ac4cdc35",
   "metadata": {},
   "outputs": [],
   "source": [
    "df1 = df.copy()\n",
    "df1.loc[3,'b'] = '..'"
   ]
  },
  {
   "cell_type": "code",
   "execution_count": 23,
   "id": "82f55a3b-7efc-48ba-8f9f-5dfc334b5d35",
   "metadata": {},
   "outputs": [
    {
     "data": {
      "text/html": [
       "<div>\n",
       "<style scoped>\n",
       "    .dataframe tbody tr th:only-of-type {\n",
       "        vertical-align: middle;\n",
       "    }\n",
       "\n",
       "    .dataframe tbody tr th {\n",
       "        vertical-align: top;\n",
       "    }\n",
       "\n",
       "    .dataframe thead th {\n",
       "        text-align: right;\n",
       "    }\n",
       "</style>\n",
       "<table border=\"1\" class=\"dataframe\">\n",
       "  <thead>\n",
       "    <tr style=\"text-align: right;\">\n",
       "      <th></th>\n",
       "      <th>a</th>\n",
       "      <th>b</th>\n",
       "      <th>c</th>\n",
       "    </tr>\n",
       "  </thead>\n",
       "  <tbody>\n",
       "    <tr>\n",
       "      <th>0</th>\n",
       "      <td>0</td>\n",
       "      <td>a</td>\n",
       "      <td>a</td>\n",
       "    </tr>\n",
       "    <tr>\n",
       "      <th>1</th>\n",
       "      <td>1</td>\n",
       "      <td>b</td>\n",
       "      <td>b</td>\n",
       "    </tr>\n",
       "    <tr>\n",
       "      <th>2</th>\n",
       "      <td>2</td>\n",
       "      <td>.</td>\n",
       "      <td>NaN</td>\n",
       "    </tr>\n",
       "    <tr>\n",
       "      <th>3</th>\n",
       "      <td>3</td>\n",
       "      <td>..</td>\n",
       "      <td>d</td>\n",
       "    </tr>\n",
       "  </tbody>\n",
       "</table>\n",
       "</div>"
      ],
      "text/plain": [
       "   a   b    c\n",
       "0  0   a    a\n",
       "1  1   b    b\n",
       "2  2   .  NaN\n",
       "3  3  ..    d"
      ]
     },
     "execution_count": 23,
     "metadata": {},
     "output_type": "execute_result"
    }
   ],
   "source": [
    "df1"
   ]
  },
  {
   "cell_type": "code",
   "execution_count": 27,
   "id": "e9088fdc-2e7a-4876-a0e4-2ef9e22be5c0",
   "metadata": {},
   "outputs": [
    {
     "data": {
      "text/html": [
       "<div>\n",
       "<style scoped>\n",
       "    .dataframe tbody tr th:only-of-type {\n",
       "        vertical-align: middle;\n",
       "    }\n",
       "\n",
       "    .dataframe tbody tr th {\n",
       "        vertical-align: top;\n",
       "    }\n",
       "\n",
       "    .dataframe thead th {\n",
       "        text-align: right;\n",
       "    }\n",
       "</style>\n",
       "<table border=\"1\" class=\"dataframe\">\n",
       "  <thead>\n",
       "    <tr style=\"text-align: right;\">\n",
       "      <th></th>\n",
       "      <th>a</th>\n",
       "      <th>b</th>\n",
       "      <th>c</th>\n",
       "    </tr>\n",
       "  </thead>\n",
       "  <tbody>\n",
       "    <tr>\n",
       "      <th>0</th>\n",
       "      <td>0</td>\n",
       "      <td>NaN</td>\n",
       "      <td>NaN</td>\n",
       "    </tr>\n",
       "    <tr>\n",
       "      <th>1</th>\n",
       "      <td>1</td>\n",
       "      <td>NaN</td>\n",
       "      <td>NaN</td>\n",
       "    </tr>\n",
       "    <tr>\n",
       "      <th>2</th>\n",
       "      <td>2</td>\n",
       "      <td>NaN</td>\n",
       "      <td>NaN</td>\n",
       "    </tr>\n",
       "    <tr>\n",
       "      <th>3</th>\n",
       "      <td>3</td>\n",
       "      <td>NaN</td>\n",
       "      <td>d</td>\n",
       "    </tr>\n",
       "  </tbody>\n",
       "</table>\n",
       "</div>"
      ],
      "text/plain": [
       "   a   b    c\n",
       "0  0 NaN  NaN\n",
       "1  1 NaN  NaN\n",
       "2  2 NaN  NaN\n",
       "3  3 NaN    d"
      ]
     },
     "execution_count": 27,
     "metadata": {},
     "output_type": "execute_result"
    }
   ],
   "source": [
    "# df1.replace({'b': r's*(\\.)\\s*'}, {'b': r'\\1ty'}, regex=True)\n",
    "# df1.replace({'b': r's*(\\.)\\s*'}, r'\\1ty', regex=True)\n",
    "df1.replace([r'\\s*\\.\\s*', r'a|b'], np.nan, regex=True)"
   ]
  },
  {
   "cell_type": "code",
   "execution_count": 33,
   "id": "60d9e514-9e56-4908-b109-80937b494a24",
   "metadata": {},
   "outputs": [
    {
     "data": {
      "text/html": [
       "<div>\n",
       "<style scoped>\n",
       "    .dataframe tbody tr th:only-of-type {\n",
       "        vertical-align: middle;\n",
       "    }\n",
       "\n",
       "    .dataframe tbody tr th {\n",
       "        vertical-align: top;\n",
       "    }\n",
       "\n",
       "    .dataframe thead th {\n",
       "        text-align: right;\n",
       "    }\n",
       "</style>\n",
       "<table border=\"1\" class=\"dataframe\">\n",
       "  <thead>\n",
       "    <tr style=\"text-align: right;\">\n",
       "      <th></th>\n",
       "      <th>0</th>\n",
       "      <th>1</th>\n",
       "    </tr>\n",
       "  </thead>\n",
       "  <tbody>\n",
       "    <tr>\n",
       "      <th>0</th>\n",
       "      <td>0.506318</td>\n",
       "      <td>-1.193029</td>\n",
       "    </tr>\n",
       "    <tr>\n",
       "      <th>1</th>\n",
       "      <td>1.340643</td>\n",
       "      <td>0.157571</td>\n",
       "    </tr>\n",
       "    <tr>\n",
       "      <th>2</th>\n",
       "      <td>1.699188</td>\n",
       "      <td>0.207562</td>\n",
       "    </tr>\n",
       "    <tr>\n",
       "      <th>3</th>\n",
       "      <td>-0.356828</td>\n",
       "      <td>0.998099</td>\n",
       "    </tr>\n",
       "    <tr>\n",
       "      <th>4</th>\n",
       "      <td>0.711465</td>\n",
       "      <td>0.124543</td>\n",
       "    </tr>\n",
       "    <tr>\n",
       "      <th>5</th>\n",
       "      <td>0.386188</td>\n",
       "      <td>-0.893965</td>\n",
       "    </tr>\n",
       "    <tr>\n",
       "      <th>6</th>\n",
       "      <td>2.449946</td>\n",
       "      <td>0.784959</td>\n",
       "    </tr>\n",
       "    <tr>\n",
       "      <th>7</th>\n",
       "      <td>1.417699</td>\n",
       "      <td>1.012879</td>\n",
       "    </tr>\n",
       "    <tr>\n",
       "      <th>8</th>\n",
       "      <td>0.629571</td>\n",
       "      <td>2.586156</td>\n",
       "    </tr>\n",
       "    <tr>\n",
       "      <th>9</th>\n",
       "      <td>-0.496676</td>\n",
       "      <td>0.224611</td>\n",
       "    </tr>\n",
       "  </tbody>\n",
       "</table>\n",
       "</div>"
      ],
      "text/plain": [
       "          0         1\n",
       "0  0.506318 -1.193029\n",
       "1  1.340643  0.157571\n",
       "2  1.699188  0.207562\n",
       "3 -0.356828  0.998099\n",
       "4  0.711465  0.124543\n",
       "5  0.386188 -0.893965\n",
       "6  2.449946  0.784959\n",
       "7  1.417699  1.012879\n",
       "8  0.629571  2.586156\n",
       "9 -0.496676  0.224611"
      ]
     },
     "execution_count": 33,
     "metadata": {},
     "output_type": "execute_result"
    }
   ],
   "source": [
    "df = pd.DataFrame(np.random.randn(10,2))\n",
    "df\n",
    "# df[np.random.randn(df.shape[0]) > 0.5] = 1.5"
   ]
  },
  {
   "cell_type": "code",
   "execution_count": 38,
   "id": "85b2b6af-e28e-44cd-9595-518ee69e46bb",
   "metadata": {},
   "outputs": [
    {
     "data": {
      "text/plain": [
       "array([-2.39849528, -0.39830116, -0.65609406, -0.64357652, -0.46818969,\n",
       "        1.24953821,  0.24256265, -0.42308917, -0.3991899 , -0.45902994])"
      ]
     },
     "execution_count": 38,
     "metadata": {},
     "output_type": "execute_result"
    }
   ],
   "source": [
    "t = np.random.randn(df.shape[0])\n",
    "t"
   ]
  },
  {
   "cell_type": "code",
   "execution_count": 40,
   "id": "64952a30-1f9e-4142-8d70-1aab25cc4416",
   "metadata": {},
   "outputs": [
    {
     "data": {
      "text/html": [
       "<div>\n",
       "<style scoped>\n",
       "    .dataframe tbody tr th:only-of-type {\n",
       "        vertical-align: middle;\n",
       "    }\n",
       "\n",
       "    .dataframe tbody tr th {\n",
       "        vertical-align: top;\n",
       "    }\n",
       "\n",
       "    .dataframe thead th {\n",
       "        text-align: right;\n",
       "    }\n",
       "</style>\n",
       "<table border=\"1\" class=\"dataframe\">\n",
       "  <thead>\n",
       "    <tr style=\"text-align: right;\">\n",
       "      <th></th>\n",
       "      <th>0</th>\n",
       "      <th>1</th>\n",
       "    </tr>\n",
       "  </thead>\n",
       "  <tbody>\n",
       "    <tr>\n",
       "      <th>0</th>\n",
       "      <td>0.506318</td>\n",
       "      <td>-1.193029</td>\n",
       "    </tr>\n",
       "    <tr>\n",
       "      <th>1</th>\n",
       "      <td>1.340643</td>\n",
       "      <td>0.157571</td>\n",
       "    </tr>\n",
       "    <tr>\n",
       "      <th>2</th>\n",
       "      <td>1.699188</td>\n",
       "      <td>0.207562</td>\n",
       "    </tr>\n",
       "    <tr>\n",
       "      <th>3</th>\n",
       "      <td>-0.356828</td>\n",
       "      <td>0.998099</td>\n",
       "    </tr>\n",
       "    <tr>\n",
       "      <th>4</th>\n",
       "      <td>0.711465</td>\n",
       "      <td>0.124543</td>\n",
       "    </tr>\n",
       "    <tr>\n",
       "      <th>5</th>\n",
       "      <td>1.500000</td>\n",
       "      <td>1.500000</td>\n",
       "    </tr>\n",
       "    <tr>\n",
       "      <th>6</th>\n",
       "      <td>2.449946</td>\n",
       "      <td>0.784959</td>\n",
       "    </tr>\n",
       "    <tr>\n",
       "      <th>7</th>\n",
       "      <td>1.417699</td>\n",
       "      <td>1.012879</td>\n",
       "    </tr>\n",
       "    <tr>\n",
       "      <th>8</th>\n",
       "      <td>0.629571</td>\n",
       "      <td>2.586156</td>\n",
       "    </tr>\n",
       "    <tr>\n",
       "      <th>9</th>\n",
       "      <td>-0.496676</td>\n",
       "      <td>0.224611</td>\n",
       "    </tr>\n",
       "  </tbody>\n",
       "</table>\n",
       "</div>"
      ],
      "text/plain": [
       "          0         1\n",
       "0  0.506318 -1.193029\n",
       "1  1.340643  0.157571\n",
       "2  1.699188  0.207562\n",
       "3 -0.356828  0.998099\n",
       "4  0.711465  0.124543\n",
       "5  1.500000  1.500000\n",
       "6  2.449946  0.784959\n",
       "7  1.417699  1.012879\n",
       "8  0.629571  2.586156\n",
       "9 -0.496676  0.224611"
      ]
     },
     "execution_count": 40,
     "metadata": {},
     "output_type": "execute_result"
    }
   ],
   "source": [
    "df[t >0.5] = 1.5\n",
    "df"
   ]
  },
  {
   "cell_type": "code",
   "execution_count": 41,
   "id": "b8375676-ee7a-45ee-b214-11c944a898c4",
   "metadata": {},
   "outputs": [
    {
     "data": {
      "text/html": [
       "<div>\n",
       "<style scoped>\n",
       "    .dataframe tbody tr th:only-of-type {\n",
       "        vertical-align: middle;\n",
       "    }\n",
       "\n",
       "    .dataframe tbody tr th {\n",
       "        vertical-align: top;\n",
       "    }\n",
       "\n",
       "    .dataframe thead th {\n",
       "        text-align: right;\n",
       "    }\n",
       "</style>\n",
       "<table border=\"1\" class=\"dataframe\">\n",
       "  <thead>\n",
       "    <tr style=\"text-align: right;\">\n",
       "      <th></th>\n",
       "      <th>0</th>\n",
       "      <th>1</th>\n",
       "    </tr>\n",
       "  </thead>\n",
       "  <tbody>\n",
       "    <tr>\n",
       "      <th>0</th>\n",
       "      <td>0.506318</td>\n",
       "      <td>-1.193029</td>\n",
       "    </tr>\n",
       "    <tr>\n",
       "      <th>1</th>\n",
       "      <td>1.340643</td>\n",
       "      <td>0.157571</td>\n",
       "    </tr>\n",
       "    <tr>\n",
       "      <th>2</th>\n",
       "      <td>1.699188</td>\n",
       "      <td>0.207562</td>\n",
       "    </tr>\n",
       "    <tr>\n",
       "      <th>3</th>\n",
       "      <td>-0.356828</td>\n",
       "      <td>0.998099</td>\n",
       "    </tr>\n",
       "    <tr>\n",
       "      <th>4</th>\n",
       "      <td>0.711465</td>\n",
       "      <td>0.124543</td>\n",
       "    </tr>\n",
       "    <tr>\n",
       "      <th>5</th>\n",
       "      <td>NaN</td>\n",
       "      <td>NaN</td>\n",
       "    </tr>\n",
       "    <tr>\n",
       "      <th>6</th>\n",
       "      <td>2.449946</td>\n",
       "      <td>0.784959</td>\n",
       "    </tr>\n",
       "    <tr>\n",
       "      <th>7</th>\n",
       "      <td>1.417699</td>\n",
       "      <td>1.012879</td>\n",
       "    </tr>\n",
       "    <tr>\n",
       "      <th>8</th>\n",
       "      <td>0.629571</td>\n",
       "      <td>2.586156</td>\n",
       "    </tr>\n",
       "    <tr>\n",
       "      <th>9</th>\n",
       "      <td>-0.496676</td>\n",
       "      <td>0.224611</td>\n",
       "    </tr>\n",
       "  </tbody>\n",
       "</table>\n",
       "</div>"
      ],
      "text/plain": [
       "          0         1\n",
       "0  0.506318 -1.193029\n",
       "1  1.340643  0.157571\n",
       "2  1.699188  0.207562\n",
       "3 -0.356828  0.998099\n",
       "4  0.711465  0.124543\n",
       "5       NaN       NaN\n",
       "6  2.449946  0.784959\n",
       "7  1.417699  1.012879\n",
       "8  0.629571  2.586156\n",
       "9 -0.496676  0.224611"
      ]
     },
     "execution_count": 41,
     "metadata": {},
     "output_type": "execute_result"
    }
   ],
   "source": [
    "df.replace(1.5, np.nan)"
   ]
  },
  {
   "cell_type": "code",
   "execution_count": 42,
   "id": "571802d5-3f69-4c34-a973-e5b2a76be029",
   "metadata": {},
   "outputs": [],
   "source": [
    "df00 = df.iloc[0, 0]"
   ]
  },
  {
   "cell_type": "code",
   "execution_count": 43,
   "id": "3d8bee61-0826-4f71-95c3-eda9ca3e7e4b",
   "metadata": {},
   "outputs": [
    {
     "data": {
      "text/html": [
       "<div>\n",
       "<style scoped>\n",
       "    .dataframe tbody tr th:only-of-type {\n",
       "        vertical-align: middle;\n",
       "    }\n",
       "\n",
       "    .dataframe tbody tr th {\n",
       "        vertical-align: top;\n",
       "    }\n",
       "\n",
       "    .dataframe thead th {\n",
       "        text-align: right;\n",
       "    }\n",
       "</style>\n",
       "<table border=\"1\" class=\"dataframe\">\n",
       "  <thead>\n",
       "    <tr style=\"text-align: right;\">\n",
       "      <th></th>\n",
       "      <th>0</th>\n",
       "      <th>1</th>\n",
       "    </tr>\n",
       "  </thead>\n",
       "  <tbody>\n",
       "    <tr>\n",
       "      <th>0</th>\n",
       "      <td>a</td>\n",
       "      <td>-1.193029</td>\n",
       "    </tr>\n",
       "    <tr>\n",
       "      <th>1</th>\n",
       "      <td>1.340643</td>\n",
       "      <td>0.157571</td>\n",
       "    </tr>\n",
       "    <tr>\n",
       "      <th>2</th>\n",
       "      <td>1.699188</td>\n",
       "      <td>0.207562</td>\n",
       "    </tr>\n",
       "    <tr>\n",
       "      <th>3</th>\n",
       "      <td>-0.356828</td>\n",
       "      <td>0.998099</td>\n",
       "    </tr>\n",
       "    <tr>\n",
       "      <th>4</th>\n",
       "      <td>0.711465</td>\n",
       "      <td>0.124543</td>\n",
       "    </tr>\n",
       "    <tr>\n",
       "      <th>5</th>\n",
       "      <td>NaN</td>\n",
       "      <td>NaN</td>\n",
       "    </tr>\n",
       "    <tr>\n",
       "      <th>6</th>\n",
       "      <td>2.449946</td>\n",
       "      <td>0.784959</td>\n",
       "    </tr>\n",
       "    <tr>\n",
       "      <th>7</th>\n",
       "      <td>1.417699</td>\n",
       "      <td>1.012879</td>\n",
       "    </tr>\n",
       "    <tr>\n",
       "      <th>8</th>\n",
       "      <td>0.629571</td>\n",
       "      <td>2.586156</td>\n",
       "    </tr>\n",
       "    <tr>\n",
       "      <th>9</th>\n",
       "      <td>-0.496676</td>\n",
       "      <td>0.224611</td>\n",
       "    </tr>\n",
       "  </tbody>\n",
       "</table>\n",
       "</div>"
      ],
      "text/plain": [
       "          0         1\n",
       "0         a -1.193029\n",
       "1  1.340643  0.157571\n",
       "2  1.699188  0.207562\n",
       "3 -0.356828  0.998099\n",
       "4  0.711465  0.124543\n",
       "5       NaN       NaN\n",
       "6  2.449946  0.784959\n",
       "7  1.417699  1.012879\n",
       "8  0.629571  2.586156\n",
       "9 -0.496676  0.224611"
      ]
     },
     "execution_count": 43,
     "metadata": {},
     "output_type": "execute_result"
    }
   ],
   "source": [
    "df.replace([1.5, df00], [np.nan, 'a'])"
   ]
  },
  {
   "cell_type": "code",
   "execution_count": 48,
   "id": "fb1ebef6-4c70-47a2-9cf5-1f88e1d70cc1",
   "metadata": {},
   "outputs": [],
   "source": [
    "table = pd.read_html('https://pandas.pydata.org/docs/user_guide/missing_data.html')"
   ]
  },
  {
   "cell_type": "code",
   "execution_count": 51,
   "id": "ff800fa9-adfe-439d-9694-d187c9b90330",
   "metadata": {},
   "outputs": [
    {
     "name": "stdout",
     "output_type": "stream",
     "text": [
      "<table border=\"1\" class=\"dataframe\">\n",
      "  <thead>\n",
      "    <tr style=\"text-align: right;\">\n",
      "      <th>data type</th>\n",
      "      <th>Cast to</th>\n",
      "    </tr>\n",
      "  </thead>\n",
      "  <tbody>\n",
      "    <tr>\n",
      "      <td>integer</td>\n",
      "      <td>float</td>\n",
      "    </tr>\n",
      "    <tr>\n",
      "      <td>boolean</td>\n",
      "      <td>object</td>\n",
      "    </tr>\n",
      "    <tr>\n",
      "      <td>float</td>\n",
      "      <td>no cast</td>\n",
      "    </tr>\n",
      "    <tr>\n",
      "      <td>object</td>\n",
      "      <td>no cast</td>\n",
      "    </tr>\n",
      "  </tbody>\n",
      "</table>\n"
     ]
    }
   ],
   "source": [
    "print(table[1].to_html(index=False))"
   ]
  },
  {
   "cell_type": "code",
   "execution_count": 53,
   "id": "67208d94-6b66-4f59-917d-ef755b7c16df",
   "metadata": {},
   "outputs": [
    {
     "data": {
      "text/html": [
       "<div>\n",
       "<style scoped>\n",
       "    .dataframe tbody tr th:only-of-type {\n",
       "        vertical-align: middle;\n",
       "    }\n",
       "\n",
       "    .dataframe tbody tr th {\n",
       "        vertical-align: top;\n",
       "    }\n",
       "\n",
       "    .dataframe thead th {\n",
       "        text-align: right;\n",
       "    }\n",
       "</style>\n",
       "<table border=\"1\" class=\"dataframe\">\n",
       "  <thead>\n",
       "    <tr style=\"text-align: right;\">\n",
       "      <th></th>\n",
       "      <th>A</th>\n",
       "    </tr>\n",
       "  </thead>\n",
       "  <tbody>\n",
       "    <tr>\n",
       "      <th>a</th>\n",
       "      <td>0</td>\n",
       "    </tr>\n",
       "    <tr>\n",
       "      <th>a</th>\n",
       "      <td>1</td>\n",
       "    </tr>\n",
       "    <tr>\n",
       "      <th>b</th>\n",
       "      <td>2</td>\n",
       "    </tr>\n",
       "  </tbody>\n",
       "</table>\n",
       "</div>"
      ],
      "text/plain": [
       "   A\n",
       "a  0\n",
       "a  1\n",
       "b  2"
      ]
     },
     "execution_count": 53,
     "metadata": {},
     "output_type": "execute_result"
    }
   ],
   "source": [
    "df2 = pd.DataFrame({'A': [0,1,2]}, index=['a', 'a', 'b'])\n",
    "df2"
   ]
  },
  {
   "cell_type": "code",
   "execution_count": 54,
   "id": "56278e02-0b5d-4a73-aa8a-d6ff0c700d7b",
   "metadata": {},
   "outputs": [
    {
     "data": {
      "text/plain": [
       "array([False,  True, False])"
      ]
     },
     "execution_count": 54,
     "metadata": {},
     "output_type": "execute_result"
    }
   ],
   "source": [
    "df2.index.duplicated()"
   ]
  },
  {
   "cell_type": "code",
   "execution_count": 55,
   "id": "937e7922-5802-4499-800d-0dc2d66cb407",
   "metadata": {},
   "outputs": [
    {
     "data": {
      "text/html": [
       "<div>\n",
       "<style scoped>\n",
       "    .dataframe tbody tr th:only-of-type {\n",
       "        vertical-align: middle;\n",
       "    }\n",
       "\n",
       "    .dataframe tbody tr th {\n",
       "        vertical-align: top;\n",
       "    }\n",
       "\n",
       "    .dataframe thead th {\n",
       "        text-align: right;\n",
       "    }\n",
       "</style>\n",
       "<table border=\"1\" class=\"dataframe\">\n",
       "  <thead>\n",
       "    <tr style=\"text-align: right;\">\n",
       "      <th></th>\n",
       "      <th>A</th>\n",
       "    </tr>\n",
       "  </thead>\n",
       "  <tbody>\n",
       "    <tr>\n",
       "      <th>a</th>\n",
       "      <td>0</td>\n",
       "    </tr>\n",
       "    <tr>\n",
       "      <th>b</th>\n",
       "      <td>2</td>\n",
       "    </tr>\n",
       "  </tbody>\n",
       "</table>\n",
       "</div>"
      ],
      "text/plain": [
       "   A\n",
       "a  0\n",
       "b  2"
      ]
     },
     "execution_count": 55,
     "metadata": {},
     "output_type": "execute_result"
    }
   ],
   "source": [
    "df2[~df2.index.duplicated()]"
   ]
  },
  {
   "cell_type": "code",
   "execution_count": 59,
   "id": "80cec3eb-377b-4ec4-bd0b-1d5c2c0f19ce",
   "metadata": {},
   "outputs": [
    {
     "data": {
      "text/html": [
       "<div>\n",
       "<style scoped>\n",
       "    .dataframe tbody tr th:only-of-type {\n",
       "        vertical-align: middle;\n",
       "    }\n",
       "\n",
       "    .dataframe tbody tr th {\n",
       "        vertical-align: top;\n",
       "    }\n",
       "\n",
       "    .dataframe thead th {\n",
       "        text-align: right;\n",
       "    }\n",
       "</style>\n",
       "<table border=\"1\" class=\"dataframe\">\n",
       "  <thead>\n",
       "    <tr style=\"text-align: right;\">\n",
       "      <th></th>\n",
       "      <th>A</th>\n",
       "    </tr>\n",
       "  </thead>\n",
       "  <tbody>\n",
       "    <tr>\n",
       "      <th>a</th>\n",
       "      <td>0</td>\n",
       "    </tr>\n",
       "    <tr>\n",
       "      <th>a</th>\n",
       "      <td>1</td>\n",
       "    </tr>\n",
       "    <tr>\n",
       "      <th>b</th>\n",
       "      <td>2</td>\n",
       "    </tr>\n",
       "  </tbody>\n",
       "</table>\n",
       "</div>"
      ],
      "text/plain": [
       "   A\n",
       "a  0\n",
       "a  1\n",
       "b  2"
      ]
     },
     "execution_count": 59,
     "metadata": {},
     "output_type": "execute_result"
    }
   ],
   "source": [
    "# df2.index.drop_duplicates()\n",
    "df2"
   ]
  },
  {
   "cell_type": "code",
   "execution_count": 64,
   "id": "d742d4d0-142a-404b-a7b5-610dc627305d",
   "metadata": {},
   "outputs": [
    {
     "data": {
      "text/plain": [
       "<pandas.core.groupby.generic.DataFrameGroupBy object at 0x000001FA84C57F88>"
      ]
     },
     "execution_count": 64,
     "metadata": {},
     "output_type": "execute_result"
    }
   ],
   "source": [
    "# df2.groupby(level=0).mean()\n",
    "df2.groupby(level=0)"
   ]
  },
  {
   "cell_type": "code",
   "execution_count": 79,
   "id": "16a6ae72-d97a-4307-81e6-fbb6af10fcda",
   "metadata": {},
   "outputs": [
    {
     "data": {
      "text/plain": [
       "0    26\n",
       "1    75\n",
       "2    60\n",
       "3    57\n",
       "4    88\n",
       "Name: value, dtype: int32"
      ]
     },
     "execution_count": 79,
     "metadata": {},
     "output_type": "execute_result"
    }
   ],
   "source": [
    "df = pd.DataFrame({'value': np.random.randint(0, 100, 20)})\n",
    "df.value.head()"
   ]
  },
  {
   "cell_type": "code",
   "execution_count": 68,
   "id": "602d5ae4-d5a5-4a7c-be8b-fc7ca6340b12",
   "metadata": {},
   "outputs": [
    {
     "data": {
      "text/plain": [
       "['0-9',\n",
       " '10-19',\n",
       " '20-29',\n",
       " '30-39',\n",
       " '40-49',\n",
       " '50-59',\n",
       " '60-69',\n",
       " '70-79',\n",
       " '80-89',\n",
       " '90-99']"
      ]
     },
     "execution_count": 68,
     "metadata": {},
     "output_type": "execute_result"
    }
   ],
   "source": [
    "labels = ['{0}-{1}'.format(i, i+9) for i in range(0, 100, 10)]\n",
    "labels"
   ]
  },
  {
   "cell_type": "code",
   "execution_count": 83,
   "id": "d30e6287-4542-4560-af53-d32dd418502c",
   "metadata": {},
   "outputs": [
    {
     "data": {
      "text/plain": [
       "[0, 10, 20, 30, 40, 50, 60, 70, 80, 90, 100]"
      ]
     },
     "execution_count": 83,
     "metadata": {},
     "output_type": "execute_result"
    }
   ],
   "source": [
    "list(range(0, 105, 10))"
   ]
  },
  {
   "cell_type": "code",
   "execution_count": 86,
   "id": "c4b3cb6d-8078-419f-b513-9721af3f527b",
   "metadata": {},
   "outputs": [
    {
     "data": {
      "text/plain": [
       "0     20-29\n",
       "1     70-79\n",
       "2     60-69\n",
       "3     50-59\n",
       "4     80-89\n",
       "5     30-39\n",
       "6     20-29\n",
       "7     90-99\n",
       "8     10-19\n",
       "9     70-79\n",
       "10    60-69\n",
       "11    70-79\n",
       "12    10-19\n",
       "13    70-79\n",
       "14    70-79\n",
       "15    90-99\n",
       "16    80-89\n",
       "17    10-19\n",
       "18    60-69\n",
       "19    90-99\n",
       "Name: value, dtype: category\n",
       "Categories (10, object): ['0-9' < '10-19' < '20-29' < '30-39' ... '60-69' < '70-79' < '80-89' < '90-99']"
      ]
     },
     "execution_count": 86,
     "metadata": {},
     "output_type": "execute_result"
    }
   ],
   "source": [
    "pd.cut(df.value, range(0, 105, 10), right=False, labels=labels)"
   ]
  },
  {
   "cell_type": "code",
   "execution_count": 90,
   "id": "93ea5774-7b39-410c-8831-981a8c950a5e",
   "metadata": {},
   "outputs": [],
   "source": [
    "# df['group'] = pd.cut(df.value, bins= range(0, 105, 10), right=False, labels=labels)\n",
    "df['group2'] = pd.cut(df.value, bins= range(0, 105, 10), right=False)"
   ]
  },
  {
   "cell_type": "code",
   "execution_count": 91,
   "id": "763b3d1d-2b72-4f6d-904b-a57f78b103fa",
   "metadata": {},
   "outputs": [
    {
     "data": {
      "text/html": [
       "<div>\n",
       "<style scoped>\n",
       "    .dataframe tbody tr th:only-of-type {\n",
       "        vertical-align: middle;\n",
       "    }\n",
       "\n",
       "    .dataframe tbody tr th {\n",
       "        vertical-align: top;\n",
       "    }\n",
       "\n",
       "    .dataframe thead th {\n",
       "        text-align: right;\n",
       "    }\n",
       "</style>\n",
       "<table border=\"1\" class=\"dataframe\">\n",
       "  <thead>\n",
       "    <tr style=\"text-align: right;\">\n",
       "      <th></th>\n",
       "      <th>value</th>\n",
       "      <th>group</th>\n",
       "      <th>group2</th>\n",
       "    </tr>\n",
       "  </thead>\n",
       "  <tbody>\n",
       "    <tr>\n",
       "      <th>0</th>\n",
       "      <td>26</td>\n",
       "      <td>20-29</td>\n",
       "      <td>[20, 30)</td>\n",
       "    </tr>\n",
       "    <tr>\n",
       "      <th>1</th>\n",
       "      <td>75</td>\n",
       "      <td>70-79</td>\n",
       "      <td>[70, 80)</td>\n",
       "    </tr>\n",
       "    <tr>\n",
       "      <th>2</th>\n",
       "      <td>60</td>\n",
       "      <td>60-69</td>\n",
       "      <td>[60, 70)</td>\n",
       "    </tr>\n",
       "    <tr>\n",
       "      <th>3</th>\n",
       "      <td>57</td>\n",
       "      <td>50-59</td>\n",
       "      <td>[50, 60)</td>\n",
       "    </tr>\n",
       "    <tr>\n",
       "      <th>4</th>\n",
       "      <td>88</td>\n",
       "      <td>80-89</td>\n",
       "      <td>[80, 90)</td>\n",
       "    </tr>\n",
       "  </tbody>\n",
       "</table>\n",
       "</div>"
      ],
      "text/plain": [
       "   value  group    group2\n",
       "0     26  20-29  [20, 30)\n",
       "1     75  70-79  [70, 80)\n",
       "2     60  60-69  [60, 70)\n",
       "3     57  50-59  [50, 60)\n",
       "4     88  80-89  [80, 90)"
      ]
     },
     "execution_count": 91,
     "metadata": {},
     "output_type": "execute_result"
    }
   ],
   "source": [
    "df.head()"
   ]
  },
  {
   "cell_type": "code",
   "execution_count": 100,
   "id": "da7ab6cc-313d-4f51-91a1-81b1395d8e0b",
   "metadata": {},
   "outputs": [
    {
     "data": {
      "text/plain": [
       "CategoricalDtype(categories=['b', 'c', 'd'], ordered=True)"
      ]
     },
     "execution_count": 100,
     "metadata": {},
     "output_type": "execute_result"
    }
   ],
   "source": [
    "from pandas.api.types import CategoricalDtype\n",
    "s = pd.Series(['a', 'b', 'c', 'a'], dtype= pd.CategoricalDtype(categories=['b', 'c', 'd'], ordered=True))\n",
    "s.dtype"
   ]
  },
  {
   "cell_type": "code",
   "execution_count": 102,
   "id": "383be456-d04c-4481-9644-63bc83b64d8c",
   "metadata": {},
   "outputs": [
    {
     "data": {
      "text/plain": [
       "[NaN, 'b', 'c', NaN]\n",
       "Categories (3, object): ['b', 'c', 'd']"
      ]
     },
     "execution_count": 102,
     "metadata": {},
     "output_type": "execute_result"
    }
   ],
   "source": [
    "s1 = pd.Categorical(['a', 'b', 'c', 'a'], categories=['b', 'c', 'd'], ordered=False)\n",
    "s1"
   ]
  },
  {
   "cell_type": "code",
   "execution_count": 104,
   "id": "23861a78-b249-46a0-b622-10912010484c",
   "metadata": {},
   "outputs": [
    {
     "data": {
      "text/plain": [
       "0    NaN\n",
       "1      b\n",
       "2      c\n",
       "3    NaN\n",
       "dtype: category\n",
       "Categories (3, object): ['b', 'c', 'd']"
      ]
     },
     "execution_count": 104,
     "metadata": {},
     "output_type": "execute_result"
    }
   ],
   "source": [
    "s2 = pd.Series(s1)\n",
    "s2"
   ]
  },
  {
   "cell_type": "code",
   "execution_count": 106,
   "id": "19e93e37-dca4-43fa-8e2a-6040f55dbbf6",
   "metadata": {},
   "outputs": [],
   "source": [
    "df = pd.DataFrame({'A': list('abca'), 'B': list('bccd')}, dtype=pd.CategoricalDtype(categories=list('abcd'), ordered=True))"
   ]
  },
  {
   "cell_type": "code",
   "execution_count": 107,
   "id": "e17904f3-97e7-40f7-b934-b0a646ed2d6f",
   "metadata": {},
   "outputs": [
    {
     "data": {
      "text/plain": [
       "A    category\n",
       "B    category\n",
       "dtype: object"
      ]
     },
     "execution_count": 107,
     "metadata": {},
     "output_type": "execute_result"
    }
   ],
   "source": [
    "df.dtypes"
   ]
  },
  {
   "cell_type": "code",
   "execution_count": 114,
   "id": "213c421b-0504-47ee-94c6-b3bcd428470e",
   "metadata": {},
   "outputs": [
    {
     "data": {
      "text/plain": [
       "array(['a', 'b', 'b', 'c', 'c', 'c', 'a', 'd'], dtype=object)"
      ]
     },
     "execution_count": 114,
     "metadata": {},
     "output_type": "execute_result"
    }
   ],
   "source": [
    "df.to_numpy().ravel()"
   ]
  },
  {
   "cell_type": "code",
   "execution_count": 118,
   "id": "f9a0159a-4e0a-4f11-9f20-d91c1acf913a",
   "metadata": {},
   "outputs": [
    {
     "data": {
      "text/plain": [
       "array([0, 0, 0, 0, 1])"
      ]
     },
     "execution_count": 118,
     "metadata": {},
     "output_type": "execute_result"
    }
   ],
   "source": [
    "splitter = np.random.choice([0,1], 5, p=[0.5, 0.5])\n",
    "splitter"
   ]
  },
  {
   "cell_type": "code",
   "execution_count": 119,
   "id": "bf21e7f2-e2aa-4731-a085-c24a24873901",
   "metadata": {},
   "outputs": [
    {
     "data": {
      "text/plain": [
       "0    train\n",
       "1    train\n",
       "2    train\n",
       "3    train\n",
       "4     test\n",
       "dtype: category\n",
       "Categories (2, object): ['train', 'test']"
      ]
     },
     "execution_count": 119,
     "metadata": {},
     "output_type": "execute_result"
    }
   ],
   "source": [
    "s = pd.Series(pd.Categorical.from_codes(splitter, categories=['train', 'test']))\n",
    "s"
   ]
  },
  {
   "cell_type": "code",
   "execution_count": 126,
   "id": "f55a8eb6-44f6-4c22-968d-731bfc7b18b5",
   "metadata": {},
   "outputs": [
    {
     "data": {
      "text/plain": [
       "array([1, 0, 0, 1, 2])"
      ]
     },
     "execution_count": 126,
     "metadata": {},
     "output_type": "execute_result"
    }
   ],
   "source": [
    "splitter = np.random.choice([0,1,2], 5, p=[0.5, 0.3, 0.2])\n",
    "splitter"
   ]
  },
  {
   "cell_type": "code",
   "execution_count": 127,
   "id": "b435e825-f83b-48a3-a57d-3ebedb5036cb",
   "metadata": {},
   "outputs": [
    {
     "data": {
      "text/plain": [
       "0     test\n",
       "1    train\n",
       "2    train\n",
       "3     test\n",
       "4    coach\n",
       "dtype: category\n",
       "Categories (3, object): ['train', 'test', 'coach']"
      ]
     },
     "execution_count": 127,
     "metadata": {},
     "output_type": "execute_result"
    }
   ],
   "source": [
    "s = pd.Series(pd.Categorical.from_codes(splitter, categories=['train', 'test', 'coach']))\n",
    "s"
   ]
  },
  {
   "cell_type": "code",
   "execution_count": 129,
   "id": "25b5a3da-7bbf-40b7-a27e-354f721591a6",
   "metadata": {},
   "outputs": [
    {
     "data": {
      "text/plain": [
       "A    category\n",
       "B    category\n",
       "dtype: object"
      ]
     },
     "execution_count": 129,
     "metadata": {},
     "output_type": "execute_result"
    }
   ],
   "source": [
    "df.dtypes"
   ]
  },
  {
   "cell_type": "code",
   "execution_count": 153,
   "id": "d9ca756b-9b97-4829-b512-99126a3d8765",
   "metadata": {},
   "outputs": [
    {
     "data": {
      "text/plain": [
       "A    object\n",
       "B     int64\n",
       "dtype: object"
      ]
     },
     "execution_count": 153,
     "metadata": {},
     "output_type": "execute_result"
    }
   ],
   "source": [
    "df1 = pd.DataFrame({'A': ['a', 'b', 'c', 'd'], 'B': [1,2,3,4]})\n",
    "df1.dtypes"
   ]
  },
  {
   "cell_type": "code",
   "execution_count": 155,
   "id": "123f7c55-58d7-4342-a70e-ec508f2c6938",
   "metadata": {},
   "outputs": [],
   "source": [
    "df1['A'] = df1['A'].astype(pd.CategoricalDtype())"
   ]
  },
  {
   "cell_type": "code",
   "execution_count": 157,
   "id": "0ed968b3-35ed-406d-a075-d90c47ede472",
   "metadata": {},
   "outputs": [
    {
     "data": {
      "text/plain": [
       "A    category\n",
       "B       int64\n",
       "dtype: object"
      ]
     },
     "execution_count": 157,
     "metadata": {},
     "output_type": "execute_result"
    }
   ],
   "source": [
    "df1.dtypes"
   ]
  },
  {
   "cell_type": "code",
   "execution_count": 158,
   "id": "91553402-cad7-41ad-a89b-a2da5b2b2637",
   "metadata": {},
   "outputs": [
    {
     "data": {
      "text/plain": [
       "True"
      ]
     },
     "execution_count": 158,
     "metadata": {},
     "output_type": "execute_result"
    }
   ],
   "source": [
    "c1 = CategoricalDtype(['a', 'b', 'c']) # default ordered = False\n",
    "c1 == CategoricalDtype(['b', 'c', 'a']) # True\n"
   ]
  },
  {
   "cell_type": "code",
   "execution_count": 159,
   "id": "667698e2-29bc-4ff8-91fd-f25e2fe991b8",
   "metadata": {},
   "outputs": [
    {
     "data": {
      "text/plain": [
       "False"
      ]
     },
     "execution_count": 159,
     "metadata": {},
     "output_type": "execute_result"
    }
   ],
   "source": [
    "c2 = CategoricalDtype(['a', 'b', 'c'], ordered=True)\n",
    "c2 == CategoricalDtype(['b', 'a', 'c'], ordered=False) # False"
   ]
  },
  {
   "cell_type": "code",
   "execution_count": 160,
   "id": "4d7b5579-8585-453c-a8dc-60a7ec2c81d1",
   "metadata": {},
   "outputs": [
    {
     "data": {
      "text/plain": [
       "True"
      ]
     },
     "execution_count": 160,
     "metadata": {},
     "output_type": "execute_result"
    }
   ],
   "source": [
    "c1 == 'category'"
   ]
  },
  {
   "cell_type": "code",
   "execution_count": 161,
   "id": "de2cc814-cf7f-4d46-a712-2d431900cae5",
   "metadata": {},
   "outputs": [
    {
     "data": {
      "text/plain": [
       "True"
      ]
     },
     "execution_count": 161,
     "metadata": {},
     "output_type": "execute_result"
    }
   ],
   "source": [
    "c2 =='category'"
   ]
  },
  {
   "cell_type": "code",
   "execution_count": 1,
   "id": "e3201cfc-be91-42f0-bca5-1347d9cbcb00",
   "metadata": {},
   "outputs": [],
   "source": [
    "import numpy as np\n",
    "import pandas as pd"
   ]
  },
  {
   "cell_type": "code",
   "execution_count": 3,
   "id": "22d2764c-498a-440c-b0e3-e1c49270c22f",
   "metadata": {},
   "outputs": [],
   "source": [
    "s = pd.Series(['a', 'b', 'c', 'a'], dtype='category')\n",
    "# s.cat.categories = ['Group %s' % g for g in s.cat.categories]"
   ]
  },
  {
   "cell_type": "code",
   "execution_count": 7,
   "id": "73b1a0d9-1243-4da5-a468-b1ee447144d3",
   "metadata": {},
   "outputs": [
    {
     "data": {
      "text/plain": [
       "0    x\n",
       "1    y\n",
       "2    z\n",
       "3    x\n",
       "dtype: category\n",
       "Categories (3, object): ['x', 'y', 'z']"
      ]
     },
     "execution_count": 7,
     "metadata": {},
     "output_type": "execute_result"
    }
   ],
   "source": [
    "s = s.cat.rename_categories([1,2,3])\n",
    "s.cat.rename_categories({1: 'x', 2: 'y', 3: 'z'})"
   ]
  },
  {
   "cell_type": "code",
   "execution_count": 16,
   "id": "eaee05e7-4661-49a8-837a-8f24bb293dd7",
   "metadata": {},
   "outputs": [],
   "source": [
    "s = pd.Series(['a', 'b', 'c'], dtype='category')"
   ]
  },
  {
   "cell_type": "code",
   "execution_count": 17,
   "id": "a941a6e1-6f58-4cbc-8cc8-4fc61bc86c71",
   "metadata": {},
   "outputs": [
    {
     "data": {
      "text/plain": [
       "Index(['a', 'b', 'c'], dtype='object')"
      ]
     },
     "execution_count": 17,
     "metadata": {},
     "output_type": "execute_result"
    }
   ],
   "source": [
    "s.cat.categories"
   ]
  },
  {
   "cell_type": "code",
   "execution_count": 23,
   "id": "2618c2cf-7a22-4dcc-a72b-389ac44c198c",
   "metadata": {},
   "outputs": [],
   "source": [
    "# s.cat.categories = [1, 1, 1] \n",
    "# s.cat.categories = [1, 2, np.nan]\n",
    "s.cat.categories = [1,2,3]"
   ]
  },
  {
   "cell_type": "code",
   "execution_count": 26,
   "id": "459985e3-b3ea-409d-856b-085b02656f31",
   "metadata": {},
   "outputs": [
    {
     "data": {
      "text/plain": [
       "0    a\n",
       "1    b\n",
       "2    c\n",
       "dtype: category\n",
       "Categories (3, object): ['a', 'b', 'c']"
      ]
     },
     "execution_count": 26,
     "metadata": {},
     "output_type": "execute_result"
    }
   ],
   "source": [
    "s.cat.rename_categories(['a', 'b', 'c'])"
   ]
  },
  {
   "cell_type": "code",
   "execution_count": 32,
   "id": "904dbff5-ce29-4856-aff3-3b5e97c8f370",
   "metadata": {},
   "outputs": [
    {
     "data": {
      "text/plain": [
       "0    x\n",
       "1    y\n",
       "2    z\n",
       "dtype: category\n",
       "Categories (4, object): ['x', 'y', 'z', 4]"
      ]
     },
     "execution_count": 32,
     "metadata": {},
     "output_type": "execute_result"
    }
   ],
   "source": [
    "# s.cat.rename_categories(['x', 'y', 'z'], inplace=True)\n",
    "s.cat.add_categories([4])"
   ]
  },
  {
   "cell_type": "code",
   "execution_count": 37,
   "id": "ce089b75-c671-421b-aa0a-4dabed503732",
   "metadata": {},
   "outputs": [
    {
     "data": {
      "text/plain": [
       "Index(['x', 'y', 'z', 4], dtype='object')"
      ]
     },
     "execution_count": 37,
     "metadata": {},
     "output_type": "execute_result"
    }
   ],
   "source": [
    "s.cat.categories"
   ]
  },
  {
   "cell_type": "code",
   "execution_count": 40,
   "id": "86fcea0c-7793-416c-aeeb-f1a2025b03b1",
   "metadata": {},
   "outputs": [],
   "source": [
    "s = s.cat.remove_categories(['x', 4])"
   ]
  },
  {
   "cell_type": "code",
   "execution_count": 42,
   "id": "2ec94c07-2dbe-41dd-b6e3-a9757a0a7e58",
   "metadata": {},
   "outputs": [
    {
     "data": {
      "text/plain": [
       "Index(['y', 'z'], dtype='object')"
      ]
     },
     "execution_count": 42,
     "metadata": {},
     "output_type": "execute_result"
    }
   ],
   "source": [
    "s.cat.categories"
   ]
  },
  {
   "cell_type": "code",
   "execution_count": 43,
   "id": "0ff6d7fd-abec-40bc-bb97-72124ad18069",
   "metadata": {},
   "outputs": [
    {
     "data": {
      "text/plain": [
       "Index(['a', 'b', 'c', 'd'], dtype='object')"
      ]
     },
     "execution_count": 43,
     "metadata": {},
     "output_type": "execute_result"
    }
   ],
   "source": [
    "s = pd.Series(pd.Categorical(['a', 'b', 'a'], categories=['a', 'b', 'c', 'd']))\n",
    "s.cat.categories"
   ]
  },
  {
   "cell_type": "code",
   "execution_count": 47,
   "id": "56d3b0ca-96ff-4c6b-b4c8-3102a8fb91ac",
   "metadata": {},
   "outputs": [],
   "source": [
    "s = s.cat.remove_unused_categories()"
   ]
  },
  {
   "cell_type": "code",
   "execution_count": 48,
   "id": "dd349625-b10c-4641-a6b0-14cdc6c182bc",
   "metadata": {},
   "outputs": [
    {
     "data": {
      "text/plain": [
       "Index(['a', 'b'], dtype='object')"
      ]
     },
     "execution_count": 48,
     "metadata": {},
     "output_type": "execute_result"
    }
   ],
   "source": [
    "s.cat.categories"
   ]
  },
  {
   "cell_type": "code",
   "execution_count": 49,
   "id": "209fd2cf-0477-49d6-a103-2a8bfb233b13",
   "metadata": {},
   "outputs": [
    {
     "data": {
      "text/plain": [
       "Index(['one', 'two', 'three', 'four'], dtype='object')"
      ]
     },
     "execution_count": 49,
     "metadata": {},
     "output_type": "execute_result"
    }
   ],
   "source": [
    "s = pd.Series(['one', 'two', 'four', '-'], dtype='category')\n",
    "s = s.cat.set_categories(['one', 'two', 'three', 'four'])\n",
    "s.cat.categories"
   ]
  },
  {
   "cell_type": "code",
   "execution_count": 51,
   "id": "3eee2341-e2d4-44b7-9baa-3764fd244547",
   "metadata": {},
   "outputs": [
    {
     "data": {
      "text/plain": [
       "0    a\n",
       "3    a\n",
       "1    b\n",
       "2    c\n",
       "dtype: category\n",
       "Categories (3, object): ['a', 'b', 'c']"
      ]
     },
     "execution_count": 51,
     "metadata": {},
     "output_type": "execute_result"
    }
   ],
   "source": [
    "s = pd.Series(pd.Categorical(['a', 'b', 'c', 'a'], ordered=False))\n",
    "s.sort_values()"
   ]
  },
  {
   "cell_type": "code",
   "execution_count": 52,
   "id": "afa5fbf2-6d0a-4ae3-8b06-be1c73d7672a",
   "metadata": {},
   "outputs": [
    {
     "data": {
      "text/plain": [
       "0    a\n",
       "3    a\n",
       "1    b\n",
       "2    c\n",
       "dtype: category\n",
       "Categories (3, object): ['a', 'b', 'c']"
      ]
     },
     "execution_count": 52,
     "metadata": {},
     "output_type": "execute_result"
    }
   ],
   "source": [
    "from pandas.api.types import CategoricalDtype\n",
    "s1 = pd.Series(['a', 'b', 'c', 'a'], dtype=CategoricalDtype(ordered=True))\n",
    "s.sort_values()"
   ]
  },
  {
   "cell_type": "code",
   "execution_count": 56,
   "id": "e0dec5a4-00e3-4918-8421-471744581633",
   "metadata": {},
   "outputs": [
    {
     "data": {
      "text/plain": [
       "'c'"
      ]
     },
     "execution_count": 56,
     "metadata": {},
     "output_type": "execute_result"
    }
   ],
   "source": [
    "s1.max()"
   ]
  },
  {
   "cell_type": "code",
   "execution_count": 58,
   "id": "647a5b9d-f937-4622-9b78-0c0c0992a2b5",
   "metadata": {},
   "outputs": [
    {
     "data": {
      "text/plain": [
       "('a', 'c')"
      ]
     },
     "execution_count": 58,
     "metadata": {},
     "output_type": "execute_result"
    }
   ],
   "source": [
    "s = s.cat.as_ordered()\n",
    "s.min(), s.max()"
   ]
  },
  {
   "cell_type": "code",
   "execution_count": 62,
   "id": "9cbc8729-0a78-4b02-aea2-1b48c9187e24",
   "metadata": {},
   "outputs": [
    {
     "data": {
      "text/plain": [
       "Int64Index([1, 2, 3], dtype='int64')"
      ]
     },
     "execution_count": 62,
     "metadata": {},
     "output_type": "execute_result"
    }
   ],
   "source": [
    "s = pd.Series([1,2,3], dtype='category')\n",
    "s.cat.categories"
   ]
  },
  {
   "cell_type": "code",
   "execution_count": 67,
   "id": "5de125d5-8a80-415f-8ce9-d932181dfac9",
   "metadata": {},
   "outputs": [],
   "source": [
    "s = pd.Series([1,2,3,1], dtype='category')\n",
    "s = s.cat.reorder_categories([2,3,1]).cat.as_ordered()"
   ]
  },
  {
   "cell_type": "code",
   "execution_count": 68,
   "id": "072c8562-9162-4058-a969-326fa1eaffc7",
   "metadata": {},
   "outputs": [],
   "source": [
    "s.sort_values(inplace=True)"
   ]
  },
  {
   "cell_type": "code",
   "execution_count": 69,
   "id": "6324e6e3-c9a9-4efe-b3d6-1c0b9e93663f",
   "metadata": {},
   "outputs": [
    {
     "data": {
      "text/plain": [
       "1    2\n",
       "2    3\n",
       "0    1\n",
       "3    1\n",
       "dtype: category\n",
       "Categories (3, int64): [2 < 3 < 1]"
      ]
     },
     "execution_count": 69,
     "metadata": {},
     "output_type": "execute_result"
    }
   ],
   "source": [
    "s"
   ]
  },
  {
   "cell_type": "code",
   "execution_count": 71,
   "id": "f44025d8-ae8b-444e-bb28-a658457ae02c",
   "metadata": {},
   "outputs": [
    {
     "data": {
      "text/plain": [
       "(2, 1)"
      ]
     },
     "execution_count": 71,
     "metadata": {},
     "output_type": "execute_result"
    }
   ],
   "source": [
    "s.min(), s.max()"
   ]
  },
  {
   "cell_type": "code",
   "execution_count": 77,
   "id": "ad56477e-89f1-4e75-916b-e36ed5049c94",
   "metadata": {},
   "outputs": [
    {
     "data": {
      "text/html": [
       "<div>\n",
       "<style scoped>\n",
       "    .dataframe tbody tr th:only-of-type {\n",
       "        vertical-align: middle;\n",
       "    }\n",
       "\n",
       "    .dataframe tbody tr th {\n",
       "        vertical-align: top;\n",
       "    }\n",
       "\n",
       "    .dataframe thead th {\n",
       "        text-align: right;\n",
       "    }\n",
       "</style>\n",
       "<table border=\"1\" class=\"dataframe\">\n",
       "  <thead>\n",
       "    <tr style=\"text-align: right;\">\n",
       "      <th></th>\n",
       "      <th>A</th>\n",
       "      <th>B</th>\n",
       "    </tr>\n",
       "  </thead>\n",
       "  <tbody>\n",
       "    <tr>\n",
       "      <th>2</th>\n",
       "      <td>e</td>\n",
       "      <td>1</td>\n",
       "    </tr>\n",
       "    <tr>\n",
       "      <th>3</th>\n",
       "      <td>e</td>\n",
       "      <td>2</td>\n",
       "    </tr>\n",
       "    <tr>\n",
       "      <th>7</th>\n",
       "      <td>a</td>\n",
       "      <td>1</td>\n",
       "    </tr>\n",
       "    <tr>\n",
       "      <th>6</th>\n",
       "      <td>a</td>\n",
       "      <td>2</td>\n",
       "    </tr>\n",
       "    <tr>\n",
       "      <th>0</th>\n",
       "      <td>b</td>\n",
       "      <td>1</td>\n",
       "    </tr>\n",
       "    <tr>\n",
       "      <th>5</th>\n",
       "      <td>b</td>\n",
       "      <td>1</td>\n",
       "    </tr>\n",
       "    <tr>\n",
       "      <th>1</th>\n",
       "      <td>b</td>\n",
       "      <td>2</td>\n",
       "    </tr>\n",
       "    <tr>\n",
       "      <th>4</th>\n",
       "      <td>b</td>\n",
       "      <td>2</td>\n",
       "    </tr>\n",
       "  </tbody>\n",
       "</table>\n",
       "</div>"
      ],
      "text/plain": [
       "   A  B\n",
       "2  e  1\n",
       "3  e  2\n",
       "7  a  1\n",
       "6  a  2\n",
       "0  b  1\n",
       "5  b  1\n",
       "1  b  2\n",
       "4  b  2"
      ]
     },
     "execution_count": 77,
     "metadata": {},
     "output_type": "execute_result"
    }
   ],
   "source": [
    "dfs = pd.DataFrame({'A': pd.Categorical(list('bbeebbaa'), categories=['e', 'a', 'b'], ordered=True),\n",
    "                    'B': [1,2,1,2,2,1,2,1]})\n",
    "# dfs\n",
    "dfs.sort_values(['A', 'B'])"
   ]
  },
  {
   "cell_type": "code",
   "execution_count": null,
   "id": "e06da66c-85a1-45d9-8d2a-fe679216e303",
   "metadata": {},
   "outputs": [],
   "source": []
  },
  {
   "cell_type": "code",
   "execution_count": 89,
   "id": "37c1b0fa-d91c-4001-bd8c-5de98b21a494",
   "metadata": {},
   "outputs": [],
   "source": [
    "cat = pd.Series([1,2,3]).astype(CategoricalDtype([3,2,1], ordered=True))\n",
    "cat_base = pd.Series([2,2,2]).astype(CategoricalDtype([3,2,1], ordered=True))\n",
    "cat_base2 = pd.Series([2,2,2]).astype(CategoricalDtype(ordered=True))"
   ]
  },
  {
   "cell_type": "code",
   "execution_count": 90,
   "id": "3c431577-651f-4b64-9a2f-717e8a8f0206",
   "metadata": {},
   "outputs": [
    {
     "data": {
      "text/plain": [
       "0     True\n",
       "1    False\n",
       "2    False\n",
       "dtype: bool"
      ]
     },
     "execution_count": 90,
     "metadata": {},
     "output_type": "execute_result"
    }
   ],
   "source": [
    "cat > cat_base"
   ]
  },
  {
   "cell_type": "code",
   "execution_count": 95,
   "id": "46244bac-f8c8-4fcc-af39-75e80b35c57f",
   "metadata": {},
   "outputs": [
    {
     "data": {
      "text/plain": [
       "array([ True,  True,  True])"
      ]
     },
     "execution_count": 95,
     "metadata": {},
     "output_type": "execute_result"
    }
   ],
   "source": [
    "np.asarray(cat) == base"
   ]
  },
  {
   "cell_type": "code",
   "execution_count": 98,
   "id": "5508cd86-0538-4167-9da7-16279be33c7e",
   "metadata": {},
   "outputs": [
    {
     "data": {
      "text/plain": [
       "array([ True,  True])"
      ]
     },
     "execution_count": 98,
     "metadata": {},
     "output_type": "execute_result"
    }
   ],
   "source": [
    "c1 = pd.Categorical(['a', 'b'], categories=['a', 'b'])\n",
    "c2 = pd.Categorical(['a', 'b'], categories=['a', 'b'])\n",
    "c1 == c2\n",
    "# c1 > c2\n",
    "# c1 < c2"
   ]
  },
  {
   "cell_type": "code",
   "execution_count": 105,
   "id": "b1507c94-8385-4913-87b3-a8a47e44cc76",
   "metadata": {},
   "outputs": [
    {
     "data": {
      "text/html": [
       "<div>\n",
       "<style scoped>\n",
       "    .dataframe tbody tr th:only-of-type {\n",
       "        vertical-align: middle;\n",
       "    }\n",
       "\n",
       "    .dataframe tbody tr th {\n",
       "        vertical-align: top;\n",
       "    }\n",
       "\n",
       "    .dataframe thead th {\n",
       "        text-align: right;\n",
       "    }\n",
       "</style>\n",
       "<table border=\"1\" class=\"dataframe\">\n",
       "  <thead>\n",
       "    <tr style=\"text-align: right;\">\n",
       "      <th></th>\n",
       "      <th>One</th>\n",
       "      <th>Two</th>\n",
       "      <th>Three</th>\n",
       "    </tr>\n",
       "  </thead>\n",
       "  <tbody>\n",
       "    <tr>\n",
       "      <th>0</th>\n",
       "      <td>3</td>\n",
       "      <td>3</td>\n",
       "      <td>0</td>\n",
       "    </tr>\n",
       "    <tr>\n",
       "      <th>1</th>\n",
       "      <td>9</td>\n",
       "      <td>6</td>\n",
       "      <td>0</td>\n",
       "    </tr>\n",
       "  </tbody>\n",
       "</table>\n",
       "</div>"
      ],
      "text/plain": [
       "   One  Two  Three\n",
       "0    3    3      0\n",
       "1    9    6      0"
      ]
     },
     "execution_count": 105,
     "metadata": {},
     "output_type": "execute_result"
    }
   ],
   "source": [
    "# columns = pd.Categorical(['One', 'One', 'Two'], categories=['One', 'Two', 'Three'], ordered=True)\n",
    "# df = pd.DataFrame(data=[[1,2,3], [4,5,6]], columns=pd.MultiIndex.from_arrays([['A', 'B', 'B'], columns]))\n",
    "df.groupby(level=1, axis=1).sum()"
   ]
  },
  {
   "cell_type": "code",
   "execution_count": 104,
   "id": "86c7d7c1-299c-4591-8ba0-7c816d05e73d",
   "metadata": {},
   "outputs": [
    {
     "data": {
      "text/html": [
       "<div>\n",
       "<style scoped>\n",
       "    .dataframe tbody tr th:only-of-type {\n",
       "        vertical-align: middle;\n",
       "    }\n",
       "\n",
       "    .dataframe tbody tr th {\n",
       "        vertical-align: top;\n",
       "    }\n",
       "\n",
       "    .dataframe thead tr th {\n",
       "        text-align: left;\n",
       "    }\n",
       "</style>\n",
       "<table border=\"1\" class=\"dataframe\">\n",
       "  <thead>\n",
       "    <tr>\n",
       "      <th></th>\n",
       "      <th>A</th>\n",
       "      <th colspan=\"2\" halign=\"left\">B</th>\n",
       "    </tr>\n",
       "    <tr>\n",
       "      <th></th>\n",
       "      <th>One</th>\n",
       "      <th>One</th>\n",
       "      <th>Two</th>\n",
       "    </tr>\n",
       "  </thead>\n",
       "  <tbody>\n",
       "    <tr>\n",
       "      <th>0</th>\n",
       "      <td>1</td>\n",
       "      <td>2</td>\n",
       "      <td>3</td>\n",
       "    </tr>\n",
       "    <tr>\n",
       "      <th>1</th>\n",
       "      <td>4</td>\n",
       "      <td>5</td>\n",
       "      <td>6</td>\n",
       "    </tr>\n",
       "  </tbody>\n",
       "</table>\n",
       "</div>"
      ],
      "text/plain": [
       "    A   B    \n",
       "  One One Two\n",
       "0   1   2   3\n",
       "1   4   5   6"
      ]
     },
     "execution_count": 104,
     "metadata": {},
     "output_type": "execute_result"
    }
   ],
   "source": [
    "df"
   ]
  },
  {
   "cell_type": "code",
   "execution_count": 107,
   "id": "b327fc7a-18f1-4b24-8543-9ac9e29df424",
   "metadata": {},
   "outputs": [],
   "source": [
    "cats = pd.Categorical(['a', 'b', 'b', 'b', 'c', 'c', 'c'], categories=['a', 'b', 'c', 'd'])\n",
    "df = pd.DataFrame({'cats': cats, 'values': [1,2,2,2,3,4,5]})\n",
    "# df.groupby('cats').mean()\n",
    "cats2 = pd.Categorical(['a', 'a', 'b', 'b'], categories=['a', 'b', 'c'])\n",
    "df2 = pd.DataFrame({'cats': cats2, 'B': ['c', 'd', 'c', 'd'], 'values': [1,2,3,4]})"
   ]
  },
  {
   "cell_type": "code",
   "execution_count": 109,
   "id": "2d235f5e-c1f2-479f-a153-8a647ed304e0",
   "metadata": {},
   "outputs": [
    {
     "data": {
      "text/html": [
       "<div>\n",
       "<style scoped>\n",
       "    .dataframe tbody tr th:only-of-type {\n",
       "        vertical-align: middle;\n",
       "    }\n",
       "\n",
       "    .dataframe tbody tr th {\n",
       "        vertical-align: top;\n",
       "    }\n",
       "\n",
       "    .dataframe thead th {\n",
       "        text-align: right;\n",
       "    }\n",
       "</style>\n",
       "<table border=\"1\" class=\"dataframe\">\n",
       "  <thead>\n",
       "    <tr style=\"text-align: right;\">\n",
       "      <th></th>\n",
       "      <th>values</th>\n",
       "    </tr>\n",
       "    <tr>\n",
       "      <th>cats</th>\n",
       "      <th></th>\n",
       "    </tr>\n",
       "  </thead>\n",
       "  <tbody>\n",
       "    <tr>\n",
       "      <th>a</th>\n",
       "      <td>1.5</td>\n",
       "    </tr>\n",
       "    <tr>\n",
       "      <th>b</th>\n",
       "      <td>3.5</td>\n",
       "    </tr>\n",
       "    <tr>\n",
       "      <th>c</th>\n",
       "      <td>NaN</td>\n",
       "    </tr>\n",
       "  </tbody>\n",
       "</table>\n",
       "</div>"
      ],
      "text/plain": [
       "      values\n",
       "cats        \n",
       "a        1.5\n",
       "b        3.5\n",
       "c        NaN"
      ]
     },
     "execution_count": 109,
     "metadata": {},
     "output_type": "execute_result"
    }
   ],
   "source": [
    "df2.groupby('cats').mean()"
   ]
  },
  {
   "cell_type": "code",
   "execution_count": 113,
   "id": "0a0e1a68-daae-4f9b-b670-996fa4951874",
   "metadata": {},
   "outputs": [
    {
     "data": {
      "text/html": [
       "<div>\n",
       "<style scoped>\n",
       "    .dataframe tbody tr th:only-of-type {\n",
       "        vertical-align: middle;\n",
       "    }\n",
       "\n",
       "    .dataframe tbody tr th {\n",
       "        vertical-align: top;\n",
       "    }\n",
       "\n",
       "    .dataframe thead th {\n",
       "        text-align: right;\n",
       "    }\n",
       "</style>\n",
       "<table border=\"1\" class=\"dataframe\">\n",
       "  <thead>\n",
       "    <tr style=\"text-align: right;\">\n",
       "      <th></th>\n",
       "      <th>cats</th>\n",
       "      <th>B</th>\n",
       "      <th>values</th>\n",
       "    </tr>\n",
       "  </thead>\n",
       "  <tbody>\n",
       "    <tr>\n",
       "      <th>0</th>\n",
       "      <td>a</td>\n",
       "      <td>c</td>\n",
       "      <td>1</td>\n",
       "    </tr>\n",
       "    <tr>\n",
       "      <th>1</th>\n",
       "      <td>a</td>\n",
       "      <td>d</td>\n",
       "      <td>2</td>\n",
       "    </tr>\n",
       "    <tr>\n",
       "      <th>2</th>\n",
       "      <td>b</td>\n",
       "      <td>c</td>\n",
       "      <td>3</td>\n",
       "    </tr>\n",
       "    <tr>\n",
       "      <th>3</th>\n",
       "      <td>b</td>\n",
       "      <td>d</td>\n",
       "      <td>4</td>\n",
       "    </tr>\n",
       "  </tbody>\n",
       "</table>\n",
       "</div>"
      ],
      "text/plain": [
       "  cats  B  values\n",
       "0    a  c       1\n",
       "1    a  d       2\n",
       "2    b  c       3\n",
       "3    b  d       4"
      ]
     },
     "execution_count": 113,
     "metadata": {},
     "output_type": "execute_result"
    }
   ],
   "source": [
    "df2"
   ]
  },
  {
   "cell_type": "code",
   "execution_count": 115,
   "id": "5fbfb928-6a03-4b8b-a7a6-7676c1ad0564",
   "metadata": {},
   "outputs": [
    {
     "data": {
      "text/html": [
       "<div>\n",
       "<style scoped>\n",
       "    .dataframe tbody tr th:only-of-type {\n",
       "        vertical-align: middle;\n",
       "    }\n",
       "\n",
       "    .dataframe tbody tr th {\n",
       "        vertical-align: top;\n",
       "    }\n",
       "\n",
       "    .dataframe thead th {\n",
       "        text-align: right;\n",
       "    }\n",
       "</style>\n",
       "<table border=\"1\" class=\"dataframe\">\n",
       "  <thead>\n",
       "    <tr style=\"text-align: right;\">\n",
       "      <th>B</th>\n",
       "      <th>c</th>\n",
       "      <th>d</th>\n",
       "    </tr>\n",
       "    <tr>\n",
       "      <th>cats</th>\n",
       "      <th></th>\n",
       "      <th></th>\n",
       "    </tr>\n",
       "  </thead>\n",
       "  <tbody>\n",
       "    <tr>\n",
       "      <th>a</th>\n",
       "      <td>1</td>\n",
       "      <td>2</td>\n",
       "    </tr>\n",
       "    <tr>\n",
       "      <th>b</th>\n",
       "      <td>3</td>\n",
       "      <td>4</td>\n",
       "    </tr>\n",
       "    <tr>\n",
       "      <th>c</th>\n",
       "      <td>0</td>\n",
       "      <td>0</td>\n",
       "    </tr>\n",
       "  </tbody>\n",
       "</table>\n",
       "</div>"
      ],
      "text/plain": [
       "B     c  d\n",
       "cats      \n",
       "a     1  2\n",
       "b     3  4\n",
       "c     0  0"
      ]
     },
     "execution_count": 115,
     "metadata": {},
     "output_type": "execute_result"
    }
   ],
   "source": [
    "df2.pivot_table(index='cats', columns='B', values='values', aggfunc='sum')"
   ]
  },
  {
   "cell_type": "code",
   "execution_count": 116,
   "id": "07f31246-dab0-46d0-ab67-4241ff8b4c40",
   "metadata": {},
   "outputs": [
    {
     "data": {
      "text/html": [
       "<div>\n",
       "<style scoped>\n",
       "    .dataframe tbody tr th:only-of-type {\n",
       "        vertical-align: middle;\n",
       "    }\n",
       "\n",
       "    .dataframe tbody tr th {\n",
       "        vertical-align: top;\n",
       "    }\n",
       "\n",
       "    .dataframe thead th {\n",
       "        text-align: right;\n",
       "    }\n",
       "</style>\n",
       "<table border=\"1\" class=\"dataframe\">\n",
       "  <thead>\n",
       "    <tr style=\"text-align: right;\">\n",
       "      <th></th>\n",
       "      <th></th>\n",
       "      <th>values</th>\n",
       "    </tr>\n",
       "    <tr>\n",
       "      <th>A</th>\n",
       "      <th>B</th>\n",
       "      <th></th>\n",
       "    </tr>\n",
       "  </thead>\n",
       "  <tbody>\n",
       "    <tr>\n",
       "      <th rowspan=\"2\" valign=\"top\">a</th>\n",
       "      <th>c</th>\n",
       "      <td>1</td>\n",
       "    </tr>\n",
       "    <tr>\n",
       "      <th>d</th>\n",
       "      <td>2</td>\n",
       "    </tr>\n",
       "    <tr>\n",
       "      <th rowspan=\"2\" valign=\"top\">b</th>\n",
       "      <th>c</th>\n",
       "      <td>3</td>\n",
       "    </tr>\n",
       "    <tr>\n",
       "      <th>d</th>\n",
       "      <td>4</td>\n",
       "    </tr>\n",
       "  </tbody>\n",
       "</table>\n",
       "</div>"
      ],
      "text/plain": [
       "     values\n",
       "A B        \n",
       "a c       1\n",
       "  d       2\n",
       "b c       3\n",
       "  d       4"
      ]
     },
     "execution_count": 116,
     "metadata": {},
     "output_type": "execute_result"
    }
   ],
   "source": [
    "raw_cat = pd.Categorical(['a', 'a', 'b', 'b'], categories=['a', 'b', 'c'])\n",
    "df = pd.DataFrame({'A': raw_cat, 'B': ['c', 'd', 'c', 'd'], 'values': [1,2,3,4]})\n",
    "pd.pivot_table(df, index=['A', 'B'], values='values')"
   ]
  },
  {
   "cell_type": "code",
   "execution_count": 117,
   "id": "52093e4c-223d-48b3-a469-866f31e4be85",
   "metadata": {},
   "outputs": [
    {
     "data": {
      "text/html": [
       "<div>\n",
       "<style scoped>\n",
       "    .dataframe tbody tr th:only-of-type {\n",
       "        vertical-align: middle;\n",
       "    }\n",
       "\n",
       "    .dataframe tbody tr th {\n",
       "        vertical-align: top;\n",
       "    }\n",
       "\n",
       "    .dataframe thead th {\n",
       "        text-align: right;\n",
       "    }\n",
       "</style>\n",
       "<table border=\"1\" class=\"dataframe\">\n",
       "  <thead>\n",
       "    <tr style=\"text-align: right;\">\n",
       "      <th></th>\n",
       "      <th>cats</th>\n",
       "      <th>values</th>\n",
       "    </tr>\n",
       "  </thead>\n",
       "  <tbody>\n",
       "    <tr>\n",
       "      <th>j</th>\n",
       "      <td>b</td>\n",
       "      <td>2</td>\n",
       "    </tr>\n",
       "    <tr>\n",
       "      <th>k</th>\n",
       "      <td>b</td>\n",
       "      <td>2</td>\n",
       "    </tr>\n",
       "  </tbody>\n",
       "</table>\n",
       "</div>"
      ],
      "text/plain": [
       "  cats  values\n",
       "j    b       2\n",
       "k    b       2"
      ]
     },
     "execution_count": 117,
     "metadata": {},
     "output_type": "execute_result"
    }
   ],
   "source": [
    "idx = pd.Index(['h', 'i', 'j', 'k', 'l', 'm', 'n'])\n",
    "cats = pd.Series(['a', 'b', 'b', 'b', 'c', 'c', 'c'], index=idx, dtype='category')\n",
    "values = [1,2,2,2,3,4,5]\n",
    "df = pd.DataFrame({'cats': cats, 'values': values}, index=idx)\n",
    "df.iloc[2:4, :]"
   ]
  },
  {
   "cell_type": "code",
   "execution_count": 122,
   "id": "2ded8b37-984a-4ccc-aa38-b7e2d7c52075",
   "metadata": {},
   "outputs": [
    {
     "data": {
      "text/plain": [
       "cats      category\n",
       "values       int64\n",
       "dtype: object"
      ]
     },
     "execution_count": 122,
     "metadata": {},
     "output_type": "execute_result"
    }
   ],
   "source": [
    "df.iloc[2:4, :].dtypes\n",
    "# df.loc['h': 'j', 'cats']\n",
    "# df[df['cats'] == 'b']"
   ]
  },
  {
   "cell_type": "code",
   "execution_count": 123,
   "id": "06dc570d-9c1b-4cda-be60-eeaf8b46b50d",
   "metadata": {},
   "outputs": [
    {
     "data": {
      "text/plain": [
       "cats      a\n",
       "values    1\n",
       "Name: h, dtype: object"
      ]
     },
     "execution_count": 123,
     "metadata": {},
     "output_type": "execute_result"
    }
   ],
   "source": [
    "df.loc['h', :]"
   ]
  },
  {
   "cell_type": "code",
   "execution_count": 126,
   "id": "b562a4c0-7df6-47c4-b666-dd5570a86bcf",
   "metadata": {},
   "outputs": [
    {
     "data": {
      "text/html": [
       "<div>\n",
       "<style scoped>\n",
       "    .dataframe tbody tr th:only-of-type {\n",
       "        vertical-align: middle;\n",
       "    }\n",
       "\n",
       "    .dataframe tbody tr th {\n",
       "        vertical-align: top;\n",
       "    }\n",
       "\n",
       "    .dataframe thead th {\n",
       "        text-align: right;\n",
       "    }\n",
       "</style>\n",
       "<table border=\"1\" class=\"dataframe\">\n",
       "  <thead>\n",
       "    <tr style=\"text-align: right;\">\n",
       "      <th></th>\n",
       "      <th>cats</th>\n",
       "      <th>values</th>\n",
       "    </tr>\n",
       "  </thead>\n",
       "  <tbody>\n",
       "    <tr>\n",
       "      <th>h</th>\n",
       "      <td>a</td>\n",
       "      <td>1</td>\n",
       "    </tr>\n",
       "  </tbody>\n",
       "</table>\n",
       "</div>"
      ],
      "text/plain": [
       "  cats  values\n",
       "h    a       1"
      ]
     },
     "execution_count": 126,
     "metadata": {},
     "output_type": "execute_result"
    }
   ],
   "source": [
    "df.loc[['h']]"
   ]
  },
  {
   "cell_type": "code",
   "execution_count": 128,
   "id": "a55727dd-40f0-4ac5-b9f2-50c3bce532e9",
   "metadata": {},
   "outputs": [
    {
     "data": {
      "text/plain": [
       "h    a\n",
       "Name: cats, dtype: category\n",
       "Categories (3, object): ['a', 'b', 'c']"
      ]
     },
     "execution_count": 128,
     "metadata": {},
     "output_type": "execute_result"
    }
   ],
   "source": [
    "df.loc[['h'], 'cats']"
   ]
  },
  {
   "cell_type": "code",
   "execution_count": 129,
   "id": "baaff906-106e-4fce-be4b-9235fd437565",
   "metadata": {},
   "outputs": [
    {
     "data": {
      "text/plain": [
       "cats      category\n",
       "values       int64\n",
       "dtype: object"
      ]
     },
     "execution_count": 129,
     "metadata": {},
     "output_type": "execute_result"
    }
   ],
   "source": [
    "df.loc[['h']].dtypes"
   ]
  },
  {
   "cell_type": "code",
   "execution_count": 130,
   "id": "43714f4a-a28c-49b7-850f-f22915e78a05",
   "metadata": {},
   "outputs": [
    {
     "data": {
      "text/plain": [
       "cats      a\n",
       "values    1\n",
       "Name: h, dtype: object"
      ]
     },
     "execution_count": 130,
     "metadata": {},
     "output_type": "execute_result"
    }
   ],
   "source": [
    "df.loc['h']"
   ]
  },
  {
   "cell_type": "code",
   "execution_count": 131,
   "id": "b16ab832-a05c-4783-9979-0b91fed07691",
   "metadata": {},
   "outputs": [
    {
     "data": {
      "text/plain": [
       "0     True\n",
       "1     True\n",
       "2    False\n",
       "3    False\n",
       "dtype: bool"
      ]
     },
     "execution_count": 131,
     "metadata": {},
     "output_type": "execute_result"
    }
   ],
   "source": [
    "str_s = pd.Series(list('aabb'))\n",
    "str_cat = str_s.astype('category')\n",
    "str_cat.str.contains('a')"
   ]
  },
  {
   "cell_type": "code",
   "execution_count": 132,
   "id": "7669a5c0-d21a-4754-9382-1031572c09e2",
   "metadata": {},
   "outputs": [
    {
     "data": {
      "text/plain": [
       "0    1\n",
       "1    2\n",
       "2    3\n",
       "3    4\n",
       "4    5\n",
       "dtype: int64"
      ]
     },
     "execution_count": 132,
     "metadata": {},
     "output_type": "execute_result"
    }
   ],
   "source": [
    "date_s = pd.Series(pd.date_range('1/1/2015', periods=5))\n",
    "date_cat = date_s.astype('category')\n",
    "date_cat.dt.day"
   ]
  },
  {
   "cell_type": "code",
   "execution_count": 139,
   "id": "8a9631e5-f68f-4aee-9555-7c0d414b58d5",
   "metadata": {},
   "outputs": [],
   "source": [
    "idx = pd.Index(['h', 'i', 'j', 'k', 'l', 'm', 'n'])\n",
    "cats = pd.Categorical(['a'] * len(idx), categories=['a', 'b'])\n",
    "values = [1] * len(idx)\n",
    "df = pd.DataFrame({'cats': cats, 'values': values}, index=idx)\n",
    "# df"
   ]
  },
  {
   "cell_type": "code",
   "execution_count": 138,
   "id": "276ab4f2-d576-4678-bebd-dfd298154947",
   "metadata": {},
   "outputs": [
    {
     "data": {
      "text/html": [
       "<div>\n",
       "<style scoped>\n",
       "    .dataframe tbody tr th:only-of-type {\n",
       "        vertical-align: middle;\n",
       "    }\n",
       "\n",
       "    .dataframe tbody tr th {\n",
       "        vertical-align: top;\n",
       "    }\n",
       "\n",
       "    .dataframe thead th {\n",
       "        text-align: right;\n",
       "    }\n",
       "</style>\n",
       "<table border=\"1\" class=\"dataframe\">\n",
       "  <thead>\n",
       "    <tr style=\"text-align: right;\">\n",
       "      <th></th>\n",
       "      <th>cats</th>\n",
       "      <th>values</th>\n",
       "    </tr>\n",
       "  </thead>\n",
       "  <tbody>\n",
       "    <tr>\n",
       "      <th>h</th>\n",
       "      <td>a</td>\n",
       "      <td>1</td>\n",
       "    </tr>\n",
       "    <tr>\n",
       "      <th>i</th>\n",
       "      <td>a</td>\n",
       "      <td>1</td>\n",
       "    </tr>\n",
       "    <tr>\n",
       "      <th>j</th>\n",
       "      <td>b</td>\n",
       "      <td>2</td>\n",
       "    </tr>\n",
       "    <tr>\n",
       "      <th>k</th>\n",
       "      <td>b</td>\n",
       "      <td>2</td>\n",
       "    </tr>\n",
       "    <tr>\n",
       "      <th>l</th>\n",
       "      <td>a</td>\n",
       "      <td>1</td>\n",
       "    </tr>\n",
       "    <tr>\n",
       "      <th>m</th>\n",
       "      <td>a</td>\n",
       "      <td>1</td>\n",
       "    </tr>\n",
       "    <tr>\n",
       "      <th>n</th>\n",
       "      <td>a</td>\n",
       "      <td>1</td>\n",
       "    </tr>\n",
       "  </tbody>\n",
       "</table>\n",
       "</div>"
      ],
      "text/plain": [
       "  cats  values\n",
       "h    a       1\n",
       "i    a       1\n",
       "j    b       2\n",
       "k    b       2\n",
       "l    a       1\n",
       "m    a       1\n",
       "n    a       1"
      ]
     },
     "execution_count": 138,
     "metadata": {},
     "output_type": "execute_result"
    }
   ],
   "source": [
    "df.iloc[2:4, :] = [['b', 2], ['b', 2]]\n",
    "df"
   ]
  },
  {
   "cell_type": "code",
   "execution_count": 141,
   "id": "87213a92-9fc0-48f4-9a1a-d71713c5c824",
   "metadata": {},
   "outputs": [
    {
     "name": "stdout",
     "output_type": "stream",
     "text": [
      "ValueError:  Cannot setitem on a Categorical with a new category, set the categories first\n"
     ]
    }
   ],
   "source": [
    "try:\n",
    "    df.iloc[2:4, :] = [['c', 3], ['c', 3]]\n",
    "except ValueError as e:\n",
    "    print('ValueError: ', str(e))"
   ]
  },
  {
   "cell_type": "code",
   "execution_count": 142,
   "id": "383d1343-44a4-49ed-8e03-af5f3fadde1a",
   "metadata": {},
   "outputs": [
    {
     "data": {
      "text/plain": [
       "0    a\n",
       "1    b\n",
       "0    a\n",
       "1    b\n",
       "2    a\n",
       "dtype: category\n",
       "Categories (2, object): ['a', 'b']"
      ]
     },
     "execution_count": 142,
     "metadata": {},
     "output_type": "execute_result"
    }
   ],
   "source": [
    "from pandas.api.types import union_categoricals\n",
    "s1 = pd.Series(['a', 'b'], dtype='category')\n",
    "s2 = pd.Series(['a', 'b', 'a'], dtype='category')\n",
    "pd.concat([s1, s2]) # category dtype"
   ]
  },
  {
   "cell_type": "code",
   "execution_count": 143,
   "id": "ef77b6d0-bb54-4981-933b-dc458b5b95fb",
   "metadata": {},
   "outputs": [
    {
     "data": {
      "text/plain": [
       "0    a\n",
       "1    b\n",
       "0    b\n",
       "1    c\n",
       "dtype: object"
      ]
     },
     "execution_count": 143,
     "metadata": {},
     "output_type": "execute_result"
    }
   ],
   "source": [
    "s3 = pd.Series(['b', 'c'], dtype='category')\n",
    "pd.concat([s1,s3]) # object"
   ]
  },
  {
   "cell_type": "code",
   "execution_count": 146,
   "id": "acb10df1-8df6-40a5-8e46-5d5b854637a4",
   "metadata": {},
   "outputs": [
    {
     "data": {
      "text/plain": [
       "['a', 'b', 'b', 'c']\n",
       "Categories (3, object): ['a', 'b', 'c']"
      ]
     },
     "execution_count": 146,
     "metadata": {},
     "output_type": "execute_result"
    }
   ],
   "source": [
    "in_cats = pd.Series([1,2], dtype='category')\n",
    "float_cats = pd.Series([3.0, 4.0], dtype='category')\n",
    "# pd.concat([in_cats, float_cats]) # float64\n",
    "# pd.concat([s1, s3]).astype('category')\n",
    "union_categoricals([s1.array, s3.array])"
   ]
  },
  {
   "cell_type": "code",
   "execution_count": 147,
   "id": "994390ea-c520-4be8-9f24-498727d5b565",
   "metadata": {},
   "outputs": [],
   "source": [
    "table = pd.read_html('https://pandas.pydata.org/docs/user_guide/categorical.html')"
   ]
  },
  {
   "cell_type": "code",
   "execution_count": 148,
   "id": "370c2067-be35-4609-9015-dc2719590c57",
   "metadata": {},
   "outputs": [
    {
     "data": {
      "text/html": [
       "<div>\n",
       "<style scoped>\n",
       "    .dataframe tbody tr th:only-of-type {\n",
       "        vertical-align: middle;\n",
       "    }\n",
       "\n",
       "    .dataframe tbody tr th {\n",
       "        vertical-align: top;\n",
       "    }\n",
       "\n",
       "    .dataframe thead th {\n",
       "        text-align: right;\n",
       "    }\n",
       "</style>\n",
       "<table border=\"1\" class=\"dataframe\">\n",
       "  <thead>\n",
       "    <tr style=\"text-align: right;\">\n",
       "      <th></th>\n",
       "      <th>arg1</th>\n",
       "      <th>arg2</th>\n",
       "      <th>identical</th>\n",
       "      <th>result</th>\n",
       "    </tr>\n",
       "  </thead>\n",
       "  <tbody>\n",
       "    <tr>\n",
       "      <th>0</th>\n",
       "      <td>category</td>\n",
       "      <td>category</td>\n",
       "      <td>True</td>\n",
       "      <td>category</td>\n",
       "    </tr>\n",
       "    <tr>\n",
       "      <th>1</th>\n",
       "      <td>category (object)</td>\n",
       "      <td>category (object)</td>\n",
       "      <td>False</td>\n",
       "      <td>object (dtype is inferred)</td>\n",
       "    </tr>\n",
       "    <tr>\n",
       "      <th>2</th>\n",
       "      <td>category (int)</td>\n",
       "      <td>category (float)</td>\n",
       "      <td>False</td>\n",
       "      <td>float (dtype is inferred)</td>\n",
       "    </tr>\n",
       "  </tbody>\n",
       "</table>\n",
       "</div>"
      ],
      "text/plain": [
       "                arg1               arg2  identical                      result\n",
       "0           category           category       True                    category\n",
       "1  category (object)  category (object)      False  object (dtype is inferred)\n",
       "2     category (int)   category (float)      False   float (dtype is inferred)"
      ]
     },
     "execution_count": 148,
     "metadata": {},
     "output_type": "execute_result"
    }
   ],
   "source": [
    "table[0]"
   ]
  },
  {
   "cell_type": "code",
   "execution_count": 150,
   "id": "bfc2bd98-17d8-4fea-9959-8c1d53a56a1a",
   "metadata": {},
   "outputs": [
    {
     "name": "stdout",
     "output_type": "stream",
     "text": [
      "<table border=\"1\" class=\"dataframe\">\n",
      "  <thead>\n",
      "    <tr style=\"text-align: right;\">\n",
      "      <th>arg1</th>\n",
      "      <th>arg2</th>\n",
      "      <th>identical</th>\n",
      "      <th>result</th>\n",
      "    </tr>\n",
      "  </thead>\n",
      "  <tbody>\n",
      "    <tr>\n",
      "      <td>category</td>\n",
      "      <td>category</td>\n",
      "      <td>True</td>\n",
      "      <td>category</td>\n",
      "    </tr>\n",
      "    <tr>\n",
      "      <td>category (object)</td>\n",
      "      <td>category (object)</td>\n",
      "      <td>False</td>\n",
      "      <td>object (dtype is inferred)</td>\n",
      "    </tr>\n",
      "    <tr>\n",
      "      <td>category (int)</td>\n",
      "      <td>category (float)</td>\n",
      "      <td>False</td>\n",
      "      <td>float (dtype is inferred)</td>\n",
      "    </tr>\n",
      "  </tbody>\n",
      "</table>\n"
     ]
    }
   ],
   "source": [
    "print(table[0].to_html(index=False))"
   ]
  },
  {
   "cell_type": "code",
   "execution_count": 151,
   "id": "72cdc063-743f-44a5-ba51-618ab3b2c922",
   "metadata": {},
   "outputs": [
    {
     "data": {
      "text/plain": [
       "['a', 'b', 'a', 'b', 'a']\n",
       "Categories (2, object): ['a' < 'b']"
      ]
     },
     "execution_count": 151,
     "metadata": {},
     "output_type": "execute_result"
    }
   ],
   "source": [
    "a = pd.Categorical(['a', 'b'], ordered=True)\n",
    "b = pd.Categorical(['a', 'b', 'a'], ordered=True)\n",
    "union_categoricals([a, b])"
   ]
  },
  {
   "cell_type": "code",
   "execution_count": 164,
   "id": "acfc83be-92f7-4c9f-90fe-3c484638cecd",
   "metadata": {},
   "outputs": [
    {
     "data": {
      "text/plain": [
       "['c', 'b', 'a', 'a', 'b', 'c']\n",
       "Categories (3, object): ['a' < 'b' < 'c']"
      ]
     },
     "execution_count": 164,
     "metadata": {},
     "output_type": "execute_result"
    }
   ],
   "source": [
    "a1 = pd.Categorical(['c', 'b', 'a'], ordered=True)\n",
    "b1 = pd.Categorical(['a', 'b', 'c'], ordered=True)\n",
    "union_categoricals([a1, b1])\n",
    "# union_categoricals([a1, b1], ignore_order=True)"
   ]
  },
  {
   "cell_type": "code",
   "execution_count": 165,
   "id": "a23a2fcf-3789-4706-a993-9acf57d6b678",
   "metadata": {},
   "outputs": [
    {
     "data": {
      "text/plain": [
       "['b', 'c', 'a', 'b']\n",
       "Categories (3, object): ['b', 'c', 'a']"
      ]
     },
     "execution_count": 165,
     "metadata": {},
     "output_type": "execute_result"
    }
   ],
   "source": [
    "a = pd.Series(['b', 'c'], dtype='category')\n",
    "b = pd.Series(['a', 'b'], dtype='category')\n",
    "union_categoricals([a, b]) # categorical type"
   ]
  },
  {
   "cell_type": "code",
   "execution_count": 166,
   "id": "28df5706-bbba-4b62-af96-9e1ed024155f",
   "metadata": {},
   "outputs": [],
   "source": [
    "import io\n",
    "s = pd.Series(pd.Categorical(['a', 'b', 'b', 'a', 'a', 'd']))\n",
    "s.cat.categories = ['very good', 'good', 'bad']\n",
    "s = s.cat.set_categories(['very bad', 'bad', 'medium', 'good', 'very good'])\n",
    "df = pd.DataFrame({'cats': s, 'vals': list(range(1,7))})\n",
    "csv = io.StringIO()"
   ]
  },
  {
   "cell_type": "code",
   "execution_count": 167,
   "id": "583d2d99-1fcd-4e61-843c-b3b7d2d544f4",
   "metadata": {},
   "outputs": [],
   "source": [
    "df.to_csv(csv)"
   ]
  },
  {
   "cell_type": "code",
   "execution_count": 170,
   "id": "c51eee7d-95ca-4dad-af3b-a7cf9dc4fffc",
   "metadata": {},
   "outputs": [
    {
     "data": {
      "text/plain": [
       "Unnamed: 0     int64\n",
       "cats          object\n",
       "vals           int64\n",
       "dtype: object"
      ]
     },
     "execution_count": 170,
     "metadata": {},
     "output_type": "execute_result"
    }
   ],
   "source": [
    "pd.read_csv(io.StringIO(csv.getvalue())).dtypes"
   ]
  },
  {
   "cell_type": "code",
   "execution_count": 174,
   "id": "246ea2d7-3c38-4c00-85fa-93ffdbab89bf",
   "metadata": {},
   "outputs": [
    {
     "data": {
      "text/plain": [
       "0    a\n",
       "1    b\n",
       "dtype: category\n",
       "Categories (2, object): ['a', 'b']"
      ]
     },
     "execution_count": 174,
     "metadata": {},
     "output_type": "execute_result"
    }
   ],
   "source": [
    "s = pd.Series(['a', 'b', np.nan], dtype='category')\n",
    "# s.isna()\n",
    "# s.fillna('a')\n",
    "s.dropna()"
   ]
  },
  {
   "cell_type": "code",
   "execution_count": null,
   "id": "159adc8d-2ad7-41ab-aef5-36ee09b395fa",
   "metadata": {},
   "outputs": [],
   "source": []
  },
  {
   "cell_type": "code",
   "execution_count": null,
   "id": "85dea3a2-8a91-40d1-9bfb-18a8368f84fd",
   "metadata": {},
   "outputs": [],
   "source": []
  },
  {
   "cell_type": "code",
   "execution_count": 177,
   "id": "07955ba7-40e7-4ee0-a1b5-78f14c7bed53",
   "metadata": {},
   "outputs": [
    {
     "data": {
      "text/plain": [
       "2016"
      ]
     },
     "execution_count": 177,
     "metadata": {},
     "output_type": "execute_result"
    }
   ],
   "source": [
    "s = pd.Series(['foo', 'bar'] * 1000)\n",
    "# s.nbytes # 16000\n",
    "s.astype('category').nbytes"
   ]
  },
  {
   "cell_type": "code",
   "execution_count": 1,
   "id": "4b4a0403-ec0e-4767-8311-91d37a83c959",
   "metadata": {},
   "outputs": [],
   "source": [
    "import numpy as np\n",
    "import pandas as pd"
   ]
  },
  {
   "cell_type": "code",
   "execution_count": 10,
   "id": "969c70ef-27c1-4a87-8098-35ea108cae03",
   "metadata": {},
   "outputs": [],
   "source": [
    "df = pd.DataFrame({ \"A\": [\"foo\", \"bar\", \"foo\", \"bar\", \"foo\", \"bar\", \"foo\", \"foo\"],\n",
    "                    \"B\": [\"one\", \"one\", \"two\", \"three\", \"two\", \"two\", \"one\", \"three\"],\n",
    "                    \"C\": np.random.randn(8),\n",
    "                    \"D\": np.random.randn(8)})"
   ]
  },
  {
   "cell_type": "code",
   "execution_count": 32,
   "id": "d8721716-cc3f-45e7-bdc3-22919f27aa01",
   "metadata": {},
   "outputs": [
    {
     "data": {
      "text/plain": [
       "Index(['A'], dtype='object')"
      ]
     },
     "execution_count": 32,
     "metadata": {},
     "output_type": "execute_result"
    }
   ],
   "source": [
    "def get_lowel_letters(letter):\n",
    "    if letter.lower() in 'aeiou':\n",
    "        return 'vowel'\n",
    "    else: return 'consonant'\n",
    "# df.groupby(get_lowel_letters, axis=1).groups\n",
    "# df.groupby('A').groups\n",
    "df.groupby(get_lowel_letters,axis=1).groups['vowel']"
   ]
  },
  {
   "cell_type": "code",
   "execution_count": 3,
   "id": "2d9f8cff-d3ed-4d39-8b87-bf640da3b3bb",
   "metadata": {},
   "outputs": [
    {
     "data": {
      "text/html": [
       "<div>\n",
       "<style scoped>\n",
       "    .dataframe tbody tr th:only-of-type {\n",
       "        vertical-align: middle;\n",
       "    }\n",
       "\n",
       "    .dataframe tbody tr th {\n",
       "        vertical-align: top;\n",
       "    }\n",
       "\n",
       "    .dataframe thead th {\n",
       "        text-align: right;\n",
       "    }\n",
       "</style>\n",
       "<table border=\"1\" class=\"dataframe\">\n",
       "  <thead>\n",
       "    <tr style=\"text-align: right;\">\n",
       "      <th></th>\n",
       "      <th>Y</th>\n",
       "    </tr>\n",
       "    <tr>\n",
       "      <th>X</th>\n",
       "      <th></th>\n",
       "    </tr>\n",
       "  </thead>\n",
       "  <tbody>\n",
       "    <tr>\n",
       "      <th>A</th>\n",
       "      <td>7</td>\n",
       "    </tr>\n",
       "    <tr>\n",
       "      <th>B</th>\n",
       "      <td>3</td>\n",
       "    </tr>\n",
       "  </tbody>\n",
       "</table>\n",
       "</div>"
      ],
      "text/plain": [
       "   Y\n",
       "X   \n",
       "A  7\n",
       "B  3"
      ]
     },
     "execution_count": 3,
     "metadata": {},
     "output_type": "execute_result"
    }
   ],
   "source": [
    "# df2 = pd.DataFrame({'X': list('BBAA'), 'Y':list(range(1,5))})\n",
    "df2.groupby('X').sum()"
   ]
  },
  {
   "cell_type": "code",
   "execution_count": 5,
   "id": "df715316-a1a2-43e4-a099-3de2e5d8e2f4",
   "metadata": {},
   "outputs": [
    {
     "data": {
      "text/html": [
       "<div>\n",
       "<style scoped>\n",
       "    .dataframe tbody tr th:only-of-type {\n",
       "        vertical-align: middle;\n",
       "    }\n",
       "\n",
       "    .dataframe tbody tr th {\n",
       "        vertical-align: top;\n",
       "    }\n",
       "\n",
       "    .dataframe thead th {\n",
       "        text-align: right;\n",
       "    }\n",
       "</style>\n",
       "<table border=\"1\" class=\"dataframe\">\n",
       "  <thead>\n",
       "    <tr style=\"text-align: right;\">\n",
       "      <th></th>\n",
       "      <th>Y</th>\n",
       "    </tr>\n",
       "    <tr>\n",
       "      <th>X</th>\n",
       "      <th></th>\n",
       "    </tr>\n",
       "  </thead>\n",
       "  <tbody>\n",
       "    <tr>\n",
       "      <th>B</th>\n",
       "      <td>3</td>\n",
       "    </tr>\n",
       "    <tr>\n",
       "      <th>A</th>\n",
       "      <td>7</td>\n",
       "    </tr>\n",
       "  </tbody>\n",
       "</table>\n",
       "</div>"
      ],
      "text/plain": [
       "   Y\n",
       "X   \n",
       "B  3\n",
       "A  7"
      ]
     },
     "execution_count": 5,
     "metadata": {},
     "output_type": "execute_result"
    }
   ],
   "source": [
    "df2.groupby('X', sort=False).sum()"
   ]
  },
  {
   "cell_type": "code",
   "execution_count": 6,
   "id": "f91565d8-4318-49ff-9543-3e22f6da6839",
   "metadata": {},
   "outputs": [
    {
     "data": {
      "text/html": [
       "<div>\n",
       "<style scoped>\n",
       "    .dataframe tbody tr th:only-of-type {\n",
       "        vertical-align: middle;\n",
       "    }\n",
       "\n",
       "    .dataframe tbody tr th {\n",
       "        vertical-align: top;\n",
       "    }\n",
       "\n",
       "    .dataframe thead th {\n",
       "        text-align: right;\n",
       "    }\n",
       "</style>\n",
       "<table border=\"1\" class=\"dataframe\">\n",
       "  <thead>\n",
       "    <tr style=\"text-align: right;\">\n",
       "      <th></th>\n",
       "      <th>X</th>\n",
       "      <th>Y</th>\n",
       "    </tr>\n",
       "  </thead>\n",
       "  <tbody>\n",
       "    <tr>\n",
       "      <th>0</th>\n",
       "      <td>A</td>\n",
       "      <td>1</td>\n",
       "    </tr>\n",
       "    <tr>\n",
       "      <th>2</th>\n",
       "      <td>A</td>\n",
       "      <td>3</td>\n",
       "    </tr>\n",
       "  </tbody>\n",
       "</table>\n",
       "</div>"
      ],
      "text/plain": [
       "   X  Y\n",
       "0  A  1\n",
       "2  A  3"
      ]
     },
     "execution_count": 6,
     "metadata": {},
     "output_type": "execute_result"
    }
   ],
   "source": [
    "df3 = pd.DataFrame({'X': list('ABAB'), 'Y':[1,4,3,2]})\n",
    "df3.groupby('X').get_group('A')"
   ]
  },
  {
   "cell_type": "code",
   "execution_count": 7,
   "id": "c23fd41f-5659-464d-bfc8-bcb058939380",
   "metadata": {},
   "outputs": [
    {
     "data": {
      "text/html": [
       "<div>\n",
       "<style scoped>\n",
       "    .dataframe tbody tr th:only-of-type {\n",
       "        vertical-align: middle;\n",
       "    }\n",
       "\n",
       "    .dataframe tbody tr th {\n",
       "        vertical-align: top;\n",
       "    }\n",
       "\n",
       "    .dataframe thead th {\n",
       "        text-align: right;\n",
       "    }\n",
       "</style>\n",
       "<table border=\"1\" class=\"dataframe\">\n",
       "  <thead>\n",
       "    <tr style=\"text-align: right;\">\n",
       "      <th></th>\n",
       "      <th>X</th>\n",
       "      <th>Y</th>\n",
       "    </tr>\n",
       "  </thead>\n",
       "  <tbody>\n",
       "    <tr>\n",
       "      <th>1</th>\n",
       "      <td>B</td>\n",
       "      <td>4</td>\n",
       "    </tr>\n",
       "    <tr>\n",
       "      <th>3</th>\n",
       "      <td>B</td>\n",
       "      <td>2</td>\n",
       "    </tr>\n",
       "  </tbody>\n",
       "</table>\n",
       "</div>"
      ],
      "text/plain": [
       "   X  Y\n",
       "1  B  4\n",
       "3  B  2"
      ]
     },
     "execution_count": 7,
     "metadata": {},
     "output_type": "execute_result"
    }
   ],
   "source": [
    "df3.groupby('X').get_group('B')"
   ]
  },
  {
   "cell_type": "code",
   "execution_count": null,
   "id": "21d30fee-689b-47bb-a1bb-0edf112876db",
   "metadata": {},
   "outputs": [],
   "source": []
  },
  {
   "cell_type": "code",
   "execution_count": 42,
   "id": "76b88939-ef27-4688-b8dd-528dd33a39b4",
   "metadata": {},
   "outputs": [
    {
     "data": {
      "text/plain": [
       "first  last\n",
       "bar    one    -1.093414\n",
       "       two     0.959311\n",
       "baz    one    -0.261967\n",
       "       two    -0.483806\n",
       "foo    one    -1.946938\n",
       "       two     0.404222\n",
       "qux    one    -0.392549\n",
       "       two    -0.014582\n",
       "dtype: float64"
      ]
     },
     "execution_count": 42,
     "metadata": {},
     "output_type": "execute_result"
    }
   ],
   "source": [
    "# arrays = [  [\"bar\", \"bar\", \"baz\", \"baz\", \"foo\", \"foo\", \"qux\", \"qux\"],\n",
    "#         [\"one\", \"two\", \"one\", \"two\", \"one\", \"two\", \"one\", \"two\"]]\n",
    "# index = pd.MultiIndex.from_arrays(arrays, names=['first', 'last'])\n",
    "# s = pd.Series(np.random.randn(8), index=index)\n",
    "# s.groupby(level=1).sum() # by last index column\n",
    "# s.groupby(level=0).sum() # by first index column\n",
    "# s.groupby(level='last').sum()\n",
    "# s.groupby(level='first').sum()\n",
    "# s.groupby(level=[0,1]).sum()\n",
    "s.groupby(level=['first', 'last']).sum()"
   ]
  },
  {
   "cell_type": "code",
   "execution_count": 45,
   "id": "421c522b-e8f2-4972-a8fd-91fcdc949ac5",
   "metadata": {},
   "outputs": [
    {
     "data": {
      "text/html": [
       "<div>\n",
       "<style scoped>\n",
       "    .dataframe tbody tr th:only-of-type {\n",
       "        vertical-align: middle;\n",
       "    }\n",
       "\n",
       "    .dataframe tbody tr th {\n",
       "        vertical-align: top;\n",
       "    }\n",
       "\n",
       "    .dataframe thead th {\n",
       "        text-align: right;\n",
       "    }\n",
       "</style>\n",
       "<table border=\"1\" class=\"dataframe\">\n",
       "  <thead>\n",
       "    <tr style=\"text-align: right;\">\n",
       "      <th></th>\n",
       "      <th></th>\n",
       "      <th>B</th>\n",
       "    </tr>\n",
       "    <tr>\n",
       "      <th>second</th>\n",
       "      <th>A</th>\n",
       "      <th></th>\n",
       "    </tr>\n",
       "  </thead>\n",
       "  <tbody>\n",
       "    <tr>\n",
       "      <th rowspan=\"3\" valign=\"top\">one</th>\n",
       "      <th>1</th>\n",
       "      <td>2</td>\n",
       "    </tr>\n",
       "    <tr>\n",
       "      <th>2</th>\n",
       "      <td>4</td>\n",
       "    </tr>\n",
       "    <tr>\n",
       "      <th>3</th>\n",
       "      <td>6</td>\n",
       "    </tr>\n",
       "    <tr>\n",
       "      <th rowspan=\"3\" valign=\"top\">two</th>\n",
       "      <th>1</th>\n",
       "      <td>4</td>\n",
       "    </tr>\n",
       "    <tr>\n",
       "      <th>2</th>\n",
       "      <td>5</td>\n",
       "    </tr>\n",
       "    <tr>\n",
       "      <th>3</th>\n",
       "      <td>7</td>\n",
       "    </tr>\n",
       "  </tbody>\n",
       "</table>\n",
       "</div>"
      ],
      "text/plain": [
       "          B\n",
       "second A   \n",
       "one    1  2\n",
       "       2  4\n",
       "       3  6\n",
       "two    1  4\n",
       "       2  5\n",
       "       3  7"
      ]
     },
     "execution_count": 45,
     "metadata": {},
     "output_type": "execute_result"
    }
   ],
   "source": [
    "arrays = [  [\"bar\", \"bar\", \"baz\", \"baz\", \"foo\", \"foo\", \"qux\", \"qux\"],\n",
    "            [\"one\", \"two\", \"one\", \"two\", \"one\", \"two\", \"one\", \"two\"]]\n",
    "index = pd.MultiIndex.from_arrays(arrays, names=['first', 'second'])\n",
    "df = pd.DataFrame({'A': [1,1,1,1,2,2,3,3], 'B': np.arange(8)}, index=index)\n",
    "# df.groupby([pd.Grouper(level=1), 'A']).sum()\n",
    "df.groupby(['second', 'A']).sum()"
   ]
  },
  {
   "cell_type": "code",
   "execution_count": 73,
   "id": "84dd8893-e692-44d5-acbc-d5f7757c51e2",
   "metadata": {},
   "outputs": [],
   "source": [
    "df = pd.DataFrame({ \"A\": [\"foo\", \"bar\", \"foo\", \"bar\", \"foo\", \"bar\", \"foo\", \"foo\"],\n",
    "                    \"B\": [\"one\", \"one\", \"two\", \"three\", \"two\", \"two\", \"one\", \"three\"],\n",
    "                    \"C\": np.random.randn(8),\n",
    "                    \"D\": np.random.randn(8)})\n",
    "grouped = df.groupby('A')\n",
    "# grouped\n",
    "# grouped['C'].sum()\n",
    "# grouped['D']"
   ]
  },
  {
   "cell_type": "code",
   "execution_count": 70,
   "id": "c6267127-748d-4cd2-b492-65952161db1b",
   "metadata": {},
   "outputs": [
    {
     "name": "stdout",
     "output_type": "stream",
     "text": [
      "bar\n",
      "     A      B         C         D\n",
      "1  bar    one  0.233595  1.146701\n",
      "3  bar  three  0.221399  0.183681\n",
      "5  bar    two -0.665916  1.931477\n",
      "foo\n",
      "     A      B         C         D\n",
      "0  foo    one -2.548750 -1.099764\n",
      "2  foo    two  0.136766 -1.428449\n",
      "4  foo    two  0.896486 -1.959980\n",
      "6  foo    one -0.828874 -2.420626\n",
      "7  foo  three  0.723745  1.120413\n"
     ]
    }
   ],
   "source": [
    "for name, group in grouped:\n",
    "    print(name)\n",
    "    print(group)"
   ]
  },
  {
   "cell_type": "code",
   "execution_count": 74,
   "id": "969a7ff5-f1e9-49f1-9185-648adc80a6a6",
   "metadata": {},
   "outputs": [
    {
     "data": {
      "text/html": [
       "<div>\n",
       "<style scoped>\n",
       "    .dataframe tbody tr th:only-of-type {\n",
       "        vertical-align: middle;\n",
       "    }\n",
       "\n",
       "    .dataframe tbody tr th {\n",
       "        vertical-align: top;\n",
       "    }\n",
       "\n",
       "    .dataframe thead th {\n",
       "        text-align: right;\n",
       "    }\n",
       "</style>\n",
       "<table border=\"1\" class=\"dataframe\">\n",
       "  <thead>\n",
       "    <tr style=\"text-align: right;\">\n",
       "      <th></th>\n",
       "      <th>A</th>\n",
       "      <th>B</th>\n",
       "      <th>C</th>\n",
       "      <th>D</th>\n",
       "    </tr>\n",
       "  </thead>\n",
       "  <tbody>\n",
       "    <tr>\n",
       "      <th>1</th>\n",
       "      <td>bar</td>\n",
       "      <td>one</td>\n",
       "      <td>0.567940</td>\n",
       "      <td>0.249974</td>\n",
       "    </tr>\n",
       "    <tr>\n",
       "      <th>3</th>\n",
       "      <td>bar</td>\n",
       "      <td>three</td>\n",
       "      <td>-1.840727</td>\n",
       "      <td>-0.466492</td>\n",
       "    </tr>\n",
       "    <tr>\n",
       "      <th>5</th>\n",
       "      <td>bar</td>\n",
       "      <td>two</td>\n",
       "      <td>0.074895</td>\n",
       "      <td>-0.927881</td>\n",
       "    </tr>\n",
       "  </tbody>\n",
       "</table>\n",
       "</div>"
      ],
      "text/plain": [
       "     A      B         C         D\n",
       "1  bar    one  0.567940  0.249974\n",
       "3  bar  three -1.840727 -0.466492\n",
       "5  bar    two  0.074895 -0.927881"
      ]
     },
     "execution_count": 74,
     "metadata": {},
     "output_type": "execute_result"
    }
   ],
   "source": [
    "grouped.get_group('bar')\n",
    "# grouped.get_group('foo')\n",
    "# df.groupby(['A', 'B']).get_group(('bar', 'one'))"
   ]
  },
  {
   "cell_type": "code",
   "execution_count": 79,
   "id": "8cbd7d0b-0d27-4c66-8432-526dd0e74bf0",
   "metadata": {},
   "outputs": [
    {
     "name": "stdout",
     "output_type": "stream",
     "text": [
      "bar\n",
      "1    1.049793\n",
      "3   -0.401978\n",
      "5   -2.333477\n",
      "Name: C, dtype: float64\n",
      "foo\n",
      "0   -0.864925\n",
      "2    2.108012\n",
      "4    0.216225\n",
      "6   -0.139278\n",
      "7   -1.299604\n",
      "Name: C, dtype: float64\n"
     ]
    }
   ],
   "source": [
    "for i, j in grouped_C:\n",
    "    print(i)\n",
    "    print(j)"
   ]
  },
  {
   "cell_type": "code",
   "execution_count": 78,
   "id": "a0954e5c-1685-4ab1-8bf0-3d6a5278a632",
   "metadata": {},
   "outputs": [
    {
     "name": "stdout",
     "output_type": "stream",
     "text": [
      "('bar',      A      B         C         D\n",
      "1  bar    one  0.567940  0.249974\n",
      "3  bar  three -1.840727 -0.466492\n",
      "5  bar    two  0.074895 -0.927881)\n",
      "('foo',      A      B         C         D\n",
      "0  foo    one -0.285382  0.839480\n",
      "2  foo    two -0.562378  0.924753\n",
      "4  foo    two  1.137565 -0.456300\n",
      "6  foo    one  2.002370  0.423708\n",
      "7  foo  three  1.223982  1.646187)\n"
     ]
    }
   ],
   "source": [
    "for i in grouped:\n",
    "    print(i)"
   ]
  },
  {
   "cell_type": "code",
   "execution_count": 83,
   "id": "31c366e8-8ce9-463e-8d56-68fae478e852",
   "metadata": {},
   "outputs": [
    {
     "data": {
      "text/html": [
       "<div>\n",
       "<style scoped>\n",
       "    .dataframe tbody tr th:only-of-type {\n",
       "        vertical-align: middle;\n",
       "    }\n",
       "\n",
       "    .dataframe tbody tr th {\n",
       "        vertical-align: top;\n",
       "    }\n",
       "\n",
       "    .dataframe thead th {\n",
       "        text-align: right;\n",
       "    }\n",
       "</style>\n",
       "<table border=\"1\" class=\"dataframe\">\n",
       "  <thead>\n",
       "    <tr style=\"text-align: right;\">\n",
       "      <th></th>\n",
       "      <th>A</th>\n",
       "      <th>B</th>\n",
       "      <th>C</th>\n",
       "      <th>D</th>\n",
       "    </tr>\n",
       "  </thead>\n",
       "  <tbody>\n",
       "    <tr>\n",
       "      <th>0</th>\n",
       "      <td>foo</td>\n",
       "      <td>one</td>\n",
       "      <td>-0.285382</td>\n",
       "      <td>0.839480</td>\n",
       "    </tr>\n",
       "    <tr>\n",
       "      <th>6</th>\n",
       "      <td>foo</td>\n",
       "      <td>one</td>\n",
       "      <td>2.002370</td>\n",
       "      <td>0.423708</td>\n",
       "    </tr>\n",
       "  </tbody>\n",
       "</table>\n",
       "</div>"
      ],
      "text/plain": [
       "     A    B         C         D\n",
       "0  foo  one -0.285382  0.839480\n",
       "6  foo  one  2.002370  0.423708"
      ]
     },
     "execution_count": 83,
     "metadata": {},
     "output_type": "execute_result"
    }
   ],
   "source": [
    "df.groupby(['A', 'B']).get_group(('foo', 'one'))"
   ]
  },
  {
   "cell_type": "code",
   "execution_count": 85,
   "id": "c1495061-eabe-4e46-b652-5421bdb6da59",
   "metadata": {},
   "outputs": [
    {
     "data": {
      "text/plain": [
       "{'bar': [1, 3, 5], 'foo': [0, 2, 4, 6, 7]}"
      ]
     },
     "execution_count": 85,
     "metadata": {},
     "output_type": "execute_result"
    }
   ],
   "source": [
    "grouped.groups"
   ]
  },
  {
   "cell_type": "code",
   "execution_count": 86,
   "id": "55fc99fc-5db1-4e70-b29d-671265e21d09",
   "metadata": {},
   "outputs": [
    {
     "name": "stdout",
     "output_type": "stream",
     "text": [
      "bar\n",
      "     A      B         C         D\n",
      "1  bar    one  0.567940  0.249974\n",
      "3  bar  three -1.840727 -0.466492\n",
      "5  bar    two  0.074895 -0.927881\n",
      "foo\n",
      "     A      B         C         D\n",
      "0  foo    one -0.285382  0.839480\n",
      "2  foo    two -0.562378  0.924753\n",
      "4  foo    two  1.137565 -0.456300\n",
      "6  foo    one  2.002370  0.423708\n",
      "7  foo  three  1.223982  1.646187\n"
     ]
    }
   ],
   "source": [
    "for i, j in grouped:\n",
    "    print(i)\n",
    "    print(j)"
   ]
  },
  {
   "cell_type": "code",
   "execution_count": 89,
   "id": "44076b79-3fe1-42e4-927f-6cfcc979be42",
   "metadata": {},
   "outputs": [
    {
     "data": {
      "text/html": [
       "<div>\n",
       "<style scoped>\n",
       "    .dataframe tbody tr th:only-of-type {\n",
       "        vertical-align: middle;\n",
       "    }\n",
       "\n",
       "    .dataframe tbody tr th {\n",
       "        vertical-align: top;\n",
       "    }\n",
       "\n",
       "    .dataframe thead th {\n",
       "        text-align: right;\n",
       "    }\n",
       "</style>\n",
       "<table border=\"1\" class=\"dataframe\">\n",
       "  <thead>\n",
       "    <tr style=\"text-align: right;\">\n",
       "      <th></th>\n",
       "      <th>A</th>\n",
       "      <th>C</th>\n",
       "      <th>D</th>\n",
       "    </tr>\n",
       "  </thead>\n",
       "  <tbody>\n",
       "    <tr>\n",
       "      <th>0</th>\n",
       "      <td>bar</td>\n",
       "      <td>-1.197891</td>\n",
       "      <td>-1.144399</td>\n",
       "    </tr>\n",
       "    <tr>\n",
       "      <th>1</th>\n",
       "      <td>foo</td>\n",
       "      <td>3.516157</td>\n",
       "      <td>3.377829</td>\n",
       "    </tr>\n",
       "  </tbody>\n",
       "</table>\n",
       "</div>"
      ],
      "text/plain": [
       "     A         C         D\n",
       "0  bar -1.197891 -1.144399\n",
       "1  foo  3.516157  3.377829"
      ]
     },
     "execution_count": 89,
     "metadata": {},
     "output_type": "execute_result"
    }
   ],
   "source": [
    "# df.groupby('A', as_index=False).sum()\n",
    "df.groupby('A').sum().reset_index()"
   ]
  },
  {
   "cell_type": "code",
   "execution_count": 96,
   "id": "24a91a32-7251-466f-83e1-fb1667e089cb",
   "metadata": {},
   "outputs": [
    {
     "data": {
      "text/plain": [
       "A    B    \n",
       "bar  one      1\n",
       "     three    1\n",
       "     two      1\n",
       "foo  one      2\n",
       "     three    1\n",
       "     two      2\n",
       "dtype: int64"
      ]
     },
     "execution_count": 96,
     "metadata": {},
     "output_type": "execute_result"
    }
   ],
   "source": [
    "grouped = df.groupby(['A', 'B'])\n",
    "grouped.size()\n",
    "# grouped.sum()\n",
    "# df.groupby('A').sum().size"
   ]
  },
  {
   "cell_type": "code",
   "execution_count": 99,
   "id": "f9d4d6e7-0730-48c0-9b1a-5d3dcfc36bf5",
   "metadata": {},
   "outputs": [
    {
     "data": {
      "text/html": [
       "<div>\n",
       "<style scoped>\n",
       "    .dataframe tbody tr th:only-of-type {\n",
       "        vertical-align: middle;\n",
       "    }\n",
       "\n",
       "    .dataframe tbody tr th {\n",
       "        vertical-align: top;\n",
       "    }\n",
       "\n",
       "    .dataframe thead tr th {\n",
       "        text-align: left;\n",
       "    }\n",
       "\n",
       "    .dataframe thead tr:last-of-type th {\n",
       "        text-align: right;\n",
       "    }\n",
       "</style>\n",
       "<table border=\"1\" class=\"dataframe\">\n",
       "  <thead>\n",
       "    <tr>\n",
       "      <th></th>\n",
       "      <th></th>\n",
       "      <th colspan=\"8\" halign=\"left\">C</th>\n",
       "      <th colspan=\"8\" halign=\"left\">D</th>\n",
       "    </tr>\n",
       "    <tr>\n",
       "      <th></th>\n",
       "      <th></th>\n",
       "      <th>count</th>\n",
       "      <th>mean</th>\n",
       "      <th>std</th>\n",
       "      <th>min</th>\n",
       "      <th>25%</th>\n",
       "      <th>50%</th>\n",
       "      <th>75%</th>\n",
       "      <th>max</th>\n",
       "      <th>count</th>\n",
       "      <th>mean</th>\n",
       "      <th>std</th>\n",
       "      <th>min</th>\n",
       "      <th>25%</th>\n",
       "      <th>50%</th>\n",
       "      <th>75%</th>\n",
       "      <th>max</th>\n",
       "    </tr>\n",
       "    <tr>\n",
       "      <th>A</th>\n",
       "      <th>B</th>\n",
       "      <th></th>\n",
       "      <th></th>\n",
       "      <th></th>\n",
       "      <th></th>\n",
       "      <th></th>\n",
       "      <th></th>\n",
       "      <th></th>\n",
       "      <th></th>\n",
       "      <th></th>\n",
       "      <th></th>\n",
       "      <th></th>\n",
       "      <th></th>\n",
       "      <th></th>\n",
       "      <th></th>\n",
       "      <th></th>\n",
       "      <th></th>\n",
       "    </tr>\n",
       "  </thead>\n",
       "  <tbody>\n",
       "    <tr>\n",
       "      <th rowspan=\"3\" valign=\"top\">bar</th>\n",
       "      <th>one</th>\n",
       "      <td>1.0</td>\n",
       "      <td>0.567940</td>\n",
       "      <td>NaN</td>\n",
       "      <td>0.567940</td>\n",
       "      <td>0.567940</td>\n",
       "      <td>0.567940</td>\n",
       "      <td>0.567940</td>\n",
       "      <td>0.567940</td>\n",
       "      <td>1.0</td>\n",
       "      <td>0.249974</td>\n",
       "      <td>NaN</td>\n",
       "      <td>0.249974</td>\n",
       "      <td>0.249974</td>\n",
       "      <td>0.249974</td>\n",
       "      <td>0.249974</td>\n",
       "      <td>0.249974</td>\n",
       "    </tr>\n",
       "    <tr>\n",
       "      <th>three</th>\n",
       "      <td>1.0</td>\n",
       "      <td>-1.840727</td>\n",
       "      <td>NaN</td>\n",
       "      <td>-1.840727</td>\n",
       "      <td>-1.840727</td>\n",
       "      <td>-1.840727</td>\n",
       "      <td>-1.840727</td>\n",
       "      <td>-1.840727</td>\n",
       "      <td>1.0</td>\n",
       "      <td>-0.466492</td>\n",
       "      <td>NaN</td>\n",
       "      <td>-0.466492</td>\n",
       "      <td>-0.466492</td>\n",
       "      <td>-0.466492</td>\n",
       "      <td>-0.466492</td>\n",
       "      <td>-0.466492</td>\n",
       "    </tr>\n",
       "    <tr>\n",
       "      <th>two</th>\n",
       "      <td>1.0</td>\n",
       "      <td>0.074895</td>\n",
       "      <td>NaN</td>\n",
       "      <td>0.074895</td>\n",
       "      <td>0.074895</td>\n",
       "      <td>0.074895</td>\n",
       "      <td>0.074895</td>\n",
       "      <td>0.074895</td>\n",
       "      <td>1.0</td>\n",
       "      <td>-0.927881</td>\n",
       "      <td>NaN</td>\n",
       "      <td>-0.927881</td>\n",
       "      <td>-0.927881</td>\n",
       "      <td>-0.927881</td>\n",
       "      <td>-0.927881</td>\n",
       "      <td>-0.927881</td>\n",
       "    </tr>\n",
       "    <tr>\n",
       "      <th rowspan=\"3\" valign=\"top\">foo</th>\n",
       "      <th>one</th>\n",
       "      <td>2.0</td>\n",
       "      <td>0.858494</td>\n",
       "      <td>1.617685</td>\n",
       "      <td>-0.285382</td>\n",
       "      <td>0.286556</td>\n",
       "      <td>0.858494</td>\n",
       "      <td>1.430432</td>\n",
       "      <td>2.002370</td>\n",
       "      <td>2.0</td>\n",
       "      <td>0.631594</td>\n",
       "      <td>0.293995</td>\n",
       "      <td>0.423708</td>\n",
       "      <td>0.527651</td>\n",
       "      <td>0.631594</td>\n",
       "      <td>0.735537</td>\n",
       "      <td>0.839480</td>\n",
       "    </tr>\n",
       "    <tr>\n",
       "      <th>three</th>\n",
       "      <td>1.0</td>\n",
       "      <td>1.223982</td>\n",
       "      <td>NaN</td>\n",
       "      <td>1.223982</td>\n",
       "      <td>1.223982</td>\n",
       "      <td>1.223982</td>\n",
       "      <td>1.223982</td>\n",
       "      <td>1.223982</td>\n",
       "      <td>1.0</td>\n",
       "      <td>1.646187</td>\n",
       "      <td>NaN</td>\n",
       "      <td>1.646187</td>\n",
       "      <td>1.646187</td>\n",
       "      <td>1.646187</td>\n",
       "      <td>1.646187</td>\n",
       "      <td>1.646187</td>\n",
       "    </tr>\n",
       "    <tr>\n",
       "      <th>two</th>\n",
       "      <td>2.0</td>\n",
       "      <td>0.287594</td>\n",
       "      <td>1.202041</td>\n",
       "      <td>-0.562378</td>\n",
       "      <td>-0.137392</td>\n",
       "      <td>0.287594</td>\n",
       "      <td>0.712579</td>\n",
       "      <td>1.137565</td>\n",
       "      <td>2.0</td>\n",
       "      <td>0.234227</td>\n",
       "      <td>0.976552</td>\n",
       "      <td>-0.456300</td>\n",
       "      <td>-0.111037</td>\n",
       "      <td>0.234227</td>\n",
       "      <td>0.579490</td>\n",
       "      <td>0.924753</td>\n",
       "    </tr>\n",
       "  </tbody>\n",
       "</table>\n",
       "</div>"
      ],
      "text/plain": [
       "              C                                                              \\\n",
       "          count      mean       std       min       25%       50%       75%   \n",
       "A   B                                                                         \n",
       "bar one     1.0  0.567940       NaN  0.567940  0.567940  0.567940  0.567940   \n",
       "    three   1.0 -1.840727       NaN -1.840727 -1.840727 -1.840727 -1.840727   \n",
       "    two     1.0  0.074895       NaN  0.074895  0.074895  0.074895  0.074895   \n",
       "foo one     2.0  0.858494  1.617685 -0.285382  0.286556  0.858494  1.430432   \n",
       "    three   1.0  1.223982       NaN  1.223982  1.223982  1.223982  1.223982   \n",
       "    two     2.0  0.287594  1.202041 -0.562378 -0.137392  0.287594  0.712579   \n",
       "\n",
       "                        D                                                    \\\n",
       "                max count      mean       std       min       25%       50%   \n",
       "A   B                                                                         \n",
       "bar one    0.567940   1.0  0.249974       NaN  0.249974  0.249974  0.249974   \n",
       "    three -1.840727   1.0 -0.466492       NaN -0.466492 -0.466492 -0.466492   \n",
       "    two    0.074895   1.0 -0.927881       NaN -0.927881 -0.927881 -0.927881   \n",
       "foo one    2.002370   2.0  0.631594  0.293995  0.423708  0.527651  0.631594   \n",
       "    three  1.223982   1.0  1.646187       NaN  1.646187  1.646187  1.646187   \n",
       "    two    1.137565   2.0  0.234227  0.976552 -0.456300 -0.111037  0.234227   \n",
       "\n",
       "                               \n",
       "                75%       max  \n",
       "A   B                          \n",
       "bar one    0.249974  0.249974  \n",
       "    three -0.466492 -0.466492  \n",
       "    two   -0.927881 -0.927881  \n",
       "foo one    0.735537  0.839480  \n",
       "    three  1.646187  1.646187  \n",
       "    two    0.579490  0.924753  "
      ]
     },
     "execution_count": 99,
     "metadata": {},
     "output_type": "execute_result"
    }
   ],
   "source": [
    "grouped.describe()"
   ]
  },
  {
   "cell_type": "code",
   "execution_count": 109,
   "id": "e86ab5d2-5261-459e-a198-a42a33a0bc67",
   "metadata": {},
   "outputs": [
    {
     "data": {
      "text/plain": [
       "A    B\n",
       "bar  1    2\n",
       "foo  2    2\n",
       "     1    1\n",
       "dtype: int64"
      ]
     },
     "execution_count": 109,
     "metadata": {},
     "output_type": "execute_result"
    }
   ],
   "source": [
    "data = [['foo', 1], ['foo', 2], ['foo', 2], ['bar', 1], ['bar', 1]]\n",
    "df4 = pd.DataFrame(data, columns=['A', 'B'])\n",
    "df4.value_counts()"
   ]
  },
  {
   "cell_type": "code",
   "execution_count": 111,
   "id": "a4fdcbdf-7bff-4089-99a4-788eb9102926",
   "metadata": {},
   "outputs": [
    {
     "data": {
      "text/html": [
       "<div>\n",
       "<style scoped>\n",
       "    .dataframe tbody tr th:only-of-type {\n",
       "        vertical-align: middle;\n",
       "    }\n",
       "\n",
       "    .dataframe tbody tr th {\n",
       "        vertical-align: top;\n",
       "    }\n",
       "\n",
       "    .dataframe thead th {\n",
       "        text-align: right;\n",
       "    }\n",
       "</style>\n",
       "<table border=\"1\" class=\"dataframe\">\n",
       "  <thead>\n",
       "    <tr style=\"text-align: right;\">\n",
       "      <th></th>\n",
       "      <th></th>\n",
       "    </tr>\n",
       "    <tr>\n",
       "      <th>A</th>\n",
       "      <th>B</th>\n",
       "    </tr>\n",
       "  </thead>\n",
       "  <tbody>\n",
       "    <tr>\n",
       "      <th>bar</th>\n",
       "      <th>1</th>\n",
       "    </tr>\n",
       "    <tr>\n",
       "      <th rowspan=\"2\" valign=\"top\">foo</th>\n",
       "      <th>1</th>\n",
       "    </tr>\n",
       "    <tr>\n",
       "      <th>2</th>\n",
       "    </tr>\n",
       "  </tbody>\n",
       "</table>\n",
       "</div>"
      ],
      "text/plain": [
       "Empty DataFrame\n",
       "Columns: []\n",
       "Index: [(bar, 1), (foo, 1), (foo, 2)]"
      ]
     },
     "execution_count": 111,
     "metadata": {},
     "output_type": "execute_result"
    }
   ],
   "source": [
    "df4.groupby(['A', 'B']).nunique()"
   ]
  },
  {
   "cell_type": "code",
   "execution_count": 113,
   "id": "2e8e30b3-3c34-40e3-b2b4-3ee452bd5b3c",
   "metadata": {},
   "outputs": [
    {
     "data": {
      "text/html": [
       "<div>\n",
       "<style scoped>\n",
       "    .dataframe tbody tr th:only-of-type {\n",
       "        vertical-align: middle;\n",
       "    }\n",
       "\n",
       "    .dataframe tbody tr th {\n",
       "        vertical-align: top;\n",
       "    }\n",
       "\n",
       "    .dataframe thead th {\n",
       "        text-align: right;\n",
       "    }\n",
       "</style>\n",
       "<table border=\"1\" class=\"dataframe\">\n",
       "  <thead>\n",
       "    <tr style=\"text-align: right;\">\n",
       "      <th></th>\n",
       "      <th></th>\n",
       "      <th>sum</th>\n",
       "      <th>amin</th>\n",
       "      <th>std</th>\n",
       "    </tr>\n",
       "    <tr>\n",
       "      <th>A</th>\n",
       "      <th>B</th>\n",
       "      <th></th>\n",
       "      <th></th>\n",
       "      <th></th>\n",
       "    </tr>\n",
       "  </thead>\n",
       "  <tbody>\n",
       "    <tr>\n",
       "      <th rowspan=\"3\" valign=\"top\">bar</th>\n",
       "      <th>one</th>\n",
       "      <td>0.567940</td>\n",
       "      <td>0.567940</td>\n",
       "      <td>NaN</td>\n",
       "    </tr>\n",
       "    <tr>\n",
       "      <th>three</th>\n",
       "      <td>-1.840727</td>\n",
       "      <td>-1.840727</td>\n",
       "      <td>NaN</td>\n",
       "    </tr>\n",
       "    <tr>\n",
       "      <th>two</th>\n",
       "      <td>0.074895</td>\n",
       "      <td>0.074895</td>\n",
       "      <td>NaN</td>\n",
       "    </tr>\n",
       "    <tr>\n",
       "      <th rowspan=\"3\" valign=\"top\">foo</th>\n",
       "      <th>one</th>\n",
       "      <td>1.716988</td>\n",
       "      <td>-0.285382</td>\n",
       "      <td>1.617685</td>\n",
       "    </tr>\n",
       "    <tr>\n",
       "      <th>three</th>\n",
       "      <td>1.223982</td>\n",
       "      <td>1.223982</td>\n",
       "      <td>NaN</td>\n",
       "    </tr>\n",
       "    <tr>\n",
       "      <th>two</th>\n",
       "      <td>0.575187</td>\n",
       "      <td>-0.562378</td>\n",
       "      <td>1.202041</td>\n",
       "    </tr>\n",
       "  </tbody>\n",
       "</table>\n",
       "</div>"
      ],
      "text/plain": [
       "                sum      amin       std\n",
       "A   B                                  \n",
       "bar one    0.567940  0.567940       NaN\n",
       "    three -1.840727 -1.840727       NaN\n",
       "    two    0.074895  0.074895       NaN\n",
       "foo one    1.716988 -0.285382  1.617685\n",
       "    three  1.223982  1.223982       NaN\n",
       "    two    0.575187 -0.562378  1.202041"
      ]
     },
     "execution_count": 113,
     "metadata": {},
     "output_type": "execute_result"
    }
   ],
   "source": [
    "# grouped.agg(['sum', 'min', 'std'])\n",
    "grouped['C'].agg([np.sum, np.min, np.std])"
   ]
  },
  {
   "cell_type": "code",
   "execution_count": 116,
   "id": "277e9480-6e47-4671-9b60-8812fc2d5914",
   "metadata": {},
   "outputs": [
    {
     "data": {
      "text/html": [
       "<div>\n",
       "<style scoped>\n",
       "    .dataframe tbody tr th:only-of-type {\n",
       "        vertical-align: middle;\n",
       "    }\n",
       "\n",
       "    .dataframe tbody tr th {\n",
       "        vertical-align: top;\n",
       "    }\n",
       "\n",
       "    .dataframe thead th {\n",
       "        text-align: right;\n",
       "    }\n",
       "</style>\n",
       "<table border=\"1\" class=\"dataframe\">\n",
       "  <thead>\n",
       "    <tr style=\"text-align: right;\">\n",
       "      <th></th>\n",
       "      <th></th>\n",
       "      <th>sum</th>\n",
       "      <th>min</th>\n",
       "      <th>std</th>\n",
       "    </tr>\n",
       "    <tr>\n",
       "      <th>A</th>\n",
       "      <th>B</th>\n",
       "      <th></th>\n",
       "      <th></th>\n",
       "      <th></th>\n",
       "    </tr>\n",
       "  </thead>\n",
       "  <tbody>\n",
       "    <tr>\n",
       "      <th rowspan=\"3\" valign=\"top\">bar</th>\n",
       "      <th>one</th>\n",
       "      <td>0.567940</td>\n",
       "      <td>0.567940</td>\n",
       "      <td>NaN</td>\n",
       "    </tr>\n",
       "    <tr>\n",
       "      <th>three</th>\n",
       "      <td>-1.840727</td>\n",
       "      <td>-1.840727</td>\n",
       "      <td>NaN</td>\n",
       "    </tr>\n",
       "    <tr>\n",
       "      <th>two</th>\n",
       "      <td>0.074895</td>\n",
       "      <td>0.074895</td>\n",
       "      <td>NaN</td>\n",
       "    </tr>\n",
       "    <tr>\n",
       "      <th rowspan=\"3\" valign=\"top\">foo</th>\n",
       "      <th>one</th>\n",
       "      <td>1.716988</td>\n",
       "      <td>-0.285382</td>\n",
       "      <td>1.617685</td>\n",
       "    </tr>\n",
       "    <tr>\n",
       "      <th>three</th>\n",
       "      <td>1.223982</td>\n",
       "      <td>1.223982</td>\n",
       "      <td>NaN</td>\n",
       "    </tr>\n",
       "    <tr>\n",
       "      <th>two</th>\n",
       "      <td>0.575187</td>\n",
       "      <td>-0.562378</td>\n",
       "      <td>1.202041</td>\n",
       "    </tr>\n",
       "  </tbody>\n",
       "</table>\n",
       "</div>"
      ],
      "text/plain": [
       "                sum       min       std\n",
       "A   B                                  \n",
       "bar one    0.567940  0.567940       NaN\n",
       "    three -1.840727 -1.840727       NaN\n",
       "    two    0.074895  0.074895       NaN\n",
       "foo one    1.716988 -0.285382  1.617685\n",
       "    three  1.223982  1.223982       NaN\n",
       "    two    0.575187 -0.562378  1.202041"
      ]
     },
     "execution_count": 116,
     "metadata": {},
     "output_type": "execute_result"
    }
   ],
   "source": [
    "# grouped['C'].agg(['sum', 'min', 'std']).rename({'sum': 'foo', 'mean': 'bar', 'std': 'baz'}, axis=1)\n",
    "(grouped['C'].agg(['sum', 'min', 'std']).rename({'sum': 'foo', 'mean': 'bar', 'std': 'baz'}))"
   ]
  },
  {
   "cell_type": "code",
   "execution_count": 119,
   "id": "3da9c87b-a429-4f11-9ccc-2db230da96df",
   "metadata": {},
   "outputs": [
    {
     "data": {
      "text/html": [
       "<div>\n",
       "<style scoped>\n",
       "    .dataframe tbody tr th:only-of-type {\n",
       "        vertical-align: middle;\n",
       "    }\n",
       "\n",
       "    .dataframe tbody tr th {\n",
       "        vertical-align: top;\n",
       "    }\n",
       "\n",
       "    .dataframe thead tr th {\n",
       "        text-align: left;\n",
       "    }\n",
       "\n",
       "    .dataframe thead tr:last-of-type th {\n",
       "        text-align: right;\n",
       "    }\n",
       "</style>\n",
       "<table border=\"1\" class=\"dataframe\">\n",
       "  <thead>\n",
       "    <tr>\n",
       "      <th></th>\n",
       "      <th></th>\n",
       "      <th colspan=\"2\" halign=\"left\">C</th>\n",
       "      <th colspan=\"2\" halign=\"left\">D</th>\n",
       "    </tr>\n",
       "    <tr>\n",
       "      <th></th>\n",
       "      <th></th>\n",
       "      <th>&lt;lambda_0&gt;</th>\n",
       "      <th>&lt;lambda_1&gt;</th>\n",
       "      <th>&lt;lambda_0&gt;</th>\n",
       "      <th>&lt;lambda_1&gt;</th>\n",
       "    </tr>\n",
       "    <tr>\n",
       "      <th>A</th>\n",
       "      <th>B</th>\n",
       "      <th></th>\n",
       "      <th></th>\n",
       "      <th></th>\n",
       "      <th></th>\n",
       "    </tr>\n",
       "  </thead>\n",
       "  <tbody>\n",
       "    <tr>\n",
       "      <th rowspan=\"3\" valign=\"top\">bar</th>\n",
       "      <th>one</th>\n",
       "      <td>0.000000</td>\n",
       "      <td>0.0</td>\n",
       "      <td>0.000000</td>\n",
       "      <td>0.0</td>\n",
       "    </tr>\n",
       "    <tr>\n",
       "      <th>three</th>\n",
       "      <td>0.000000</td>\n",
       "      <td>0.0</td>\n",
       "      <td>0.000000</td>\n",
       "      <td>0.0</td>\n",
       "    </tr>\n",
       "    <tr>\n",
       "      <th>two</th>\n",
       "      <td>0.000000</td>\n",
       "      <td>0.0</td>\n",
       "      <td>0.000000</td>\n",
       "      <td>0.0</td>\n",
       "    </tr>\n",
       "    <tr>\n",
       "      <th rowspan=\"3\" valign=\"top\">foo</th>\n",
       "      <th>one</th>\n",
       "      <td>2.287752</td>\n",
       "      <td>0.0</td>\n",
       "      <td>0.415772</td>\n",
       "      <td>0.0</td>\n",
       "    </tr>\n",
       "    <tr>\n",
       "      <th>three</th>\n",
       "      <td>0.000000</td>\n",
       "      <td>0.0</td>\n",
       "      <td>0.000000</td>\n",
       "      <td>0.0</td>\n",
       "    </tr>\n",
       "    <tr>\n",
       "      <th>two</th>\n",
       "      <td>1.699943</td>\n",
       "      <td>0.0</td>\n",
       "      <td>1.381054</td>\n",
       "      <td>0.0</td>\n",
       "    </tr>\n",
       "  </tbody>\n",
       "</table>\n",
       "</div>"
      ],
      "text/plain": [
       "                   C                     D           \n",
       "          <lambda_0> <lambda_1> <lambda_0> <lambda_1>\n",
       "A   B                                                \n",
       "bar one     0.000000        0.0   0.000000        0.0\n",
       "    three   0.000000        0.0   0.000000        0.0\n",
       "    two     0.000000        0.0   0.000000        0.0\n",
       "foo one     2.287752        0.0   0.415772        0.0\n",
       "    three   0.000000        0.0   0.000000        0.0\n",
       "    two     1.699943        0.0   1.381054        0.0"
      ]
     },
     "execution_count": 119,
     "metadata": {},
     "output_type": "execute_result"
    }
   ],
   "source": [
    "grouped.agg([lambda x: x.max() - x.min(), lambda x: x.median() - x.mean()])"
   ]
  },
  {
   "cell_type": "code",
   "execution_count": 120,
   "id": "f4e3d2fe-ebb1-4ad7-86c1-94ee229b1441",
   "metadata": {},
   "outputs": [
    {
     "data": {
      "text/html": [
       "<div>\n",
       "<style scoped>\n",
       "    .dataframe tbody tr th:only-of-type {\n",
       "        vertical-align: middle;\n",
       "    }\n",
       "\n",
       "    .dataframe tbody tr th {\n",
       "        vertical-align: top;\n",
       "    }\n",
       "\n",
       "    .dataframe thead th {\n",
       "        text-align: right;\n",
       "    }\n",
       "</style>\n",
       "<table border=\"1\" class=\"dataframe\">\n",
       "  <thead>\n",
       "    <tr style=\"text-align: right;\">\n",
       "      <th></th>\n",
       "      <th>A</th>\n",
       "      <th>B</th>\n",
       "      <th>C</th>\n",
       "      <th>D</th>\n",
       "    </tr>\n",
       "  </thead>\n",
       "  <tbody>\n",
       "    <tr>\n",
       "      <th>0</th>\n",
       "      <td>foo</td>\n",
       "      <td>one</td>\n",
       "      <td>-0.285382</td>\n",
       "      <td>0.839480</td>\n",
       "    </tr>\n",
       "    <tr>\n",
       "      <th>1</th>\n",
       "      <td>bar</td>\n",
       "      <td>one</td>\n",
       "      <td>0.567940</td>\n",
       "      <td>0.249974</td>\n",
       "    </tr>\n",
       "    <tr>\n",
       "      <th>2</th>\n",
       "      <td>foo</td>\n",
       "      <td>two</td>\n",
       "      <td>-0.562378</td>\n",
       "      <td>0.924753</td>\n",
       "    </tr>\n",
       "    <tr>\n",
       "      <th>3</th>\n",
       "      <td>bar</td>\n",
       "      <td>three</td>\n",
       "      <td>-1.840727</td>\n",
       "      <td>-0.466492</td>\n",
       "    </tr>\n",
       "    <tr>\n",
       "      <th>4</th>\n",
       "      <td>foo</td>\n",
       "      <td>two</td>\n",
       "      <td>1.137565</td>\n",
       "      <td>-0.456300</td>\n",
       "    </tr>\n",
       "    <tr>\n",
       "      <th>5</th>\n",
       "      <td>bar</td>\n",
       "      <td>two</td>\n",
       "      <td>0.074895</td>\n",
       "      <td>-0.927881</td>\n",
       "    </tr>\n",
       "    <tr>\n",
       "      <th>6</th>\n",
       "      <td>foo</td>\n",
       "      <td>one</td>\n",
       "      <td>2.002370</td>\n",
       "      <td>0.423708</td>\n",
       "    </tr>\n",
       "    <tr>\n",
       "      <th>7</th>\n",
       "      <td>foo</td>\n",
       "      <td>three</td>\n",
       "      <td>1.223982</td>\n",
       "      <td>1.646187</td>\n",
       "    </tr>\n",
       "  </tbody>\n",
       "</table>\n",
       "</div>"
      ],
      "text/plain": [
       "     A      B         C         D\n",
       "0  foo    one -0.285382  0.839480\n",
       "1  bar    one  0.567940  0.249974\n",
       "2  foo    two -0.562378  0.924753\n",
       "3  bar  three -1.840727 -0.466492\n",
       "4  foo    two  1.137565 -0.456300\n",
       "5  bar    two  0.074895 -0.927881\n",
       "6  foo    one  2.002370  0.423708\n",
       "7  foo  three  1.223982  1.646187"
      ]
     },
     "execution_count": 120,
     "metadata": {},
     "output_type": "execute_result"
    }
   ],
   "source": [
    "df"
   ]
  },
  {
   "cell_type": "code",
   "execution_count": null,
   "id": "04d7db1d-f8d3-40aa-99aa-ee8056c5c1ee",
   "metadata": {},
   "outputs": [],
   "source": []
  },
  {
   "cell_type": "code",
   "execution_count": null,
   "id": "0e3d55a7-cb06-471b-96b8-a65c72579328",
   "metadata": {},
   "outputs": [],
   "source": []
  },
  {
   "cell_type": "code",
   "execution_count": null,
   "id": "903d1149-8541-43c2-bb3c-a90828dfc5e0",
   "metadata": {},
   "outputs": [],
   "source": []
  },
  {
   "cell_type": "code",
   "execution_count": null,
   "id": "74807204-7998-4615-aff2-f4a7ef131f54",
   "metadata": {},
   "outputs": [],
   "source": []
  },
  {
   "cell_type": "code",
   "execution_count": null,
   "id": "0a12268f-1e6b-443b-bdd1-65e68c8d08c6",
   "metadata": {},
   "outputs": [],
   "source": []
  },
  {
   "cell_type": "code",
   "execution_count": null,
   "id": "52a17326-5d02-4a59-8509-f7a673b9f72e",
   "metadata": {},
   "outputs": [],
   "source": []
  }
 ],
 "metadata": {
  "kernelspec": {
   "display_name": "Python 3 (ipykernel)",
   "language": "python",
   "name": "python3"
  },
  "language_info": {
   "codemirror_mode": {
    "name": "ipython",
    "version": 3
   },
   "file_extension": ".py",
   "mimetype": "text/x-python",
   "name": "python",
   "nbconvert_exporter": "python",
   "pygments_lexer": "ipython3",
   "version": "3.7.11"
  }
 },
 "nbformat": 4,
 "nbformat_minor": 5
}
