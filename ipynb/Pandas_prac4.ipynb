{
 "cells": [
  {
   "cell_type": "code",
   "execution_count": 1,
   "id": "63b72ffe-53a5-45b8-b14b-84d1dd5a3e53",
   "metadata": {},
   "outputs": [],
   "source": [
    "import numpy as np\n",
    "import pandas as pd\n",
    "import plotly.express as px\n",
    "import plotly.graph_objects as go\n",
    "import datetime\n",
    "from io import StringIO"
   ]
  },
  {
   "cell_type": "code",
   "execution_count": 4,
   "id": "16e0dbcc-065a-45ce-a9d7-507d92d45219",
   "metadata": {},
   "outputs": [],
   "source": [
    "header = {'User-Agent': 'pandas'}\n",
    "df = pd.read_csv('https://download.bls.gov/pub/time.series/cu/cu.item', sep='\\t', storage_options=header)"
   ]
  },
  {
   "cell_type": "code",
   "execution_count": 5,
   "id": "36e2cac1-5e1a-48c7-babf-5f6395ffaa55",
   "metadata": {},
   "outputs": [
    {
     "data": {
      "text/html": [
       "<div>\n",
       "<style scoped>\n",
       "    .dataframe tbody tr th:only-of-type {\n",
       "        vertical-align: middle;\n",
       "    }\n",
       "\n",
       "    .dataframe tbody tr th {\n",
       "        vertical-align: top;\n",
       "    }\n",
       "\n",
       "    .dataframe thead th {\n",
       "        text-align: right;\n",
       "    }\n",
       "</style>\n",
       "<table border=\"1\" class=\"dataframe\">\n",
       "  <thead>\n",
       "    <tr style=\"text-align: right;\">\n",
       "      <th></th>\n",
       "      <th>item_code</th>\n",
       "      <th>item_name</th>\n",
       "      <th>display_level</th>\n",
       "      <th>selectable</th>\n",
       "      <th>sort_sequence</th>\n",
       "    </tr>\n",
       "  </thead>\n",
       "  <tbody>\n",
       "    <tr>\n",
       "      <th>0</th>\n",
       "      <td>AA0</td>\n",
       "      <td>All items - old base</td>\n",
       "      <td>0</td>\n",
       "      <td>T</td>\n",
       "      <td>2</td>\n",
       "    </tr>\n",
       "    <tr>\n",
       "      <th>1</th>\n",
       "      <td>AA0R</td>\n",
       "      <td>Purchasing power of the consumer dollar - old ...</td>\n",
       "      <td>0</td>\n",
       "      <td>T</td>\n",
       "      <td>399</td>\n",
       "    </tr>\n",
       "    <tr>\n",
       "      <th>2</th>\n",
       "      <td>SA0</td>\n",
       "      <td>All items</td>\n",
       "      <td>0</td>\n",
       "      <td>T</td>\n",
       "      <td>1</td>\n",
       "    </tr>\n",
       "    <tr>\n",
       "      <th>3</th>\n",
       "      <td>SA0E</td>\n",
       "      <td>Energy</td>\n",
       "      <td>1</td>\n",
       "      <td>T</td>\n",
       "      <td>374</td>\n",
       "    </tr>\n",
       "    <tr>\n",
       "      <th>4</th>\n",
       "      <td>SA0L1</td>\n",
       "      <td>All items less food</td>\n",
       "      <td>1</td>\n",
       "      <td>T</td>\n",
       "      <td>358</td>\n",
       "    </tr>\n",
       "    <tr>\n",
       "      <th>...</th>\n",
       "      <td>...</td>\n",
       "      <td>...</td>\n",
       "      <td>...</td>\n",
       "      <td>...</td>\n",
       "      <td>...</td>\n",
       "    </tr>\n",
       "    <tr>\n",
       "      <th>394</th>\n",
       "      <td>SS68023</td>\n",
       "      <td>Tax return preparation and other accounting fees</td>\n",
       "      <td>4</td>\n",
       "      <td>T</td>\n",
       "      <td>352</td>\n",
       "    </tr>\n",
       "    <tr>\n",
       "      <th>395</th>\n",
       "      <td>SSEA011</td>\n",
       "      <td>College textbooks</td>\n",
       "      <td>3</td>\n",
       "      <td>T</td>\n",
       "      <td>314</td>\n",
       "    </tr>\n",
       "    <tr>\n",
       "      <th>396</th>\n",
       "      <td>SSFV031A</td>\n",
       "      <td>Food at elementary and secondary schools</td>\n",
       "      <td>3</td>\n",
       "      <td>T</td>\n",
       "      <td>122</td>\n",
       "    </tr>\n",
       "    <tr>\n",
       "      <th>397</th>\n",
       "      <td>SSGE013</td>\n",
       "      <td>Infants' equipment</td>\n",
       "      <td>3</td>\n",
       "      <td>T</td>\n",
       "      <td>355</td>\n",
       "    </tr>\n",
       "    <tr>\n",
       "      <th>398</th>\n",
       "      <td>SSHJ031</td>\n",
       "      <td>Infants' furniture</td>\n",
       "      <td>3</td>\n",
       "      <td>T</td>\n",
       "      <td>165</td>\n",
       "    </tr>\n",
       "  </tbody>\n",
       "</table>\n",
       "<p>399 rows × 5 columns</p>\n",
       "</div>"
      ],
      "text/plain": [
       "    item_code                                          item_name  \\\n",
       "0         AA0                               All items - old base   \n",
       "1        AA0R  Purchasing power of the consumer dollar - old ...   \n",
       "2         SA0                                          All items   \n",
       "3        SA0E                                             Energy   \n",
       "4       SA0L1                                All items less food   \n",
       "..        ...                                                ...   \n",
       "394   SS68023   Tax return preparation and other accounting fees   \n",
       "395   SSEA011                                  College textbooks   \n",
       "396  SSFV031A           Food at elementary and secondary schools   \n",
       "397   SSGE013                                 Infants' equipment   \n",
       "398   SSHJ031                                 Infants' furniture   \n",
       "\n",
       "     display_level selectable  sort_sequence  \n",
       "0                0          T              2  \n",
       "1                0          T            399  \n",
       "2                0          T              1  \n",
       "3                1          T            374  \n",
       "4                1          T            358  \n",
       "..             ...        ...            ...  \n",
       "394              4          T            352  \n",
       "395              3          T            314  \n",
       "396              3          T            122  \n",
       "397              3          T            355  \n",
       "398              3          T            165  \n",
       "\n",
       "[399 rows x 5 columns]"
      ]
     },
     "execution_count": 5,
     "metadata": {},
     "output_type": "execute_result"
    }
   ],
   "source": [
    "df"
   ]
  },
  {
   "cell_type": "code",
   "execution_count": 12,
   "id": "b9f40989-3ede-45fc-b47e-c85e325c7a2c",
   "metadata": {},
   "outputs": [
    {
     "data": {
      "text/html": [
       "<div>\n",
       "<style scoped>\n",
       "    .dataframe tbody tr th:only-of-type {\n",
       "        vertical-align: middle;\n",
       "    }\n",
       "\n",
       "    .dataframe tbody tr th {\n",
       "        vertical-align: top;\n",
       "    }\n",
       "\n",
       "    .dataframe thead th {\n",
       "        text-align: right;\n",
       "    }\n",
       "</style>\n",
       "<table border=\"1\" class=\"dataframe\">\n",
       "  <thead>\n",
       "    <tr style=\"text-align: right;\">\n",
       "      <th></th>\n",
       "      <th>A</th>\n",
       "      <th>B</th>\n",
       "      <th>C</th>\n",
       "      <th>D</th>\n",
       "    </tr>\n",
       "  </thead>\n",
       "  <tbody>\n",
       "    <tr>\n",
       "      <th>2000-01-01</th>\n",
       "      <td>0.123576</td>\n",
       "      <td>0.367228</td>\n",
       "      <td>-2.604112</td>\n",
       "      <td>0.984284</td>\n",
       "    </tr>\n",
       "    <tr>\n",
       "      <th>2000-01-02</th>\n",
       "      <td>0.300501</td>\n",
       "      <td>-0.525221</td>\n",
       "      <td>-0.327388</td>\n",
       "      <td>0.538184</td>\n",
       "    </tr>\n",
       "    <tr>\n",
       "      <th>2000-01-03</th>\n",
       "      <td>-0.075298</td>\n",
       "      <td>-0.929728</td>\n",
       "      <td>-0.425729</td>\n",
       "      <td>-1.209097</td>\n",
       "    </tr>\n",
       "    <tr>\n",
       "      <th>2000-01-04</th>\n",
       "      <td>-0.908324</td>\n",
       "      <td>-0.677347</td>\n",
       "      <td>-0.029724</td>\n",
       "      <td>0.877145</td>\n",
       "    </tr>\n",
       "    <tr>\n",
       "      <th>2000-01-05</th>\n",
       "      <td>-0.011780</td>\n",
       "      <td>-1.051432</td>\n",
       "      <td>-0.222252</td>\n",
       "      <td>0.511529</td>\n",
       "    </tr>\n",
       "    <tr>\n",
       "      <th>2000-01-06</th>\n",
       "      <td>-0.506942</td>\n",
       "      <td>0.254000</td>\n",
       "      <td>0.751907</td>\n",
       "      <td>-0.333903</td>\n",
       "    </tr>\n",
       "    <tr>\n",
       "      <th>2000-01-07</th>\n",
       "      <td>0.676016</td>\n",
       "      <td>0.580514</td>\n",
       "      <td>-0.332537</td>\n",
       "      <td>-0.643218</td>\n",
       "    </tr>\n",
       "    <tr>\n",
       "      <th>2000-01-08</th>\n",
       "      <td>-1.068924</td>\n",
       "      <td>0.352037</td>\n",
       "      <td>-2.533448</td>\n",
       "      <td>0.919841</td>\n",
       "    </tr>\n",
       "  </tbody>\n",
       "</table>\n",
       "</div>"
      ],
      "text/plain": [
       "                   A         B         C         D\n",
       "2000-01-01  0.123576  0.367228 -2.604112  0.984284\n",
       "2000-01-02  0.300501 -0.525221 -0.327388  0.538184\n",
       "2000-01-03 -0.075298 -0.929728 -0.425729 -1.209097\n",
       "2000-01-04 -0.908324 -0.677347 -0.029724  0.877145\n",
       "2000-01-05 -0.011780 -1.051432 -0.222252  0.511529\n",
       "2000-01-06 -0.506942  0.254000  0.751907 -0.333903\n",
       "2000-01-07  0.676016  0.580514 -0.332537 -0.643218\n",
       "2000-01-08 -1.068924  0.352037 -2.533448  0.919841"
      ]
     },
     "execution_count": 12,
     "metadata": {},
     "output_type": "execute_result"
    }
   ],
   "source": [
    "dates = pd.date_range('1/1/2000', periods=8)\n",
    "df = pd.DataFrame(np.random.randn(8, 4), index=dates, columns=list('ABCD'))\n",
    "df"
   ]
  },
  {
   "cell_type": "code",
   "execution_count": 13,
   "id": "8b86992a-bc44-49c1-a5f1-86cd5cbe2b8b",
   "metadata": {},
   "outputs": [
    {
     "data": {
      "text/html": [
       "<div>\n",
       "<style scoped>\n",
       "    .dataframe tbody tr th:only-of-type {\n",
       "        vertical-align: middle;\n",
       "    }\n",
       "\n",
       "    .dataframe tbody tr th {\n",
       "        vertical-align: top;\n",
       "    }\n",
       "\n",
       "    .dataframe thead th {\n",
       "        text-align: right;\n",
       "    }\n",
       "</style>\n",
       "<table border=\"1\" class=\"dataframe\">\n",
       "  <thead>\n",
       "    <tr style=\"text-align: right;\">\n",
       "      <th></th>\n",
       "      <th>A</th>\n",
       "      <th>B</th>\n",
       "      <th>C</th>\n",
       "      <th>D</th>\n",
       "    </tr>\n",
       "  </thead>\n",
       "  <tbody>\n",
       "    <tr>\n",
       "      <th>2000-01-01</th>\n",
       "      <td>0.123576</td>\n",
       "      <td>0.367228</td>\n",
       "      <td>-2.604112</td>\n",
       "      <td>0.984284</td>\n",
       "    </tr>\n",
       "    <tr>\n",
       "      <th>2000-01-02</th>\n",
       "      <td>0.300501</td>\n",
       "      <td>-0.525221</td>\n",
       "      <td>-0.327388</td>\n",
       "      <td>0.538184</td>\n",
       "    </tr>\n",
       "    <tr>\n",
       "      <th>2000-01-03</th>\n",
       "      <td>-0.075298</td>\n",
       "      <td>-0.929728</td>\n",
       "      <td>-0.425729</td>\n",
       "      <td>-1.209097</td>\n",
       "    </tr>\n",
       "    <tr>\n",
       "      <th>2000-01-04</th>\n",
       "      <td>-0.908324</td>\n",
       "      <td>-0.677347</td>\n",
       "      <td>-0.029724</td>\n",
       "      <td>0.877145</td>\n",
       "    </tr>\n",
       "    <tr>\n",
       "      <th>2000-01-05</th>\n",
       "      <td>-0.011780</td>\n",
       "      <td>-1.051432</td>\n",
       "      <td>-0.222252</td>\n",
       "      <td>0.511529</td>\n",
       "    </tr>\n",
       "    <tr>\n",
       "      <th>2000-01-06</th>\n",
       "      <td>-0.506942</td>\n",
       "      <td>0.254000</td>\n",
       "      <td>0.751907</td>\n",
       "      <td>-0.333903</td>\n",
       "    </tr>\n",
       "    <tr>\n",
       "      <th>2000-01-07</th>\n",
       "      <td>0.676016</td>\n",
       "      <td>0.580514</td>\n",
       "      <td>-0.332537</td>\n",
       "      <td>-0.643218</td>\n",
       "    </tr>\n",
       "    <tr>\n",
       "      <th>2000-01-08</th>\n",
       "      <td>-1.068924</td>\n",
       "      <td>0.352037</td>\n",
       "      <td>-2.533448</td>\n",
       "      <td>0.919841</td>\n",
       "    </tr>\n",
       "  </tbody>\n",
       "</table>\n",
       "</div>"
      ],
      "text/plain": [
       "                   A         B         C         D\n",
       "2000-01-01  0.123576  0.367228 -2.604112  0.984284\n",
       "2000-01-02  0.300501 -0.525221 -0.327388  0.538184\n",
       "2000-01-03 -0.075298 -0.929728 -0.425729 -1.209097\n",
       "2000-01-04 -0.908324 -0.677347 -0.029724  0.877145\n",
       "2000-01-05 -0.011780 -1.051432 -0.222252  0.511529\n",
       "2000-01-06 -0.506942  0.254000  0.751907 -0.333903\n",
       "2000-01-07  0.676016  0.580514 -0.332537 -0.643218\n",
       "2000-01-08 -1.068924  0.352037 -2.533448  0.919841"
      ]
     },
     "execution_count": 13,
     "metadata": {},
     "output_type": "execute_result"
    }
   ],
   "source": [
    "df.loc[:, ['A', 'B']] = df[['B', 'A']]\n",
    "df"
   ]
  },
  {
   "cell_type": "code",
   "execution_count": 16,
   "id": "83884047-0871-4a5d-bd68-a348449846aa",
   "metadata": {},
   "outputs": [
    {
     "data": {
      "text/html": [
       "<div>\n",
       "<style scoped>\n",
       "    .dataframe tbody tr th:only-of-type {\n",
       "        vertical-align: middle;\n",
       "    }\n",
       "\n",
       "    .dataframe tbody tr th {\n",
       "        vertical-align: top;\n",
       "    }\n",
       "\n",
       "    .dataframe thead th {\n",
       "        text-align: right;\n",
       "    }\n",
       "</style>\n",
       "<table border=\"1\" class=\"dataframe\">\n",
       "  <thead>\n",
       "    <tr style=\"text-align: right;\">\n",
       "      <th></th>\n",
       "      <th>A</th>\n",
       "      <th>B</th>\n",
       "      <th>C</th>\n",
       "      <th>D</th>\n",
       "    </tr>\n",
       "  </thead>\n",
       "  <tbody>\n",
       "    <tr>\n",
       "      <th>2000-01-01</th>\n",
       "      <td>0.367228</td>\n",
       "      <td>0.123576</td>\n",
       "      <td>-2.604112</td>\n",
       "      <td>0.984284</td>\n",
       "    </tr>\n",
       "    <tr>\n",
       "      <th>2000-01-02</th>\n",
       "      <td>-0.525221</td>\n",
       "      <td>0.300501</td>\n",
       "      <td>-0.327388</td>\n",
       "      <td>0.538184</td>\n",
       "    </tr>\n",
       "    <tr>\n",
       "      <th>2000-01-03</th>\n",
       "      <td>-0.929728</td>\n",
       "      <td>-0.075298</td>\n",
       "      <td>-0.425729</td>\n",
       "      <td>-1.209097</td>\n",
       "    </tr>\n",
       "    <tr>\n",
       "      <th>2000-01-04</th>\n",
       "      <td>-0.677347</td>\n",
       "      <td>-0.908324</td>\n",
       "      <td>-0.029724</td>\n",
       "      <td>0.877145</td>\n",
       "    </tr>\n",
       "    <tr>\n",
       "      <th>2000-01-05</th>\n",
       "      <td>-1.051432</td>\n",
       "      <td>-0.011780</td>\n",
       "      <td>-0.222252</td>\n",
       "      <td>0.511529</td>\n",
       "    </tr>\n",
       "    <tr>\n",
       "      <th>2000-01-06</th>\n",
       "      <td>0.254000</td>\n",
       "      <td>-0.506942</td>\n",
       "      <td>0.751907</td>\n",
       "      <td>-0.333903</td>\n",
       "    </tr>\n",
       "    <tr>\n",
       "      <th>2000-01-07</th>\n",
       "      <td>0.580514</td>\n",
       "      <td>0.676016</td>\n",
       "      <td>-0.332537</td>\n",
       "      <td>-0.643218</td>\n",
       "    </tr>\n",
       "    <tr>\n",
       "      <th>2000-01-08</th>\n",
       "      <td>0.352037</td>\n",
       "      <td>-1.068924</td>\n",
       "      <td>-2.533448</td>\n",
       "      <td>0.919841</td>\n",
       "    </tr>\n",
       "  </tbody>\n",
       "</table>\n",
       "</div>"
      ],
      "text/plain": [
       "                   A         B         C         D\n",
       "2000-01-01  0.367228  0.123576 -2.604112  0.984284\n",
       "2000-01-02 -0.525221  0.300501 -0.327388  0.538184\n",
       "2000-01-03 -0.929728 -0.075298 -0.425729 -1.209097\n",
       "2000-01-04 -0.677347 -0.908324 -0.029724  0.877145\n",
       "2000-01-05 -1.051432 -0.011780 -0.222252  0.511529\n",
       "2000-01-06  0.254000 -0.506942  0.751907 -0.333903\n",
       "2000-01-07  0.580514  0.676016 -0.332537 -0.643218\n",
       "2000-01-08  0.352037 -1.068924 -2.533448  0.919841"
      ]
     },
     "execution_count": 16,
     "metadata": {},
     "output_type": "execute_result"
    }
   ],
   "source": [
    "df.loc[:, ['B', 'A']] = df[['A', 'B']].to_numpy()\n",
    "df"
   ]
  },
  {
   "cell_type": "code",
   "execution_count": 49,
   "id": "cf481d94-7ef0-4bbd-9d6e-b94c3753697a",
   "metadata": {},
   "outputs": [],
   "source": [
    "x = pd.DataFrame({'x': [1,2,3], 'y': [4,5,6]})\n",
    "x.iloc[1] = {'x': 5, 'y': 9}"
   ]
  },
  {
   "cell_type": "code",
   "execution_count": 56,
   "id": "9a09b7d4-717f-4084-9686-68faefaea7f7",
   "metadata": {},
   "outputs": [
    {
     "data": {
      "text/html": [
       "<div>\n",
       "<style scoped>\n",
       "    .dataframe tbody tr th:only-of-type {\n",
       "        vertical-align: middle;\n",
       "    }\n",
       "\n",
       "    .dataframe tbody tr th {\n",
       "        vertical-align: top;\n",
       "    }\n",
       "\n",
       "    .dataframe thead th {\n",
       "        text-align: right;\n",
       "    }\n",
       "</style>\n",
       "<table border=\"1\" class=\"dataframe\">\n",
       "  <thead>\n",
       "    <tr style=\"text-align: right;\">\n",
       "      <th></th>\n",
       "      <th>x</th>\n",
       "      <th>y</th>\n",
       "    </tr>\n",
       "  </thead>\n",
       "  <tbody>\n",
       "    <tr>\n",
       "      <th>0</th>\n",
       "      <td>1</td>\n",
       "      <td>4</td>\n",
       "    </tr>\n",
       "    <tr>\n",
       "      <th>1</th>\n",
       "      <td>5</td>\n",
       "      <td>9</td>\n",
       "    </tr>\n",
       "  </tbody>\n",
       "</table>\n",
       "</div>"
      ],
      "text/plain": [
       "   x  y\n",
       "0  1  4\n",
       "1  5  9"
      ]
     },
     "execution_count": 56,
     "metadata": {},
     "output_type": "execute_result"
    }
   ],
   "source": [
    "x.iloc[:2, :2]"
   ]
  },
  {
   "cell_type": "code",
   "execution_count": 36,
   "id": "0251964d-2a95-4e31-9dce-305615761b2d",
   "metadata": {},
   "outputs": [
    {
     "data": {
      "text/html": [
       "<div>\n",
       "<style scoped>\n",
       "    .dataframe tbody tr th:only-of-type {\n",
       "        vertical-align: middle;\n",
       "    }\n",
       "\n",
       "    .dataframe tbody tr th {\n",
       "        vertical-align: top;\n",
       "    }\n",
       "\n",
       "    .dataframe thead th {\n",
       "        text-align: right;\n",
       "    }\n",
       "</style>\n",
       "<table border=\"1\" class=\"dataframe\">\n",
       "  <thead>\n",
       "    <tr style=\"text-align: right;\">\n",
       "      <th></th>\n",
       "      <th>x</th>\n",
       "      <th>y</th>\n",
       "    </tr>\n",
       "  </thead>\n",
       "  <tbody>\n",
       "    <tr>\n",
       "      <th>0</th>\n",
       "      <td>1</td>\n",
       "      <td>4</td>\n",
       "    </tr>\n",
       "    <tr>\n",
       "      <th>1</th>\n",
       "      <td>2</td>\n",
       "      <td>5</td>\n",
       "    </tr>\n",
       "    <tr>\n",
       "      <th>2</th>\n",
       "      <td>3</td>\n",
       "      <td>6</td>\n",
       "    </tr>\n",
       "  </tbody>\n",
       "</table>\n",
       "</div>"
      ],
      "text/plain": [
       "   x  y\n",
       "0  1  4\n",
       "1  2  5\n",
       "2  3  6"
      ]
     },
     "execution_count": 36,
     "metadata": {},
     "output_type": "execute_result"
    }
   ],
   "source": [
    "df = pd.DataFrame({'x': [1,2,3], 'y': [4,5,6]}, index=np.arange(len(x)))\n",
    "df"
   ]
  },
  {
   "cell_type": "code",
   "execution_count": 40,
   "id": "ded3eacc-b793-474c-b772-79fbf928c008",
   "metadata": {},
   "outputs": [],
   "source": [
    "df.index = pd.date_range('20010101', periods=len(x), name='order')"
   ]
  },
  {
   "cell_type": "code",
   "execution_count": 41,
   "id": "e7b66756-e2bf-45a0-974c-8491f820e19e",
   "metadata": {},
   "outputs": [
    {
     "data": {
      "text/html": [
       "<div>\n",
       "<style scoped>\n",
       "    .dataframe tbody tr th:only-of-type {\n",
       "        vertical-align: middle;\n",
       "    }\n",
       "\n",
       "    .dataframe tbody tr th {\n",
       "        vertical-align: top;\n",
       "    }\n",
       "\n",
       "    .dataframe thead th {\n",
       "        text-align: right;\n",
       "    }\n",
       "</style>\n",
       "<table border=\"1\" class=\"dataframe\">\n",
       "  <thead>\n",
       "    <tr style=\"text-align: right;\">\n",
       "      <th></th>\n",
       "      <th>x</th>\n",
       "      <th>y</th>\n",
       "    </tr>\n",
       "    <tr>\n",
       "      <th>order</th>\n",
       "      <th></th>\n",
       "      <th></th>\n",
       "    </tr>\n",
       "  </thead>\n",
       "  <tbody>\n",
       "    <tr>\n",
       "      <th>2001-01-01</th>\n",
       "      <td>1</td>\n",
       "      <td>4</td>\n",
       "    </tr>\n",
       "    <tr>\n",
       "      <th>2001-01-02</th>\n",
       "      <td>2</td>\n",
       "      <td>5</td>\n",
       "    </tr>\n",
       "    <tr>\n",
       "      <th>2001-01-03</th>\n",
       "      <td>3</td>\n",
       "      <td>6</td>\n",
       "    </tr>\n",
       "  </tbody>\n",
       "</table>\n",
       "</div>"
      ],
      "text/plain": [
       "            x  y\n",
       "order           \n",
       "2001-01-01  1  4\n",
       "2001-01-02  2  5\n",
       "2001-01-03  3  6"
      ]
     },
     "execution_count": 41,
     "metadata": {},
     "output_type": "execute_result"
    }
   ],
   "source": [
    "df"
   ]
  },
  {
   "cell_type": "code",
   "execution_count": 48,
   "id": "08066ae8-37f3-48e5-928a-c3e38856d61e",
   "metadata": {},
   "outputs": [
    {
     "data": {
      "text/plain": [
       "order    2001-01-02 00:00:00\n",
       "x                          2\n",
       "y                          5\n",
       "Name: 1, dtype: object"
      ]
     },
     "execution_count": 48,
     "metadata": {},
     "output_type": "execute_result"
    }
   ],
   "source": [
    "df.reset_index().loc[1]"
   ]
  },
  {
   "cell_type": "code",
   "execution_count": 57,
   "id": "9e6e591d-a0b2-47be-b31f-8de3a4a65a4e",
   "metadata": {},
   "outputs": [
    {
     "data": {
      "text/plain": [
       "a    0.156576\n",
       "b   -1.229621\n",
       "c   -1.247279\n",
       "d   -1.347905\n",
       "e   -1.334659\n",
       "f   -0.973025\n",
       "dtype: float64"
      ]
     },
     "execution_count": 57,
     "metadata": {},
     "output_type": "execute_result"
    }
   ],
   "source": [
    "s1 = pd.Series(np.random.randn(6), index=list('abcdef'))\n",
    "s1"
   ]
  },
  {
   "cell_type": "code",
   "execution_count": 59,
   "id": "b5c0ef79-8f11-4681-887f-8aa68937de87",
   "metadata": {},
   "outputs": [
    {
     "data": {
      "text/plain": [
       "a    0.156576\n",
       "b   -1.229621\n",
       "c    0.000000\n",
       "d   -1.347905\n",
       "e   -1.334659\n",
       "f   -0.973025\n",
       "dtype: float64"
      ]
     },
     "execution_count": 59,
     "metadata": {},
     "output_type": "execute_result"
    }
   ],
   "source": [
    "s1.loc['c'] = 0\n",
    "s1"
   ]
  },
  {
   "cell_type": "code",
   "execution_count": 60,
   "id": "4f74d550-2acc-4a79-bce3-8df9e7e477cf",
   "metadata": {},
   "outputs": [
    {
     "data": {
      "text/plain": [
       "-1.237066112602434"
      ]
     },
     "execution_count": 60,
     "metadata": {},
     "output_type": "execute_result"
    }
   ],
   "source": [
    "s1 = pd.Series(np.random.randn(10))\n",
    "s1.loc[1]"
   ]
  },
  {
   "cell_type": "code",
   "execution_count": 62,
   "id": "7a241ad7-c694-489f-8f2a-431371007588",
   "metadata": {},
   "outputs": [],
   "source": [
    "df1 = pd.DataFrame(np.random.randn(6, 4), index=list('abcdef'), columns=list('ABCD'))"
   ]
  },
  {
   "cell_type": "code",
   "execution_count": 64,
   "id": "5bd7de6f-7281-4df8-b070-b02efd4fce54",
   "metadata": {},
   "outputs": [
    {
     "data": {
      "text/plain": [
       "A   -0.457139\n",
       "B    0.540068\n",
       "C    0.177437\n",
       "Name: d, dtype: float64"
      ]
     },
     "execution_count": 64,
     "metadata": {},
     "output_type": "execute_result"
    }
   ],
   "source": [
    "df1.loc['d', 'A':'C']"
   ]
  },
  {
   "cell_type": "code",
   "execution_count": 72,
   "id": "36d5e187-f280-4777-8360-de795e3d3ec9",
   "metadata": {},
   "outputs": [
    {
     "data": {
      "text/html": [
       "<div>\n",
       "<style scoped>\n",
       "    .dataframe tbody tr th:only-of-type {\n",
       "        vertical-align: middle;\n",
       "    }\n",
       "\n",
       "    .dataframe tbody tr th {\n",
       "        vertical-align: top;\n",
       "    }\n",
       "\n",
       "    .dataframe thead th {\n",
       "        text-align: right;\n",
       "    }\n",
       "</style>\n",
       "<table border=\"1\" class=\"dataframe\">\n",
       "  <thead>\n",
       "    <tr style=\"text-align: right;\">\n",
       "      <th></th>\n",
       "      <th>B</th>\n",
       "      <th>A</th>\n",
       "    </tr>\n",
       "  </thead>\n",
       "  <tbody>\n",
       "    <tr>\n",
       "      <th>a</th>\n",
       "      <td>-0.472267</td>\n",
       "      <td>0.003782</td>\n",
       "    </tr>\n",
       "    <tr>\n",
       "      <th>b</th>\n",
       "      <td>1.539631</td>\n",
       "      <td>-0.354375</td>\n",
       "    </tr>\n",
       "    <tr>\n",
       "      <th>c</th>\n",
       "      <td>-0.234420</td>\n",
       "      <td>0.462662</td>\n",
       "    </tr>\n",
       "    <tr>\n",
       "      <th>d</th>\n",
       "      <td>0.540068</td>\n",
       "      <td>-0.457139</td>\n",
       "    </tr>\n",
       "    <tr>\n",
       "      <th>e</th>\n",
       "      <td>0.012027</td>\n",
       "      <td>0.489730</td>\n",
       "    </tr>\n",
       "    <tr>\n",
       "      <th>f</th>\n",
       "      <td>-0.779911</td>\n",
       "      <td>0.867359</td>\n",
       "    </tr>\n",
       "  </tbody>\n",
       "</table>\n",
       "</div>"
      ],
      "text/plain": [
       "          B         A\n",
       "a -0.472267  0.003782\n",
       "b  1.539631 -0.354375\n",
       "c -0.234420  0.462662\n",
       "d  0.540068 -0.457139\n",
       "e  0.012027  0.489730\n",
       "f -0.779911  0.867359"
      ]
     },
     "execution_count": 72,
     "metadata": {},
     "output_type": "execute_result"
    }
   ],
   "source": [
    "df1[['B','A']]"
   ]
  },
  {
   "cell_type": "code",
   "execution_count": 73,
   "id": "17afe543-e333-4caa-88b7-ca76fbc20c56",
   "metadata": {},
   "outputs": [
    {
     "data": {
      "text/plain": [
       "0    a\n",
       "3    b\n",
       "dtype: object"
      ]
     },
     "execution_count": 73,
     "metadata": {},
     "output_type": "execute_result"
    }
   ],
   "source": [
    "s = pd.Series(list('abcde'), index=[0,3,2,5,4])\n",
    "s.loc[:3]"
   ]
  },
  {
   "cell_type": "code",
   "execution_count": 74,
   "id": "6735a8a4-5b91-40f4-a226-f3be52cb95b5",
   "metadata": {},
   "outputs": [
    {
     "data": {
      "text/plain": [
       "0    a\n",
       "3    b\n",
       "2    c\n",
       "5    d\n",
       "dtype: object"
      ]
     },
     "execution_count": 74,
     "metadata": {},
     "output_type": "execute_result"
    }
   ],
   "source": [
    "s.loc[:5]"
   ]
  },
  {
   "cell_type": "code",
   "execution_count": 2,
   "id": "5139a6f9-ffda-4d1e-9494-df62deba1255",
   "metadata": {},
   "outputs": [
    {
     "data": {
      "text/html": [
       "<div>\n",
       "<style scoped>\n",
       "    .dataframe tbody tr th:only-of-type {\n",
       "        vertical-align: middle;\n",
       "    }\n",
       "\n",
       "    .dataframe tbody tr th {\n",
       "        vertical-align: top;\n",
       "    }\n",
       "\n",
       "    .dataframe thead th {\n",
       "        text-align: right;\n",
       "    }\n",
       "</style>\n",
       "<table border=\"1\" class=\"dataframe\">\n",
       "  <thead>\n",
       "    <tr style=\"text-align: right;\">\n",
       "      <th></th>\n",
       "      <th>A</th>\n",
       "      <th>B</th>\n",
       "      <th>C</th>\n",
       "      <th>D</th>\n",
       "    </tr>\n",
       "  </thead>\n",
       "  <tbody>\n",
       "    <tr>\n",
       "      <th>a</th>\n",
       "      <td>0.233969</td>\n",
       "      <td>-2.184527</td>\n",
       "      <td>0.936335</td>\n",
       "      <td>-0.742973</td>\n",
       "    </tr>\n",
       "    <tr>\n",
       "      <th>b</th>\n",
       "      <td>-0.669184</td>\n",
       "      <td>-0.347522</td>\n",
       "      <td>-0.049198</td>\n",
       "      <td>-0.948185</td>\n",
       "    </tr>\n",
       "    <tr>\n",
       "      <th>c</th>\n",
       "      <td>1.717791</td>\n",
       "      <td>1.110352</td>\n",
       "      <td>0.143623</td>\n",
       "      <td>1.733148</td>\n",
       "    </tr>\n",
       "    <tr>\n",
       "      <th>d</th>\n",
       "      <td>-0.526939</td>\n",
       "      <td>-1.124070</td>\n",
       "      <td>-0.900471</td>\n",
       "      <td>-0.135986</td>\n",
       "    </tr>\n",
       "    <tr>\n",
       "      <th>e</th>\n",
       "      <td>1.595212</td>\n",
       "      <td>0.515580</td>\n",
       "      <td>0.303817</td>\n",
       "      <td>-0.338451</td>\n",
       "    </tr>\n",
       "    <tr>\n",
       "      <th>f</th>\n",
       "      <td>-1.487570</td>\n",
       "      <td>0.516394</td>\n",
       "      <td>1.997309</td>\n",
       "      <td>0.009887</td>\n",
       "    </tr>\n",
       "  </tbody>\n",
       "</table>\n",
       "</div>"
      ],
      "text/plain": [
       "          A         B         C         D\n",
       "a  0.233969 -2.184527  0.936335 -0.742973\n",
       "b -0.669184 -0.347522 -0.049198 -0.948185\n",
       "c  1.717791  1.110352  0.143623  1.733148\n",
       "d -0.526939 -1.124070 -0.900471 -0.135986\n",
       "e  1.595212  0.515580  0.303817 -0.338451\n",
       "f -1.487570  0.516394  1.997309  0.009887"
      ]
     },
     "execution_count": 2,
     "metadata": {},
     "output_type": "execute_result"
    }
   ],
   "source": [
    "df1 = pd.DataFrame(np.random.randn(6,4), index=list('abcdef'), columns=list('ABCD'))\n",
    "df1"
   ]
  },
  {
   "cell_type": "code",
   "execution_count": 7,
   "id": "0d41c145-41bd-4910-b5fd-cba9ad2ab724",
   "metadata": {},
   "outputs": [
    {
     "data": {
      "text/plain": [
       "Index(['A', 'B', 'C'], dtype='object')"
      ]
     },
     "execution_count": 7,
     "metadata": {},
     "output_type": "execute_result"
    }
   ],
   "source": [
    "df1.columns[0:3]"
   ]
  },
  {
   "cell_type": "code",
   "execution_count": 8,
   "id": "a53ea982-d13d-4987-9617-fdf1b21f9c5d",
   "metadata": {},
   "outputs": [
    {
     "data": {
      "text/plain": [
       "a    0.233969\n",
       "c    1.717791\n",
       "e    1.595212\n",
       "Name: A, dtype: float64"
      ]
     },
     "execution_count": 8,
     "metadata": {},
     "output_type": "execute_result"
    }
   ],
   "source": [
    "df1['A'].loc[lambda x: x>0]"
   ]
  },
  {
   "cell_type": "code",
   "execution_count": 22,
   "id": "cbea3696-768b-431f-b555-b0c88cad8294",
   "metadata": {},
   "outputs": [],
   "source": [
    "# df = pd.read_csv('pd_methods.csv', index_col=0)\n",
    "df.index.rename('Stt', inplace=True)"
   ]
  },
  {
   "cell_type": "code",
   "execution_count": 30,
   "id": "1d1795ef-96e6-4fd0-96a9-bf0070c59f93",
   "metadata": {},
   "outputs": [
    {
     "data": {
      "text/plain": [
       "Index(['a', 'c'], dtype='object')"
      ]
     },
     "execution_count": 30,
     "metadata": {},
     "output_type": "execute_result"
    }
   ],
   "source": [
    "df = pd.DataFrame({'A': [1, 2, 3], 'B': [4, 5, 6]}, index=list('abc'))\n",
    "# df.loc[df.iloc[[0, 2]], 'A']\n",
    "df.index[[0, 2]]"
   ]
  },
  {
   "cell_type": "code",
   "execution_count": 32,
   "id": "71a53d13-f0c4-4d2a-9dee-57c06a67c5f1",
   "metadata": {},
   "outputs": [
    {
     "data": {
      "text/plain": [
       "a    1\n",
       "c    3\n",
       "Name: A, dtype: int64"
      ]
     },
     "execution_count": 32,
     "metadata": {},
     "output_type": "execute_result"
    }
   ],
   "source": [
    "df.loc[df.index[[0,2]], 'A']"
   ]
  },
  {
   "cell_type": "code",
   "execution_count": 46,
   "id": "9876677f-fdfd-4021-9c03-5d6ddea960cd",
   "metadata": {},
   "outputs": [
    {
     "data": {
      "text/html": [
       "<div>\n",
       "<style scoped>\n",
       "    .dataframe tbody tr th:only-of-type {\n",
       "        vertical-align: middle;\n",
       "    }\n",
       "\n",
       "    .dataframe tbody tr th {\n",
       "        vertical-align: top;\n",
       "    }\n",
       "\n",
       "    .dataframe thead th {\n",
       "        text-align: right;\n",
       "    }\n",
       "</style>\n",
       "<table border=\"1\" class=\"dataframe\">\n",
       "  <thead>\n",
       "    <tr style=\"text-align: right;\">\n",
       "      <th></th>\n",
       "      <th>A</th>\n",
       "      <th>B</th>\n",
       "    </tr>\n",
       "  </thead>\n",
       "  <tbody>\n",
       "    <tr>\n",
       "      <th>a</th>\n",
       "      <td>1</td>\n",
       "      <td>4</td>\n",
       "    </tr>\n",
       "    <tr>\n",
       "      <th>b</th>\n",
       "      <td>2</td>\n",
       "      <td>5</td>\n",
       "    </tr>\n",
       "    <tr>\n",
       "      <th>c</th>\n",
       "      <td>3</td>\n",
       "      <td>6</td>\n",
       "    </tr>\n",
       "  </tbody>\n",
       "</table>\n",
       "</div>"
      ],
      "text/plain": [
       "   A  B\n",
       "a  1  4\n",
       "b  2  5\n",
       "c  3  6"
      ]
     },
     "execution_count": 46,
     "metadata": {},
     "output_type": "execute_result"
    }
   ],
   "source": [
    "df"
   ]
  },
  {
   "cell_type": "code",
   "execution_count": 41,
   "id": "f87bfb2b-6122-43b6-951b-a072303c8458",
   "metadata": {},
   "outputs": [
    {
     "data": {
      "text/plain": [
       "Index(['a', 'c'], dtype='object')"
      ]
     },
     "execution_count": 41,
     "metadata": {},
     "output_type": "execute_result"
    }
   ],
   "source": [
    "df.index[[0, 2]]"
   ]
  },
  {
   "cell_type": "code",
   "execution_count": 47,
   "id": "37cf09c2-cfca-488e-9b07-4960a3205f8a",
   "metadata": {},
   "outputs": [
    {
     "data": {
      "text/plain": [
       "Index(['A', 'B'], dtype='object')"
      ]
     },
     "execution_count": 47,
     "metadata": {},
     "output_type": "execute_result"
    }
   ],
   "source": [
    "df.columns[[0, 1]]"
   ]
  },
  {
   "cell_type": "code",
   "execution_count": 59,
   "id": "bc85f814-9441-48c3-b33f-19cf2d39f3f6",
   "metadata": {},
   "outputs": [
    {
     "data": {
      "text/plain": [
       "0"
      ]
     },
     "execution_count": 59,
     "metadata": {},
     "output_type": "execute_result"
    }
   ],
   "source": [
    "df.columns.get_loc('A')"
   ]
  },
  {
   "cell_type": "code",
   "execution_count": 60,
   "id": "16d1178d-6e3b-4553-acb3-2a1706f20788",
   "metadata": {},
   "outputs": [
    {
     "data": {
      "text/plain": [
       "0"
      ]
     },
     "execution_count": 60,
     "metadata": {},
     "output_type": "execute_result"
    }
   ],
   "source": [
    "df.index.get_loc('a')"
   ]
  },
  {
   "cell_type": "code",
   "execution_count": 61,
   "id": "bbb2c775-193e-471a-ac75-ba7c66b3f0ec",
   "metadata": {},
   "outputs": [
    {
     "data": {
      "text/plain": [
       "array([0, 1, 2], dtype=int64)"
      ]
     },
     "execution_count": 61,
     "metadata": {},
     "output_type": "execute_result"
    }
   ],
   "source": [
    "df.index.get_indexer(['a', 'b', 'c'])"
   ]
  },
  {
   "cell_type": "code",
   "execution_count": 62,
   "id": "5ba1befb-d051-47a2-85c9-70516277ca67",
   "metadata": {},
   "outputs": [
    {
     "data": {
      "text/plain": [
       "array([0, 1], dtype=int64)"
      ]
     },
     "execution_count": 62,
     "metadata": {},
     "output_type": "execute_result"
    }
   ],
   "source": [
    "df.columns.get_indexer(['A', 'B'])"
   ]
  },
  {
   "cell_type": "code",
   "execution_count": 63,
   "id": "f5938ab1-954e-455b-9516-82a85e651b51",
   "metadata": {},
   "outputs": [
    {
     "data": {
      "text/plain": [
       "1    1\n",
       "dtype: int32"
      ]
     },
     "execution_count": 63,
     "metadata": {},
     "output_type": "execute_result"
    }
   ],
   "source": [
    "s = pd.Series(np.arange(6))\n",
    "s.sample()"
   ]
  },
  {
   "cell_type": "code",
   "execution_count": 64,
   "id": "8fc3490b-6229-4ff5-9b83-7d8cee92e642",
   "metadata": {},
   "outputs": [
    {
     "data": {
      "text/plain": [
       "2    2\n",
       "0    0\n",
       "3    3\n",
       "dtype: int32"
      ]
     },
     "execution_count": 64,
     "metadata": {},
     "output_type": "execute_result"
    }
   ],
   "source": [
    "s.sample(n=3)"
   ]
  },
  {
   "cell_type": "code",
   "execution_count": 65,
   "id": "de5c145f-b05f-40cf-86a4-e2c067dbb9dd",
   "metadata": {},
   "outputs": [
    {
     "data": {
      "text/plain": [
       "0    0\n",
       "4    4\n",
       "2    2\n",
       "dtype: int32"
      ]
     },
     "execution_count": 65,
     "metadata": {},
     "output_type": "execute_result"
    }
   ],
   "source": [
    "s.sample(frac=0.5)"
   ]
  },
  {
   "cell_type": "code",
   "execution_count": 71,
   "id": "dbc517d6-c2b2-4a20-9a99-ffdcf3dacd96",
   "metadata": {},
   "outputs": [
    {
     "data": {
      "text/plain": [
       "0    0\n",
       "3    3\n",
       "4    4\n",
       "dtype: int32"
      ]
     },
     "execution_count": 71,
     "metadata": {},
     "output_type": "execute_result"
    }
   ],
   "source": [
    "s.sample(n=3, weights=[0.4, 0.4, 0.4, 0.4, 0.4, 0.4])"
   ]
  },
  {
   "cell_type": "code",
   "execution_count": 73,
   "id": "8db41bec-3935-4876-9517-18f652bf683e",
   "metadata": {},
   "outputs": [
    {
     "data": {
      "text/html": [
       "<div>\n",
       "<style scoped>\n",
       "    .dataframe tbody tr th:only-of-type {\n",
       "        vertical-align: middle;\n",
       "    }\n",
       "\n",
       "    .dataframe tbody tr th {\n",
       "        vertical-align: top;\n",
       "    }\n",
       "\n",
       "    .dataframe thead th {\n",
       "        text-align: right;\n",
       "    }\n",
       "</style>\n",
       "<table border=\"1\" class=\"dataframe\">\n",
       "  <thead>\n",
       "    <tr style=\"text-align: right;\">\n",
       "      <th></th>\n",
       "      <th>col1</th>\n",
       "      <th>weight_col</th>\n",
       "    </tr>\n",
       "  </thead>\n",
       "  <tbody>\n",
       "    <tr>\n",
       "      <th>0</th>\n",
       "      <td>9</td>\n",
       "      <td>0.5</td>\n",
       "    </tr>\n",
       "    <tr>\n",
       "      <th>2</th>\n",
       "      <td>7</td>\n",
       "      <td>0.1</td>\n",
       "    </tr>\n",
       "    <tr>\n",
       "      <th>1</th>\n",
       "      <td>8</td>\n",
       "      <td>0.4</td>\n",
       "    </tr>\n",
       "  </tbody>\n",
       "</table>\n",
       "</div>"
      ],
      "text/plain": [
       "   col1  weight_col\n",
       "0     9         0.5\n",
       "2     7         0.1\n",
       "1     8         0.4"
      ]
     },
     "execution_count": 73,
     "metadata": {},
     "output_type": "execute_result"
    }
   ],
   "source": [
    "df2 = pd.DataFrame({'col1': [9, 8, 7, 6], 'weight_col': [0.5, 0.4, 0.1, 0]})\n",
    "df2.sample(n=3, weights='weight_col')"
   ]
  },
  {
   "cell_type": "code",
   "execution_count": 84,
   "id": "7c8dd5e0-2aca-4d3f-826c-6d22dd1b6de9",
   "metadata": {},
   "outputs": [
    {
     "data": {
      "text/html": [
       "<div>\n",
       "<style scoped>\n",
       "    .dataframe tbody tr th:only-of-type {\n",
       "        vertical-align: middle;\n",
       "    }\n",
       "\n",
       "    .dataframe tbody tr th {\n",
       "        vertical-align: top;\n",
       "    }\n",
       "\n",
       "    .dataframe thead th {\n",
       "        text-align: right;\n",
       "    }\n",
       "</style>\n",
       "<table border=\"1\" class=\"dataframe\">\n",
       "  <thead>\n",
       "    <tr style=\"text-align: right;\">\n",
       "      <th></th>\n",
       "      <th>col1</th>\n",
       "      <th>weight_col</th>\n",
       "    </tr>\n",
       "  </thead>\n",
       "  <tbody>\n",
       "    <tr>\n",
       "      <th>3</th>\n",
       "      <td>6</td>\n",
       "      <td>0.0</td>\n",
       "    </tr>\n",
       "    <tr>\n",
       "      <th>1</th>\n",
       "      <td>8</td>\n",
       "      <td>0.4</td>\n",
       "    </tr>\n",
       "    <tr>\n",
       "      <th>0</th>\n",
       "      <td>9</td>\n",
       "      <td>0.5</td>\n",
       "    </tr>\n",
       "  </tbody>\n",
       "</table>\n",
       "</div>"
      ],
      "text/plain": [
       "   col1  weight_col\n",
       "3     6         0.0\n",
       "1     8         0.4\n",
       "0     9         0.5"
      ]
     },
     "execution_count": 84,
     "metadata": {},
     "output_type": "execute_result"
    }
   ],
   "source": [
    "df2.sample(n=3, random_state=3)"
   ]
  },
  {
   "cell_type": "code",
   "execution_count": 90,
   "id": "320d75de-0d03-41bc-b0a4-e8f847f801b8",
   "metadata": {},
   "outputs": [],
   "source": [
    "se = pd.Series([1, 2, 3])"
   ]
  },
  {
   "cell_type": "code",
   "execution_count": 101,
   "id": "5ecf909d-ceb9-4c89-a9d3-b73baaa12a5c",
   "metadata": {},
   "outputs": [],
   "source": [
    "se = se.reset_index()"
   ]
  },
  {
   "cell_type": "code",
   "execution_count": 104,
   "id": "7bde18ab-291b-4545-816c-59d097112e30",
   "metadata": {},
   "outputs": [
    {
     "data": {
      "text/html": [
       "<div>\n",
       "<style scoped>\n",
       "    .dataframe tbody tr th:only-of-type {\n",
       "        vertical-align: middle;\n",
       "    }\n",
       "\n",
       "    .dataframe tbody tr th {\n",
       "        vertical-align: top;\n",
       "    }\n",
       "\n",
       "    .dataframe thead th {\n",
       "        text-align: right;\n",
       "    }\n",
       "</style>\n",
       "<table border=\"1\" class=\"dataframe\">\n",
       "  <thead>\n",
       "    <tr style=\"text-align: right;\">\n",
       "      <th></th>\n",
       "      <th>A</th>\n",
       "      <th>B</th>\n",
       "    </tr>\n",
       "  </thead>\n",
       "  <tbody>\n",
       "    <tr>\n",
       "      <th>0</th>\n",
       "      <td>0</td>\n",
       "      <td>1</td>\n",
       "    </tr>\n",
       "    <tr>\n",
       "      <th>1</th>\n",
       "      <td>2</td>\n",
       "      <td>3</td>\n",
       "    </tr>\n",
       "    <tr>\n",
       "      <th>2</th>\n",
       "      <td>4</td>\n",
       "      <td>5</td>\n",
       "    </tr>\n",
       "  </tbody>\n",
       "</table>\n",
       "</div>"
      ],
      "text/plain": [
       "   A  B\n",
       "0  0  1\n",
       "1  2  3\n",
       "2  4  5"
      ]
     },
     "execution_count": 104,
     "metadata": {},
     "output_type": "execute_result"
    }
   ],
   "source": [
    "df = pd.DataFrame(np.arange(6).reshape(3,2), columns=['A', 'B'])\n",
    "df"
   ]
  },
  {
   "cell_type": "code",
   "execution_count": 106,
   "id": "3311b017-d7c9-488b-adb9-c8dfed0031f1",
   "metadata": {},
   "outputs": [],
   "source": [
    "dates = pd.Series(pd.date_range('20010101', periods=10))\n",
    "s = pd.Series(np.arange(10), index=dates)\n",
    "df = pd.DataFrame(np.random.randn(10,4), index=dates, columns=list('ABCD'))"
   ]
  },
  {
   "cell_type": "code",
   "execution_count": 107,
   "id": "9ad193c2-9b4b-4e4c-bdfc-153911cdfc70",
   "metadata": {},
   "outputs": [
    {
     "data": {
      "text/plain": [
       "5"
      ]
     },
     "execution_count": 107,
     "metadata": {},
     "output_type": "execute_result"
    }
   ],
   "source": [
    "s.iat[5]"
   ]
  },
  {
   "cell_type": "code",
   "execution_count": 108,
   "id": "9daf84b2-a3f7-4a11-98e0-bd17dfedd17c",
   "metadata": {},
   "outputs": [
    {
     "data": {
      "text/plain": [
       "0.06143719498133536"
      ]
     },
     "execution_count": 108,
     "metadata": {},
     "output_type": "execute_result"
    }
   ],
   "source": [
    "df.at[dates[5], 'A']"
   ]
  },
  {
   "cell_type": "code",
   "execution_count": 109,
   "id": "1d413608-8ceb-4799-9253-fdb8891f3680",
   "metadata": {},
   "outputs": [
    {
     "data": {
      "text/plain": [
       "-1.1460152111000526"
      ]
     },
     "execution_count": 109,
     "metadata": {},
     "output_type": "execute_result"
    }
   ],
   "source": [
    "df.iat[0, 3]"
   ]
  },
  {
   "cell_type": "code",
   "execution_count": 136,
   "id": "d9937018-3193-4f9b-953f-c6f050eddf15",
   "metadata": {},
   "outputs": [
    {
     "data": {
      "text/html": [
       "<div>\n",
       "<style scoped>\n",
       "    .dataframe tbody tr th:only-of-type {\n",
       "        vertical-align: middle;\n",
       "    }\n",
       "\n",
       "    .dataframe tbody tr th {\n",
       "        vertical-align: top;\n",
       "    }\n",
       "\n",
       "    .dataframe thead th {\n",
       "        text-align: right;\n",
       "    }\n",
       "</style>\n",
       "<table border=\"1\" class=\"dataframe\">\n",
       "  <thead>\n",
       "    <tr style=\"text-align: right;\">\n",
       "      <th></th>\n",
       "      <th>b</th>\n",
       "      <th>c</th>\n",
       "    </tr>\n",
       "  </thead>\n",
       "  <tbody>\n",
       "    <tr>\n",
       "      <th>3</th>\n",
       "      <td>x</td>\n",
       "      <td>0.038341</td>\n",
       "    </tr>\n",
       "  </tbody>\n",
       "</table>\n",
       "</div>"
      ],
      "text/plain": [
       "   b         c\n",
       "3  x  0.038341"
      ]
     },
     "execution_count": 136,
     "metadata": {},
     "output_type": "execute_result"
    }
   ],
   "source": [
    "df2 = pd.DataFrame({'a': ['one', 'one', 'two', 'three', 'two', 'one', 'six'],\n",
    "                   'b': ['x', 'y', 'y', 'x', 'y', 'x', 'x'],\n",
    "                   'c': np.random.randn(7)})\n",
    "criterion = df2['a'].map(lambda x: x.startswith('t'))\n",
    "# df2[criterion]\n",
    "# df2[[x.startswith('t') for x in df2['a']]]\n",
    "# df2[criterion & (df2['b'] == 'x')]\n",
    "df2.loc[criterion & (df2['b'] == 'x'), 'b':'c']"
   ]
  },
  {
   "cell_type": "code",
   "execution_count": 154,
   "id": "54ad893a-f257-41a1-bc63-99e074117926",
   "metadata": {},
   "outputs": [
    {
     "data": {
      "text/html": [
       "<div>\n",
       "<style scoped>\n",
       "    .dataframe tbody tr th:only-of-type {\n",
       "        vertical-align: middle;\n",
       "    }\n",
       "\n",
       "    .dataframe tbody tr th {\n",
       "        vertical-align: top;\n",
       "    }\n",
       "\n",
       "    .dataframe thead th {\n",
       "        text-align: right;\n",
       "    }\n",
       "</style>\n",
       "<table border=\"1\" class=\"dataframe\">\n",
       "  <thead>\n",
       "    <tr style=\"text-align: right;\">\n",
       "      <th></th>\n",
       "      <th>A</th>\n",
       "      <th>B</th>\n",
       "    </tr>\n",
       "  </thead>\n",
       "  <tbody>\n",
       "    <tr>\n",
       "      <th>a</th>\n",
       "      <td>0.806984</td>\n",
       "      <td>-0.150727</td>\n",
       "    </tr>\n",
       "    <tr>\n",
       "      <th>b</th>\n",
       "      <td>1.429061</td>\n",
       "      <td>-0.042105</td>\n",
       "    </tr>\n",
       "    <tr>\n",
       "      <th>c</th>\n",
       "      <td>0.181825</td>\n",
       "      <td>-1.285301</td>\n",
       "    </tr>\n",
       "    <tr>\n",
       "      <th>d</th>\n",
       "      <td>1.260090</td>\n",
       "      <td>1.197514</td>\n",
       "    </tr>\n",
       "    <tr>\n",
       "      <th>e</th>\n",
       "      <td>0.298790</td>\n",
       "      <td>-0.754171</td>\n",
       "    </tr>\n",
       "  </tbody>\n",
       "</table>\n",
       "</div>"
      ],
      "text/plain": [
       "          A         B\n",
       "a  0.806984 -0.150727\n",
       "b  1.429061 -0.042105\n",
       "c  0.181825 -1.285301\n",
       "d  1.260090  1.197514\n",
       "e  0.298790 -0.754171"
      ]
     },
     "execution_count": 154,
     "metadata": {},
     "output_type": "execute_result"
    }
   ],
   "source": [
    "df = pd.DataFrame(np.random.randn(5, 2),\n",
    "                  index=list('abcde'),\n",
    "                  columns=['A', 'B'])\n",
    "df"
   ]
  },
  {
   "cell_type": "code",
   "execution_count": 155,
   "id": "74fac219-5a60-406c-bce3-87cdde3a26b3",
   "metadata": {},
   "outputs": [
    {
     "data": {
      "text/plain": [
       "a     True\n",
       "b     True\n",
       "c    False\n",
       "d     True\n",
       "e    False\n",
       "Name: A, dtype: bool"
      ]
     },
     "execution_count": 155,
     "metadata": {},
     "output_type": "execute_result"
    }
   ],
   "source": [
    "df['A'] > 0.5"
   ]
  },
  {
   "cell_type": "code",
   "execution_count": 157,
   "id": "0d6778bf-a94b-4dd6-b39d-096d1fbaedb1",
   "metadata": {},
   "outputs": [
    {
     "data": {
      "text/plain": [
       "array([ True,  True, False,  True, False])"
      ]
     },
     "execution_count": 157,
     "metadata": {},
     "output_type": "execute_result"
    }
   ],
   "source": [
    "s = (df['A'] > 0.5)\n",
    "s.values"
   ]
  },
  {
   "cell_type": "code",
   "execution_count": 162,
   "id": "db013aeb-6f36-4de0-95f7-92566e31e675",
   "metadata": {},
   "outputs": [
    {
     "name": "stdout",
     "output_type": "stream",
     "text": [
      "a     True\n",
      "b     True\n",
      "c    False\n",
      "d     True\n",
      "e    False\n",
      "Name: A, dtype: bool\n"
     ]
    }
   ],
   "source": [
    "print(s)"
   ]
  },
  {
   "cell_type": "code",
   "execution_count": 164,
   "id": "116c961b-34df-41aa-8cbc-c02421dca385",
   "metadata": {},
   "outputs": [
    {
     "data": {
      "text/plain": [
       "a   -0.150727\n",
       "c   -1.285301\n",
       "d    1.197514\n",
       "Name: B, dtype: float64"
      ]
     },
     "execution_count": 164,
     "metadata": {},
     "output_type": "execute_result"
    }
   ],
   "source": [
    "df.iloc[[True, False, True, True, False], 1]"
   ]
  },
  {
   "cell_type": "code",
   "execution_count": 168,
   "id": "0f971b1a-db80-45d7-9941-ec99362d25e7",
   "metadata": {},
   "outputs": [
    {
     "data": {
      "text/plain": [
       "0  a    0\n",
       "   b    1\n",
       "   c    2\n",
       "1  a    3\n",
       "   b    4\n",
       "   c    5\n",
       "dtype: int32"
      ]
     },
     "execution_count": 168,
     "metadata": {},
     "output_type": "execute_result"
    }
   ],
   "source": [
    "s = pd.Series(np.arange(6), index=pd.MultiIndex.from_product([[0,1], ['a', 'b', 'c']]))\n",
    "s"
   ]
  },
  {
   "cell_type": "code",
   "execution_count": 173,
   "id": "e25b0f5c-258c-467b-a3ac-412721602464",
   "metadata": {},
   "outputs": [],
   "source": [
    "s1 = s.index.isin(['a', 'c'], level=1)"
   ]
  },
  {
   "cell_type": "code",
   "execution_count": 174,
   "id": "ccb7b7d3-7d07-4efe-b2a1-e9c2a4ba7d78",
   "metadata": {},
   "outputs": [
    {
     "data": {
      "text/plain": [
       "0  a    0\n",
       "   c    2\n",
       "1  a    3\n",
       "   c    5\n",
       "dtype: int32"
      ]
     },
     "execution_count": 174,
     "metadata": {},
     "output_type": "execute_result"
    }
   ],
   "source": [
    "s.iloc[s1]"
   ]
  },
  {
   "cell_type": "code",
   "execution_count": 175,
   "id": "52e52e19-c83d-4e52-b8e2-85aa3ed59ae4",
   "metadata": {},
   "outputs": [
    {
     "data": {
      "text/html": [
       "<div>\n",
       "<style scoped>\n",
       "    .dataframe tbody tr th:only-of-type {\n",
       "        vertical-align: middle;\n",
       "    }\n",
       "\n",
       "    .dataframe tbody tr th {\n",
       "        vertical-align: top;\n",
       "    }\n",
       "\n",
       "    .dataframe thead th {\n",
       "        text-align: right;\n",
       "    }\n",
       "</style>\n",
       "<table border=\"1\" class=\"dataframe\">\n",
       "  <thead>\n",
       "    <tr style=\"text-align: right;\">\n",
       "      <th></th>\n",
       "      <th>vals</th>\n",
       "      <th>ids</th>\n",
       "      <th>ids2</th>\n",
       "    </tr>\n",
       "  </thead>\n",
       "  <tbody>\n",
       "    <tr>\n",
       "      <th>0</th>\n",
       "      <td>1</td>\n",
       "      <td>a</td>\n",
       "      <td>a</td>\n",
       "    </tr>\n",
       "    <tr>\n",
       "      <th>1</th>\n",
       "      <td>2</td>\n",
       "      <td>b</td>\n",
       "      <td>n</td>\n",
       "    </tr>\n",
       "    <tr>\n",
       "      <th>2</th>\n",
       "      <td>3</td>\n",
       "      <td>f</td>\n",
       "      <td>c</td>\n",
       "    </tr>\n",
       "    <tr>\n",
       "      <th>3</th>\n",
       "      <td>4</td>\n",
       "      <td>n</td>\n",
       "      <td>n</td>\n",
       "    </tr>\n",
       "  </tbody>\n",
       "</table>\n",
       "</div>"
      ],
      "text/plain": [
       "   vals ids ids2\n",
       "0     1   a    a\n",
       "1     2   b    n\n",
       "2     3   f    c\n",
       "3     4   n    n"
      ]
     },
     "execution_count": 175,
     "metadata": {},
     "output_type": "execute_result"
    }
   ],
   "source": [
    "df = pd.DataFrame({'vals': [1,2,3,4], 'ids': ['a', 'b', 'f', 'n'], 'ids2': ['a', 'n', 'c', 'n']})\n",
    "df"
   ]
  },
  {
   "cell_type": "code",
   "execution_count": 188,
   "id": "a8e20836-b1fa-49ae-af67-1f04e283060d",
   "metadata": {},
   "outputs": [
    {
     "data": {
      "text/plain": [
       "vals    False\n",
       "ids     False\n",
       "ids2    False\n",
       "dtype: bool"
      ]
     },
     "execution_count": 188,
     "metadata": {},
     "output_type": "execute_result"
    }
   ],
   "source": [
    "values = {'ids': ['a', 'c'], 'ids2': ['a', 'b'], 'vals': [1, 3]}\n",
    "row_mask = df.isin(values).all()\n",
    "row_mask"
   ]
  },
  {
   "cell_type": "code",
   "execution_count": 183,
   "id": "67a28a26-3a79-4a2c-893b-733272277650",
   "metadata": {},
   "outputs": [
    {
     "data": {
      "text/html": [
       "<div>\n",
       "<style scoped>\n",
       "    .dataframe tbody tr th:only-of-type {\n",
       "        vertical-align: middle;\n",
       "    }\n",
       "\n",
       "    .dataframe tbody tr th {\n",
       "        vertical-align: top;\n",
       "    }\n",
       "\n",
       "    .dataframe thead th {\n",
       "        text-align: right;\n",
       "    }\n",
       "</style>\n",
       "<table border=\"1\" class=\"dataframe\">\n",
       "  <thead>\n",
       "    <tr style=\"text-align: right;\">\n",
       "      <th></th>\n",
       "      <th>vals</th>\n",
       "      <th>ids</th>\n",
       "      <th>ids2</th>\n",
       "    </tr>\n",
       "  </thead>\n",
       "  <tbody>\n",
       "    <tr>\n",
       "      <th>0</th>\n",
       "      <td>1</td>\n",
       "      <td>a</td>\n",
       "      <td>a</td>\n",
       "    </tr>\n",
       "  </tbody>\n",
       "</table>\n",
       "</div>"
      ],
      "text/plain": [
       "   vals ids ids2\n",
       "0     1   a    a"
      ]
     },
     "execution_count": 183,
     "metadata": {},
     "output_type": "execute_result"
    }
   ],
   "source": [
    "df[row_mask]"
   ]
  },
  {
   "cell_type": "code",
   "execution_count": 189,
   "id": "29f853e2-44a5-4942-8a27-f634944f7e76",
   "metadata": {},
   "outputs": [
    {
     "data": {
      "text/html": [
       "<div>\n",
       "<style scoped>\n",
       "    .dataframe tbody tr th:only-of-type {\n",
       "        vertical-align: middle;\n",
       "    }\n",
       "\n",
       "    .dataframe tbody tr th {\n",
       "        vertical-align: top;\n",
       "    }\n",
       "\n",
       "    .dataframe thead th {\n",
       "        text-align: right;\n",
       "    }\n",
       "</style>\n",
       "<table border=\"1\" class=\"dataframe\">\n",
       "  <thead>\n",
       "    <tr style=\"text-align: right;\">\n",
       "      <th></th>\n",
       "      <th>A</th>\n",
       "      <th>B</th>\n",
       "      <th>C</th>\n",
       "      <th>D</th>\n",
       "    </tr>\n",
       "  </thead>\n",
       "  <tbody>\n",
       "    <tr>\n",
       "      <th>2000-01-01</th>\n",
       "      <td>-0.329708</td>\n",
       "      <td>0.706123</td>\n",
       "      <td>-2.713327</td>\n",
       "      <td>1.022615</td>\n",
       "    </tr>\n",
       "    <tr>\n",
       "      <th>2000-01-02</th>\n",
       "      <td>-0.096420</td>\n",
       "      <td>-0.481043</td>\n",
       "      <td>-1.034451</td>\n",
       "      <td>1.429250</td>\n",
       "    </tr>\n",
       "    <tr>\n",
       "      <th>2000-01-03</th>\n",
       "      <td>-0.181702</td>\n",
       "      <td>-0.335237</td>\n",
       "      <td>1.069624</td>\n",
       "      <td>-0.655576</td>\n",
       "    </tr>\n",
       "    <tr>\n",
       "      <th>2000-01-04</th>\n",
       "      <td>0.790950</td>\n",
       "      <td>-0.323941</td>\n",
       "      <td>-0.403812</td>\n",
       "      <td>-1.060557</td>\n",
       "    </tr>\n",
       "    <tr>\n",
       "      <th>2000-01-05</th>\n",
       "      <td>0.490567</td>\n",
       "      <td>0.407525</td>\n",
       "      <td>-1.077142</td>\n",
       "      <td>-0.138711</td>\n",
       "    </tr>\n",
       "    <tr>\n",
       "      <th>2000-01-06</th>\n",
       "      <td>0.880371</td>\n",
       "      <td>0.414202</td>\n",
       "      <td>-0.699189</td>\n",
       "      <td>-2.416261</td>\n",
       "    </tr>\n",
       "    <tr>\n",
       "      <th>2000-01-07</th>\n",
       "      <td>1.177994</td>\n",
       "      <td>0.572624</td>\n",
       "      <td>0.381155</td>\n",
       "      <td>-0.387474</td>\n",
       "    </tr>\n",
       "    <tr>\n",
       "      <th>2000-01-08</th>\n",
       "      <td>-0.911770</td>\n",
       "      <td>0.066977</td>\n",
       "      <td>-0.047273</td>\n",
       "      <td>1.337870</td>\n",
       "    </tr>\n",
       "  </tbody>\n",
       "</table>\n",
       "</div>"
      ],
      "text/plain": [
       "                   A         B         C         D\n",
       "2000-01-01 -0.329708  0.706123 -2.713327  1.022615\n",
       "2000-01-02 -0.096420 -0.481043 -1.034451  1.429250\n",
       "2000-01-03 -0.181702 -0.335237  1.069624 -0.655576\n",
       "2000-01-04  0.790950 -0.323941 -0.403812 -1.060557\n",
       "2000-01-05  0.490567  0.407525 -1.077142 -0.138711\n",
       "2000-01-06  0.880371  0.414202 -0.699189 -2.416261\n",
       "2000-01-07  1.177994  0.572624  0.381155 -0.387474\n",
       "2000-01-08 -0.911770  0.066977 -0.047273  1.337870"
      ]
     },
     "execution_count": 189,
     "metadata": {},
     "output_type": "execute_result"
    }
   ],
   "source": [
    "df = pd.DataFrame(np.random.randn(8, 4), index= pd.date_range('2000-01-01', periods=8), columns=list('ABCD'))\n",
    "df"
   ]
  },
  {
   "cell_type": "code",
   "execution_count": 199,
   "id": "10fd6e7e-abd6-465b-ade7-9a4cadd689d6",
   "metadata": {},
   "outputs": [
    {
     "data": {
      "text/html": [
       "<div>\n",
       "<style scoped>\n",
       "    .dataframe tbody tr th:only-of-type {\n",
       "        vertical-align: middle;\n",
       "    }\n",
       "\n",
       "    .dataframe tbody tr th {\n",
       "        vertical-align: top;\n",
       "    }\n",
       "\n",
       "    .dataframe thead th {\n",
       "        text-align: right;\n",
       "    }\n",
       "</style>\n",
       "<table border=\"1\" class=\"dataframe\">\n",
       "  <thead>\n",
       "    <tr style=\"text-align: right;\">\n",
       "      <th></th>\n",
       "      <th>A</th>\n",
       "      <th>B</th>\n",
       "      <th>C</th>\n",
       "      <th>D</th>\n",
       "    </tr>\n",
       "  </thead>\n",
       "  <tbody>\n",
       "    <tr>\n",
       "      <th>2000-01-02</th>\n",
       "      <td>-0.096420</td>\n",
       "      <td>-0.481043</td>\n",
       "      <td>-1.034451</td>\n",
       "      <td>1.429250</td>\n",
       "    </tr>\n",
       "    <tr>\n",
       "      <th>2000-01-03</th>\n",
       "      <td>-0.181702</td>\n",
       "      <td>-0.335237</td>\n",
       "      <td>1.069624</td>\n",
       "      <td>-0.655576</td>\n",
       "    </tr>\n",
       "    <tr>\n",
       "      <th>2000-01-04</th>\n",
       "      <td>0.790950</td>\n",
       "      <td>-0.323941</td>\n",
       "      <td>-0.403812</td>\n",
       "      <td>-1.060557</td>\n",
       "    </tr>\n",
       "  </tbody>\n",
       "</table>\n",
       "</div>"
      ],
      "text/plain": [
       "                   A         B         C         D\n",
       "2000-01-02 -0.096420 -0.481043 -1.034451  1.429250\n",
       "2000-01-03 -0.181702 -0.335237  1.069624 -0.655576\n",
       "2000-01-04  0.790950 -0.323941 -0.403812 -1.060557"
      ]
     },
     "execution_count": 199,
     "metadata": {},
     "output_type": "execute_result"
    }
   ],
   "source": [
    "df[1:4]"
   ]
  },
  {
   "cell_type": "code",
   "execution_count": 202,
   "id": "d3ca621e-0f17-47a2-aa4d-5071843f6970",
   "metadata": {},
   "outputs": [
    {
     "data": {
      "text/html": [
       "<div>\n",
       "<style scoped>\n",
       "    .dataframe tbody tr th:only-of-type {\n",
       "        vertical-align: middle;\n",
       "    }\n",
       "\n",
       "    .dataframe tbody tr th {\n",
       "        vertical-align: top;\n",
       "    }\n",
       "\n",
       "    .dataframe thead th {\n",
       "        text-align: right;\n",
       "    }\n",
       "</style>\n",
       "<table border=\"1\" class=\"dataframe\">\n",
       "  <thead>\n",
       "    <tr style=\"text-align: right;\">\n",
       "      <th></th>\n",
       "      <th>A</th>\n",
       "      <th>B</th>\n",
       "      <th>C</th>\n",
       "      <th>D</th>\n",
       "    </tr>\n",
       "  </thead>\n",
       "  <tbody>\n",
       "    <tr>\n",
       "      <th>2000-01-01</th>\n",
       "      <td>-0.329708</td>\n",
       "      <td>0.706123</td>\n",
       "      <td>-2.713327</td>\n",
       "      <td>1.022615</td>\n",
       "    </tr>\n",
       "    <tr>\n",
       "      <th>2000-01-02</th>\n",
       "      <td>-0.096420</td>\n",
       "      <td>-0.481043</td>\n",
       "      <td>-1.034451</td>\n",
       "      <td>1.429250</td>\n",
       "    </tr>\n",
       "    <tr>\n",
       "      <th>2000-01-03</th>\n",
       "      <td>-0.181702</td>\n",
       "      <td>-0.335237</td>\n",
       "      <td>1.069624</td>\n",
       "      <td>-0.655576</td>\n",
       "    </tr>\n",
       "    <tr>\n",
       "      <th>2000-01-04</th>\n",
       "      <td>0.790950</td>\n",
       "      <td>-0.323941</td>\n",
       "      <td>-0.403812</td>\n",
       "      <td>-1.060557</td>\n",
       "    </tr>\n",
       "    <tr>\n",
       "      <th>2000-01-05</th>\n",
       "      <td>0.490567</td>\n",
       "      <td>0.407525</td>\n",
       "      <td>-1.077142</td>\n",
       "      <td>-0.138711</td>\n",
       "    </tr>\n",
       "    <tr>\n",
       "      <th>2000-01-06</th>\n",
       "      <td>0.880371</td>\n",
       "      <td>0.414202</td>\n",
       "      <td>-0.699189</td>\n",
       "      <td>-2.416261</td>\n",
       "    </tr>\n",
       "    <tr>\n",
       "      <th>2000-01-07</th>\n",
       "      <td>1.177994</td>\n",
       "      <td>0.572624</td>\n",
       "      <td>0.381155</td>\n",
       "      <td>-0.387474</td>\n",
       "    </tr>\n",
       "    <tr>\n",
       "      <th>2000-01-08</th>\n",
       "      <td>-0.911770</td>\n",
       "      <td>0.066977</td>\n",
       "      <td>-0.047273</td>\n",
       "      <td>1.337870</td>\n",
       "    </tr>\n",
       "  </tbody>\n",
       "</table>\n",
       "</div>"
      ],
      "text/plain": [
       "                   A         B         C         D\n",
       "2000-01-01 -0.329708  0.706123 -2.713327  1.022615\n",
       "2000-01-02 -0.096420 -0.481043 -1.034451  1.429250\n",
       "2000-01-03 -0.181702 -0.335237  1.069624 -0.655576\n",
       "2000-01-04  0.790950 -0.323941 -0.403812 -1.060557\n",
       "2000-01-05  0.490567  0.407525 -1.077142 -0.138711\n",
       "2000-01-06  0.880371  0.414202 -0.699189 -2.416261\n",
       "2000-01-07  1.177994  0.572624  0.381155 -0.387474\n",
       "2000-01-08 -0.911770  0.066977 -0.047273  1.337870"
      ]
     },
     "execution_count": 202,
     "metadata": {},
     "output_type": "execute_result"
    }
   ],
   "source": [
    "df"
   ]
  },
  {
   "cell_type": "code",
   "execution_count": 207,
   "id": "79d3d0e7-2dc1-46fb-aef8-f054280b445a",
   "metadata": {},
   "outputs": [
    {
     "data": {
      "text/html": [
       "<div>\n",
       "<style scoped>\n",
       "    .dataframe tbody tr th:only-of-type {\n",
       "        vertical-align: middle;\n",
       "    }\n",
       "\n",
       "    .dataframe tbody tr th {\n",
       "        vertical-align: top;\n",
       "    }\n",
       "\n",
       "    .dataframe thead th {\n",
       "        text-align: right;\n",
       "    }\n",
       "</style>\n",
       "<table border=\"1\" class=\"dataframe\">\n",
       "  <thead>\n",
       "    <tr style=\"text-align: right;\">\n",
       "      <th></th>\n",
       "      <th>A</th>\n",
       "      <th>B</th>\n",
       "      <th>C</th>\n",
       "      <th>D</th>\n",
       "    </tr>\n",
       "  </thead>\n",
       "  <tbody>\n",
       "    <tr>\n",
       "      <th>2000-01-01</th>\n",
       "      <td>NaN</td>\n",
       "      <td>0.706123</td>\n",
       "      <td>NaN</td>\n",
       "      <td>1.022615</td>\n",
       "    </tr>\n",
       "    <tr>\n",
       "      <th>2000-01-02</th>\n",
       "      <td>NaN</td>\n",
       "      <td>NaN</td>\n",
       "      <td>NaN</td>\n",
       "      <td>1.429250</td>\n",
       "    </tr>\n",
       "    <tr>\n",
       "      <th>2000-01-03</th>\n",
       "      <td>NaN</td>\n",
       "      <td>NaN</td>\n",
       "      <td>1.069624</td>\n",
       "      <td>NaN</td>\n",
       "    </tr>\n",
       "    <tr>\n",
       "      <th>2000-01-04</th>\n",
       "      <td>0.790950</td>\n",
       "      <td>NaN</td>\n",
       "      <td>NaN</td>\n",
       "      <td>NaN</td>\n",
       "    </tr>\n",
       "    <tr>\n",
       "      <th>2000-01-05</th>\n",
       "      <td>0.490567</td>\n",
       "      <td>0.407525</td>\n",
       "      <td>NaN</td>\n",
       "      <td>NaN</td>\n",
       "    </tr>\n",
       "    <tr>\n",
       "      <th>2000-01-06</th>\n",
       "      <td>0.880371</td>\n",
       "      <td>0.414202</td>\n",
       "      <td>NaN</td>\n",
       "      <td>NaN</td>\n",
       "    </tr>\n",
       "    <tr>\n",
       "      <th>2000-01-07</th>\n",
       "      <td>1.177994</td>\n",
       "      <td>0.572624</td>\n",
       "      <td>0.381155</td>\n",
       "      <td>NaN</td>\n",
       "    </tr>\n",
       "    <tr>\n",
       "      <th>2000-01-08</th>\n",
       "      <td>NaN</td>\n",
       "      <td>0.066977</td>\n",
       "      <td>NaN</td>\n",
       "      <td>1.337870</td>\n",
       "    </tr>\n",
       "  </tbody>\n",
       "</table>\n",
       "</div>"
      ],
      "text/plain": [
       "                   A         B         C         D\n",
       "2000-01-01       NaN  0.706123       NaN  1.022615\n",
       "2000-01-02       NaN       NaN       NaN  1.429250\n",
       "2000-01-03       NaN       NaN  1.069624       NaN\n",
       "2000-01-04  0.790950       NaN       NaN       NaN\n",
       "2000-01-05  0.490567  0.407525       NaN       NaN\n",
       "2000-01-06  0.880371  0.414202       NaN       NaN\n",
       "2000-01-07  1.177994  0.572624  0.381155       NaN\n",
       "2000-01-08       NaN  0.066977       NaN  1.337870"
      ]
     },
     "execution_count": 207,
     "metadata": {},
     "output_type": "execute_result"
    }
   ],
   "source": [
    "df.where(df>0, df['A'], axis=1)"
   ]
  },
  {
   "cell_type": "code",
   "execution_count": 7,
   "id": "6876bc10-4c24-4d07-b74e-0387d091384a",
   "metadata": {},
   "outputs": [
    {
     "data": {
      "text/html": [
       "<div>\n",
       "<style scoped>\n",
       "    .dataframe tbody tr th:only-of-type {\n",
       "        vertical-align: middle;\n",
       "    }\n",
       "\n",
       "    .dataframe tbody tr th {\n",
       "        vertical-align: top;\n",
       "    }\n",
       "\n",
       "    .dataframe thead th {\n",
       "        text-align: right;\n",
       "    }\n",
       "</style>\n",
       "<table border=\"1\" class=\"dataframe\">\n",
       "  <thead>\n",
       "    <tr style=\"text-align: right;\">\n",
       "      <th></th>\n",
       "      <th>col1</th>\n",
       "      <th>col2</th>\n",
       "    </tr>\n",
       "  </thead>\n",
       "  <tbody>\n",
       "    <tr>\n",
       "      <th>0</th>\n",
       "      <td>A</td>\n",
       "      <td>Z</td>\n",
       "    </tr>\n",
       "    <tr>\n",
       "      <th>1</th>\n",
       "      <td>B</td>\n",
       "      <td>Z</td>\n",
       "    </tr>\n",
       "    <tr>\n",
       "      <th>2</th>\n",
       "      <td>B</td>\n",
       "      <td>D</td>\n",
       "    </tr>\n",
       "    <tr>\n",
       "      <th>3</th>\n",
       "      <td>A</td>\n",
       "      <td>F</td>\n",
       "    </tr>\n",
       "    <tr>\n",
       "      <th>4</th>\n",
       "      <td>D</td>\n",
       "      <td>F</td>\n",
       "    </tr>\n",
       "  </tbody>\n",
       "</table>\n",
       "</div>"
      ],
      "text/plain": [
       "  col1 col2\n",
       "0    A    Z\n",
       "1    B    Z\n",
       "2    B    D\n",
       "3    A    F\n",
       "4    D    F"
      ]
     },
     "execution_count": 7,
     "metadata": {},
     "output_type": "execute_result"
    }
   ],
   "source": [
    "df = pd.DataFrame({'col1': list('ABBAD'), 'col2': list('ZZDFF')})\n",
    "df"
   ]
  },
  {
   "cell_type": "code",
   "execution_count": 8,
   "id": "88d4042c-3f3b-43ab-a06e-f8e2828a0b18",
   "metadata": {},
   "outputs": [
    {
     "data": {
      "text/html": [
       "<div>\n",
       "<style scoped>\n",
       "    .dataframe tbody tr th:only-of-type {\n",
       "        vertical-align: middle;\n",
       "    }\n",
       "\n",
       "    .dataframe tbody tr th {\n",
       "        vertical-align: top;\n",
       "    }\n",
       "\n",
       "    .dataframe thead th {\n",
       "        text-align: right;\n",
       "    }\n",
       "</style>\n",
       "<table border=\"1\" class=\"dataframe\">\n",
       "  <thead>\n",
       "    <tr style=\"text-align: right;\">\n",
       "      <th></th>\n",
       "      <th>col1</th>\n",
       "      <th>col2</th>\n",
       "      <th>color</th>\n",
       "    </tr>\n",
       "  </thead>\n",
       "  <tbody>\n",
       "    <tr>\n",
       "      <th>0</th>\n",
       "      <td>A</td>\n",
       "      <td>Z</td>\n",
       "      <td>green</td>\n",
       "    </tr>\n",
       "    <tr>\n",
       "      <th>1</th>\n",
       "      <td>B</td>\n",
       "      <td>Z</td>\n",
       "      <td>red</td>\n",
       "    </tr>\n",
       "    <tr>\n",
       "      <th>2</th>\n",
       "      <td>B</td>\n",
       "      <td>D</td>\n",
       "      <td>red</td>\n",
       "    </tr>\n",
       "    <tr>\n",
       "      <th>3</th>\n",
       "      <td>A</td>\n",
       "      <td>F</td>\n",
       "      <td>yellow</td>\n",
       "    </tr>\n",
       "    <tr>\n",
       "      <th>4</th>\n",
       "      <td>D</td>\n",
       "      <td>F</td>\n",
       "      <td>black</td>\n",
       "    </tr>\n",
       "  </tbody>\n",
       "</table>\n",
       "</div>"
      ],
      "text/plain": [
       "  col1 col2   color\n",
       "0    A    Z   green\n",
       "1    B    Z     red\n",
       "2    B    D     red\n",
       "3    A    F  yellow\n",
       "4    D    F   black"
      ]
     },
     "execution_count": 8,
     "metadata": {},
     "output_type": "execute_result"
    }
   ],
   "source": [
    "conditions = [(df['col1'] == 'A') & (df['col2'] == 'Z'),\n",
    "             (df['col1'] == 'A') & (df['col2'] == 'F'),\n",
    "             (df['col1'] == 'B')]\n",
    "choices = ['green', 'yellow', 'red']\n",
    "df['color'] = np.select(conditions, choices, default='black')\n",
    "df"
   ]
  },
  {
   "cell_type": "code",
   "execution_count": 12,
   "id": "5568d6e1-e361-47e3-a9b9-634a7dff1518",
   "metadata": {},
   "outputs": [],
   "source": [
    "df = pd.DataFrame(np.random.randn(10, 3), columns=list('abc'))"
   ]
  },
  {
   "cell_type": "code",
   "execution_count": 16,
   "id": "1f68ec73-8815-4b84-8940-dfb970825de8",
   "metadata": {},
   "outputs": [
    {
     "data": {
      "text/html": [
       "<div>\n",
       "<style scoped>\n",
       "    .dataframe tbody tr th:only-of-type {\n",
       "        vertical-align: middle;\n",
       "    }\n",
       "\n",
       "    .dataframe tbody tr th {\n",
       "        vertical-align: top;\n",
       "    }\n",
       "\n",
       "    .dataframe thead th {\n",
       "        text-align: right;\n",
       "    }\n",
       "</style>\n",
       "<table border=\"1\" class=\"dataframe\">\n",
       "  <thead>\n",
       "    <tr style=\"text-align: right;\">\n",
       "      <th></th>\n",
       "      <th>a</th>\n",
       "      <th>b</th>\n",
       "      <th>c</th>\n",
       "    </tr>\n",
       "  </thead>\n",
       "  <tbody>\n",
       "    <tr>\n",
       "      <th>2</th>\n",
       "      <td>0.217156</td>\n",
       "      <td>0.279549</td>\n",
       "      <td>1.208464</td>\n",
       "    </tr>\n",
       "    <tr>\n",
       "      <th>3</th>\n",
       "      <td>-1.153873</td>\n",
       "      <td>-0.409144</td>\n",
       "      <td>1.031866</td>\n",
       "    </tr>\n",
       "    <tr>\n",
       "      <th>4</th>\n",
       "      <td>-0.291906</td>\n",
       "      <td>0.679745</td>\n",
       "      <td>1.140516</td>\n",
       "    </tr>\n",
       "    <tr>\n",
       "      <th>5</th>\n",
       "      <td>-0.243717</td>\n",
       "      <td>0.722663</td>\n",
       "      <td>2.008115</td>\n",
       "    </tr>\n",
       "    <tr>\n",
       "      <th>8</th>\n",
       "      <td>-1.932720</td>\n",
       "      <td>-0.826348</td>\n",
       "      <td>0.883411</td>\n",
       "    </tr>\n",
       "  </tbody>\n",
       "</table>\n",
       "</div>"
      ],
      "text/plain": [
       "          a         b         c\n",
       "2  0.217156  0.279549  1.208464\n",
       "3 -1.153873 -0.409144  1.031866\n",
       "4 -0.291906  0.679745  1.140516\n",
       "5 -0.243717  0.722663  2.008115\n",
       "8 -1.932720 -0.826348  0.883411"
      ]
     },
     "execution_count": 16,
     "metadata": {},
     "output_type": "execute_result"
    }
   ],
   "source": [
    "df.query('a<b and b<c')"
   ]
  },
  {
   "cell_type": "code",
   "execution_count": 24,
   "id": "59731a8f-00ad-4037-9264-dc9b0c188817",
   "metadata": {},
   "outputs": [
    {
     "data": {
      "text/html": [
       "<div>\n",
       "<style scoped>\n",
       "    .dataframe tbody tr th:only-of-type {\n",
       "        vertical-align: middle;\n",
       "    }\n",
       "\n",
       "    .dataframe tbody tr th {\n",
       "        vertical-align: top;\n",
       "    }\n",
       "\n",
       "    .dataframe thead th {\n",
       "        text-align: right;\n",
       "    }\n",
       "</style>\n",
       "<table border=\"1\" class=\"dataframe\">\n",
       "  <thead>\n",
       "    <tr style=\"text-align: right;\">\n",
       "      <th></th>\n",
       "      <th>b</th>\n",
       "      <th>c</th>\n",
       "    </tr>\n",
       "  </thead>\n",
       "  <tbody>\n",
       "    <tr>\n",
       "      <th>0</th>\n",
       "      <td>48</td>\n",
       "      <td>34</td>\n",
       "    </tr>\n",
       "    <tr>\n",
       "      <th>1</th>\n",
       "      <td>23</td>\n",
       "      <td>24</td>\n",
       "    </tr>\n",
       "    <tr>\n",
       "      <th>2</th>\n",
       "      <td>20</td>\n",
       "      <td>7</td>\n",
       "    </tr>\n",
       "    <tr>\n",
       "      <th>3</th>\n",
       "      <td>31</td>\n",
       "      <td>14</td>\n",
       "    </tr>\n",
       "    <tr>\n",
       "      <th>4</th>\n",
       "      <td>44</td>\n",
       "      <td>42</td>\n",
       "    </tr>\n",
       "    <tr>\n",
       "      <th>5</th>\n",
       "      <td>6</td>\n",
       "      <td>24</td>\n",
       "    </tr>\n",
       "    <tr>\n",
       "      <th>6</th>\n",
       "      <td>38</td>\n",
       "      <td>2</td>\n",
       "    </tr>\n",
       "    <tr>\n",
       "      <th>7</th>\n",
       "      <td>34</td>\n",
       "      <td>34</td>\n",
       "    </tr>\n",
       "    <tr>\n",
       "      <th>8</th>\n",
       "      <td>35</td>\n",
       "      <td>7</td>\n",
       "    </tr>\n",
       "    <tr>\n",
       "      <th>9</th>\n",
       "      <td>1</td>\n",
       "      <td>47</td>\n",
       "    </tr>\n",
       "  </tbody>\n",
       "</table>\n",
       "</div>"
      ],
      "text/plain": [
       "    b   c\n",
       "0  48  34\n",
       "1  23  24\n",
       "2  20   7\n",
       "3  31  14\n",
       "4  44  42\n",
       "5   6  24\n",
       "6  38   2\n",
       "7  34  34\n",
       "8  35   7\n",
       "9   1  47"
      ]
     },
     "execution_count": 24,
     "metadata": {},
     "output_type": "execute_result"
    }
   ],
   "source": [
    "n = 10\n",
    "df = pd.DataFrame(np.random.randint(50, size=(n, 2)), columns=list('bc'))\n",
    "df"
   ]
  },
  {
   "cell_type": "code",
   "execution_count": 25,
   "id": "b0b17aec-ef95-414e-bdc0-a37e47485508",
   "metadata": {},
   "outputs": [],
   "source": [
    "df.index.name = 'a'"
   ]
  },
  {
   "cell_type": "code",
   "execution_count": 29,
   "id": "2e4888f5-fbb5-405a-b44f-75cfb895288b",
   "metadata": {},
   "outputs": [
    {
     "data": {
      "text/html": [
       "<div>\n",
       "<style scoped>\n",
       "    .dataframe tbody tr th:only-of-type {\n",
       "        vertical-align: middle;\n",
       "    }\n",
       "\n",
       "    .dataframe tbody tr th {\n",
       "        vertical-align: top;\n",
       "    }\n",
       "\n",
       "    .dataframe thead th {\n",
       "        text-align: right;\n",
       "    }\n",
       "</style>\n",
       "<table border=\"1\" class=\"dataframe\">\n",
       "  <thead>\n",
       "    <tr style=\"text-align: right;\">\n",
       "      <th></th>\n",
       "      <th>b</th>\n",
       "      <th>c</th>\n",
       "    </tr>\n",
       "    <tr>\n",
       "      <th>a</th>\n",
       "      <th></th>\n",
       "      <th></th>\n",
       "    </tr>\n",
       "  </thead>\n",
       "  <tbody>\n",
       "    <tr>\n",
       "      <th>1</th>\n",
       "      <td>23</td>\n",
       "      <td>24</td>\n",
       "    </tr>\n",
       "    <tr>\n",
       "      <th>5</th>\n",
       "      <td>6</td>\n",
       "      <td>24</td>\n",
       "    </tr>\n",
       "  </tbody>\n",
       "</table>\n",
       "</div>"
      ],
      "text/plain": [
       "    b   c\n",
       "a        \n",
       "1  23  24\n",
       "5   6  24"
      ]
     },
     "execution_count": 29,
     "metadata": {},
     "output_type": "execute_result"
    }
   ],
   "source": [
    "df.query('a<b<c')"
   ]
  },
  {
   "cell_type": "code",
   "execution_count": 30,
   "id": "059578b4-f6f7-40e2-87e1-db4cae280811",
   "metadata": {},
   "outputs": [
    {
     "data": {
      "text/html": [
       "<div>\n",
       "<style scoped>\n",
       "    .dataframe tbody tr th:only-of-type {\n",
       "        vertical-align: middle;\n",
       "    }\n",
       "\n",
       "    .dataframe tbody tr th {\n",
       "        vertical-align: top;\n",
       "    }\n",
       "\n",
       "    .dataframe thead th {\n",
       "        text-align: right;\n",
       "    }\n",
       "</style>\n",
       "<table border=\"1\" class=\"dataframe\">\n",
       "  <thead>\n",
       "    <tr style=\"text-align: right;\">\n",
       "      <th></th>\n",
       "      <th>b</th>\n",
       "      <th>c</th>\n",
       "    </tr>\n",
       "    <tr>\n",
       "      <th>a</th>\n",
       "      <th></th>\n",
       "      <th></th>\n",
       "    </tr>\n",
       "  </thead>\n",
       "  <tbody>\n",
       "    <tr>\n",
       "      <th>1</th>\n",
       "      <td>23</td>\n",
       "      <td>24</td>\n",
       "    </tr>\n",
       "    <tr>\n",
       "      <th>5</th>\n",
       "      <td>6</td>\n",
       "      <td>24</td>\n",
       "    </tr>\n",
       "  </tbody>\n",
       "</table>\n",
       "</div>"
      ],
      "text/plain": [
       "    b   c\n",
       "a        \n",
       "1  23  24\n",
       "5   6  24"
      ]
     },
     "execution_count": 30,
     "metadata": {},
     "output_type": "execute_result"
    }
   ],
   "source": [
    "df.query('index < b < c')"
   ]
  },
  {
   "cell_type": "code",
   "execution_count": 34,
   "id": "e816511f-ac93-45e4-b5f4-5d8cb37c5238",
   "metadata": {},
   "outputs": [],
   "source": [
    "n = 10\n",
    "colors = np.random.choice(['red', 'gree'], size=n)\n",
    "foods = np.random.choice(['eggs', 'vegetables'], size=n)\n",
    "index = pd.MultiIndex.from_arrays([colors, foods], names=['color', 'food'])"
   ]
  },
  {
   "cell_type": "code",
   "execution_count": 35,
   "id": "41f42912-9063-4042-8b4f-49f54e7ad4ba",
   "metadata": {},
   "outputs": [
    {
     "data": {
      "text/html": [
       "<div>\n",
       "<style scoped>\n",
       "    .dataframe tbody tr th:only-of-type {\n",
       "        vertical-align: middle;\n",
       "    }\n",
       "\n",
       "    .dataframe tbody tr th {\n",
       "        vertical-align: top;\n",
       "    }\n",
       "\n",
       "    .dataframe thead th {\n",
       "        text-align: right;\n",
       "    }\n",
       "</style>\n",
       "<table border=\"1\" class=\"dataframe\">\n",
       "  <thead>\n",
       "    <tr style=\"text-align: right;\">\n",
       "      <th></th>\n",
       "      <th></th>\n",
       "      <th>0</th>\n",
       "      <th>1</th>\n",
       "    </tr>\n",
       "    <tr>\n",
       "      <th>color</th>\n",
       "      <th>food</th>\n",
       "      <th></th>\n",
       "      <th></th>\n",
       "    </tr>\n",
       "  </thead>\n",
       "  <tbody>\n",
       "    <tr>\n",
       "      <th>red</th>\n",
       "      <th>vegetables</th>\n",
       "      <td>0.295226</td>\n",
       "      <td>-1.503227</td>\n",
       "    </tr>\n",
       "    <tr>\n",
       "      <th rowspan=\"6\" valign=\"top\">gree</th>\n",
       "      <th>vegetables</th>\n",
       "      <td>0.337160</td>\n",
       "      <td>0.755573</td>\n",
       "    </tr>\n",
       "    <tr>\n",
       "      <th>vegetables</th>\n",
       "      <td>0.832794</td>\n",
       "      <td>1.617346</td>\n",
       "    </tr>\n",
       "    <tr>\n",
       "      <th>vegetables</th>\n",
       "      <td>-0.635746</td>\n",
       "      <td>0.784084</td>\n",
       "    </tr>\n",
       "    <tr>\n",
       "      <th>vegetables</th>\n",
       "      <td>-0.773783</td>\n",
       "      <td>1.947809</td>\n",
       "    </tr>\n",
       "    <tr>\n",
       "      <th>vegetables</th>\n",
       "      <td>0.028072</td>\n",
       "      <td>-1.569358</td>\n",
       "    </tr>\n",
       "    <tr>\n",
       "      <th>eggs</th>\n",
       "      <td>-0.514814</td>\n",
       "      <td>-1.531944</td>\n",
       "    </tr>\n",
       "    <tr>\n",
       "      <th rowspan=\"2\" valign=\"top\">red</th>\n",
       "      <th>eggs</th>\n",
       "      <td>-1.564366</td>\n",
       "      <td>0.442072</td>\n",
       "    </tr>\n",
       "    <tr>\n",
       "      <th>vegetables</th>\n",
       "      <td>-0.498764</td>\n",
       "      <td>-0.324104</td>\n",
       "    </tr>\n",
       "    <tr>\n",
       "      <th>gree</th>\n",
       "      <th>eggs</th>\n",
       "      <td>-1.275325</td>\n",
       "      <td>-0.802454</td>\n",
       "    </tr>\n",
       "  </tbody>\n",
       "</table>\n",
       "</div>"
      ],
      "text/plain": [
       "                         0         1\n",
       "color food                          \n",
       "red   vegetables  0.295226 -1.503227\n",
       "gree  vegetables  0.337160  0.755573\n",
       "      vegetables  0.832794  1.617346\n",
       "      vegetables -0.635746  0.784084\n",
       "      vegetables -0.773783  1.947809\n",
       "      vegetables  0.028072 -1.569358\n",
       "      eggs       -0.514814 -1.531944\n",
       "red   eggs       -1.564366  0.442072\n",
       "      vegetables -0.498764 -0.324104\n",
       "gree  eggs       -1.275325 -0.802454"
      ]
     },
     "execution_count": 35,
     "metadata": {},
     "output_type": "execute_result"
    }
   ],
   "source": [
    "df = pd.DataFrame(np.random.randn(n, 2), index=index)\n",
    "df"
   ]
  },
  {
   "cell_type": "code",
   "execution_count": 36,
   "id": "3e076748-ab82-423b-93c7-31a4802e9d34",
   "metadata": {},
   "outputs": [
    {
     "data": {
      "text/html": [
       "<div>\n",
       "<style scoped>\n",
       "    .dataframe tbody tr th:only-of-type {\n",
       "        vertical-align: middle;\n",
       "    }\n",
       "\n",
       "    .dataframe tbody tr th {\n",
       "        vertical-align: top;\n",
       "    }\n",
       "\n",
       "    .dataframe thead th {\n",
       "        text-align: right;\n",
       "    }\n",
       "</style>\n",
       "<table border=\"1\" class=\"dataframe\">\n",
       "  <thead>\n",
       "    <tr style=\"text-align: right;\">\n",
       "      <th></th>\n",
       "      <th></th>\n",
       "      <th>0</th>\n",
       "      <th>1</th>\n",
       "    </tr>\n",
       "    <tr>\n",
       "      <th>color</th>\n",
       "      <th>food</th>\n",
       "      <th></th>\n",
       "      <th></th>\n",
       "    </tr>\n",
       "  </thead>\n",
       "  <tbody>\n",
       "    <tr>\n",
       "      <th rowspan=\"3\" valign=\"top\">red</th>\n",
       "      <th>vegetables</th>\n",
       "      <td>0.295226</td>\n",
       "      <td>-1.503227</td>\n",
       "    </tr>\n",
       "    <tr>\n",
       "      <th>eggs</th>\n",
       "      <td>-1.564366</td>\n",
       "      <td>0.442072</td>\n",
       "    </tr>\n",
       "    <tr>\n",
       "      <th>vegetables</th>\n",
       "      <td>-0.498764</td>\n",
       "      <td>-0.324104</td>\n",
       "    </tr>\n",
       "  </tbody>\n",
       "</table>\n",
       "</div>"
      ],
      "text/plain": [
       "                         0         1\n",
       "color food                          \n",
       "red   vegetables  0.295226 -1.503227\n",
       "      eggs       -1.564366  0.442072\n",
       "      vegetables -0.498764 -0.324104"
      ]
     },
     "execution_count": 36,
     "metadata": {},
     "output_type": "execute_result"
    }
   ],
   "source": [
    "df.query('color == \"red\"')"
   ]
  },
  {
   "cell_type": "code",
   "execution_count": 38,
   "id": "2975fc26-2755-47a5-a1e6-83b61bf46cb0",
   "metadata": {},
   "outputs": [],
   "source": [
    "df.index.names = [None, None]"
   ]
  },
  {
   "cell_type": "code",
   "execution_count": 39,
   "id": "6fd900ca-7e74-4951-9a03-38da97a6626e",
   "metadata": {},
   "outputs": [
    {
     "data": {
      "text/html": [
       "<div>\n",
       "<style scoped>\n",
       "    .dataframe tbody tr th:only-of-type {\n",
       "        vertical-align: middle;\n",
       "    }\n",
       "\n",
       "    .dataframe tbody tr th {\n",
       "        vertical-align: top;\n",
       "    }\n",
       "\n",
       "    .dataframe thead th {\n",
       "        text-align: right;\n",
       "    }\n",
       "</style>\n",
       "<table border=\"1\" class=\"dataframe\">\n",
       "  <thead>\n",
       "    <tr style=\"text-align: right;\">\n",
       "      <th></th>\n",
       "      <th></th>\n",
       "      <th>0</th>\n",
       "      <th>1</th>\n",
       "    </tr>\n",
       "  </thead>\n",
       "  <tbody>\n",
       "    <tr>\n",
       "      <th>red</th>\n",
       "      <th>vegetables</th>\n",
       "      <td>0.295226</td>\n",
       "      <td>-1.503227</td>\n",
       "    </tr>\n",
       "    <tr>\n",
       "      <th rowspan=\"6\" valign=\"top\">gree</th>\n",
       "      <th>vegetables</th>\n",
       "      <td>0.337160</td>\n",
       "      <td>0.755573</td>\n",
       "    </tr>\n",
       "    <tr>\n",
       "      <th>vegetables</th>\n",
       "      <td>0.832794</td>\n",
       "      <td>1.617346</td>\n",
       "    </tr>\n",
       "    <tr>\n",
       "      <th>vegetables</th>\n",
       "      <td>-0.635746</td>\n",
       "      <td>0.784084</td>\n",
       "    </tr>\n",
       "    <tr>\n",
       "      <th>vegetables</th>\n",
       "      <td>-0.773783</td>\n",
       "      <td>1.947809</td>\n",
       "    </tr>\n",
       "    <tr>\n",
       "      <th>vegetables</th>\n",
       "      <td>0.028072</td>\n",
       "      <td>-1.569358</td>\n",
       "    </tr>\n",
       "    <tr>\n",
       "      <th>eggs</th>\n",
       "      <td>-0.514814</td>\n",
       "      <td>-1.531944</td>\n",
       "    </tr>\n",
       "    <tr>\n",
       "      <th rowspan=\"2\" valign=\"top\">red</th>\n",
       "      <th>eggs</th>\n",
       "      <td>-1.564366</td>\n",
       "      <td>0.442072</td>\n",
       "    </tr>\n",
       "    <tr>\n",
       "      <th>vegetables</th>\n",
       "      <td>-0.498764</td>\n",
       "      <td>-0.324104</td>\n",
       "    </tr>\n",
       "    <tr>\n",
       "      <th>gree</th>\n",
       "      <th>eggs</th>\n",
       "      <td>-1.275325</td>\n",
       "      <td>-0.802454</td>\n",
       "    </tr>\n",
       "  </tbody>\n",
       "</table>\n",
       "</div>"
      ],
      "text/plain": [
       "                        0         1\n",
       "red  vegetables  0.295226 -1.503227\n",
       "gree vegetables  0.337160  0.755573\n",
       "     vegetables  0.832794  1.617346\n",
       "     vegetables -0.635746  0.784084\n",
       "     vegetables -0.773783  1.947809\n",
       "     vegetables  0.028072 -1.569358\n",
       "     eggs       -0.514814 -1.531944\n",
       "red  eggs       -1.564366  0.442072\n",
       "     vegetables -0.498764 -0.324104\n",
       "gree eggs       -1.275325 -0.802454"
      ]
     },
     "execution_count": 39,
     "metadata": {},
     "output_type": "execute_result"
    }
   ],
   "source": [
    "df"
   ]
  },
  {
   "cell_type": "code",
   "execution_count": 40,
   "id": "45be543a-e711-4e26-909d-9728558f8070",
   "metadata": {},
   "outputs": [
    {
     "data": {
      "text/html": [
       "<div>\n",
       "<style scoped>\n",
       "    .dataframe tbody tr th:only-of-type {\n",
       "        vertical-align: middle;\n",
       "    }\n",
       "\n",
       "    .dataframe tbody tr th {\n",
       "        vertical-align: top;\n",
       "    }\n",
       "\n",
       "    .dataframe thead th {\n",
       "        text-align: right;\n",
       "    }\n",
       "</style>\n",
       "<table border=\"1\" class=\"dataframe\">\n",
       "  <thead>\n",
       "    <tr style=\"text-align: right;\">\n",
       "      <th></th>\n",
       "      <th></th>\n",
       "      <th>0</th>\n",
       "      <th>1</th>\n",
       "    </tr>\n",
       "  </thead>\n",
       "  <tbody>\n",
       "    <tr>\n",
       "      <th rowspan=\"3\" valign=\"top\">red</th>\n",
       "      <th>vegetables</th>\n",
       "      <td>0.295226</td>\n",
       "      <td>-1.503227</td>\n",
       "    </tr>\n",
       "    <tr>\n",
       "      <th>eggs</th>\n",
       "      <td>-1.564366</td>\n",
       "      <td>0.442072</td>\n",
       "    </tr>\n",
       "    <tr>\n",
       "      <th>vegetables</th>\n",
       "      <td>-0.498764</td>\n",
       "      <td>-0.324104</td>\n",
       "    </tr>\n",
       "  </tbody>\n",
       "</table>\n",
       "</div>"
      ],
      "text/plain": [
       "                       0         1\n",
       "red vegetables  0.295226 -1.503227\n",
       "    eggs       -1.564366  0.442072\n",
       "    vegetables -0.498764 -0.324104"
      ]
     },
     "execution_count": 40,
     "metadata": {},
     "output_type": "execute_result"
    }
   ],
   "source": [
    "df.query('ilevel_0 == \"red\"' )"
   ]
  },
  {
   "cell_type": "code",
   "execution_count": 41,
   "id": "38d251aa-1b75-4386-899d-39dbc2332ca1",
   "metadata": {},
   "outputs": [
    {
     "data": {
      "text/html": [
       "<div>\n",
       "<style scoped>\n",
       "    .dataframe tbody tr th:only-of-type {\n",
       "        vertical-align: middle;\n",
       "    }\n",
       "\n",
       "    .dataframe tbody tr th {\n",
       "        vertical-align: top;\n",
       "    }\n",
       "\n",
       "    .dataframe thead th {\n",
       "        text-align: right;\n",
       "    }\n",
       "</style>\n",
       "<table border=\"1\" class=\"dataframe\">\n",
       "  <thead>\n",
       "    <tr style=\"text-align: right;\">\n",
       "      <th></th>\n",
       "      <th></th>\n",
       "      <th>0</th>\n",
       "      <th>1</th>\n",
       "    </tr>\n",
       "  </thead>\n",
       "  <tbody>\n",
       "    <tr>\n",
       "      <th>gree</th>\n",
       "      <th>eggs</th>\n",
       "      <td>-0.514814</td>\n",
       "      <td>-1.531944</td>\n",
       "    </tr>\n",
       "    <tr>\n",
       "      <th>red</th>\n",
       "      <th>eggs</th>\n",
       "      <td>-1.564366</td>\n",
       "      <td>0.442072</td>\n",
       "    </tr>\n",
       "    <tr>\n",
       "      <th>gree</th>\n",
       "      <th>eggs</th>\n",
       "      <td>-1.275325</td>\n",
       "      <td>-0.802454</td>\n",
       "    </tr>\n",
       "  </tbody>\n",
       "</table>\n",
       "</div>"
      ],
      "text/plain": [
       "                  0         1\n",
       "gree eggs -0.514814 -1.531944\n",
       "red  eggs -1.564366  0.442072\n",
       "gree eggs -1.275325 -0.802454"
      ]
     },
     "execution_count": 41,
     "metadata": {},
     "output_type": "execute_result"
    }
   ],
   "source": [
    "df.query('ilevel_1 == \"eggs\"')"
   ]
  },
  {
   "cell_type": "code",
   "execution_count": 42,
   "id": "735169e3-14ec-489f-9181-d21340d265a3",
   "metadata": {},
   "outputs": [],
   "source": [
    "df = pd.DataFrame(np.random.randn(n, 3), columns=list('abc'))\n",
    "df2 = pd.DataFrame(np.random.randn(n + 2, 3), columns=df.columns)\n",
    "expr = '0.0 <= a <= c <= 0.5'"
   ]
  },
  {
   "cell_type": "code",
   "execution_count": 52,
   "id": "372dbf53-3d70-4e7d-8719-83288afa3e8e",
   "metadata": {},
   "outputs": [
    {
     "name": "stdout",
     "output_type": "stream",
     "text": [
      "          a         b         c\n",
      "7  0.012147 -0.489134  0.032601\n",
      "Empty DataFrame\n",
      "Columns: [a, b, c]\n",
      "Index: []\n"
     ]
    }
   ],
   "source": [
    "t = map(lambda x: x.query(expr), [df, df2])\n",
    "for i in t:\n",
    "    print(i)\n"
   ]
  },
  {
   "cell_type": "code",
   "execution_count": 55,
   "id": "8f31e488-d75e-4412-8f69-b98841ce039b",
   "metadata": {},
   "outputs": [
    {
     "data": {
      "text/html": [
       "<div>\n",
       "<style scoped>\n",
       "    .dataframe tbody tr th:only-of-type {\n",
       "        vertical-align: middle;\n",
       "    }\n",
       "\n",
       "    .dataframe tbody tr th {\n",
       "        vertical-align: top;\n",
       "    }\n",
       "\n",
       "    .dataframe thead th {\n",
       "        text-align: right;\n",
       "    }\n",
       "</style>\n",
       "<table border=\"1\" class=\"dataframe\">\n",
       "  <thead>\n",
       "    <tr style=\"text-align: right;\">\n",
       "      <th></th>\n",
       "      <th>a</th>\n",
       "      <th>b</th>\n",
       "      <th>c</th>\n",
       "    </tr>\n",
       "  </thead>\n",
       "  <tbody>\n",
       "    <tr>\n",
       "      <th>0</th>\n",
       "      <td>0</td>\n",
       "      <td>6</td>\n",
       "      <td>0</td>\n",
       "    </tr>\n",
       "    <tr>\n",
       "      <th>1</th>\n",
       "      <td>1</td>\n",
       "      <td>2</td>\n",
       "      <td>0</td>\n",
       "    </tr>\n",
       "    <tr>\n",
       "      <th>2</th>\n",
       "      <td>2</td>\n",
       "      <td>1</td>\n",
       "      <td>3</td>\n",
       "    </tr>\n",
       "    <tr>\n",
       "      <th>3</th>\n",
       "      <td>8</td>\n",
       "      <td>4</td>\n",
       "      <td>5</td>\n",
       "    </tr>\n",
       "    <tr>\n",
       "      <th>4</th>\n",
       "      <td>5</td>\n",
       "      <td>4</td>\n",
       "      <td>3</td>\n",
       "    </tr>\n",
       "    <tr>\n",
       "      <th>5</th>\n",
       "      <td>1</td>\n",
       "      <td>2</td>\n",
       "      <td>2</td>\n",
       "    </tr>\n",
       "    <tr>\n",
       "      <th>6</th>\n",
       "      <td>3</td>\n",
       "      <td>6</td>\n",
       "      <td>9</td>\n",
       "    </tr>\n",
       "    <tr>\n",
       "      <th>7</th>\n",
       "      <td>0</td>\n",
       "      <td>7</td>\n",
       "      <td>7</td>\n",
       "    </tr>\n",
       "    <tr>\n",
       "      <th>8</th>\n",
       "      <td>2</td>\n",
       "      <td>8</td>\n",
       "      <td>2</td>\n",
       "    </tr>\n",
       "    <tr>\n",
       "      <th>9</th>\n",
       "      <td>1</td>\n",
       "      <td>3</td>\n",
       "      <td>7</td>\n",
       "    </tr>\n",
       "  </tbody>\n",
       "</table>\n",
       "</div>"
      ],
      "text/plain": [
       "   a  b  c\n",
       "0  0  6  0\n",
       "1  1  2  0\n",
       "2  2  1  3\n",
       "3  8  4  5\n",
       "4  5  4  3\n",
       "5  1  2  2\n",
       "6  3  6  9\n",
       "7  0  7  7\n",
       "8  2  8  2\n",
       "9  1  3  7"
      ]
     },
     "execution_count": 55,
     "metadata": {},
     "output_type": "execute_result"
    }
   ],
   "source": [
    "df = pd.DataFrame(np.random.randint(n, size=(n, 3)), columns=list('abc'))\n",
    "df"
   ]
  },
  {
   "cell_type": "code",
   "execution_count": 57,
   "id": "1edfed75-1c99-42bc-ab17-55656d0e992a",
   "metadata": {},
   "outputs": [
    {
     "data": {
      "text/html": [
       "<div>\n",
       "<style scoped>\n",
       "    .dataframe tbody tr th:only-of-type {\n",
       "        vertical-align: middle;\n",
       "    }\n",
       "\n",
       "    .dataframe tbody tr th {\n",
       "        vertical-align: top;\n",
       "    }\n",
       "\n",
       "    .dataframe thead th {\n",
       "        text-align: right;\n",
       "    }\n",
       "</style>\n",
       "<table border=\"1\" class=\"dataframe\">\n",
       "  <thead>\n",
       "    <tr style=\"text-align: right;\">\n",
       "      <th></th>\n",
       "      <th>a</th>\n",
       "      <th>b</th>\n",
       "      <th>c</th>\n",
       "    </tr>\n",
       "  </thead>\n",
       "  <tbody>\n",
       "    <tr>\n",
       "      <th>6</th>\n",
       "      <td>3</td>\n",
       "      <td>6</td>\n",
       "      <td>9</td>\n",
       "    </tr>\n",
       "    <tr>\n",
       "      <th>9</th>\n",
       "      <td>1</td>\n",
       "      <td>3</td>\n",
       "      <td>7</td>\n",
       "    </tr>\n",
       "  </tbody>\n",
       "</table>\n",
       "</div>"
      ],
      "text/plain": [
       "   a  b  c\n",
       "6  3  6  9\n",
       "9  1  3  7"
      ]
     },
     "execution_count": 57,
     "metadata": {},
     "output_type": "execute_result"
    }
   ],
   "source": [
    "df[(df['a']< df['b']) & (df['b']<df['c'])]"
   ]
  },
  {
   "cell_type": "code",
   "execution_count": 58,
   "id": "f8d8380c-61b8-4a62-8a1d-5ae7d9072152",
   "metadata": {},
   "outputs": [
    {
     "data": {
      "text/html": [
       "<div>\n",
       "<style scoped>\n",
       "    .dataframe tbody tr th:only-of-type {\n",
       "        vertical-align: middle;\n",
       "    }\n",
       "\n",
       "    .dataframe tbody tr th {\n",
       "        vertical-align: top;\n",
       "    }\n",
       "\n",
       "    .dataframe thead th {\n",
       "        text-align: right;\n",
       "    }\n",
       "</style>\n",
       "<table border=\"1\" class=\"dataframe\">\n",
       "  <thead>\n",
       "    <tr style=\"text-align: right;\">\n",
       "      <th></th>\n",
       "      <th>a</th>\n",
       "      <th>b</th>\n",
       "      <th>c</th>\n",
       "      <th>d</th>\n",
       "    </tr>\n",
       "  </thead>\n",
       "  <tbody>\n",
       "    <tr>\n",
       "      <th>0</th>\n",
       "      <td>a</td>\n",
       "      <td>a</td>\n",
       "      <td>2</td>\n",
       "      <td>4</td>\n",
       "    </tr>\n",
       "    <tr>\n",
       "      <th>1</th>\n",
       "      <td>a</td>\n",
       "      <td>a</td>\n",
       "      <td>1</td>\n",
       "      <td>8</td>\n",
       "    </tr>\n",
       "    <tr>\n",
       "      <th>2</th>\n",
       "      <td>b</td>\n",
       "      <td>a</td>\n",
       "      <td>0</td>\n",
       "      <td>3</td>\n",
       "    </tr>\n",
       "    <tr>\n",
       "      <th>3</th>\n",
       "      <td>b</td>\n",
       "      <td>a</td>\n",
       "      <td>1</td>\n",
       "      <td>2</td>\n",
       "    </tr>\n",
       "    <tr>\n",
       "      <th>4</th>\n",
       "      <td>c</td>\n",
       "      <td>b</td>\n",
       "      <td>4</td>\n",
       "      <td>4</td>\n",
       "    </tr>\n",
       "    <tr>\n",
       "      <th>5</th>\n",
       "      <td>c</td>\n",
       "      <td>b</td>\n",
       "      <td>4</td>\n",
       "      <td>4</td>\n",
       "    </tr>\n",
       "    <tr>\n",
       "      <th>6</th>\n",
       "      <td>d</td>\n",
       "      <td>b</td>\n",
       "      <td>1</td>\n",
       "      <td>1</td>\n",
       "    </tr>\n",
       "    <tr>\n",
       "      <th>7</th>\n",
       "      <td>d</td>\n",
       "      <td>b</td>\n",
       "      <td>3</td>\n",
       "      <td>4</td>\n",
       "    </tr>\n",
       "    <tr>\n",
       "      <th>8</th>\n",
       "      <td>e</td>\n",
       "      <td>c</td>\n",
       "      <td>4</td>\n",
       "      <td>4</td>\n",
       "    </tr>\n",
       "    <tr>\n",
       "      <th>9</th>\n",
       "      <td>e</td>\n",
       "      <td>c</td>\n",
       "      <td>2</td>\n",
       "      <td>8</td>\n",
       "    </tr>\n",
       "    <tr>\n",
       "      <th>10</th>\n",
       "      <td>f</td>\n",
       "      <td>c</td>\n",
       "      <td>0</td>\n",
       "      <td>1</td>\n",
       "    </tr>\n",
       "    <tr>\n",
       "      <th>11</th>\n",
       "      <td>f</td>\n",
       "      <td>c</td>\n",
       "      <td>1</td>\n",
       "      <td>7</td>\n",
       "    </tr>\n",
       "  </tbody>\n",
       "</table>\n",
       "</div>"
      ],
      "text/plain": [
       "    a  b  c  d\n",
       "0   a  a  2  4\n",
       "1   a  a  1  8\n",
       "2   b  a  0  3\n",
       "3   b  a  1  2\n",
       "4   c  b  4  4\n",
       "5   c  b  4  4\n",
       "6   d  b  1  1\n",
       "7   d  b  3  4\n",
       "8   e  c  4  4\n",
       "9   e  c  2  8\n",
       "10  f  c  0  1\n",
       "11  f  c  1  7"
      ]
     },
     "execution_count": 58,
     "metadata": {},
     "output_type": "execute_result"
    }
   ],
   "source": [
    "df = pd.DataFrame({'a': list('aabbccddeeff'),\n",
    "                  'b': list('aaaabbbbcccc'),\n",
    "                  'c': np.random.randint(5, size=12),\n",
    "                  'd': np.random.randint(9, size=12)})\n",
    "df"
   ]
  },
  {
   "cell_type": "code",
   "execution_count": 66,
   "id": "d39920fa-7c50-40cc-b4a1-7f1650e6d649",
   "metadata": {},
   "outputs": [
    {
     "data": {
      "text/html": [
       "<div>\n",
       "<style scoped>\n",
       "    .dataframe tbody tr th:only-of-type {\n",
       "        vertical-align: middle;\n",
       "    }\n",
       "\n",
       "    .dataframe tbody tr th {\n",
       "        vertical-align: top;\n",
       "    }\n",
       "\n",
       "    .dataframe thead th {\n",
       "        text-align: right;\n",
       "    }\n",
       "</style>\n",
       "<table border=\"1\" class=\"dataframe\">\n",
       "  <thead>\n",
       "    <tr style=\"text-align: right;\">\n",
       "      <th></th>\n",
       "      <th>a</th>\n",
       "      <th>b</th>\n",
       "      <th>c</th>\n",
       "    </tr>\n",
       "  </thead>\n",
       "  <tbody>\n",
       "    <tr>\n",
       "      <th>0</th>\n",
       "      <td>0.722397</td>\n",
       "      <td>0.735807</td>\n",
       "      <td>0.975757</td>\n",
       "    </tr>\n",
       "    <tr>\n",
       "      <th>1</th>\n",
       "      <td>0.697363</td>\n",
       "      <td>0.708568</td>\n",
       "      <td>0.451638</td>\n",
       "    </tr>\n",
       "    <tr>\n",
       "      <th>2</th>\n",
       "      <td>0.862415</td>\n",
       "      <td>0.058150</td>\n",
       "      <td>0.404155</td>\n",
       "    </tr>\n",
       "    <tr>\n",
       "      <th>3</th>\n",
       "      <td>0.694196</td>\n",
       "      <td>0.354007</td>\n",
       "      <td>0.202363</td>\n",
       "    </tr>\n",
       "    <tr>\n",
       "      <th>4</th>\n",
       "      <td>0.150612</td>\n",
       "      <td>0.883081</td>\n",
       "      <td>0.235424</td>\n",
       "    </tr>\n",
       "    <tr>\n",
       "      <th>5</th>\n",
       "      <td>0.607000</td>\n",
       "      <td>0.414331</td>\n",
       "      <td>0.125902</td>\n",
       "    </tr>\n",
       "    <tr>\n",
       "      <th>6</th>\n",
       "      <td>0.972450</td>\n",
       "      <td>0.829942</td>\n",
       "      <td>0.541191</td>\n",
       "    </tr>\n",
       "    <tr>\n",
       "      <th>7</th>\n",
       "      <td>0.681587</td>\n",
       "      <td>0.093245</td>\n",
       "      <td>0.757279</td>\n",
       "    </tr>\n",
       "    <tr>\n",
       "      <th>8</th>\n",
       "      <td>0.532483</td>\n",
       "      <td>0.250978</td>\n",
       "      <td>0.761034</td>\n",
       "    </tr>\n",
       "    <tr>\n",
       "      <th>9</th>\n",
       "      <td>0.843037</td>\n",
       "      <td>0.262381</td>\n",
       "      <td>0.167784</td>\n",
       "    </tr>\n",
       "  </tbody>\n",
       "</table>\n",
       "</div>"
      ],
      "text/plain": [
       "          a         b         c\n",
       "0  0.722397  0.735807  0.975757\n",
       "1  0.697363  0.708568  0.451638\n",
       "2  0.862415  0.058150  0.404155\n",
       "3  0.694196  0.354007  0.202363\n",
       "4  0.150612  0.883081  0.235424\n",
       "5  0.607000  0.414331  0.125902\n",
       "6  0.972450  0.829942  0.541191\n",
       "7  0.681587  0.093245  0.757279\n",
       "8  0.532483  0.250978  0.761034\n",
       "9  0.843037  0.262381  0.167784"
      ]
     },
     "execution_count": 66,
     "metadata": {},
     "output_type": "execute_result"
    }
   ],
   "source": [
    "df = pd.DataFrame(np.random.rand(n, 3), columns=list('abc'))\n",
    "df"
   ]
  },
  {
   "cell_type": "code",
   "execution_count": 67,
   "id": "44df6748-63bd-474f-af01-c814e57c65cb",
   "metadata": {},
   "outputs": [],
   "source": [
    "df = pd.DataFrame(np.random.rand(n, 3), columns=list('abc'))"
   ]
  },
  {
   "cell_type": "code",
   "execution_count": 82,
   "id": "0a4a8613-0059-45b4-93cf-bd9e618df89c",
   "metadata": {},
   "outputs": [
    {
     "data": {
      "text/html": [
       "<div>\n",
       "<style scoped>\n",
       "    .dataframe tbody tr th:only-of-type {\n",
       "        vertical-align: middle;\n",
       "    }\n",
       "\n",
       "    .dataframe tbody tr th {\n",
       "        vertical-align: top;\n",
       "    }\n",
       "\n",
       "    .dataframe thead th {\n",
       "        text-align: right;\n",
       "    }\n",
       "</style>\n",
       "<table border=\"1\" class=\"dataframe\">\n",
       "  <thead>\n",
       "    <tr style=\"text-align: right;\">\n",
       "      <th></th>\n",
       "      <th>a</th>\n",
       "      <th>b</th>\n",
       "      <th>c</th>\n",
       "      <th>bools</th>\n",
       "    </tr>\n",
       "  </thead>\n",
       "  <tbody>\n",
       "    <tr>\n",
       "      <th>0</th>\n",
       "      <td>0.732163</td>\n",
       "      <td>0.195053</td>\n",
       "      <td>0.754678</td>\n",
       "      <td>True</td>\n",
       "    </tr>\n",
       "    <tr>\n",
       "      <th>1</th>\n",
       "      <td>0.373350</td>\n",
       "      <td>0.503601</td>\n",
       "      <td>0.267575</td>\n",
       "      <td>True</td>\n",
       "    </tr>\n",
       "    <tr>\n",
       "      <th>2</th>\n",
       "      <td>0.358014</td>\n",
       "      <td>0.321618</td>\n",
       "      <td>0.171853</td>\n",
       "      <td>False</td>\n",
       "    </tr>\n",
       "    <tr>\n",
       "      <th>3</th>\n",
       "      <td>0.114148</td>\n",
       "      <td>0.427127</td>\n",
       "      <td>0.279537</td>\n",
       "      <td>False</td>\n",
       "    </tr>\n",
       "    <tr>\n",
       "      <th>4</th>\n",
       "      <td>0.672874</td>\n",
       "      <td>0.079309</td>\n",
       "      <td>0.032628</td>\n",
       "      <td>True</td>\n",
       "    </tr>\n",
       "    <tr>\n",
       "      <th>5</th>\n",
       "      <td>0.388451</td>\n",
       "      <td>0.010855</td>\n",
       "      <td>0.546847</td>\n",
       "      <td>True</td>\n",
       "    </tr>\n",
       "    <tr>\n",
       "      <th>6</th>\n",
       "      <td>0.083075</td>\n",
       "      <td>0.755360</td>\n",
       "      <td>0.843533</td>\n",
       "      <td>False</td>\n",
       "    </tr>\n",
       "    <tr>\n",
       "      <th>7</th>\n",
       "      <td>0.497489</td>\n",
       "      <td>0.589482</td>\n",
       "      <td>0.000942</td>\n",
       "      <td>False</td>\n",
       "    </tr>\n",
       "    <tr>\n",
       "      <th>8</th>\n",
       "      <td>0.055651</td>\n",
       "      <td>0.880992</td>\n",
       "      <td>0.587656</td>\n",
       "      <td>False</td>\n",
       "    </tr>\n",
       "    <tr>\n",
       "      <th>9</th>\n",
       "      <td>0.237414</td>\n",
       "      <td>0.293404</td>\n",
       "      <td>0.861940</td>\n",
       "      <td>False</td>\n",
       "    </tr>\n",
       "  </tbody>\n",
       "</table>\n",
       "</div>"
      ],
      "text/plain": [
       "          a         b         c  bools\n",
       "0  0.732163  0.195053  0.754678   True\n",
       "1  0.373350  0.503601  0.267575   True\n",
       "2  0.358014  0.321618  0.171853  False\n",
       "3  0.114148  0.427127  0.279537  False\n",
       "4  0.672874  0.079309  0.032628   True\n",
       "5  0.388451  0.010855  0.546847   True\n",
       "6  0.083075  0.755360  0.843533  False\n",
       "7  0.497489  0.589482  0.000942  False\n",
       "8  0.055651  0.880992  0.587656  False\n",
       "9  0.237414  0.293404  0.861940  False"
      ]
     },
     "execution_count": 82,
     "metadata": {},
     "output_type": "execute_result"
    }
   ],
   "source": [
    "df['bools'] = np.random.rand(len(df)) > 0.5\n",
    "df"
   ]
  },
  {
   "cell_type": "code",
   "execution_count": 83,
   "id": "9d885f45-d67b-4b5e-8815-f98ab384ad94",
   "metadata": {},
   "outputs": [
    {
     "data": {
      "text/html": [
       "<div>\n",
       "<style scoped>\n",
       "    .dataframe tbody tr th:only-of-type {\n",
       "        vertical-align: middle;\n",
       "    }\n",
       "\n",
       "    .dataframe tbody tr th {\n",
       "        vertical-align: top;\n",
       "    }\n",
       "\n",
       "    .dataframe thead th {\n",
       "        text-align: right;\n",
       "    }\n",
       "</style>\n",
       "<table border=\"1\" class=\"dataframe\">\n",
       "  <thead>\n",
       "    <tr style=\"text-align: right;\">\n",
       "      <th></th>\n",
       "      <th>a</th>\n",
       "      <th>b</th>\n",
       "      <th>c</th>\n",
       "      <th>bools</th>\n",
       "    </tr>\n",
       "  </thead>\n",
       "  <tbody>\n",
       "    <tr>\n",
       "      <th>2</th>\n",
       "      <td>0.358014</td>\n",
       "      <td>0.321618</td>\n",
       "      <td>0.171853</td>\n",
       "      <td>False</td>\n",
       "    </tr>\n",
       "    <tr>\n",
       "      <th>3</th>\n",
       "      <td>0.114148</td>\n",
       "      <td>0.427127</td>\n",
       "      <td>0.279537</td>\n",
       "      <td>False</td>\n",
       "    </tr>\n",
       "    <tr>\n",
       "      <th>6</th>\n",
       "      <td>0.083075</td>\n",
       "      <td>0.755360</td>\n",
       "      <td>0.843533</td>\n",
       "      <td>False</td>\n",
       "    </tr>\n",
       "    <tr>\n",
       "      <th>7</th>\n",
       "      <td>0.497489</td>\n",
       "      <td>0.589482</td>\n",
       "      <td>0.000942</td>\n",
       "      <td>False</td>\n",
       "    </tr>\n",
       "    <tr>\n",
       "      <th>8</th>\n",
       "      <td>0.055651</td>\n",
       "      <td>0.880992</td>\n",
       "      <td>0.587656</td>\n",
       "      <td>False</td>\n",
       "    </tr>\n",
       "    <tr>\n",
       "      <th>9</th>\n",
       "      <td>0.237414</td>\n",
       "      <td>0.293404</td>\n",
       "      <td>0.861940</td>\n",
       "      <td>False</td>\n",
       "    </tr>\n",
       "  </tbody>\n",
       "</table>\n",
       "</div>"
      ],
      "text/plain": [
       "          a         b         c  bools\n",
       "2  0.358014  0.321618  0.171853  False\n",
       "3  0.114148  0.427127  0.279537  False\n",
       "6  0.083075  0.755360  0.843533  False\n",
       "7  0.497489  0.589482  0.000942  False\n",
       "8  0.055651  0.880992  0.587656  False\n",
       "9  0.237414  0.293404  0.861940  False"
      ]
     },
     "execution_count": 83,
     "metadata": {},
     "output_type": "execute_result"
    }
   ],
   "source": [
    "df.query('not bools')"
   ]
  },
  {
   "cell_type": "code",
   "execution_count": 86,
   "id": "8d3238dd-049b-4d7e-8120-21504376b195",
   "metadata": {},
   "outputs": [
    {
     "data": {
      "text/html": [
       "<div>\n",
       "<style scoped>\n",
       "    .dataframe tbody tr th:only-of-type {\n",
       "        vertical-align: middle;\n",
       "    }\n",
       "\n",
       "    .dataframe tbody tr th {\n",
       "        vertical-align: top;\n",
       "    }\n",
       "\n",
       "    .dataframe thead th {\n",
       "        text-align: right;\n",
       "    }\n",
       "</style>\n",
       "<table border=\"1\" class=\"dataframe\">\n",
       "  <thead>\n",
       "    <tr style=\"text-align: right;\">\n",
       "      <th></th>\n",
       "      <th>a</th>\n",
       "      <th>b</th>\n",
       "      <th>c</th>\n",
       "      <th>bools</th>\n",
       "    </tr>\n",
       "  </thead>\n",
       "  <tbody>\n",
       "    <tr>\n",
       "      <th>2</th>\n",
       "      <td>True</td>\n",
       "      <td>True</td>\n",
       "      <td>True</td>\n",
       "      <td>True</td>\n",
       "    </tr>\n",
       "    <tr>\n",
       "      <th>3</th>\n",
       "      <td>True</td>\n",
       "      <td>True</td>\n",
       "      <td>True</td>\n",
       "      <td>True</td>\n",
       "    </tr>\n",
       "    <tr>\n",
       "      <th>6</th>\n",
       "      <td>True</td>\n",
       "      <td>True</td>\n",
       "      <td>True</td>\n",
       "      <td>True</td>\n",
       "    </tr>\n",
       "    <tr>\n",
       "      <th>7</th>\n",
       "      <td>True</td>\n",
       "      <td>True</td>\n",
       "      <td>True</td>\n",
       "      <td>True</td>\n",
       "    </tr>\n",
       "    <tr>\n",
       "      <th>8</th>\n",
       "      <td>True</td>\n",
       "      <td>True</td>\n",
       "      <td>True</td>\n",
       "      <td>True</td>\n",
       "    </tr>\n",
       "    <tr>\n",
       "      <th>9</th>\n",
       "      <td>True</td>\n",
       "      <td>True</td>\n",
       "      <td>True</td>\n",
       "      <td>True</td>\n",
       "    </tr>\n",
       "  </tbody>\n",
       "</table>\n",
       "</div>"
      ],
      "text/plain": [
       "      a     b     c  bools\n",
       "2  True  True  True   True\n",
       "3  True  True  True   True\n",
       "6  True  True  True   True\n",
       "7  True  True  True   True\n",
       "8  True  True  True   True\n",
       "9  True  True  True   True"
      ]
     },
     "execution_count": 86,
     "metadata": {},
     "output_type": "execute_result"
    }
   ],
   "source": [
    "df.query('not bools') == df[~df['bools']]"
   ]
  },
  {
   "cell_type": "code",
   "execution_count": 87,
   "id": "dd4881a8-bad6-424b-8752-7e14ec9faa97",
   "metadata": {},
   "outputs": [
    {
     "data": {
      "text/html": [
       "<div>\n",
       "<style scoped>\n",
       "    .dataframe tbody tr th:only-of-type {\n",
       "        vertical-align: middle;\n",
       "    }\n",
       "\n",
       "    .dataframe tbody tr th {\n",
       "        vertical-align: top;\n",
       "    }\n",
       "\n",
       "    .dataframe thead th {\n",
       "        text-align: right;\n",
       "    }\n",
       "</style>\n",
       "<table border=\"1\" class=\"dataframe\">\n",
       "  <thead>\n",
       "    <tr style=\"text-align: right;\">\n",
       "      <th></th>\n",
       "      <th>a</th>\n",
       "      <th>b</th>\n",
       "      <th>c</th>\n",
       "      <th>bools</th>\n",
       "    </tr>\n",
       "  </thead>\n",
       "  <tbody>\n",
       "    <tr>\n",
       "      <th>6</th>\n",
       "      <td>0.083075</td>\n",
       "      <td>0.755360</td>\n",
       "      <td>0.843533</td>\n",
       "      <td>False</td>\n",
       "    </tr>\n",
       "    <tr>\n",
       "      <th>9</th>\n",
       "      <td>0.237414</td>\n",
       "      <td>0.293404</td>\n",
       "      <td>0.861940</td>\n",
       "      <td>False</td>\n",
       "    </tr>\n",
       "  </tbody>\n",
       "</table>\n",
       "</div>"
      ],
      "text/plain": [
       "          a         b         c  bools\n",
       "6  0.083075  0.755360  0.843533  False\n",
       "9  0.237414  0.293404  0.861940  False"
      ]
     },
     "execution_count": 87,
     "metadata": {},
     "output_type": "execute_result"
    }
   ],
   "source": [
    "shorter = df.query('a < b < c and not bools or bools > 2')\n",
    "shorter"
   ]
  },
  {
   "cell_type": "code",
   "execution_count": 92,
   "id": "d19e5181-d1e4-4b89-949b-dc3fd62ce9aa",
   "metadata": {},
   "outputs": [
    {
     "data": {
      "text/html": [
       "<div>\n",
       "<style scoped>\n",
       "    .dataframe tbody tr th:only-of-type {\n",
       "        vertical-align: middle;\n",
       "    }\n",
       "\n",
       "    .dataframe tbody tr th {\n",
       "        vertical-align: top;\n",
       "    }\n",
       "\n",
       "    .dataframe thead th {\n",
       "        text-align: right;\n",
       "    }\n",
       "</style>\n",
       "<table border=\"1\" class=\"dataframe\">\n",
       "  <thead>\n",
       "    <tr style=\"text-align: right;\">\n",
       "      <th></th>\n",
       "      <th>a</th>\n",
       "      <th>b</th>\n",
       "      <th>c</th>\n",
       "      <th>bools</th>\n",
       "    </tr>\n",
       "  </thead>\n",
       "  <tbody>\n",
       "    <tr>\n",
       "      <th>6</th>\n",
       "      <td>0.083075</td>\n",
       "      <td>0.755360</td>\n",
       "      <td>0.843533</td>\n",
       "      <td>False</td>\n",
       "    </tr>\n",
       "    <tr>\n",
       "      <th>9</th>\n",
       "      <td>0.237414</td>\n",
       "      <td>0.293404</td>\n",
       "      <td>0.861940</td>\n",
       "      <td>False</td>\n",
       "    </tr>\n",
       "  </tbody>\n",
       "</table>\n",
       "</div>"
      ],
      "text/plain": [
       "          a         b         c  bools\n",
       "6  0.083075  0.755360  0.843533  False\n",
       "9  0.237414  0.293404  0.861940  False"
      ]
     },
     "execution_count": 92,
     "metadata": {},
     "output_type": "execute_result"
    }
   ],
   "source": [
    "longer = df[(df['a'] < df['b']) & (df['b'] < df['c']) & (~ df['bools']) | (df['bools'] > 2)]\n",
    "longer"
   ]
  },
  {
   "cell_type": "code",
   "execution_count": 93,
   "id": "99b86998-6485-4e43-8f4e-3306135dd302",
   "metadata": {},
   "outputs": [
    {
     "data": {
      "text/html": [
       "<div>\n",
       "<style scoped>\n",
       "    .dataframe tbody tr th:only-of-type {\n",
       "        vertical-align: middle;\n",
       "    }\n",
       "\n",
       "    .dataframe tbody tr th {\n",
       "        vertical-align: top;\n",
       "    }\n",
       "\n",
       "    .dataframe thead th {\n",
       "        text-align: right;\n",
       "    }\n",
       "</style>\n",
       "<table border=\"1\" class=\"dataframe\">\n",
       "  <thead>\n",
       "    <tr style=\"text-align: right;\">\n",
       "      <th></th>\n",
       "      <th>a</th>\n",
       "      <th>b</th>\n",
       "      <th>c</th>\n",
       "      <th>bools</th>\n",
       "    </tr>\n",
       "  </thead>\n",
       "  <tbody>\n",
       "    <tr>\n",
       "      <th>6</th>\n",
       "      <td>True</td>\n",
       "      <td>True</td>\n",
       "      <td>True</td>\n",
       "      <td>True</td>\n",
       "    </tr>\n",
       "    <tr>\n",
       "      <th>9</th>\n",
       "      <td>True</td>\n",
       "      <td>True</td>\n",
       "      <td>True</td>\n",
       "      <td>True</td>\n",
       "    </tr>\n",
       "  </tbody>\n",
       "</table>\n",
       "</div>"
      ],
      "text/plain": [
       "      a     b     c  bools\n",
       "6  True  True  True   True\n",
       "9  True  True  True   True"
      ]
     },
     "execution_count": 93,
     "metadata": {},
     "output_type": "execute_result"
    }
   ],
   "source": [
    "shorter == longer"
   ]
  },
  {
   "cell_type": "code",
   "execution_count": 108,
   "id": "354982e2-15c8-41cd-ba11-54ec3196257b",
   "metadata": {},
   "outputs": [
    {
     "data": {
      "text/html": [
       "<div>\n",
       "<style scoped>\n",
       "    .dataframe tbody tr th:only-of-type {\n",
       "        vertical-align: middle;\n",
       "    }\n",
       "\n",
       "    .dataframe tbody tr th {\n",
       "        vertical-align: top;\n",
       "    }\n",
       "\n",
       "    .dataframe thead th {\n",
       "        text-align: right;\n",
       "    }\n",
       "</style>\n",
       "<table border=\"1\" class=\"dataframe\">\n",
       "  <thead>\n",
       "    <tr style=\"text-align: right;\">\n",
       "      <th></th>\n",
       "      <th>a</th>\n",
       "      <th>b</th>\n",
       "    </tr>\n",
       "  </thead>\n",
       "  <tbody>\n",
       "    <tr>\n",
       "      <th>a</th>\n",
       "      <td>1.195817</td>\n",
       "      <td>1.710454</td>\n",
       "    </tr>\n",
       "    <tr>\n",
       "      <th>a</th>\n",
       "      <td>-1.708450</td>\n",
       "      <td>-0.601060</td>\n",
       "    </tr>\n",
       "    <tr>\n",
       "      <th>b</th>\n",
       "      <td>0.433693</td>\n",
       "      <td>-0.521991</td>\n",
       "    </tr>\n",
       "    <tr>\n",
       "      <th>c</th>\n",
       "      <td>-0.505928</td>\n",
       "      <td>-0.345267</td>\n",
       "    </tr>\n",
       "    <tr>\n",
       "      <th>b</th>\n",
       "      <td>-0.019780</td>\n",
       "      <td>-1.855012</td>\n",
       "    </tr>\n",
       "    <tr>\n",
       "      <th>a</th>\n",
       "      <td>-0.752848</td>\n",
       "      <td>1.831791</td>\n",
       "    </tr>\n",
       "  </tbody>\n",
       "</table>\n",
       "</div>"
      ],
      "text/plain": [
       "          a         b\n",
       "a  1.195817  1.710454\n",
       "a -1.708450 -0.601060\n",
       "b  0.433693 -0.521991\n",
       "c -0.505928 -0.345267\n",
       "b -0.019780 -1.855012\n",
       "a -0.752848  1.831791"
      ]
     },
     "execution_count": 108,
     "metadata": {},
     "output_type": "execute_result"
    }
   ],
   "source": [
    "df3 = pd.DataFrame({'a': np.random.randn(6), 'b': np.random.randn(6)}, index=list('aabcba'))\n",
    "df3"
   ]
  },
  {
   "cell_type": "code",
   "execution_count": 95,
   "id": "430fbf6a-67c0-4b0a-84f0-da2375199f53",
   "metadata": {},
   "outputs": [
    {
     "data": {
      "text/plain": [
       "array([False,  True, False, False,  True,  True])"
      ]
     },
     "execution_count": 95,
     "metadata": {},
     "output_type": "execute_result"
    }
   ],
   "source": [
    "df3.index.duplicated()"
   ]
  },
  {
   "cell_type": "code",
   "execution_count": 96,
   "id": "4202135d-bfc0-4a5c-87b0-a90b0413337d",
   "metadata": {},
   "outputs": [
    {
     "data": {
      "text/html": [
       "<div>\n",
       "<style scoped>\n",
       "    .dataframe tbody tr th:only-of-type {\n",
       "        vertical-align: middle;\n",
       "    }\n",
       "\n",
       "    .dataframe tbody tr th {\n",
       "        vertical-align: top;\n",
       "    }\n",
       "\n",
       "    .dataframe thead th {\n",
       "        text-align: right;\n",
       "    }\n",
       "</style>\n",
       "<table border=\"1\" class=\"dataframe\">\n",
       "  <thead>\n",
       "    <tr style=\"text-align: right;\">\n",
       "      <th></th>\n",
       "      <th>a</th>\n",
       "      <th>b</th>\n",
       "    </tr>\n",
       "  </thead>\n",
       "  <tbody>\n",
       "    <tr>\n",
       "      <th>a</th>\n",
       "      <td>0.501623</td>\n",
       "      <td>1.609102</td>\n",
       "    </tr>\n",
       "    <tr>\n",
       "      <th>b</th>\n",
       "      <td>-1.892547</td>\n",
       "      <td>0.110899</td>\n",
       "    </tr>\n",
       "    <tr>\n",
       "      <th>c</th>\n",
       "      <td>0.786636</td>\n",
       "      <td>1.275488</td>\n",
       "    </tr>\n",
       "  </tbody>\n",
       "</table>\n",
       "</div>"
      ],
      "text/plain": [
       "          a         b\n",
       "a  0.501623  1.609102\n",
       "b -1.892547  0.110899\n",
       "c  0.786636  1.275488"
      ]
     },
     "execution_count": 96,
     "metadata": {},
     "output_type": "execute_result"
    }
   ],
   "source": [
    "df3[~ df3.index.duplicated()]"
   ]
  },
  {
   "cell_type": "code",
   "execution_count": 97,
   "id": "2f3f016d-8c1b-4012-b8e5-7c707fc16024",
   "metadata": {},
   "outputs": [
    {
     "data": {
      "text/html": [
       "<div>\n",
       "<style scoped>\n",
       "    .dataframe tbody tr th:only-of-type {\n",
       "        vertical-align: middle;\n",
       "    }\n",
       "\n",
       "    .dataframe tbody tr th {\n",
       "        vertical-align: top;\n",
       "    }\n",
       "\n",
       "    .dataframe thead th {\n",
       "        text-align: right;\n",
       "    }\n",
       "</style>\n",
       "<table border=\"1\" class=\"dataframe\">\n",
       "  <thead>\n",
       "    <tr style=\"text-align: right;\">\n",
       "      <th></th>\n",
       "      <th>a</th>\n",
       "      <th>b</th>\n",
       "    </tr>\n",
       "  </thead>\n",
       "  <tbody>\n",
       "    <tr>\n",
       "      <th>c</th>\n",
       "      <td>0.786636</td>\n",
       "      <td>1.275488</td>\n",
       "    </tr>\n",
       "    <tr>\n",
       "      <th>b</th>\n",
       "      <td>-2.532966</td>\n",
       "      <td>1.742885</td>\n",
       "    </tr>\n",
       "    <tr>\n",
       "      <th>a</th>\n",
       "      <td>1.365332</td>\n",
       "      <td>2.920223</td>\n",
       "    </tr>\n",
       "  </tbody>\n",
       "</table>\n",
       "</div>"
      ],
      "text/plain": [
       "          a         b\n",
       "c  0.786636  1.275488\n",
       "b -2.532966  1.742885\n",
       "a  1.365332  2.920223"
      ]
     },
     "execution_count": 97,
     "metadata": {},
     "output_type": "execute_result"
    }
   ],
   "source": [
    "df3[~ df3.index.duplicated(keep='last')]"
   ]
  },
  {
   "cell_type": "code",
   "execution_count": 98,
   "id": "89b9aaea-88dd-4046-915d-9d14cc277a23",
   "metadata": {},
   "outputs": [
    {
     "data": {
      "text/html": [
       "<div>\n",
       "<style scoped>\n",
       "    .dataframe tbody tr th:only-of-type {\n",
       "        vertical-align: middle;\n",
       "    }\n",
       "\n",
       "    .dataframe tbody tr th {\n",
       "        vertical-align: top;\n",
       "    }\n",
       "\n",
       "    .dataframe thead th {\n",
       "        text-align: right;\n",
       "    }\n",
       "</style>\n",
       "<table border=\"1\" class=\"dataframe\">\n",
       "  <thead>\n",
       "    <tr style=\"text-align: right;\">\n",
       "      <th></th>\n",
       "      <th>a</th>\n",
       "      <th>b</th>\n",
       "    </tr>\n",
       "  </thead>\n",
       "  <tbody>\n",
       "    <tr>\n",
       "      <th>c</th>\n",
       "      <td>0.786636</td>\n",
       "      <td>1.275488</td>\n",
       "    </tr>\n",
       "  </tbody>\n",
       "</table>\n",
       "</div>"
      ],
      "text/plain": [
       "          a         b\n",
       "c  0.786636  1.275488"
      ]
     },
     "execution_count": 98,
     "metadata": {},
     "output_type": "execute_result"
    }
   ],
   "source": [
    "df3[~ df3.index.duplicated(keep=False)]"
   ]
  },
  {
   "cell_type": "code",
   "execution_count": 118,
   "id": "47358c32-36ba-4b6d-9b05-8147a11c581b",
   "metadata": {},
   "outputs": [
    {
     "data": {
      "text/plain": [
       "Index(['a', 'b', 'c'], dtype='object')"
      ]
     },
     "execution_count": 118,
     "metadata": {},
     "output_type": "execute_result"
    }
   ],
   "source": [
    "df3.index.drop_duplicates()"
   ]
  },
  {
   "cell_type": "code",
   "execution_count": 119,
   "id": "420209ab-99b1-4325-981a-961b19cc8fa2",
   "metadata": {},
   "outputs": [
    {
     "data": {
      "text/html": [
       "<div>\n",
       "<style scoped>\n",
       "    .dataframe tbody tr th:only-of-type {\n",
       "        vertical-align: middle;\n",
       "    }\n",
       "\n",
       "    .dataframe tbody tr th {\n",
       "        vertical-align: top;\n",
       "    }\n",
       "\n",
       "    .dataframe thead th {\n",
       "        text-align: right;\n",
       "    }\n",
       "</style>\n",
       "<table border=\"1\" class=\"dataframe\">\n",
       "  <thead>\n",
       "    <tr style=\"text-align: right;\">\n",
       "      <th></th>\n",
       "      <th>a</th>\n",
       "      <th>b</th>\n",
       "    </tr>\n",
       "  </thead>\n",
       "  <tbody>\n",
       "    <tr>\n",
       "      <th>a</th>\n",
       "      <td>1.195817</td>\n",
       "      <td>1.710454</td>\n",
       "    </tr>\n",
       "    <tr>\n",
       "      <th>a</th>\n",
       "      <td>-1.708450</td>\n",
       "      <td>-0.601060</td>\n",
       "    </tr>\n",
       "    <tr>\n",
       "      <th>a</th>\n",
       "      <td>-0.752848</td>\n",
       "      <td>1.831791</td>\n",
       "    </tr>\n",
       "    <tr>\n",
       "      <th>b</th>\n",
       "      <td>0.433693</td>\n",
       "      <td>-0.521991</td>\n",
       "    </tr>\n",
       "    <tr>\n",
       "      <th>b</th>\n",
       "      <td>-0.019780</td>\n",
       "      <td>-1.855012</td>\n",
       "    </tr>\n",
       "    <tr>\n",
       "      <th>c</th>\n",
       "      <td>-0.505928</td>\n",
       "      <td>-0.345267</td>\n",
       "    </tr>\n",
       "  </tbody>\n",
       "</table>\n",
       "</div>"
      ],
      "text/plain": [
       "          a         b\n",
       "a  1.195817  1.710454\n",
       "a -1.708450 -0.601060\n",
       "a -0.752848  1.831791\n",
       "b  0.433693 -0.521991\n",
       "b -0.019780 -1.855012\n",
       "c -0.505928 -0.345267"
      ]
     },
     "execution_count": 119,
     "metadata": {},
     "output_type": "execute_result"
    }
   ],
   "source": [
    "df3.loc[df3.index.drop_duplicates()]"
   ]
  },
  {
   "cell_type": "code",
   "execution_count": 120,
   "id": "27da0954-e75b-462d-b98a-7db555f69357",
   "metadata": {},
   "outputs": [
    {
     "data": {
      "text/html": [
       "<div>\n",
       "<style scoped>\n",
       "    .dataframe tbody tr th:only-of-type {\n",
       "        vertical-align: middle;\n",
       "    }\n",
       "\n",
       "    .dataframe tbody tr th {\n",
       "        vertical-align: top;\n",
       "    }\n",
       "\n",
       "    .dataframe thead th {\n",
       "        text-align: right;\n",
       "    }\n",
       "</style>\n",
       "<table border=\"1\" class=\"dataframe\">\n",
       "  <thead>\n",
       "    <tr style=\"text-align: right;\">\n",
       "      <th></th>\n",
       "      <th>a</th>\n",
       "      <th>b</th>\n",
       "    </tr>\n",
       "  </thead>\n",
       "  <tbody>\n",
       "    <tr>\n",
       "      <th>a</th>\n",
       "      <td>1.195817</td>\n",
       "      <td>1.710454</td>\n",
       "    </tr>\n",
       "    <tr>\n",
       "      <th>a</th>\n",
       "      <td>-1.708450</td>\n",
       "      <td>-0.601060</td>\n",
       "    </tr>\n",
       "    <tr>\n",
       "      <th>b</th>\n",
       "      <td>0.433693</td>\n",
       "      <td>-0.521991</td>\n",
       "    </tr>\n",
       "  </tbody>\n",
       "</table>\n",
       "</div>"
      ],
      "text/plain": [
       "          a         b\n",
       "a  1.195817  1.710454\n",
       "a -1.708450 -0.601060\n",
       "b  0.433693 -0.521991"
      ]
     },
     "execution_count": 120,
     "metadata": {},
     "output_type": "execute_result"
    }
   ],
   "source": [
    "df3[0:3]"
   ]
  },
  {
   "cell_type": "code",
   "execution_count": 140,
   "id": "1f2da63f-0a22-4178-901a-26c1e7a7bd34",
   "metadata": {},
   "outputs": [
    {
     "data": {
      "text/html": [
       "<div>\n",
       "<style scoped>\n",
       "    .dataframe tbody tr th:only-of-type {\n",
       "        vertical-align: middle;\n",
       "    }\n",
       "\n",
       "    .dataframe tbody tr th {\n",
       "        vertical-align: top;\n",
       "    }\n",
       "\n",
       "    .dataframe thead th {\n",
       "        text-align: right;\n",
       "    }\n",
       "</style>\n",
       "<table border=\"1\" class=\"dataframe\">\n",
       "  <thead>\n",
       "    <tr style=\"text-align: right;\">\n",
       "      <th></th>\n",
       "      <th>col</th>\n",
       "      <th>A</th>\n",
       "      <th>B</th>\n",
       "    </tr>\n",
       "  </thead>\n",
       "  <tbody>\n",
       "    <tr>\n",
       "      <th>0</th>\n",
       "      <td>A</td>\n",
       "      <td>80.0</td>\n",
       "      <td>80</td>\n",
       "    </tr>\n",
       "    <tr>\n",
       "      <th>1</th>\n",
       "      <td>A</td>\n",
       "      <td>23.0</td>\n",
       "      <td>55</td>\n",
       "    </tr>\n",
       "    <tr>\n",
       "      <th>2</th>\n",
       "      <td>B</td>\n",
       "      <td>NaN</td>\n",
       "      <td>76</td>\n",
       "    </tr>\n",
       "    <tr>\n",
       "      <th>3</th>\n",
       "      <td>B</td>\n",
       "      <td>22.0</td>\n",
       "      <td>67</td>\n",
       "    </tr>\n",
       "  </tbody>\n",
       "</table>\n",
       "</div>"
      ],
      "text/plain": [
       "  col     A   B\n",
       "0   A  80.0  80\n",
       "1   A  23.0  55\n",
       "2   B   NaN  76\n",
       "3   B  22.0  67"
      ]
     },
     "execution_count": 140,
     "metadata": {},
     "output_type": "execute_result"
    }
   ],
   "source": [
    "df = pd.DataFrame({'col': list('AABB'), 'A': [80, 23, np.nan, 22], 'B': [80, 55, 76, 67]})\n",
    "df"
   ]
  },
  {
   "cell_type": "code",
   "execution_count": 125,
   "id": "378e94de-eded-4554-81ae-1189b0a87564",
   "metadata": {},
   "outputs": [
    {
     "data": {
      "text/plain": [
       "(array([0, 0, 1, 1], dtype=int64), Index(['A', 'B'], dtype='object'))"
      ]
     },
     "execution_count": 125,
     "metadata": {},
     "output_type": "execute_result"
    }
   ],
   "source": [
    "pd.factorize(df['col'])"
   ]
  },
  {
   "cell_type": "code",
   "execution_count": 126,
   "id": "d9db686c-9525-4e37-86f2-4099b42bc57b",
   "metadata": {},
   "outputs": [],
   "source": [
    "idx, cols = pd.factorize(df['col'])"
   ]
  },
  {
   "cell_type": "code",
   "execution_count": 131,
   "id": "ae456d1f-e8f0-4f44-9e91-a3242e8b689c",
   "metadata": {},
   "outputs": [
    {
     "data": {
      "text/plain": [
       "array([80., 23., 76., 67.])"
      ]
     },
     "execution_count": 131,
     "metadata": {},
     "output_type": "execute_result"
    }
   ],
   "source": [
    "df.reindex(cols, axis=1).to_numpy()[np.arange(len(df)), idx]"
   ]
  },
  {
   "cell_type": "code",
   "execution_count": 128,
   "id": "232d226b-d572-4b45-a762-fa0c2468feff",
   "metadata": {},
   "outputs": [
    {
     "data": {
      "text/plain": [
       "array([0, 0, 1, 1], dtype=int64)"
      ]
     },
     "execution_count": 128,
     "metadata": {},
     "output_type": "execute_result"
    }
   ],
   "source": [
    "idx"
   ]
  },
  {
   "cell_type": "code",
   "execution_count": 129,
   "id": "6dd14ad7-8334-42cf-b4dd-7f78ea4f1999",
   "metadata": {},
   "outputs": [
    {
     "data": {
      "text/plain": [
       "Index(['A', 'B'], dtype='object')"
      ]
     },
     "execution_count": 129,
     "metadata": {},
     "output_type": "execute_result"
    }
   ],
   "source": [
    "cols"
   ]
  },
  {
   "cell_type": "code",
   "execution_count": 141,
   "id": "536a27b3-d4e5-4bc4-ab23-a8abefa224ec",
   "metadata": {},
   "outputs": [
    {
     "data": {
      "text/plain": [
       "Index(['e', 'a', 'b'], dtype='object', name='object')"
      ]
     },
     "execution_count": 141,
     "metadata": {},
     "output_type": "execute_result"
    }
   ],
   "source": [
    "index = pd.Index(list('eab'), name='object')\n",
    "index"
   ]
  },
  {
   "cell_type": "code",
   "execution_count": 142,
   "id": "bc03d63a-e2d6-45b4-b17d-ee88902a6370",
   "metadata": {},
   "outputs": [
    {
     "data": {
      "text/plain": [
       "'object'"
      ]
     },
     "execution_count": 142,
     "metadata": {},
     "output_type": "execute_result"
    }
   ],
   "source": [
    "index.name"
   ]
  },
  {
   "cell_type": "code",
   "execution_count": 143,
   "id": "3435e051-50a7-49ac-a13c-617c4fa5232d",
   "metadata": {},
   "outputs": [
    {
     "data": {
      "text/html": [
       "<div>\n",
       "<style scoped>\n",
       "    .dataframe tbody tr th:only-of-type {\n",
       "        vertical-align: middle;\n",
       "    }\n",
       "\n",
       "    .dataframe tbody tr th {\n",
       "        vertical-align: top;\n",
       "    }\n",
       "\n",
       "    .dataframe thead th {\n",
       "        text-align: right;\n",
       "    }\n",
       "</style>\n",
       "<table border=\"1\" class=\"dataframe\">\n",
       "  <thead>\n",
       "    <tr style=\"text-align: right;\">\n",
       "      <th></th>\n",
       "      <th>col</th>\n",
       "      <th>A</th>\n",
       "      <th>B</th>\n",
       "    </tr>\n",
       "  </thead>\n",
       "  <tbody>\n",
       "    <tr>\n",
       "      <th>0</th>\n",
       "      <td>A</td>\n",
       "      <td>80.0</td>\n",
       "      <td>80</td>\n",
       "    </tr>\n",
       "    <tr>\n",
       "      <th>1</th>\n",
       "      <td>A</td>\n",
       "      <td>23.0</td>\n",
       "      <td>55</td>\n",
       "    </tr>\n",
       "    <tr>\n",
       "      <th>2</th>\n",
       "      <td>B</td>\n",
       "      <td>NaN</td>\n",
       "      <td>76</td>\n",
       "    </tr>\n",
       "    <tr>\n",
       "      <th>3</th>\n",
       "      <td>B</td>\n",
       "      <td>22.0</td>\n",
       "      <td>67</td>\n",
       "    </tr>\n",
       "  </tbody>\n",
       "</table>\n",
       "</div>"
      ],
      "text/plain": [
       "  col     A   B\n",
       "0   A  80.0  80\n",
       "1   A  23.0  55\n",
       "2   B   NaN  76\n",
       "3   B  22.0  67"
      ]
     },
     "execution_count": 143,
     "metadata": {},
     "output_type": "execute_result"
    }
   ],
   "source": [
    "df"
   ]
  },
  {
   "cell_type": "code",
   "execution_count": 144,
   "id": "58d1fc19-c28d-4459-bc21-1bc122507d63",
   "metadata": {},
   "outputs": [
    {
     "data": {
      "text/html": [
       "<div>\n",
       "<style scoped>\n",
       "    .dataframe tbody tr th:only-of-type {\n",
       "        vertical-align: middle;\n",
       "    }\n",
       "\n",
       "    .dataframe tbody tr th {\n",
       "        vertical-align: top;\n",
       "    }\n",
       "\n",
       "    .dataframe thead th {\n",
       "        text-align: right;\n",
       "    }\n",
       "</style>\n",
       "<table border=\"1\" class=\"dataframe\">\n",
       "  <thead>\n",
       "    <tr style=\"text-align: right;\">\n",
       "      <th>cols</th>\n",
       "      <th>A</th>\n",
       "      <th>B</th>\n",
       "      <th>C</th>\n",
       "    </tr>\n",
       "    <tr>\n",
       "      <th>rows</th>\n",
       "      <th></th>\n",
       "      <th></th>\n",
       "      <th></th>\n",
       "    </tr>\n",
       "  </thead>\n",
       "  <tbody>\n",
       "    <tr>\n",
       "      <th>0</th>\n",
       "      <td>0.261255</td>\n",
       "      <td>-0.185855</td>\n",
       "      <td>-0.555897</td>\n",
       "    </tr>\n",
       "    <tr>\n",
       "      <th>1</th>\n",
       "      <td>-0.519151</td>\n",
       "      <td>0.164914</td>\n",
       "      <td>-0.532782</td>\n",
       "    </tr>\n",
       "    <tr>\n",
       "      <th>2</th>\n",
       "      <td>0.578346</td>\n",
       "      <td>0.667791</td>\n",
       "      <td>0.910614</td>\n",
       "    </tr>\n",
       "    <tr>\n",
       "      <th>3</th>\n",
       "      <td>-1.175787</td>\n",
       "      <td>1.143781</td>\n",
       "      <td>-0.429140</td>\n",
       "    </tr>\n",
       "    <tr>\n",
       "      <th>4</th>\n",
       "      <td>0.971085</td>\n",
       "      <td>-1.481300</td>\n",
       "      <td>0.875252</td>\n",
       "    </tr>\n",
       "  </tbody>\n",
       "</table>\n",
       "</div>"
      ],
      "text/plain": [
       "cols         A         B         C\n",
       "rows                              \n",
       "0     0.261255 -0.185855 -0.555897\n",
       "1    -0.519151  0.164914 -0.532782\n",
       "2     0.578346  0.667791  0.910614\n",
       "3    -1.175787  1.143781 -0.429140\n",
       "4     0.971085 -1.481300  0.875252"
      ]
     },
     "execution_count": 144,
     "metadata": {},
     "output_type": "execute_result"
    }
   ],
   "source": [
    "index = pd.Index(list(range(5)), name='rows')\n",
    "columns = pd.Index(list('ABC'), name='cols')\n",
    "df = pd.DataFrame(np.random.randn(5, 3), index=index, columns=columns)\n",
    "df"
   ]
  },
  {
   "cell_type": "code",
   "execution_count": 145,
   "id": "8562023f-305f-41d1-8569-42e2e5ab92b1",
   "metadata": {},
   "outputs": [
    {
     "data": {
      "text/plain": [
       "MultiIndex([(0, 'a'),\n",
       "            (0, 'b'),\n",
       "            (1, 'a'),\n",
       "            (1, 'b'),\n",
       "            (2, 'a'),\n",
       "            (2, 'b')],\n",
       "           names=['first', 'second'])"
      ]
     },
     "execution_count": 145,
     "metadata": {},
     "output_type": "execute_result"
    }
   ],
   "source": [
    "index = pd.MultiIndex.from_product([range(3), ['a', 'b']], names=['first', 'second'])\n",
    "index"
   ]
  },
  {
   "cell_type": "code",
   "execution_count": 150,
   "id": "ce1ce931-a4e0-40f1-8e8b-710244afe915",
   "metadata": {},
   "outputs": [
    {
     "data": {
      "text/plain": [
       "Index(['a', 'b'], dtype='object', name='second')"
      ]
     },
     "execution_count": 150,
     "metadata": {},
     "output_type": "execute_result"
    }
   ],
   "source": [
    "index.levels[1]"
   ]
  },
  {
   "cell_type": "code",
   "execution_count": 153,
   "id": "cc554642-3a41-48c1-9279-c03b195e5978",
   "metadata": {},
   "outputs": [],
   "source": [
    "index = index.set_names(['first', 'last'])"
   ]
  },
  {
   "cell_type": "code",
   "execution_count": 154,
   "id": "a96339a3-1aed-4eeb-ab53-28817ef11731",
   "metadata": {},
   "outputs": [
    {
     "data": {
      "text/plain": [
       "MultiIndex([(0, 'a'),\n",
       "            (0, 'b'),\n",
       "            (1, 'a'),\n",
       "            (1, 'b'),\n",
       "            (2, 'a'),\n",
       "            (2, 'b')],\n",
       "           names=['first', 'last'])"
      ]
     },
     "execution_count": 154,
     "metadata": {},
     "output_type": "execute_result"
    }
   ],
   "source": [
    "index"
   ]
  },
  {
   "cell_type": "code",
   "execution_count": 157,
   "id": "e7a5f10d-36d5-40b6-95ce-bacdc70136a2",
   "metadata": {},
   "outputs": [],
   "source": [
    "index = index.set_levels(['one', 'two'], level=1)"
   ]
  },
  {
   "cell_type": "code",
   "execution_count": 158,
   "id": "2658082c-bfc9-40b7-b589-b072310cf18e",
   "metadata": {},
   "outputs": [
    {
     "data": {
      "text/plain": [
       "MultiIndex([(0, 'one'),\n",
       "            (0, 'two'),\n",
       "            (1, 'one'),\n",
       "            (1, 'two'),\n",
       "            (2, 'one'),\n",
       "            (2, 'two')],\n",
       "           names=['first', 'last'])"
      ]
     },
     "execution_count": 158,
     "metadata": {},
     "output_type": "execute_result"
    }
   ],
   "source": [
    "index"
   ]
  },
  {
   "cell_type": "code",
   "execution_count": 159,
   "id": "da551b5d-08ce-4efc-bf76-9740a63190ed",
   "metadata": {},
   "outputs": [
    {
     "data": {
      "text/plain": [
       "Index(['b', 'c'], dtype='object')"
      ]
     },
     "execution_count": 159,
     "metadata": {},
     "output_type": "execute_result"
    }
   ],
   "source": [
    "a = pd.Index(['a', 'b', 'c'])\n",
    "b = pd.Index(['a', 'd', 'e'])\n",
    "a.difference(b)"
   ]
  },
  {
   "cell_type": "code",
   "execution_count": 162,
   "id": "94601566-d74e-41ac-9bbe-7fdcf0cdf1e7",
   "metadata": {},
   "outputs": [
    {
     "data": {
      "text/plain": [
       "Index(['b', 'c', 'd', 'e'], dtype='object')"
      ]
     },
     "execution_count": 162,
     "metadata": {},
     "output_type": "execute_result"
    }
   ],
   "source": [
    "a.symmetric_difference(b)"
   ]
  },
  {
   "cell_type": "code",
   "execution_count": 164,
   "id": "e398ad9f-e4c3-48f7-b609-05041e22ac4a",
   "metadata": {},
   "outputs": [
    {
     "data": {
      "text/plain": [
       "array([1., 2., 3., 4.])"
      ]
     },
     "execution_count": 164,
     "metadata": {},
     "output_type": "execute_result"
    }
   ],
   "source": [
    "np.arange(1,5).astype('float64')"
   ]
  },
  {
   "cell_type": "code",
   "execution_count": 165,
   "id": "ecb4574a-1b0c-48da-816d-c06590ec7c15",
   "metadata": {},
   "outputs": [
    {
     "data": {
      "text/html": [
       "<div>\n",
       "<style scoped>\n",
       "    .dataframe tbody tr th:only-of-type {\n",
       "        vertical-align: middle;\n",
       "    }\n",
       "\n",
       "    .dataframe tbody tr th {\n",
       "        vertical-align: top;\n",
       "    }\n",
       "\n",
       "    .dataframe thead th {\n",
       "        text-align: right;\n",
       "    }\n",
       "</style>\n",
       "<table border=\"1\" class=\"dataframe\">\n",
       "  <thead>\n",
       "    <tr style=\"text-align: right;\">\n",
       "      <th></th>\n",
       "      <th>a</th>\n",
       "      <th>b</th>\n",
       "      <th>c</th>\n",
       "      <th>d</th>\n",
       "    </tr>\n",
       "  </thead>\n",
       "  <tbody>\n",
       "    <tr>\n",
       "      <th>0</th>\n",
       "      <td>bar</td>\n",
       "      <td>one</td>\n",
       "      <td>z</td>\n",
       "      <td>1.0</td>\n",
       "    </tr>\n",
       "    <tr>\n",
       "      <th>1</th>\n",
       "      <td>bar</td>\n",
       "      <td>two</td>\n",
       "      <td>y</td>\n",
       "      <td>2.0</td>\n",
       "    </tr>\n",
       "    <tr>\n",
       "      <th>2</th>\n",
       "      <td>foo</td>\n",
       "      <td>one</td>\n",
       "      <td>x</td>\n",
       "      <td>3.0</td>\n",
       "    </tr>\n",
       "    <tr>\n",
       "      <th>3</th>\n",
       "      <td>foo</td>\n",
       "      <td>two</td>\n",
       "      <td>w</td>\n",
       "      <td>4.0</td>\n",
       "    </tr>\n",
       "  </tbody>\n",
       "</table>\n",
       "</div>"
      ],
      "text/plain": [
       "     a    b  c    d\n",
       "0  bar  one  z  1.0\n",
       "1  bar  two  y  2.0\n",
       "2  foo  one  x  3.0\n",
       "3  foo  two  w  4.0"
      ]
     },
     "execution_count": 165,
     "metadata": {},
     "output_type": "execute_result"
    }
   ],
   "source": [
    "data = pd.DataFrame({'a': ['bar', 'bar', 'foo', 'foo'], 'b': ['one', 'two', 'one', 'two'],\n",
    "                    'c': list('zyxw'), 'd': np.arange(1,5).astype('float64')})\n",
    "data"
   ]
  },
  {
   "cell_type": "code",
   "execution_count": 167,
   "id": "eb957150-12c8-4d5b-ad06-19617fa08717",
   "metadata": {},
   "outputs": [
    {
     "data": {
      "text/html": [
       "<div>\n",
       "<style scoped>\n",
       "    .dataframe tbody tr th:only-of-type {\n",
       "        vertical-align: middle;\n",
       "    }\n",
       "\n",
       "    .dataframe tbody tr th {\n",
       "        vertical-align: top;\n",
       "    }\n",
       "\n",
       "    .dataframe thead th {\n",
       "        text-align: right;\n",
       "    }\n",
       "</style>\n",
       "<table border=\"1\" class=\"dataframe\">\n",
       "  <thead>\n",
       "    <tr style=\"text-align: right;\">\n",
       "      <th></th>\n",
       "      <th>a</th>\n",
       "      <th>b</th>\n",
       "      <th>d</th>\n",
       "    </tr>\n",
       "    <tr>\n",
       "      <th>c</th>\n",
       "      <th></th>\n",
       "      <th></th>\n",
       "      <th></th>\n",
       "    </tr>\n",
       "  </thead>\n",
       "  <tbody>\n",
       "    <tr>\n",
       "      <th>z</th>\n",
       "      <td>bar</td>\n",
       "      <td>one</td>\n",
       "      <td>1.0</td>\n",
       "    </tr>\n",
       "    <tr>\n",
       "      <th>y</th>\n",
       "      <td>bar</td>\n",
       "      <td>two</td>\n",
       "      <td>2.0</td>\n",
       "    </tr>\n",
       "    <tr>\n",
       "      <th>x</th>\n",
       "      <td>foo</td>\n",
       "      <td>one</td>\n",
       "      <td>3.0</td>\n",
       "    </tr>\n",
       "    <tr>\n",
       "      <th>w</th>\n",
       "      <td>foo</td>\n",
       "      <td>two</td>\n",
       "      <td>4.0</td>\n",
       "    </tr>\n",
       "  </tbody>\n",
       "</table>\n",
       "</div>"
      ],
      "text/plain": [
       "     a    b    d\n",
       "c               \n",
       "z  bar  one  1.0\n",
       "y  bar  two  2.0\n",
       "x  foo  one  3.0\n",
       "w  foo  two  4.0"
      ]
     },
     "execution_count": 167,
     "metadata": {},
     "output_type": "execute_result"
    }
   ],
   "source": [
    "indexed1 = data.set_index('c')\n",
    "indexed1"
   ]
  },
  {
   "cell_type": "code",
   "execution_count": 168,
   "id": "6775d9a5-0607-427c-95fb-4364f9eaefd6",
   "metadata": {},
   "outputs": [
    {
     "data": {
      "text/html": [
       "<div>\n",
       "<style scoped>\n",
       "    .dataframe tbody tr th:only-of-type {\n",
       "        vertical-align: middle;\n",
       "    }\n",
       "\n",
       "    .dataframe tbody tr th {\n",
       "        vertical-align: top;\n",
       "    }\n",
       "\n",
       "    .dataframe thead th {\n",
       "        text-align: right;\n",
       "    }\n",
       "</style>\n",
       "<table border=\"1\" class=\"dataframe\">\n",
       "  <thead>\n",
       "    <tr style=\"text-align: right;\">\n",
       "      <th></th>\n",
       "      <th></th>\n",
       "      <th>c</th>\n",
       "      <th>d</th>\n",
       "    </tr>\n",
       "    <tr>\n",
       "      <th>a</th>\n",
       "      <th>b</th>\n",
       "      <th></th>\n",
       "      <th></th>\n",
       "    </tr>\n",
       "  </thead>\n",
       "  <tbody>\n",
       "    <tr>\n",
       "      <th rowspan=\"2\" valign=\"top\">bar</th>\n",
       "      <th>one</th>\n",
       "      <td>z</td>\n",
       "      <td>1.0</td>\n",
       "    </tr>\n",
       "    <tr>\n",
       "      <th>two</th>\n",
       "      <td>y</td>\n",
       "      <td>2.0</td>\n",
       "    </tr>\n",
       "    <tr>\n",
       "      <th rowspan=\"2\" valign=\"top\">foo</th>\n",
       "      <th>one</th>\n",
       "      <td>x</td>\n",
       "      <td>3.0</td>\n",
       "    </tr>\n",
       "    <tr>\n",
       "      <th>two</th>\n",
       "      <td>w</td>\n",
       "      <td>4.0</td>\n",
       "    </tr>\n",
       "  </tbody>\n",
       "</table>\n",
       "</div>"
      ],
      "text/plain": [
       "         c    d\n",
       "a   b          \n",
       "bar one  z  1.0\n",
       "    two  y  2.0\n",
       "foo one  x  3.0\n",
       "    two  w  4.0"
      ]
     },
     "execution_count": 168,
     "metadata": {},
     "output_type": "execute_result"
    }
   ],
   "source": [
    "data.set_index(['a', 'b'])"
   ]
  },
  {
   "cell_type": "code",
   "execution_count": 169,
   "id": "0b878b4c-20e2-447b-a287-2cd070d38228",
   "metadata": {},
   "outputs": [
    {
     "data": {
      "text/html": [
       "<div>\n",
       "<style scoped>\n",
       "    .dataframe tbody tr th:only-of-type {\n",
       "        vertical-align: middle;\n",
       "    }\n",
       "\n",
       "    .dataframe tbody tr th {\n",
       "        vertical-align: top;\n",
       "    }\n",
       "\n",
       "    .dataframe thead th {\n",
       "        text-align: right;\n",
       "    }\n",
       "</style>\n",
       "<table border=\"1\" class=\"dataframe\">\n",
       "  <thead>\n",
       "    <tr style=\"text-align: right;\">\n",
       "      <th></th>\n",
       "      <th>a</th>\n",
       "      <th>b</th>\n",
       "      <th>c</th>\n",
       "      <th>d</th>\n",
       "    </tr>\n",
       "  </thead>\n",
       "  <tbody>\n",
       "    <tr>\n",
       "      <th>0</th>\n",
       "      <td>bar</td>\n",
       "      <td>one</td>\n",
       "      <td>z</td>\n",
       "      <td>1.0</td>\n",
       "    </tr>\n",
       "    <tr>\n",
       "      <th>1</th>\n",
       "      <td>bar</td>\n",
       "      <td>two</td>\n",
       "      <td>y</td>\n",
       "      <td>2.0</td>\n",
       "    </tr>\n",
       "    <tr>\n",
       "      <th>2</th>\n",
       "      <td>foo</td>\n",
       "      <td>one</td>\n",
       "      <td>x</td>\n",
       "      <td>3.0</td>\n",
       "    </tr>\n",
       "    <tr>\n",
       "      <th>3</th>\n",
       "      <td>foo</td>\n",
       "      <td>two</td>\n",
       "      <td>w</td>\n",
       "      <td>4.0</td>\n",
       "    </tr>\n",
       "  </tbody>\n",
       "</table>\n",
       "</div>"
      ],
      "text/plain": [
       "     a    b  c    d\n",
       "0  bar  one  z  1.0\n",
       "1  bar  two  y  2.0\n",
       "2  foo  one  x  3.0\n",
       "3  foo  two  w  4.0"
      ]
     },
     "execution_count": 169,
     "metadata": {},
     "output_type": "execute_result"
    }
   ],
   "source": [
    "data"
   ]
  },
  {
   "cell_type": "code",
   "execution_count": 170,
   "id": "de69bc67-7be4-46c5-acab-f265fa285097",
   "metadata": {},
   "outputs": [
    {
     "data": {
      "text/html": [
       "<div>\n",
       "<style scoped>\n",
       "    .dataframe tbody tr th:only-of-type {\n",
       "        vertical-align: middle;\n",
       "    }\n",
       "\n",
       "    .dataframe tbody tr th {\n",
       "        vertical-align: top;\n",
       "    }\n",
       "\n",
       "    .dataframe thead th {\n",
       "        text-align: right;\n",
       "    }\n",
       "</style>\n",
       "<table border=\"1\" class=\"dataframe\">\n",
       "  <thead>\n",
       "    <tr style=\"text-align: right;\">\n",
       "      <th></th>\n",
       "      <th>a</th>\n",
       "      <th>b</th>\n",
       "      <th>c</th>\n",
       "      <th>d</th>\n",
       "    </tr>\n",
       "    <tr>\n",
       "      <th>c</th>\n",
       "      <th></th>\n",
       "      <th></th>\n",
       "      <th></th>\n",
       "      <th></th>\n",
       "    </tr>\n",
       "  </thead>\n",
       "  <tbody>\n",
       "    <tr>\n",
       "      <th>z</th>\n",
       "      <td>bar</td>\n",
       "      <td>one</td>\n",
       "      <td>z</td>\n",
       "      <td>1.0</td>\n",
       "    </tr>\n",
       "    <tr>\n",
       "      <th>y</th>\n",
       "      <td>bar</td>\n",
       "      <td>two</td>\n",
       "      <td>y</td>\n",
       "      <td>2.0</td>\n",
       "    </tr>\n",
       "    <tr>\n",
       "      <th>x</th>\n",
       "      <td>foo</td>\n",
       "      <td>one</td>\n",
       "      <td>x</td>\n",
       "      <td>3.0</td>\n",
       "    </tr>\n",
       "    <tr>\n",
       "      <th>w</th>\n",
       "      <td>foo</td>\n",
       "      <td>two</td>\n",
       "      <td>w</td>\n",
       "      <td>4.0</td>\n",
       "    </tr>\n",
       "  </tbody>\n",
       "</table>\n",
       "</div>"
      ],
      "text/plain": [
       "     a    b  c    d\n",
       "c                  \n",
       "z  bar  one  z  1.0\n",
       "y  bar  two  y  2.0\n",
       "x  foo  one  x  3.0\n",
       "w  foo  two  w  4.0"
      ]
     },
     "execution_count": 170,
     "metadata": {},
     "output_type": "execute_result"
    }
   ],
   "source": [
    "data.set_index('c', drop=False)"
   ]
  },
  {
   "cell_type": "code",
   "execution_count": 175,
   "id": "d5fc682c-4b96-453a-a373-f1d5fe4d5a03",
   "metadata": {},
   "outputs": [],
   "source": [
    "data.set_index(['a', 'b'], inplace=True)"
   ]
  },
  {
   "cell_type": "code",
   "execution_count": 177,
   "id": "b18e1d1f-abd0-4a94-afdf-c2d7bee29377",
   "metadata": {},
   "outputs": [
    {
     "data": {
      "text/html": [
       "<div>\n",
       "<style scoped>\n",
       "    .dataframe tbody tr th:only-of-type {\n",
       "        vertical-align: middle;\n",
       "    }\n",
       "\n",
       "    .dataframe tbody tr th {\n",
       "        vertical-align: top;\n",
       "    }\n",
       "\n",
       "    .dataframe thead th {\n",
       "        text-align: right;\n",
       "    }\n",
       "</style>\n",
       "<table border=\"1\" class=\"dataframe\">\n",
       "  <thead>\n",
       "    <tr style=\"text-align: right;\">\n",
       "      <th></th>\n",
       "      <th>b</th>\n",
       "      <th>c</th>\n",
       "      <th>d</th>\n",
       "    </tr>\n",
       "    <tr>\n",
       "      <th>a</th>\n",
       "      <th></th>\n",
       "      <th></th>\n",
       "      <th></th>\n",
       "    </tr>\n",
       "  </thead>\n",
       "  <tbody>\n",
       "    <tr>\n",
       "      <th>bar</th>\n",
       "      <td>one</td>\n",
       "      <td>z</td>\n",
       "      <td>1.0</td>\n",
       "    </tr>\n",
       "    <tr>\n",
       "      <th>bar</th>\n",
       "      <td>two</td>\n",
       "      <td>y</td>\n",
       "      <td>2.0</td>\n",
       "    </tr>\n",
       "    <tr>\n",
       "      <th>foo</th>\n",
       "      <td>one</td>\n",
       "      <td>x</td>\n",
       "      <td>3.0</td>\n",
       "    </tr>\n",
       "    <tr>\n",
       "      <th>foo</th>\n",
       "      <td>two</td>\n",
       "      <td>w</td>\n",
       "      <td>4.0</td>\n",
       "    </tr>\n",
       "  </tbody>\n",
       "</table>\n",
       "</div>"
      ],
      "text/plain": [
       "       b  c    d\n",
       "a               \n",
       "bar  one  z  1.0\n",
       "bar  two  y  2.0\n",
       "foo  one  x  3.0\n",
       "foo  two  w  4.0"
      ]
     },
     "execution_count": 177,
     "metadata": {},
     "output_type": "execute_result"
    }
   ],
   "source": [
    "data.reset_index(level = 1)"
   ]
  },
  {
   "cell_type": "code",
   "execution_count": 236,
   "id": "dfb6e3bf-b357-4bf8-86ca-c48493e382f5",
   "metadata": {},
   "outputs": [
    {
     "data": {
      "text/html": [
       "<div>\n",
       "<style scoped>\n",
       "    .dataframe tbody tr th:only-of-type {\n",
       "        vertical-align: middle;\n",
       "    }\n",
       "\n",
       "    .dataframe tbody tr th {\n",
       "        vertical-align: top;\n",
       "    }\n",
       "\n",
       "    .dataframe thead th {\n",
       "        text-align: right;\n",
       "    }\n",
       "</style>\n",
       "<table border=\"1\" class=\"dataframe\">\n",
       "  <thead>\n",
       "    <tr style=\"text-align: right;\">\n",
       "      <th></th>\n",
       "      <th>A</th>\n",
       "      <th>B</th>\n",
       "      <th>C</th>\n",
       "      <th>D</th>\n",
       "    </tr>\n",
       "  </thead>\n",
       "  <tbody>\n",
       "    <tr>\n",
       "      <th>9</th>\n",
       "      <td>0.249768</td>\n",
       "      <td>0.587926</td>\n",
       "      <td>0.787779</td>\n",
       "      <td>0.692166</td>\n",
       "    </tr>\n",
       "    <tr>\n",
       "      <th>8</th>\n",
       "      <td>0.415833</td>\n",
       "      <td>0.477030</td>\n",
       "      <td>0.294153</td>\n",
       "      <td>0.808217</td>\n",
       "    </tr>\n",
       "    <tr>\n",
       "      <th>7</th>\n",
       "      <td>0.207671</td>\n",
       "      <td>0.398327</td>\n",
       "      <td>0.143084</td>\n",
       "      <td>0.173922</td>\n",
       "    </tr>\n",
       "    <tr>\n",
       "      <th>6</th>\n",
       "      <td>0.732162</td>\n",
       "      <td>0.211605</td>\n",
       "      <td>0.128542</td>\n",
       "      <td>0.950932</td>\n",
       "    </tr>\n",
       "    <tr>\n",
       "      <th>5</th>\n",
       "      <td>0.599208</td>\n",
       "      <td>0.426189</td>\n",
       "      <td>0.225376</td>\n",
       "      <td>0.082938</td>\n",
       "    </tr>\n",
       "    <tr>\n",
       "      <th>4</th>\n",
       "      <td>0.279166</td>\n",
       "      <td>0.800622</td>\n",
       "      <td>0.006861</td>\n",
       "      <td>0.045711</td>\n",
       "    </tr>\n",
       "    <tr>\n",
       "      <th>3</th>\n",
       "      <td>0.629184</td>\n",
       "      <td>0.682760</td>\n",
       "      <td>0.686305</td>\n",
       "      <td>0.631343</td>\n",
       "    </tr>\n",
       "    <tr>\n",
       "      <th>2</th>\n",
       "      <td>0.135509</td>\n",
       "      <td>0.649990</td>\n",
       "      <td>0.358425</td>\n",
       "      <td>0.286946</td>\n",
       "    </tr>\n",
       "    <tr>\n",
       "      <th>1</th>\n",
       "      <td>0.406620</td>\n",
       "      <td>0.601093</td>\n",
       "      <td>0.023405</td>\n",
       "      <td>0.937039</td>\n",
       "    </tr>\n",
       "    <tr>\n",
       "      <th>0</th>\n",
       "      <td>0.362735</td>\n",
       "      <td>0.683116</td>\n",
       "      <td>0.739503</td>\n",
       "      <td>0.708147</td>\n",
       "    </tr>\n",
       "  </tbody>\n",
       "</table>\n",
       "</div>"
      ],
      "text/plain": [
       "          A         B         C         D\n",
       "9  0.249768  0.587926  0.787779  0.692166\n",
       "8  0.415833  0.477030  0.294153  0.808217\n",
       "7  0.207671  0.398327  0.143084  0.173922\n",
       "6  0.732162  0.211605  0.128542  0.950932\n",
       "5  0.599208  0.426189  0.225376  0.082938\n",
       "4  0.279166  0.800622  0.006861  0.045711\n",
       "3  0.629184  0.682760  0.686305  0.631343\n",
       "2  0.135509  0.649990  0.358425  0.286946\n",
       "1  0.406620  0.601093  0.023405  0.937039\n",
       "0  0.362735  0.683116  0.739503  0.708147"
      ]
     },
     "execution_count": 236,
     "metadata": {},
     "output_type": "execute_result"
    }
   ],
   "source": [
    "df = pd.DataFrame(np.random.rand(10, 4), index=np.arange(10)[::-1], columns=list('ABCD'))\n",
    "df"
   ]
  },
  {
   "cell_type": "code",
   "execution_count": 237,
   "id": "116abbea-3645-4232-9531-e82187c10b0a",
   "metadata": {},
   "outputs": [
    {
     "data": {
      "text/html": [
       "<div>\n",
       "<style scoped>\n",
       "    .dataframe tbody tr th:only-of-type {\n",
       "        vertical-align: middle;\n",
       "    }\n",
       "\n",
       "    .dataframe tbody tr th {\n",
       "        vertical-align: top;\n",
       "    }\n",
       "\n",
       "    .dataframe thead th {\n",
       "        text-align: right;\n",
       "    }\n",
       "</style>\n",
       "<table border=\"1\" class=\"dataframe\">\n",
       "  <thead>\n",
       "    <tr style=\"text-align: right;\">\n",
       "      <th></th>\n",
       "      <th>col1</th>\n",
       "      <th>col2</th>\n",
       "      <th>col3</th>\n",
       "      <th>col4</th>\n",
       "    </tr>\n",
       "  </thead>\n",
       "  <tbody>\n",
       "    <tr>\n",
       "      <th>9</th>\n",
       "      <td>0.249768</td>\n",
       "      <td>0.587926</td>\n",
       "      <td>0.787779</td>\n",
       "      <td>0.692166</td>\n",
       "    </tr>\n",
       "    <tr>\n",
       "      <th>8</th>\n",
       "      <td>0.415833</td>\n",
       "      <td>0.477030</td>\n",
       "      <td>0.294153</td>\n",
       "      <td>0.808217</td>\n",
       "    </tr>\n",
       "    <tr>\n",
       "      <th>7</th>\n",
       "      <td>0.207671</td>\n",
       "      <td>0.398327</td>\n",
       "      <td>0.143084</td>\n",
       "      <td>0.173922</td>\n",
       "    </tr>\n",
       "    <tr>\n",
       "      <th>6</th>\n",
       "      <td>0.732162</td>\n",
       "      <td>0.211605</td>\n",
       "      <td>0.128542</td>\n",
       "      <td>0.950932</td>\n",
       "    </tr>\n",
       "    <tr>\n",
       "      <th>5</th>\n",
       "      <td>0.599208</td>\n",
       "      <td>0.426189</td>\n",
       "      <td>0.225376</td>\n",
       "      <td>0.082938</td>\n",
       "    </tr>\n",
       "    <tr>\n",
       "      <th>4</th>\n",
       "      <td>0.279166</td>\n",
       "      <td>0.800622</td>\n",
       "      <td>0.006861</td>\n",
       "      <td>0.045711</td>\n",
       "    </tr>\n",
       "    <tr>\n",
       "      <th>3</th>\n",
       "      <td>0.629184</td>\n",
       "      <td>0.682760</td>\n",
       "      <td>0.686305</td>\n",
       "      <td>0.631343</td>\n",
       "    </tr>\n",
       "    <tr>\n",
       "      <th>2</th>\n",
       "      <td>0.135509</td>\n",
       "      <td>0.649990</td>\n",
       "      <td>0.358425</td>\n",
       "      <td>0.286946</td>\n",
       "    </tr>\n",
       "    <tr>\n",
       "      <th>1</th>\n",
       "      <td>0.406620</td>\n",
       "      <td>0.601093</td>\n",
       "      <td>0.023405</td>\n",
       "      <td>0.937039</td>\n",
       "    </tr>\n",
       "    <tr>\n",
       "      <th>0</th>\n",
       "      <td>0.362735</td>\n",
       "      <td>0.683116</td>\n",
       "      <td>0.739503</td>\n",
       "      <td>0.708147</td>\n",
       "    </tr>\n",
       "  </tbody>\n",
       "</table>\n",
       "</div>"
      ],
      "text/plain": [
       "       col1      col2      col3      col4\n",
       "9  0.249768  0.587926  0.787779  0.692166\n",
       "8  0.415833  0.477030  0.294153  0.808217\n",
       "7  0.207671  0.398327  0.143084  0.173922\n",
       "6  0.732162  0.211605  0.128542  0.950932\n",
       "5  0.599208  0.426189  0.225376  0.082938\n",
       "4  0.279166  0.800622  0.006861  0.045711\n",
       "3  0.629184  0.682760  0.686305  0.631343\n",
       "2  0.135509  0.649990  0.358425  0.286946\n",
       "1  0.406620  0.601093  0.023405  0.937039\n",
       "0  0.362735  0.683116  0.739503  0.708147"
      ]
     },
     "execution_count": 237,
     "metadata": {},
     "output_type": "execute_result"
    }
   ],
   "source": [
    "df.rename({'A': 'col1', 'B': 'col2', 'C': 'col3', 'D': 'col4'}, axis=1)\n",
    "# df.rename({'one': 'foo', 'two': 'bar'}, axis=1)"
   ]
  },
  {
   "cell_type": "code",
   "execution_count": 238,
   "id": "585aedf2-9fa1-4a2a-947a-453e185d671d",
   "metadata": {},
   "outputs": [],
   "source": [
    "df = df.reset_index()"
   ]
  },
  {
   "cell_type": "code",
   "execution_count": 239,
   "id": "fa2ae232-3b15-4a4f-b2bb-daa91a5ea69d",
   "metadata": {},
   "outputs": [
    {
     "data": {
      "text/html": [
       "<div>\n",
       "<style scoped>\n",
       "    .dataframe tbody tr th:only-of-type {\n",
       "        vertical-align: middle;\n",
       "    }\n",
       "\n",
       "    .dataframe tbody tr th {\n",
       "        vertical-align: top;\n",
       "    }\n",
       "\n",
       "    .dataframe thead th {\n",
       "        text-align: right;\n",
       "    }\n",
       "</style>\n",
       "<table border=\"1\" class=\"dataframe\">\n",
       "  <thead>\n",
       "    <tr style=\"text-align: right;\">\n",
       "      <th></th>\n",
       "      <th>index</th>\n",
       "      <th>A</th>\n",
       "      <th>B</th>\n",
       "      <th>C</th>\n",
       "      <th>D</th>\n",
       "    </tr>\n",
       "  </thead>\n",
       "  <tbody>\n",
       "    <tr>\n",
       "      <th>0</th>\n",
       "      <td>9</td>\n",
       "      <td>0.249768</td>\n",
       "      <td>0.587926</td>\n",
       "      <td>0.787779</td>\n",
       "      <td>0.692166</td>\n",
       "    </tr>\n",
       "    <tr>\n",
       "      <th>1</th>\n",
       "      <td>8</td>\n",
       "      <td>0.415833</td>\n",
       "      <td>0.477030</td>\n",
       "      <td>0.294153</td>\n",
       "      <td>0.808217</td>\n",
       "    </tr>\n",
       "    <tr>\n",
       "      <th>2</th>\n",
       "      <td>7</td>\n",
       "      <td>0.207671</td>\n",
       "      <td>0.398327</td>\n",
       "      <td>0.143084</td>\n",
       "      <td>0.173922</td>\n",
       "    </tr>\n",
       "    <tr>\n",
       "      <th>3</th>\n",
       "      <td>6</td>\n",
       "      <td>0.732162</td>\n",
       "      <td>0.211605</td>\n",
       "      <td>0.128542</td>\n",
       "      <td>0.950932</td>\n",
       "    </tr>\n",
       "    <tr>\n",
       "      <th>4</th>\n",
       "      <td>5</td>\n",
       "      <td>0.599208</td>\n",
       "      <td>0.426189</td>\n",
       "      <td>0.225376</td>\n",
       "      <td>0.082938</td>\n",
       "    </tr>\n",
       "    <tr>\n",
       "      <th>5</th>\n",
       "      <td>4</td>\n",
       "      <td>0.279166</td>\n",
       "      <td>0.800622</td>\n",
       "      <td>0.006861</td>\n",
       "      <td>0.045711</td>\n",
       "    </tr>\n",
       "    <tr>\n",
       "      <th>6</th>\n",
       "      <td>3</td>\n",
       "      <td>0.629184</td>\n",
       "      <td>0.682760</td>\n",
       "      <td>0.686305</td>\n",
       "      <td>0.631343</td>\n",
       "    </tr>\n",
       "    <tr>\n",
       "      <th>7</th>\n",
       "      <td>2</td>\n",
       "      <td>0.135509</td>\n",
       "      <td>0.649990</td>\n",
       "      <td>0.358425</td>\n",
       "      <td>0.286946</td>\n",
       "    </tr>\n",
       "    <tr>\n",
       "      <th>8</th>\n",
       "      <td>1</td>\n",
       "      <td>0.406620</td>\n",
       "      <td>0.601093</td>\n",
       "      <td>0.023405</td>\n",
       "      <td>0.937039</td>\n",
       "    </tr>\n",
       "    <tr>\n",
       "      <th>9</th>\n",
       "      <td>0</td>\n",
       "      <td>0.362735</td>\n",
       "      <td>0.683116</td>\n",
       "      <td>0.739503</td>\n",
       "      <td>0.708147</td>\n",
       "    </tr>\n",
       "  </tbody>\n",
       "</table>\n",
       "</div>"
      ],
      "text/plain": [
       "   index         A         B         C         D\n",
       "0      9  0.249768  0.587926  0.787779  0.692166\n",
       "1      8  0.415833  0.477030  0.294153  0.808217\n",
       "2      7  0.207671  0.398327  0.143084  0.173922\n",
       "3      6  0.732162  0.211605  0.128542  0.950932\n",
       "4      5  0.599208  0.426189  0.225376  0.082938\n",
       "5      4  0.279166  0.800622  0.006861  0.045711\n",
       "6      3  0.629184  0.682760  0.686305  0.631343\n",
       "7      2  0.135509  0.649990  0.358425  0.286946\n",
       "8      1  0.406620  0.601093  0.023405  0.937039\n",
       "9      0  0.362735  0.683116  0.739503  0.708147"
      ]
     },
     "execution_count": 239,
     "metadata": {},
     "output_type": "execute_result"
    }
   ],
   "source": [
    "df"
   ]
  },
  {
   "cell_type": "code",
   "execution_count": 241,
   "id": "fcf5c43f-57d1-4bfe-83ff-0b5d03d46d95",
   "metadata": {},
   "outputs": [
    {
     "data": {
      "text/html": [
       "<div>\n",
       "<style scoped>\n",
       "    .dataframe tbody tr th:only-of-type {\n",
       "        vertical-align: middle;\n",
       "    }\n",
       "\n",
       "    .dataframe tbody tr th {\n",
       "        vertical-align: top;\n",
       "    }\n",
       "\n",
       "    .dataframe thead th {\n",
       "        text-align: right;\n",
       "    }\n",
       "</style>\n",
       "<table border=\"1\" class=\"dataframe\">\n",
       "  <thead>\n",
       "    <tr style=\"text-align: right;\">\n",
       "      <th></th>\n",
       "      <th>Col1</th>\n",
       "      <th>A</th>\n",
       "      <th>B</th>\n",
       "      <th>C</th>\n",
       "      <th>D</th>\n",
       "    </tr>\n",
       "  </thead>\n",
       "  <tbody>\n",
       "    <tr>\n",
       "      <th>0</th>\n",
       "      <td>9</td>\n",
       "      <td>0.249768</td>\n",
       "      <td>0.587926</td>\n",
       "      <td>0.787779</td>\n",
       "      <td>0.692166</td>\n",
       "    </tr>\n",
       "    <tr>\n",
       "      <th>1</th>\n",
       "      <td>8</td>\n",
       "      <td>0.415833</td>\n",
       "      <td>0.477030</td>\n",
       "      <td>0.294153</td>\n",
       "      <td>0.808217</td>\n",
       "    </tr>\n",
       "    <tr>\n",
       "      <th>2</th>\n",
       "      <td>7</td>\n",
       "      <td>0.207671</td>\n",
       "      <td>0.398327</td>\n",
       "      <td>0.143084</td>\n",
       "      <td>0.173922</td>\n",
       "    </tr>\n",
       "    <tr>\n",
       "      <th>3</th>\n",
       "      <td>6</td>\n",
       "      <td>0.732162</td>\n",
       "      <td>0.211605</td>\n",
       "      <td>0.128542</td>\n",
       "      <td>0.950932</td>\n",
       "    </tr>\n",
       "    <tr>\n",
       "      <th>4</th>\n",
       "      <td>5</td>\n",
       "      <td>0.599208</td>\n",
       "      <td>0.426189</td>\n",
       "      <td>0.225376</td>\n",
       "      <td>0.082938</td>\n",
       "    </tr>\n",
       "    <tr>\n",
       "      <th>5</th>\n",
       "      <td>4</td>\n",
       "      <td>0.279166</td>\n",
       "      <td>0.800622</td>\n",
       "      <td>0.006861</td>\n",
       "      <td>0.045711</td>\n",
       "    </tr>\n",
       "    <tr>\n",
       "      <th>6</th>\n",
       "      <td>3</td>\n",
       "      <td>0.629184</td>\n",
       "      <td>0.682760</td>\n",
       "      <td>0.686305</td>\n",
       "      <td>0.631343</td>\n",
       "    </tr>\n",
       "    <tr>\n",
       "      <th>7</th>\n",
       "      <td>2</td>\n",
       "      <td>0.135509</td>\n",
       "      <td>0.649990</td>\n",
       "      <td>0.358425</td>\n",
       "      <td>0.286946</td>\n",
       "    </tr>\n",
       "    <tr>\n",
       "      <th>8</th>\n",
       "      <td>1</td>\n",
       "      <td>0.406620</td>\n",
       "      <td>0.601093</td>\n",
       "      <td>0.023405</td>\n",
       "      <td>0.937039</td>\n",
       "    </tr>\n",
       "    <tr>\n",
       "      <th>9</th>\n",
       "      <td>0</td>\n",
       "      <td>0.362735</td>\n",
       "      <td>0.683116</td>\n",
       "      <td>0.739503</td>\n",
       "      <td>0.708147</td>\n",
       "    </tr>\n",
       "  </tbody>\n",
       "</table>\n",
       "</div>"
      ],
      "text/plain": [
       "   Col1         A         B         C         D\n",
       "0     9  0.249768  0.587926  0.787779  0.692166\n",
       "1     8  0.415833  0.477030  0.294153  0.808217\n",
       "2     7  0.207671  0.398327  0.143084  0.173922\n",
       "3     6  0.732162  0.211605  0.128542  0.950932\n",
       "4     5  0.599208  0.426189  0.225376  0.082938\n",
       "5     4  0.279166  0.800622  0.006861  0.045711\n",
       "6     3  0.629184  0.682760  0.686305  0.631343\n",
       "7     2  0.135509  0.649990  0.358425  0.286946\n",
       "8     1  0.406620  0.601093  0.023405  0.937039\n",
       "9     0  0.362735  0.683116  0.739503  0.708147"
      ]
     },
     "execution_count": 241,
     "metadata": {},
     "output_type": "execute_result"
    }
   ],
   "source": [
    "df.rename({'index' : 'Col1'}, axis=1)"
   ]
  },
  {
   "cell_type": "code",
   "execution_count": 243,
   "id": "0d676b6c-8346-41ed-90f3-e4ee40d63fc8",
   "metadata": {},
   "outputs": [],
   "source": [
    "df.columns.name = 'Columns'"
   ]
  },
  {
   "cell_type": "code",
   "execution_count": 244,
   "id": "dca07112-fc40-4896-8bb2-3f6698ce1c6f",
   "metadata": {},
   "outputs": [],
   "source": [
    "df.index.name = 'Index'"
   ]
  },
  {
   "cell_type": "code",
   "execution_count": 245,
   "id": "d45238fe-9485-436b-9738-2e86043aa15d",
   "metadata": {},
   "outputs": [
    {
     "data": {
      "text/html": [
       "<div>\n",
       "<style scoped>\n",
       "    .dataframe tbody tr th:only-of-type {\n",
       "        vertical-align: middle;\n",
       "    }\n",
       "\n",
       "    .dataframe tbody tr th {\n",
       "        vertical-align: top;\n",
       "    }\n",
       "\n",
       "    .dataframe thead th {\n",
       "        text-align: right;\n",
       "    }\n",
       "</style>\n",
       "<table border=\"1\" class=\"dataframe\">\n",
       "  <thead>\n",
       "    <tr style=\"text-align: right;\">\n",
       "      <th>Columns</th>\n",
       "      <th>index</th>\n",
       "      <th>A</th>\n",
       "      <th>B</th>\n",
       "      <th>C</th>\n",
       "      <th>D</th>\n",
       "    </tr>\n",
       "    <tr>\n",
       "      <th>Index</th>\n",
       "      <th></th>\n",
       "      <th></th>\n",
       "      <th></th>\n",
       "      <th></th>\n",
       "      <th></th>\n",
       "    </tr>\n",
       "  </thead>\n",
       "  <tbody>\n",
       "    <tr>\n",
       "      <th>0</th>\n",
       "      <td>9</td>\n",
       "      <td>0.249768</td>\n",
       "      <td>0.587926</td>\n",
       "      <td>0.787779</td>\n",
       "      <td>0.692166</td>\n",
       "    </tr>\n",
       "    <tr>\n",
       "      <th>1</th>\n",
       "      <td>8</td>\n",
       "      <td>0.415833</td>\n",
       "      <td>0.477030</td>\n",
       "      <td>0.294153</td>\n",
       "      <td>0.808217</td>\n",
       "    </tr>\n",
       "    <tr>\n",
       "      <th>2</th>\n",
       "      <td>7</td>\n",
       "      <td>0.207671</td>\n",
       "      <td>0.398327</td>\n",
       "      <td>0.143084</td>\n",
       "      <td>0.173922</td>\n",
       "    </tr>\n",
       "    <tr>\n",
       "      <th>3</th>\n",
       "      <td>6</td>\n",
       "      <td>0.732162</td>\n",
       "      <td>0.211605</td>\n",
       "      <td>0.128542</td>\n",
       "      <td>0.950932</td>\n",
       "    </tr>\n",
       "    <tr>\n",
       "      <th>4</th>\n",
       "      <td>5</td>\n",
       "      <td>0.599208</td>\n",
       "      <td>0.426189</td>\n",
       "      <td>0.225376</td>\n",
       "      <td>0.082938</td>\n",
       "    </tr>\n",
       "    <tr>\n",
       "      <th>5</th>\n",
       "      <td>4</td>\n",
       "      <td>0.279166</td>\n",
       "      <td>0.800622</td>\n",
       "      <td>0.006861</td>\n",
       "      <td>0.045711</td>\n",
       "    </tr>\n",
       "    <tr>\n",
       "      <th>6</th>\n",
       "      <td>3</td>\n",
       "      <td>0.629184</td>\n",
       "      <td>0.682760</td>\n",
       "      <td>0.686305</td>\n",
       "      <td>0.631343</td>\n",
       "    </tr>\n",
       "    <tr>\n",
       "      <th>7</th>\n",
       "      <td>2</td>\n",
       "      <td>0.135509</td>\n",
       "      <td>0.649990</td>\n",
       "      <td>0.358425</td>\n",
       "      <td>0.286946</td>\n",
       "    </tr>\n",
       "    <tr>\n",
       "      <th>8</th>\n",
       "      <td>1</td>\n",
       "      <td>0.406620</td>\n",
       "      <td>0.601093</td>\n",
       "      <td>0.023405</td>\n",
       "      <td>0.937039</td>\n",
       "    </tr>\n",
       "    <tr>\n",
       "      <th>9</th>\n",
       "      <td>0</td>\n",
       "      <td>0.362735</td>\n",
       "      <td>0.683116</td>\n",
       "      <td>0.739503</td>\n",
       "      <td>0.708147</td>\n",
       "    </tr>\n",
       "  </tbody>\n",
       "</table>\n",
       "</div>"
      ],
      "text/plain": [
       "Columns  index         A         B         C         D\n",
       "Index                                                 \n",
       "0            9  0.249768  0.587926  0.787779  0.692166\n",
       "1            8  0.415833  0.477030  0.294153  0.808217\n",
       "2            7  0.207671  0.398327  0.143084  0.173922\n",
       "3            6  0.732162  0.211605  0.128542  0.950932\n",
       "4            5  0.599208  0.426189  0.225376  0.082938\n",
       "5            4  0.279166  0.800622  0.006861  0.045711\n",
       "6            3  0.629184  0.682760  0.686305  0.631343\n",
       "7            2  0.135509  0.649990  0.358425  0.286946\n",
       "8            1  0.406620  0.601093  0.023405  0.937039\n",
       "9            0  0.362735  0.683116  0.739503  0.708147"
      ]
     },
     "execution_count": 245,
     "metadata": {},
     "output_type": "execute_result"
    }
   ],
   "source": [
    "df"
   ]
  },
  {
   "cell_type": "code",
   "execution_count": 247,
   "id": "b0b32a07-bd38-4b92-a0c2-4457c037590b",
   "metadata": {},
   "outputs": [],
   "source": [
    "df = df.rename({'index': 'Col1'}, axis=1)"
   ]
  },
  {
   "cell_type": "code",
   "execution_count": 248,
   "id": "a2f3a1dc-0af3-420a-84c9-6af8133cd611",
   "metadata": {},
   "outputs": [
    {
     "data": {
      "text/html": [
       "<div>\n",
       "<style scoped>\n",
       "    .dataframe tbody tr th:only-of-type {\n",
       "        vertical-align: middle;\n",
       "    }\n",
       "\n",
       "    .dataframe tbody tr th {\n",
       "        vertical-align: top;\n",
       "    }\n",
       "\n",
       "    .dataframe thead th {\n",
       "        text-align: right;\n",
       "    }\n",
       "</style>\n",
       "<table border=\"1\" class=\"dataframe\">\n",
       "  <thead>\n",
       "    <tr style=\"text-align: right;\">\n",
       "      <th>Columns</th>\n",
       "      <th>Col1</th>\n",
       "      <th>A</th>\n",
       "      <th>B</th>\n",
       "      <th>C</th>\n",
       "      <th>D</th>\n",
       "    </tr>\n",
       "    <tr>\n",
       "      <th>Index</th>\n",
       "      <th></th>\n",
       "      <th></th>\n",
       "      <th></th>\n",
       "      <th></th>\n",
       "      <th></th>\n",
       "    </tr>\n",
       "  </thead>\n",
       "  <tbody>\n",
       "    <tr>\n",
       "      <th>0</th>\n",
       "      <td>9</td>\n",
       "      <td>0.249768</td>\n",
       "      <td>0.587926</td>\n",
       "      <td>0.787779</td>\n",
       "      <td>0.692166</td>\n",
       "    </tr>\n",
       "    <tr>\n",
       "      <th>1</th>\n",
       "      <td>8</td>\n",
       "      <td>0.415833</td>\n",
       "      <td>0.477030</td>\n",
       "      <td>0.294153</td>\n",
       "      <td>0.808217</td>\n",
       "    </tr>\n",
       "    <tr>\n",
       "      <th>2</th>\n",
       "      <td>7</td>\n",
       "      <td>0.207671</td>\n",
       "      <td>0.398327</td>\n",
       "      <td>0.143084</td>\n",
       "      <td>0.173922</td>\n",
       "    </tr>\n",
       "    <tr>\n",
       "      <th>3</th>\n",
       "      <td>6</td>\n",
       "      <td>0.732162</td>\n",
       "      <td>0.211605</td>\n",
       "      <td>0.128542</td>\n",
       "      <td>0.950932</td>\n",
       "    </tr>\n",
       "    <tr>\n",
       "      <th>4</th>\n",
       "      <td>5</td>\n",
       "      <td>0.599208</td>\n",
       "      <td>0.426189</td>\n",
       "      <td>0.225376</td>\n",
       "      <td>0.082938</td>\n",
       "    </tr>\n",
       "    <tr>\n",
       "      <th>5</th>\n",
       "      <td>4</td>\n",
       "      <td>0.279166</td>\n",
       "      <td>0.800622</td>\n",
       "      <td>0.006861</td>\n",
       "      <td>0.045711</td>\n",
       "    </tr>\n",
       "    <tr>\n",
       "      <th>6</th>\n",
       "      <td>3</td>\n",
       "      <td>0.629184</td>\n",
       "      <td>0.682760</td>\n",
       "      <td>0.686305</td>\n",
       "      <td>0.631343</td>\n",
       "    </tr>\n",
       "    <tr>\n",
       "      <th>7</th>\n",
       "      <td>2</td>\n",
       "      <td>0.135509</td>\n",
       "      <td>0.649990</td>\n",
       "      <td>0.358425</td>\n",
       "      <td>0.286946</td>\n",
       "    </tr>\n",
       "    <tr>\n",
       "      <th>8</th>\n",
       "      <td>1</td>\n",
       "      <td>0.406620</td>\n",
       "      <td>0.601093</td>\n",
       "      <td>0.023405</td>\n",
       "      <td>0.937039</td>\n",
       "    </tr>\n",
       "    <tr>\n",
       "      <th>9</th>\n",
       "      <td>0</td>\n",
       "      <td>0.362735</td>\n",
       "      <td>0.683116</td>\n",
       "      <td>0.739503</td>\n",
       "      <td>0.708147</td>\n",
       "    </tr>\n",
       "  </tbody>\n",
       "</table>\n",
       "</div>"
      ],
      "text/plain": [
       "Columns  Col1         A         B         C         D\n",
       "Index                                                \n",
       "0           9  0.249768  0.587926  0.787779  0.692166\n",
       "1           8  0.415833  0.477030  0.294153  0.808217\n",
       "2           7  0.207671  0.398327  0.143084  0.173922\n",
       "3           6  0.732162  0.211605  0.128542  0.950932\n",
       "4           5  0.599208  0.426189  0.225376  0.082938\n",
       "5           4  0.279166  0.800622  0.006861  0.045711\n",
       "6           3  0.629184  0.682760  0.686305  0.631343\n",
       "7           2  0.135509  0.649990  0.358425  0.286946\n",
       "8           1  0.406620  0.601093  0.023405  0.937039\n",
       "9           0  0.362735  0.683116  0.739503  0.708147"
      ]
     },
     "execution_count": 248,
     "metadata": {},
     "output_type": "execute_result"
    }
   ],
   "source": [
    "df"
   ]
  },
  {
   "cell_type": "code",
   "execution_count": 255,
   "id": "ea735780-e777-4db6-a23c-c3890a6e4582",
   "metadata": {},
   "outputs": [],
   "source": [
    "dfb = pd.DataFrame({'a': ['one', 'one', 'two',\n",
    "                          'three', 'two', 'one', 'six'],\n",
    "                    'c': np.arange(7)})"
   ]
  },
  {
   "cell_type": "code",
   "execution_count": 256,
   "id": "758bfd3c-6127-414b-8516-8f15c4b70aba",
   "metadata": {},
   "outputs": [
    {
     "data": {
      "text/html": [
       "<div>\n",
       "<style scoped>\n",
       "    .dataframe tbody tr th:only-of-type {\n",
       "        vertical-align: middle;\n",
       "    }\n",
       "\n",
       "    .dataframe tbody tr th {\n",
       "        vertical-align: top;\n",
       "    }\n",
       "\n",
       "    .dataframe thead th {\n",
       "        text-align: right;\n",
       "    }\n",
       "</style>\n",
       "<table border=\"1\" class=\"dataframe\">\n",
       "  <thead>\n",
       "    <tr style=\"text-align: right;\">\n",
       "      <th></th>\n",
       "      <th>a</th>\n",
       "      <th>c</th>\n",
       "    </tr>\n",
       "  </thead>\n",
       "  <tbody>\n",
       "    <tr>\n",
       "      <th>0</th>\n",
       "      <td>one</td>\n",
       "      <td>0</td>\n",
       "    </tr>\n",
       "    <tr>\n",
       "      <th>1</th>\n",
       "      <td>one</td>\n",
       "      <td>1</td>\n",
       "    </tr>\n",
       "    <tr>\n",
       "      <th>2</th>\n",
       "      <td>two</td>\n",
       "      <td>2</td>\n",
       "    </tr>\n",
       "    <tr>\n",
       "      <th>3</th>\n",
       "      <td>three</td>\n",
       "      <td>3</td>\n",
       "    </tr>\n",
       "    <tr>\n",
       "      <th>4</th>\n",
       "      <td>two</td>\n",
       "      <td>4</td>\n",
       "    </tr>\n",
       "    <tr>\n",
       "      <th>5</th>\n",
       "      <td>one</td>\n",
       "      <td>5</td>\n",
       "    </tr>\n",
       "    <tr>\n",
       "      <th>6</th>\n",
       "      <td>six</td>\n",
       "      <td>6</td>\n",
       "    </tr>\n",
       "  </tbody>\n",
       "</table>\n",
       "</div>"
      ],
      "text/plain": [
       "       a  c\n",
       "0    one  0\n",
       "1    one  1\n",
       "2    two  2\n",
       "3  three  3\n",
       "4    two  4\n",
       "5    one  5\n",
       "6    six  6"
      ]
     },
     "execution_count": 256,
     "metadata": {},
     "output_type": "execute_result"
    }
   ],
   "source": [
    "dfb"
   ]
  },
  {
   "cell_type": "code",
   "execution_count": 258,
   "id": "2419f8fd-6275-4299-9c36-7334a6648c0d",
   "metadata": {},
   "outputs": [],
   "source": [
    "dfb.loc[dfb['a'].str.startswith('o'), 'c'] = 42"
   ]
  },
  {
   "cell_type": "code",
   "execution_count": 259,
   "id": "d999118e-6c25-44ca-ab40-66debb855cf6",
   "metadata": {},
   "outputs": [
    {
     "data": {
      "text/html": [
       "<div>\n",
       "<style scoped>\n",
       "    .dataframe tbody tr th:only-of-type {\n",
       "        vertical-align: middle;\n",
       "    }\n",
       "\n",
       "    .dataframe tbody tr th {\n",
       "        vertical-align: top;\n",
       "    }\n",
       "\n",
       "    .dataframe thead th {\n",
       "        text-align: right;\n",
       "    }\n",
       "</style>\n",
       "<table border=\"1\" class=\"dataframe\">\n",
       "  <thead>\n",
       "    <tr style=\"text-align: right;\">\n",
       "      <th></th>\n",
       "      <th>a</th>\n",
       "      <th>c</th>\n",
       "    </tr>\n",
       "  </thead>\n",
       "  <tbody>\n",
       "    <tr>\n",
       "      <th>0</th>\n",
       "      <td>one</td>\n",
       "      <td>42</td>\n",
       "    </tr>\n",
       "    <tr>\n",
       "      <th>1</th>\n",
       "      <td>one</td>\n",
       "      <td>42</td>\n",
       "    </tr>\n",
       "    <tr>\n",
       "      <th>2</th>\n",
       "      <td>two</td>\n",
       "      <td>2</td>\n",
       "    </tr>\n",
       "    <tr>\n",
       "      <th>3</th>\n",
       "      <td>three</td>\n",
       "      <td>3</td>\n",
       "    </tr>\n",
       "    <tr>\n",
       "      <th>4</th>\n",
       "      <td>two</td>\n",
       "      <td>4</td>\n",
       "    </tr>\n",
       "    <tr>\n",
       "      <th>5</th>\n",
       "      <td>one</td>\n",
       "      <td>42</td>\n",
       "    </tr>\n",
       "    <tr>\n",
       "      <th>6</th>\n",
       "      <td>six</td>\n",
       "      <td>6</td>\n",
       "    </tr>\n",
       "  </tbody>\n",
       "</table>\n",
       "</div>"
      ],
      "text/plain": [
       "       a   c\n",
       "0    one  42\n",
       "1    one  42\n",
       "2    two   2\n",
       "3  three   3\n",
       "4    two   4\n",
       "5    one  42\n",
       "6    six   6"
      ]
     },
     "execution_count": 259,
     "metadata": {},
     "output_type": "execute_result"
    }
   ],
   "source": [
    "dfb"
   ]
  },
  {
   "cell_type": "code",
   "execution_count": null,
   "id": "425f1847-212a-42e5-805b-8af1dce32869",
   "metadata": {},
   "outputs": [],
   "source": []
  },
  {
   "cell_type": "code",
   "execution_count": null,
   "id": "c4ab8e7f-4f2a-4018-aa46-dc1912a2d6b3",
   "metadata": {},
   "outputs": [],
   "source": []
  },
  {
   "cell_type": "code",
   "execution_count": null,
   "id": "d09806cf-7dfd-4a2a-b7d8-7957d9340850",
   "metadata": {},
   "outputs": [],
   "source": []
  },
  {
   "cell_type": "code",
   "execution_count": null,
   "id": "6488dbab-4e5d-4e21-bf3f-712df051844d",
   "metadata": {},
   "outputs": [],
   "source": []
  },
  {
   "cell_type": "code",
   "execution_count": null,
   "id": "70f34951-656f-4f1f-a5ec-a98259a3e69f",
   "metadata": {},
   "outputs": [],
   "source": []
  },
  {
   "cell_type": "code",
   "execution_count": null,
   "id": "7d6e7919-69f9-474b-bd83-746f304b9acb",
   "metadata": {},
   "outputs": [],
   "source": []
  }
 ],
 "metadata": {
  "kernelspec": {
   "display_name": "Python 3",
   "language": "python",
   "name": "python3"
  },
  "language_info": {
   "codemirror_mode": {
    "name": "ipython",
    "version": 3
   },
   "file_extension": ".py",
   "mimetype": "text/x-python",
   "name": "python",
   "nbconvert_exporter": "python",
   "pygments_lexer": "ipython3",
   "version": "3.7.11"
  }
 },
 "nbformat": 4,
 "nbformat_minor": 5
}
