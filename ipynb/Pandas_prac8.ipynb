{
 "cells": [
  {
   "cell_type": "code",
   "execution_count": 1,
   "id": "23d72c02-279f-45ba-a9c1-2228eac135a5",
   "metadata": {},
   "outputs": [],
   "source": [
    "import numpy as np\n",
    "import pandas as pd"
   ]
  },
  {
   "cell_type": "code",
   "execution_count": 2,
   "id": "d7845138-72c5-403d-a5ac-4335ba726e0f",
   "metadata": {},
   "outputs": [
    {
     "data": {
      "text/plain": [
       "0       2\n",
       "1       3\n",
       "2    <NA>\n",
       "dtype: Int64"
      ]
     },
     "execution_count": 2,
     "metadata": {},
     "output_type": "execute_result"
    }
   ],
   "source": [
    "s = pd.Series([1,2,None], dtype='Int64')\n",
    "s + 1"
   ]
  },
  {
   "cell_type": "code",
   "execution_count": 5,
   "id": "3922fbc6-15a3-4f1d-9c89-62fd94393124",
   "metadata": {},
   "outputs": [
    {
     "data": {
      "text/plain": [
       "0       1\n",
       "1       2\n",
       "2    <NA>\n",
       "dtype: Int64"
      ]
     },
     "execution_count": 5,
     "metadata": {},
     "output_type": "execute_result"
    }
   ],
   "source": [
    "s"
   ]
  },
  {
   "cell_type": "code",
   "execution_count": 4,
   "id": "aec05660-570d-46e6-b7d9-c2e66dc32596",
   "metadata": {},
   "outputs": [
    {
     "data": {
      "text/plain": [
       "1       2\n",
       "2    <NA>\n",
       "dtype: Int64"
      ]
     },
     "execution_count": 4,
     "metadata": {},
     "output_type": "execute_result"
    }
   ],
   "source": [
    "# s ==1\n",
    "s.iloc[1:3]"
   ]
  },
  {
   "cell_type": "code",
   "execution_count": 6,
   "id": "b523258a-d004-46c8-a018-1a78e93e176e",
   "metadata": {},
   "outputs": [
    {
     "data": {
      "text/plain": [
       "0    <NA>\n",
       "1       4\n",
       "2    <NA>\n",
       "dtype: Int64"
      ]
     },
     "execution_count": 6,
     "metadata": {},
     "output_type": "execute_result"
    }
   ],
   "source": [
    "s + s.iloc[1:3].astype('Int8')"
   ]
  },
  {
   "cell_type": "code",
   "execution_count": 7,
   "id": "db5fe03b-8552-4a06-8cb9-ed76209140fd",
   "metadata": {},
   "outputs": [
    {
     "data": {
      "text/plain": [
       "0    1.01\n",
       "1    2.01\n",
       "2    <NA>\n",
       "dtype: Float64"
      ]
     },
     "execution_count": 7,
     "metadata": {},
     "output_type": "execute_result"
    }
   ],
   "source": [
    "s + 0.01"
   ]
  },
  {
   "cell_type": "code",
   "execution_count": 11,
   "id": "96e547e4-244d-4b0d-b3d4-87e3165d2a47",
   "metadata": {},
   "outputs": [
    {
     "data": {
      "text/plain": [
       "(0       1\n",
       " 1       2\n",
       " 2    <NA>\n",
       " Name: A, dtype: Int64,\n",
       "    B  C\n",
       " 0  1  a\n",
       " 1  1  a\n",
       " 2  3  b)"
      ]
     },
     "execution_count": 11,
     "metadata": {},
     "output_type": "execute_result"
    }
   ],
   "source": [
    "df = pd.DataFrame({'A': s, 'B': [1,1,3], 'C': list('aab')})\n",
    "df['A'], df[['B', 'C']]"
   ]
  },
  {
   "cell_type": "code",
   "execution_count": 14,
   "id": "0d2fefeb-8e8e-43b7-b2b3-1273bd837eca",
   "metadata": {},
   "outputs": [
    {
     "data": {
      "text/html": [
       "<div>\n",
       "<style scoped>\n",
       "    .dataframe tbody tr th:only-of-type {\n",
       "        vertical-align: middle;\n",
       "    }\n",
       "\n",
       "    .dataframe tbody tr th {\n",
       "        vertical-align: top;\n",
       "    }\n",
       "\n",
       "    .dataframe thead th {\n",
       "        text-align: right;\n",
       "    }\n",
       "</style>\n",
       "<table border=\"1\" class=\"dataframe\">\n",
       "  <thead>\n",
       "    <tr style=\"text-align: right;\">\n",
       "      <th></th>\n",
       "      <th>A</th>\n",
       "      <th>B</th>\n",
       "      <th>C</th>\n",
       "    </tr>\n",
       "  </thead>\n",
       "  <tbody>\n",
       "    <tr>\n",
       "      <th>0</th>\n",
       "      <td>1</td>\n",
       "      <td>1</td>\n",
       "      <td>a</td>\n",
       "    </tr>\n",
       "    <tr>\n",
       "      <th>1</th>\n",
       "      <td>2</td>\n",
       "      <td>1</td>\n",
       "      <td>a</td>\n",
       "    </tr>\n",
       "    <tr>\n",
       "      <th>2</th>\n",
       "      <td>&lt;NA&gt;</td>\n",
       "      <td>3</td>\n",
       "      <td>b</td>\n",
       "    </tr>\n",
       "  </tbody>\n",
       "</table>\n",
       "</div>"
      ],
      "text/plain": [
       "      A  B  C\n",
       "0     1  1  a\n",
       "1     2  1  a\n",
       "2  <NA>  3  b"
      ]
     },
     "execution_count": 14,
     "metadata": {},
     "output_type": "execute_result"
    }
   ],
   "source": [
    "df"
   ]
  },
  {
   "cell_type": "code",
   "execution_count": 15,
   "id": "1896cac5-d757-42c7-8cf3-b2f6795663d7",
   "metadata": {},
   "outputs": [
    {
     "data": {
      "text/html": [
       "<div>\n",
       "<style scoped>\n",
       "    .dataframe tbody tr th:only-of-type {\n",
       "        vertical-align: middle;\n",
       "    }\n",
       "\n",
       "    .dataframe tbody tr th {\n",
       "        vertical-align: top;\n",
       "    }\n",
       "\n",
       "    .dataframe thead th {\n",
       "        text-align: right;\n",
       "    }\n",
       "</style>\n",
       "<table border=\"1\" class=\"dataframe\">\n",
       "  <thead>\n",
       "    <tr style=\"text-align: right;\">\n",
       "      <th></th>\n",
       "      <th>A</th>\n",
       "      <th>B</th>\n",
       "      <th>C</th>\n",
       "    </tr>\n",
       "  </thead>\n",
       "  <tbody>\n",
       "    <tr>\n",
       "      <th>0</th>\n",
       "      <td>1</td>\n",
       "      <td>1</td>\n",
       "      <td>a</td>\n",
       "    </tr>\n",
       "    <tr>\n",
       "      <th>1</th>\n",
       "      <td>2</td>\n",
       "      <td>1</td>\n",
       "      <td>a</td>\n",
       "    </tr>\n",
       "    <tr>\n",
       "      <th>2</th>\n",
       "      <td>&lt;NA&gt;</td>\n",
       "      <td>3</td>\n",
       "      <td>b</td>\n",
       "    </tr>\n",
       "  </tbody>\n",
       "</table>\n",
       "</div>"
      ],
      "text/plain": [
       "      A  B  C\n",
       "0     1  1  a\n",
       "1     2  1  a\n",
       "2  <NA>  3  b"
      ]
     },
     "execution_count": 15,
     "metadata": {},
     "output_type": "execute_result"
    }
   ],
   "source": [
    "pd.concat([df[['A']], df[['B', 'C']]], axis=1)"
   ]
  },
  {
   "cell_type": "code",
   "execution_count": 17,
   "id": "3a95b060-a332-4b08-89ae-cbdd03b1875c",
   "metadata": {},
   "outputs": [
    {
     "data": {
      "text/html": [
       "<div>\n",
       "<style scoped>\n",
       "    .dataframe tbody tr th:only-of-type {\n",
       "        vertical-align: middle;\n",
       "    }\n",
       "\n",
       "    .dataframe tbody tr th {\n",
       "        vertical-align: top;\n",
       "    }\n",
       "\n",
       "    .dataframe thead th {\n",
       "        text-align: right;\n",
       "    }\n",
       "</style>\n",
       "<table border=\"1\" class=\"dataframe\">\n",
       "  <thead>\n",
       "    <tr style=\"text-align: right;\">\n",
       "      <th></th>\n",
       "      <th>A</th>\n",
       "      <th>B</th>\n",
       "    </tr>\n",
       "    <tr>\n",
       "      <th>C</th>\n",
       "      <th></th>\n",
       "      <th></th>\n",
       "    </tr>\n",
       "  </thead>\n",
       "  <tbody>\n",
       "    <tr>\n",
       "      <th>a</th>\n",
       "      <td>1.5</td>\n",
       "      <td>1.0</td>\n",
       "    </tr>\n",
       "    <tr>\n",
       "      <th>b</th>\n",
       "      <td>&lt;NA&gt;</td>\n",
       "      <td>3.0</td>\n",
       "    </tr>\n",
       "  </tbody>\n",
       "</table>\n",
       "</div>"
      ],
      "text/plain": [
       "      A    B\n",
       "C           \n",
       "a   1.5  1.0\n",
       "b  <NA>  3.0"
      ]
     },
     "execution_count": 17,
     "metadata": {},
     "output_type": "execute_result"
    }
   ],
   "source": [
    "df.groupby('C').mean()"
   ]
  },
  {
   "cell_type": "code",
   "execution_count": 18,
   "id": "bbda7a8a-ed66-4337-9323-976d3fcd8530",
   "metadata": {},
   "outputs": [
    {
     "data": {
      "text/plain": [
       "C\n",
       "a     1.5\n",
       "b    <NA>\n",
       "Name: A, dtype: Float64"
      ]
     },
     "execution_count": 18,
     "metadata": {},
     "output_type": "execute_result"
    }
   ],
   "source": [
    "df.groupby('C').A.mean()"
   ]
  },
  {
   "cell_type": "code",
   "execution_count": null,
   "id": "86998d98-a767-401e-bc4a-36775cc71508",
   "metadata": {},
   "outputs": [],
   "source": []
  },
  {
   "cell_type": "code",
   "execution_count": null,
   "id": "af720c0e-086d-4402-8e72-50f518eef1b4",
   "metadata": {},
   "outputs": [],
   "source": []
  },
  {
   "cell_type": "code",
   "execution_count": 20,
   "id": "bf5dafe0-bce0-464c-b188-06162d8cd5b5",
   "metadata": {},
   "outputs": [
    {
     "data": {
      "text/plain": [
       "0     True\n",
       "1     True\n",
       "2    False\n",
       "dtype: bool"
      ]
     },
     "execution_count": 20,
     "metadata": {},
     "output_type": "execute_result"
    }
   ],
   "source": [
    "pd.Series([True, False, np.nan], dtype='object') | True"
   ]
  },
  {
   "cell_type": "code",
   "execution_count": 23,
   "id": "e4bc7e74-030e-4975-a9fa-50d6691a0aa4",
   "metadata": {},
   "outputs": [
    {
     "data": {
      "text/plain": [
       "True"
      ]
     },
     "execution_count": 23,
     "metadata": {},
     "output_type": "execute_result"
    }
   ],
   "source": [
    "False| True"
   ]
  },
  {
   "cell_type": "code",
   "execution_count": 24,
   "id": "1ddceea7-a81c-4c3b-9114-91049a94065d",
   "metadata": {},
   "outputs": [
    {
     "data": {
      "text/html": [
       "<style type=\"text/css\">\n",
       "</style>\n",
       "<table id=\"T_2b881_\">\n",
       "  <thead>\n",
       "    <tr>\n",
       "      <th class=\"index_name level0\" >Model:</th>\n",
       "      <th class=\"col_heading level0 col0\" colspan=\"2\">Decision Tree</th>\n",
       "      <th class=\"col_heading level0 col2\" colspan=\"2\">Regression</th>\n",
       "      <th class=\"col_heading level0 col4\" colspan=\"2\">Random</th>\n",
       "    </tr>\n",
       "    <tr>\n",
       "      <th class=\"index_name level1\" >Predicted:</th>\n",
       "      <th class=\"col_heading level1 col0\" >Tumour</th>\n",
       "      <th class=\"col_heading level1 col1\" >Non-Tumour</th>\n",
       "      <th class=\"col_heading level1 col2\" >Tumour</th>\n",
       "      <th class=\"col_heading level1 col3\" >Non-Tumour</th>\n",
       "      <th class=\"col_heading level1 col4\" >Tumour</th>\n",
       "      <th class=\"col_heading level1 col5\" >Non-Tumour</th>\n",
       "    </tr>\n",
       "    <tr>\n",
       "      <th class=\"index_name level0\" >Actual Label:</th>\n",
       "      <th class=\"blank col0\" >&nbsp;</th>\n",
       "      <th class=\"blank col1\" >&nbsp;</th>\n",
       "      <th class=\"blank col2\" >&nbsp;</th>\n",
       "      <th class=\"blank col3\" >&nbsp;</th>\n",
       "      <th class=\"blank col4\" >&nbsp;</th>\n",
       "      <th class=\"blank col5\" >&nbsp;</th>\n",
       "    </tr>\n",
       "  </thead>\n",
       "  <tbody>\n",
       "    <tr>\n",
       "      <th id=\"T_2b881_level0_row0\" class=\"row_heading level0 row0\" >Tumour (Positive)</th>\n",
       "      <td id=\"T_2b881_row0_col0\" class=\"data row0 col0\" >38.000000</td>\n",
       "      <td id=\"T_2b881_row0_col1\" class=\"data row0 col1\" >2.000000</td>\n",
       "      <td id=\"T_2b881_row0_col2\" class=\"data row0 col2\" >18.000000</td>\n",
       "      <td id=\"T_2b881_row0_col3\" class=\"data row0 col3\" >22.000000</td>\n",
       "      <td id=\"T_2b881_row0_col4\" class=\"data row0 col4\" >21</td>\n",
       "      <td id=\"T_2b881_row0_col5\" class=\"data row0 col5\" >nan</td>\n",
       "    </tr>\n",
       "    <tr>\n",
       "      <th id=\"T_2b881_level0_row1\" class=\"row_heading level0 row1\" >Non-Tumour (Negative)</th>\n",
       "      <td id=\"T_2b881_row1_col0\" class=\"data row1 col0\" >19.000000</td>\n",
       "      <td id=\"T_2b881_row1_col1\" class=\"data row1 col1\" >439.000000</td>\n",
       "      <td id=\"T_2b881_row1_col2\" class=\"data row1 col2\" >6.000000</td>\n",
       "      <td id=\"T_2b881_row1_col3\" class=\"data row1 col3\" >452.000000</td>\n",
       "      <td id=\"T_2b881_row1_col4\" class=\"data row1 col4\" >226</td>\n",
       "      <td id=\"T_2b881_row1_col5\" class=\"data row1 col5\" >232.000000</td>\n",
       "    </tr>\n",
       "  </tbody>\n",
       "</table>\n"
      ],
      "text/plain": [
       "<pandas.io.formats.style.Styler at 0x27c2ae7c448>"
      ]
     },
     "execution_count": 24,
     "metadata": {},
     "output_type": "execute_result"
    }
   ],
   "source": [
    "import pandas as pd\n",
    "import numpy as np\n",
    "\n",
    "df = pd.DataFrame([[38.0, 2.0, 18.0, 22.0, 21, np.nan],[19, 439, 6, 452, 226,232]],\n",
    "                  index=pd.Index(['Tumour (Positive)', 'Non-Tumour (Negative)'], name='Actual Label:'),\n",
    "                  columns=pd.MultiIndex.from_product([['Decision Tree', 'Regression', 'Random'],['Tumour', 'Non-Tumour']], names=['Model:', 'Predicted:']))\n",
    "df.style"
   ]
  },
  {
   "cell_type": "code",
   "execution_count": 32,
   "id": "e2b64604-902e-471f-855f-83e0de828d28",
   "metadata": {},
   "outputs": [
    {
     "data": {
      "text/html": [
       "<style type=\"text/css\">\n",
       "</style>\n",
       "<table id=\"T_42315_\">\n",
       "  <thead>\n",
       "    <tr>\n",
       "      <th class=\"index_name level0\" >Model:</th>\n",
       "      <th class=\"col_heading level0 col0\" colspan=\"2\">Decision Tree</th>\n",
       "      <th class=\"col_heading level0 col2\" colspan=\"2\">Regression</th>\n",
       "      <th class=\"col_heading level0 col4\" colspan=\"2\">Random</th>\n",
       "    </tr>\n",
       "    <tr>\n",
       "      <th class=\"index_name level1\" >Predicted:</th>\n",
       "      <th class=\"col_heading level1 col0\" >Tumour</th>\n",
       "      <th class=\"col_heading level1 col1\" >Non-Tumour</th>\n",
       "      <th class=\"col_heading level1 col2\" >Tumour</th>\n",
       "      <th class=\"col_heading level1 col3\" >Non-Tumour</th>\n",
       "      <th class=\"col_heading level1 col4\" >Tumour</th>\n",
       "      <th class=\"col_heading level1 col5\" >Non-Tumour</th>\n",
       "    </tr>\n",
       "    <tr>\n",
       "      <th class=\"index_name level0\" >Actual Label:</th>\n",
       "      <th class=\"blank col0\" >&nbsp;</th>\n",
       "      <th class=\"blank col1\" >&nbsp;</th>\n",
       "      <th class=\"blank col2\" >&nbsp;</th>\n",
       "      <th class=\"blank col3\" >&nbsp;</th>\n",
       "      <th class=\"blank col4\" >&nbsp;</th>\n",
       "      <th class=\"blank col5\" >&nbsp;</th>\n",
       "    </tr>\n",
       "  </thead>\n",
       "  <tbody>\n",
       "    <tr>\n",
       "      <th id=\"T_42315_level0_row0\" class=\"row_heading level0 row0\" >Tumour (Positive)</th>\n",
       "      <td id=\"T_42315_row0_col0\" class=\"data row0 col0\" >38.00</td>\n",
       "      <td id=\"T_42315_row0_col1\" class=\"data row0 col1\" >2</td>\n",
       "      <td id=\"T_42315_row0_col2\" class=\"data row0 col2\" >18</td>\n",
       "      <td id=\"T_42315_row0_col3\" class=\"data row0 col3\" >$-22 000 000.0</td>\n",
       "      <td id=\"T_42315_row0_col4\" class=\"data row0 col4\" >21</td>\n",
       "      <td id=\"T_42315_row0_col5\" class=\"data row0 col5\" >Missing</td>\n",
       "    </tr>\n",
       "    <tr>\n",
       "      <th id=\"T_42315_level0_row1\" class=\"row_heading level0 row1\" >Non-Tumour (Negative)</th>\n",
       "      <td id=\"T_42315_row1_col0\" class=\"data row1 col0\" >19.00</td>\n",
       "      <td id=\"T_42315_row1_col1\" class=\"data row1 col1\" >439</td>\n",
       "      <td id=\"T_42315_row1_col2\" class=\"data row1 col2\" >6</td>\n",
       "      <td id=\"T_42315_row1_col3\" class=\"data row1 col3\" >$-452 000 000.0</td>\n",
       "      <td id=\"T_42315_row1_col4\" class=\"data row1 col4\" >226</td>\n",
       "      <td id=\"T_42315_row1_col5\" class=\"data row1 col5\" >232</td>\n",
       "    </tr>\n",
       "  </tbody>\n",
       "</table>\n"
      ],
      "text/plain": [
       "<pandas.io.formats.style.Styler at 0x27c2bde4648>"
      ]
     },
     "execution_count": 32,
     "metadata": {},
     "output_type": "execute_result"
    }
   ],
   "source": [
    "df.style.format(precision=0, na_rep='Missing', thousands=' ',\n",
    "                formatter = {('Decision Tree', 'Tumour'): '{:.2f}',\n",
    "                             ('Regression', 'Non-Tumour'): lambda x: '${:,.1f}'.format(x*-1e6)})\n",
    "                             # ('Regression', 'Non-Tumour'): '{:.1f}'})"
   ]
  },
  {
   "cell_type": "code",
   "execution_count": 40,
   "id": "899b1fa9-bd61-4700-a5c2-c515466f5f58",
   "metadata": {},
   "outputs": [
    {
     "data": {
      "text/html": [
       "<style type=\"text/css\">\n",
       "</style>\n",
       "<table id=\"T_56ad0_\">\n",
       "  <thead>\n",
       "    <tr>\n",
       "      <th class=\"index_name level0\" >Model:</th>\n",
       "      <th class=\"col_heading level0 col0\" colspan=\"2\">Decision Tree</th>\n",
       "      <th class=\"col_heading level0 col2\" colspan=\"2\">Regression</th>\n",
       "    </tr>\n",
       "    <tr>\n",
       "      <th class=\"index_name level1\" >Predicted:</th>\n",
       "      <th class=\"col_heading level1 col0\" >Tumour</th>\n",
       "      <th class=\"col_heading level1 col1\" >Non-Tumour</th>\n",
       "      <th class=\"col_heading level1 col2\" >Tumour</th>\n",
       "      <th class=\"col_heading level1 col3\" >Non-Tumour</th>\n",
       "    </tr>\n",
       "    <tr>\n",
       "      <th class=\"index_name level0\" >Actual Label:</th>\n",
       "      <th class=\"blank col0\" >&nbsp;</th>\n",
       "      <th class=\"blank col1\" >&nbsp;</th>\n",
       "      <th class=\"blank col2\" >&nbsp;</th>\n",
       "      <th class=\"blank col3\" >&nbsp;</th>\n",
       "    </tr>\n",
       "  </thead>\n",
       "  <tbody>\n",
       "    <tr>\n",
       "      <th id=\"T_56ad0_level0_row0\" class=\"row_heading level0 row0\" >Tumour (Positive)</th>\n",
       "      <td id=\"T_56ad0_row0_col0\" class=\"data row0 col0\" >38</td>\n",
       "      <td id=\"T_56ad0_row0_col1\" class=\"data row0 col1\" >2</td>\n",
       "      <td id=\"T_56ad0_row0_col2\" class=\"data row0 col2\" >18</td>\n",
       "      <td id=\"T_56ad0_row0_col3\" class=\"data row0 col3\" >22</td>\n",
       "    </tr>\n",
       "    <tr>\n",
       "      <th id=\"T_56ad0_level0_row1\" class=\"row_heading level0 row1\" >Non-Tumour (Negative)</th>\n",
       "      <td id=\"T_56ad0_row1_col0\" class=\"data row1 col0\" >19</td>\n",
       "      <td id=\"T_56ad0_row1_col1\" class=\"data row1 col1\" >439</td>\n",
       "      <td id=\"T_56ad0_row1_col2\" class=\"data row1 col2\" >6</td>\n",
       "      <td id=\"T_56ad0_row1_col3\" class=\"data row1 col3\" >452</td>\n",
       "    </tr>\n",
       "  </tbody>\n",
       "</table>\n"
      ],
      "text/plain": [
       "<pandas.io.formats.style.Styler at 0x27c2bf092c8>"
      ]
     },
     "execution_count": 40,
     "metadata": {},
     "output_type": "execute_result"
    }
   ],
   "source": [
    "s = df.style.format('{:.0f}').hide_columns({'Random': ['Tumour', 'Non-Tumour']})\n",
    "s"
   ]
  },
  {
   "cell_type": "code",
   "execution_count": 41,
   "id": "35b20bc6-8ee8-43b2-bbe5-8411507452e4",
   "metadata": {},
   "outputs": [
    {
     "data": {
      "text/html": [
       "<style type=\"text/css\">\n",
       "#T_56ad0_ td: hover {\n",
       "  background-color: #ffffb3;\n",
       "}\n",
       "#T_56ad0_ .index_name {\n",
       "  font=style: italic;\n",
       "  color: darkgrey;\n",
       "  font-wight: normal;\n",
       "}\n",
       "#T_56ad0_ th:not(.index_name) {\n",
       "  background-color: #000066;\n",
       "  color: white;\n",
       "}\n",
       "</style>\n",
       "<table id=\"T_56ad0_\">\n",
       "  <thead>\n",
       "    <tr>\n",
       "      <th class=\"index_name level0\" >Model:</th>\n",
       "      <th class=\"col_heading level0 col0\" colspan=\"2\">Decision Tree</th>\n",
       "      <th class=\"col_heading level0 col2\" colspan=\"2\">Regression</th>\n",
       "    </tr>\n",
       "    <tr>\n",
       "      <th class=\"index_name level1\" >Predicted:</th>\n",
       "      <th class=\"col_heading level1 col0\" >Tumour</th>\n",
       "      <th class=\"col_heading level1 col1\" >Non-Tumour</th>\n",
       "      <th class=\"col_heading level1 col2\" >Tumour</th>\n",
       "      <th class=\"col_heading level1 col3\" >Non-Tumour</th>\n",
       "    </tr>\n",
       "    <tr>\n",
       "      <th class=\"index_name level0\" >Actual Label:</th>\n",
       "      <th class=\"blank col0\" >&nbsp;</th>\n",
       "      <th class=\"blank col1\" >&nbsp;</th>\n",
       "      <th class=\"blank col2\" >&nbsp;</th>\n",
       "      <th class=\"blank col3\" >&nbsp;</th>\n",
       "    </tr>\n",
       "  </thead>\n",
       "  <tbody>\n",
       "    <tr>\n",
       "      <th id=\"T_56ad0_level0_row0\" class=\"row_heading level0 row0\" >Tumour (Positive)</th>\n",
       "      <td id=\"T_56ad0_row0_col0\" class=\"data row0 col0\" >38</td>\n",
       "      <td id=\"T_56ad0_row0_col1\" class=\"data row0 col1\" >2</td>\n",
       "      <td id=\"T_56ad0_row0_col2\" class=\"data row0 col2\" >18</td>\n",
       "      <td id=\"T_56ad0_row0_col3\" class=\"data row0 col3\" >22</td>\n",
       "    </tr>\n",
       "    <tr>\n",
       "      <th id=\"T_56ad0_level0_row1\" class=\"row_heading level0 row1\" >Non-Tumour (Negative)</th>\n",
       "      <td id=\"T_56ad0_row1_col0\" class=\"data row1 col0\" >19</td>\n",
       "      <td id=\"T_56ad0_row1_col1\" class=\"data row1 col1\" >439</td>\n",
       "      <td id=\"T_56ad0_row1_col2\" class=\"data row1 col2\" >6</td>\n",
       "      <td id=\"T_56ad0_row1_col3\" class=\"data row1 col3\" >452</td>\n",
       "    </tr>\n",
       "  </tbody>\n",
       "</table>\n"
      ],
      "text/plain": [
       "<pandas.io.formats.style.Styler at 0x27c2bf092c8>"
      ]
     },
     "execution_count": 41,
     "metadata": {},
     "output_type": "execute_result"
    }
   ],
   "source": [
    "cell_hover = { 'selector': 'td: hover',\n",
    "                'props': [('background-color', '#ffffb3')]}\n",
    "index_names = {'selector': '.index_name',\n",
    "                'props': 'font=style: italic; color:darkgrey; font-wight:normal;'}\n",
    "headers = {'selector': 'th:not(.index_name)', \n",
    "            'props': 'background-color: #000066; color:white;'}\n",
    "s.set_table_styles([cell_hover, index_names, headers])"
   ]
  },
  {
   "cell_type": "code",
   "execution_count": 42,
   "id": "3943a7aa-2034-4bb9-b8ca-7b4d188eb7c9",
   "metadata": {},
   "outputs": [],
   "source": [
    "ser = pd.Series(np.random.randn(8))"
   ]
  },
  {
   "cell_type": "code",
   "execution_count": 43,
   "id": "f61d7833-8b7f-4ec2-b7cc-ecbd621d5b17",
   "metadata": {},
   "outputs": [
    {
     "data": {
      "text/plain": [
       "0   -0.222780\n",
       "1   -0.795519\n",
       "2   -1.515581\n",
       "3   -0.213983\n",
       "4   -0.420776\n",
       "5   -0.077922\n",
       "6   -0.934347\n",
       "7   -1.819537\n",
       "dtype: float64"
      ]
     },
     "execution_count": 43,
     "metadata": {},
     "output_type": "execute_result"
    }
   ],
   "source": [
    "ser"
   ]
  },
  {
   "cell_type": "code",
   "execution_count": 44,
   "id": "286804a1-a15e-48b0-98b9-f79882045fd3",
   "metadata": {},
   "outputs": [
    {
     "data": {
      "text/plain": [
       "0          NaN\n",
       "1     2.570865\n",
       "2     0.905149\n",
       "3    -0.858811\n",
       "4     0.966397\n",
       "5    -0.814814\n",
       "6    10.990809\n",
       "7     0.947389\n",
       "dtype: float64"
      ]
     },
     "execution_count": 44,
     "metadata": {},
     "output_type": "execute_result"
    }
   ],
   "source": [
    "ser.pct_change()"
   ]
  },
  {
   "cell_type": "code",
   "execution_count": 51,
   "id": "6a86c3b3-7817-4e2c-97fb-ab20c08973d7",
   "metadata": {},
   "outputs": [
    {
     "data": {
      "text/plain": [
       "0         NaN\n",
       "1         NaN\n",
       "2         NaN\n",
       "3   -0.039489\n",
       "4   -0.471068\n",
       "5   -0.948586\n",
       "6    3.366456\n",
       "7    3.324246\n",
       "dtype: float64"
      ]
     },
     "execution_count": 51,
     "metadata": {},
     "output_type": "execute_result"
    }
   ],
   "source": [
    "ser.pct_change(periods=3)"
   ]
  },
  {
   "cell_type": "code",
   "execution_count": 52,
   "id": "357fc1d1-4989-4bd9-b2cd-1525675f620c",
   "metadata": {},
   "outputs": [
    {
     "data": {
      "text/plain": [
       "-0.039489159339452636"
      ]
     },
     "execution_count": 52,
     "metadata": {},
     "output_type": "execute_result"
    }
   ],
   "source": [
    "(ser[3]-ser[0])/ ser[0]"
   ]
  },
  {
   "cell_type": "code",
   "execution_count": 53,
   "id": "4260e13a-ca3a-43ca-a2ec-4214919c4fb4",
   "metadata": {},
   "outputs": [
    {
     "data": {
      "text/plain": [
       "-0.4710676605592974"
      ]
     },
     "execution_count": 53,
     "metadata": {},
     "output_type": "execute_result"
    }
   ],
   "source": [
    "(ser[4]-ser[1])/ ser[1]"
   ]
  },
  {
   "cell_type": "code",
   "execution_count": 54,
   "id": "d1e07924-0eab-4eed-8618-1c4bbafa0f32",
   "metadata": {},
   "outputs": [
    {
     "data": {
      "text/plain": [
       "-0.0014281161639552323"
      ]
     },
     "execution_count": 54,
     "metadata": {},
     "output_type": "execute_result"
    }
   ],
   "source": [
    "s1 = pd.Series(np.random.randn(1000))\n",
    "s2 = pd.Series(np.random.randn(1000))\n",
    "s1.cov(s2)"
   ]
  },
  {
   "cell_type": "code",
   "execution_count": 63,
   "id": "72eb7109-f061-44c1-abe3-23a90de3d492",
   "metadata": {},
   "outputs": [
    {
     "data": {
      "text/html": [
       "<div>\n",
       "<style scoped>\n",
       "    .dataframe tbody tr th:only-of-type {\n",
       "        vertical-align: middle;\n",
       "    }\n",
       "\n",
       "    .dataframe tbody tr th {\n",
       "        vertical-align: top;\n",
       "    }\n",
       "\n",
       "    .dataframe thead th {\n",
       "        text-align: right;\n",
       "    }\n",
       "</style>\n",
       "<table border=\"1\" class=\"dataframe\">\n",
       "  <thead>\n",
       "    <tr style=\"text-align: right;\">\n",
       "      <th></th>\n",
       "      <th></th>\n",
       "      <th>max_speed</th>\n",
       "    </tr>\n",
       "    <tr>\n",
       "      <th>class</th>\n",
       "      <th>order</th>\n",
       "      <th></th>\n",
       "    </tr>\n",
       "  </thead>\n",
       "  <tbody>\n",
       "    <tr>\n",
       "      <th rowspan=\"2\" valign=\"top\">bird</th>\n",
       "      <th>Falconiformes</th>\n",
       "      <td>389.0</td>\n",
       "    </tr>\n",
       "    <tr>\n",
       "      <th>Psittaciformes</th>\n",
       "      <td>24.0</td>\n",
       "    </tr>\n",
       "    <tr>\n",
       "      <th rowspan=\"2\" valign=\"top\">mammal</th>\n",
       "      <th>Carnivora</th>\n",
       "      <td>69.1</td>\n",
       "    </tr>\n",
       "    <tr>\n",
       "      <th>Primates</th>\n",
       "      <td>NaN</td>\n",
       "    </tr>\n",
       "  </tbody>\n",
       "</table>\n",
       "</div>"
      ],
      "text/plain": [
       "                       max_speed\n",
       "class  order                    \n",
       "bird   Falconiformes       389.0\n",
       "       Psittaciformes       24.0\n",
       "mammal Carnivora            69.1\n",
       "       Primates              NaN"
      ]
     },
     "execution_count": 63,
     "metadata": {},
     "output_type": "execute_result"
    }
   ],
   "source": [
    "df = pd.DataFrame([ (\"bird\", \"Falconiformes\", 389.0),\n",
    "                    (\"bird\", \"Psittaciformes\", 24.0),\n",
    "                    (\"mammal\", \"Carnivora\", 80.2),\n",
    "                    (\"mammal\", \"Primates\", np.nan),\n",
    "                    (\"mammal\", \"Carnivora\", 58)],\n",
    "                    index=[\"falcon\", \"parrot\", \"lion\", \"monkey\", \"leopard\"],\n",
    "                    columns=(\"class\", \"order\", \"max_speed\"))\n",
    "# df.groupby('class').mean()\n",
    "# grouped\n",
    "# grouped = df.groupby('order', axis=1)\n",
    "df.groupby(['class', 'order']).mean()\n",
    "# grouped.mean()"
   ]
  },
  {
   "cell_type": "code",
   "execution_count": 62,
   "id": "38cc3c5f-5320-4969-a79f-a9e8a7936f60",
   "metadata": {},
   "outputs": [
    {
     "data": {
      "text/html": [
       "<div>\n",
       "<style scoped>\n",
       "    .dataframe tbody tr th:only-of-type {\n",
       "        vertical-align: middle;\n",
       "    }\n",
       "\n",
       "    .dataframe tbody tr th {\n",
       "        vertical-align: top;\n",
       "    }\n",
       "\n",
       "    .dataframe thead th {\n",
       "        text-align: right;\n",
       "    }\n",
       "</style>\n",
       "<table border=\"1\" class=\"dataframe\">\n",
       "  <thead>\n",
       "    <tr style=\"text-align: right;\">\n",
       "      <th></th>\n",
       "      <th>class</th>\n",
       "      <th>order</th>\n",
       "      <th>max_speed</th>\n",
       "    </tr>\n",
       "  </thead>\n",
       "  <tbody>\n",
       "    <tr>\n",
       "      <th>falcon</th>\n",
       "      <td>bird</td>\n",
       "      <td>Falconiformes</td>\n",
       "      <td>389.0</td>\n",
       "    </tr>\n",
       "    <tr>\n",
       "      <th>parrot</th>\n",
       "      <td>bird</td>\n",
       "      <td>Psittaciformes</td>\n",
       "      <td>24.0</td>\n",
       "    </tr>\n",
       "    <tr>\n",
       "      <th>lion</th>\n",
       "      <td>mammal</td>\n",
       "      <td>Carnivora</td>\n",
       "      <td>80.2</td>\n",
       "    </tr>\n",
       "    <tr>\n",
       "      <th>monkey</th>\n",
       "      <td>mammal</td>\n",
       "      <td>Primates</td>\n",
       "      <td>NaN</td>\n",
       "    </tr>\n",
       "    <tr>\n",
       "      <th>leopard</th>\n",
       "      <td>mammal</td>\n",
       "      <td>Carnivora</td>\n",
       "      <td>58.0</td>\n",
       "    </tr>\n",
       "  </tbody>\n",
       "</table>\n",
       "</div>"
      ],
      "text/plain": [
       "          class           order  max_speed\n",
       "falcon     bird   Falconiformes      389.0\n",
       "parrot     bird  Psittaciformes       24.0\n",
       "lion     mammal       Carnivora       80.2\n",
       "monkey   mammal        Primates        NaN\n",
       "leopard  mammal       Carnivora       58.0"
      ]
     },
     "execution_count": 62,
     "metadata": {},
     "output_type": "execute_result"
    }
   ],
   "source": [
    "df"
   ]
  },
  {
   "cell_type": "code",
   "execution_count": 71,
   "id": "824954bd-f4f3-4805-99c5-07fbaa5339d8",
   "metadata": {},
   "outputs": [
    {
     "data": {
      "text/html": [
       "<div>\n",
       "<style scoped>\n",
       "    .dataframe tbody tr th:only-of-type {\n",
       "        vertical-align: middle;\n",
       "    }\n",
       "\n",
       "    .dataframe tbody tr th {\n",
       "        vertical-align: top;\n",
       "    }\n",
       "\n",
       "    .dataframe thead th {\n",
       "        text-align: right;\n",
       "    }\n",
       "</style>\n",
       "<table border=\"1\" class=\"dataframe\">\n",
       "  <thead>\n",
       "    <tr style=\"text-align: right;\">\n",
       "      <th></th>\n",
       "      <th></th>\n",
       "      <th>C</th>\n",
       "      <th>D</th>\n",
       "    </tr>\n",
       "    <tr>\n",
       "      <th>A</th>\n",
       "      <th>B</th>\n",
       "      <th></th>\n",
       "      <th></th>\n",
       "    </tr>\n",
       "  </thead>\n",
       "  <tbody>\n",
       "    <tr>\n",
       "      <th>foo</th>\n",
       "      <th>one</th>\n",
       "      <td>1.161162</td>\n",
       "      <td>-0.270694</td>\n",
       "    </tr>\n",
       "    <tr>\n",
       "      <th>bar</th>\n",
       "      <th>one</th>\n",
       "      <td>0.370428</td>\n",
       "      <td>1.359467</td>\n",
       "    </tr>\n",
       "    <tr>\n",
       "      <th>foo</th>\n",
       "      <th>two</th>\n",
       "      <td>-0.059330</td>\n",
       "      <td>0.546382</td>\n",
       "    </tr>\n",
       "    <tr>\n",
       "      <th>bar</th>\n",
       "      <th>three</th>\n",
       "      <td>-1.385442</td>\n",
       "      <td>-0.523856</td>\n",
       "    </tr>\n",
       "    <tr>\n",
       "      <th>foo</th>\n",
       "      <th>two</th>\n",
       "      <td>0.535782</td>\n",
       "      <td>-0.290102</td>\n",
       "    </tr>\n",
       "    <tr>\n",
       "      <th>bar</th>\n",
       "      <th>two</th>\n",
       "      <td>0.598383</td>\n",
       "      <td>-0.099700</td>\n",
       "    </tr>\n",
       "    <tr>\n",
       "      <th rowspan=\"2\" valign=\"top\">foo</th>\n",
       "      <th>one</th>\n",
       "      <td>2.676363</td>\n",
       "      <td>-0.157589</td>\n",
       "    </tr>\n",
       "    <tr>\n",
       "      <th>three</th>\n",
       "      <td>1.241822</td>\n",
       "      <td>-1.376351</td>\n",
       "    </tr>\n",
       "  </tbody>\n",
       "</table>\n",
       "</div>"
      ],
      "text/plain": [
       "                  C         D\n",
       "A   B                        \n",
       "foo one    1.161162 -0.270694\n",
       "bar one    0.370428  1.359467\n",
       "foo two   -0.059330  0.546382\n",
       "bar three -1.385442 -0.523856\n",
       "foo two    0.535782 -0.290102\n",
       "bar two    0.598383 -0.099700\n",
       "foo one    2.676363 -0.157589\n",
       "    three  1.241822 -1.376351"
      ]
     },
     "execution_count": 71,
     "metadata": {},
     "output_type": "execute_result"
    }
   ],
   "source": [
    "df = pd.DataFrame({ \"A\": [\"foo\", \"bar\", \"foo\", \"bar\", \"foo\", \"bar\", \"foo\", \"foo\"],\n",
    "                    \"B\": [\"one\", \"one\", \"two\", \"three\", \"two\", \"two\", \"one\", \"three\"],\n",
    "                    \"C\": np.random.randn(8),\n",
    "                    \"D\": np.random.randn(8)})\n",
    "df2 = df.set_index(['A', 'B'])\n",
    "# df2.groupby(level=df2.index.names.difference(['B'])).sum()\n",
    "df2.groupby(level=0, axis=1).mean()"
   ]
  },
  {
   "cell_type": "code",
   "execution_count": 69,
   "id": "39735368-8b30-4336-8bdd-41e299e9fb56",
   "metadata": {},
   "outputs": [
    {
     "data": {
      "text/html": [
       "<div>\n",
       "<style scoped>\n",
       "    .dataframe tbody tr th:only-of-type {\n",
       "        vertical-align: middle;\n",
       "    }\n",
       "\n",
       "    .dataframe tbody tr th {\n",
       "        vertical-align: top;\n",
       "    }\n",
       "\n",
       "    .dataframe thead th {\n",
       "        text-align: right;\n",
       "    }\n",
       "</style>\n",
       "<table border=\"1\" class=\"dataframe\">\n",
       "  <thead>\n",
       "    <tr style=\"text-align: right;\">\n",
       "      <th></th>\n",
       "      <th>C</th>\n",
       "      <th>D</th>\n",
       "    </tr>\n",
       "    <tr>\n",
       "      <th>A</th>\n",
       "      <th></th>\n",
       "      <th></th>\n",
       "    </tr>\n",
       "  </thead>\n",
       "  <tbody>\n",
       "    <tr>\n",
       "      <th>bar</th>\n",
       "      <td>-1.161109</td>\n",
       "      <td>-1.628863</td>\n",
       "    </tr>\n",
       "    <tr>\n",
       "      <th>foo</th>\n",
       "      <td>0.050205</td>\n",
       "      <td>0.110419</td>\n",
       "    </tr>\n",
       "  </tbody>\n",
       "</table>\n",
       "</div>"
      ],
      "text/plain": [
       "            C         D\n",
       "A                      \n",
       "bar -1.161109 -1.628863\n",
       "foo  0.050205  0.110419"
      ]
     },
     "execution_count": 69,
     "metadata": {},
     "output_type": "execute_result"
    }
   ],
   "source": [
    "df2.groupby(level=0, axis=0).mean()"
   ]
  },
  {
   "cell_type": "code",
   "execution_count": null,
   "id": "4c3ae74e-4c11-4b1b-b183-73ef8f5945ff",
   "metadata": {},
   "outputs": [],
   "source": []
  },
  {
   "cell_type": "code",
   "execution_count": null,
   "id": "02923f50-7d2c-4748-b9e2-0d3b45bf6db3",
   "metadata": {},
   "outputs": [],
   "source": []
  },
  {
   "cell_type": "code",
   "execution_count": null,
   "id": "2deade5c-fbe0-4375-8c50-d45566cf872c",
   "metadata": {},
   "outputs": [],
   "source": []
  },
  {
   "cell_type": "code",
   "execution_count": null,
   "id": "a251ecb4-642f-4a31-9ffb-c471b729e7ec",
   "metadata": {},
   "outputs": [],
   "source": []
  },
  {
   "cell_type": "code",
   "execution_count": null,
   "id": "90d576fa-d693-4de9-be7a-476a9eb37ff4",
   "metadata": {},
   "outputs": [],
   "source": []
  },
  {
   "cell_type": "code",
   "execution_count": null,
   "id": "694a14f3-e11f-4593-a719-ffd074872ea3",
   "metadata": {},
   "outputs": [],
   "source": []
  },
  {
   "cell_type": "code",
   "execution_count": null,
   "id": "7509d5bb-da23-4177-aaf0-0c16412926b3",
   "metadata": {},
   "outputs": [],
   "source": []
  },
  {
   "cell_type": "code",
   "execution_count": null,
   "id": "3325b340-da97-43a2-9c4c-b54ef20d856a",
   "metadata": {},
   "outputs": [],
   "source": []
  },
  {
   "cell_type": "code",
   "execution_count": null,
   "id": "e71262e9-e79b-4270-859e-bd455cca1df3",
   "metadata": {},
   "outputs": [],
   "source": []
  },
  {
   "cell_type": "code",
   "execution_count": null,
   "id": "464ca960-ac33-4887-ad76-61ca6dd6dd71",
   "metadata": {},
   "outputs": [],
   "source": []
  },
  {
   "cell_type": "code",
   "execution_count": null,
   "id": "e4bfda80-633d-4cd5-b6a0-6b6904432571",
   "metadata": {},
   "outputs": [],
   "source": []
  },
  {
   "cell_type": "code",
   "execution_count": null,
   "id": "b129baba-02d2-46cc-96ca-98af82e2f873",
   "metadata": {},
   "outputs": [],
   "source": []
  },
  {
   "cell_type": "code",
   "execution_count": null,
   "id": "07508973-9e42-4940-8094-4aca076b082d",
   "metadata": {},
   "outputs": [],
   "source": []
  },
  {
   "cell_type": "code",
   "execution_count": null,
   "id": "d5a2b2c6-c2b9-4ac5-b99c-413efcaf52f9",
   "metadata": {},
   "outputs": [],
   "source": []
  },
  {
   "cell_type": "code",
   "execution_count": null,
   "id": "96ba9dbf-32ac-48d6-85ea-277e48ba421d",
   "metadata": {},
   "outputs": [],
   "source": []
  },
  {
   "cell_type": "code",
   "execution_count": null,
   "id": "ece93a0c-587f-4043-bf6a-df217656a930",
   "metadata": {},
   "outputs": [],
   "source": []
  },
  {
   "cell_type": "code",
   "execution_count": null,
   "id": "62d9f6f0-f022-46f6-83db-0d745ad518d8",
   "metadata": {},
   "outputs": [],
   "source": []
  },
  {
   "cell_type": "code",
   "execution_count": null,
   "id": "4c8a4a97-ff6f-48da-baba-a4d7841925bf",
   "metadata": {},
   "outputs": [],
   "source": []
  },
  {
   "cell_type": "code",
   "execution_count": null,
   "id": "e8a64c22-ffb9-42e3-977f-67d840487e2c",
   "metadata": {},
   "outputs": [],
   "source": []
  },
  {
   "cell_type": "code",
   "execution_count": null,
   "id": "fae92615-ed24-45ed-92d8-cc282ea3e7be",
   "metadata": {},
   "outputs": [],
   "source": []
  },
  {
   "cell_type": "code",
   "execution_count": null,
   "id": "9d637085-60e7-4316-8af2-4350816c7a46",
   "metadata": {},
   "outputs": [],
   "source": []
  },
  {
   "cell_type": "code",
   "execution_count": null,
   "id": "6c85a680-d444-4765-aacd-75cf671f5046",
   "metadata": {},
   "outputs": [],
   "source": []
  },
  {
   "cell_type": "code",
   "execution_count": null,
   "id": "ffe8e538-950f-428d-92dc-b9d875447831",
   "metadata": {},
   "outputs": [],
   "source": []
  },
  {
   "cell_type": "code",
   "execution_count": null,
   "id": "58b7cf06-93e9-470d-a34c-8eaeb13b5a8b",
   "metadata": {},
   "outputs": [],
   "source": []
  },
  {
   "cell_type": "code",
   "execution_count": null,
   "id": "08123f1d-1bf2-4d84-a10e-443e5b7f7b4f",
   "metadata": {},
   "outputs": [],
   "source": []
  },
  {
   "cell_type": "code",
   "execution_count": null,
   "id": "f12506a0-4f5a-40b0-af2d-396511e4906e",
   "metadata": {},
   "outputs": [],
   "source": []
  },
  {
   "cell_type": "code",
   "execution_count": null,
   "id": "3704e464-1bdd-4bec-aaf0-0d28879e134f",
   "metadata": {},
   "outputs": [],
   "source": []
  },
  {
   "cell_type": "code",
   "execution_count": null,
   "id": "1a03f543-5541-4d57-b887-f6347987bbb6",
   "metadata": {},
   "outputs": [],
   "source": []
  },
  {
   "cell_type": "code",
   "execution_count": null,
   "id": "c83d93f0-b7ad-472f-a0f6-4ccddb5f3f6b",
   "metadata": {},
   "outputs": [],
   "source": []
  },
  {
   "cell_type": "code",
   "execution_count": null,
   "id": "4235a3af-6075-4dd8-ad4d-d46ac02df07d",
   "metadata": {},
   "outputs": [],
   "source": []
  },
  {
   "cell_type": "code",
   "execution_count": null,
   "id": "ba9d53f4-7073-4563-beaf-cf9e9d8f4438",
   "metadata": {},
   "outputs": [],
   "source": []
  },
  {
   "cell_type": "code",
   "execution_count": null,
   "id": "a9e556ee-3ec7-466a-9623-304f826035f6",
   "metadata": {},
   "outputs": [],
   "source": []
  },
  {
   "cell_type": "code",
   "execution_count": null,
   "id": "6c640516-0e03-46b6-aae4-e403bcc09d57",
   "metadata": {},
   "outputs": [],
   "source": []
  },
  {
   "cell_type": "code",
   "execution_count": null,
   "id": "707d879c-cce9-439a-bdc8-a74a006d2983",
   "metadata": {},
   "outputs": [],
   "source": []
  },
  {
   "cell_type": "code",
   "execution_count": null,
   "id": "fec48756-9b50-4e5d-8b82-2026e6de86ac",
   "metadata": {},
   "outputs": [],
   "source": []
  },
  {
   "cell_type": "code",
   "execution_count": null,
   "id": "d9478947-f214-4127-8630-7d8a90c8e8c6",
   "metadata": {},
   "outputs": [],
   "source": []
  },
  {
   "cell_type": "code",
   "execution_count": null,
   "id": "540f534b-e5df-471c-8447-1c79976691bb",
   "metadata": {},
   "outputs": [],
   "source": []
  },
  {
   "cell_type": "code",
   "execution_count": null,
   "id": "fdf1698e-a384-496a-80f1-4b95bfc84edb",
   "metadata": {},
   "outputs": [],
   "source": []
  },
  {
   "cell_type": "code",
   "execution_count": null,
   "id": "e42de1f3-1fe8-42ed-a43c-9685a3193360",
   "metadata": {},
   "outputs": [],
   "source": []
  },
  {
   "cell_type": "code",
   "execution_count": null,
   "id": "075b8e66-db14-4db3-badc-b2da66ee159f",
   "metadata": {},
   "outputs": [],
   "source": []
  },
  {
   "cell_type": "code",
   "execution_count": null,
   "id": "6a5d01ac-191b-4a2b-9b23-3369f13820ce",
   "metadata": {},
   "outputs": [],
   "source": []
  },
  {
   "cell_type": "code",
   "execution_count": null,
   "id": "cd3770f7-2636-439f-a8b0-3918de343b49",
   "metadata": {},
   "outputs": [],
   "source": []
  },
  {
   "cell_type": "code",
   "execution_count": null,
   "id": "cd4be4a4-c190-40fb-845e-36bfb29a1159",
   "metadata": {},
   "outputs": [],
   "source": []
  },
  {
   "cell_type": "code",
   "execution_count": null,
   "id": "9aca2e9c-4a69-491c-af58-4df779aa938a",
   "metadata": {},
   "outputs": [],
   "source": []
  },
  {
   "cell_type": "code",
   "execution_count": null,
   "id": "5ad8589f-eb7e-40c2-b70b-61e4e77ae963",
   "metadata": {},
   "outputs": [],
   "source": []
  },
  {
   "cell_type": "code",
   "execution_count": null,
   "id": "d36296a3-8af0-4005-8346-d7eb69547306",
   "metadata": {},
   "outputs": [],
   "source": []
  },
  {
   "cell_type": "code",
   "execution_count": null,
   "id": "d81fab83-d39e-41ac-823e-7382ff43558a",
   "metadata": {},
   "outputs": [],
   "source": []
  },
  {
   "cell_type": "code",
   "execution_count": null,
   "id": "a9b5cc7a-3da0-4313-9ffa-9641f9720b7c",
   "metadata": {},
   "outputs": [],
   "source": []
  },
  {
   "cell_type": "code",
   "execution_count": null,
   "id": "a3565cf5-7ae1-4cd6-8c76-89e89aeae9a2",
   "metadata": {},
   "outputs": [],
   "source": []
  },
  {
   "cell_type": "code",
   "execution_count": null,
   "id": "c20a0ce8-8476-448d-85fa-7e4d47582562",
   "metadata": {},
   "outputs": [],
   "source": []
  },
  {
   "cell_type": "code",
   "execution_count": null,
   "id": "b58d4f1e-f5a0-4522-92f1-6d460906d5f1",
   "metadata": {},
   "outputs": [],
   "source": []
  },
  {
   "cell_type": "code",
   "execution_count": null,
   "id": "6a5eb005-b0da-4674-a187-dcc87a921c1b",
   "metadata": {},
   "outputs": [],
   "source": []
  },
  {
   "cell_type": "code",
   "execution_count": null,
   "id": "8d464713-be2b-44f3-af92-3419eef4ff38",
   "metadata": {},
   "outputs": [],
   "source": []
  },
  {
   "cell_type": "code",
   "execution_count": null,
   "id": "053f1610-fbc3-46f5-ac5f-4163e3cdd283",
   "metadata": {},
   "outputs": [],
   "source": []
  },
  {
   "cell_type": "code",
   "execution_count": null,
   "id": "a4081c6e-2732-4bbd-81d2-4644540a3819",
   "metadata": {},
   "outputs": [],
   "source": []
  },
  {
   "cell_type": "code",
   "execution_count": null,
   "id": "7b133874-2100-4952-9e26-8c7bace6c257",
   "metadata": {},
   "outputs": [],
   "source": []
  },
  {
   "cell_type": "code",
   "execution_count": null,
   "id": "37e5a99e-a959-469e-8106-0813fbe81fb7",
   "metadata": {},
   "outputs": [],
   "source": []
  },
  {
   "cell_type": "code",
   "execution_count": null,
   "id": "c39e64f5-6066-4766-b4c3-6221f7a008d7",
   "metadata": {},
   "outputs": [],
   "source": []
  },
  {
   "cell_type": "code",
   "execution_count": null,
   "id": "84ca5162-65e1-4c9e-bd1c-b92825294ed5",
   "metadata": {},
   "outputs": [],
   "source": []
  },
  {
   "cell_type": "code",
   "execution_count": null,
   "id": "ddd7c1de-d38d-4510-bcf5-e15ccfe3543f",
   "metadata": {},
   "outputs": [],
   "source": []
  },
  {
   "cell_type": "code",
   "execution_count": null,
   "id": "fade65bc-98c9-4396-acfc-3412a1459451",
   "metadata": {},
   "outputs": [],
   "source": []
  },
  {
   "cell_type": "code",
   "execution_count": null,
   "id": "fa648557-fd78-44a3-afcc-b6c7ae7e7798",
   "metadata": {},
   "outputs": [],
   "source": []
  },
  {
   "cell_type": "code",
   "execution_count": null,
   "id": "1f4bd19e-0768-4283-b80b-e57ff9bccba6",
   "metadata": {},
   "outputs": [],
   "source": []
  },
  {
   "cell_type": "code",
   "execution_count": null,
   "id": "842d9cfd-e5a8-43fb-aa74-1ef6ffdebbc0",
   "metadata": {},
   "outputs": [],
   "source": []
  },
  {
   "cell_type": "code",
   "execution_count": null,
   "id": "3cbe02b4-f8a8-4e15-9ddf-9c9c54ba5c84",
   "metadata": {},
   "outputs": [],
   "source": []
  },
  {
   "cell_type": "code",
   "execution_count": null,
   "id": "bd5738c1-30c4-4bae-ad05-6ff7a53880c8",
   "metadata": {},
   "outputs": [],
   "source": []
  },
  {
   "cell_type": "code",
   "execution_count": null,
   "id": "ce2f5451-29d6-4704-b7e9-06ac5c18d4cd",
   "metadata": {},
   "outputs": [],
   "source": []
  },
  {
   "cell_type": "code",
   "execution_count": null,
   "id": "3ac79375-ba38-48f4-b38b-ec962be22fc9",
   "metadata": {},
   "outputs": [],
   "source": []
  },
  {
   "cell_type": "code",
   "execution_count": null,
   "id": "8740bd6c-6b3e-451e-b1f9-a9cafdd50b0e",
   "metadata": {},
   "outputs": [],
   "source": []
  }
 ],
 "metadata": {
  "kernelspec": {
   "display_name": "Python 3 (ipykernel)",
   "language": "python",
   "name": "python3"
  },
  "language_info": {
   "codemirror_mode": {
    "name": "ipython",
    "version": 3
   },
   "file_extension": ".py",
   "mimetype": "text/x-python",
   "name": "python",
   "nbconvert_exporter": "python",
   "pygments_lexer": "ipython3",
   "version": "3.7.11"
  }
 },
 "nbformat": 4,
 "nbformat_minor": 5
}
