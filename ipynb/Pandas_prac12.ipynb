{
 "cells": [
  {
   "cell_type": "code",
   "execution_count": 1,
   "id": "b52e8d3f-c000-4b8a-9804-c1dd3257d0fa",
   "metadata": {},
   "outputs": [],
   "source": [
    "import numpy as np\n",
    "import pandas as pd\n",
    "import datetime"
   ]
  },
  {
   "cell_type": "code",
   "execution_count": 2,
   "id": "a56a77b1-55dc-40b6-a321-014a282f62b6",
   "metadata": {},
   "outputs": [
    {
     "data": {
      "text/plain": [
       "2012-01-01 00:05:00    248.95\n",
       "Freq: 5T, dtype: float64"
      ]
     },
     "execution_count": 2,
     "metadata": {},
     "output_type": "execute_result"
    }
   ],
   "source": [
    "rng = pd.date_range('1/1/2012', periods=100, freq='S')\n",
    "ts = pd.Series(np.random.randint(0, 500, len(rng)), index=rng)\n",
    "ts.resample('5Min', label='right').mean()"
   ]
  },
  {
   "cell_type": "code",
   "execution_count": 3,
   "id": "755625a7-c35f-472d-b5d5-937a0543947a",
   "metadata": {},
   "outputs": [
    {
     "data": {
      "text/plain": [
       "2000-01-01     Saturday\n",
       "2000-01-02       Sunday\n",
       "2000-01-03          NaN\n",
       "2000-01-04      Tuesday\n",
       "2000-01-05    Wednesday\n",
       "Freq: D, dtype: object"
      ]
     },
     "execution_count": 3,
     "metadata": {},
     "output_type": "execute_result"
    }
   ],
   "source": [
    "s = pd.date_range('2000-01-01', '2000-01-05').to_series()\n",
    "s.iloc[2] = pd.NaT\n",
    "s.dt.day_name()"
   ]
  },
  {
   "cell_type": "code",
   "execution_count": 8,
   "id": "aeb7b4c2-c801-4bf8-94f5-1eb01b1748c7",
   "metadata": {},
   "outputs": [
    {
     "data": {
      "text/plain": [
       "2000-01-01   2000-01-01\n",
       "2000-01-02   2000-01-02\n",
       "2000-01-03          NaT\n",
       "2000-01-04   2000-01-04\n",
       "2000-01-05   2000-01-05\n",
       "Freq: D, dtype: datetime64[ns]"
      ]
     },
     "execution_count": 8,
     "metadata": {},
     "output_type": "execute_result"
    }
   ],
   "source": [
    "s"
   ]
  },
  {
   "cell_type": "code",
   "execution_count": 9,
   "id": "ac6167b5-85db-4131-b0e3-36d2e258fb8e",
   "metadata": {},
   "outputs": [
    {
     "data": {
      "text/plain": [
       "2012-01-01 00:00:00    260\n",
       "2012-01-01 00:00:01    183\n",
       "2012-01-01 00:00:02    488\n",
       "2012-01-01 00:00:03    119\n",
       "2012-01-01 00:00:04    421\n",
       "                      ... \n",
       "2012-01-01 00:01:35    107\n",
       "2012-01-01 00:01:36    440\n",
       "2012-01-01 00:01:37     75\n",
       "2012-01-01 00:01:38    361\n",
       "2012-01-01 00:01:39    143\n",
       "Freq: S, Length: 100, dtype: int32"
      ]
     },
     "execution_count": 9,
     "metadata": {},
     "output_type": "execute_result"
    }
   ],
   "source": [
    "ts"
   ]
  },
  {
   "cell_type": "code",
   "execution_count": 12,
   "id": "1deff7b4-7f12-4f6f-834b-a0ad757c042c",
   "metadata": {},
   "outputs": [
    {
     "data": {
      "text/plain": [
       "2012-01-01 00:00:00.000    260.0\n",
       "2012-01-01 00:00:00.250      NaN\n",
       "2012-01-01 00:00:00.500      NaN\n",
       "2012-01-01 00:00:00.750      NaN\n",
       "2012-01-01 00:00:01.000    183.0\n",
       "Freq: 250L, dtype: float64"
      ]
     },
     "execution_count": 12,
     "metadata": {},
     "output_type": "execute_result"
    }
   ],
   "source": [
    "ts[:2].resample('250L').asfreq()"
   ]
  },
  {
   "cell_type": "code",
   "execution_count": 18,
   "id": "09ca38f7-cc8e-4aac-be53-3f0100b6f593",
   "metadata": {},
   "outputs": [
    {
     "data": {
      "text/plain": [
       "2014-01-01 00:00:01   2014-01-01 00:00:01\n",
       "2014-01-02 00:00:01   2014-01-02 00:00:01\n",
       "2014-01-03 00:00:01   2014-01-03 00:00:01\n",
       "Freq: D, dtype: datetime64[ns]"
      ]
     },
     "execution_count": 18,
     "metadata": {},
     "output_type": "execute_result"
    }
   ],
   "source": [
    "rng = pd.date_range('2014-1-1', periods=100, freq='D') + pd.Timedelta('1s')\n",
    "rng.to_series().head(3)"
   ]
  },
  {
   "cell_type": "code",
   "execution_count": 19,
   "id": "35a14e22-4a3c-4fd0-a175-e578c4d0e0b6",
   "metadata": {},
   "outputs": [
    {
     "data": {
      "text/plain": [
       "2014-01-01 00:00:00     0\n",
       "2014-01-01 00:03:00     0\n",
       "2014-01-01 00:06:00     0\n",
       "2014-01-01 00:09:00     0\n",
       "2014-01-01 00:12:00     0\n",
       "                       ..\n",
       "2014-04-09 23:48:00     0\n",
       "2014-04-09 23:51:00     0\n",
       "2014-04-09 23:54:00     0\n",
       "2014-04-09 23:57:00     0\n",
       "2014-04-10 00:00:00    99\n",
       "Freq: 3T, Length: 47521, dtype: int64"
      ]
     },
     "execution_count": 19,
     "metadata": {},
     "output_type": "execute_result"
    }
   ],
   "source": [
    "ts = pd.Series(range(100), index=rng)\n",
    "ts.resample('3T').sum()"
   ]
  },
  {
   "cell_type": "code",
   "execution_count": 22,
   "id": "e901952a-03cd-4793-b412-2de4630e1ad3",
   "metadata": {},
   "outputs": [
    {
     "data": {
      "text/html": [
       "<div>\n",
       "<style scoped>\n",
       "    .dataframe tbody tr th:only-of-type {\n",
       "        vertical-align: middle;\n",
       "    }\n",
       "\n",
       "    .dataframe tbody tr th {\n",
       "        vertical-align: top;\n",
       "    }\n",
       "\n",
       "    .dataframe thead th {\n",
       "        text-align: right;\n",
       "    }\n",
       "</style>\n",
       "<table border=\"1\" class=\"dataframe\">\n",
       "  <thead>\n",
       "    <tr style=\"text-align: right;\">\n",
       "      <th></th>\n",
       "      <th></th>\n",
       "      <th>date</th>\n",
       "      <th>a</th>\n",
       "    </tr>\n",
       "    <tr>\n",
       "      <th>v</th>\n",
       "      <th>d</th>\n",
       "      <th></th>\n",
       "      <th></th>\n",
       "    </tr>\n",
       "  </thead>\n",
       "  <tbody>\n",
       "    <tr>\n",
       "      <th>1</th>\n",
       "      <th>2015-01-04</th>\n",
       "      <td>2015-01-04</td>\n",
       "      <td>0</td>\n",
       "    </tr>\n",
       "    <tr>\n",
       "      <th>2</th>\n",
       "      <th>2015-01-11</th>\n",
       "      <td>2015-01-11</td>\n",
       "      <td>1</td>\n",
       "    </tr>\n",
       "    <tr>\n",
       "      <th>3</th>\n",
       "      <th>2015-01-18</th>\n",
       "      <td>2015-01-18</td>\n",
       "      <td>2</td>\n",
       "    </tr>\n",
       "    <tr>\n",
       "      <th>4</th>\n",
       "      <th>2015-01-25</th>\n",
       "      <td>2015-01-25</td>\n",
       "      <td>3</td>\n",
       "    </tr>\n",
       "    <tr>\n",
       "      <th>5</th>\n",
       "      <th>2015-02-01</th>\n",
       "      <td>2015-02-01</td>\n",
       "      <td>4</td>\n",
       "    </tr>\n",
       "  </tbody>\n",
       "</table>\n",
       "</div>"
      ],
      "text/plain": [
       "                   date  a\n",
       "v d                       \n",
       "1 2015-01-04 2015-01-04  0\n",
       "2 2015-01-11 2015-01-11  1\n",
       "3 2015-01-18 2015-01-18  2\n",
       "4 2015-01-25 2015-01-25  3\n",
       "5 2015-02-01 2015-02-01  4"
      ]
     },
     "execution_count": 22,
     "metadata": {},
     "output_type": "execute_result"
    }
   ],
   "source": [
    "df = pd.DataFrame({'date': pd.date_range('2015-01-01', freq='W', periods=5), 'a': np.arange(5)},\n",
    "                  index=pd.MultiIndex.from_arrays([[1,2,3,4,5], pd.date_range('2015-01-01', freq='W', periods=5)], names=['v', 'd']))\n",
    "df"
   ]
  },
  {
   "cell_type": "code",
   "execution_count": 21,
   "id": "43b093b2-b252-40fe-a0de-a03490df2b5f",
   "metadata": {},
   "outputs": [
    {
     "data": {
      "text/html": [
       "<div>\n",
       "<style scoped>\n",
       "    .dataframe tbody tr th:only-of-type {\n",
       "        vertical-align: middle;\n",
       "    }\n",
       "\n",
       "    .dataframe tbody tr th {\n",
       "        vertical-align: top;\n",
       "    }\n",
       "\n",
       "    .dataframe thead th {\n",
       "        text-align: right;\n",
       "    }\n",
       "</style>\n",
       "<table border=\"1\" class=\"dataframe\">\n",
       "  <thead>\n",
       "    <tr style=\"text-align: right;\">\n",
       "      <th></th>\n",
       "      <th>a</th>\n",
       "    </tr>\n",
       "    <tr>\n",
       "      <th>date</th>\n",
       "      <th></th>\n",
       "    </tr>\n",
       "  </thead>\n",
       "  <tbody>\n",
       "    <tr>\n",
       "      <th>2015-01-31</th>\n",
       "      <td>6</td>\n",
       "    </tr>\n",
       "    <tr>\n",
       "      <th>2015-02-28</th>\n",
       "      <td>4</td>\n",
       "    </tr>\n",
       "  </tbody>\n",
       "</table>\n",
       "</div>"
      ],
      "text/plain": [
       "            a\n",
       "date         \n",
       "2015-01-31  6\n",
       "2015-02-28  4"
      ]
     },
     "execution_count": 21,
     "metadata": {},
     "output_type": "execute_result"
    }
   ],
   "source": [
    "df.resample('M', on='date').sum()"
   ]
  },
  {
   "cell_type": "code",
   "execution_count": 24,
   "id": "5329a1ed-e8d7-4ed5-acf2-319c56a1d922",
   "metadata": {},
   "outputs": [
    {
     "data": {
      "text/html": [
       "<div>\n",
       "<style scoped>\n",
       "    .dataframe tbody tr th:only-of-type {\n",
       "        vertical-align: middle;\n",
       "    }\n",
       "\n",
       "    .dataframe tbody tr th {\n",
       "        vertical-align: top;\n",
       "    }\n",
       "\n",
       "    .dataframe thead th {\n",
       "        text-align: right;\n",
       "    }\n",
       "</style>\n",
       "<table border=\"1\" class=\"dataframe\">\n",
       "  <thead>\n",
       "    <tr style=\"text-align: right;\">\n",
       "      <th></th>\n",
       "      <th>a</th>\n",
       "    </tr>\n",
       "    <tr>\n",
       "      <th>d</th>\n",
       "      <th></th>\n",
       "    </tr>\n",
       "  </thead>\n",
       "  <tbody>\n",
       "    <tr>\n",
       "      <th>2015-01-31</th>\n",
       "      <td>6</td>\n",
       "    </tr>\n",
       "    <tr>\n",
       "      <th>2015-02-28</th>\n",
       "      <td>4</td>\n",
       "    </tr>\n",
       "  </tbody>\n",
       "</table>\n",
       "</div>"
      ],
      "text/plain": [
       "            a\n",
       "d            \n",
       "2015-01-31  6\n",
       "2015-02-28  4"
      ]
     },
     "execution_count": 24,
     "metadata": {},
     "output_type": "execute_result"
    }
   ],
   "source": [
    "df.resample('M', level=1).sum()"
   ]
  },
  {
   "cell_type": "code",
   "execution_count": 25,
   "id": "7898bc35-ee4c-4ecc-a4ec-b7c5935c3bfd",
   "metadata": {},
   "outputs": [
    {
     "name": "stdout",
     "output_type": "stream",
     "text": [
      "Group: 2017-01-01 00:00:00\n",
      "---------------------------\n",
      "2017-01-01 00:00:00    0\n",
      "2017-01-01 00:30:00    1\n",
      "2017-01-01 00:31:00    2\n",
      "dtype: int64\n",
      "\n",
      "Group: 2017-01-01 01:00:00\n",
      "---------------------------\n",
      "2017-01-01 01:00:00    3\n",
      "dtype: int64\n",
      "\n",
      "Group: 2017-01-01 02:00:00\n",
      "---------------------------\n",
      "Series([], dtype: int64)\n",
      "\n",
      "Group: 2017-01-01 03:00:00\n",
      "---------------------------\n",
      "2017-01-01 03:00:00    4\n",
      "2017-01-01 03:05:00    5\n",
      "dtype: int64\n",
      "\n"
     ]
    }
   ],
   "source": [
    "small = pd.Series(range(6), index=pd.to_datetime([  \"2017-01-01T00:00:00\",\n",
    "                                                    \"2017-01-01T00:30:00\",\n",
    "                                                    \"2017-01-01T00:31:00\",\n",
    "                                                    \"2017-01-01T01:00:00\",\n",
    "                                                    \"2017-01-01T03:00:00\",\n",
    "                                                    \"2017-01-01T03:05:00\"]))\n",
    "resampled = small.resample('H')\n",
    "for name, group in resampled:\n",
    "    print('Group:', name)\n",
    "    print('-' * 27)\n",
    "    print(group, end = '\\n\\n')"
   ]
  },
  {
   "cell_type": "code",
   "execution_count": 26,
   "id": "5b8ae9e9-8195-4118-9563-41d01904f06f",
   "metadata": {},
   "outputs": [
    {
     "data": {
      "text/plain": [
       "2000-10-01 23:14:00     0\n",
       "2000-10-01 23:31:00     3\n",
       "2000-10-01 23:48:00     7\n",
       "2000-10-02 00:05:00    18\n",
       "2000-10-02 00:22:00     8\n",
       "Freq: 17T, dtype: int32"
      ]
     },
     "execution_count": 26,
     "metadata": {},
     "output_type": "execute_result"
    }
   ],
   "source": [
    "start, end = '2000-10-01 23:30:00', '2000-10-02 00:30:00'\n",
    "middle = '2000-10-02 00:00:00'\n",
    "rng = pd.date_range(start, end, freq='7min')\n",
    "ts = pd.Series(np.arange(len(rng)), index=rng)\n",
    "ts.resample('17min').sum()"
   ]
  },
  {
   "cell_type": "code",
   "execution_count": 41,
   "id": "f366f24e-aa12-47bc-bc95-d3189dbc0546",
   "metadata": {},
   "outputs": [
    {
     "data": {
      "text/plain": [
       "2000-10-01 23:30:00     3\n",
       "2000-10-01 23:47:00     7\n",
       "2000-10-02 00:04:00    18\n",
       "2000-10-02 00:21:00     8\n",
       "Freq: 17T, dtype: int32"
      ]
     },
     "execution_count": 41,
     "metadata": {},
     "output_type": "execute_result"
    }
   ],
   "source": [
    "ts.resample('17min', origin='start').sum()"
   ]
  },
  {
   "cell_type": "code",
   "execution_count": 29,
   "id": "63351d5f-9298-4d9d-9878-327f950e4c31",
   "metadata": {},
   "outputs": [
    {
     "data": {
      "text/plain": [
       "2000-10-02 00:00:00    11\n",
       "2000-10-02 00:17:00    15\n",
       "Freq: 17T, dtype: int32"
      ]
     },
     "execution_count": 29,
     "metadata": {},
     "output_type": "execute_result"
    }
   ],
   "source": [
    "ts[middle:end].resample('17min', origin='start_day').sum()"
   ]
  },
  {
   "cell_type": "code",
   "execution_count": 30,
   "id": "5ba5e90e-683c-4dfa-b6e5-c6e8be4f1165",
   "metadata": {},
   "outputs": [
    {
     "data": {
      "text/plain": [
       "2000-10-02 00:00:00    11\n",
       "2000-10-02 00:17:00    15\n",
       "Freq: 17T, dtype: int32"
      ]
     },
     "execution_count": 30,
     "metadata": {},
     "output_type": "execute_result"
    }
   ],
   "source": [
    "ts[middle:end].resample('17min').sum()"
   ]
  },
  {
   "cell_type": "code",
   "execution_count": 31,
   "id": "80c0109d-f780-4b8c-bbd0-2a09b3e5a721",
   "metadata": {},
   "outputs": [
    {
     "data": {
      "text/plain": [
       "2000-10-01 23:30:00    0\n",
       "2000-10-01 23:37:00    1\n",
       "2000-10-01 23:44:00    2\n",
       "2000-10-01 23:51:00    3\n",
       "2000-10-01 23:58:00    4\n",
       "2000-10-02 00:05:00    5\n",
       "2000-10-02 00:12:00    6\n",
       "2000-10-02 00:19:00    7\n",
       "2000-10-02 00:26:00    8\n",
       "Freq: 7T, dtype: int32"
      ]
     },
     "execution_count": 31,
     "metadata": {},
     "output_type": "execute_result"
    }
   ],
   "source": [
    "ts"
   ]
  },
  {
   "cell_type": "code",
   "execution_count": 38,
   "id": "a6aa167a-53f6-4a6a-b18d-1ab9d63e8049",
   "metadata": {},
   "outputs": [
    {
     "data": {
      "text/html": [
       "<div>\n",
       "<style scoped>\n",
       "    .dataframe tbody tr th:only-of-type {\n",
       "        vertical-align: middle;\n",
       "    }\n",
       "\n",
       "    .dataframe tbody tr th {\n",
       "        vertical-align: top;\n",
       "    }\n",
       "\n",
       "    .dataframe thead th {\n",
       "        text-align: right;\n",
       "    }\n",
       "</style>\n",
       "<table border=\"1\" class=\"dataframe\">\n",
       "  <thead>\n",
       "    <tr style=\"text-align: right;\">\n",
       "      <th></th>\n",
       "      <th>0</th>\n",
       "    </tr>\n",
       "  </thead>\n",
       "  <tbody>\n",
       "    <tr>\n",
       "      <th>0</th>\n",
       "      <td>23:30:00</td>\n",
       "    </tr>\n",
       "    <tr>\n",
       "      <th>1</th>\n",
       "      <td>23:37:00</td>\n",
       "    </tr>\n",
       "    <tr>\n",
       "      <th>2</th>\n",
       "      <td>23:44:00</td>\n",
       "    </tr>\n",
       "    <tr>\n",
       "      <th>3</th>\n",
       "      <td>23:51:00</td>\n",
       "    </tr>\n",
       "    <tr>\n",
       "      <th>4</th>\n",
       "      <td>23:58:00</td>\n",
       "    </tr>\n",
       "    <tr>\n",
       "      <th>5</th>\n",
       "      <td>00:05:00</td>\n",
       "    </tr>\n",
       "    <tr>\n",
       "      <th>6</th>\n",
       "      <td>00:12:00</td>\n",
       "    </tr>\n",
       "    <tr>\n",
       "      <th>7</th>\n",
       "      <td>00:19:00</td>\n",
       "    </tr>\n",
       "    <tr>\n",
       "      <th>8</th>\n",
       "      <td>00:26:00</td>\n",
       "    </tr>\n",
       "  </tbody>\n",
       "</table>\n",
       "</div>"
      ],
      "text/plain": [
       "          0\n",
       "0  23:30:00\n",
       "1  23:37:00\n",
       "2  23:44:00\n",
       "3  23:51:00\n",
       "4  23:58:00\n",
       "5  00:05:00\n",
       "6  00:12:00\n",
       "7  00:19:00\n",
       "8  00:26:00"
      ]
     },
     "execution_count": 38,
     "metadata": {},
     "output_type": "execute_result"
    }
   ],
   "source": [
    "s = pd.DataFrame(ts.index.time)\n",
    "s"
   ]
  },
  {
   "cell_type": "code",
   "execution_count": 40,
   "id": "7797234f-6a4f-4eb4-94de-2374824790d6",
   "metadata": {},
   "outputs": [
    {
     "data": {
      "text/plain": [
       "2000-10-01 23:00:00    10\n",
       "2000-10-02 00:00:00    26\n",
       "Freq: H, dtype: int32"
      ]
     },
     "execution_count": 40,
     "metadata": {},
     "output_type": "execute_result"
    }
   ],
   "source": [
    "ts.resample('1H').sum()"
   ]
  },
  {
   "cell_type": "code",
   "execution_count": 52,
   "id": "e471cd72-9cd9-4b09-aec4-4b33b9f13590",
   "metadata": {},
   "outputs": [
    {
     "data": {
      "text/plain": [
       "2000-10-01 17:28:00    0\n",
       "2000-10-01 17:35:00    1\n",
       "2000-10-01 17:42:00    2\n",
       "2000-10-01 17:49:00    3\n",
       "2000-10-01 17:56:00    4\n",
       "2000-10-01 18:03:00    5\n",
       "2000-10-01 18:10:00    6\n",
       "2000-10-01 18:17:00    7\n",
       "2000-10-01 18:24:00    8\n",
       "2000-10-01 18:31:00    9\n",
       "Freq: 7T, dtype: int32"
      ]
     },
     "execution_count": 52,
     "metadata": {},
     "output_type": "execute_result"
    }
   ],
   "source": [
    "start, end = '2000-10-01 17:28:00', '2000-10-01 18:32:00'\n",
    "idx = pd.date_range(start, end, freq='7min')\n",
    "ts1 = pd.Series(np.arange(len(idx)), index=idx)\n",
    "ts1"
   ]
  },
  {
   "cell_type": "code",
   "execution_count": 55,
   "id": "fe0c28cf-c7ab-42f6-8a10-a22759ab6061",
   "metadata": {},
   "outputs": [
    {
     "data": {
      "text/plain": [
       "2000-10-01 17:30:00     0\n",
       "2000-10-01 18:00:00    10\n",
       "2000-10-01 18:30:00    26\n",
       "2000-10-01 19:00:00     9\n",
       "Freq: 30T, dtype: int32"
      ]
     },
     "execution_count": 55,
     "metadata": {},
     "output_type": "execute_result"
    }
   ],
   "source": [
    "ts1.resample('30T', origin='end_day').sum()"
   ]
  },
  {
   "cell_type": "code",
   "execution_count": 61,
   "id": "b951147d-19d7-435f-a406-7987fa02b495",
   "metadata": {},
   "outputs": [
    {
     "data": {
      "text/plain": [
       "Timestamp('2000-10-02 00:00:00')"
      ]
     },
     "execution_count": 61,
     "metadata": {},
     "output_type": "execute_result"
    }
   ],
   "source": [
    "ceil_mid = idx.max().ceil('D')\n",
    "freq = pd.offsets.Minute(17)\n",
    "ceil_mid"
   ]
  },
  {
   "cell_type": "code",
   "execution_count": 68,
   "id": "ebf3e189-bbc1-4de4-a050-9907fe28b7f1",
   "metadata": {},
   "outputs": [
    {
     "data": {
      "text/plain": [
       "Timedelta('0 days 05:29:00')"
      ]
     },
     "execution_count": 68,
     "metadata": {},
     "output_type": "execute_result"
    }
   ],
   "source": [
    "ceil_mid - idx.max()"
   ]
  },
  {
   "cell_type": "code",
   "execution_count": 71,
   "id": "054e7db9-6e32-4bdb-998d-1abd85d1c25e",
   "metadata": {},
   "outputs": [
    {
     "data": {
      "text/plain": [
       "Timestamp('2000-10-01 18:31:00')"
      ]
     },
     "execution_count": 71,
     "metadata": {},
     "output_type": "execute_result"
    }
   ],
   "source": [
    "ceil_mid - ((ceil_mid - idx.max())/ freq)*freq"
   ]
  },
  {
   "cell_type": "code",
   "execution_count": 66,
   "id": "107f8a38-d338-4295-abce-53bd78a3acfd",
   "metadata": {},
   "outputs": [
    {
     "data": {
      "text/plain": [
       "19"
      ]
     },
     "execution_count": 66,
     "metadata": {},
     "output_type": "execute_result"
    }
   ],
   "source": [
    "(ceil_mid - idx.max())// freq"
   ]
  },
  {
   "cell_type": "code",
   "execution_count": 72,
   "id": "3894a6de-a8d7-4be2-a528-748edaeccc90",
   "metadata": {},
   "outputs": [
    {
     "data": {
      "text/plain": [
       "Timestamp('2000-10-01 18:37:00')"
      ]
     },
     "execution_count": 72,
     "metadata": {},
     "output_type": "execute_result"
    }
   ],
   "source": [
    "ceil_mid - ((ceil_mid - idx.max())// freq)* freq"
   ]
  },
  {
   "cell_type": "code",
   "execution_count": 75,
   "id": "b7258d3e-f099-4d95-943d-0724c3b2681d",
   "metadata": {},
   "outputs": [
    {
     "data": {
      "text/plain": [
       "Period('2014-07-01 11:00', 'H')"
      ]
     },
     "execution_count": 75,
     "metadata": {},
     "output_type": "execute_result"
    }
   ],
   "source": [
    "p = pd.Period('2014-07-01 09:00', freq='H')\n",
    "p + pd.offsets.Hour(2)"
   ]
  },
  {
   "cell_type": "code",
   "execution_count": 76,
   "id": "e43e3337-a102-4bd2-93b4-1ec1b8c3c2b5",
   "metadata": {},
   "outputs": [
    {
     "data": {
      "text/plain": [
       "2011-01   -0.454808\n",
       "2011-02   -0.368664\n",
       "2011-03   -0.008570\n",
       "2011-04   -0.151392\n",
       "2011-05   -0.562880\n",
       "2011-06    0.965353\n",
       "2011-07    0.317426\n",
       "2011-08    0.297319\n",
       "2011-09   -0.248882\n",
       "2011-10   -0.566771\n",
       "2011-11    0.153644\n",
       "2011-12    1.248233\n",
       "2012-01    0.392385\n",
       "Freq: M, dtype: float64"
      ]
     },
     "execution_count": 76,
     "metadata": {},
     "output_type": "execute_result"
    }
   ],
   "source": [
    "prng = pd.period_range(\"1/1/2011\", \"1/1/2012\", freq=\"M\")\n",
    "ps = pd.Series(np.random.randn(len(prng)), prng)\n",
    "ps"
   ]
  },
  {
   "cell_type": "code",
   "execution_count": 81,
   "id": "1ee810ab-28ab-4915-a537-f65c255130d8",
   "metadata": {},
   "outputs": [
    {
     "data": {
      "text/plain": [
       "array(['a', 'a'], dtype='<U1')"
      ]
     },
     "execution_count": 81,
     "metadata": {},
     "output_type": "execute_result"
    }
   ],
   "source": [
    "np.random.choice(['a', 'b'], 2)"
   ]
  },
  {
   "cell_type": "code",
   "execution_count": 87,
   "id": "68c8b354-a30d-49cd-95b8-c2b557fb063d",
   "metadata": {},
   "outputs": [],
   "source": [
    "# index=pd.MultiIndex.from_product([list('abcde'), np.random.choice([1,4], 2)])"
   ]
  },
  {
   "cell_type": "code",
   "execution_count": 89,
   "id": "9b4da6bc-7d49-441c-bc43-a017dc0e838e",
   "metadata": {},
   "outputs": [
    {
     "data": {
      "text/html": [
       "<div>\n",
       "<style scoped>\n",
       "    .dataframe tbody tr th:only-of-type {\n",
       "        vertical-align: middle;\n",
       "    }\n",
       "\n",
       "    .dataframe tbody tr th {\n",
       "        vertical-align: top;\n",
       "    }\n",
       "\n",
       "    .dataframe thead th {\n",
       "        text-align: right;\n",
       "    }\n",
       "</style>\n",
       "<table border=\"1\" class=\"dataframe\">\n",
       "  <thead>\n",
       "    <tr style=\"text-align: right;\">\n",
       "      <th></th>\n",
       "      <th></th>\n",
       "      <th>0</th>\n",
       "      <th>1</th>\n",
       "      <th>2</th>\n",
       "    </tr>\n",
       "  </thead>\n",
       "  <tbody>\n",
       "    <tr>\n",
       "      <th rowspan=\"2\" valign=\"top\">a</th>\n",
       "      <th>4</th>\n",
       "      <td>-0.109414</td>\n",
       "      <td>-0.380450</td>\n",
       "      <td>-1.135320</td>\n",
       "    </tr>\n",
       "    <tr>\n",
       "      <th>1</th>\n",
       "      <td>-0.955772</td>\n",
       "      <td>1.453154</td>\n",
       "      <td>-0.119474</td>\n",
       "    </tr>\n",
       "    <tr>\n",
       "      <th rowspan=\"2\" valign=\"top\">b</th>\n",
       "      <th>4</th>\n",
       "      <td>-1.226255</td>\n",
       "      <td>-1.639430</td>\n",
       "      <td>0.080090</td>\n",
       "    </tr>\n",
       "    <tr>\n",
       "      <th>1</th>\n",
       "      <td>2.244107</td>\n",
       "      <td>-0.895580</td>\n",
       "      <td>-1.519574</td>\n",
       "    </tr>\n",
       "    <tr>\n",
       "      <th rowspan=\"2\" valign=\"top\">c</th>\n",
       "      <th>4</th>\n",
       "      <td>1.348866</td>\n",
       "      <td>-0.080391</td>\n",
       "      <td>0.058733</td>\n",
       "    </tr>\n",
       "    <tr>\n",
       "      <th>1</th>\n",
       "      <td>-0.381895</td>\n",
       "      <td>1.644628</td>\n",
       "      <td>-0.389127</td>\n",
       "    </tr>\n",
       "    <tr>\n",
       "      <th rowspan=\"2\" valign=\"top\">d</th>\n",
       "      <th>4</th>\n",
       "      <td>-0.874683</td>\n",
       "      <td>-1.265127</td>\n",
       "      <td>-0.322754</td>\n",
       "    </tr>\n",
       "    <tr>\n",
       "      <th>1</th>\n",
       "      <td>-2.442701</td>\n",
       "      <td>1.799368</td>\n",
       "      <td>0.036383</td>\n",
       "    </tr>\n",
       "    <tr>\n",
       "      <th rowspan=\"2\" valign=\"top\">e</th>\n",
       "      <th>4</th>\n",
       "      <td>0.574734</td>\n",
       "      <td>-0.643097</td>\n",
       "      <td>-0.292350</td>\n",
       "    </tr>\n",
       "    <tr>\n",
       "      <th>1</th>\n",
       "      <td>-0.030464</td>\n",
       "      <td>0.675070</td>\n",
       "      <td>-0.488487</td>\n",
       "    </tr>\n",
       "  </tbody>\n",
       "</table>\n",
       "</div>"
      ],
      "text/plain": [
       "            0         1         2\n",
       "a 4 -0.109414 -0.380450 -1.135320\n",
       "  1 -0.955772  1.453154 -0.119474\n",
       "b 4 -1.226255 -1.639430  0.080090\n",
       "  1  2.244107 -0.895580 -1.519574\n",
       "c 4  1.348866 -0.080391  0.058733\n",
       "  1 -0.381895  1.644628 -0.389127\n",
       "d 4 -0.874683 -1.265127 -0.322754\n",
       "  1 -2.442701  1.799368  0.036383\n",
       "e 4  0.574734 -0.643097 -0.292350\n",
       "  1 -0.030464  0.675070 -0.488487"
      ]
     },
     "execution_count": 89,
     "metadata": {},
     "output_type": "execute_result"
    }
   ],
   "source": [
    "df = pd.DataFrame(np.random.randn(10,3), index=pd.MultiIndex.from_product([list('abcde'), np.random.choice([1,4,5],2)]))\n",
    "df"
   ]
  },
  {
   "cell_type": "code",
   "execution_count": 93,
   "id": "6468df4b-68bd-4db3-b04d-ac0248b77fdd",
   "metadata": {},
   "outputs": [
    {
     "name": "stdout",
     "output_type": "stream",
     "text": [
      "Title: 1\n",
      "content:             0         1         2\n",
      "a 1 -0.955772  1.453154 -0.119474\n",
      "b 1  2.244107 -0.895580 -1.519574\n",
      "c 1 -0.381895  1.644628 -0.389127\n",
      "d 1 -2.442701  1.799368  0.036383\n",
      "e 1 -0.030464  0.675070 -0.488487\n",
      "Title: 4\n",
      "content:             0         1         2\n",
      "a 4 -0.109414 -0.380450 -1.135320\n",
      "b 4 -1.226255 -1.639430  0.080090\n",
      "c 4  1.348866 -0.080391  0.058733\n",
      "d 4 -0.874683 -1.265127 -0.322754\n",
      "e 4  0.574734 -0.643097 -0.292350\n"
     ]
    }
   ],
   "source": [
    "for i, j in df.groupby(level=1):\n",
    "    print('Title:', i)\n",
    "    print('content:', j)"
   ]
  },
  {
   "cell_type": "code",
   "execution_count": 101,
   "id": "38fa070a-4df8-46bf-b25a-9c9fae9b59a2",
   "metadata": {},
   "outputs": [
    {
     "data": {
      "text/html": [
       "<div>\n",
       "<style scoped>\n",
       "    .dataframe tbody tr th:only-of-type {\n",
       "        vertical-align: middle;\n",
       "    }\n",
       "\n",
       "    .dataframe tbody tr th {\n",
       "        vertical-align: top;\n",
       "    }\n",
       "\n",
       "    .dataframe thead th {\n",
       "        text-align: right;\n",
       "    }\n",
       "</style>\n",
       "<table border=\"1\" class=\"dataframe\">\n",
       "  <thead>\n",
       "    <tr style=\"text-align: right;\">\n",
       "      <th></th>\n",
       "      <th></th>\n",
       "      <th>0</th>\n",
       "      <th>1</th>\n",
       "      <th>2</th>\n",
       "    </tr>\n",
       "  </thead>\n",
       "  <tbody>\n",
       "    <tr>\n",
       "      <th>a</th>\n",
       "      <th>4</th>\n",
       "      <td>-0.109414</td>\n",
       "      <td>-0.380450</td>\n",
       "      <td>-1.135320</td>\n",
       "    </tr>\n",
       "    <tr>\n",
       "      <th>b</th>\n",
       "      <th>4</th>\n",
       "      <td>-1.226255</td>\n",
       "      <td>-1.639430</td>\n",
       "      <td>0.080090</td>\n",
       "    </tr>\n",
       "    <tr>\n",
       "      <th>c</th>\n",
       "      <th>4</th>\n",
       "      <td>1.348866</td>\n",
       "      <td>-0.080391</td>\n",
       "      <td>0.058733</td>\n",
       "    </tr>\n",
       "    <tr>\n",
       "      <th>d</th>\n",
       "      <th>4</th>\n",
       "      <td>-0.874683</td>\n",
       "      <td>-1.265127</td>\n",
       "      <td>-0.322754</td>\n",
       "    </tr>\n",
       "    <tr>\n",
       "      <th>e</th>\n",
       "      <th>4</th>\n",
       "      <td>0.574734</td>\n",
       "      <td>-0.643097</td>\n",
       "      <td>-0.292350</td>\n",
       "    </tr>\n",
       "  </tbody>\n",
       "</table>\n",
       "</div>"
      ],
      "text/plain": [
       "            0         1         2\n",
       "a 4 -0.109414 -0.380450 -1.135320\n",
       "b 4 -1.226255 -1.639430  0.080090\n",
       "c 4  1.348866 -0.080391  0.058733\n",
       "d 4 -0.874683 -1.265127 -0.322754\n",
       "e 4  0.574734 -0.643097 -0.292350"
      ]
     },
     "execution_count": 101,
     "metadata": {},
     "output_type": "execute_result"
    }
   ],
   "source": [
    "df1 = df.groupby(level=1).get_group(4)\n",
    "df1"
   ]
  },
  {
   "cell_type": "code",
   "execution_count": 102,
   "id": "4f644aa9-2bd2-4697-aad2-1455774d3972",
   "metadata": {},
   "outputs": [
    {
     "data": {
      "text/plain": [
       "2011-01   -0.454808\n",
       "2011-02   -0.368664\n",
       "2011-03   -0.008570\n",
       "2011-04   -0.151392\n",
       "2011-05   -0.562880\n",
       "2011-06    0.965353\n",
       "2011-07    0.317426\n",
       "2011-08    0.297319\n",
       "2011-09   -0.248882\n",
       "2011-10   -0.566771\n",
       "2011-11    0.153644\n",
       "2011-12    1.248233\n",
       "2012-01    0.392385\n",
       "Freq: M, dtype: float64"
      ]
     },
     "execution_count": 102,
     "metadata": {},
     "output_type": "execute_result"
    }
   ],
   "source": [
    "ps"
   ]
  },
  {
   "cell_type": "code",
   "execution_count": 104,
   "id": "66c9dc4e-671b-43e2-9b77-688c280bd773",
   "metadata": {},
   "outputs": [
    {
     "data": {
      "text/html": [
       "<div>\n",
       "<style scoped>\n",
       "    .dataframe tbody tr th:only-of-type {\n",
       "        vertical-align: middle;\n",
       "    }\n",
       "\n",
       "    .dataframe tbody tr th {\n",
       "        vertical-align: top;\n",
       "    }\n",
       "\n",
       "    .dataframe thead th {\n",
       "        text-align: right;\n",
       "    }\n",
       "</style>\n",
       "<table border=\"1\" class=\"dataframe\">\n",
       "  <thead>\n",
       "    <tr style=\"text-align: right;\">\n",
       "      <th></th>\n",
       "      <th>A</th>\n",
       "    </tr>\n",
       "  </thead>\n",
       "  <tbody>\n",
       "    <tr>\n",
       "      <th>2013-01-01 10:00</th>\n",
       "      <td>-1.057519</td>\n",
       "    </tr>\n",
       "    <tr>\n",
       "      <th>2013-01-01 10:01</th>\n",
       "      <td>-0.522349</td>\n",
       "    </tr>\n",
       "    <tr>\n",
       "      <th>2013-01-01 10:02</th>\n",
       "      <td>0.525470</td>\n",
       "    </tr>\n",
       "  </tbody>\n",
       "</table>\n",
       "</div>"
      ],
      "text/plain": [
       "                         A\n",
       "2013-01-01 10:00 -1.057519\n",
       "2013-01-01 10:01 -0.522349\n",
       "2013-01-01 10:02  0.525470"
      ]
     },
     "execution_count": 104,
     "metadata": {},
     "output_type": "execute_result"
    }
   ],
   "source": [
    "dfp = pd.DataFrame(np.random.randn(600, 1), index=pd.period_range('2013-01-01 09:00', freq='T', periods=600), columns=['A'])\n",
    "dfp.loc['2013-01-01 10H'].head(3)"
   ]
  },
  {
   "cell_type": "code",
   "execution_count": 106,
   "id": "8935c58a-ac9f-4559-8eda-663b8dd44933",
   "metadata": {},
   "outputs": [],
   "source": [
    "dfp['YYYY-MM'] = dfp.index.asfreq('M')"
   ]
  },
  {
   "cell_type": "code",
   "execution_count": 107,
   "id": "81929864-f7fb-4ae8-9f6f-18722c05452f",
   "metadata": {},
   "outputs": [
    {
     "data": {
      "text/html": [
       "<div>\n",
       "<style scoped>\n",
       "    .dataframe tbody tr th:only-of-type {\n",
       "        vertical-align: middle;\n",
       "    }\n",
       "\n",
       "    .dataframe tbody tr th {\n",
       "        vertical-align: top;\n",
       "    }\n",
       "\n",
       "    .dataframe thead th {\n",
       "        text-align: right;\n",
       "    }\n",
       "</style>\n",
       "<table border=\"1\" class=\"dataframe\">\n",
       "  <thead>\n",
       "    <tr style=\"text-align: right;\">\n",
       "      <th></th>\n",
       "      <th>A</th>\n",
       "      <th>YYYY-MM</th>\n",
       "    </tr>\n",
       "  </thead>\n",
       "  <tbody>\n",
       "    <tr>\n",
       "      <th>2013-01-01 09:00</th>\n",
       "      <td>-0.630555</td>\n",
       "      <td>2013-01</td>\n",
       "    </tr>\n",
       "    <tr>\n",
       "      <th>2013-01-01 09:01</th>\n",
       "      <td>0.202781</td>\n",
       "      <td>2013-01</td>\n",
       "    </tr>\n",
       "    <tr>\n",
       "      <th>2013-01-01 09:02</th>\n",
       "      <td>0.917546</td>\n",
       "      <td>2013-01</td>\n",
       "    </tr>\n",
       "    <tr>\n",
       "      <th>2013-01-01 09:03</th>\n",
       "      <td>1.016854</td>\n",
       "      <td>2013-01</td>\n",
       "    </tr>\n",
       "    <tr>\n",
       "      <th>2013-01-01 09:04</th>\n",
       "      <td>0.322568</td>\n",
       "      <td>2013-01</td>\n",
       "    </tr>\n",
       "    <tr>\n",
       "      <th>...</th>\n",
       "      <td>...</td>\n",
       "      <td>...</td>\n",
       "    </tr>\n",
       "    <tr>\n",
       "      <th>2013-01-01 18:55</th>\n",
       "      <td>0.788668</td>\n",
       "      <td>2013-01</td>\n",
       "    </tr>\n",
       "    <tr>\n",
       "      <th>2013-01-01 18:56</th>\n",
       "      <td>-1.471180</td>\n",
       "      <td>2013-01</td>\n",
       "    </tr>\n",
       "    <tr>\n",
       "      <th>2013-01-01 18:57</th>\n",
       "      <td>-0.492278</td>\n",
       "      <td>2013-01</td>\n",
       "    </tr>\n",
       "    <tr>\n",
       "      <th>2013-01-01 18:58</th>\n",
       "      <td>-0.093216</td>\n",
       "      <td>2013-01</td>\n",
       "    </tr>\n",
       "    <tr>\n",
       "      <th>2013-01-01 18:59</th>\n",
       "      <td>0.507941</td>\n",
       "      <td>2013-01</td>\n",
       "    </tr>\n",
       "  </tbody>\n",
       "</table>\n",
       "<p>600 rows × 2 columns</p>\n",
       "</div>"
      ],
      "text/plain": [
       "                         A  YYYY-MM\n",
       "2013-01-01 09:00 -0.630555  2013-01\n",
       "2013-01-01 09:01  0.202781  2013-01\n",
       "2013-01-01 09:02  0.917546  2013-01\n",
       "2013-01-01 09:03  1.016854  2013-01\n",
       "2013-01-01 09:04  0.322568  2013-01\n",
       "...                    ...      ...\n",
       "2013-01-01 18:55  0.788668  2013-01\n",
       "2013-01-01 18:56 -1.471180  2013-01\n",
       "2013-01-01 18:57 -0.492278  2013-01\n",
       "2013-01-01 18:58 -0.093216  2013-01\n",
       "2013-01-01 18:59  0.507941  2013-01\n",
       "\n",
       "[600 rows x 2 columns]"
      ]
     },
     "execution_count": 107,
     "metadata": {},
     "output_type": "execute_result"
    }
   ],
   "source": [
    "dfp"
   ]
  },
  {
   "cell_type": "code",
   "execution_count": 108,
   "id": "361e957f-2423-468a-8326-953ceec0c395",
   "metadata": {},
   "outputs": [
    {
     "data": {
      "text/plain": [
       "PeriodIndex(['2013-01-01', '2013-01-01', '2013-01-01', '2013-01-01',\n",
       "             '2013-01-01', '2013-01-01', '2013-01-01', '2013-01-01',\n",
       "             '2013-01-01', '2013-01-01',\n",
       "             ...\n",
       "             '2013-01-01', '2013-01-01', '2013-01-01', '2013-01-01',\n",
       "             '2013-01-01', '2013-01-01', '2013-01-01', '2013-01-01',\n",
       "             '2013-01-01', '2013-01-01'],\n",
       "            dtype='period[D]', length=600)"
      ]
     },
     "execution_count": 108,
     "metadata": {},
     "output_type": "execute_result"
    }
   ],
   "source": [
    "dfp.index.asfreq('D')"
   ]
  },
  {
   "cell_type": "code",
   "execution_count": 112,
   "id": "db415867-5fa8-4818-bec3-aef151a238bd",
   "metadata": {},
   "outputs": [
    {
     "data": {
      "text/plain": [
       "1990-03-01 09:00    0.157081\n",
       "1990-06-01 09:00    1.004570\n",
       "1990-09-01 09:00   -0.232262\n",
       "1990-12-01 09:00    2.172518\n",
       "1991-03-01 09:00    0.483981\n",
       "1991-06-01 09:00    1.466530\n",
       "1991-09-01 09:00   -0.411179\n",
       "1991-12-01 09:00   -1.416284\n",
       "1992-03-01 09:00   -0.483605\n",
       "1992-06-01 09:00    0.884201\n",
       "1992-09-01 09:00    0.295986\n",
       "1992-12-01 09:00   -1.371095\n",
       "1993-03-01 09:00   -0.668123\n",
       "1993-06-01 09:00    0.495792\n",
       "1993-09-01 09:00    0.184778\n",
       "1993-12-01 09:00   -0.874798\n",
       "1994-03-01 09:00   -1.037237\n",
       "1994-06-01 09:00   -1.051655\n",
       "1994-09-01 09:00    2.015698\n",
       "1994-12-01 09:00    1.602962\n",
       "1995-03-01 09:00   -0.679494\n",
       "1995-06-01 09:00   -0.540236\n",
       "1995-09-01 09:00   -0.306885\n",
       "1995-12-01 09:00    0.279357\n",
       "1996-03-01 09:00   -0.350423\n",
       "1996-06-01 09:00    0.648381\n",
       "1996-09-01 09:00    0.069235\n",
       "1996-12-01 09:00    1.001059\n",
       "1997-03-01 09:00    1.137474\n",
       "1997-06-01 09:00   -2.452650\n",
       "1997-09-01 09:00   -0.298739\n",
       "1997-12-01 09:00   -0.295293\n",
       "1998-03-01 09:00    1.767770\n",
       "1998-06-01 09:00    0.706692\n",
       "1998-09-01 09:00    1.242415\n",
       "1998-12-01 09:00    1.463783\n",
       "1999-03-01 09:00    0.888731\n",
       "1999-06-01 09:00   -1.371149\n",
       "1999-09-01 09:00    0.923067\n",
       "1999-12-01 09:00   -0.237898\n",
       "2000-03-01 09:00   -0.757908\n",
       "2000-06-01 09:00    0.332822\n",
       "2000-09-01 09:00    1.797553\n",
       "2000-12-01 09:00    0.464369\n",
       "Freq: H, dtype: float64"
      ]
     },
     "execution_count": 112,
     "metadata": {},
     "output_type": "execute_result"
    }
   ],
   "source": [
    "prng = pd.period_range('1990Q1', '2000Q4', freq='Q-NOV')\n",
    "ts = pd.Series(np.random.randn(len(prng)), index=prng)\n",
    "ts.index = (prng.asfreq('M', 'e') + 1).asfreq('H', 's') + 9\n",
    "ts"
   ]
  },
  {
   "cell_type": "code",
   "execution_count": 111,
   "id": "902a12b0-af9a-485e-8b2b-037a94f2c4cf",
   "metadata": {},
   "outputs": [
    {
     "data": {
      "text/plain": [
       "PeriodIndex(['1990-02', '1990-05', '1990-08', '1990-11', '1991-02', '1991-05',\n",
       "             '1991-08', '1991-11', '1992-02', '1992-05', '1992-08', '1992-11',\n",
       "             '1993-02', '1993-05', '1993-08', '1993-11', '1994-02', '1994-05',\n",
       "             '1994-08', '1994-11', '1995-02', '1995-05', '1995-08', '1995-11',\n",
       "             '1996-02', '1996-05', '1996-08', '1996-11', '1997-02', '1997-05',\n",
       "             '1997-08', '1997-11', '1998-02', '1998-05', '1998-08', '1998-11',\n",
       "             '1999-02', '1999-05', '1999-08', '1999-11', '2000-02', '2000-05',\n",
       "             '2000-08', '2000-11'],\n",
       "            dtype='period[M]')"
      ]
     },
     "execution_count": 111,
     "metadata": {},
     "output_type": "execute_result"
    }
   ],
   "source": [
    "prng.asfreq('M', 'e')"
   ]
  },
  {
   "cell_type": "code",
   "execution_count": 113,
   "id": "33245174-af65-4f04-8c42-d75380b42ed0",
   "metadata": {},
   "outputs": [
    {
     "data": {
      "text/plain": [
       "<DstTzInfo 'Europe/London' LMT-1 day, 23:59:00 STD>"
      ]
     },
     "execution_count": 113,
     "metadata": {},
     "output_type": "execute_result"
    }
   ],
   "source": [
    "import dateutil\n",
    "rng_pytz = pd.date_range('3/6/2012 00:00', periods=3, freq='D', tz='Europe/London')\n",
    "rng_pytz.tz"
   ]
  },
  {
   "cell_type": "code",
   "execution_count": null,
   "id": "6bdf2b14-37df-4e80-8a4d-7781c9be8584",
   "metadata": {},
   "outputs": [],
   "source": []
  },
  {
   "cell_type": "code",
   "execution_count": null,
   "id": "714605c6-d303-422b-96e0-e729fdf3b4ed",
   "metadata": {},
   "outputs": [],
   "source": []
  },
  {
   "cell_type": "code",
   "execution_count": null,
   "id": "b02db53d-4869-40de-9e5b-8b11d7b85b53",
   "metadata": {},
   "outputs": [],
   "source": []
  },
  {
   "cell_type": "code",
   "execution_count": null,
   "id": "43531712-fd3a-47e4-8c0f-6a735e927eef",
   "metadata": {},
   "outputs": [],
   "source": []
  },
  {
   "cell_type": "code",
   "execution_count": null,
   "id": "3dee01e7-52d0-422e-91dd-93a0569d697e",
   "metadata": {},
   "outputs": [],
   "source": []
  },
  {
   "cell_type": "code",
   "execution_count": null,
   "id": "e8de56ab-cdfc-4664-a9d1-8cd91f3fb605",
   "metadata": {},
   "outputs": [],
   "source": []
  },
  {
   "cell_type": "code",
   "execution_count": null,
   "id": "a3c76b90-ae69-4b27-bbb2-6ff398afd77e",
   "metadata": {},
   "outputs": [],
   "source": []
  },
  {
   "cell_type": "code",
   "execution_count": null,
   "id": "2b33f5bd-bd94-4885-87bd-b78e3cf21a3d",
   "metadata": {},
   "outputs": [],
   "source": []
  },
  {
   "cell_type": "code",
   "execution_count": null,
   "id": "24aecba1-6132-4fde-b084-12b8db9bfbdd",
   "metadata": {},
   "outputs": [],
   "source": []
  },
  {
   "cell_type": "code",
   "execution_count": null,
   "id": "9df73ac6-c348-4112-a26e-c9818ec07ab1",
   "metadata": {},
   "outputs": [],
   "source": []
  },
  {
   "cell_type": "code",
   "execution_count": null,
   "id": "1232ac9d-6b8c-41c1-a6f6-ef745e0c0342",
   "metadata": {},
   "outputs": [],
   "source": []
  },
  {
   "cell_type": "code",
   "execution_count": null,
   "id": "288cd755-f52d-4cb1-bca9-482b640a236c",
   "metadata": {},
   "outputs": [],
   "source": []
  },
  {
   "cell_type": "code",
   "execution_count": null,
   "id": "afe132dd-05f0-4aeb-870f-c543cea22b50",
   "metadata": {},
   "outputs": [],
   "source": []
  },
  {
   "cell_type": "code",
   "execution_count": null,
   "id": "a4a80ab9-698d-4c53-81c7-0187a9eca193",
   "metadata": {},
   "outputs": [],
   "source": []
  },
  {
   "cell_type": "code",
   "execution_count": null,
   "id": "fef3670f-4202-4894-a7f5-0aaaca1e685f",
   "metadata": {},
   "outputs": [],
   "source": []
  },
  {
   "cell_type": "code",
   "execution_count": null,
   "id": "94337ab7-3472-46b7-a241-e976476f3998",
   "metadata": {},
   "outputs": [],
   "source": []
  },
  {
   "cell_type": "code",
   "execution_count": null,
   "id": "e0a06b7e-e83e-494c-8b36-512164003e36",
   "metadata": {},
   "outputs": [],
   "source": []
  },
  {
   "cell_type": "code",
   "execution_count": null,
   "id": "11d095fc-7b02-4cc8-b17b-8776a61649fd",
   "metadata": {},
   "outputs": [],
   "source": []
  },
  {
   "cell_type": "code",
   "execution_count": null,
   "id": "0da9ebd2-69f7-470f-b26b-d4593ab271df",
   "metadata": {},
   "outputs": [],
   "source": []
  },
  {
   "cell_type": "code",
   "execution_count": null,
   "id": "7b03c499-6c91-4e86-9152-997c68c90752",
   "metadata": {},
   "outputs": [],
   "source": []
  },
  {
   "cell_type": "code",
   "execution_count": null,
   "id": "416ddd67-ff2f-4131-831f-abe4bc4c41f3",
   "metadata": {},
   "outputs": [],
   "source": []
  },
  {
   "cell_type": "code",
   "execution_count": null,
   "id": "11b0e576-ed1e-46eb-9d7c-d9daeed30a71",
   "metadata": {},
   "outputs": [],
   "source": []
  },
  {
   "cell_type": "code",
   "execution_count": null,
   "id": "7f1ee31f-4fe7-40ec-ad20-9c73fd315b69",
   "metadata": {},
   "outputs": [],
   "source": []
  },
  {
   "cell_type": "code",
   "execution_count": null,
   "id": "449d76e7-0f60-417b-9fb0-d6ce1198402a",
   "metadata": {},
   "outputs": [],
   "source": []
  },
  {
   "cell_type": "code",
   "execution_count": null,
   "id": "1c64c441-1504-4d37-a8b1-3af08987b9c3",
   "metadata": {},
   "outputs": [],
   "source": []
  },
  {
   "cell_type": "code",
   "execution_count": null,
   "id": "98301d3d-e8a2-4d6b-a96e-ff1f9660704a",
   "metadata": {},
   "outputs": [],
   "source": []
  },
  {
   "cell_type": "code",
   "execution_count": null,
   "id": "1b3576f9-024d-4963-a79e-18bcdc78f577",
   "metadata": {},
   "outputs": [],
   "source": []
  },
  {
   "cell_type": "code",
   "execution_count": null,
   "id": "4634e0bc-f57b-4cbb-afee-7ccbd6b0eb7b",
   "metadata": {},
   "outputs": [],
   "source": []
  },
  {
   "cell_type": "code",
   "execution_count": null,
   "id": "4b106884-67d7-4632-be69-4ea7b358536d",
   "metadata": {},
   "outputs": [],
   "source": []
  },
  {
   "cell_type": "code",
   "execution_count": null,
   "id": "2516bd0a-5de5-4a01-9c08-0f39d4291b4d",
   "metadata": {},
   "outputs": [],
   "source": []
  },
  {
   "cell_type": "code",
   "execution_count": null,
   "id": "2fd8028e-a4f0-4e3d-b441-575a935665ae",
   "metadata": {},
   "outputs": [],
   "source": []
  },
  {
   "cell_type": "code",
   "execution_count": null,
   "id": "c74bbe61-abc9-4855-91c5-bf87b7e10761",
   "metadata": {},
   "outputs": [],
   "source": []
  },
  {
   "cell_type": "code",
   "execution_count": null,
   "id": "1835414b-6935-461c-ab27-2b58c48ee819",
   "metadata": {},
   "outputs": [],
   "source": []
  },
  {
   "cell_type": "code",
   "execution_count": null,
   "id": "85e91aa6-5dd5-421e-b89a-00e6ecb2d29d",
   "metadata": {},
   "outputs": [],
   "source": []
  },
  {
   "cell_type": "code",
   "execution_count": null,
   "id": "9a57e535-4639-4a7e-a1a1-915265afd7f4",
   "metadata": {},
   "outputs": [],
   "source": []
  },
  {
   "cell_type": "code",
   "execution_count": null,
   "id": "b2b115d8-8058-4a46-943f-157d47ec5e52",
   "metadata": {},
   "outputs": [],
   "source": []
  },
  {
   "cell_type": "code",
   "execution_count": null,
   "id": "b19d684c-020e-47c5-8d0c-6270e3fb85eb",
   "metadata": {},
   "outputs": [],
   "source": []
  },
  {
   "cell_type": "code",
   "execution_count": null,
   "id": "66929a01-f407-4b8f-97bf-ad759faa1a44",
   "metadata": {},
   "outputs": [],
   "source": []
  },
  {
   "cell_type": "code",
   "execution_count": null,
   "id": "7daeb2be-d4f7-403c-8b6e-b6aed80f3682",
   "metadata": {},
   "outputs": [],
   "source": []
  },
  {
   "cell_type": "code",
   "execution_count": null,
   "id": "48d2b015-3583-4cda-a58c-b9b24a663cc4",
   "metadata": {},
   "outputs": [],
   "source": []
  },
  {
   "cell_type": "code",
   "execution_count": null,
   "id": "f3bd2578-6987-4477-b090-f1cb7c7eebd6",
   "metadata": {},
   "outputs": [],
   "source": []
  },
  {
   "cell_type": "code",
   "execution_count": null,
   "id": "6efa48b7-f451-4a14-9ddd-a8af9ffc2cfb",
   "metadata": {},
   "outputs": [],
   "source": []
  },
  {
   "cell_type": "code",
   "execution_count": null,
   "id": "addd9287-e38a-4632-8ede-19f659d1042f",
   "metadata": {},
   "outputs": [],
   "source": []
  },
  {
   "cell_type": "code",
   "execution_count": null,
   "id": "4e596b82-2b7d-4b0c-af54-e18fabc00cd3",
   "metadata": {},
   "outputs": [],
   "source": []
  },
  {
   "cell_type": "code",
   "execution_count": null,
   "id": "d1f1a9b1-b04b-4eb0-9a78-43f1d6c2ad4c",
   "metadata": {},
   "outputs": [],
   "source": []
  },
  {
   "cell_type": "code",
   "execution_count": null,
   "id": "d07565f6-5cab-438f-b11b-1857e34c6593",
   "metadata": {},
   "outputs": [],
   "source": []
  },
  {
   "cell_type": "code",
   "execution_count": null,
   "id": "9d7c08ef-5ec3-4178-8f24-763f11c0c69e",
   "metadata": {},
   "outputs": [],
   "source": []
  },
  {
   "cell_type": "code",
   "execution_count": null,
   "id": "9844ffc8-0a19-4255-9eca-4f28cb9fe204",
   "metadata": {},
   "outputs": [],
   "source": []
  },
  {
   "cell_type": "code",
   "execution_count": null,
   "id": "8485c068-3c73-486c-a7c3-8c2008160048",
   "metadata": {},
   "outputs": [],
   "source": []
  },
  {
   "cell_type": "code",
   "execution_count": null,
   "id": "6d776e9d-734d-4bff-a0fd-52cf0430698d",
   "metadata": {},
   "outputs": [],
   "source": []
  },
  {
   "cell_type": "code",
   "execution_count": null,
   "id": "e08b72f7-20cc-4439-89ee-9512bf7ba799",
   "metadata": {},
   "outputs": [],
   "source": []
  },
  {
   "cell_type": "code",
   "execution_count": null,
   "id": "563335d7-29a6-412d-a0ef-54e91cd386e9",
   "metadata": {},
   "outputs": [],
   "source": []
  },
  {
   "cell_type": "code",
   "execution_count": null,
   "id": "0d7a883c-3cac-46dd-9b23-0b35c77bbb19",
   "metadata": {},
   "outputs": [],
   "source": []
  },
  {
   "cell_type": "code",
   "execution_count": null,
   "id": "2108eb90-1a19-422b-b3ae-8a0656fcb683",
   "metadata": {},
   "outputs": [],
   "source": []
  },
  {
   "cell_type": "code",
   "execution_count": null,
   "id": "d3a4793a-652f-4f5a-bd42-aba0d39e71ec",
   "metadata": {},
   "outputs": [],
   "source": []
  },
  {
   "cell_type": "code",
   "execution_count": null,
   "id": "6f4ae2dc-32dd-4548-9666-17dc8eb2d228",
   "metadata": {},
   "outputs": [],
   "source": []
  },
  {
   "cell_type": "code",
   "execution_count": null,
   "id": "fb41816b-7ba2-4098-8ad5-eda9fbb6e24d",
   "metadata": {},
   "outputs": [],
   "source": []
  },
  {
   "cell_type": "code",
   "execution_count": null,
   "id": "3e4455ac-dc04-468a-b7b5-c3e0a3dd17f3",
   "metadata": {},
   "outputs": [],
   "source": []
  },
  {
   "cell_type": "code",
   "execution_count": null,
   "id": "8cc608de-7b41-4142-8a3b-1c349e39f146",
   "metadata": {},
   "outputs": [],
   "source": []
  },
  {
   "cell_type": "code",
   "execution_count": null,
   "id": "2d04ce92-463c-4cb6-9c60-2731f1d37255",
   "metadata": {},
   "outputs": [],
   "source": []
  },
  {
   "cell_type": "code",
   "execution_count": null,
   "id": "eb6afdd4-996d-41e2-be24-e871432ae36b",
   "metadata": {},
   "outputs": [],
   "source": []
  },
  {
   "cell_type": "code",
   "execution_count": null,
   "id": "d37c073a-4c2e-4075-b631-6f61659feac2",
   "metadata": {},
   "outputs": [],
   "source": []
  },
  {
   "cell_type": "code",
   "execution_count": null,
   "id": "0e0dcf96-8fd6-43f3-9aeb-a25ee15876e6",
   "metadata": {},
   "outputs": [],
   "source": []
  },
  {
   "cell_type": "code",
   "execution_count": null,
   "id": "50f18629-b8aa-46b5-a4a1-7d88209899c4",
   "metadata": {},
   "outputs": [],
   "source": []
  },
  {
   "cell_type": "code",
   "execution_count": null,
   "id": "f7e3f70b-0774-4909-a5b3-8db1dae586cf",
   "metadata": {},
   "outputs": [],
   "source": []
  },
  {
   "cell_type": "code",
   "execution_count": null,
   "id": "18e9a126-0bfb-4797-a66b-3defcc085817",
   "metadata": {},
   "outputs": [],
   "source": []
  },
  {
   "cell_type": "code",
   "execution_count": null,
   "id": "098ffcb8-f2fe-4c3c-909d-ef1b23a0b8ac",
   "metadata": {},
   "outputs": [],
   "source": []
  },
  {
   "cell_type": "code",
   "execution_count": null,
   "id": "9a5a6c25-591c-4e71-930b-abe9f43c34a0",
   "metadata": {},
   "outputs": [],
   "source": []
  },
  {
   "cell_type": "code",
   "execution_count": null,
   "id": "f15f56c6-6713-4626-b827-a1dd80a8f163",
   "metadata": {},
   "outputs": [],
   "source": []
  },
  {
   "cell_type": "code",
   "execution_count": null,
   "id": "5533b50a-d315-4390-bdc3-6bd0340f2b35",
   "metadata": {},
   "outputs": [],
   "source": []
  },
  {
   "cell_type": "code",
   "execution_count": null,
   "id": "df3f75b4-2c4c-4c70-86b9-0a3ed1cc95ed",
   "metadata": {},
   "outputs": [],
   "source": []
  },
  {
   "cell_type": "code",
   "execution_count": null,
   "id": "2a01c5b4-8896-4726-b7ac-09766fc99440",
   "metadata": {},
   "outputs": [],
   "source": []
  },
  {
   "cell_type": "code",
   "execution_count": null,
   "id": "c87b2398-82a4-4043-81a4-74481de09cca",
   "metadata": {},
   "outputs": [],
   "source": []
  },
  {
   "cell_type": "code",
   "execution_count": null,
   "id": "cc4f745d-0afb-4eb3-8408-1e2b4ee3515f",
   "metadata": {},
   "outputs": [],
   "source": []
  },
  {
   "cell_type": "code",
   "execution_count": null,
   "id": "7314c2ca-456a-4a5f-afb4-20ca317becba",
   "metadata": {},
   "outputs": [],
   "source": []
  },
  {
   "cell_type": "code",
   "execution_count": null,
   "id": "4a0172d6-bdea-4b53-8436-2d0651b6d156",
   "metadata": {},
   "outputs": [],
   "source": []
  },
  {
   "cell_type": "code",
   "execution_count": null,
   "id": "5c7ec76c-ee31-43bd-a677-7d43c3d6b02e",
   "metadata": {},
   "outputs": [],
   "source": []
  },
  {
   "cell_type": "code",
   "execution_count": null,
   "id": "05dab84c-b6d8-4b49-9b2b-05cc080c1377",
   "metadata": {},
   "outputs": [],
   "source": []
  },
  {
   "cell_type": "code",
   "execution_count": null,
   "id": "c7b71a5d-b260-4e29-b538-1cfee6a2e206",
   "metadata": {},
   "outputs": [],
   "source": []
  },
  {
   "cell_type": "code",
   "execution_count": null,
   "id": "b44ec97a-5930-4580-9755-eb369cd3d206",
   "metadata": {},
   "outputs": [],
   "source": []
  },
  {
   "cell_type": "code",
   "execution_count": null,
   "id": "bee0f863-3561-411a-8bba-7faf71cd2f7c",
   "metadata": {},
   "outputs": [],
   "source": []
  },
  {
   "cell_type": "code",
   "execution_count": null,
   "id": "7f6f6029-d4d9-4172-ac29-cdf4aca6e9b2",
   "metadata": {},
   "outputs": [],
   "source": []
  },
  {
   "cell_type": "code",
   "execution_count": null,
   "id": "908cfe76-10b0-4faa-8f43-ff987c4f7044",
   "metadata": {},
   "outputs": [],
   "source": []
  },
  {
   "cell_type": "code",
   "execution_count": null,
   "id": "06bb6cb6-c5dd-46ff-bfb6-48803430d25f",
   "metadata": {},
   "outputs": [],
   "source": []
  },
  {
   "cell_type": "code",
   "execution_count": null,
   "id": "efca6495-5487-45af-86fd-7e894f51ab31",
   "metadata": {},
   "outputs": [],
   "source": []
  },
  {
   "cell_type": "code",
   "execution_count": null,
   "id": "015b5079-176b-4c17-b576-83d673c5a7f9",
   "metadata": {},
   "outputs": [],
   "source": []
  },
  {
   "cell_type": "code",
   "execution_count": null,
   "id": "060902a0-93da-4611-b333-1c8abf601151",
   "metadata": {},
   "outputs": [],
   "source": []
  },
  {
   "cell_type": "code",
   "execution_count": null,
   "id": "2d2bcc4b-39d6-410f-9072-593639c2ea33",
   "metadata": {},
   "outputs": [],
   "source": []
  },
  {
   "cell_type": "code",
   "execution_count": null,
   "id": "61eda99c-d973-4774-a127-b3e0e6c932be",
   "metadata": {},
   "outputs": [],
   "source": []
  },
  {
   "cell_type": "code",
   "execution_count": null,
   "id": "efbc6d84-92ff-4e92-ac95-76fd99baf752",
   "metadata": {},
   "outputs": [],
   "source": []
  },
  {
   "cell_type": "code",
   "execution_count": null,
   "id": "6e561c78-bda7-40c2-a8d2-f488ee4ddd97",
   "metadata": {},
   "outputs": [],
   "source": []
  },
  {
   "cell_type": "code",
   "execution_count": null,
   "id": "2a2e3ef5-9310-4d60-bae6-61118bed88be",
   "metadata": {},
   "outputs": [],
   "source": []
  },
  {
   "cell_type": "code",
   "execution_count": null,
   "id": "12794dc7-1b78-4a04-a21b-1e5e2157a944",
   "metadata": {},
   "outputs": [],
   "source": []
  },
  {
   "cell_type": "code",
   "execution_count": null,
   "id": "58b9a956-d787-438e-97c1-2b25bcde53a5",
   "metadata": {},
   "outputs": [],
   "source": []
  }
 ],
 "metadata": {
  "kernelspec": {
   "display_name": "Python 3",
   "language": "python",
   "name": "python3"
  },
  "language_info": {
   "codemirror_mode": {
    "name": "ipython",
    "version": 3
   },
   "file_extension": ".py",
   "mimetype": "text/x-python",
   "name": "python",
   "nbconvert_exporter": "python",
   "pygments_lexer": "ipython3",
   "version": "3.7.11"
  }
 },
 "nbformat": 4,
 "nbformat_minor": 5
}
