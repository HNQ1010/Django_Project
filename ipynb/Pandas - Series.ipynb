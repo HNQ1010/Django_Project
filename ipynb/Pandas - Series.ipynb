{
 "cells": [
  {
   "cell_type": "markdown",
   "id": "61f79ab0-697f-4bd0-8fda-cbf0710b453e",
   "metadata": {},
   "source": [
    "# Pandas\n",
    "Pandas has two main parts:\n",
    "* Series\n",
    "* DataFrame: similar to excel structure\n",
    "## Pandas - Series"
   ]
  },
  {
   "cell_type": "code",
   "execution_count": 1,
   "id": "734b737c-650d-483d-a95d-67e492d80164",
   "metadata": {},
   "outputs": [],
   "source": [
    "import pandas as pd\n",
    "import numpy as np"
   ]
  },
  {
   "cell_type": "markdown",
   "id": "0a766bd5-e725-4144-aa83-5a8292f6a9fa",
   "metadata": {},
   "source": [
    "We'll start analyzing 'The Group of Seven' which is a political formed by Canada, Frane, Germany, Italy, Japan, the United Kingdom and the US. We'll\n",
    "start by analyzing population, and for that, we'll use a pandas.Series object"
   ]
  },
  {
   "cell_type": "code",
   "execution_count": 75,
   "id": "ba35a9ba-b8e9-48bb-ba68-e8847889d625",
   "metadata": {},
   "outputs": [
    {
     "data": {
      "text/plain": [
       "0     35.467\n",
       "1     63.951\n",
       "2     80.940\n",
       "3     60.665\n",
       "4    127.061\n",
       "5     64.511\n",
       "6    318.523\n",
       "dtype: float64"
      ]
     },
     "execution_count": 75,
     "metadata": {},
     "output_type": "execute_result"
    }
   ],
   "source": [
    "# In millions\n",
    "g7_pop = pd.Series([35.467, 63.951, 80.940, 60.665, 127.061, 64.511, 318.523])\n",
    "g7_pop"
   ]
  },
  {
   "cell_type": "markdown",
   "id": "59900ae8-b626-46d0-b1fe-be95109a239d",
   "metadata": {},
   "source": [
    "And set the name for the Series, for the bette document purpose.\n"
   ]
  },
  {
   "cell_type": "code",
   "execution_count": 21,
   "id": "39ba363d-07f5-4376-992e-0b8fda768bfe",
   "metadata": {},
   "outputs": [],
   "source": [
    "g7_pop.name ='G7 Population in millions'"
   ]
  },
  {
   "cell_type": "code",
   "execution_count": 22,
   "id": "b8a4bd46-5fe4-4e0d-8012-e66c6e848dc9",
   "metadata": {},
   "outputs": [
    {
     "data": {
      "text/plain": [
       "Canada      35.467\n",
       "France      63.951\n",
       "Germany     80.940\n",
       "Italy       60.665\n",
       "Japan      127.061\n",
       "UK          64.511\n",
       "US         318.523\n",
       "Name: G7 Population in millions, dtype: float64"
      ]
     },
     "execution_count": 22,
     "metadata": {},
     "output_type": "execute_result"
    }
   ],
   "source": [
    "g7_pop"
   ]
  },
  {
   "cell_type": "markdown",
   "id": "edd94fca-7b54-45b0-bfc1-b03dd5a34a6f",
   "metadata": {},
   "source": [
    "Series are pretty similar to numpy arrays"
   ]
  },
  {
   "cell_type": "code",
   "execution_count": 8,
   "id": "ffced5db-9ad0-49e2-a9ea-cd582713622f",
   "metadata": {},
   "outputs": [
    {
     "data": {
      "text/plain": [
       "(dtype('float64'),\n",
       " array([ 35.467,  63.951,  80.94 ,  60.665, 127.061,  64.511, 318.523]))"
      ]
     },
     "execution_count": 8,
     "metadata": {},
     "output_type": "execute_result"
    }
   ],
   "source": [
    "g7_pop.dtype, g7_pop.values"
   ]
  },
  {
   "cell_type": "code",
   "execution_count": null,
   "id": "c4efcbda-41a8-459a-930a-c19bb53cabac",
   "metadata": {},
   "outputs": [],
   "source": [
    "type(g7_pop.values)"
   ]
  },
  {
   "cell_type": "markdown",
   "id": "26f19334-cdb7-402f-8cd7-54cef7f763ea",
   "metadata": {},
   "source": [
    "They look like simple Python list or Numpy array. But they're actually more similar to dict\n",
    "\n",
    "A series has an index, that's similar to the automatic index assigned to Python's list:"
   ]
  },
  {
   "cell_type": "code",
   "execution_count": 9,
   "id": "0700a904-64a6-4166-86e0-c6c7f97f4b97",
   "metadata": {},
   "outputs": [
    {
     "data": {
      "text/plain": [
       "(35.467, 63.951, RangeIndex(start=0, stop=7, step=1))"
      ]
     },
     "execution_count": 9,
     "metadata": {},
     "output_type": "execute_result"
    }
   ],
   "source": [
    "g7_pop[0], g7_pop[1], g7_pop.index"
   ]
  },
  {
   "cell_type": "code",
   "execution_count": 10,
   "id": "7b44e3c7-d4fd-4621-b687-a76705038d39",
   "metadata": {},
   "outputs": [],
   "source": [
    "l = ['a', 'b', 'c']"
   ]
  },
  {
   "cell_type": "markdown",
   "id": "a3a62c3c-e559-4e6b-86d9-f646a9fd0926",
   "metadata": {},
   "source": [
    "But, in contrast to list, we can explicitly define the index"
   ]
  },
  {
   "cell_type": "code",
   "execution_count": 17,
   "id": "60326aa6-6696-461b-8b61-d5b7d0c62dfc",
   "metadata": {},
   "outputs": [
    {
     "data": {
      "text/plain": [
       "Canada      35.467\n",
       "France      63.951\n",
       "Germany     80.940\n",
       "Italy       60.665\n",
       "Japan      127.061\n",
       "UK          64.511\n",
       "US         318.523\n",
       "Name: G7 Population in millions, dtype: float64"
      ]
     },
     "execution_count": 17,
     "metadata": {},
     "output_type": "execute_result"
    }
   ],
   "source": [
    "g7_pop.index = ['Canada', 'France', 'Germany', 'Italy', 'Japan', 'UK', 'US']\n",
    "g7_pop"
   ]
  },
  {
   "cell_type": "markdown",
   "id": "7e40bb2b-e961-46ed-9b6e-e098d2850ff0",
   "metadata": {},
   "source": [
    "We can actually create Series out of dictionaries:"
   ]
  },
  {
   "cell_type": "code",
   "execution_count": 18,
   "id": "76f906a6-a52c-4f82-885e-2d3de10b506d",
   "metadata": {},
   "outputs": [
    {
     "data": {
      "text/plain": [
       "Canada      35.467\n",
       "France      63.951\n",
       "Gernamy     80.940\n",
       "Italy       60.665\n",
       "Japan      127.061\n",
       "UK          63.511\n",
       "US         318.523\n",
       "Name: G7 Population in million, dtype: float64"
      ]
     },
     "execution_count": 18,
     "metadata": {},
     "output_type": "execute_result"
    }
   ],
   "source": [
    "pd.Series ({'Canada': 35.467,\n",
    "           'France': 63.951,\n",
    "           'Gernamy': 80.94,\n",
    "           'Italy': 60.665,\n",
    "           'Japan': 127.061,\n",
    "           'UK': 63.511,\n",
    "           'US': 318.523}, name = 'G7 Population in million')"
   ]
  },
  {
   "cell_type": "code",
   "execution_count": 19,
   "id": "fd87e58f-50ad-4d43-8767-9b681f471761",
   "metadata": {},
   "outputs": [
    {
     "data": {
      "text/plain": [
       "Canada      35.467\n",
       "France      63.951\n",
       "Germany     80.940\n",
       "Italy       60.665\n",
       "Japan      127.061\n",
       "UK          63.511\n",
       "US         318.523\n",
       "Name: G7 Population in million, dtype: float64"
      ]
     },
     "execution_count": 19,
     "metadata": {},
     "output_type": "execute_result"
    }
   ],
   "source": [
    "pd.Series([35.467, 63.951, 80.940, 60.665, 127.061, 63.511, 318.523],\n",
    "          index = ['Canada', 'France', 'Germany', 'Italy', 'Japan', 'UK', 'US'],\n",
    "          name = 'G7 Population in million')"
   ]
  },
  {
   "cell_type": "code",
   "execution_count": 24,
   "id": "fcd80d09-07b5-494e-b5b0-502215926e9a",
   "metadata": {},
   "outputs": [
    {
     "data": {
      "text/plain": [
       "France     63.951\n",
       "Germany    80.940\n",
       "Italy      60.665\n",
       "Spain         NaN\n",
       "Name: G7 Population in millions, dtype: float64"
      ]
     },
     "execution_count": 24,
     "metadata": {},
     "output_type": "execute_result"
    }
   ],
   "source": [
    "pd.Series(g7_pop, index = ['France', 'Germany', 'Italy', 'Spain'])"
   ]
  },
  {
   "cell_type": "markdown",
   "id": "3d1b95fb-80d2-44e1-bc74-0b79fb97a868",
   "metadata": {},
   "source": [
    "### Indexing"
   ]
  },
  {
   "cell_type": "markdown",
   "id": "4469b638-4256-486a-a142-1696f0334062",
   "metadata": {},
   "source": [
    "Indexing works similar to dictionary, you can use the index to find the element that you're looking for:"
   ]
  },
  {
   "cell_type": "code",
   "execution_count": 40,
   "id": "ea8231b8-c484-4ee6-8626-0487009a01c7",
   "metadata": {},
   "outputs": [
    {
     "data": {
      "text/plain": [
       "Canada      35.467\n",
       "France      63.951\n",
       "Germany     80.940\n",
       "Italy       60.665\n",
       "Japan      127.061\n",
       "UK          64.511\n",
       "US         318.523\n",
       "Name: G7 Population in millions, dtype: float64"
      ]
     },
     "execution_count": 40,
     "metadata": {},
     "output_type": "execute_result"
    }
   ],
   "source": [
    "g7_pop"
   ]
  },
  {
   "cell_type": "code",
   "execution_count": 26,
   "id": "9c591ec1-383b-4ce0-8907-719377bd136c",
   "metadata": {},
   "outputs": [
    {
     "data": {
      "text/plain": [
       "(80.94, 64.511)"
      ]
     },
     "execution_count": 26,
     "metadata": {},
     "output_type": "execute_result"
    }
   ],
   "source": [
    "g7_pop['Germany'], g7_pop['UK']"
   ]
  },
  {
   "cell_type": "markdown",
   "id": "64c8463d-d9e6-4ccd-9471-0e26f67f2f73",
   "metadata": {},
   "source": [
    "Numeric can be used, with the iloc attribute:"
   ]
  },
  {
   "cell_type": "code",
   "execution_count": 38,
   "id": "145b75c0-1205-4156-9d39-1ff7d65fc6db",
   "metadata": {},
   "outputs": [
    {
     "data": {
      "text/plain": [
       "(35.467, 63.951, 318.523)"
      ]
     },
     "execution_count": 38,
     "metadata": {},
     "output_type": "execute_result"
    }
   ],
   "source": [
    "g7_pop.iloc[0], g7_pop.iloc[1], g7_pop.iloc[-1]"
   ]
  },
  {
   "cell_type": "markdown",
   "id": "9c7097b0-a787-4ff4-832c-a8cdb9f45392",
   "metadata": {},
   "source": [
    "Selecting multiple element at once:"
   ]
  },
  {
   "cell_type": "code",
   "execution_count": 39,
   "id": "b7133caa-42f9-4848-9dc7-08a1c7b498d3",
   "metadata": {},
   "outputs": [
    {
     "data": {
      "text/plain": [
       "(Germany     80.940\n",
       " UK          64.511\n",
       " US         318.523\n",
       " Name: G7 Population in millions, dtype: float64,\n",
       " Canada     35.467\n",
       " France     63.951\n",
       " Japan     127.061\n",
       " UK         64.511\n",
       " Name: G7 Population in millions, dtype: float64)"
      ]
     },
     "execution_count": 39,
     "metadata": {},
     "output_type": "execute_result"
    }
   ],
   "source": [
    "g7_pop[['Germany', 'UK', 'US']],g7_pop[[0,1,4,5]] # note that you have to use double : [[]], and the result is another series."
   ]
  },
  {
   "cell_type": "markdown",
   "id": "bcfa4e4c-e656-4465-ac15-77a235f017d5",
   "metadata": {},
   "source": [
    "Slicing is also work, but **important**, in pandas, the upper limit is also included"
   ]
  },
  {
   "cell_type": "code",
   "execution_count": 41,
   "id": "eb564664-8fe9-494d-8dbe-50b156e3d81d",
   "metadata": {},
   "outputs": [
    {
     "data": {
      "text/plain": [
       "Canada      35.467\n",
       "France      63.951\n",
       "Germany     80.940\n",
       "Italy       60.665\n",
       "Japan      127.061\n",
       "UK          64.511\n",
       "US         318.523\n",
       "Name: G7 Population in millions, dtype: float64"
      ]
     },
     "execution_count": 41,
     "metadata": {},
     "output_type": "execute_result"
    }
   ],
   "source": [
    "g7_pop['Canada': 'US']"
   ]
  },
  {
   "cell_type": "markdown",
   "id": "700907b1-f3bd-40ef-9c6b-ffea3a849803",
   "metadata": {},
   "source": [
    "### Conditional selection (boolean arrays)\n",
    "Same as numpy arrays"
   ]
  },
  {
   "cell_type": "code",
   "execution_count": 43,
   "id": "2573c800-6dc2-450e-be00-e757e47a48a9",
   "metadata": {},
   "outputs": [
    {
     "data": {
      "text/plain": [
       "Canada      35.467\n",
       "France      63.951\n",
       "Germany     80.940\n",
       "Italy       60.665\n",
       "Japan      127.061\n",
       "UK          64.511\n",
       "US         318.523\n",
       "Name: G7 Population in millions, dtype: float64"
      ]
     },
     "execution_count": 43,
     "metadata": {},
     "output_type": "execute_result"
    }
   ],
   "source": [
    "g7_pop"
   ]
  },
  {
   "cell_type": "code",
   "execution_count": 62,
   "id": "1270a36a-2c8b-4cf2-a9ae-96de329a3b24",
   "metadata": {},
   "outputs": [
    {
     "data": {
      "text/plain": [
       "(Canada     False\n",
       " France     False\n",
       " Germany     True\n",
       " Italy      False\n",
       " Japan       True\n",
       " UK         False\n",
       " US          True\n",
       " Name: G7 Population in millions, dtype: bool,\n",
       " Germany     80.940\n",
       " Japan      127.061\n",
       " US         318.523\n",
       " Name: G7 Population in millions, dtype: float64,\n",
       " 107.30257142857144,\n",
       " Japan    127.061\n",
       " US       318.523\n",
       " Name: G7 Population in millions, dtype: float64)"
      ]
     },
     "execution_count": 62,
     "metadata": {},
     "output_type": "execute_result"
    }
   ],
   "source": [
    "g7_pop > 70, g7_pop[g7_pop>70], g7_pop.mean(), g7_pop[g7_pop>g7_pop.mean()]"
   ]
  },
  {
   "cell_type": "markdown",
   "id": "15212366-00ad-4d85-a77e-7d2f7c410138",
   "metadata": {},
   "source": [
    "~ : not\n",
    "\n",
    "| : or\n",
    "\n",
    "& : and"
   ]
  },
  {
   "cell_type": "code",
   "execution_count": 64,
   "id": "dc717624-7055-46d5-b697-ab075faa94a2",
   "metadata": {},
   "outputs": [
    {
     "data": {
      "text/plain": [
       "(97.24996987121581,\n",
       " Canada      35.467\n",
       " France      63.951\n",
       " Germany     80.940\n",
       " Italy       60.665\n",
       " Japan      127.061\n",
       " UK          64.511\n",
       " US         318.523\n",
       " Name: G7 Population in millions, dtype: float64)"
      ]
     },
     "execution_count": 64,
     "metadata": {},
     "output_type": "execute_result"
    }
   ],
   "source": [
    "g7_pop.std(), g7_pop[(g7_pop> g7_pop.mean() - g7_pop.std()) | (g7_pop > g7_pop.mean() + g7_pop.std())]"
   ]
  },
  {
   "cell_type": "markdown",
   "id": "8d6237f5-72c0-4a46-9908-124aa3767f2f",
   "metadata": {},
   "source": [
    "### Operations and methods\n",
    "Series also support vetorized operations and aggregation functions as Numpy"
   ]
  },
  {
   "cell_type": "code",
   "execution_count": 57,
   "id": "c688d4f2-574e-41d1-acc5-d79e3d069395",
   "metadata": {},
   "outputs": [
    {
     "data": {
      "text/plain": [
       "Canada      35.467\n",
       "France      63.951\n",
       "Germany     80.940\n",
       "Italy       60.665\n",
       "Japan      127.061\n",
       "UK          64.511\n",
       "US         318.523\n",
       "Name: G7 Population in millions, dtype: float64"
      ]
     },
     "execution_count": 57,
     "metadata": {},
     "output_type": "execute_result"
    }
   ],
   "source": [
    "g7_pop"
   ]
  },
  {
   "cell_type": "code",
   "execution_count": 59,
   "id": "77ac5c3d-3a34-47a6-b7db-1d7cca0d88a8",
   "metadata": {},
   "outputs": [
    {
     "data": {
      "text/plain": [
       "Canada      35467000.0\n",
       "France      63951000.0\n",
       "Germany     80940000.0\n",
       "Italy       60665000.0\n",
       "Japan      127061000.0\n",
       "UK          64511000.0\n",
       "US         318523000.0\n",
       "Name: G7 Population in millions, dtype: float64"
      ]
     },
     "execution_count": 59,
     "metadata": {},
     "output_type": "execute_result"
    }
   ],
   "source": [
    "g7_pop*1_000_000 # or 1000000"
   ]
  },
  {
   "cell_type": "code",
   "execution_count": 68,
   "id": "e942d0c4-b5b0-4875-aaf7-a22e45f0bc62",
   "metadata": {},
   "outputs": [
    {
     "data": {
      "text/plain": [
       "(Canada     3.568603\n",
       " France     4.158117\n",
       " Germany    4.393708\n",
       " Italy      4.105367\n",
       " Japan      4.844667\n",
       " UK         4.166836\n",
       " US         5.763695\n",
       " Name: G7 Population in millions, dtype: float64,\n",
       " 199.7315,\n",
       " 83.29425)"
      ]
     },
     "execution_count": 68,
     "metadata": {},
     "output_type": "execute_result"
    }
   ],
   "source": [
    "np.log(g7_pop), g7_pop[['Germany', 'US']].mean(), g7_pop['Germany':'UK'].mean()"
   ]
  },
  {
   "cell_type": "markdown",
   "id": "350e5edb-30fd-496d-8190-17d3db5acbcd",
   "metadata": {},
   "source": [
    "### Modifying series"
   ]
  },
  {
   "cell_type": "code",
   "execution_count": 71,
   "id": "e9605274-7dd1-4b4a-b90f-74aaa0ac868f",
   "metadata": {},
   "outputs": [
    {
     "data": {
      "text/plain": [
       "Canada      40.500\n",
       "France      63.951\n",
       "Germany     80.940\n",
       "Italy       60.665\n",
       "Japan      127.061\n",
       "UK          64.511\n",
       "US         500.000\n",
       "Name: G7 Population in millions, dtype: float64"
      ]
     },
     "execution_count": 71,
     "metadata": {},
     "output_type": "execute_result"
    }
   ],
   "source": [
    "g7_pop['Canada'] = 40.5\n",
    "g7_pop\n",
    "g7_pop.iloc[-1] = 500\n",
    "g7_pop"
   ]
  },
  {
   "cell_type": "code",
   "execution_count": 73,
   "id": "25972de6-9b31-47e1-b1d7-c33422577bd2",
   "metadata": {},
   "outputs": [
    {
     "data": {
      "text/plain": [
       "Canada      99.990\n",
       "France      99.990\n",
       "Germany     80.940\n",
       "Italy       99.990\n",
       "Japan      127.061\n",
       "UK          99.990\n",
       "US         500.000\n",
       "Name: G7 Population in millions, dtype: float64"
      ]
     },
     "execution_count": 73,
     "metadata": {},
     "output_type": "execute_result"
    }
   ],
   "source": [
    "g7_pop[g7_pop<70] = 99.99\n",
    "g7_pop"
   ]
  }
 ],
 "metadata": {
  "kernelspec": {
   "display_name": "Python 3 (ipykernel)",
   "language": "python",
   "name": "python3"
  },
  "language_info": {
   "codemirror_mode": {
    "name": "ipython",
    "version": 3
   },
   "file_extension": ".py",
   "mimetype": "text/x-python",
   "name": "python",
   "nbconvert_exporter": "python",
   "pygments_lexer": "ipython3",
   "version": "3.9.1"
  }
 },
 "nbformat": 4,
 "nbformat_minor": 5
}
