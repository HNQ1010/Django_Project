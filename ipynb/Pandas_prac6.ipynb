{
 "cells": [
  {
   "cell_type": "code",
   "execution_count": 1,
   "id": "e526396c-22db-488a-9ff6-3994b513429c",
   "metadata": {},
   "outputs": [],
   "source": [
    "import pandas._testing as tm\n",
    "import numpy as np\n",
    "import pandas as pd"
   ]
  },
  {
   "cell_type": "code",
   "execution_count": 6,
   "id": "9afdbdbc-1496-4e8b-b984-fe459a399b2d",
   "metadata": {},
   "outputs": [
    {
     "data": {
      "text/html": [
       "<div>\n",
       "<style scoped>\n",
       "    .dataframe tbody tr th:only-of-type {\n",
       "        vertical-align: middle;\n",
       "    }\n",
       "\n",
       "    .dataframe tbody tr th {\n",
       "        vertical-align: top;\n",
       "    }\n",
       "\n",
       "    .dataframe thead th {\n",
       "        text-align: right;\n",
       "    }\n",
       "</style>\n",
       "<table border=\"1\" class=\"dataframe\">\n",
       "  <thead>\n",
       "    <tr style=\"text-align: right;\">\n",
       "      <th></th>\n",
       "      <th>A</th>\n",
       "      <th>B</th>\n",
       "      <th>C</th>\n",
       "      <th>D</th>\n",
       "    </tr>\n",
       "  </thead>\n",
       "  <tbody>\n",
       "    <tr>\n",
       "      <th>2000-01-03</th>\n",
       "      <td>-1.024163</td>\n",
       "      <td>0.251037</td>\n",
       "      <td>0.479822</td>\n",
       "      <td>0.357758</td>\n",
       "    </tr>\n",
       "    <tr>\n",
       "      <th>2000-01-04</th>\n",
       "      <td>-1.786565</td>\n",
       "      <td>0.863099</td>\n",
       "      <td>-1.091532</td>\n",
       "      <td>1.239576</td>\n",
       "    </tr>\n",
       "    <tr>\n",
       "      <th>2000-01-05</th>\n",
       "      <td>1.546184</td>\n",
       "      <td>0.242519</td>\n",
       "      <td>-0.948737</td>\n",
       "      <td>-0.500372</td>\n",
       "    </tr>\n",
       "  </tbody>\n",
       "</table>\n",
       "</div>"
      ],
      "text/plain": [
       "                   A         B         C         D\n",
       "2000-01-03 -1.024163  0.251037  0.479822  0.357758\n",
       "2000-01-04 -1.786565  0.863099 -1.091532  1.239576\n",
       "2000-01-05  1.546184  0.242519 -0.948737 -0.500372"
      ]
     },
     "execution_count": 6,
     "metadata": {},
     "output_type": "execute_result"
    }
   ],
   "source": [
    "frame = tm.makeTimeDataFrame(3)\n",
    "frame"
   ]
  },
  {
   "cell_type": "code",
   "execution_count": 2,
   "id": "ea20a67e-26d3-4c3b-b180-8bd3e2a2ff35",
   "metadata": {},
   "outputs": [],
   "source": [
    "def unpivot(frame):\n",
    "    N, K = frame.shape\n",
    "    data = {\n",
    "        \"value\": frame.to_numpy().ravel(\"F\"),\n",
    "        \"variable\": np.asarray(frame.columns).repeat(N),\n",
    "        \"date\": np.tile(np.asarray(frame.index), K),\n",
    "    }\n",
    "    return pd.DataFrame(data, columns=[\"date\", \"variable\", \"value\"])\n",
    "\n",
    "\n",
    "df = unpivot(tm.makeTimeDataFrame(3))"
   ]
  },
  {
   "cell_type": "code",
   "execution_count": 3,
   "id": "21f5ddff-de43-49a3-ad86-41ba575a3fe4",
   "metadata": {},
   "outputs": [
    {
     "data": {
      "text/html": [
       "<div>\n",
       "<style scoped>\n",
       "    .dataframe tbody tr th:only-of-type {\n",
       "        vertical-align: middle;\n",
       "    }\n",
       "\n",
       "    .dataframe tbody tr th {\n",
       "        vertical-align: top;\n",
       "    }\n",
       "\n",
       "    .dataframe thead th {\n",
       "        text-align: right;\n",
       "    }\n",
       "</style>\n",
       "<table border=\"1\" class=\"dataframe\">\n",
       "  <thead>\n",
       "    <tr style=\"text-align: right;\">\n",
       "      <th></th>\n",
       "      <th>date</th>\n",
       "      <th>variable</th>\n",
       "      <th>value</th>\n",
       "    </tr>\n",
       "  </thead>\n",
       "  <tbody>\n",
       "    <tr>\n",
       "      <th>0</th>\n",
       "      <td>2000-01-03</td>\n",
       "      <td>A</td>\n",
       "      <td>-0.252551</td>\n",
       "    </tr>\n",
       "    <tr>\n",
       "      <th>1</th>\n",
       "      <td>2000-01-04</td>\n",
       "      <td>A</td>\n",
       "      <td>0.512549</td>\n",
       "    </tr>\n",
       "    <tr>\n",
       "      <th>2</th>\n",
       "      <td>2000-01-05</td>\n",
       "      <td>A</td>\n",
       "      <td>0.969642</td>\n",
       "    </tr>\n",
       "    <tr>\n",
       "      <th>3</th>\n",
       "      <td>2000-01-03</td>\n",
       "      <td>B</td>\n",
       "      <td>-2.013839</td>\n",
       "    </tr>\n",
       "    <tr>\n",
       "      <th>4</th>\n",
       "      <td>2000-01-04</td>\n",
       "      <td>B</td>\n",
       "      <td>0.169718</td>\n",
       "    </tr>\n",
       "    <tr>\n",
       "      <th>5</th>\n",
       "      <td>2000-01-05</td>\n",
       "      <td>B</td>\n",
       "      <td>0.836208</td>\n",
       "    </tr>\n",
       "    <tr>\n",
       "      <th>6</th>\n",
       "      <td>2000-01-03</td>\n",
       "      <td>C</td>\n",
       "      <td>0.279144</td>\n",
       "    </tr>\n",
       "    <tr>\n",
       "      <th>7</th>\n",
       "      <td>2000-01-04</td>\n",
       "      <td>C</td>\n",
       "      <td>0.575676</td>\n",
       "    </tr>\n",
       "    <tr>\n",
       "      <th>8</th>\n",
       "      <td>2000-01-05</td>\n",
       "      <td>C</td>\n",
       "      <td>0.543042</td>\n",
       "    </tr>\n",
       "    <tr>\n",
       "      <th>9</th>\n",
       "      <td>2000-01-03</td>\n",
       "      <td>D</td>\n",
       "      <td>0.238160</td>\n",
       "    </tr>\n",
       "    <tr>\n",
       "      <th>10</th>\n",
       "      <td>2000-01-04</td>\n",
       "      <td>D</td>\n",
       "      <td>-1.882149</td>\n",
       "    </tr>\n",
       "    <tr>\n",
       "      <th>11</th>\n",
       "      <td>2000-01-05</td>\n",
       "      <td>D</td>\n",
       "      <td>0.408645</td>\n",
       "    </tr>\n",
       "  </tbody>\n",
       "</table>\n",
       "</div>"
      ],
      "text/plain": [
       "         date variable     value\n",
       "0  2000-01-03        A -0.252551\n",
       "1  2000-01-04        A  0.512549\n",
       "2  2000-01-05        A  0.969642\n",
       "3  2000-01-03        B -2.013839\n",
       "4  2000-01-04        B  0.169718\n",
       "5  2000-01-05        B  0.836208\n",
       "6  2000-01-03        C  0.279144\n",
       "7  2000-01-04        C  0.575676\n",
       "8  2000-01-05        C  0.543042\n",
       "9  2000-01-03        D  0.238160\n",
       "10 2000-01-04        D -1.882149\n",
       "11 2000-01-05        D  0.408645"
      ]
     },
     "execution_count": 3,
     "metadata": {},
     "output_type": "execute_result"
    }
   ],
   "source": [
    "df"
   ]
  },
  {
   "cell_type": "code",
   "execution_count": 4,
   "id": "1177434e-7901-41ab-8690-b11648e12284",
   "metadata": {},
   "outputs": [
    {
     "data": {
      "text/html": [
       "<div>\n",
       "<style scoped>\n",
       "    .dataframe tbody tr th:only-of-type {\n",
       "        vertical-align: middle;\n",
       "    }\n",
       "\n",
       "    .dataframe tbody tr th {\n",
       "        vertical-align: top;\n",
       "    }\n",
       "\n",
       "    .dataframe thead th {\n",
       "        text-align: right;\n",
       "    }\n",
       "</style>\n",
       "<table border=\"1\" class=\"dataframe\">\n",
       "  <thead>\n",
       "    <tr style=\"text-align: right;\">\n",
       "      <th>variable</th>\n",
       "      <th>A</th>\n",
       "      <th>B</th>\n",
       "      <th>C</th>\n",
       "      <th>D</th>\n",
       "    </tr>\n",
       "    <tr>\n",
       "      <th>date</th>\n",
       "      <th></th>\n",
       "      <th></th>\n",
       "      <th></th>\n",
       "      <th></th>\n",
       "    </tr>\n",
       "  </thead>\n",
       "  <tbody>\n",
       "    <tr>\n",
       "      <th>2000-01-03</th>\n",
       "      <td>-0.252551</td>\n",
       "      <td>-2.013839</td>\n",
       "      <td>0.279144</td>\n",
       "      <td>0.238160</td>\n",
       "    </tr>\n",
       "    <tr>\n",
       "      <th>2000-01-04</th>\n",
       "      <td>0.512549</td>\n",
       "      <td>0.169718</td>\n",
       "      <td>0.575676</td>\n",
       "      <td>-1.882149</td>\n",
       "    </tr>\n",
       "    <tr>\n",
       "      <th>2000-01-05</th>\n",
       "      <td>0.969642</td>\n",
       "      <td>0.836208</td>\n",
       "      <td>0.543042</td>\n",
       "      <td>0.408645</td>\n",
       "    </tr>\n",
       "  </tbody>\n",
       "</table>\n",
       "</div>"
      ],
      "text/plain": [
       "variable           A         B         C         D\n",
       "date                                              \n",
       "2000-01-03 -0.252551 -2.013839  0.279144  0.238160\n",
       "2000-01-04  0.512549  0.169718  0.575676 -1.882149\n",
       "2000-01-05  0.969642  0.836208  0.543042  0.408645"
      ]
     },
     "execution_count": 4,
     "metadata": {},
     "output_type": "execute_result"
    }
   ],
   "source": [
    "df.pivot(index='date', columns='variable', values='value')"
   ]
  },
  {
   "cell_type": "code",
   "execution_count": 5,
   "id": "ed6eff00-4a71-4026-b832-df25f76b72fd",
   "metadata": {},
   "outputs": [],
   "source": [
    "tuples = list(zip(*[['bar', 'bar', 'baz', 'baz', 'foo', 'foo', 'qux', 'qux'],\n",
    "                   ['one', 'two', 'one', 'two', 'one', 'two', 'one', 'two']]))\n",
    "index = pd.MultiIndex.from_tuples(tuples, name=['fist', 'second'])\n",
    "df = pd.DataFrame(np.random.randn(8,2), index=index, columns=list('AB'))"
   ]
  },
  {
   "cell_type": "code",
   "execution_count": 6,
   "id": "55439f37-19b0-409b-9b84-40afd2417289",
   "metadata": {},
   "outputs": [
    {
     "data": {
      "text/html": [
       "<div>\n",
       "<style scoped>\n",
       "    .dataframe tbody tr th:only-of-type {\n",
       "        vertical-align: middle;\n",
       "    }\n",
       "\n",
       "    .dataframe tbody tr th {\n",
       "        vertical-align: top;\n",
       "    }\n",
       "\n",
       "    .dataframe thead th {\n",
       "        text-align: right;\n",
       "    }\n",
       "</style>\n",
       "<table border=\"1\" class=\"dataframe\">\n",
       "  <thead>\n",
       "    <tr style=\"text-align: right;\">\n",
       "      <th></th>\n",
       "      <th></th>\n",
       "      <th>A</th>\n",
       "      <th>B</th>\n",
       "    </tr>\n",
       "    <tr>\n",
       "      <th>fist</th>\n",
       "      <th>second</th>\n",
       "      <th></th>\n",
       "      <th></th>\n",
       "    </tr>\n",
       "  </thead>\n",
       "  <tbody>\n",
       "    <tr>\n",
       "      <th rowspan=\"2\" valign=\"top\">bar</th>\n",
       "      <th>one</th>\n",
       "      <td>-0.147259</td>\n",
       "      <td>-0.017446</td>\n",
       "    </tr>\n",
       "    <tr>\n",
       "      <th>two</th>\n",
       "      <td>-1.378097</td>\n",
       "      <td>-0.171903</td>\n",
       "    </tr>\n",
       "    <tr>\n",
       "      <th rowspan=\"2\" valign=\"top\">baz</th>\n",
       "      <th>one</th>\n",
       "      <td>-0.807390</td>\n",
       "      <td>-0.563272</td>\n",
       "    </tr>\n",
       "    <tr>\n",
       "      <th>two</th>\n",
       "      <td>-2.552057</td>\n",
       "      <td>0.780392</td>\n",
       "    </tr>\n",
       "    <tr>\n",
       "      <th rowspan=\"2\" valign=\"top\">foo</th>\n",
       "      <th>one</th>\n",
       "      <td>-1.047248</td>\n",
       "      <td>0.088584</td>\n",
       "    </tr>\n",
       "    <tr>\n",
       "      <th>two</th>\n",
       "      <td>-0.684953</td>\n",
       "      <td>1.159205</td>\n",
       "    </tr>\n",
       "    <tr>\n",
       "      <th rowspan=\"2\" valign=\"top\">qux</th>\n",
       "      <th>one</th>\n",
       "      <td>0.014452</td>\n",
       "      <td>1.797823</td>\n",
       "    </tr>\n",
       "    <tr>\n",
       "      <th>two</th>\n",
       "      <td>0.394805</td>\n",
       "      <td>-0.214345</td>\n",
       "    </tr>\n",
       "  </tbody>\n",
       "</table>\n",
       "</div>"
      ],
      "text/plain": [
       "                    A         B\n",
       "fist second                    \n",
       "bar  one    -0.147259 -0.017446\n",
       "     two    -1.378097 -0.171903\n",
       "baz  one    -0.807390 -0.563272\n",
       "     two    -2.552057  0.780392\n",
       "foo  one    -1.047248  0.088584\n",
       "     two    -0.684953  1.159205\n",
       "qux  one     0.014452  1.797823\n",
       "     two     0.394805 -0.214345"
      ]
     },
     "execution_count": 6,
     "metadata": {},
     "output_type": "execute_result"
    }
   ],
   "source": [
    "df"
   ]
  },
  {
   "cell_type": "code",
   "execution_count": 9,
   "id": "d7750696-6745-47ed-a3d8-c3e11ca050a2",
   "metadata": {},
   "outputs": [
    {
     "data": {
      "text/plain": [
       "fist  second   \n",
       "bar   one     A   -0.147259\n",
       "              B   -0.017446\n",
       "      two     A   -1.378097\n",
       "              B   -0.171903\n",
       "baz   one     A   -0.807390\n",
       "              B   -0.563272\n",
       "      two     A   -2.552057\n",
       "              B    0.780392\n",
       "foo   one     A   -1.047248\n",
       "              B    0.088584\n",
       "      two     A   -0.684953\n",
       "              B    1.159205\n",
       "qux   one     A    0.014452\n",
       "              B    1.797823\n",
       "      two     A    0.394805\n",
       "              B   -0.214345\n",
       "dtype: float64"
      ]
     },
     "execution_count": 9,
     "metadata": {},
     "output_type": "execute_result"
    }
   ],
   "source": [
    "df2 = df.stack()\n",
    "df2"
   ]
  },
  {
   "cell_type": "code",
   "execution_count": 10,
   "id": "a6be0598-646a-40c9-98c7-69af5a729751",
   "metadata": {},
   "outputs": [
    {
     "data": {
      "text/html": [
       "<div>\n",
       "<style scoped>\n",
       "    .dataframe tbody tr th:only-of-type {\n",
       "        vertical-align: middle;\n",
       "    }\n",
       "\n",
       "    .dataframe tbody tr th {\n",
       "        vertical-align: top;\n",
       "    }\n",
       "\n",
       "    .dataframe thead th {\n",
       "        text-align: right;\n",
       "    }\n",
       "</style>\n",
       "<table border=\"1\" class=\"dataframe\">\n",
       "  <thead>\n",
       "    <tr style=\"text-align: right;\">\n",
       "      <th></th>\n",
       "      <th></th>\n",
       "      <th>A</th>\n",
       "      <th>B</th>\n",
       "    </tr>\n",
       "    <tr>\n",
       "      <th>fist</th>\n",
       "      <th>second</th>\n",
       "      <th></th>\n",
       "      <th></th>\n",
       "    </tr>\n",
       "  </thead>\n",
       "  <tbody>\n",
       "    <tr>\n",
       "      <th rowspan=\"2\" valign=\"top\">bar</th>\n",
       "      <th>one</th>\n",
       "      <td>-0.147259</td>\n",
       "      <td>-0.017446</td>\n",
       "    </tr>\n",
       "    <tr>\n",
       "      <th>two</th>\n",
       "      <td>-1.378097</td>\n",
       "      <td>-0.171903</td>\n",
       "    </tr>\n",
       "    <tr>\n",
       "      <th rowspan=\"2\" valign=\"top\">baz</th>\n",
       "      <th>one</th>\n",
       "      <td>-0.807390</td>\n",
       "      <td>-0.563272</td>\n",
       "    </tr>\n",
       "    <tr>\n",
       "      <th>two</th>\n",
       "      <td>-2.552057</td>\n",
       "      <td>0.780392</td>\n",
       "    </tr>\n",
       "    <tr>\n",
       "      <th rowspan=\"2\" valign=\"top\">foo</th>\n",
       "      <th>one</th>\n",
       "      <td>-1.047248</td>\n",
       "      <td>0.088584</td>\n",
       "    </tr>\n",
       "    <tr>\n",
       "      <th>two</th>\n",
       "      <td>-0.684953</td>\n",
       "      <td>1.159205</td>\n",
       "    </tr>\n",
       "    <tr>\n",
       "      <th rowspan=\"2\" valign=\"top\">qux</th>\n",
       "      <th>one</th>\n",
       "      <td>0.014452</td>\n",
       "      <td>1.797823</td>\n",
       "    </tr>\n",
       "    <tr>\n",
       "      <th>two</th>\n",
       "      <td>0.394805</td>\n",
       "      <td>-0.214345</td>\n",
       "    </tr>\n",
       "  </tbody>\n",
       "</table>\n",
       "</div>"
      ],
      "text/plain": [
       "                    A         B\n",
       "fist second                    \n",
       "bar  one    -0.147259 -0.017446\n",
       "     two    -1.378097 -0.171903\n",
       "baz  one    -0.807390 -0.563272\n",
       "     two    -2.552057  0.780392\n",
       "foo  one    -1.047248  0.088584\n",
       "     two    -0.684953  1.159205\n",
       "qux  one     0.014452  1.797823\n",
       "     two     0.394805 -0.214345"
      ]
     },
     "execution_count": 10,
     "metadata": {},
     "output_type": "execute_result"
    }
   ],
   "source": [
    "df2.unstack()"
   ]
  },
  {
   "cell_type": "code",
   "execution_count": 11,
   "id": "17696cad-0fd2-469a-ba12-22cb594f942d",
   "metadata": {},
   "outputs": [
    {
     "data": {
      "text/html": [
       "<div>\n",
       "<style scoped>\n",
       "    .dataframe tbody tr th:only-of-type {\n",
       "        vertical-align: middle;\n",
       "    }\n",
       "\n",
       "    .dataframe tbody tr th {\n",
       "        vertical-align: top;\n",
       "    }\n",
       "\n",
       "    .dataframe thead th {\n",
       "        text-align: right;\n",
       "    }\n",
       "</style>\n",
       "<table border=\"1\" class=\"dataframe\">\n",
       "  <thead>\n",
       "    <tr style=\"text-align: right;\">\n",
       "      <th></th>\n",
       "      <th>second</th>\n",
       "      <th>one</th>\n",
       "      <th>two</th>\n",
       "    </tr>\n",
       "    <tr>\n",
       "      <th>fist</th>\n",
       "      <th></th>\n",
       "      <th></th>\n",
       "      <th></th>\n",
       "    </tr>\n",
       "  </thead>\n",
       "  <tbody>\n",
       "    <tr>\n",
       "      <th rowspan=\"2\" valign=\"top\">bar</th>\n",
       "      <th>A</th>\n",
       "      <td>-0.147259</td>\n",
       "      <td>-1.378097</td>\n",
       "    </tr>\n",
       "    <tr>\n",
       "      <th>B</th>\n",
       "      <td>-0.017446</td>\n",
       "      <td>-0.171903</td>\n",
       "    </tr>\n",
       "    <tr>\n",
       "      <th rowspan=\"2\" valign=\"top\">baz</th>\n",
       "      <th>A</th>\n",
       "      <td>-0.807390</td>\n",
       "      <td>-2.552057</td>\n",
       "    </tr>\n",
       "    <tr>\n",
       "      <th>B</th>\n",
       "      <td>-0.563272</td>\n",
       "      <td>0.780392</td>\n",
       "    </tr>\n",
       "    <tr>\n",
       "      <th rowspan=\"2\" valign=\"top\">foo</th>\n",
       "      <th>A</th>\n",
       "      <td>-1.047248</td>\n",
       "      <td>-0.684953</td>\n",
       "    </tr>\n",
       "    <tr>\n",
       "      <th>B</th>\n",
       "      <td>0.088584</td>\n",
       "      <td>1.159205</td>\n",
       "    </tr>\n",
       "    <tr>\n",
       "      <th rowspan=\"2\" valign=\"top\">qux</th>\n",
       "      <th>A</th>\n",
       "      <td>0.014452</td>\n",
       "      <td>0.394805</td>\n",
       "    </tr>\n",
       "    <tr>\n",
       "      <th>B</th>\n",
       "      <td>1.797823</td>\n",
       "      <td>-0.214345</td>\n",
       "    </tr>\n",
       "  </tbody>\n",
       "</table>\n",
       "</div>"
      ],
      "text/plain": [
       "second       one       two\n",
       "fist                      \n",
       "bar  A -0.147259 -1.378097\n",
       "     B -0.017446 -0.171903\n",
       "baz  A -0.807390 -2.552057\n",
       "     B -0.563272  0.780392\n",
       "foo  A -1.047248 -0.684953\n",
       "     B  0.088584  1.159205\n",
       "qux  A  0.014452  0.394805\n",
       "     B  1.797823 -0.214345"
      ]
     },
     "execution_count": 11,
     "metadata": {},
     "output_type": "execute_result"
    }
   ],
   "source": [
    "df2.unstack(1)"
   ]
  },
  {
   "cell_type": "code",
   "execution_count": 12,
   "id": "51ab8e09-c0a1-4340-b82b-653bd0e2cadb",
   "metadata": {},
   "outputs": [
    {
     "data": {
      "text/html": [
       "<div>\n",
       "<style scoped>\n",
       "    .dataframe tbody tr th:only-of-type {\n",
       "        vertical-align: middle;\n",
       "    }\n",
       "\n",
       "    .dataframe tbody tr th {\n",
       "        vertical-align: top;\n",
       "    }\n",
       "\n",
       "    .dataframe thead th {\n",
       "        text-align: right;\n",
       "    }\n",
       "</style>\n",
       "<table border=\"1\" class=\"dataframe\">\n",
       "  <thead>\n",
       "    <tr style=\"text-align: right;\">\n",
       "      <th></th>\n",
       "      <th></th>\n",
       "      <th>A</th>\n",
       "      <th>B</th>\n",
       "    </tr>\n",
       "    <tr>\n",
       "      <th>fist</th>\n",
       "      <th>second</th>\n",
       "      <th></th>\n",
       "      <th></th>\n",
       "    </tr>\n",
       "  </thead>\n",
       "  <tbody>\n",
       "    <tr>\n",
       "      <th rowspan=\"2\" valign=\"top\">bar</th>\n",
       "      <th>one</th>\n",
       "      <td>-0.147259</td>\n",
       "      <td>-0.017446</td>\n",
       "    </tr>\n",
       "    <tr>\n",
       "      <th>two</th>\n",
       "      <td>-1.378097</td>\n",
       "      <td>-0.171903</td>\n",
       "    </tr>\n",
       "    <tr>\n",
       "      <th rowspan=\"2\" valign=\"top\">baz</th>\n",
       "      <th>one</th>\n",
       "      <td>-0.807390</td>\n",
       "      <td>-0.563272</td>\n",
       "    </tr>\n",
       "    <tr>\n",
       "      <th>two</th>\n",
       "      <td>-2.552057</td>\n",
       "      <td>0.780392</td>\n",
       "    </tr>\n",
       "    <tr>\n",
       "      <th rowspan=\"2\" valign=\"top\">foo</th>\n",
       "      <th>one</th>\n",
       "      <td>-1.047248</td>\n",
       "      <td>0.088584</td>\n",
       "    </tr>\n",
       "    <tr>\n",
       "      <th>two</th>\n",
       "      <td>-0.684953</td>\n",
       "      <td>1.159205</td>\n",
       "    </tr>\n",
       "    <tr>\n",
       "      <th rowspan=\"2\" valign=\"top\">qux</th>\n",
       "      <th>one</th>\n",
       "      <td>0.014452</td>\n",
       "      <td>1.797823</td>\n",
       "    </tr>\n",
       "    <tr>\n",
       "      <th>two</th>\n",
       "      <td>0.394805</td>\n",
       "      <td>-0.214345</td>\n",
       "    </tr>\n",
       "  </tbody>\n",
       "</table>\n",
       "</div>"
      ],
      "text/plain": [
       "                    A         B\n",
       "fist second                    \n",
       "bar  one    -0.147259 -0.017446\n",
       "     two    -1.378097 -0.171903\n",
       "baz  one    -0.807390 -0.563272\n",
       "     two    -2.552057  0.780392\n",
       "foo  one    -1.047248  0.088584\n",
       "     two    -0.684953  1.159205\n",
       "qux  one     0.014452  1.797823\n",
       "     two     0.394805 -0.214345"
      ]
     },
     "execution_count": 12,
     "metadata": {},
     "output_type": "execute_result"
    }
   ],
   "source": [
    "df2.unstack(2)"
   ]
  },
  {
   "cell_type": "code",
   "execution_count": 13,
   "id": "35a8e38f-645c-43df-9a63-112f0e3a14d6",
   "metadata": {},
   "outputs": [
    {
     "data": {
      "text/html": [
       "<div>\n",
       "<style scoped>\n",
       "    .dataframe tbody tr th:only-of-type {\n",
       "        vertical-align: middle;\n",
       "    }\n",
       "\n",
       "    .dataframe tbody tr th {\n",
       "        vertical-align: top;\n",
       "    }\n",
       "\n",
       "    .dataframe thead th {\n",
       "        text-align: right;\n",
       "    }\n",
       "</style>\n",
       "<table border=\"1\" class=\"dataframe\">\n",
       "  <thead>\n",
       "    <tr style=\"text-align: right;\">\n",
       "      <th></th>\n",
       "      <th>fist</th>\n",
       "      <th>bar</th>\n",
       "      <th>baz</th>\n",
       "      <th>foo</th>\n",
       "      <th>qux</th>\n",
       "    </tr>\n",
       "    <tr>\n",
       "      <th>second</th>\n",
       "      <th></th>\n",
       "      <th></th>\n",
       "      <th></th>\n",
       "      <th></th>\n",
       "      <th></th>\n",
       "    </tr>\n",
       "  </thead>\n",
       "  <tbody>\n",
       "    <tr>\n",
       "      <th rowspan=\"2\" valign=\"top\">one</th>\n",
       "      <th>A</th>\n",
       "      <td>-0.147259</td>\n",
       "      <td>-0.807390</td>\n",
       "      <td>-1.047248</td>\n",
       "      <td>0.014452</td>\n",
       "    </tr>\n",
       "    <tr>\n",
       "      <th>B</th>\n",
       "      <td>-0.017446</td>\n",
       "      <td>-0.563272</td>\n",
       "      <td>0.088584</td>\n",
       "      <td>1.797823</td>\n",
       "    </tr>\n",
       "    <tr>\n",
       "      <th rowspan=\"2\" valign=\"top\">two</th>\n",
       "      <th>A</th>\n",
       "      <td>-1.378097</td>\n",
       "      <td>-2.552057</td>\n",
       "      <td>-0.684953</td>\n",
       "      <td>0.394805</td>\n",
       "    </tr>\n",
       "    <tr>\n",
       "      <th>B</th>\n",
       "      <td>-0.171903</td>\n",
       "      <td>0.780392</td>\n",
       "      <td>1.159205</td>\n",
       "      <td>-0.214345</td>\n",
       "    </tr>\n",
       "  </tbody>\n",
       "</table>\n",
       "</div>"
      ],
      "text/plain": [
       "fist           bar       baz       foo       qux\n",
       "second                                          \n",
       "one    A -0.147259 -0.807390 -1.047248  0.014452\n",
       "       B -0.017446 -0.563272  0.088584  1.797823\n",
       "two    A -1.378097 -2.552057 -0.684953  0.394805\n",
       "       B -0.171903  0.780392  1.159205 -0.214345"
      ]
     },
     "execution_count": 13,
     "metadata": {},
     "output_type": "execute_result"
    }
   ],
   "source": [
    "df2.unstack(0)"
   ]
  },
  {
   "cell_type": "code",
   "execution_count": 25,
   "id": "3622f38c-d8e4-4624-b06d-627cb422f59b",
   "metadata": {},
   "outputs": [
    {
     "data": {
      "text/html": [
       "<div>\n",
       "<style scoped>\n",
       "    .dataframe tbody tr th:only-of-type {\n",
       "        vertical-align: middle;\n",
       "    }\n",
       "\n",
       "    .dataframe tbody tr th {\n",
       "        vertical-align: top;\n",
       "    }\n",
       "\n",
       "    .dataframe thead th {\n",
       "        text-align: right;\n",
       "    }\n",
       "</style>\n",
       "<table border=\"1\" class=\"dataframe\">\n",
       "  <thead>\n",
       "    <tr style=\"text-align: right;\">\n",
       "      <th></th>\n",
       "      <th>first</th>\n",
       "      <th>last</th>\n",
       "      <th>height</th>\n",
       "      <th>weight</th>\n",
       "    </tr>\n",
       "  </thead>\n",
       "  <tbody>\n",
       "    <tr>\n",
       "      <th>0</th>\n",
       "      <td>John</td>\n",
       "      <td>Dow</td>\n",
       "      <td>5.5</td>\n",
       "      <td>130</td>\n",
       "    </tr>\n",
       "    <tr>\n",
       "      <th>1</th>\n",
       "      <td>Mar</td>\n",
       "      <td>Bo</td>\n",
       "      <td>6.0</td>\n",
       "      <td>150</td>\n",
       "    </tr>\n",
       "  </tbody>\n",
       "</table>\n",
       "</div>"
      ],
      "text/plain": [
       "  first last  height  weight\n",
       "0  John  Dow     5.5     130\n",
       "1   Mar   Bo     6.0     150"
      ]
     },
     "execution_count": 25,
     "metadata": {},
     "output_type": "execute_result"
    }
   ],
   "source": [
    "cheese = pd.DataFrame({'first': ['John', 'Mar'], 'last': ['Dow', 'Bo'], 'height': [5.5, 6.0], 'weight': [130, 150]})\n",
    "cheese"
   ]
  },
  {
   "cell_type": "code",
   "execution_count": 27,
   "id": "0a9eee57-ab0a-4399-a5d9-5c38cfcdb99a",
   "metadata": {},
   "outputs": [
    {
     "data": {
      "text/html": [
       "<div>\n",
       "<style scoped>\n",
       "    .dataframe tbody tr th:only-of-type {\n",
       "        vertical-align: middle;\n",
       "    }\n",
       "\n",
       "    .dataframe tbody tr th {\n",
       "        vertical-align: top;\n",
       "    }\n",
       "\n",
       "    .dataframe thead th {\n",
       "        text-align: right;\n",
       "    }\n",
       "</style>\n",
       "<table border=\"1\" class=\"dataframe\">\n",
       "  <thead>\n",
       "    <tr style=\"text-align: right;\">\n",
       "      <th></th>\n",
       "      <th>first</th>\n",
       "      <th>last</th>\n",
       "      <th>variable</th>\n",
       "      <th>value</th>\n",
       "    </tr>\n",
       "  </thead>\n",
       "  <tbody>\n",
       "    <tr>\n",
       "      <th>0</th>\n",
       "      <td>John</td>\n",
       "      <td>Dow</td>\n",
       "      <td>height</td>\n",
       "      <td>5.5</td>\n",
       "    </tr>\n",
       "    <tr>\n",
       "      <th>1</th>\n",
       "      <td>Mar</td>\n",
       "      <td>Bo</td>\n",
       "      <td>height</td>\n",
       "      <td>6.0</td>\n",
       "    </tr>\n",
       "    <tr>\n",
       "      <th>2</th>\n",
       "      <td>John</td>\n",
       "      <td>Dow</td>\n",
       "      <td>weight</td>\n",
       "      <td>130.0</td>\n",
       "    </tr>\n",
       "    <tr>\n",
       "      <th>3</th>\n",
       "      <td>Mar</td>\n",
       "      <td>Bo</td>\n",
       "      <td>weight</td>\n",
       "      <td>150.0</td>\n",
       "    </tr>\n",
       "  </tbody>\n",
       "</table>\n",
       "</div>"
      ],
      "text/plain": [
       "  first last variable  value\n",
       "0  John  Dow   height    5.5\n",
       "1   Mar   Bo   height    6.0\n",
       "2  John  Dow   weight  130.0\n",
       "3   Mar   Bo   weight  150.0"
      ]
     },
     "execution_count": 27,
     "metadata": {},
     "output_type": "execute_result"
    }
   ],
   "source": [
    "cheese.melt(id_vars=['first', 'last'])"
   ]
  },
  {
   "cell_type": "code",
   "execution_count": 28,
   "id": "92c6d5a7-7700-4b08-aba7-b552220c6b23",
   "metadata": {},
   "outputs": [
    {
     "data": {
      "text/html": [
       "<div>\n",
       "<style scoped>\n",
       "    .dataframe tbody tr th:only-of-type {\n",
       "        vertical-align: middle;\n",
       "    }\n",
       "\n",
       "    .dataframe tbody tr th {\n",
       "        vertical-align: top;\n",
       "    }\n",
       "\n",
       "    .dataframe thead th {\n",
       "        text-align: right;\n",
       "    }\n",
       "</style>\n",
       "<table border=\"1\" class=\"dataframe\">\n",
       "  <thead>\n",
       "    <tr style=\"text-align: right;\">\n",
       "      <th></th>\n",
       "      <th>first</th>\n",
       "      <th>last</th>\n",
       "      <th>quantity</th>\n",
       "      <th>value</th>\n",
       "    </tr>\n",
       "  </thead>\n",
       "  <tbody>\n",
       "    <tr>\n",
       "      <th>0</th>\n",
       "      <td>John</td>\n",
       "      <td>Dow</td>\n",
       "      <td>height</td>\n",
       "      <td>5.5</td>\n",
       "    </tr>\n",
       "    <tr>\n",
       "      <th>1</th>\n",
       "      <td>Mar</td>\n",
       "      <td>Bo</td>\n",
       "      <td>height</td>\n",
       "      <td>6.0</td>\n",
       "    </tr>\n",
       "    <tr>\n",
       "      <th>2</th>\n",
       "      <td>John</td>\n",
       "      <td>Dow</td>\n",
       "      <td>weight</td>\n",
       "      <td>130.0</td>\n",
       "    </tr>\n",
       "    <tr>\n",
       "      <th>3</th>\n",
       "      <td>Mar</td>\n",
       "      <td>Bo</td>\n",
       "      <td>weight</td>\n",
       "      <td>150.0</td>\n",
       "    </tr>\n",
       "  </tbody>\n",
       "</table>\n",
       "</div>"
      ],
      "text/plain": [
       "  first last quantity  value\n",
       "0  John  Dow   height    5.5\n",
       "1   Mar   Bo   height    6.0\n",
       "2  John  Dow   weight  130.0\n",
       "3   Mar   Bo   weight  150.0"
      ]
     },
     "execution_count": 28,
     "metadata": {},
     "output_type": "execute_result"
    }
   ],
   "source": [
    "cheese.melt(id_vars=['first', 'last'], var_name='quantity')"
   ]
  },
  {
   "cell_type": "code",
   "execution_count": 29,
   "id": "c35603a3-2027-41ad-9836-e1f967b99a56",
   "metadata": {},
   "outputs": [
    {
     "data": {
      "text/html": [
       "<div>\n",
       "<style scoped>\n",
       "    .dataframe tbody tr th:only-of-type {\n",
       "        vertical-align: middle;\n",
       "    }\n",
       "\n",
       "    .dataframe tbody tr th {\n",
       "        vertical-align: top;\n",
       "    }\n",
       "\n",
       "    .dataframe thead th {\n",
       "        text-align: right;\n",
       "    }\n",
       "</style>\n",
       "<table border=\"1\" class=\"dataframe\">\n",
       "  <thead>\n",
       "    <tr style=\"text-align: right;\">\n",
       "      <th></th>\n",
       "      <th>first</th>\n",
       "      <th>last</th>\n",
       "      <th>location</th>\n",
       "      <th>height</th>\n",
       "      <th>weight</th>\n",
       "    </tr>\n",
       "  </thead>\n",
       "  <tbody>\n",
       "    <tr>\n",
       "      <th>0</th>\n",
       "      <td>John</td>\n",
       "      <td>Dow</td>\n",
       "      <td>London</td>\n",
       "      <td>5.5</td>\n",
       "      <td>130</td>\n",
       "    </tr>\n",
       "    <tr>\n",
       "      <th>1</th>\n",
       "      <td>Mar</td>\n",
       "      <td>Bo</td>\n",
       "      <td>Paris</td>\n",
       "      <td>6.0</td>\n",
       "      <td>150</td>\n",
       "    </tr>\n",
       "  </tbody>\n",
       "</table>\n",
       "</div>"
      ],
      "text/plain": [
       "  first last location  height  weight\n",
       "0  John  Dow   London     5.5     130\n",
       "1   Mar   Bo    Paris     6.0     150"
      ]
     },
     "execution_count": 29,
     "metadata": {},
     "output_type": "execute_result"
    }
   ],
   "source": [
    "cheese1 = pd.DataFrame({'first': ['John', 'Mar'], 'last': ['Dow', 'Bo'], 'location': ['London', 'Paris'], 'height': [5.5, 6.0], 'weight': [130, 150]})\n",
    "cheese1"
   ]
  },
  {
   "cell_type": "code",
   "execution_count": 30,
   "id": "46deed27-e470-43a6-8a44-1edda97140f7",
   "metadata": {},
   "outputs": [
    {
     "data": {
      "text/html": [
       "<div>\n",
       "<style scoped>\n",
       "    .dataframe tbody tr th:only-of-type {\n",
       "        vertical-align: middle;\n",
       "    }\n",
       "\n",
       "    .dataframe tbody tr th {\n",
       "        vertical-align: top;\n",
       "    }\n",
       "\n",
       "    .dataframe thead th {\n",
       "        text-align: right;\n",
       "    }\n",
       "</style>\n",
       "<table border=\"1\" class=\"dataframe\">\n",
       "  <thead>\n",
       "    <tr style=\"text-align: right;\">\n",
       "      <th></th>\n",
       "      <th>first</th>\n",
       "      <th>last</th>\n",
       "      <th>location</th>\n",
       "      <th>var</th>\n",
       "      <th>value</th>\n",
       "    </tr>\n",
       "  </thead>\n",
       "  <tbody>\n",
       "    <tr>\n",
       "      <th>0</th>\n",
       "      <td>John</td>\n",
       "      <td>Dow</td>\n",
       "      <td>London</td>\n",
       "      <td>height</td>\n",
       "      <td>5.5</td>\n",
       "    </tr>\n",
       "    <tr>\n",
       "      <th>1</th>\n",
       "      <td>Mar</td>\n",
       "      <td>Bo</td>\n",
       "      <td>Paris</td>\n",
       "      <td>height</td>\n",
       "      <td>6.0</td>\n",
       "    </tr>\n",
       "    <tr>\n",
       "      <th>2</th>\n",
       "      <td>John</td>\n",
       "      <td>Dow</td>\n",
       "      <td>London</td>\n",
       "      <td>weight</td>\n",
       "      <td>130.0</td>\n",
       "    </tr>\n",
       "    <tr>\n",
       "      <th>3</th>\n",
       "      <td>Mar</td>\n",
       "      <td>Bo</td>\n",
       "      <td>Paris</td>\n",
       "      <td>weight</td>\n",
       "      <td>150.0</td>\n",
       "    </tr>\n",
       "  </tbody>\n",
       "</table>\n",
       "</div>"
      ],
      "text/plain": [
       "  first last location     var  value\n",
       "0  John  Dow   London  height    5.5\n",
       "1   Mar   Bo    Paris  height    6.0\n",
       "2  John  Dow   London  weight  130.0\n",
       "3   Mar   Bo    Paris  weight  150.0"
      ]
     },
     "execution_count": 30,
     "metadata": {},
     "output_type": "execute_result"
    }
   ],
   "source": [
    "cheese1.melt(id_vars=['first', 'last', 'location'], var_name='var')"
   ]
  },
  {
   "cell_type": "code",
   "execution_count": 38,
   "id": "53f36b82-e367-4b89-9669-cb287ee95852",
   "metadata": {},
   "outputs": [
    {
     "data": {
      "text/html": [
       "<div>\n",
       "<style scoped>\n",
       "    .dataframe tbody tr th:only-of-type {\n",
       "        vertical-align: middle;\n",
       "    }\n",
       "\n",
       "    .dataframe tbody tr th {\n",
       "        vertical-align: top;\n",
       "    }\n",
       "\n",
       "    .dataframe thead th {\n",
       "        text-align: right;\n",
       "    }\n",
       "</style>\n",
       "<table border=\"1\" class=\"dataframe\">\n",
       "  <thead>\n",
       "    <tr style=\"text-align: right;\">\n",
       "      <th></th>\n",
       "      <th></th>\n",
       "      <th>first</th>\n",
       "      <th>last</th>\n",
       "      <th>height</th>\n",
       "      <th>weight</th>\n",
       "    </tr>\n",
       "  </thead>\n",
       "  <tbody>\n",
       "    <tr>\n",
       "      <th rowspan=\"2\" valign=\"top\">person</th>\n",
       "      <th>A</th>\n",
       "      <td>John</td>\n",
       "      <td>Dow</td>\n",
       "      <td>5.5</td>\n",
       "      <td>130</td>\n",
       "    </tr>\n",
       "    <tr>\n",
       "      <th>B</th>\n",
       "      <td>Mar</td>\n",
       "      <td>Bo</td>\n",
       "      <td>6.0</td>\n",
       "      <td>150</td>\n",
       "    </tr>\n",
       "  </tbody>\n",
       "</table>\n",
       "</div>"
      ],
      "text/plain": [
       "         first last  height  weight\n",
       "person A  John  Dow     5.5     130\n",
       "       B   Mar   Bo     6.0     150"
      ]
     },
     "execution_count": 38,
     "metadata": {},
     "output_type": "execute_result"
    }
   ],
   "source": [
    "index = pd.MultiIndex.from_tuples({('person', 'A'), ('person', 'B')})\n",
    "df = cheese.set_index(index)\n",
    "df"
   ]
  },
  {
   "cell_type": "code",
   "execution_count": 39,
   "id": "58051d4a-ce76-4428-9155-60e2ccfa3ab9",
   "metadata": {},
   "outputs": [
    {
     "data": {
      "text/html": [
       "<div>\n",
       "<style scoped>\n",
       "    .dataframe tbody tr th:only-of-type {\n",
       "        vertical-align: middle;\n",
       "    }\n",
       "\n",
       "    .dataframe tbody tr th {\n",
       "        vertical-align: top;\n",
       "    }\n",
       "\n",
       "    .dataframe thead th {\n",
       "        text-align: right;\n",
       "    }\n",
       "</style>\n",
       "<table border=\"1\" class=\"dataframe\">\n",
       "  <thead>\n",
       "    <tr style=\"text-align: right;\">\n",
       "      <th></th>\n",
       "      <th></th>\n",
       "      <th>first</th>\n",
       "      <th>last</th>\n",
       "      <th>variable</th>\n",
       "      <th>value</th>\n",
       "    </tr>\n",
       "  </thead>\n",
       "  <tbody>\n",
       "    <tr>\n",
       "      <th rowspan=\"4\" valign=\"top\">person</th>\n",
       "      <th>A</th>\n",
       "      <td>John</td>\n",
       "      <td>Dow</td>\n",
       "      <td>height</td>\n",
       "      <td>5.5</td>\n",
       "    </tr>\n",
       "    <tr>\n",
       "      <th>B</th>\n",
       "      <td>Mar</td>\n",
       "      <td>Bo</td>\n",
       "      <td>height</td>\n",
       "      <td>6.0</td>\n",
       "    </tr>\n",
       "    <tr>\n",
       "      <th>A</th>\n",
       "      <td>John</td>\n",
       "      <td>Dow</td>\n",
       "      <td>weight</td>\n",
       "      <td>130.0</td>\n",
       "    </tr>\n",
       "    <tr>\n",
       "      <th>B</th>\n",
       "      <td>Mar</td>\n",
       "      <td>Bo</td>\n",
       "      <td>weight</td>\n",
       "      <td>150.0</td>\n",
       "    </tr>\n",
       "  </tbody>\n",
       "</table>\n",
       "</div>"
      ],
      "text/plain": [
       "         first last variable  value\n",
       "person A  John  Dow   height    5.5\n",
       "       B   Mar   Bo   height    6.0\n",
       "       A  John  Dow   weight  130.0\n",
       "       B   Mar   Bo   weight  150.0"
      ]
     },
     "execution_count": 39,
     "metadata": {},
     "output_type": "execute_result"
    }
   ],
   "source": [
    "df.melt(id_vars=['first', 'last'], ignore_index=False)"
   ]
  },
  {
   "cell_type": "code",
   "execution_count": 46,
   "id": "b659cfac-aba4-4c23-a4df-3cfc9cc3ece9",
   "metadata": {},
   "outputs": [
    {
     "data": {
      "text/html": [
       "<div>\n",
       "<style scoped>\n",
       "    .dataframe tbody tr th:only-of-type {\n",
       "        vertical-align: middle;\n",
       "    }\n",
       "\n",
       "    .dataframe tbody tr th {\n",
       "        vertical-align: top;\n",
       "    }\n",
       "\n",
       "    .dataframe thead tr th {\n",
       "        text-align: left;\n",
       "    }\n",
       "\n",
       "    .dataframe thead tr:last-of-type th {\n",
       "        text-align: right;\n",
       "    }\n",
       "</style>\n",
       "<table border=\"1\" class=\"dataframe\">\n",
       "  <thead>\n",
       "    <tr>\n",
       "      <th></th>\n",
       "      <th>exp</th>\n",
       "      <th>A</th>\n",
       "      <th colspan=\"2\" halign=\"left\">B</th>\n",
       "      <th>A</th>\n",
       "    </tr>\n",
       "    <tr>\n",
       "      <th></th>\n",
       "      <th>animal</th>\n",
       "      <th>cat</th>\n",
       "      <th>dog</th>\n",
       "      <th>cat</th>\n",
       "      <th>dog</th>\n",
       "    </tr>\n",
       "    <tr>\n",
       "      <th>first</th>\n",
       "      <th>second</th>\n",
       "      <th></th>\n",
       "      <th></th>\n",
       "      <th></th>\n",
       "      <th></th>\n",
       "    </tr>\n",
       "  </thead>\n",
       "  <tbody>\n",
       "    <tr>\n",
       "      <th rowspan=\"2\" valign=\"top\">bar</th>\n",
       "      <th>one</th>\n",
       "      <td>0.440186</td>\n",
       "      <td>0.456182</td>\n",
       "      <td>0.245471</td>\n",
       "      <td>-1.152767</td>\n",
       "    </tr>\n",
       "    <tr>\n",
       "      <th>two</th>\n",
       "      <td>0.130850</td>\n",
       "      <td>-0.922904</td>\n",
       "      <td>-0.550016</td>\n",
       "      <td>-1.566868</td>\n",
       "    </tr>\n",
       "    <tr>\n",
       "      <th rowspan=\"2\" valign=\"top\">baz</th>\n",
       "      <th>one</th>\n",
       "      <td>0.482003</td>\n",
       "      <td>-0.980593</td>\n",
       "      <td>-0.040883</td>\n",
       "      <td>-0.523137</td>\n",
       "    </tr>\n",
       "    <tr>\n",
       "      <th>two</th>\n",
       "      <td>1.032251</td>\n",
       "      <td>-0.961894</td>\n",
       "      <td>0.227934</td>\n",
       "      <td>1.115256</td>\n",
       "    </tr>\n",
       "    <tr>\n",
       "      <th rowspan=\"2\" valign=\"top\">foo</th>\n",
       "      <th>one</th>\n",
       "      <td>-0.456132</td>\n",
       "      <td>-1.371974</td>\n",
       "      <td>1.642311</td>\n",
       "      <td>-0.751516</td>\n",
       "    </tr>\n",
       "    <tr>\n",
       "      <th>two</th>\n",
       "      <td>0.542874</td>\n",
       "      <td>-0.620520</td>\n",
       "      <td>-1.133246</td>\n",
       "      <td>-0.088572</td>\n",
       "    </tr>\n",
       "    <tr>\n",
       "      <th rowspan=\"2\" valign=\"top\">qux</th>\n",
       "      <th>one</th>\n",
       "      <td>0.481883</td>\n",
       "      <td>-0.752749</td>\n",
       "      <td>0.573976</td>\n",
       "      <td>1.305406</td>\n",
       "    </tr>\n",
       "    <tr>\n",
       "      <th>two</th>\n",
       "      <td>-1.082310</td>\n",
       "      <td>-0.507097</td>\n",
       "      <td>-0.352862</td>\n",
       "      <td>0.575986</td>\n",
       "    </tr>\n",
       "  </tbody>\n",
       "</table>\n",
       "</div>"
      ],
      "text/plain": [
       "exp                  A         B                   A\n",
       "animal             cat       dog       cat       dog\n",
       "first second                                        \n",
       "bar   one     0.440186  0.456182  0.245471 -1.152767\n",
       "      two     0.130850 -0.922904 -0.550016 -1.566868\n",
       "baz   one     0.482003 -0.980593 -0.040883 -0.523137\n",
       "      two     1.032251 -0.961894  0.227934  1.115256\n",
       "foo   one    -0.456132 -1.371974  1.642311 -0.751516\n",
       "      two     0.542874 -0.620520 -1.133246 -0.088572\n",
       "qux   one     0.481883 -0.752749  0.573976  1.305406\n",
       "      two    -1.082310 -0.507097 -0.352862  0.575986"
      ]
     },
     "execution_count": 46,
     "metadata": {},
     "output_type": "execute_result"
    }
   ],
   "source": [
    "index = pd.MultiIndex.from_product([['bar', 'baz', 'foo', 'qux'], ['one', 'two']], names=['first', 'second'])\n",
    "columns = pd.MultiIndex.from_tuples([('A', 'cat'), ('B', 'dog'), ('B', 'cat'), ('A', 'dog')], names=['exp', 'animal'])\n",
    "df = pd.DataFrame(np.random.randn(8,4), index=index, columns=columns)\n",
    "df"
   ]
  },
  {
   "cell_type": "code",
   "execution_count": 57,
   "id": "1e0f0cd6-c851-41aa-b4f0-1a022907f52a",
   "metadata": {},
   "outputs": [
    {
     "data": {
      "text/html": [
       "<div>\n",
       "<style scoped>\n",
       "    .dataframe tbody tr th:only-of-type {\n",
       "        vertical-align: middle;\n",
       "    }\n",
       "\n",
       "    .dataframe tbody tr th {\n",
       "        vertical-align: top;\n",
       "    }\n",
       "\n",
       "    .dataframe thead tr th {\n",
       "        text-align: left;\n",
       "    }\n",
       "\n",
       "    .dataframe thead tr:last-of-type th {\n",
       "        text-align: right;\n",
       "    }\n",
       "</style>\n",
       "<table border=\"1\" class=\"dataframe\">\n",
       "  <thead>\n",
       "    <tr>\n",
       "      <th>exp</th>\n",
       "      <th colspan=\"2\" halign=\"left\">A</th>\n",
       "      <th colspan=\"4\" halign=\"left\">B</th>\n",
       "      <th colspan=\"2\" halign=\"left\">A</th>\n",
       "    </tr>\n",
       "    <tr>\n",
       "      <th>animal</th>\n",
       "      <th colspan=\"2\" halign=\"left\">cat</th>\n",
       "      <th colspan=\"2\" halign=\"left\">dog</th>\n",
       "      <th colspan=\"2\" halign=\"left\">cat</th>\n",
       "      <th colspan=\"2\" halign=\"left\">dog</th>\n",
       "    </tr>\n",
       "    <tr>\n",
       "      <th>second</th>\n",
       "      <th>one</th>\n",
       "      <th>two</th>\n",
       "      <th>one</th>\n",
       "      <th>two</th>\n",
       "      <th>one</th>\n",
       "      <th>two</th>\n",
       "      <th>one</th>\n",
       "      <th>two</th>\n",
       "    </tr>\n",
       "    <tr>\n",
       "      <th>first</th>\n",
       "      <th></th>\n",
       "      <th></th>\n",
       "      <th></th>\n",
       "      <th></th>\n",
       "      <th></th>\n",
       "      <th></th>\n",
       "      <th></th>\n",
       "      <th></th>\n",
       "    </tr>\n",
       "  </thead>\n",
       "  <tbody>\n",
       "    <tr>\n",
       "      <th>bar</th>\n",
       "      <td>0.440186</td>\n",
       "      <td>0.130850</td>\n",
       "      <td>0.456182</td>\n",
       "      <td>-0.922904</td>\n",
       "      <td>0.245471</td>\n",
       "      <td>-0.550016</td>\n",
       "      <td>-1.152767</td>\n",
       "      <td>-1.566868</td>\n",
       "    </tr>\n",
       "    <tr>\n",
       "      <th>baz</th>\n",
       "      <td>0.482003</td>\n",
       "      <td>1.032251</td>\n",
       "      <td>-0.980593</td>\n",
       "      <td>-0.961894</td>\n",
       "      <td>-0.040883</td>\n",
       "      <td>0.227934</td>\n",
       "      <td>-0.523137</td>\n",
       "      <td>1.115256</td>\n",
       "    </tr>\n",
       "    <tr>\n",
       "      <th>foo</th>\n",
       "      <td>-0.456132</td>\n",
       "      <td>0.542874</td>\n",
       "      <td>-1.371974</td>\n",
       "      <td>-0.620520</td>\n",
       "      <td>1.642311</td>\n",
       "      <td>-1.133246</td>\n",
       "      <td>-0.751516</td>\n",
       "      <td>-0.088572</td>\n",
       "    </tr>\n",
       "    <tr>\n",
       "      <th>qux</th>\n",
       "      <td>0.481883</td>\n",
       "      <td>-1.082310</td>\n",
       "      <td>-0.752749</td>\n",
       "      <td>-0.507097</td>\n",
       "      <td>0.573976</td>\n",
       "      <td>-0.352862</td>\n",
       "      <td>1.305406</td>\n",
       "      <td>0.575986</td>\n",
       "    </tr>\n",
       "  </tbody>\n",
       "</table>\n",
       "</div>"
      ],
      "text/plain": [
       "exp            A                   B                                       A  \\\n",
       "animal       cat                 dog                 cat                 dog   \n",
       "second       one       two       one       two       one       two       one   \n",
       "first                                                                          \n",
       "bar     0.440186  0.130850  0.456182 -0.922904  0.245471 -0.550016 -1.152767   \n",
       "baz     0.482003  1.032251 -0.980593 -0.961894 -0.040883  0.227934 -0.523137   \n",
       "foo    -0.456132  0.542874 -1.371974 -0.620520  1.642311 -1.133246 -0.751516   \n",
       "qux     0.481883 -1.082310 -0.752749 -0.507097  0.573976 -0.352862  1.305406   \n",
       "\n",
       "exp               \n",
       "animal            \n",
       "second       two  \n",
       "first             \n",
       "bar    -1.566868  \n",
       "baz     1.115256  \n",
       "foo    -0.088572  \n",
       "qux     0.575986  "
      ]
     },
     "execution_count": 57,
     "metadata": {},
     "output_type": "execute_result"
    }
   ],
   "source": [
    "df.unstack(1)"
   ]
  },
  {
   "cell_type": "code",
   "execution_count": 59,
   "id": "2fb89767-1fb7-4731-882c-a8178b641857",
   "metadata": {},
   "outputs": [
    {
     "data": {
      "text/html": [
       "<div>\n",
       "<style scoped>\n",
       "    .dataframe tbody tr th:only-of-type {\n",
       "        vertical-align: middle;\n",
       "    }\n",
       "\n",
       "    .dataframe tbody tr th {\n",
       "        vertical-align: top;\n",
       "    }\n",
       "\n",
       "    .dataframe thead th {\n",
       "        text-align: right;\n",
       "    }\n",
       "</style>\n",
       "<table border=\"1\" class=\"dataframe\">\n",
       "  <thead>\n",
       "    <tr style=\"text-align: right;\">\n",
       "      <th></th>\n",
       "      <th>animal</th>\n",
       "      <th>cat</th>\n",
       "      <th>dog</th>\n",
       "    </tr>\n",
       "    <tr>\n",
       "      <th>first</th>\n",
       "      <th>second</th>\n",
       "      <th></th>\n",
       "      <th></th>\n",
       "    </tr>\n",
       "  </thead>\n",
       "  <tbody>\n",
       "    <tr>\n",
       "      <th rowspan=\"2\" valign=\"top\">bar</th>\n",
       "      <th>one</th>\n",
       "      <td>0.342828</td>\n",
       "      <td>-0.348293</td>\n",
       "    </tr>\n",
       "    <tr>\n",
       "      <th>two</th>\n",
       "      <td>-0.209583</td>\n",
       "      <td>-1.244886</td>\n",
       "    </tr>\n",
       "    <tr>\n",
       "      <th rowspan=\"2\" valign=\"top\">baz</th>\n",
       "      <th>one</th>\n",
       "      <td>0.220560</td>\n",
       "      <td>-0.751865</td>\n",
       "    </tr>\n",
       "    <tr>\n",
       "      <th>two</th>\n",
       "      <td>0.630092</td>\n",
       "      <td>0.076681</td>\n",
       "    </tr>\n",
       "    <tr>\n",
       "      <th rowspan=\"2\" valign=\"top\">foo</th>\n",
       "      <th>one</th>\n",
       "      <td>0.593090</td>\n",
       "      <td>-1.061745</td>\n",
       "    </tr>\n",
       "    <tr>\n",
       "      <th>two</th>\n",
       "      <td>-0.295186</td>\n",
       "      <td>-0.354546</td>\n",
       "    </tr>\n",
       "    <tr>\n",
       "      <th rowspan=\"2\" valign=\"top\">qux</th>\n",
       "      <th>one</th>\n",
       "      <td>0.527929</td>\n",
       "      <td>0.276328</td>\n",
       "    </tr>\n",
       "    <tr>\n",
       "      <th>two</th>\n",
       "      <td>-0.717586</td>\n",
       "      <td>0.034445</td>\n",
       "    </tr>\n",
       "  </tbody>\n",
       "</table>\n",
       "</div>"
      ],
      "text/plain": [
       "animal             cat       dog\n",
       "first second                    \n",
       "bar   one     0.342828 -0.348293\n",
       "      two    -0.209583 -1.244886\n",
       "baz   one     0.220560 -0.751865\n",
       "      two     0.630092  0.076681\n",
       "foo   one     0.593090 -1.061745\n",
       "      two    -0.295186 -0.354546\n",
       "qux   one     0.527929  0.276328\n",
       "      two    -0.717586  0.034445"
      ]
     },
     "execution_count": 59,
     "metadata": {},
     "output_type": "execute_result"
    }
   ],
   "source": [
    "df.groupby(level=1, axis=1).mean()"
   ]
  },
  {
   "cell_type": "code",
   "execution_count": 61,
   "id": "47d9410d-ae56-4a15-84bb-bdec950fa95e",
   "metadata": {},
   "outputs": [
    {
     "data": {
      "text/html": [
       "<div>\n",
       "<style scoped>\n",
       "    .dataframe tbody tr th:only-of-type {\n",
       "        vertical-align: middle;\n",
       "    }\n",
       "\n",
       "    .dataframe tbody tr th {\n",
       "        vertical-align: top;\n",
       "    }\n",
       "\n",
       "    .dataframe thead th {\n",
       "        text-align: right;\n",
       "    }\n",
       "</style>\n",
       "<table border=\"1\" class=\"dataframe\">\n",
       "  <thead>\n",
       "    <tr style=\"text-align: right;\">\n",
       "      <th></th>\n",
       "      <th>animal</th>\n",
       "      <th>cat</th>\n",
       "      <th>dog</th>\n",
       "    </tr>\n",
       "    <tr>\n",
       "      <th>first</th>\n",
       "      <th>second</th>\n",
       "      <th></th>\n",
       "      <th></th>\n",
       "    </tr>\n",
       "  </thead>\n",
       "  <tbody>\n",
       "    <tr>\n",
       "      <th rowspan=\"2\" valign=\"top\">bar</th>\n",
       "      <th>one</th>\n",
       "      <td>0.342828</td>\n",
       "      <td>-0.348293</td>\n",
       "    </tr>\n",
       "    <tr>\n",
       "      <th>two</th>\n",
       "      <td>-0.209583</td>\n",
       "      <td>-1.244886</td>\n",
       "    </tr>\n",
       "    <tr>\n",
       "      <th rowspan=\"2\" valign=\"top\">baz</th>\n",
       "      <th>one</th>\n",
       "      <td>0.220560</td>\n",
       "      <td>-0.751865</td>\n",
       "    </tr>\n",
       "    <tr>\n",
       "      <th>two</th>\n",
       "      <td>0.630092</td>\n",
       "      <td>0.076681</td>\n",
       "    </tr>\n",
       "    <tr>\n",
       "      <th rowspan=\"2\" valign=\"top\">foo</th>\n",
       "      <th>one</th>\n",
       "      <td>0.593090</td>\n",
       "      <td>-1.061745</td>\n",
       "    </tr>\n",
       "    <tr>\n",
       "      <th>two</th>\n",
       "      <td>-0.295186</td>\n",
       "      <td>-0.354546</td>\n",
       "    </tr>\n",
       "    <tr>\n",
       "      <th rowspan=\"2\" valign=\"top\">qux</th>\n",
       "      <th>one</th>\n",
       "      <td>0.527929</td>\n",
       "      <td>0.276328</td>\n",
       "    </tr>\n",
       "    <tr>\n",
       "      <th>two</th>\n",
       "      <td>-0.717586</td>\n",
       "      <td>0.034445</td>\n",
       "    </tr>\n",
       "  </tbody>\n",
       "</table>\n",
       "</div>"
      ],
      "text/plain": [
       "animal             cat       dog\n",
       "first second                    \n",
       "bar   one     0.342828 -0.348293\n",
       "      two    -0.209583 -1.244886\n",
       "baz   one     0.220560 -0.751865\n",
       "      two     0.630092  0.076681\n",
       "foo   one     0.593090 -1.061745\n",
       "      two    -0.295186 -0.354546\n",
       "qux   one     0.527929  0.276328\n",
       "      two    -0.717586  0.034445"
      ]
     },
     "execution_count": 61,
     "metadata": {},
     "output_type": "execute_result"
    }
   ],
   "source": [
    "df.stack().mean(1).unstack()"
   ]
  },
  {
   "cell_type": "code",
   "execution_count": 85,
   "id": "da42e287-909d-41bd-937e-3bc7673792fc",
   "metadata": {},
   "outputs": [
    {
     "data": {
      "text/plain": [
       "animal\n",
       "cat    0.136518\n",
       "dog   -0.421735\n",
       "dtype: float64"
      ]
     },
     "execution_count": 85,
     "metadata": {},
     "output_type": "execute_result"
    }
   ],
   "source": [
    "df.stack().mean(1).groupby(['animal']).mean()"
   ]
  },
  {
   "cell_type": "code",
   "execution_count": 100,
   "id": "94882cac-6d38-4253-8942-f223f1919c07",
   "metadata": {},
   "outputs": [],
   "source": [
    "import datetime\n",
    "df = pd.DataFrame({ 'A': ['one', 'one', 'two', 'three'] * 6,\n",
    "                    'B': ['A', 'B', 'C'] * 8,\n",
    "                    'C': ['foo', 'foo', 'foo', 'bar', 'bar', 'bar'] * 4,\n",
    "                    'D': np.random.randn(24),\n",
    "                    'E': np.random.randn(24),\n",
    "                    'F': [datetime.datetime(2013, i, 1) for i in range(1, 13)] + [datetime.datetime(2013, i, 15) for i in range(1, 13)]})"
   ]
  },
  {
   "cell_type": "code",
   "execution_count": 104,
   "id": "cd56c63d-81bc-40aa-a2f7-6eaf2055c3fe",
   "metadata": {},
   "outputs": [
    {
     "data": {
      "text/html": [
       "<div>\n",
       "<style scoped>\n",
       "    .dataframe tbody tr th:only-of-type {\n",
       "        vertical-align: middle;\n",
       "    }\n",
       "\n",
       "    .dataframe tbody tr th {\n",
       "        vertical-align: top;\n",
       "    }\n",
       "\n",
       "    .dataframe thead th {\n",
       "        text-align: right;\n",
       "    }\n",
       "</style>\n",
       "<table border=\"1\" class=\"dataframe\">\n",
       "  <thead>\n",
       "    <tr style=\"text-align: right;\">\n",
       "      <th></th>\n",
       "      <th>A</th>\n",
       "      <th>B</th>\n",
       "      <th>C</th>\n",
       "      <th>D</th>\n",
       "      <th>E</th>\n",
       "      <th>F</th>\n",
       "    </tr>\n",
       "  </thead>\n",
       "  <tbody>\n",
       "    <tr>\n",
       "      <th>0</th>\n",
       "      <td>one</td>\n",
       "      <td>A</td>\n",
       "      <td>foo</td>\n",
       "      <td>-0.733000</td>\n",
       "      <td>0.953468</td>\n",
       "      <td>2013-01-01</td>\n",
       "    </tr>\n",
       "    <tr>\n",
       "      <th>1</th>\n",
       "      <td>one</td>\n",
       "      <td>B</td>\n",
       "      <td>foo</td>\n",
       "      <td>-0.855326</td>\n",
       "      <td>-1.527126</td>\n",
       "      <td>2013-02-01</td>\n",
       "    </tr>\n",
       "    <tr>\n",
       "      <th>2</th>\n",
       "      <td>two</td>\n",
       "      <td>C</td>\n",
       "      <td>foo</td>\n",
       "      <td>-1.931290</td>\n",
       "      <td>-1.175786</td>\n",
       "      <td>2013-03-01</td>\n",
       "    </tr>\n",
       "    <tr>\n",
       "      <th>3</th>\n",
       "      <td>three</td>\n",
       "      <td>A</td>\n",
       "      <td>bar</td>\n",
       "      <td>-1.964581</td>\n",
       "      <td>-0.395056</td>\n",
       "      <td>2013-04-01</td>\n",
       "    </tr>\n",
       "  </tbody>\n",
       "</table>\n",
       "</div>"
      ],
      "text/plain": [
       "       A  B    C         D         E          F\n",
       "0    one  A  foo -0.733000  0.953468 2013-01-01\n",
       "1    one  B  foo -0.855326 -1.527126 2013-02-01\n",
       "2    two  C  foo -1.931290 -1.175786 2013-03-01\n",
       "3  three  A  bar -1.964581 -0.395056 2013-04-01"
      ]
     },
     "execution_count": 104,
     "metadata": {},
     "output_type": "execute_result"
    }
   ],
   "source": [
    "df.head(4)"
   ]
  },
  {
   "cell_type": "code",
   "execution_count": 108,
   "id": "7b50c96d-0ea6-469f-901d-a26d816415a9",
   "metadata": {},
   "outputs": [
    {
     "data": {
      "text/html": [
       "<div>\n",
       "<style scoped>\n",
       "    .dataframe tbody tr th:only-of-type {\n",
       "        vertical-align: middle;\n",
       "    }\n",
       "\n",
       "    .dataframe tbody tr th {\n",
       "        vertical-align: top;\n",
       "    }\n",
       "\n",
       "    .dataframe thead tr th {\n",
       "        text-align: left;\n",
       "    }\n",
       "\n",
       "    .dataframe thead tr:last-of-type th {\n",
       "        text-align: right;\n",
       "    }\n",
       "</style>\n",
       "<table border=\"1\" class=\"dataframe\">\n",
       "  <thead>\n",
       "    <tr>\n",
       "      <th></th>\n",
       "      <th colspan=\"6\" halign=\"left\">D</th>\n",
       "      <th colspan=\"6\" halign=\"left\">E</th>\n",
       "    </tr>\n",
       "    <tr>\n",
       "      <th>B</th>\n",
       "      <th colspan=\"2\" halign=\"left\">A</th>\n",
       "      <th colspan=\"2\" halign=\"left\">B</th>\n",
       "      <th colspan=\"2\" halign=\"left\">C</th>\n",
       "      <th colspan=\"2\" halign=\"left\">A</th>\n",
       "      <th colspan=\"2\" halign=\"left\">B</th>\n",
       "      <th colspan=\"2\" halign=\"left\">C</th>\n",
       "    </tr>\n",
       "    <tr>\n",
       "      <th>C</th>\n",
       "      <th>bar</th>\n",
       "      <th>foo</th>\n",
       "      <th>bar</th>\n",
       "      <th>foo</th>\n",
       "      <th>bar</th>\n",
       "      <th>foo</th>\n",
       "      <th>bar</th>\n",
       "      <th>foo</th>\n",
       "      <th>bar</th>\n",
       "      <th>foo</th>\n",
       "      <th>bar</th>\n",
       "      <th>foo</th>\n",
       "    </tr>\n",
       "    <tr>\n",
       "      <th>A</th>\n",
       "      <th></th>\n",
       "      <th></th>\n",
       "      <th></th>\n",
       "      <th></th>\n",
       "      <th></th>\n",
       "      <th></th>\n",
       "      <th></th>\n",
       "      <th></th>\n",
       "      <th></th>\n",
       "      <th></th>\n",
       "      <th></th>\n",
       "      <th></th>\n",
       "    </tr>\n",
       "  </thead>\n",
       "  <tbody>\n",
       "    <tr>\n",
       "      <th>one</th>\n",
       "      <td>-0.463774</td>\n",
       "      <td>0.256101</td>\n",
       "      <td>-0.872767</td>\n",
       "      <td>-0.311730</td>\n",
       "      <td>0.205786</td>\n",
       "      <td>0.060311</td>\n",
       "      <td>0.935983</td>\n",
       "      <td>1.344029</td>\n",
       "      <td>-1.657711</td>\n",
       "      <td>-1.534024</td>\n",
       "      <td>0.577159</td>\n",
       "      <td>-1.719386</td>\n",
       "    </tr>\n",
       "    <tr>\n",
       "      <th>three</th>\n",
       "      <td>-1.266364</td>\n",
       "      <td>NaN</td>\n",
       "      <td>NaN</td>\n",
       "      <td>0.429624</td>\n",
       "      <td>0.080274</td>\n",
       "      <td>NaN</td>\n",
       "      <td>-0.935639</td>\n",
       "      <td>NaN</td>\n",
       "      <td>NaN</td>\n",
       "      <td>-3.036266</td>\n",
       "      <td>0.983468</td>\n",
       "      <td>NaN</td>\n",
       "    </tr>\n",
       "    <tr>\n",
       "      <th>two</th>\n",
       "      <td>NaN</td>\n",
       "      <td>0.224060</td>\n",
       "      <td>-2.555067</td>\n",
       "      <td>NaN</td>\n",
       "      <td>NaN</td>\n",
       "      <td>-0.986996</td>\n",
       "      <td>NaN</td>\n",
       "      <td>1.311266</td>\n",
       "      <td>-0.230450</td>\n",
       "      <td>NaN</td>\n",
       "      <td>NaN</td>\n",
       "      <td>-0.080964</td>\n",
       "    </tr>\n",
       "  </tbody>\n",
       "</table>\n",
       "</div>"
      ],
      "text/plain": [
       "              D                                                           E  \\\n",
       "B             A                   B                   C                   A   \n",
       "C           bar       foo       bar       foo       bar       foo       bar   \n",
       "A                                                                             \n",
       "one   -0.463774  0.256101 -0.872767 -0.311730  0.205786  0.060311  0.935983   \n",
       "three -1.266364       NaN       NaN  0.429624  0.080274       NaN -0.935639   \n",
       "two         NaN  0.224060 -2.555067       NaN       NaN -0.986996       NaN   \n",
       "\n",
       "                                                         \n",
       "B                       B                   C            \n",
       "C           foo       bar       foo       bar       foo  \n",
       "A                                                        \n",
       "one    1.344029 -1.657711 -1.534024  0.577159 -1.719386  \n",
       "three       NaN       NaN -3.036266  0.983468       NaN  \n",
       "two    1.311266 -0.230450       NaN       NaN -0.080964  "
      ]
     },
     "execution_count": 108,
     "metadata": {},
     "output_type": "execute_result"
    }
   ],
   "source": [
    "pd.pivot_table(df, index=['A'],columns=['B', 'C'], values=['D', 'E'], aggfunc=np.sum)"
   ]
  },
  {
   "cell_type": "code",
   "execution_count": 110,
   "id": "bbc982db-5e6d-4956-8ff8-df184b2734f4",
   "metadata": {},
   "outputs": [
    {
     "data": {
      "text/html": [
       "<div>\n",
       "<style scoped>\n",
       "    .dataframe tbody tr th:only-of-type {\n",
       "        vertical-align: middle;\n",
       "    }\n",
       "\n",
       "    .dataframe tbody tr th {\n",
       "        vertical-align: top;\n",
       "    }\n",
       "\n",
       "    .dataframe thead tr th {\n",
       "        text-align: left;\n",
       "    }\n",
       "\n",
       "    .dataframe thead tr:last-of-type th {\n",
       "        text-align: right;\n",
       "    }\n",
       "</style>\n",
       "<table border=\"1\" class=\"dataframe\">\n",
       "  <thead>\n",
       "    <tr>\n",
       "      <th></th>\n",
       "      <th colspan=\"6\" halign=\"left\">D</th>\n",
       "      <th colspan=\"6\" halign=\"left\">E</th>\n",
       "    </tr>\n",
       "    <tr>\n",
       "      <th>B</th>\n",
       "      <th colspan=\"2\" halign=\"left\">A</th>\n",
       "      <th colspan=\"2\" halign=\"left\">B</th>\n",
       "      <th colspan=\"2\" halign=\"left\">C</th>\n",
       "      <th colspan=\"2\" halign=\"left\">A</th>\n",
       "      <th colspan=\"2\" halign=\"left\">B</th>\n",
       "      <th colspan=\"2\" halign=\"left\">C</th>\n",
       "    </tr>\n",
       "    <tr>\n",
       "      <th>C</th>\n",
       "      <th>bar</th>\n",
       "      <th>foo</th>\n",
       "      <th>bar</th>\n",
       "      <th>foo</th>\n",
       "      <th>bar</th>\n",
       "      <th>foo</th>\n",
       "      <th>bar</th>\n",
       "      <th>foo</th>\n",
       "      <th>bar</th>\n",
       "      <th>foo</th>\n",
       "      <th>bar</th>\n",
       "      <th>foo</th>\n",
       "    </tr>\n",
       "    <tr>\n",
       "      <th>A</th>\n",
       "      <th></th>\n",
       "      <th></th>\n",
       "      <th></th>\n",
       "      <th></th>\n",
       "      <th></th>\n",
       "      <th></th>\n",
       "      <th></th>\n",
       "      <th></th>\n",
       "      <th></th>\n",
       "      <th></th>\n",
       "      <th></th>\n",
       "      <th></th>\n",
       "    </tr>\n",
       "  </thead>\n",
       "  <tbody>\n",
       "    <tr>\n",
       "      <th>one</th>\n",
       "      <td>-0.463774</td>\n",
       "      <td>0.256101</td>\n",
       "      <td>-0.872767</td>\n",
       "      <td>-0.311730</td>\n",
       "      <td>0.205786</td>\n",
       "      <td>0.060311</td>\n",
       "      <td>0.935983</td>\n",
       "      <td>1.344029</td>\n",
       "      <td>-1.657711</td>\n",
       "      <td>-1.534024</td>\n",
       "      <td>0.577159</td>\n",
       "      <td>-1.719386</td>\n",
       "    </tr>\n",
       "    <tr>\n",
       "      <th>three</th>\n",
       "      <td>-1.266364</td>\n",
       "      <td>NaN</td>\n",
       "      <td>NaN</td>\n",
       "      <td>0.429624</td>\n",
       "      <td>0.080274</td>\n",
       "      <td>NaN</td>\n",
       "      <td>-0.935639</td>\n",
       "      <td>NaN</td>\n",
       "      <td>NaN</td>\n",
       "      <td>-3.036266</td>\n",
       "      <td>0.983468</td>\n",
       "      <td>NaN</td>\n",
       "    </tr>\n",
       "    <tr>\n",
       "      <th>two</th>\n",
       "      <td>NaN</td>\n",
       "      <td>0.224060</td>\n",
       "      <td>-2.555067</td>\n",
       "      <td>NaN</td>\n",
       "      <td>NaN</td>\n",
       "      <td>-0.986996</td>\n",
       "      <td>NaN</td>\n",
       "      <td>1.311266</td>\n",
       "      <td>-0.230450</td>\n",
       "      <td>NaN</td>\n",
       "      <td>NaN</td>\n",
       "      <td>-0.080964</td>\n",
       "    </tr>\n",
       "  </tbody>\n",
       "</table>\n",
       "</div>"
      ],
      "text/plain": [
       "              D                                                           E  \\\n",
       "B             A                   B                   C                   A   \n",
       "C           bar       foo       bar       foo       bar       foo       bar   \n",
       "A                                                                             \n",
       "one   -0.463774  0.256101 -0.872767 -0.311730  0.205786  0.060311  0.935983   \n",
       "three -1.266364       NaN       NaN  0.429624  0.080274       NaN -0.935639   \n",
       "two         NaN  0.224060 -2.555067       NaN       NaN -0.986996       NaN   \n",
       "\n",
       "                                                         \n",
       "B                       B                   C            \n",
       "C           foo       bar       foo       bar       foo  \n",
       "A                                                        \n",
       "one    1.344029 -1.657711 -1.534024  0.577159 -1.719386  \n",
       "three       NaN       NaN -3.036266  0.983468       NaN  \n",
       "two    1.311266 -0.230450       NaN       NaN -0.080964  "
      ]
     },
     "execution_count": 110,
     "metadata": {},
     "output_type": "execute_result"
    }
   ],
   "source": [
    "df.pivot_table(index=['A'],columns=['B', 'C'], values=['D', 'E'], aggfunc=np.sum)"
   ]
  },
  {
   "cell_type": "code",
   "execution_count": 126,
   "id": "6279cc22-7165-4025-8743-1f6ad94a78f1",
   "metadata": {},
   "outputs": [],
   "source": [
    "foo, bar, dull, shiny, one, two = 'foo', 'bar', 'dull', 'shiny', 'one', 'two'\n",
    "a = np.array([foo, foo, bar, bar, foo, foo], dtype=object)\n",
    "b = np.array([one, one, two, one, two, one], dtype=object)\n",
    "c = np.array([dull, dull, shiny, dull, dull, shiny], dtype=object)\n",
    "d = np.arange(6)\n",
    "e = np.arange(6, 12)"
   ]
  },
  {
   "cell_type": "code",
   "execution_count": 131,
   "id": "40de5727-580a-4bff-8dbc-c370a7ed234d",
   "metadata": {},
   "outputs": [
    {
     "data": {
      "text/plain": [
       "(6, 6)"
      ]
     },
     "execution_count": 131,
     "metadata": {},
     "output_type": "execute_result"
    }
   ],
   "source": [
    "len(a), len(d)"
   ]
  },
  {
   "cell_type": "code",
   "execution_count": 144,
   "id": "5d3c957b-db62-45d1-bcaf-9d9f3ea19440",
   "metadata": {},
   "outputs": [
    {
     "data": {
      "text/plain": [
       "[1, 1, 1, 1, 1, 1, 1, 1, 1, 1]"
      ]
     },
     "execution_count": 144,
     "metadata": {},
     "output_type": "execute_result"
    }
   ],
   "source": [
    "[1]* 10"
   ]
  },
  {
   "cell_type": "code",
   "execution_count": 136,
   "id": "f2d9d554-c8af-4140-b685-d9321f980053",
   "metadata": {},
   "outputs": [
    {
     "data": {
      "text/html": [
       "<div>\n",
       "<style scoped>\n",
       "    .dataframe tbody tr th:only-of-type {\n",
       "        vertical-align: middle;\n",
       "    }\n",
       "\n",
       "    .dataframe tbody tr th {\n",
       "        vertical-align: top;\n",
       "    }\n",
       "\n",
       "    .dataframe thead tr th {\n",
       "        text-align: left;\n",
       "    }\n",
       "\n",
       "    .dataframe thead tr:last-of-type th {\n",
       "        text-align: right;\n",
       "    }\n",
       "</style>\n",
       "<table border=\"1\" class=\"dataframe\">\n",
       "  <thead>\n",
       "    <tr>\n",
       "      <th>col_0</th>\n",
       "      <th colspan=\"2\" halign=\"left\">one</th>\n",
       "      <th colspan=\"2\" halign=\"left\">two</th>\n",
       "    </tr>\n",
       "    <tr>\n",
       "      <th>col_1</th>\n",
       "      <th>dull</th>\n",
       "      <th>shiny</th>\n",
       "      <th>dull</th>\n",
       "      <th>shiny</th>\n",
       "    </tr>\n",
       "    <tr>\n",
       "      <th>row_0</th>\n",
       "      <th></th>\n",
       "      <th></th>\n",
       "      <th></th>\n",
       "      <th></th>\n",
       "    </tr>\n",
       "  </thead>\n",
       "  <tbody>\n",
       "    <tr>\n",
       "      <th>bar</th>\n",
       "      <td>9.0</td>\n",
       "      <td>NaN</td>\n",
       "      <td>NaN</td>\n",
       "      <td>8.0</td>\n",
       "    </tr>\n",
       "    <tr>\n",
       "      <th>foo</th>\n",
       "      <td>13.0</td>\n",
       "      <td>11.0</td>\n",
       "      <td>10.0</td>\n",
       "      <td>NaN</td>\n",
       "    </tr>\n",
       "  </tbody>\n",
       "</table>\n",
       "</div>"
      ],
      "text/plain": [
       "col_0   one         two      \n",
       "col_1  dull shiny  dull shiny\n",
       "row_0                        \n",
       "bar     9.0   NaN   NaN   8.0\n",
       "foo    13.0  11.0  10.0   NaN"
      ]
     },
     "execution_count": 136,
     "metadata": {},
     "output_type": "execute_result"
    }
   ],
   "source": [
    "pd.crosstab(a, [b,c], values=e, aggfunc=np.sum)"
   ]
  },
  {
   "cell_type": "code",
   "execution_count": 116,
   "id": "6aa1e2c2-a0f8-4b88-bb99-3f16873df384",
   "metadata": {},
   "outputs": [
    {
     "data": {
      "text/html": [
       "<div>\n",
       "<style scoped>\n",
       "    .dataframe tbody tr th:only-of-type {\n",
       "        vertical-align: middle;\n",
       "    }\n",
       "\n",
       "    .dataframe tbody tr th {\n",
       "        vertical-align: top;\n",
       "    }\n",
       "\n",
       "    .dataframe thead th {\n",
       "        text-align: right;\n",
       "    }\n",
       "</style>\n",
       "<table border=\"1\" class=\"dataframe\">\n",
       "  <thead>\n",
       "    <tr style=\"text-align: right;\">\n",
       "      <th>B</th>\n",
       "      <th>3</th>\n",
       "      <th>4</th>\n",
       "    </tr>\n",
       "    <tr>\n",
       "      <th>A</th>\n",
       "      <th></th>\n",
       "      <th></th>\n",
       "    </tr>\n",
       "  </thead>\n",
       "  <tbody>\n",
       "    <tr>\n",
       "      <th>1</th>\n",
       "      <td>1</td>\n",
       "      <td>0</td>\n",
       "    </tr>\n",
       "    <tr>\n",
       "      <th>2</th>\n",
       "      <td>1</td>\n",
       "      <td>3</td>\n",
       "    </tr>\n",
       "  </tbody>\n",
       "</table>\n",
       "</div>"
      ],
      "text/plain": [
       "B  3  4\n",
       "A      \n",
       "1  1  0\n",
       "2  1  3"
      ]
     },
     "execution_count": 116,
     "metadata": {},
     "output_type": "execute_result"
    }
   ],
   "source": [
    "df = pd.DataFrame({'A': [1,2,2,2,2], 'B': [3,3,4,4,4], 'C': [1,1,np.nan,1,1]})\n",
    "pd.crosstab(df['A'], df['B'])"
   ]
  },
  {
   "cell_type": "code",
   "execution_count": 122,
   "id": "6588e85f-b48c-4569-b30d-7063601aa2e3",
   "metadata": {},
   "outputs": [
    {
     "data": {
      "text/html": [
       "<div>\n",
       "<style scoped>\n",
       "    .dataframe tbody tr th:only-of-type {\n",
       "        vertical-align: middle;\n",
       "    }\n",
       "\n",
       "    .dataframe tbody tr th {\n",
       "        vertical-align: top;\n",
       "    }\n",
       "\n",
       "    .dataframe thead th {\n",
       "        text-align: right;\n",
       "    }\n",
       "</style>\n",
       "<table border=\"1\" class=\"dataframe\">\n",
       "  <thead>\n",
       "    <tr style=\"text-align: right;\">\n",
       "      <th>B</th>\n",
       "      <th>2020-01-01</th>\n",
       "      <th>2020-01-02</th>\n",
       "      <th>2020-01-03</th>\n",
       "      <th>2020-01-04</th>\n",
       "      <th>2020-01-05</th>\n",
       "    </tr>\n",
       "    <tr>\n",
       "      <th>A</th>\n",
       "      <th></th>\n",
       "      <th></th>\n",
       "      <th></th>\n",
       "      <th></th>\n",
       "      <th></th>\n",
       "    </tr>\n",
       "  </thead>\n",
       "  <tbody>\n",
       "    <tr>\n",
       "      <th>a</th>\n",
       "      <td>1</td>\n",
       "      <td>0</td>\n",
       "      <td>0</td>\n",
       "      <td>0</td>\n",
       "      <td>0</td>\n",
       "    </tr>\n",
       "    <tr>\n",
       "      <th>b</th>\n",
       "      <td>0</td>\n",
       "      <td>1</td>\n",
       "      <td>0</td>\n",
       "      <td>0</td>\n",
       "      <td>0</td>\n",
       "    </tr>\n",
       "    <tr>\n",
       "      <th>c</th>\n",
       "      <td>0</td>\n",
       "      <td>0</td>\n",
       "      <td>1</td>\n",
       "      <td>0</td>\n",
       "      <td>0</td>\n",
       "    </tr>\n",
       "    <tr>\n",
       "      <th>d</th>\n",
       "      <td>0</td>\n",
       "      <td>0</td>\n",
       "      <td>0</td>\n",
       "      <td>1</td>\n",
       "      <td>0</td>\n",
       "    </tr>\n",
       "    <tr>\n",
       "      <th>e</th>\n",
       "      <td>0</td>\n",
       "      <td>0</td>\n",
       "      <td>0</td>\n",
       "      <td>0</td>\n",
       "      <td>1</td>\n",
       "    </tr>\n",
       "  </tbody>\n",
       "</table>\n",
       "</div>"
      ],
      "text/plain": [
       "B  2020-01-01  2020-01-02  2020-01-03  2020-01-04  2020-01-05\n",
       "A                                                            \n",
       "a           1           0           0           0           0\n",
       "b           0           1           0           0           0\n",
       "c           0           0           1           0           0\n",
       "d           0           0           0           1           0\n",
       "e           0           0           0           0           1"
      ]
     },
     "execution_count": 122,
     "metadata": {},
     "output_type": "execute_result"
    }
   ],
   "source": [
    "df = pd.DataFrame({'A': ['a', 'b', 'c', 'd', 'e'], 'B': pd.date_range('2020-01-01', periods=5)})\n",
    "pd.crosstab(df['A'], df['B'])"
   ]
  },
  {
   "cell_type": "code",
   "execution_count": 123,
   "id": "06a3cc99-261d-4cd6-ab90-c6637700341e",
   "metadata": {},
   "outputs": [],
   "source": [
    "df['C'] = np.arange(5)"
   ]
  },
  {
   "cell_type": "code",
   "execution_count": 145,
   "id": "378fd962-3da7-4691-9537-cb674bc125a4",
   "metadata": {},
   "outputs": [
    {
     "data": {
      "text/html": [
       "<div>\n",
       "<style scoped>\n",
       "    .dataframe tbody tr th:only-of-type {\n",
       "        vertical-align: middle;\n",
       "    }\n",
       "\n",
       "    .dataframe tbody tr th {\n",
       "        vertical-align: top;\n",
       "    }\n",
       "\n",
       "    .dataframe thead th {\n",
       "        text-align: right;\n",
       "    }\n",
       "</style>\n",
       "<table border=\"1\" class=\"dataframe\">\n",
       "  <thead>\n",
       "    <tr style=\"text-align: right;\">\n",
       "      <th>B</th>\n",
       "      <th>2020-01-01</th>\n",
       "      <th>2020-01-02</th>\n",
       "      <th>2020-01-03</th>\n",
       "      <th>2020-01-04</th>\n",
       "      <th>2020-01-05</th>\n",
       "    </tr>\n",
       "    <tr>\n",
       "      <th>A</th>\n",
       "      <th></th>\n",
       "      <th></th>\n",
       "      <th></th>\n",
       "      <th></th>\n",
       "      <th></th>\n",
       "    </tr>\n",
       "  </thead>\n",
       "  <tbody>\n",
       "    <tr>\n",
       "      <th>a</th>\n",
       "      <td>0.0</td>\n",
       "      <td>NaN</td>\n",
       "      <td>NaN</td>\n",
       "      <td>NaN</td>\n",
       "      <td>NaN</td>\n",
       "    </tr>\n",
       "    <tr>\n",
       "      <th>b</th>\n",
       "      <td>NaN</td>\n",
       "      <td>1.0</td>\n",
       "      <td>NaN</td>\n",
       "      <td>NaN</td>\n",
       "      <td>NaN</td>\n",
       "    </tr>\n",
       "    <tr>\n",
       "      <th>c</th>\n",
       "      <td>NaN</td>\n",
       "      <td>NaN</td>\n",
       "      <td>2.0</td>\n",
       "      <td>NaN</td>\n",
       "      <td>NaN</td>\n",
       "    </tr>\n",
       "    <tr>\n",
       "      <th>d</th>\n",
       "      <td>NaN</td>\n",
       "      <td>NaN</td>\n",
       "      <td>NaN</td>\n",
       "      <td>3.0</td>\n",
       "      <td>NaN</td>\n",
       "    </tr>\n",
       "    <tr>\n",
       "      <th>e</th>\n",
       "      <td>NaN</td>\n",
       "      <td>NaN</td>\n",
       "      <td>NaN</td>\n",
       "      <td>NaN</td>\n",
       "      <td>4.0</td>\n",
       "    </tr>\n",
       "  </tbody>\n",
       "</table>\n",
       "</div>"
      ],
      "text/plain": [
       "B  2020-01-01  2020-01-02  2020-01-03  2020-01-04  2020-01-05\n",
       "A                                                            \n",
       "a         0.0         NaN         NaN         NaN         NaN\n",
       "b         NaN         1.0         NaN         NaN         NaN\n",
       "c         NaN         NaN         2.0         NaN         NaN\n",
       "d         NaN         NaN         NaN         3.0         NaN\n",
       "e         NaN         NaN         NaN         NaN         4.0"
      ]
     },
     "execution_count": 145,
     "metadata": {},
     "output_type": "execute_result"
    }
   ],
   "source": [
    "pd.crosstab(df['A'], df['B'], values=df['C'], aggfunc=np.sum, dropna=False)"
   ]
  },
  {
   "cell_type": "code",
   "execution_count": 147,
   "id": "c931478a-5d3a-4c62-941f-74bd804d519d",
   "metadata": {},
   "outputs": [
    {
     "data": {
      "text/plain": [
       "[(9.95, 26.667], (9.95, 26.667], (9.95, 26.667], (9.95, 26.667], (9.95, 26.667], (9.95, 26.667], (26.667, 43.333], (43.333, 60.0], (43.333, 60.0]]\n",
       "Categories (3, interval[float64, right]): [(9.95, 26.667] < (26.667, 43.333] < (43.333, 60.0]]"
      ]
     },
     "execution_count": 147,
     "metadata": {},
     "output_type": "execute_result"
    }
   ],
   "source": [
    "ages = np.array([10, 15, 13, 12, 23, 25, 28, 59, 60])\n",
    "pd.cut(ages, bins=3)"
   ]
  },
  {
   "cell_type": "code",
   "execution_count": 150,
   "id": "8c8b1605-8e0d-4972-8cee-125f0f9bcc62",
   "metadata": {},
   "outputs": [],
   "source": [
    "c = pd.cut(ages, bins=[0, 18, 35, 70])"
   ]
  },
  {
   "cell_type": "code",
   "execution_count": 151,
   "id": "3dbd2b4a-a688-40d2-8952-1b93c9ec6e0a",
   "metadata": {},
   "outputs": [
    {
     "data": {
      "text/plain": [
       "[(18, 35], (18, 35], (35, 70]]\n",
       "Categories (3, interval[int64, right]): [(0, 18] < (18, 35] < (35, 70]]"
      ]
     },
     "execution_count": 151,
     "metadata": {},
     "output_type": "execute_result"
    }
   ],
   "source": [
    "pd.cut([25, 30, 50], bins=c.categories)"
   ]
  },
  {
   "cell_type": "code",
   "execution_count": 1,
   "id": "0bc0956f-42ba-41f4-bd6f-4da25d191fd9",
   "metadata": {},
   "outputs": [],
   "source": [
    "import numpy as np\n",
    "import pandas as pd"
   ]
  },
  {
   "cell_type": "code",
   "execution_count": 11,
   "id": "d38424f1-c022-4f2f-a2ca-2dad4799d5fc",
   "metadata": {},
   "outputs": [],
   "source": [
    "s = pd.Series(['a', 'b', 'ab', 'abc', 'bar1, bar2', np.nan, 'ta1, ta2'], dtype='string')\n",
    "v = pd.Series(['1', '2', 'das', 'col1', 'col2'], dtype='string')"
   ]
  },
  {
   "cell_type": "code",
   "execution_count": 13,
   "id": "a5507841-85a4-4475-8855-49d3e9393d80",
   "metadata": {},
   "outputs": [
    {
     "data": {
      "text/plain": [
       "0                a1\n",
       "1                b2\n",
       "2             abdas\n",
       "3           abccol1\n",
       "4    bar1, bar2col2\n",
       "dtype: string"
      ]
     },
     "execution_count": 13,
     "metadata": {},
     "output_type": "execute_result"
    }
   ],
   "source": [
    "s.str.cat(v, join='inner')"
   ]
  },
  {
   "cell_type": "code",
   "execution_count": 18,
   "id": "d8f14a83-d8f5-46e3-ba28-5783c97a7cc9",
   "metadata": {},
   "outputs": [
    {
     "data": {
      "text/plain": [
       "0              [a]\n",
       "1              [b]\n",
       "2             [ab]\n",
       "3            [abc]\n",
       "4    [bar1,  bar2]\n",
       "5             <NA>\n",
       "6      [ta1,  ta2]\n",
       "dtype: object"
      ]
     },
     "execution_count": 18,
     "metadata": {},
     "output_type": "execute_result"
    }
   ],
   "source": [
    "s.str.split(',')"
   ]
  },
  {
   "cell_type": "code",
   "execution_count": 72,
   "id": "9089ab5f-6b7d-4c86-a960-6daa1ab1cf4d",
   "metadata": {},
   "outputs": [
    {
     "data": {
      "text/plain": [
       "0                      a\n",
       "1                      b\n",
       "2                    a-b\n",
       "3                  a-b-c\n",
       "4    b-a-r-1-,- -b-a-r-2\n",
       "5                   <NA>\n",
       "6        t-a-1-,- -t-a-2\n",
       "dtype: string"
      ]
     },
     "execution_count": 72,
     "metadata": {},
     "output_type": "execute_result"
    }
   ],
   "source": [
    "s.str.join('-')"
   ]
  },
  {
   "cell_type": "code",
   "execution_count": 29,
   "id": "3b4cb8e2-f128-40b3-9f88-16cbe7178f02",
   "metadata": {},
   "outputs": [
    {
     "data": {
      "text/html": [
       "<div>\n",
       "<style scoped>\n",
       "    .dataframe tbody tr th:only-of-type {\n",
       "        vertical-align: middle;\n",
       "    }\n",
       "\n",
       "    .dataframe tbody tr th {\n",
       "        vertical-align: top;\n",
       "    }\n",
       "\n",
       "    .dataframe thead th {\n",
       "        text-align: right;\n",
       "    }\n",
       "</style>\n",
       "<table border=\"1\" class=\"dataframe\">\n",
       "  <thead>\n",
       "    <tr style=\"text-align: right;\">\n",
       "      <th></th>\n",
       "      <th>bar2</th>\n",
       "      <th>ta2</th>\n",
       "      <th>a</th>\n",
       "      <th>ab</th>\n",
       "      <th>abc</th>\n",
       "      <th>b</th>\n",
       "      <th>bar1</th>\n",
       "      <th>ta1</th>\n",
       "    </tr>\n",
       "  </thead>\n",
       "  <tbody>\n",
       "    <tr>\n",
       "      <th>0</th>\n",
       "      <td>0</td>\n",
       "      <td>0</td>\n",
       "      <td>1</td>\n",
       "      <td>0</td>\n",
       "      <td>0</td>\n",
       "      <td>0</td>\n",
       "      <td>0</td>\n",
       "      <td>0</td>\n",
       "    </tr>\n",
       "    <tr>\n",
       "      <th>1</th>\n",
       "      <td>0</td>\n",
       "      <td>0</td>\n",
       "      <td>0</td>\n",
       "      <td>0</td>\n",
       "      <td>0</td>\n",
       "      <td>1</td>\n",
       "      <td>0</td>\n",
       "      <td>0</td>\n",
       "    </tr>\n",
       "    <tr>\n",
       "      <th>2</th>\n",
       "      <td>0</td>\n",
       "      <td>0</td>\n",
       "      <td>0</td>\n",
       "      <td>1</td>\n",
       "      <td>0</td>\n",
       "      <td>0</td>\n",
       "      <td>0</td>\n",
       "      <td>0</td>\n",
       "    </tr>\n",
       "    <tr>\n",
       "      <th>3</th>\n",
       "      <td>0</td>\n",
       "      <td>0</td>\n",
       "      <td>0</td>\n",
       "      <td>0</td>\n",
       "      <td>1</td>\n",
       "      <td>0</td>\n",
       "      <td>0</td>\n",
       "      <td>0</td>\n",
       "    </tr>\n",
       "    <tr>\n",
       "      <th>4</th>\n",
       "      <td>1</td>\n",
       "      <td>0</td>\n",
       "      <td>0</td>\n",
       "      <td>0</td>\n",
       "      <td>0</td>\n",
       "      <td>0</td>\n",
       "      <td>1</td>\n",
       "      <td>0</td>\n",
       "    </tr>\n",
       "    <tr>\n",
       "      <th>5</th>\n",
       "      <td>0</td>\n",
       "      <td>0</td>\n",
       "      <td>0</td>\n",
       "      <td>0</td>\n",
       "      <td>0</td>\n",
       "      <td>0</td>\n",
       "      <td>0</td>\n",
       "      <td>0</td>\n",
       "    </tr>\n",
       "    <tr>\n",
       "      <th>6</th>\n",
       "      <td>0</td>\n",
       "      <td>1</td>\n",
       "      <td>0</td>\n",
       "      <td>0</td>\n",
       "      <td>0</td>\n",
       "      <td>0</td>\n",
       "      <td>0</td>\n",
       "      <td>1</td>\n",
       "    </tr>\n",
       "  </tbody>\n",
       "</table>\n",
       "</div>"
      ],
      "text/plain": [
       "    bar2   ta2  a  ab  abc  b  bar1  ta1\n",
       "0      0     0  1   0    0  0     0    0\n",
       "1      0     0  0   0    0  1     0    0\n",
       "2      0     0  0   1    0  0     0    0\n",
       "3      0     0  0   0    1  0     0    0\n",
       "4      1     0  0   0    0  0     1    0\n",
       "5      0     0  0   0    0  0     0    0\n",
       "6      0     1  0   0    0  0     0    1"
      ]
     },
     "execution_count": 29,
     "metadata": {},
     "output_type": "execute_result"
    }
   ],
   "source": [
    "s.str.get_dummies(',')"
   ]
  },
  {
   "cell_type": "code",
   "execution_count": 37,
   "id": "db758d7c-3ee8-45a2-a6a3-c0dcfbaa1e74",
   "metadata": {},
   "outputs": [
    {
     "data": {
      "text/plain": [
       "[0, 1, 2, 3, 4, 5]"
      ]
     },
     "execution_count": 37,
     "metadata": {},
     "output_type": "execute_result"
    }
   ],
   "source": [
    "list(range(6))"
   ]
  },
  {
   "cell_type": "code",
   "execution_count": 44,
   "id": "cac78add-b5d5-4e4e-abd7-713236fb172d",
   "metadata": {},
   "outputs": [
    {
     "data": {
      "text/plain": [
       "0             a\n",
       "1             b\n",
       "2            ab\n",
       "3           abc\n",
       "4    bar1, bar2\n",
       "5          <NA>\n",
       "6      ta1, ta2\n",
       "dtype: string"
      ]
     },
     "execution_count": 44,
     "metadata": {},
     "output_type": "execute_result"
    }
   ],
   "source": [
    "s"
   ]
  },
  {
   "cell_type": "code",
   "execution_count": 65,
   "id": "375ffee7-e227-4572-a09b-02c981bd5400",
   "metadata": {},
   "outputs": [
    {
     "data": {
      "text/html": [
       "<div>\n",
       "<style scoped>\n",
       "    .dataframe tbody tr th:only-of-type {\n",
       "        vertical-align: middle;\n",
       "    }\n",
       "\n",
       "    .dataframe tbody tr th {\n",
       "        vertical-align: top;\n",
       "    }\n",
       "\n",
       "    .dataframe thead th {\n",
       "        text-align: right;\n",
       "    }\n",
       "</style>\n",
       "<table border=\"1\" class=\"dataframe\">\n",
       "  <thead>\n",
       "    <tr style=\"text-align: right;\">\n",
       "      <th></th>\n",
       "      <th>0</th>\n",
       "      <th>1</th>\n",
       "      <th>2</th>\n",
       "      <th>3</th>\n",
       "      <th>4</th>\n",
       "      <th>5</th>\n",
       "      <th>6</th>\n",
       "      <th>7</th>\n",
       "      <th>8</th>\n",
       "      <th>9</th>\n",
       "    </tr>\n",
       "  </thead>\n",
       "  <tbody>\n",
       "    <tr>\n",
       "      <th>0</th>\n",
       "      <td>a</td>\n",
       "      <td>-</td>\n",
       "      <td>-</td>\n",
       "      <td>-</td>\n",
       "      <td>-</td>\n",
       "      <td>-</td>\n",
       "      <td>-</td>\n",
       "      <td>-</td>\n",
       "      <td>-</td>\n",
       "      <td>-</td>\n",
       "    </tr>\n",
       "    <tr>\n",
       "      <th>1</th>\n",
       "      <td>b</td>\n",
       "      <td>-</td>\n",
       "      <td>-</td>\n",
       "      <td>-</td>\n",
       "      <td>-</td>\n",
       "      <td>-</td>\n",
       "      <td>-</td>\n",
       "      <td>-</td>\n",
       "      <td>-</td>\n",
       "      <td>-</td>\n",
       "    </tr>\n",
       "    <tr>\n",
       "      <th>2</th>\n",
       "      <td>a</td>\n",
       "      <td>b</td>\n",
       "      <td>-</td>\n",
       "      <td>-</td>\n",
       "      <td>-</td>\n",
       "      <td>-</td>\n",
       "      <td>-</td>\n",
       "      <td>-</td>\n",
       "      <td>-</td>\n",
       "      <td>-</td>\n",
       "    </tr>\n",
       "    <tr>\n",
       "      <th>3</th>\n",
       "      <td>a</td>\n",
       "      <td>b</td>\n",
       "      <td>c</td>\n",
       "      <td>-</td>\n",
       "      <td>-</td>\n",
       "      <td>-</td>\n",
       "      <td>-</td>\n",
       "      <td>-</td>\n",
       "      <td>-</td>\n",
       "      <td>-</td>\n",
       "    </tr>\n",
       "    <tr>\n",
       "      <th>4</th>\n",
       "      <td>b</td>\n",
       "      <td>a</td>\n",
       "      <td>r</td>\n",
       "      <td>1</td>\n",
       "      <td>,</td>\n",
       "      <td></td>\n",
       "      <td>b</td>\n",
       "      <td>a</td>\n",
       "      <td>r</td>\n",
       "      <td>2</td>\n",
       "    </tr>\n",
       "    <tr>\n",
       "      <th>5</th>\n",
       "      <td>-</td>\n",
       "      <td>-</td>\n",
       "      <td>-</td>\n",
       "      <td>-</td>\n",
       "      <td>-</td>\n",
       "      <td>-</td>\n",
       "      <td>-</td>\n",
       "      <td>-</td>\n",
       "      <td>-</td>\n",
       "      <td>-</td>\n",
       "    </tr>\n",
       "    <tr>\n",
       "      <th>6</th>\n",
       "      <td>t</td>\n",
       "      <td>a</td>\n",
       "      <td>1</td>\n",
       "      <td>,</td>\n",
       "      <td></td>\n",
       "      <td>t</td>\n",
       "      <td>a</td>\n",
       "      <td>2</td>\n",
       "      <td>-</td>\n",
       "      <td>-</td>\n",
       "    </tr>\n",
       "  </tbody>\n",
       "</table>\n",
       "</div>"
      ],
      "text/plain": [
       "   0  1  2  3  4  5  6  7  8  9\n",
       "0  a  -  -  -  -  -  -  -  -  -\n",
       "1  b  -  -  -  -  -  -  -  -  -\n",
       "2  a  b  -  -  -  -  -  -  -  -\n",
       "3  a  b  c  -  -  -  -  -  -  -\n",
       "4  b  a  r  1  ,     b  a  r  2\n",
       "5  -  -  -  -  -  -  -  -  -  -\n",
       "6  t  a  1  ,     t  a  2  -  -"
      ]
     },
     "execution_count": 65,
     "metadata": {},
     "output_type": "execute_result"
    }
   ],
   "source": [
    "pd.DataFrame({i:s.str.get(i) for i in list(range(10))}).fillna('-')"
   ]
  },
  {
   "cell_type": "code",
   "execution_count": 73,
   "id": "c9b5ea93-e9b8-42ee-8cb6-b56086ef8192",
   "metadata": {},
   "outputs": [
    {
     "data": {
      "text/plain": [
       "0                col1\n",
       "1                   b\n",
       "2               col1b\n",
       "3              col1bc\n",
       "4    bcol1r1, bcol1r2\n",
       "5                <NA>\n",
       "6      tcol11, tcol12\n",
       "dtype: string"
      ]
     },
     "execution_count": 73,
     "metadata": {},
     "output_type": "execute_result"
    }
   ],
   "source": [
    "s.str.replace('a', 'col1')"
   ]
  },
  {
   "cell_type": "code",
   "execution_count": 75,
   "id": "a9df2173-89a9-4c80-b30e-9b5f3c9e8ed4",
   "metadata": {},
   "outputs": [
    {
     "data": {
      "text/plain": [
       "0                      aa\n",
       "1                      bb\n",
       "2                    abab\n",
       "3                  abcabc\n",
       "4    bar1, bar2bar1, bar2\n",
       "5                    <NA>\n",
       "6        ta1, ta2ta1, ta2\n",
       "dtype: string"
      ]
     },
     "execution_count": 75,
     "metadata": {},
     "output_type": "execute_result"
    }
   ],
   "source": [
    "s.str.repeat(2)"
   ]
  },
  {
   "cell_type": "code",
   "execution_count": 76,
   "id": "6b90dedd-3fb6-4fed-b9bd-a0e7973b98a8",
   "metadata": {},
   "outputs": [
    {
     "data": {
      "text/plain": [
       "0             a\n",
       "1             b\n",
       "2            ab\n",
       "3           abc\n",
       "4    bar1, bar2\n",
       "5          <NA>\n",
       "6      ta1, ta2\n",
       "dtype: string"
      ]
     },
     "execution_count": 76,
     "metadata": {},
     "output_type": "execute_result"
    }
   ],
   "source": [
    "s"
   ]
  },
  {
   "cell_type": "code",
   "execution_count": 82,
   "id": "26430cfa-9678-46ac-96cd-246247b98ec7",
   "metadata": {},
   "outputs": [
    {
     "data": {
      "text/plain": [
       "0             a\n",
       "1             b\n",
       "2            ab\n",
       "3           abc\n",
       "4    bar1, bar2\n",
       "5          <NA>\n",
       "6      ta1, ta2\n",
       "dtype: string"
      ]
     },
     "execution_count": 82,
     "metadata": {},
     "output_type": "execute_result"
    }
   ],
   "source": [
    "s.str.pad(width=1, side='right', fillchar='0')"
   ]
  },
  {
   "cell_type": "code",
   "execution_count": 93,
   "id": "1366ae3b-8afc-441b-b47a-647bf1d09a2a",
   "metadata": {},
   "outputs": [],
   "source": [
    "s1 = pd.Series(['a', 'b', 'c'], dtype='string')"
   ]
  },
  {
   "cell_type": "code",
   "execution_count": 104,
   "id": "53e1ffe7-76ae-46b8-9045-186cac513ad6",
   "metadata": {},
   "outputs": [
    {
     "data": {
      "text/plain": [
       "5"
      ]
     },
     "execution_count": 104,
     "metadata": {},
     "output_type": "execute_result"
    }
   ],
   "source": [
    "len(s1.str.center(width=5).loc[0])"
   ]
  },
  {
   "cell_type": "code",
   "execution_count": 106,
   "id": "da45b73e-8cc0-46c0-94cd-59137fdc465b",
   "metadata": {},
   "outputs": [
    {
     "data": {
      "text/plain": [
       "0    a--\n",
       "1    b--\n",
       "2    c--\n",
       "dtype: string"
      ]
     },
     "execution_count": 106,
     "metadata": {},
     "output_type": "execute_result"
    }
   ],
   "source": [
    "s1.str.ljust(width=3, fillchar='-')"
   ]
  },
  {
   "cell_type": "code",
   "execution_count": 109,
   "id": "174d0614-9d81-4208-8118-3d795a098a10",
   "metadata": {},
   "outputs": [
    {
     "data": {
      "text/plain": [
       "0    00a\n",
       "1    00b\n",
       "2    00c\n",
       "dtype: string"
      ]
     },
     "execution_count": 109,
     "metadata": {},
     "output_type": "execute_result"
    }
   ],
   "source": [
    "s1.str.zfill(width=3)"
   ]
  },
  {
   "cell_type": "code",
   "execution_count": 120,
   "id": "b6c382e9-c381-4772-b1d6-295a9042b97b",
   "metadata": {},
   "outputs": [
    {
     "data": {
      "text/plain": [
       "26"
      ]
     },
     "execution_count": 120,
     "metadata": {},
     "output_type": "execute_result"
    }
   ],
   "source": [
    "s = pd.Series(['line to be wrapped', 'another line to be wrapped'])\n",
    "# s[1][:12]\n",
    "len(s[1])"
   ]
  },
  {
   "cell_type": "code",
   "execution_count": 118,
   "id": "61623083-118b-4fd1-a8a6-c38c5b36c30e",
   "metadata": {},
   "outputs": [
    {
     "data": {
      "text/plain": [
       "0             line to be\\nwrapped\n",
       "1    another line\\nto be\\nwrapped\n",
       "dtype: object"
      ]
     },
     "execution_count": 118,
     "metadata": {},
     "output_type": "execute_result"
    }
   ],
   "source": [
    "s.str.wrap(12, expand_tabs=False)"
   ]
  },
  {
   "cell_type": "code",
   "execution_count": 119,
   "id": "c68fcb59-944f-4771-a33b-0640bbc6d940",
   "metadata": {},
   "outputs": [
    {
     "data": {
      "text/plain": [
       "0             line to be\\nwrapped\n",
       "1    another line\\nto be\\nwrapped\n",
       "dtype: object"
      ]
     },
     "execution_count": 119,
     "metadata": {},
     "output_type": "execute_result"
    }
   ],
   "source": [
    "s.str.wrap(12)"
   ]
  },
  {
   "cell_type": "code",
   "execution_count": 123,
   "id": "92637f77-bf28-4583-97dc-3af5990525ce",
   "metadata": {},
   "outputs": [
    {
     "data": {
      "text/plain": [
       "0    n o\n",
       "1    ohr\n",
       "dtype: object"
      ]
     },
     "execution_count": 123,
     "metadata": {},
     "output_type": "execute_result"
    }
   ],
   "source": [
    "s.str.slice(2, 8, 2)"
   ]
  },
  {
   "cell_type": "code",
   "execution_count": 124,
   "id": "a06845f4-cb34-49a6-a793-e28b9a873f7b",
   "metadata": {},
   "outputs": [
    {
     "data": {
      "text/plain": [
       "0            licol1 to be wrapped\n",
       "1    ancol1her line to be wrapped\n",
       "dtype: object"
      ]
     },
     "execution_count": 124,
     "metadata": {},
     "output_type": "execute_result"
    }
   ],
   "source": [
    "s.str.slice_replace(2,4, 'col1')"
   ]
  },
  {
   "cell_type": "code",
   "execution_count": 125,
   "id": "1f43cfc5-9bea-4c6f-84d8-88be9c3478bd",
   "metadata": {},
   "outputs": [
    {
     "data": {
      "text/plain": [
       "0    1\n",
       "1    1\n",
       "dtype: int64"
      ]
     },
     "execution_count": 125,
     "metadata": {},
     "output_type": "execute_result"
    }
   ],
   "source": [
    "s.str.count('ine')"
   ]
  },
  {
   "cell_type": "code",
   "execution_count": 126,
   "id": "be0e4afb-4d9d-48d7-9805-1d35f6c8c158",
   "metadata": {},
   "outputs": [
    {
     "data": {
      "text/plain": [
       "0    False\n",
       "1     True\n",
       "dtype: bool"
      ]
     },
     "execution_count": 126,
     "metadata": {},
     "output_type": "execute_result"
    }
   ],
   "source": [
    "s.str.startswith('ano')"
   ]
  },
  {
   "cell_type": "code",
   "execution_count": 127,
   "id": "a66c6ef3-e7fe-4728-bb71-b095b5f10b61",
   "metadata": {},
   "outputs": [
    {
     "data": {
      "text/plain": [
       "0    True\n",
       "1    True\n",
       "dtype: bool"
      ]
     },
     "execution_count": 127,
     "metadata": {},
     "output_type": "execute_result"
    }
   ],
   "source": [
    "s.str.endswith('ped')"
   ]
  },
  {
   "cell_type": "code",
   "execution_count": 128,
   "id": "14867595-ec25-4cb4-bf47-3f60216ce358",
   "metadata": {},
   "outputs": [
    {
     "data": {
      "text/plain": [
       "0       [o]\n",
       "1    [o, o]\n",
       "dtype: object"
      ]
     },
     "execution_count": 128,
     "metadata": {},
     "output_type": "execute_result"
    }
   ],
   "source": [
    "s.str.findall('o')"
   ]
  },
  {
   "cell_type": "code",
   "execution_count": 134,
   "id": "cf505307-6aa3-41d3-9c85-af2a843d6da6",
   "metadata": {},
   "outputs": [
    {
     "data": {
      "text/plain": [
       "0     True\n",
       "1    False\n",
       "dtype: bool"
      ]
     },
     "execution_count": 134,
     "metadata": {},
     "output_type": "execute_result"
    }
   ],
   "source": [
    "s.str.match('Line', case=False)"
   ]
  },
  {
   "cell_type": "code",
   "execution_count": 150,
   "id": "2c5c73a8-a277-4ef7-b283-014a564a7033",
   "metadata": {},
   "outputs": [],
   "source": [
    "s = pd.Series(['a1', 'b2', 'c3', 'ca'])"
   ]
  },
  {
   "cell_type": "code",
   "execution_count": 155,
   "id": "6988c2bb-4b11-46d6-a0ca-615168c4332b",
   "metadata": {},
   "outputs": [
    {
     "data": {
      "text/html": [
       "<div>\n",
       "<style scoped>\n",
       "    .dataframe tbody tr th:only-of-type {\n",
       "        vertical-align: middle;\n",
       "    }\n",
       "\n",
       "    .dataframe tbody tr th {\n",
       "        vertical-align: top;\n",
       "    }\n",
       "\n",
       "    .dataframe thead th {\n",
       "        text-align: right;\n",
       "    }\n",
       "</style>\n",
       "<table border=\"1\" class=\"dataframe\">\n",
       "  <thead>\n",
       "    <tr style=\"text-align: right;\">\n",
       "      <th></th>\n",
       "      <th>0</th>\n",
       "    </tr>\n",
       "  </thead>\n",
       "  <tbody>\n",
       "    <tr>\n",
       "      <th>0</th>\n",
       "      <td>1</td>\n",
       "    </tr>\n",
       "    <tr>\n",
       "      <th>1</th>\n",
       "      <td>2</td>\n",
       "    </tr>\n",
       "    <tr>\n",
       "      <th>2</th>\n",
       "      <td>NaN</td>\n",
       "    </tr>\n",
       "    <tr>\n",
       "      <th>3</th>\n",
       "      <td>NaN</td>\n",
       "    </tr>\n",
       "  </tbody>\n",
       "</table>\n",
       "</div>"
      ],
      "text/plain": [
       "     0\n",
       "0    1\n",
       "1    2\n",
       "2  NaN\n",
       "3  NaN"
      ]
     },
     "execution_count": 155,
     "metadata": {},
     "output_type": "execute_result"
    }
   ],
   "source": [
    "# s.str.extract(r'([ab])([\\d])')\n",
    "# s.str.extract(r'([ab])?([\\d])')\n",
    "# s.str.extract(r'(?P<letter>[ab])?(?P<digit>[\\d])')\n",
    "s.str.extract(r'[ab]([\\d])')"
   ]
  },
  {
   "cell_type": "code",
   "execution_count": 159,
   "id": "525268be-180b-4698-a811-9cec35f2aa99",
   "metadata": {},
   "outputs": [
    {
     "data": {
      "text/html": [
       "<div>\n",
       "<style scoped>\n",
       "    .dataframe tbody tr th:only-of-type {\n",
       "        vertical-align: middle;\n",
       "    }\n",
       "\n",
       "    .dataframe tbody tr th {\n",
       "        vertical-align: top;\n",
       "    }\n",
       "\n",
       "    .dataframe thead th {\n",
       "        text-align: right;\n",
       "    }\n",
       "</style>\n",
       "<table border=\"1\" class=\"dataframe\">\n",
       "  <thead>\n",
       "    <tr style=\"text-align: right;\">\n",
       "      <th></th>\n",
       "      <th></th>\n",
       "      <th>letter</th>\n",
       "    </tr>\n",
       "    <tr>\n",
       "      <th></th>\n",
       "      <th>match</th>\n",
       "      <th></th>\n",
       "    </tr>\n",
       "  </thead>\n",
       "  <tbody>\n",
       "    <tr>\n",
       "      <th>0</th>\n",
       "      <th>0</th>\n",
       "      <td>a</td>\n",
       "    </tr>\n",
       "    <tr>\n",
       "      <th>1</th>\n",
       "      <th>0</th>\n",
       "      <td>b</td>\n",
       "    </tr>\n",
       "    <tr>\n",
       "      <th>3</th>\n",
       "      <th>0</th>\n",
       "      <td>a</td>\n",
       "    </tr>\n",
       "  </tbody>\n",
       "</table>\n",
       "</div>"
      ],
      "text/plain": [
       "        letter\n",
       "  match       \n",
       "0 0          a\n",
       "1 0          b\n",
       "3 0          a"
      ]
     },
     "execution_count": 159,
     "metadata": {},
     "output_type": "execute_result"
    }
   ],
   "source": [
    "# s.str.extractall(r'(?P<letter>[ab])(?P<digit>[\\d])')\n",
    "s.str.extractall(r'(?P<letter>[ab])')"
   ]
  },
  {
   "cell_type": "code",
   "execution_count": 161,
   "id": "d438ab15-6d10-49bb-908a-d47954d27ea8",
   "metadata": {},
   "outputs": [
    {
     "data": {
      "text/html": [
       "<div>\n",
       "<style scoped>\n",
       "    .dataframe tbody tr th:only-of-type {\n",
       "        vertical-align: middle;\n",
       "    }\n",
       "\n",
       "    .dataframe tbody tr th {\n",
       "        vertical-align: top;\n",
       "    }\n",
       "\n",
       "    .dataframe thead th {\n",
       "        text-align: right;\n",
       "    }\n",
       "</style>\n",
       "<table border=\"1\" class=\"dataframe\">\n",
       "  <thead>\n",
       "    <tr style=\"text-align: right;\">\n",
       "      <th></th>\n",
       "      <th></th>\n",
       "      <th>0</th>\n",
       "    </tr>\n",
       "    <tr>\n",
       "      <th></th>\n",
       "      <th>match</th>\n",
       "      <th></th>\n",
       "    </tr>\n",
       "  </thead>\n",
       "  <tbody>\n",
       "    <tr>\n",
       "      <th>0</th>\n",
       "      <th>0</th>\n",
       "      <td>a1</td>\n",
       "    </tr>\n",
       "    <tr>\n",
       "      <th>1</th>\n",
       "      <th>0</th>\n",
       "      <td>b2</td>\n",
       "    </tr>\n",
       "    <tr>\n",
       "      <th>2</th>\n",
       "      <th>0</th>\n",
       "      <td>c3</td>\n",
       "    </tr>\n",
       "  </tbody>\n",
       "</table>\n",
       "</div>"
      ],
      "text/plain": [
       "          0\n",
       "  match    \n",
       "0 0      a1\n",
       "1 0      b2\n",
       "2 0      c3"
      ]
     },
     "execution_count": 161,
     "metadata": {},
     "output_type": "execute_result"
    }
   ],
   "source": [
    "s.str.extractall(r'([abc][\\d])')"
   ]
  },
  {
   "cell_type": "code",
   "execution_count": 162,
   "id": "fc6efdb0-b124-40b1-a827-d06b98b95473",
   "metadata": {},
   "outputs": [
    {
     "data": {
      "text/plain": [
       "0    2\n",
       "1    2\n",
       "2    2\n",
       "3    2\n",
       "dtype: int64"
      ]
     },
     "execution_count": 162,
     "metadata": {},
     "output_type": "execute_result"
    }
   ],
   "source": [
    "s.str.len()"
   ]
  },
  {
   "cell_type": "code",
   "execution_count": 163,
   "id": "3e0e488c-6e87-444f-8b6c-e7ae15bfc098",
   "metadata": {},
   "outputs": [],
   "source": [
    "s = pd.Series(['1. Ant.  ', '2. Bee!\\n', '3. Cat?\\t', np.nan])"
   ]
  },
  {
   "cell_type": "code",
   "execution_count": 165,
   "id": "e2419ea2-5825-43ca-9580-b032bc9369a1",
   "metadata": {},
   "outputs": [
    {
     "data": {
      "text/plain": [
       "0    1. Ant.\n",
       "1    2. Bee!\n",
       "2    3. Cat?\n",
       "3        NaN\n",
       "dtype: object"
      ]
     },
     "execution_count": 165,
     "metadata": {},
     "output_type": "execute_result"
    }
   ],
   "source": [
    "s.str.strip()"
   ]
  },
  {
   "cell_type": "code",
   "execution_count": 178,
   "id": "10e36232-0318-4564-bd9e-67903bbb70dc",
   "metadata": {},
   "outputs": [
    {
     "data": {
      "text/plain": [
       "0    Ant\n",
       "1    Bee\n",
       "2    Cat\n",
       "3    NaN\n",
       "dtype: object"
      ]
     },
     "execution_count": 178,
     "metadata": {},
     "output_type": "execute_result"
    }
   ],
   "source": [
    "s.str.strip('123.?! \\n\\t')"
   ]
  },
  {
   "cell_type": "code",
   "execution_count": 180,
   "id": "83352b5c-d1f5-4e3a-8af5-56ecaff7b969",
   "metadata": {},
   "outputs": [
    {
     "data": {
      "text/plain": [
       "0    1. Ant.\n",
       "1    2. Bee!\n",
       "2    3. Cat?\n",
       "3        NaN\n",
       "dtype: object"
      ]
     },
     "execution_count": 180,
     "metadata": {},
     "output_type": "execute_result"
    }
   ],
   "source": [
    "s.str.rstrip()"
   ]
  },
  {
   "cell_type": "code",
   "execution_count": 182,
   "id": "8874c9f7-1a5e-4188-874d-e4ab51f063b3",
   "metadata": {},
   "outputs": [
    {
     "data": {
      "text/plain": [
       "0    1. Ant\n",
       "1    2. Bee\n",
       "2    3. Cat\n",
       "3       NaN\n",
       "dtype: object"
      ]
     },
     "execution_count": 182,
     "metadata": {},
     "output_type": "execute_result"
    }
   ],
   "source": [
    "s.str.rstrip('123.!? \\n\\t')"
   ]
  },
  {
   "cell_type": "code",
   "execution_count": 183,
   "id": "89db0d92-5a13-4b05-8fe7-975a8a1fb5ea",
   "metadata": {},
   "outputs": [],
   "source": [
    "s = pd.Series(['lower', 'CAPITALS', 'this is a sentence', 'SwApCaSe'])"
   ]
  },
  {
   "cell_type": "code",
   "execution_count": 184,
   "id": "fb09aa3c-8e71-4a14-9de6-a79b62422efd",
   "metadata": {},
   "outputs": [
    {
     "data": {
      "text/plain": [
       "0                 lower\n",
       "1              capitals\n",
       "2    this is a sentence\n",
       "3              swapcase\n",
       "dtype: object"
      ]
     },
     "execution_count": 184,
     "metadata": {},
     "output_type": "execute_result"
    }
   ],
   "source": [
    "s.str.casefold()"
   ]
  },
  {
   "cell_type": "code",
   "execution_count": 188,
   "id": "01acca4f-13c9-4124-a9a3-b92c2d3a6dad",
   "metadata": {},
   "outputs": [
    {
     "data": {
      "text/plain": [
       "0     3\n",
       "1    -1\n",
       "2    11\n",
       "3     7\n",
       "dtype: int64"
      ]
     },
     "execution_count": 188,
     "metadata": {},
     "output_type": "execute_result"
    }
   ],
   "source": [
    "s.str.find('e')"
   ]
  },
  {
   "cell_type": "code",
   "execution_count": 187,
   "id": "f129eb5a-15ff-450c-b339-418a1e50ceff",
   "metadata": {},
   "outputs": [
    {
     "data": {
      "text/plain": [
       "0     3\n",
       "1    -1\n",
       "2    17\n",
       "3     7\n",
       "dtype: int64"
      ]
     },
     "execution_count": 187,
     "metadata": {},
     "output_type": "execute_result"
    }
   ],
   "source": [
    "s.str.rfind('e')"
   ]
  },
  {
   "cell_type": "code",
   "execution_count": 193,
   "id": "791c86b3-cab9-49a1-bdfd-a4a0c535d40f",
   "metadata": {},
   "outputs": [
    {
     "data": {
      "text/plain": [
       "0                 lower\n",
       "1              CAPITALS\n",
       "2    this is a sentence\n",
       "3              SwApCaSe\n",
       "dtype: object"
      ]
     },
     "execution_count": 193,
     "metadata": {},
     "output_type": "execute_result"
    }
   ],
   "source": [
    "s"
   ]
  },
  {
   "cell_type": "code",
   "execution_count": 204,
   "id": "3a097b6f-0fa1-4b42-9d8c-7689deb5e1c9",
   "metadata": {},
   "outputs": [
    {
     "data": {
      "text/plain": [
       "0                 lower\n",
       "1              CAPITALS\n",
       "2    this is a sentence\n",
       "3              SwApCaSe\n",
       "dtype: object"
      ]
     },
     "execution_count": 204,
     "metadata": {},
     "output_type": "execute_result"
    }
   ],
   "source": [
    "s.str.normalize('NFKC')"
   ]
  },
  {
   "cell_type": "code",
   "execution_count": 205,
   "id": "eb3ab6b4-5dc7-43f9-ae61-0608adabd7bd",
   "metadata": {},
   "outputs": [
    {
     "data": {
      "text/plain": [
       "0                 lower\n",
       "1              CAPITALS\n",
       "2    this is a sentence\n",
       "3              SwApCaSe\n",
       "dtype: object"
      ]
     },
     "execution_count": 205,
     "metadata": {},
     "output_type": "execute_result"
    }
   ],
   "source": [
    "s.str.normalize('NFD')"
   ]
  },
  {
   "cell_type": "code",
   "execution_count": 207,
   "id": "dbaa9f84-e4d1-4cb0-8da3-1617c081d413",
   "metadata": {},
   "outputs": [
    {
     "data": {
      "text/plain": [
       "0                 lower\n",
       "1              CAPITALS\n",
       "2    this is a sentence\n",
       "3              SwApCaSe\n",
       "dtype: object"
      ]
     },
     "execution_count": 207,
     "metadata": {},
     "output_type": "execute_result"
    }
   ],
   "source": [
    "s.str.normalize('NFKD')"
   ]
  },
  {
   "cell_type": "code",
   "execution_count": 208,
   "id": "7bb46995-c29d-4d78-aa37-e27baf282166",
   "metadata": {},
   "outputs": [
    {
     "data": {
      "text/plain": [
       "0     True\n",
       "1     True\n",
       "2    False\n",
       "3     True\n",
       "dtype: bool"
      ]
     },
     "execution_count": 208,
     "metadata": {},
     "output_type": "execute_result"
    }
   ],
   "source": [
    "s.str.isalnum()"
   ]
  },
  {
   "cell_type": "code",
   "execution_count": 209,
   "id": "e834cd31-6aca-4311-9f44-7b019ea68d34",
   "metadata": {},
   "outputs": [],
   "source": [
    "s1 = pd.Series(['1. Ant.  ', '2. Bee!\\n', '3. Cat?\\t', np.nan])"
   ]
  },
  {
   "cell_type": "code",
   "execution_count": 210,
   "id": "0cd4d319-0532-40b5-939d-d60663583e7f",
   "metadata": {},
   "outputs": [
    {
     "data": {
      "text/plain": [
       "0    False\n",
       "1    False\n",
       "2    False\n",
       "3      NaN\n",
       "dtype: object"
      ]
     },
     "execution_count": 210,
     "metadata": {},
     "output_type": "execute_result"
    }
   ],
   "source": [
    "s1.str.isalnum()"
   ]
  },
  {
   "cell_type": "code",
   "execution_count": 211,
   "id": "0668de40-6e44-43b2-8f99-e3f06ea5a4ff",
   "metadata": {},
   "outputs": [
    {
     "data": {
      "text/plain": [
       "0    False\n",
       "1    False\n",
       "2    False\n",
       "3      NaN\n",
       "dtype: object"
      ]
     },
     "execution_count": 211,
     "metadata": {},
     "output_type": "execute_result"
    }
   ],
   "source": [
    "s1.str.isalpha()"
   ]
  },
  {
   "cell_type": "code",
   "execution_count": 213,
   "id": "f10571c7-cbf0-42bb-b49c-f704904fef12",
   "metadata": {},
   "outputs": [],
   "source": [
    "s1 = pd.Series(['one', 'one1', '1', ''])"
   ]
  },
  {
   "cell_type": "code",
   "execution_count": 214,
   "id": "c088854c-c55a-42f4-9609-79e94a206da7",
   "metadata": {},
   "outputs": [
    {
     "data": {
      "text/plain": [
       "0     True\n",
       "1     True\n",
       "2     True\n",
       "3    False\n",
       "dtype: bool"
      ]
     },
     "execution_count": 214,
     "metadata": {},
     "output_type": "execute_result"
    }
   ],
   "source": [
    "s1.str.isalnum()"
   ]
  }
 ],
 "metadata": {
  "kernelspec": {
   "display_name": "Python 3 (ipykernel)",
   "language": "python",
   "name": "python3"
  },
  "language_info": {
   "codemirror_mode": {
    "name": "ipython",
    "version": 3
   },
   "file_extension": ".py",
   "mimetype": "text/x-python",
   "name": "python",
   "nbconvert_exporter": "python",
   "pygments_lexer": "ipython3",
   "version": "3.7.11"
  }
 },
 "nbformat": 4,
 "nbformat_minor": 5
}
