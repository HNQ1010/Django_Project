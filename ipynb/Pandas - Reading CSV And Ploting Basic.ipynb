{
 "cells": [
  {
   "cell_type": "markdown",
   "id": "1b6b9b46",
   "metadata": {},
   "source": [
    "# Reading external data & ploting"
   ]
  },
  {
   "cell_type": "code",
   "execution_count": 213,
   "id": "288054e1",
   "metadata": {},
   "outputs": [],
   "source": [
    "import numpy as np\n",
    "import pandas as pd\n",
    "import matplotlib.pyplot as plt\n",
    "%matplotlib inline"
   ]
  },
  {
   "cell_type": "markdown",
   "id": "e0d6aaea",
   "metadata": {},
   "source": [
    "> **%matplotlib inline** With this backend, the output of plotting commands is displayed inline within frontends like the Jupyter notebook, \n",
    "directly below the code cell that produced it. The resulting plots will then also be stored in the notebook document."
   ]
  },
  {
   "cell_type": "markdown",
   "id": "1d38f325",
   "metadata": {},
   "source": [
    "Pandas can easily read data stored in different file formats like CSV, JSON, XML or even Excel. Parsing always innvoles specifying\n",
    "the correct structure, cncoding and other details. The read_csv method reads CSV files and accepts many parameters."
   ]
  },
  {
   "cell_type": "code",
   "execution_count": 86,
   "id": "747a6fd2",
   "metadata": {
    "collapsed": true,
    "jupyter": {
     "outputs_hidden": true
    },
    "tags": []
   },
   "outputs": [
    {
     "data": {
      "text/plain": [
       "<function pandas.io.parsers.read_csv(filepath_or_buffer: Union[ForwardRef('PathLike[str]'), str, IO[~T], io.RawIOBase, io.BufferedIOBase, io.TextIOBase, _io.TextIOWrapper, mmap.mmap], sep=<object object at 0x0000021C9AA66B20>, delimiter=None, header='infer', names=None, index_col=None, usecols=None, squeeze=False, prefix=None, mangle_dupe_cols=True, dtype=None, engine=None, converters=None, true_values=None, false_values=None, skipinitialspace=False, skiprows=None, skipfooter=0, nrows=None, na_values=None, keep_default_na=True, na_filter=True, verbose=False, skip_blank_lines=True, parse_dates=False, infer_datetime_format=False, keep_date_col=False, date_parser=None, dayfirst=False, cache_dates=True, iterator=False, chunksize=None, compression='infer', thousands=None, decimal: str = '.', lineterminator=None, quotechar='\"', quoting=0, doublequote=True, escapechar=None, comment=None, encoding=None, dialect=None, error_bad_lines=True, warn_bad_lines=True, delim_whitespace=False, low_memory=True, memory_map=False, float_precision=None, storage_options: Optional[Dict[str, Any]] = None)>"
      ]
     },
     "execution_count": 86,
     "metadata": {},
     "output_type": "execute_result"
    }
   ],
   "source": [
    "pd.read_csv # statement"
   ]
  },
  {
   "cell_type": "code",
   "execution_count": 155,
   "id": "2474a9c3",
   "metadata": {
    "tags": []
   },
   "outputs": [],
   "source": [
    "df=pd.read_csv('btc_market_price.csv')"
   ]
  },
  {
   "cell_type": "code",
   "execution_count": 156,
   "id": "ce2f2849",
   "metadata": {},
   "outputs": [
    {
     "data": {
      "text/html": [
       "<div>\n",
       "<style scoped>\n",
       "    .dataframe tbody tr th:only-of-type {\n",
       "        vertical-align: middle;\n",
       "    }\n",
       "\n",
       "    .dataframe tbody tr th {\n",
       "        vertical-align: top;\n",
       "    }\n",
       "\n",
       "    .dataframe thead th {\n",
       "        text-align: right;\n",
       "    }\n",
       "</style>\n",
       "<table border=\"1\" class=\"dataframe\">\n",
       "  <thead>\n",
       "    <tr style=\"text-align: right;\">\n",
       "      <th></th>\n",
       "      <th>2021-09-18 02:00:00</th>\n",
       "      <th>47374</th>\n",
       "    </tr>\n",
       "  </thead>\n",
       "  <tbody>\n",
       "    <tr>\n",
       "      <th>0</th>\n",
       "      <td>2021-09-18 03:00:00</td>\n",
       "      <td>47642.50</td>\n",
       "    </tr>\n",
       "    <tr>\n",
       "      <th>1</th>\n",
       "      <td>2021-09-18 04:00:00</td>\n",
       "      <td>47692.63</td>\n",
       "    </tr>\n",
       "    <tr>\n",
       "      <th>2</th>\n",
       "      <td>2021-09-18 05:00:00</td>\n",
       "      <td>47944.80</td>\n",
       "    </tr>\n",
       "    <tr>\n",
       "      <th>3</th>\n",
       "      <td>2021-09-18 06:00:00</td>\n",
       "      <td>48349.25</td>\n",
       "    </tr>\n",
       "    <tr>\n",
       "      <th>4</th>\n",
       "      <td>2021-09-18 07:00:00</td>\n",
       "      <td>48676.24</td>\n",
       "    </tr>\n",
       "  </tbody>\n",
       "</table>\n",
       "</div>"
      ],
      "text/plain": [
       "   2021-09-18 02:00:00     47374\n",
       "0  2021-09-18 03:00:00  47642.50\n",
       "1  2021-09-18 04:00:00  47692.63\n",
       "2  2021-09-18 05:00:00  47944.80\n",
       "3  2021-09-18 06:00:00  48349.25\n",
       "4  2021-09-18 07:00:00  48676.24"
      ]
     },
     "execution_count": 156,
     "metadata": {},
     "output_type": "execute_result"
    }
   ],
   "source": [
    "df.head() # you can directly edit file in file editor with adding or delete directly."
   ]
  },
  {
   "cell_type": "markdown",
   "id": "db4be61b",
   "metadata": {},
   "source": [
    "The CSV file we're reading has only two columns: timestamp and price. It doesn't have the header, it contains whitespaces and has values\n",
    "separated by commas. Pandas automatically assigned the first row of adata as headers ,which is incorrect. \n",
    "We can overwrite this behavior with the header parameter:"
   ]
  },
  {
   "cell_type": "code",
   "execution_count": 157,
   "id": "46034be9",
   "metadata": {},
   "outputs": [
    {
     "data": {
      "text/html": [
       "<div>\n",
       "<style scoped>\n",
       "    .dataframe tbody tr th:only-of-type {\n",
       "        vertical-align: middle;\n",
       "    }\n",
       "\n",
       "    .dataframe tbody tr th {\n",
       "        vertical-align: top;\n",
       "    }\n",
       "\n",
       "    .dataframe thead th {\n",
       "        text-align: right;\n",
       "    }\n",
       "</style>\n",
       "<table border=\"1\" class=\"dataframe\">\n",
       "  <thead>\n",
       "    <tr style=\"text-align: right;\">\n",
       "      <th></th>\n",
       "      <th>0</th>\n",
       "      <th>1</th>\n",
       "    </tr>\n",
       "  </thead>\n",
       "  <tbody>\n",
       "    <tr>\n",
       "      <th>0</th>\n",
       "      <td>2021-09-18 02:00:00</td>\n",
       "      <td>47374.00</td>\n",
       "    </tr>\n",
       "    <tr>\n",
       "      <th>1</th>\n",
       "      <td>2021-09-18 03:00:00</td>\n",
       "      <td>47642.50</td>\n",
       "    </tr>\n",
       "    <tr>\n",
       "      <th>2</th>\n",
       "      <td>2021-09-18 04:00:00</td>\n",
       "      <td>47692.63</td>\n",
       "    </tr>\n",
       "    <tr>\n",
       "      <th>3</th>\n",
       "      <td>2021-09-18 05:00:00</td>\n",
       "      <td>47944.80</td>\n",
       "    </tr>\n",
       "    <tr>\n",
       "      <th>4</th>\n",
       "      <td>2021-09-18 06:00:00</td>\n",
       "      <td>48349.25</td>\n",
       "    </tr>\n",
       "  </tbody>\n",
       "</table>\n",
       "</div>"
      ],
      "text/plain": [
       "                     0         1\n",
       "0  2021-09-18 02:00:00  47374.00\n",
       "1  2021-09-18 03:00:00  47642.50\n",
       "2  2021-09-18 04:00:00  47692.63\n",
       "3  2021-09-18 05:00:00  47944.80\n",
       "4  2021-09-18 06:00:00  48349.25"
      ]
     },
     "execution_count": 157,
     "metadata": {},
     "output_type": "execute_result"
    }
   ],
   "source": [
    "df= pd.read_csv('btc_market_price.csv', header=None)\n",
    "df.head()"
   ]
  },
  {
   "cell_type": "markdown",
   "id": "8d69d5f1",
   "metadata": {},
   "source": [
    "And then set the column(s) name with **df.columns** attribute:"
   ]
  },
  {
   "cell_type": "code",
   "execution_count": 158,
   "id": "afa87cc6",
   "metadata": {},
   "outputs": [
    {
     "data": {
      "text/html": [
       "<div>\n",
       "<style scoped>\n",
       "    .dataframe tbody tr th:only-of-type {\n",
       "        vertical-align: middle;\n",
       "    }\n",
       "\n",
       "    .dataframe tbody tr th {\n",
       "        vertical-align: top;\n",
       "    }\n",
       "\n",
       "    .dataframe thead th {\n",
       "        text-align: right;\n",
       "    }\n",
       "</style>\n",
       "<table border=\"1\" class=\"dataframe\">\n",
       "  <thead>\n",
       "    <tr style=\"text-align: right;\">\n",
       "      <th></th>\n",
       "      <th>Timestamp</th>\n",
       "      <th>Price</th>\n",
       "    </tr>\n",
       "  </thead>\n",
       "  <tbody>\n",
       "    <tr>\n",
       "      <th>0</th>\n",
       "      <td>2021-09-18 02:00:00</td>\n",
       "      <td>47374.00</td>\n",
       "    </tr>\n",
       "    <tr>\n",
       "      <th>1</th>\n",
       "      <td>2021-09-18 03:00:00</td>\n",
       "      <td>47642.50</td>\n",
       "    </tr>\n",
       "    <tr>\n",
       "      <th>2</th>\n",
       "      <td>2021-09-18 04:00:00</td>\n",
       "      <td>47692.63</td>\n",
       "    </tr>\n",
       "    <tr>\n",
       "      <th>3</th>\n",
       "      <td>2021-09-18 05:00:00</td>\n",
       "      <td>47944.80</td>\n",
       "    </tr>\n",
       "    <tr>\n",
       "      <th>4</th>\n",
       "      <td>2021-09-18 06:00:00</td>\n",
       "      <td>48349.25</td>\n",
       "    </tr>\n",
       "  </tbody>\n",
       "</table>\n",
       "</div>"
      ],
      "text/plain": [
       "             Timestamp     Price\n",
       "0  2021-09-18 02:00:00  47374.00\n",
       "1  2021-09-18 03:00:00  47642.50\n",
       "2  2021-09-18 04:00:00  47692.63\n",
       "3  2021-09-18 05:00:00  47944.80\n",
       "4  2021-09-18 06:00:00  48349.25"
      ]
     },
     "execution_count": 158,
     "metadata": {},
     "output_type": "execute_result"
    }
   ],
   "source": [
    "df.columns = ['Timestamp', 'Price']\n",
    "df.head()"
   ]
  },
  {
   "cell_type": "markdown",
   "id": "de21dfd6",
   "metadata": {},
   "source": [
    "The types of the Price columns was correctly interpreted as float, but the timestamp was interpreted as a regular string(object in pandas notation)"
   ]
  },
  {
   "cell_type": "code",
   "execution_count": 159,
   "id": "b27bfe2d",
   "metadata": {},
   "outputs": [
    {
     "data": {
      "text/plain": [
       "(dtype('O'),\n",
       "              Timestamp    Price\n",
       " 0  2021-09-18 02:00:00  47374.0\n",
       " 1  2021-09-18 03:00:00  47642.5,\n",
       "                Timestamp     Price\n",
       " 160  2021-09-24 18:00:00  42221.31\n",
       " 161  2021-09-24 19:00:00  42025.61)"
      ]
     },
     "execution_count": 159,
     "metadata": {},
     "output_type": "execute_result"
    }
   ],
   "source": [
    "df.columns.dtype, df.head(2), df.tail(2) # df.info(), df.describe(), df.shape, df.size..."
   ]
  },
  {
   "cell_type": "markdown",
   "id": "250b3a14",
   "metadata": {},
   "source": [
    "We can perform a vectorized operation to parse all the Timestamp values as Datetime objects:"
   ]
  },
  {
   "cell_type": "code",
   "execution_count": 163,
   "id": "72f51441",
   "metadata": {},
   "outputs": [
    {
     "data": {
      "text/plain": [
       "0   2021-09-18 02:00:00\n",
       "1   2021-09-18 03:00:00\n",
       "Name: Timestamp, dtype: datetime64[ns]"
      ]
     },
     "execution_count": 163,
     "metadata": {},
     "output_type": "execute_result"
    }
   ],
   "source": [
    "pd.to_datetime(df['Timestamp']).head(2) # if this can't work, use df['column_name'] = df['datetime_value_column'].dt.date"
   ]
  },
  {
   "cell_type": "code",
   "execution_count": 176,
   "id": "b24ecbdf",
   "metadata": {},
   "outputs": [],
   "source": [
    "df['Timestamp'] = pd.to_datetime(df['Timestamp'])\n",
    "#if you just want get date part, format it from beginning or use df['Timestamp'] = df['Timestamp'].dt.date \n",
    "#but the type of column is str (O type)"
   ]
  },
  {
   "cell_type": "code",
   "execution_count": 178,
   "id": "965030be",
   "metadata": {},
   "outputs": [
    {
     "data": {
      "text/html": [
       "<div>\n",
       "<style scoped>\n",
       "    .dataframe tbody tr th:only-of-type {\n",
       "        vertical-align: middle;\n",
       "    }\n",
       "\n",
       "    .dataframe tbody tr th {\n",
       "        vertical-align: top;\n",
       "    }\n",
       "\n",
       "    .dataframe thead th {\n",
       "        text-align: right;\n",
       "    }\n",
       "</style>\n",
       "<table border=\"1\" class=\"dataframe\">\n",
       "  <thead>\n",
       "    <tr style=\"text-align: right;\">\n",
       "      <th></th>\n",
       "      <th>Price</th>\n",
       "    </tr>\n",
       "    <tr>\n",
       "      <th>Timestamp</th>\n",
       "      <th></th>\n",
       "    </tr>\n",
       "  </thead>\n",
       "  <tbody>\n",
       "    <tr>\n",
       "      <th>2021-09-18 02:00:00</th>\n",
       "      <td>47374.0</td>\n",
       "    </tr>\n",
       "    <tr>\n",
       "      <th>2021-09-18 03:00:00</th>\n",
       "      <td>47642.5</td>\n",
       "    </tr>\n",
       "  </tbody>\n",
       "</table>\n",
       "</div>"
      ],
      "text/plain": [
       "                       Price\n",
       "Timestamp                   \n",
       "2021-09-18 02:00:00  47374.0\n",
       "2021-09-18 03:00:00  47642.5"
      ]
     },
     "execution_count": 178,
     "metadata": {},
     "output_type": "execute_result"
    }
   ],
   "source": [
    "df.head(2) # If the df['Timestamp'] = df['Timestamp'].dt.date already work, you can't re-run the it agains unless you want get an error."
   ]
  },
  {
   "cell_type": "code",
   "execution_count": 179,
   "id": "14babfb6",
   "metadata": {},
   "outputs": [
    {
     "data": {
      "text/plain": [
       "Price    float64\n",
       "dtype: object"
      ]
     },
     "execution_count": 179,
     "metadata": {},
     "output_type": "execute_result"
    }
   ],
   "source": [
    "df.dtypes # the type of .dt.date is object while the type of to_datetime is datetime64[ns]"
   ]
  },
  {
   "cell_type": "code",
   "execution_count": 169,
   "id": "cbdd2fd5",
   "metadata": {},
   "outputs": [],
   "source": [
    "df.set_index('Timestamp', inplace=True) # Afther this, you can access Data row by loc using index row"
   ]
  },
  {
   "cell_type": "code",
   "execution_count": 180,
   "id": "6b323e88",
   "metadata": {},
   "outputs": [
    {
     "data": {
      "text/plain": [
       "Price    47374.0\n",
       "Name: 2021-09-18 02:00:00, dtype: float64"
      ]
     },
     "execution_count": 180,
     "metadata": {},
     "output_type": "execute_result"
    }
   ],
   "source": [
    "df.iloc[0]"
   ]
  },
  {
   "cell_type": "code",
   "execution_count": 181,
   "id": "bf770d49",
   "metadata": {},
   "outputs": [
    {
     "data": {
      "text/html": [
       "<div>\n",
       "<style scoped>\n",
       "    .dataframe tbody tr th:only-of-type {\n",
       "        vertical-align: middle;\n",
       "    }\n",
       "\n",
       "    .dataframe tbody tr th {\n",
       "        vertical-align: top;\n",
       "    }\n",
       "\n",
       "    .dataframe thead th {\n",
       "        text-align: right;\n",
       "    }\n",
       "</style>\n",
       "<table border=\"1\" class=\"dataframe\">\n",
       "  <thead>\n",
       "    <tr style=\"text-align: right;\">\n",
       "      <th></th>\n",
       "      <th>Price</th>\n",
       "    </tr>\n",
       "    <tr>\n",
       "      <th>Timestamp</th>\n",
       "      <th></th>\n",
       "    </tr>\n",
       "  </thead>\n",
       "  <tbody>\n",
       "    <tr>\n",
       "      <th>2021-09-18 02:00:00</th>\n",
       "      <td>47374.0</td>\n",
       "    </tr>\n",
       "    <tr>\n",
       "      <th>2021-09-18 03:00:00</th>\n",
       "      <td>47642.5</td>\n",
       "    </tr>\n",
       "  </tbody>\n",
       "</table>\n",
       "</div>"
      ],
      "text/plain": [
       "                       Price\n",
       "Timestamp                   \n",
       "2021-09-18 02:00:00  47374.0\n",
       "2021-09-18 03:00:00  47642.5"
      ]
     },
     "execution_count": 181,
     "metadata": {},
     "output_type": "execute_result"
    }
   ],
   "source": [
    "df.loc['2021-09-18'].head(2)"
   ]
  },
  {
   "cell_type": "markdown",
   "id": "d854d353",
   "metadata": {},
   "source": [
    "### Putting everything together"
   ]
  },
  {
   "cell_type": "markdown",
   "id": "9440332a",
   "metadata": {},
   "source": [
    "And now, we've finally arried to the final, desired version of the DataFrame parsed from our CSV file, the steps were:"
   ]
  },
  {
   "cell_type": "code",
   "execution_count": 197,
   "id": "375059ee",
   "metadata": {},
   "outputs": [],
   "source": [
    "df= pd.read_csv('btc_market_price.csv')\n",
    "df.columns = (['Index','Price'])\n",
    "#df['Timestamp'] = pd.to_datetime(df['Timestamp']) This is set before and don't change in original file, so you can re-run this code\n",
    "#df.set_index('Timestamp', inplace= True) similar above"
   ]
  },
  {
   "cell_type": "code",
   "execution_count": 189,
   "id": "efd71aa3",
   "metadata": {},
   "outputs": [
    {
     "data": {
      "text/html": [
       "<div>\n",
       "<style scoped>\n",
       "    .dataframe tbody tr th:only-of-type {\n",
       "        vertical-align: middle;\n",
       "    }\n",
       "\n",
       "    .dataframe tbody tr th {\n",
       "        vertical-align: top;\n",
       "    }\n",
       "\n",
       "    .dataframe thead th {\n",
       "        text-align: right;\n",
       "    }\n",
       "</style>\n",
       "<table border=\"1\" class=\"dataframe\">\n",
       "  <thead>\n",
       "    <tr style=\"text-align: right;\">\n",
       "      <th></th>\n",
       "      <th>Index</th>\n",
       "      <th>Price</th>\n",
       "    </tr>\n",
       "  </thead>\n",
       "  <tbody>\n",
       "    <tr>\n",
       "      <th>0</th>\n",
       "      <td>2021-09-18 03:00:00</td>\n",
       "      <td>47642.50</td>\n",
       "    </tr>\n",
       "    <tr>\n",
       "      <th>1</th>\n",
       "      <td>2021-09-18 04:00:00</td>\n",
       "      <td>47692.63</td>\n",
       "    </tr>\n",
       "    <tr>\n",
       "      <th>2</th>\n",
       "      <td>2021-09-18 05:00:00</td>\n",
       "      <td>47944.80</td>\n",
       "    </tr>\n",
       "    <tr>\n",
       "      <th>3</th>\n",
       "      <td>2021-09-18 06:00:00</td>\n",
       "      <td>48349.25</td>\n",
       "    </tr>\n",
       "    <tr>\n",
       "      <th>4</th>\n",
       "      <td>2021-09-18 07:00:00</td>\n",
       "      <td>48676.24</td>\n",
       "    </tr>\n",
       "  </tbody>\n",
       "</table>\n",
       "</div>"
      ],
      "text/plain": [
       "                 Index     Price\n",
       "0  2021-09-18 03:00:00  47642.50\n",
       "1  2021-09-18 04:00:00  47692.63\n",
       "2  2021-09-18 05:00:00  47944.80\n",
       "3  2021-09-18 06:00:00  48349.25\n",
       "4  2021-09-18 07:00:00  48676.24"
      ]
     },
     "execution_count": 189,
     "metadata": {},
     "output_type": "execute_result"
    }
   ],
   "source": [
    "df.head()"
   ]
  },
  {
   "cell_type": "markdown",
   "id": "e2664477",
   "metadata": {},
   "source": [
    "Or you can combine these code in one command:"
   ]
  },
  {
   "cell_type": "code",
   "execution_count": 202,
   "id": "0ebf576a",
   "metadata": {},
   "outputs": [],
   "source": [
    "df = pd.read_csv('btc_market_price1.csv', header = None, names = ['Timestamp', 'Price'], index_col=0, parse_dates = True)\n",
    "# index_col=0 similar to df.set_index(column = 'Timestamp')\n",
    "# parse_dates = True similar to df['Timestamp'] = pd.to_date(df['Timestamp'])\n",
    "# if the datetime column is the sameday but differ timstamp the parse_dates will return both date & time part.\n",
    "#It just change the type of column and you can't access the row by .loc method with just date part."
   ]
  },
  {
   "cell_type": "code",
   "execution_count": 203,
   "id": "ae39e51e",
   "metadata": {},
   "outputs": [
    {
     "data": {
      "text/html": [
       "<div>\n",
       "<style scoped>\n",
       "    .dataframe tbody tr th:only-of-type {\n",
       "        vertical-align: middle;\n",
       "    }\n",
       "\n",
       "    .dataframe tbody tr th {\n",
       "        vertical-align: top;\n",
       "    }\n",
       "\n",
       "    .dataframe thead th {\n",
       "        text-align: right;\n",
       "    }\n",
       "</style>\n",
       "<table border=\"1\" class=\"dataframe\">\n",
       "  <thead>\n",
       "    <tr style=\"text-align: right;\">\n",
       "      <th></th>\n",
       "      <th>Price</th>\n",
       "    </tr>\n",
       "    <tr>\n",
       "      <th>Timestamp</th>\n",
       "      <th></th>\n",
       "    </tr>\n",
       "  </thead>\n",
       "  <tbody>\n",
       "    <tr>\n",
       "      <th>2021-09-18</th>\n",
       "      <td>47374.00</td>\n",
       "    </tr>\n",
       "    <tr>\n",
       "      <th>2021-09-19</th>\n",
       "      <td>47642.50</td>\n",
       "    </tr>\n",
       "    <tr>\n",
       "      <th>2021-09-20</th>\n",
       "      <td>47692.63</td>\n",
       "    </tr>\n",
       "    <tr>\n",
       "      <th>2021-09-21</th>\n",
       "      <td>47944.80</td>\n",
       "    </tr>\n",
       "    <tr>\n",
       "      <th>2021-09-22</th>\n",
       "      <td>48349.25</td>\n",
       "    </tr>\n",
       "  </tbody>\n",
       "</table>\n",
       "</div>"
      ],
      "text/plain": [
       "               Price\n",
       "Timestamp           \n",
       "2021-09-18  47374.00\n",
       "2021-09-19  47642.50\n",
       "2021-09-20  47692.63\n",
       "2021-09-21  47944.80\n",
       "2021-09-22  48349.25"
      ]
     },
     "execution_count": 203,
     "metadata": {},
     "output_type": "execute_result"
    }
   ],
   "source": [
    "df.head()"
   ]
  },
  {
   "cell_type": "code",
   "execution_count": 204,
   "id": "f6c475e4",
   "metadata": {},
   "outputs": [
    {
     "data": {
      "text/plain": [
       "Price    47374.0\n",
       "Name: 2021-09-18 00:00:00, dtype: float64"
      ]
     },
     "execution_count": 204,
     "metadata": {},
     "output_type": "execute_result"
    }
   ],
   "source": [
    "df.loc['2021-09-18']"
   ]
  },
  {
   "cell_type": "markdown",
   "id": "5b26184f",
   "metadata": {},
   "source": [
    "### Plotting basics"
   ]
  },
  {
   "cell_type": "code",
   "execution_count": 209,
   "id": "321b5bb4",
   "metadata": {},
   "outputs": [
    {
     "data": {
      "text/plain": [
       "<AxesSubplot:xlabel='Timestamp'>"
      ]
     },
     "execution_count": 209,
     "metadata": {},
     "output_type": "execute_result"
    },
    {
     "data": {
      "image/png": "[encoded data removed]",
      "text/plain": [
       "<Figure size 432x288 with 1 Axes>"
      ]
     },
     "metadata": {
      "needs_background": "light"
     },
     "output_type": "display_data"
    }
   ],
   "source": [
    "df.plot()"
   ]
  },
  {
   "cell_type": "markdown",
   "id": "8912fa36",
   "metadata": {},
   "source": [
    "Behind the scenes, it's using **matplotlib.pyplot** interface. We can create a similar plot with the **plt.plot()** function."
   ]
  },
  {
   "cell_type": "code",
   "execution_count": 214,
   "id": "890a49df",
   "metadata": {},
   "outputs": [
    {
     "data": {
      "text/plain": [
       "[<matplotlib.lines.Line2D at 0x21ca5f8a0d0>]"
      ]
     },
     "execution_count": 214,
     "metadata": {},
     "output_type": "execute_result"
    },
    {
     "data": {
      "image/png": "[encoded data removed]",
      "text/plain": [
       "<Figure size 432x288 with 1 Axes>"
      ]
     },
     "metadata": {
      "needs_background": "light"
     },
     "output_type": "display_data"
    }
   ],
   "source": [
    "plt.plot(df.index, df['Price'])"
   ]
  },
  {
   "cell_type": "markdown",
   "id": "d319e809",
   "metadata": {},
   "source": [
    "**Matplotlib.pyplot(plt)** accepts many parameters but the most important is first two parameter:\n",
    "\n",
    "* The value for X axis\n",
    "\n",
    "* The value for Y axis"
   ]
  },
  {
   "cell_type": "code",
   "execution_count": 217,
   "id": "4cbeb019",
   "metadata": {},
   "outputs": [
    {
     "data": {
      "text/plain": [
       "array([-10,  -9,  -8,  -7,  -6,  -5,  -4,  -3,  -2,  -1,   0,   1,   2,\n",
       "         3,   4,   5,   6,   7,   8,   9,  10])"
      ]
     },
     "execution_count": 217,
     "metadata": {},
     "output_type": "execute_result"
    }
   ],
   "source": [
    "x = np.arange(-10, 11)\n",
    "x"
   ]
  },
  {
   "cell_type": "code",
   "execution_count": 216,
   "id": "e99cfa0d",
   "metadata": {},
   "outputs": [
    {
     "data": {
      "text/plain": [
       "[<matplotlib.lines.Line2D at 0x21ca6021d30>]"
      ]
     },
     "execution_count": 216,
     "metadata": {},
     "output_type": "execute_result"
    },
    {
     "data": {
      "image/png": "[encoded data removed]",
      "text/plain": [
       "<Figure size 432x288 with 1 Axes>"
      ]
     },
     "metadata": {
      "needs_background": "light"
     },
     "output_type": "display_data"
    }
   ],
   "source": [
    "plt.plot(x, x**2)"
   ]
  },
  {
   "cell_type": "markdown",
   "id": "7a1caf2e",
   "metadata": {},
   "source": [
    "We're using **matplotlib's global** API, which is horrible, but it's the most popular. We'll learn how to use the OOP API which will\n",
    "make our work much easier."
   ]
  },
  {
   "cell_type": "code",
   "execution_count": 220,
   "id": "14b6c6b0",
   "metadata": {},
   "outputs": [
    {
     "data": {
      "text/plain": [
       "[<matplotlib.lines.Line2D at 0x21ca6092310>]"
      ]
     },
     "execution_count": 220,
     "metadata": {},
     "output_type": "execute_result"
    },
    {
     "data": {
      "image/png": "[encoded data removed]",
      "text/plain": [
       "<Figure size 432x288 with 1 Axes>"
      ]
     },
     "metadata": {
      "needs_background": "light"
     },
     "output_type": "display_data"
    }
   ],
   "source": [
    "plt.plot(x, x**2)\n",
    "plt.plot(x, -1*(x**2))"
   ]
  },
  {
   "cell_type": "markdown",
   "id": "aed555de",
   "metadata": {},
   "source": [
    "Each **plt** function alters the global state. If you want to set settings of your plot, you can use the **plt.figure** function.\n",
    "Other like **plt.title** keep altering the global plot."
   ]
  },
  {
   "cell_type": "code",
   "execution_count": null,
   "id": "d1ff2134",
   "metadata": {},
   "outputs": [
    {
     "data": {
      "text/plain": [
       "Text(0.5, 1.0, 'Nice Plot')"
      ]
     },
     "execution_count": 223,
     "metadata": {},
     "output_type": "execute_result"
    },
    {
     "data": {
      "image/png": "[encoded data removed]",
      "text/plain": [
       "<Figure size 360x144 with 1 Axes>"
      ]
     },
     "metadata": {
      "needs_background": "light"
     },
     "output_type": "display_data"
    }
   ],
   "source": [
    "plt.figure(figsize = (5,2)) # width, length\n",
    "plt.plot(x, x**2)\n",
    "plt.plot(x, -1*(x**2))\n",
    "plt.title('Nice Plot')"
   ]
  },
  {
   "cell_type": "markdown",
   "id": "351fde5f",
   "metadata": {},
   "source": [
    "Some of the arguments in **plt.figure** and **plt.plot** are available in teh pandas's **plot** interface:"
   ]
  },
  {
   "cell_type": "code",
   "execution_count": null,
   "id": "88320be7",
   "metadata": {},
   "outputs": [
    {
     "data": {
      "text/plain": [
       "<AxesSubplot:title={'center':'Nice Plot'}, xlabel='Timestamp'>"
      ]
     },
     "execution_count": 224,
     "metadata": {},
     "output_type": "execute_result"
    },
    {
     "data": {
      "image/png": "[encoded data removed]",
      "text/plain": [
       "<Figure size 576x288 with 1 Axes>"
      ]
     },
     "metadata": {
      "needs_background": "light"
     },
     "output_type": "display_data"
    }
   ],
   "source": [
    "df.plot(figsize = (8,4), title='Nice Plot')"
   ]
  },
  {
   "cell_type": "code",
   "execution_count": 227,
   "id": "75b29862",
   "metadata": {},
   "outputs": [
    {
     "data": {
      "text/plain": [
       "<AxesSubplot:xlabel='Timestamp'>"
      ]
     },
     "execution_count": 227,
     "metadata": {},
     "output_type": "execute_result"
    },
    {
     "data": {
      "image/png": "[encoded data removed]",
      "text/plain": [
       "<Figure size 432x288 with 1 Axes>"
      ]
     },
     "metadata": {
      "needs_background": "light"
     },
     "output_type": "display_data"
    }
   ],
   "source": [
    "df.loc['2021-12-01':'2022-01-01'].plot() # See details in the interval if there are issues"
   ]
  }
 ],
 "metadata": {
  "kernelspec": {
   "display_name": "Python 3",
   "language": "python",
   "name": "python3"
  },
  "language_info": {
   "codemirror_mode": {
    "name": "ipython",
    "version": 3
   },
   "file_extension": ".py",
   "mimetype": "text/x-python",
   "name": "python",
   "nbconvert_exporter": "python",
   "pygments_lexer": "ipython3",
   "version": "3.7.11"
  }
 },
 "nbformat": 4,
 "nbformat_minor": 5
}
