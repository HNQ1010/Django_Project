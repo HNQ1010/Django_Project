{
 "cells": [
  {
   "cell_type": "code",
   "execution_count": 1,
   "id": "6afaf29a-b4b6-446c-b228-34129e72a219",
   "metadata": {},
   "outputs": [],
   "source": [
    "import numpy as np\n",
    "import pandas as pd\n",
    "import datetime"
   ]
  },
  {
   "cell_type": "code",
   "execution_count": 19,
   "id": "80374896-3a9e-4673-a9e4-e6ef4c5c0574",
   "metadata": {},
   "outputs": [
    {
     "data": {
      "text/plain": [
       "DatetimeIndex(['2018-01-01 00:00:00', '2018-01-01 01:00:00',\n",
       "               '2018-01-01 02:00:00'],\n",
       "              dtype='datetime64[ns]', freq='H')"
      ]
     },
     "execution_count": 19,
     "metadata": {},
     "output_type": "execute_result"
    }
   ],
   "source": [
    "# pd.to_datetime(['1/1/2018', np.datetime64('2018-01-01'), datetime.datetime(2018, 1, 1)])\n",
    "dti = pd.date_range('2018-01-01', periods=3, freq='H')\n",
    "dti"
   ]
  },
  {
   "cell_type": "code",
   "execution_count": 20,
   "id": "896d61b8-aa01-4cb8-beff-ec1cbdb3de2e",
   "metadata": {},
   "outputs": [
    {
     "data": {
      "text/plain": [
       "DatetimeIndex(['2018-01-01 00:00:00+00:00', '2018-01-01 01:00:00+00:00',\n",
       "               '2018-01-01 02:00:00+00:00'],\n",
       "              dtype='datetime64[ns, UTC]', freq='H')"
      ]
     },
     "execution_count": 20,
     "metadata": {},
     "output_type": "execute_result"
    }
   ],
   "source": [
    "dti = dti.tz_localize('UTC')\n",
    "dti"
   ]
  },
  {
   "cell_type": "code",
   "execution_count": 21,
   "id": "2b58b0ee-f547-498d-b2c9-1e4c7a7b9091",
   "metadata": {},
   "outputs": [
    {
     "data": {
      "text/plain": [
       "DatetimeIndex(['2017-12-31 16:00:00-08:00', '2017-12-31 17:00:00-08:00',\n",
       "               '2017-12-31 18:00:00-08:00'],\n",
       "              dtype='datetime64[ns, US/Pacific]', freq='H')"
      ]
     },
     "execution_count": 21,
     "metadata": {},
     "output_type": "execute_result"
    }
   ],
   "source": [
    "dti.tz_convert('US/Pacific')"
   ]
  },
  {
   "cell_type": "code",
   "execution_count": 23,
   "id": "c2426394-eac4-41ba-b1de-06d2d656ff04",
   "metadata": {},
   "outputs": [
    {
     "data": {
      "text/plain": [
       "2018-01-01 00:00:00    0\n",
       "2018-01-01 01:00:00    1\n",
       "2018-01-01 02:00:00    2\n",
       "2018-01-01 03:00:00    3\n",
       "2018-01-01 04:00:00    4\n",
       "Freq: H, dtype: int64"
      ]
     },
     "execution_count": 23,
     "metadata": {},
     "output_type": "execute_result"
    }
   ],
   "source": [
    "idx = pd.date_range('2018-01-01', periods=5, freq='H')\n",
    "ts = pd.Series(range(len(idx)), index=idx)\n",
    "ts"
   ]
  },
  {
   "cell_type": "code",
   "execution_count": 24,
   "id": "f06475a6-b7e9-45f4-8350-5051437363fc",
   "metadata": {},
   "outputs": [
    {
     "data": {
      "text/plain": [
       "2018-01-01 00:00:00    0.5\n",
       "2018-01-01 02:00:00    2.5\n",
       "2018-01-01 04:00:00    4.0\n",
       "Freq: 2H, dtype: float64"
      ]
     },
     "execution_count": 24,
     "metadata": {},
     "output_type": "execute_result"
    }
   ],
   "source": [
    "ts.resample('2H').mean()"
   ]
  },
  {
   "cell_type": "code",
   "execution_count": 25,
   "id": "17f052ea-ae47-4269-b013-216fbf63b4ae",
   "metadata": {},
   "outputs": [
    {
     "data": {
      "text/plain": [
       "'Friday'"
      ]
     },
     "execution_count": 25,
     "metadata": {},
     "output_type": "execute_result"
    }
   ],
   "source": [
    "friday = pd.Timestamp('2018-01-05')\n",
    "friday.day_name()"
   ]
  },
  {
   "cell_type": "code",
   "execution_count": 26,
   "id": "546a2d09-43c7-45c0-96b6-aa1645e01fba",
   "metadata": {},
   "outputs": [
    {
     "data": {
      "text/plain": [
       "'Sunday'"
      ]
     },
     "execution_count": 26,
     "metadata": {},
     "output_type": "execute_result"
    }
   ],
   "source": [
    "saturday = friday + pd.Timedelta('2 day')\n",
    "saturday.day_name()"
   ]
  },
  {
   "cell_type": "code",
   "execution_count": 31,
   "id": "e2b571fb-23e9-4610-9d6f-a57e9f866048",
   "metadata": {},
   "outputs": [
    {
     "data": {
      "text/plain": [
       "'Wednesday'"
      ]
     },
     "execution_count": 31,
     "metadata": {},
     "output_type": "execute_result"
    }
   ],
   "source": [
    "monday = friday + pd.offsets.BDay(3)\n",
    "monday.day_name()"
   ]
  },
  {
   "cell_type": "code",
   "execution_count": 44,
   "id": "db30c8a3-0d54-4e7a-8fce-86855c71ff7c",
   "metadata": {},
   "outputs": [
    {
     "data": {
      "text/plain": [
       "Timestamp('2021-11-12 00:00:00')"
      ]
     },
     "execution_count": 44,
     "metadata": {},
     "output_type": "execute_result"
    }
   ],
   "source": [
    "pd.Timestamp(\"2021-11-11\") + pd.offsets.BDay()"
   ]
  },
  {
   "cell_type": "code",
   "execution_count": 45,
   "id": "185ad1f6-a248-45b6-9538-34943b27d25c",
   "metadata": {},
   "outputs": [],
   "source": [
    "s = pd.date_range('2021-11-01', '2021-11-21')"
   ]
  },
  {
   "cell_type": "code",
   "execution_count": 46,
   "id": "04532ceb-6960-4bc0-8025-72c63b6800f8",
   "metadata": {},
   "outputs": [],
   "source": [
    "s = s + pd.offsets.BDay()"
   ]
  },
  {
   "cell_type": "code",
   "execution_count": 47,
   "id": "8839ec88-bdc5-4e22-a3ca-0ea7bad714cd",
   "metadata": {},
   "outputs": [
    {
     "data": {
      "text/plain": [
       "DatetimeIndex(['2021-11-02', '2021-11-03', '2021-11-04', '2021-11-05',\n",
       "               '2021-11-08', '2021-11-08', '2021-11-08', '2021-11-09',\n",
       "               '2021-11-10', '2021-11-11', '2021-11-12', '2021-11-15',\n",
       "               '2021-11-15', '2021-11-15', '2021-11-16', '2021-11-17',\n",
       "               '2021-11-18', '2021-11-19', '2021-11-22', '2021-11-22',\n",
       "               '2021-11-22'],\n",
       "              dtype='datetime64[ns]', freq=None)"
      ]
     },
     "execution_count": 47,
     "metadata": {},
     "output_type": "execute_result"
    }
   ],
   "source": [
    "s"
   ]
  },
  {
   "cell_type": "code",
   "execution_count": 5,
   "id": "69874be6-3580-470a-98eb-35f29c0a9db8",
   "metadata": {},
   "outputs": [
    {
     "name": "stdout",
     "output_type": "stream",
     "text": [
      "<table border=\"1\" class=\"dataframe\">\n",
      "  <thead>\n",
      "    <tr style=\"text-align: right;\">\n",
      "      <th>Concept</th>\n",
      "      <th>Scalar Class</th>\n",
      "      <th>Array Class</th>\n",
      "      <th>pandas Data Type</th>\n",
      "      <th>Primary Creation Method</th>\n",
      "    </tr>\n",
      "  </thead>\n",
      "  <tbody>\n",
      "    <tr>\n",
      "      <td>Date times</td>\n",
      "      <td>Timestamp</td>\n",
      "      <td>DatetimeIndex</td>\n",
      "      <td>datetime64[ns] or datetime64[ns, tz]</td>\n",
      "      <td>to_datetime or date_range</td>\n",
      "    </tr>\n",
      "    <tr>\n",
      "      <td>Time deltas</td>\n",
      "      <td>Timedelta</td>\n",
      "      <td>TimedeltaIndex</td>\n",
      "      <td>timedelta64[ns]</td>\n",
      "      <td>to_timedelta or timedelta_range</td>\n",
      "    </tr>\n",
      "    <tr>\n",
      "      <td>Time spans</td>\n",
      "      <td>Period</td>\n",
      "      <td>PeriodIndex</td>\n",
      "      <td>period[freq]</td>\n",
      "      <td>Period or period_range</td>\n",
      "    </tr>\n",
      "    <tr>\n",
      "      <td>Date offsets</td>\n",
      "      <td>DateOffset</td>\n",
      "      <td>None</td>\n",
      "      <td>None</td>\n",
      "      <td>DateOffset</td>\n",
      "    </tr>\n",
      "  </tbody>\n",
      "</table>\n"
     ]
    }
   ],
   "source": [
    "table = pd.read_html('https://pandas.pydata.org/docs/user_guide/timeseries.html')\n",
    "print(table[0].to_html(index=False))"
   ]
  },
  {
   "cell_type": "code",
   "execution_count": 8,
   "id": "225e76cd-78bf-437a-b97b-f4c174f2582d",
   "metadata": {},
   "outputs": [
    {
     "data": {
      "text/plain": [
       "2000-01-01    0\n",
       "2000-01-02    1\n",
       "2000-01-03    2\n",
       "Freq: D, dtype: int64"
      ]
     },
     "execution_count": 8,
     "metadata": {},
     "output_type": "execute_result"
    }
   ],
   "source": [
    "pd.Series(range(3), index=pd.date_range('2000', freq='D', periods=3))"
   ]
  },
  {
   "cell_type": "code",
   "execution_count": 9,
   "id": "c2756a36-188f-47da-808a-bff01be1c818",
   "metadata": {},
   "outputs": [
    {
     "data": {
      "text/plain": [
       "0   2000-01-01\n",
       "1   2000-01-02\n",
       "2   2000-01-03\n",
       "dtype: datetime64[ns]"
      ]
     },
     "execution_count": 9,
     "metadata": {},
     "output_type": "execute_result"
    }
   ],
   "source": [
    "pd.Series(pd.date_range('2000-01-01', periods=3))"
   ]
  },
  {
   "cell_type": "code",
   "execution_count": 16,
   "id": "3c814290-6f89-4358-adfe-8f54cccd00a5",
   "metadata": {},
   "outputs": [
    {
     "data": {
      "text/plain": [
       "0    2000-01-01\n",
       "1    2000-01-02\n",
       "2    2000-01-03\n",
       "dtype: period[D]"
      ]
     },
     "execution_count": 16,
     "metadata": {},
     "output_type": "execute_result"
    }
   ],
   "source": [
    "pd.Series(pd.period_range('2000-01-01', periods=3, freq='D'))"
   ]
  },
  {
   "cell_type": "code",
   "execution_count": 20,
   "id": "86f1d68c-8978-489c-a75f-72c1f7df0bff",
   "metadata": {},
   "outputs": [
    {
     "data": {
      "text/plain": [
       "0         <DateOffset>\n",
       "1    <2 * DateOffsets>\n",
       "dtype: object"
      ]
     },
     "execution_count": 20,
     "metadata": {},
     "output_type": "execute_result"
    }
   ],
   "source": [
    "pd.Series([pd.DateOffset(), pd.DateOffset(2)])"
   ]
  },
  {
   "cell_type": "code",
   "execution_count": 21,
   "id": "87933d0c-3d90-48ea-94fc-3aedeb023499",
   "metadata": {},
   "outputs": [
    {
     "data": {
      "text/plain": [
       "0   2011-01-31\n",
       "1   2011-02-28\n",
       "2   2011-03-31\n",
       "dtype: datetime64[ns]"
      ]
     },
     "execution_count": 21,
     "metadata": {},
     "output_type": "execute_result"
    }
   ],
   "source": [
    "pd.Series(pd.date_range('2011-01-01', periods=3, freq='M'))"
   ]
  },
  {
   "cell_type": "code",
   "execution_count": 34,
   "id": "d8f92d08-c082-495a-9df7-0c5af18d341e",
   "metadata": {},
   "outputs": [
    {
     "data": {
      "text/plain": [
       "2012-05-01   -0.307234\n",
       "2012-05-02   -0.062421\n",
       "2012-05-03    0.258522\n",
       "dtype: float64"
      ]
     },
     "execution_count": 34,
     "metadata": {},
     "output_type": "execute_result"
    }
   ],
   "source": [
    "ts = pd.Series(np.random.randn(3), index=[pd.Timestamp('2012-05-01'), pd.Timestamp('2012-05-02'), pd.Timestamp('2012-05-03')])\n",
    "ts"
   ]
  },
  {
   "cell_type": "code",
   "execution_count": 35,
   "id": "02dde217-9322-447b-880b-ade33be90dbd",
   "metadata": {},
   "outputs": [
    {
     "data": {
      "text/plain": [
       "2012-01    0.417909\n",
       "2012-02    1.202644\n",
       "2012-03    0.453541\n",
       "Freq: M, dtype: float64"
      ]
     },
     "execution_count": 35,
     "metadata": {},
     "output_type": "execute_result"
    }
   ],
   "source": [
    "ts1 = pd.Series(np.random.randn(3), index=pd.period_range('2012-01', periods=3, freq='M'))\n",
    "ts1"
   ]
  },
  {
   "cell_type": "code",
   "execution_count": 36,
   "id": "c3465353-f6ef-4ba6-9bd7-1dccd3778cd3",
   "metadata": {},
   "outputs": [
    {
     "data": {
      "text/plain": [
       "PeriodIndex(['2012-01', '2012-02', '2012-03'], dtype='period[M]')"
      ]
     },
     "execution_count": 36,
     "metadata": {},
     "output_type": "execute_result"
    }
   ],
   "source": [
    "ts1.index"
   ]
  },
  {
   "cell_type": "code",
   "execution_count": 37,
   "id": "6ea51daf-db7a-439e-bace-a0211be40256",
   "metadata": {},
   "outputs": [
    {
     "data": {
      "text/plain": [
       "DatetimeIndex(['2012-05-01', '2012-05-02', '2012-05-03'], dtype='datetime64[ns]', freq=None)"
      ]
     },
     "execution_count": 37,
     "metadata": {},
     "output_type": "execute_result"
    }
   ],
   "source": [
    "ts.index"
   ]
  },
  {
   "cell_type": "code",
   "execution_count": 44,
   "id": "55c63015-36fd-4103-bf71-d66207b668fa",
   "metadata": {},
   "outputs": [],
   "source": [
    "s = pd.to_datetime(['14-11-2021', '11-14-2021'], dayfirst=True)"
   ]
  },
  {
   "cell_type": "code",
   "execution_count": 42,
   "id": "de3ff727-3a54-434c-9c16-31d1238b0a05",
   "metadata": {},
   "outputs": [
    {
     "data": {
      "text/plain": [
       "Timestamp('2021-11-15 00:00:00')"
      ]
     },
     "execution_count": 42,
     "metadata": {},
     "output_type": "execute_result"
    }
   ],
   "source": [
    "div = pd.to_datetime('2021-11-15')\n",
    "div"
   ]
  },
  {
   "cell_type": "code",
   "execution_count": 45,
   "id": "e38770e4-8444-43d0-8c56-15b74b61c3c8",
   "metadata": {},
   "outputs": [
    {
     "data": {
      "text/plain": [
       "TimedeltaIndex(['-1 days', '-1 days'], dtype='timedelta64[ns]', freq=None)"
      ]
     },
     "execution_count": 45,
     "metadata": {},
     "output_type": "execute_result"
    }
   ],
   "source": [
    "s - div"
   ]
  },
  {
   "cell_type": "code",
   "execution_count": 47,
   "id": "495cfb46-005d-4c18-8898-bbd9a3b82e2d",
   "metadata": {},
   "outputs": [
    {
     "data": {
      "text/plain": [
       "Timestamp('2010-11-12 00:00:00')"
      ]
     },
     "execution_count": 47,
     "metadata": {},
     "output_type": "execute_result"
    }
   ],
   "source": [
    "pd.to_datetime('2010/11/12', format='%Y/%m/%d')"
   ]
  },
  {
   "cell_type": "code",
   "execution_count": 52,
   "id": "24d4b20d-0a55-42d3-9e42-32ccd3a2c2ac",
   "metadata": {},
   "outputs": [
    {
     "data": {
      "text/plain": [
       "Timestamp('2010-11-12 00:00:00')"
      ]
     },
     "execution_count": 52,
     "metadata": {},
     "output_type": "execute_result"
    }
   ],
   "source": [
    "pd.to_datetime('12-11-2010 00:00', format='%d-%m-%Y %H:%M')"
   ]
  },
  {
   "cell_type": "code",
   "execution_count": 53,
   "id": "9327eddc-8afb-4005-b921-38810e967c59",
   "metadata": {},
   "outputs": [
    {
     "data": {
      "text/plain": [
       "DatetimeIndex(['2012-10-08 18:15:05', '2012-10-09 18:15:05',\n",
       "               '2012-10-10 18:15:05', '2012-10-11 18:15:05',\n",
       "               '2012-10-12 18:15:05'],\n",
       "              dtype='datetime64[ns]', freq=None)"
      ]
     },
     "execution_count": 53,
     "metadata": {},
     "output_type": "execute_result"
    }
   ],
   "source": [
    "pd.to_datetime([1349720105, 1349806505, 1349892905, 1349979305, 1350065705], unit=\"s\")"
   ]
  },
  {
   "cell_type": "code",
   "execution_count": 54,
   "id": "9244f0cc-6d0a-487a-9232-7fe3acda3405",
   "metadata": {},
   "outputs": [
    {
     "data": {
      "text/plain": [
       "DatetimeIndex(['1970-01-16 14:55:20.105000', '1970-01-16 14:56:46.505000',\n",
       "               '1970-01-16 14:58:12.905000', '1970-01-16 14:59:39.305000',\n",
       "               '1970-01-16 15:01:05.705000'],\n",
       "              dtype='datetime64[ns]', freq=None)"
      ]
     },
     "execution_count": 54,
     "metadata": {},
     "output_type": "execute_result"
    }
   ],
   "source": [
    "pd.to_datetime([1349720105, 1349806505, 1349892905, 1349979305, 1350065705], unit=\"ms\")"
   ]
  },
  {
   "cell_type": "code",
   "execution_count": 57,
   "id": "08a0d6ed-e512-4215-bd3a-294f899d705c",
   "metadata": {},
   "outputs": [
    {
     "data": {
      "text/plain": [
       "Timestamp('2009-09-07 18:13:20-0700', tz='US/Pacific')"
      ]
     },
     "execution_count": 57,
     "metadata": {},
     "output_type": "execute_result"
    }
   ],
   "source": [
    "pd.Timestamp(1252347200000000000).tz_localize('US/Pacific')"
   ]
  },
  {
   "cell_type": "code",
   "execution_count": 58,
   "id": "4327620d-0859-491e-94d4-28e738126964",
   "metadata": {},
   "outputs": [
    {
     "data": {
      "text/plain": [
       "Timestamp('2009-09-07 18:13:20-0700', tz='US/Pacific')"
      ]
     },
     "execution_count": 58,
     "metadata": {},
     "output_type": "execute_result"
    }
   ],
   "source": [
    "pd.to_datetime(1252347200000000000).tz_localize('US/Pacific')"
   ]
  },
  {
   "cell_type": "code",
   "execution_count": 60,
   "id": "94f32cf0-59bb-4c90-af81-53c742689c62",
   "metadata": {},
   "outputs": [
    {
     "data": {
      "text/plain": [
       "DatetimeIndex(['2012-10-08 18:15:05', '2012-10-09 18:15:05',\n",
       "               '2012-10-10 18:15:05', '2012-10-11 18:15:05'],\n",
       "              dtype='datetime64[ns]', freq='D')"
      ]
     },
     "execution_count": 60,
     "metadata": {},
     "output_type": "execute_result"
    }
   ],
   "source": [
    "stamps = pd.date_range('2012-10-08 18:15:05', periods=4, freq='D')\n",
    "stamps"
   ]
  },
  {
   "cell_type": "code",
   "execution_count": 61,
   "id": "75a419ee-aedb-41bb-bbe9-6e6ffffdd1b9",
   "metadata": {},
   "outputs": [
    {
     "data": {
      "text/plain": [
       "Int64Index([1349720105, 1349806505, 1349892905, 1349979305], dtype='int64')"
      ]
     },
     "execution_count": 61,
     "metadata": {},
     "output_type": "execute_result"
    }
   ],
   "source": [
    "(stamps - pd.Timestamp('1970-01-01')) // pd.Timedelta('1s')"
   ]
  },
  {
   "cell_type": "code",
   "execution_count": 62,
   "id": "1f2a7ad6-acfd-405b-b804-67ccd6858fd7",
   "metadata": {},
   "outputs": [
    {
     "data": {
      "text/plain": [
       "TimedeltaIndex(['15621 days 18:15:05', '15622 days 18:15:05',\n",
       "                '15623 days 18:15:05', '15624 days 18:15:05'],\n",
       "               dtype='timedelta64[ns]', freq=None)"
      ]
     },
     "execution_count": 62,
     "metadata": {},
     "output_type": "execute_result"
    }
   ],
   "source": [
    "(stamps - pd.Timestamp('1970-01-01'))"
   ]
  },
  {
   "cell_type": "code",
   "execution_count": 80,
   "id": "6070f4a2-a65c-4a8d-8fc8-d27a394d560b",
   "metadata": {},
   "outputs": [
    {
     "data": {
      "text/plain": [
       "DatetimeIndex(['2001-01-01', '2001-01-02', '2001-01-03'], dtype='datetime64[ns]', freq=None)"
      ]
     },
     "execution_count": 80,
     "metadata": {},
     "output_type": "execute_result"
    }
   ],
   "source": [
    "pd.to_datetime([1,2,3], unit='D', origin=pd.Timestamp('2000-12-31'))"
   ]
  },
  {
   "cell_type": "code",
   "execution_count": 81,
   "id": "1379929d-1c56-4f7d-861d-d84a8983b0ea",
   "metadata": {},
   "outputs": [],
   "source": [
    "start = datetime.datetime(2011, 1, 1)\n",
    "end = datetime.datetime(2012, 1, 1)\n",
    "index = pd.date_range(start, end)\n",
    "index_1 = pd.bdate_range(start, end)"
   ]
  },
  {
   "cell_type": "code",
   "execution_count": 83,
   "id": "de811343-921f-44b5-afeb-a09a1e8ac396",
   "metadata": {},
   "outputs": [
    {
     "data": {
      "text/plain": [
       "366"
      ]
     },
     "execution_count": 83,
     "metadata": {},
     "output_type": "execute_result"
    }
   ],
   "source": [
    "len(index.unique())"
   ]
  },
  {
   "cell_type": "code",
   "execution_count": 84,
   "id": "1e90606b-f107-4195-a838-3b7f5c433b57",
   "metadata": {},
   "outputs": [
    {
     "data": {
      "text/plain": [
       "260"
      ]
     },
     "execution_count": 84,
     "metadata": {},
     "output_type": "execute_result"
    }
   ],
   "source": [
    "len(index_1.unique())"
   ]
  },
  {
   "cell_type": "code",
   "execution_count": 89,
   "id": "171d400c-24ca-4db6-b6d7-9904b4894ed6",
   "metadata": {},
   "outputs": [],
   "source": [
    "weekmask = 'Mon Wed Fri'\n",
    "holidays = [datetime.datetime(2011, 1, 5), datetime.datetime(2011, 3, 14)]\n",
    "s1 = pd.Series(pd.bdate_range(start, end, freq='C', weekmask=weekmask, holidays=holidays))"
   ]
  },
  {
   "cell_type": "code",
   "execution_count": 90,
   "id": "8b4d28bb-f8f0-475a-a3c1-742b928b0948",
   "metadata": {},
   "outputs": [
    {
     "data": {
      "text/plain": [
       "0         Monday\n",
       "1         Friday\n",
       "2         Monday\n",
       "3      Wednesday\n",
       "4         Friday\n",
       "         ...    \n",
       "149    Wednesday\n",
       "150       Friday\n",
       "151       Monday\n",
       "152    Wednesday\n",
       "153       Friday\n",
       "Length: 154, dtype: object"
      ]
     },
     "execution_count": 90,
     "metadata": {},
     "output_type": "execute_result"
    }
   ],
   "source": [
    "s1.dt.day_name()"
   ]
  },
  {
   "cell_type": "code",
   "execution_count": 92,
   "id": "a065582b-5214-4b7a-af27-48a2befba1ba",
   "metadata": {},
   "outputs": [],
   "source": [
    "rng = pd.date_range(start, end, freq='BM')\n",
    "ts = pd.Series(np.random.randn(len(rng)), index=rng)"
   ]
  },
  {
   "cell_type": "code",
   "execution_count": 100,
   "id": "05ea7439-1200-4242-b384-7a0ecfa69bfa",
   "metadata": {},
   "outputs": [
    {
     "data": {
      "text/plain": [
       "-0.6261136391037867"
      ]
     },
     "execution_count": 100,
     "metadata": {},
     "output_type": "execute_result"
    }
   ],
   "source": [
    "ts['4/29/2011']"
   ]
  },
  {
   "cell_type": "code",
   "execution_count": 101,
   "id": "fb31792f-9f0c-4a2f-959d-03f0b4e26629",
   "metadata": {},
   "outputs": [
    {
     "data": {
      "text/plain": [
       "datetime.datetime(2012, 1, 1, 0, 0)"
      ]
     },
     "execution_count": 101,
     "metadata": {},
     "output_type": "execute_result"
    }
   ],
   "source": [
    "end"
   ]
  },
  {
   "cell_type": "code",
   "execution_count": 104,
   "id": "a8263c49-b119-49da-afe6-abf019e16909",
   "metadata": {},
   "outputs": [
    {
     "data": {
      "text/plain": [
       "2011-12-30    0.531169\n",
       "Freq: BM, dtype: float64"
      ]
     },
     "execution_count": 104,
     "metadata": {},
     "output_type": "execute_result"
    }
   ],
   "source": [
    "ts[datetime.datetime(2011, 12, 24):]"
   ]
  },
  {
   "cell_type": "code",
   "execution_count": 107,
   "id": "d11f07f0-7a53-4cde-8f55-9628fac47755",
   "metadata": {},
   "outputs": [
    {
     "data": {
      "text/html": [
       "<div>\n",
       "<style scoped>\n",
       "    .dataframe tbody tr th:only-of-type {\n",
       "        vertical-align: middle;\n",
       "    }\n",
       "\n",
       "    .dataframe tbody tr th {\n",
       "        vertical-align: top;\n",
       "    }\n",
       "\n",
       "    .dataframe thead th {\n",
       "        text-align: right;\n",
       "    }\n",
       "</style>\n",
       "<table border=\"1\" class=\"dataframe\">\n",
       "  <thead>\n",
       "    <tr style=\"text-align: right;\">\n",
       "      <th></th>\n",
       "      <th>A</th>\n",
       "    </tr>\n",
       "  </thead>\n",
       "  <tbody>\n",
       "    <tr>\n",
       "      <th>2013-01-01 00:00:00</th>\n",
       "      <td>0.958292</td>\n",
       "    </tr>\n",
       "    <tr>\n",
       "      <th>2013-01-01 00:01:00</th>\n",
       "      <td>-0.791636</td>\n",
       "    </tr>\n",
       "    <tr>\n",
       "      <th>2013-01-01 00:02:00</th>\n",
       "      <td>-0.793050</td>\n",
       "    </tr>\n",
       "    <tr>\n",
       "      <th>2013-01-01 00:03:00</th>\n",
       "      <td>-0.824582</td>\n",
       "    </tr>\n",
       "    <tr>\n",
       "      <th>2013-01-01 00:04:00</th>\n",
       "      <td>1.037946</td>\n",
       "    </tr>\n",
       "    <tr>\n",
       "      <th>...</th>\n",
       "      <td>...</td>\n",
       "    </tr>\n",
       "    <tr>\n",
       "      <th>2013-02-28 23:55:00</th>\n",
       "      <td>-0.317738</td>\n",
       "    </tr>\n",
       "    <tr>\n",
       "      <th>2013-02-28 23:56:00</th>\n",
       "      <td>0.493543</td>\n",
       "    </tr>\n",
       "    <tr>\n",
       "      <th>2013-02-28 23:57:00</th>\n",
       "      <td>-0.285891</td>\n",
       "    </tr>\n",
       "    <tr>\n",
       "      <th>2013-02-28 23:58:00</th>\n",
       "      <td>-0.237404</td>\n",
       "    </tr>\n",
       "    <tr>\n",
       "      <th>2013-02-28 23:59:00</th>\n",
       "      <td>1.644467</td>\n",
       "    </tr>\n",
       "  </tbody>\n",
       "</table>\n",
       "<p>84960 rows × 1 columns</p>\n",
       "</div>"
      ],
      "text/plain": [
       "                            A\n",
       "2013-01-01 00:00:00  0.958292\n",
       "2013-01-01 00:01:00 -0.791636\n",
       "2013-01-01 00:02:00 -0.793050\n",
       "2013-01-01 00:03:00 -0.824582\n",
       "2013-01-01 00:04:00  1.037946\n",
       "...                       ...\n",
       "2013-02-28 23:55:00 -0.317738\n",
       "2013-02-28 23:56:00  0.493543\n",
       "2013-02-28 23:57:00 -0.285891\n",
       "2013-02-28 23:58:00 -0.237404\n",
       "2013-02-28 23:59:00  1.644467\n",
       "\n",
       "[84960 rows x 1 columns]"
      ]
     },
     "execution_count": 107,
     "metadata": {},
     "output_type": "execute_result"
    }
   ],
   "source": [
    "dft = pd.DataFrame(np.random.randn(100000, 1), columns=['A'], index=pd.date_range('20130101', periods=100000, freq='T'))\n",
    "# dft.loc['2013'] # all rows label included '2013'\n",
    "dft['2013-01': '2013-2']"
   ]
  },
  {
   "cell_type": "code",
   "execution_count": 131,
   "id": "6fec5389-ae6b-4e9b-a74c-aec748bb5434",
   "metadata": {},
   "outputs": [
    {
     "data": {
      "text/html": [
       "<div>\n",
       "<style scoped>\n",
       "    .dataframe tbody tr th:only-of-type {\n",
       "        vertical-align: middle;\n",
       "    }\n",
       "\n",
       "    .dataframe tbody tr th {\n",
       "        vertical-align: top;\n",
       "    }\n",
       "\n",
       "    .dataframe thead th {\n",
       "        text-align: right;\n",
       "    }\n",
       "</style>\n",
       "<table border=\"1\" class=\"dataframe\">\n",
       "  <thead>\n",
       "    <tr style=\"text-align: right;\">\n",
       "      <th></th>\n",
       "      <th></th>\n",
       "      <th>A</th>\n",
       "    </tr>\n",
       "  </thead>\n",
       "  <tbody>\n",
       "    <tr>\n",
       "      <th rowspan=\"2\" valign=\"top\">2013-01-01</th>\n",
       "      <th>a</th>\n",
       "      <td>-0.793421</td>\n",
       "    </tr>\n",
       "    <tr>\n",
       "      <th>b</th>\n",
       "      <td>2.176883</td>\n",
       "    </tr>\n",
       "  </tbody>\n",
       "</table>\n",
       "</div>"
      ],
      "text/plain": [
       "                     A\n",
       "2013-01-01 a -0.793421\n",
       "           b  2.176883"
      ]
     },
     "execution_count": 131,
     "metadata": {},
     "output_type": "execute_result"
    }
   ],
   "source": [
    "dft2 = pd.DataFrame(np.random.randn(20,1), columns=['A'],\n",
    "                    index=pd.MultiIndex.from_product([pd.date_range('20130101', periods=10, freq='12H'), ['a', 'b']]))\n",
    "dft2.head(2)"
   ]
  },
  {
   "cell_type": "code",
   "execution_count": 132,
   "id": "7ba91d58-3314-45c8-8118-2ee35026896d",
   "metadata": {},
   "outputs": [
    {
     "data": {
      "text/html": [
       "<div>\n",
       "<style scoped>\n",
       "    .dataframe tbody tr th:only-of-type {\n",
       "        vertical-align: middle;\n",
       "    }\n",
       "\n",
       "    .dataframe tbody tr th {\n",
       "        vertical-align: top;\n",
       "    }\n",
       "\n",
       "    .dataframe thead th {\n",
       "        text-align: right;\n",
       "    }\n",
       "</style>\n",
       "<table border=\"1\" class=\"dataframe\">\n",
       "  <thead>\n",
       "    <tr style=\"text-align: right;\">\n",
       "      <th></th>\n",
       "      <th></th>\n",
       "      <th>A</th>\n",
       "    </tr>\n",
       "  </thead>\n",
       "  <tbody>\n",
       "    <tr>\n",
       "      <th rowspan=\"3\" valign=\"top\">a</th>\n",
       "      <th>2013-01-01 00:00:00</th>\n",
       "      <td>-0.793421</td>\n",
       "    </tr>\n",
       "    <tr>\n",
       "      <th>2013-01-01 12:00:00</th>\n",
       "      <td>-0.049653</td>\n",
       "    </tr>\n",
       "    <tr>\n",
       "      <th>2013-01-02 00:00:00</th>\n",
       "      <td>-0.516393</td>\n",
       "    </tr>\n",
       "  </tbody>\n",
       "</table>\n",
       "</div>"
      ],
      "text/plain": [
       "                              A\n",
       "a 2013-01-01 00:00:00 -0.793421\n",
       "  2013-01-01 12:00:00 -0.049653\n",
       "  2013-01-02 00:00:00 -0.516393"
      ]
     },
     "execution_count": 132,
     "metadata": {},
     "output_type": "execute_result"
    }
   ],
   "source": [
    "idx = pd.IndexSlice\n",
    "dft3 = dft2.swaplevel(0,1).sort_index()\n",
    "dft3.head(3)"
   ]
  },
  {
   "cell_type": "code",
   "execution_count": 134,
   "id": "c696daae-a41f-4170-aaf2-ded67ddc0360",
   "metadata": {},
   "outputs": [
    {
     "data": {
      "text/html": [
       "<div>\n",
       "<style scoped>\n",
       "    .dataframe tbody tr th:only-of-type {\n",
       "        vertical-align: middle;\n",
       "    }\n",
       "\n",
       "    .dataframe tbody tr th {\n",
       "        vertical-align: top;\n",
       "    }\n",
       "\n",
       "    .dataframe thead th {\n",
       "        text-align: right;\n",
       "    }\n",
       "</style>\n",
       "<table border=\"1\" class=\"dataframe\">\n",
       "  <thead>\n",
       "    <tr style=\"text-align: right;\">\n",
       "      <th></th>\n",
       "      <th>A</th>\n",
       "    </tr>\n",
       "  </thead>\n",
       "  <tbody>\n",
       "    <tr>\n",
       "      <th>2013-01-01 00:00:00</th>\n",
       "      <td>-0.793421</td>\n",
       "    </tr>\n",
       "    <tr>\n",
       "      <th>2013-01-01 12:00:00</th>\n",
       "      <td>-0.049653</td>\n",
       "    </tr>\n",
       "    <tr>\n",
       "      <th>2013-01-02 00:00:00</th>\n",
       "      <td>-0.516393</td>\n",
       "    </tr>\n",
       "    <tr>\n",
       "      <th>2013-01-02 12:00:00</th>\n",
       "      <td>-1.264289</td>\n",
       "    </tr>\n",
       "    <tr>\n",
       "      <th>2013-01-03 00:00:00</th>\n",
       "      <td>-0.995504</td>\n",
       "    </tr>\n",
       "    <tr>\n",
       "      <th>2013-01-03 12:00:00</th>\n",
       "      <td>-0.455159</td>\n",
       "    </tr>\n",
       "    <tr>\n",
       "      <th>2013-01-04 00:00:00</th>\n",
       "      <td>-1.125428</td>\n",
       "    </tr>\n",
       "    <tr>\n",
       "      <th>2013-01-04 12:00:00</th>\n",
       "      <td>-0.547555</td>\n",
       "    </tr>\n",
       "    <tr>\n",
       "      <th>2013-01-05 00:00:00</th>\n",
       "      <td>0.728503</td>\n",
       "    </tr>\n",
       "    <tr>\n",
       "      <th>2013-01-05 12:00:00</th>\n",
       "      <td>-1.593669</td>\n",
       "    </tr>\n",
       "  </tbody>\n",
       "</table>\n",
       "</div>"
      ],
      "text/plain": [
       "                            A\n",
       "2013-01-01 00:00:00 -0.793421\n",
       "2013-01-01 12:00:00 -0.049653\n",
       "2013-01-02 00:00:00 -0.516393\n",
       "2013-01-02 12:00:00 -1.264289\n",
       "2013-01-03 00:00:00 -0.995504\n",
       "2013-01-03 12:00:00 -0.455159\n",
       "2013-01-04 00:00:00 -1.125428\n",
       "2013-01-04 12:00:00 -0.547555\n",
       "2013-01-05 00:00:00  0.728503\n",
       "2013-01-05 12:00:00 -1.593669"
      ]
     },
     "execution_count": 134,
     "metadata": {},
     "output_type": "execute_result"
    }
   ],
   "source": [
    "dft3.loc['a']"
   ]
  },
  {
   "cell_type": "code",
   "execution_count": 136,
   "id": "0f426da0-874a-4470-9220-a2f6281a4546",
   "metadata": {},
   "outputs": [
    {
     "data": {
      "text/html": [
       "<div>\n",
       "<style scoped>\n",
       "    .dataframe tbody tr th:only-of-type {\n",
       "        vertical-align: middle;\n",
       "    }\n",
       "\n",
       "    .dataframe tbody tr th {\n",
       "        vertical-align: top;\n",
       "    }\n",
       "\n",
       "    .dataframe thead th {\n",
       "        text-align: right;\n",
       "    }\n",
       "</style>\n",
       "<table border=\"1\" class=\"dataframe\">\n",
       "  <thead>\n",
       "    <tr style=\"text-align: right;\">\n",
       "      <th></th>\n",
       "      <th></th>\n",
       "      <th>A</th>\n",
       "    </tr>\n",
       "  </thead>\n",
       "  <tbody>\n",
       "    <tr>\n",
       "      <th rowspan=\"2\" valign=\"top\">a</th>\n",
       "      <th>2013-01-05 00:00:00</th>\n",
       "      <td>0.728503</td>\n",
       "    </tr>\n",
       "    <tr>\n",
       "      <th>2013-01-05 12:00:00</th>\n",
       "      <td>-1.593669</td>\n",
       "    </tr>\n",
       "    <tr>\n",
       "      <th rowspan=\"2\" valign=\"top\">b</th>\n",
       "      <th>2013-01-05 00:00:00</th>\n",
       "      <td>-0.712439</td>\n",
       "    </tr>\n",
       "    <tr>\n",
       "      <th>2013-01-05 12:00:00</th>\n",
       "      <td>-1.459130</td>\n",
       "    </tr>\n",
       "  </tbody>\n",
       "</table>\n",
       "</div>"
      ],
      "text/plain": [
       "                              A\n",
       "a 2013-01-05 00:00:00  0.728503\n",
       "  2013-01-05 12:00:00 -1.593669\n",
       "b 2013-01-05 00:00:00 -0.712439\n",
       "  2013-01-05 12:00:00 -1.459130"
      ]
     },
     "execution_count": 136,
     "metadata": {},
     "output_type": "execute_result"
    }
   ],
   "source": [
    "dft3.loc[idx[:,'2013-01-05'], :]"
   ]
  },
  {
   "cell_type": "code",
   "execution_count": 137,
   "id": "ba348c74-917c-4fa3-b48d-40be6b9ed0ec",
   "metadata": {},
   "outputs": [
    {
     "data": {
      "text/plain": [
       "'second'"
      ]
     },
     "execution_count": 137,
     "metadata": {},
     "output_type": "execute_result"
    }
   ],
   "source": [
    "series_second = pd.Series([1,2,3], index=pd.DatetimeIndex(['2011-12-31 23:59:59', '2012-01-01 00:00:00', '2012-01-01 00:00:01']))\n",
    "series_second.index.resolution # second"
   ]
  },
  {
   "cell_type": "code",
   "execution_count": 138,
   "id": "c2c7a257-da04-41d4-b043-8fbdac923c3e",
   "metadata": {},
   "outputs": [
    {
     "data": {
      "text/plain": [
       "2011-12-31 23:59:59    1\n",
       "dtype: int64"
      ]
     },
     "execution_count": 138,
     "metadata": {},
     "output_type": "execute_result"
    }
   ],
   "source": [
    "series_second['2011-12-31 23:59'] # Series"
   ]
  },
  {
   "cell_type": "code",
   "execution_count": 141,
   "id": "0aac441f-6667-41e4-a302-f15d6fbc5213",
   "metadata": {},
   "outputs": [
    {
     "data": {
      "text/plain": [
       "1"
      ]
     },
     "execution_count": 141,
     "metadata": {},
     "output_type": "execute_result"
    }
   ],
   "source": [
    "series_second['2011-12-31 23:59:59'] # scalar"
   ]
  },
  {
   "cell_type": "code",
   "execution_count": 146,
   "id": "ae5ac2a5-5369-4833-b06d-8a2e836d084f",
   "metadata": {},
   "outputs": [
    {
     "data": {
      "text/html": [
       "<div>\n",
       "<style scoped>\n",
       "    .dataframe tbody tr th:only-of-type {\n",
       "        vertical-align: middle;\n",
       "    }\n",
       "\n",
       "    .dataframe tbody tr th {\n",
       "        vertical-align: top;\n",
       "    }\n",
       "\n",
       "    .dataframe thead th {\n",
       "        text-align: right;\n",
       "    }\n",
       "</style>\n",
       "<table border=\"1\" class=\"dataframe\">\n",
       "  <thead>\n",
       "    <tr style=\"text-align: right;\">\n",
       "      <th></th>\n",
       "      <th>a</th>\n",
       "      <th>b</th>\n",
       "    </tr>\n",
       "  </thead>\n",
       "  <tbody>\n",
       "    <tr>\n",
       "      <th>2011-12-31 23:59:59</th>\n",
       "      <td>1</td>\n",
       "      <td>4</td>\n",
       "    </tr>\n",
       "    <tr>\n",
       "      <th>2012-01-01 00:00:00</th>\n",
       "      <td>2</td>\n",
       "      <td>5</td>\n",
       "    </tr>\n",
       "    <tr>\n",
       "      <th>2012-01-01 00:00:01</th>\n",
       "      <td>3</td>\n",
       "      <td>6</td>\n",
       "    </tr>\n",
       "  </tbody>\n",
       "</table>\n",
       "</div>"
      ],
      "text/plain": [
       "                     a  b\n",
       "2011-12-31 23:59:59  1  4\n",
       "2012-01-01 00:00:00  2  5\n",
       "2012-01-01 00:00:01  3  6"
      ]
     },
     "execution_count": 146,
     "metadata": {},
     "output_type": "execute_result"
    }
   ],
   "source": [
    "df1 = pd.DataFrame({'a': [1,2,3], 'b': [4,5,6]}, index=series_second.index)\n",
    "df1"
   ]
  },
  {
   "cell_type": "code",
   "execution_count": 148,
   "id": "a075d98f-f798-4bf1-8b5a-acae0c962650",
   "metadata": {},
   "outputs": [
    {
     "data": {
      "text/plain": [
       "2011-12-01    1\n",
       "2012-01-01    2\n",
       "2012-02-01    3\n",
       "dtype: int64"
      ]
     },
     "execution_count": 148,
     "metadata": {},
     "output_type": "execute_result"
    }
   ],
   "source": [
    "series_monthly = pd.Series([1,2,3], pd.DatetimeIndex(['2011-12', '2012-01', '2012-02']))\n",
    "series_monthly.index.resolution\n",
    "series_monthly"
   ]
  },
  {
   "cell_type": "code",
   "execution_count": 150,
   "id": "10ab6581-c5ef-46cf-aa80-4dfe000b9079",
   "metadata": {},
   "outputs": [
    {
     "data": {
      "text/plain": [
       "1"
      ]
     },
     "execution_count": 150,
     "metadata": {},
     "output_type": "execute_result"
    }
   ],
   "source": [
    "series_monthly['2011-12-01'] # return Series"
   ]
  },
  {
   "cell_type": "code",
   "execution_count": 2,
   "id": "66467691-0916-4646-81f1-d04fb6e635f8",
   "metadata": {},
   "outputs": [],
   "source": [
    "import numpy as np\n",
    "import pandas as pd\n",
    "import datetime"
   ]
  },
  {
   "cell_type": "code",
   "execution_count": 25,
   "id": "e00fd8af-3c5d-41c6-b122-5910d5fbc383",
   "metadata": {},
   "outputs": [],
   "source": [
    "rng2 = pd.date_range(\"2011-01-01\", periods=1000)\n",
    "ts2 = pd.DataFrame(np.random.randn(len(rng2)), index=rng2)"
   ]
  },
  {
   "cell_type": "code",
   "execution_count": 26,
   "id": "e47e02bb-d5ce-4fbb-8a3c-232d6d32f3be",
   "metadata": {},
   "outputs": [
    {
     "data": {
      "text/plain": [
       "DatetimeIndex(['2011-01-01', '2011-01-02', '2011-01-03', '2011-01-04',\n",
       "               '2011-01-05', '2011-01-06', '2011-01-07', '2011-01-08',\n",
       "               '2011-01-09', '2011-01-10',\n",
       "               ...\n",
       "               '2013-09-17', '2013-09-18', '2013-09-19', '2013-09-20',\n",
       "               '2013-09-21', '2013-09-22', '2013-09-23', '2013-09-24',\n",
       "               '2013-09-25', '2013-09-26'],\n",
       "              dtype='datetime64[ns]', length=1000, freq='D')"
      ]
     },
     "execution_count": 26,
     "metadata": {},
     "output_type": "execute_result"
    }
   ],
   "source": [
    "ts2.index"
   ]
  },
  {
   "cell_type": "code",
   "execution_count": 28,
   "id": "43ca78c3-5f62-49a3-9224-02a0adc7f6ad",
   "metadata": {},
   "outputs": [],
   "source": [
    "ts2['day_in_month'] = ts2.index.days_in_month"
   ]
  },
  {
   "cell_type": "code",
   "execution_count": 29,
   "id": "f3b31c4d-b15f-42ad-9bc0-6bb057ae2912",
   "metadata": {},
   "outputs": [
    {
     "data": {
      "text/html": [
       "<div>\n",
       "<style scoped>\n",
       "    .dataframe tbody tr th:only-of-type {\n",
       "        vertical-align: middle;\n",
       "    }\n",
       "\n",
       "    .dataframe tbody tr th {\n",
       "        vertical-align: top;\n",
       "    }\n",
       "\n",
       "    .dataframe thead th {\n",
       "        text-align: right;\n",
       "    }\n",
       "</style>\n",
       "<table border=\"1\" class=\"dataframe\">\n",
       "  <thead>\n",
       "    <tr style=\"text-align: right;\">\n",
       "      <th></th>\n",
       "      <th>0</th>\n",
       "      <th>day_in_month</th>\n",
       "    </tr>\n",
       "  </thead>\n",
       "  <tbody>\n",
       "    <tr>\n",
       "      <th>2011-01-01</th>\n",
       "      <td>-0.047819</td>\n",
       "      <td>31</td>\n",
       "    </tr>\n",
       "    <tr>\n",
       "      <th>2011-01-02</th>\n",
       "      <td>0.503091</td>\n",
       "      <td>31</td>\n",
       "    </tr>\n",
       "    <tr>\n",
       "      <th>2011-01-03</th>\n",
       "      <td>0.631736</td>\n",
       "      <td>31</td>\n",
       "    </tr>\n",
       "    <tr>\n",
       "      <th>2011-01-04</th>\n",
       "      <td>-0.380339</td>\n",
       "      <td>31</td>\n",
       "    </tr>\n",
       "    <tr>\n",
       "      <th>2011-01-05</th>\n",
       "      <td>-0.157527</td>\n",
       "      <td>31</td>\n",
       "    </tr>\n",
       "    <tr>\n",
       "      <th>...</th>\n",
       "      <td>...</td>\n",
       "      <td>...</td>\n",
       "    </tr>\n",
       "    <tr>\n",
       "      <th>2013-09-22</th>\n",
       "      <td>-0.459790</td>\n",
       "      <td>30</td>\n",
       "    </tr>\n",
       "    <tr>\n",
       "      <th>2013-09-23</th>\n",
       "      <td>1.118003</td>\n",
       "      <td>30</td>\n",
       "    </tr>\n",
       "    <tr>\n",
       "      <th>2013-09-24</th>\n",
       "      <td>-1.108981</td>\n",
       "      <td>30</td>\n",
       "    </tr>\n",
       "    <tr>\n",
       "      <th>2013-09-25</th>\n",
       "      <td>-0.021773</td>\n",
       "      <td>30</td>\n",
       "    </tr>\n",
       "    <tr>\n",
       "      <th>2013-09-26</th>\n",
       "      <td>0.229330</td>\n",
       "      <td>30</td>\n",
       "    </tr>\n",
       "  </tbody>\n",
       "</table>\n",
       "<p>1000 rows × 2 columns</p>\n",
       "</div>"
      ],
      "text/plain": [
       "                   0  day_in_month\n",
       "2011-01-01 -0.047819            31\n",
       "2011-01-02  0.503091            31\n",
       "2011-01-03  0.631736            31\n",
       "2011-01-04 -0.380339            31\n",
       "2011-01-05 -0.157527            31\n",
       "...              ...           ...\n",
       "2013-09-22 -0.459790            30\n",
       "2013-09-23  1.118003            30\n",
       "2013-09-24 -1.108981            30\n",
       "2013-09-25 -0.021773            30\n",
       "2013-09-26  0.229330            30\n",
       "\n",
       "[1000 rows x 2 columns]"
      ]
     },
     "execution_count": 29,
     "metadata": {},
     "output_type": "execute_result"
    }
   ],
   "source": [
    "ts2"
   ]
  },
  {
   "cell_type": "code",
   "execution_count": 30,
   "id": "92f01e14-e8c5-4ce0-9dd6-53ace68e7a24",
   "metadata": {},
   "outputs": [
    {
     "data": {
      "text/plain": [
       "Timestamp('2016-10-30 00:00:00+0300', tz='Europe/Helsinki')"
      ]
     },
     "execution_count": 30,
     "metadata": {},
     "output_type": "execute_result"
    }
   ],
   "source": [
    "ts = pd.Timestamp('2016-10-30 00:00:00', tz='Europe/Helsinki')\n",
    "ts"
   ]
  },
  {
   "cell_type": "code",
   "execution_count": 31,
   "id": "75a81872-f47e-4c2d-84d5-ad6a8b600033",
   "metadata": {},
   "outputs": [
    {
     "data": {
      "text/plain": [
       "Timestamp('2016-10-30 23:00:00+0200', tz='Europe/Helsinki')"
      ]
     },
     "execution_count": 31,
     "metadata": {},
     "output_type": "execute_result"
    }
   ],
   "source": [
    "ts + pd.Timedelta('1 day') # days=1"
   ]
  },
  {
   "cell_type": "code",
   "execution_count": 32,
   "id": "a51297ce-adcd-4446-bd3c-e97ca6e72018",
   "metadata": {},
   "outputs": [
    {
     "data": {
      "text/plain": [
       "Timestamp('2016-10-31 00:00:00+0200', tz='Europe/Helsinki')"
      ]
     },
     "execution_count": 32,
     "metadata": {},
     "output_type": "execute_result"
    }
   ],
   "source": [
    "ts + pd.DateOffset(days=1)"
   ]
  },
  {
   "cell_type": "code",
   "execution_count": 33,
   "id": "32b78144-bba4-4fd0-846f-28597a97a0cd",
   "metadata": {},
   "outputs": [
    {
     "data": {
      "text/plain": [
       "'Friday'"
      ]
     },
     "execution_count": 33,
     "metadata": {},
     "output_type": "execute_result"
    }
   ],
   "source": [
    "friday = pd.Timestamp('2018-01-05')\n",
    "friday.day_name()"
   ]
  },
  {
   "cell_type": "code",
   "execution_count": 36,
   "id": "7bb30070-5f32-45dd-8597-0f8e631baefa",
   "metadata": {},
   "outputs": [
    {
     "data": {
      "text/plain": [
       "'Tuesday'"
      ]
     },
     "execution_count": 36,
     "metadata": {},
     "output_type": "execute_result"
    }
   ],
   "source": [
    "two_business_days = 2 * pd.offsets.BDay()\n",
    "two_business_days.apply(friday).day_name()"
   ]
  },
  {
   "cell_type": "code",
   "execution_count": 35,
   "id": "dee744ee-ef54-409e-9b6b-af94c3d20b77",
   "metadata": {},
   "outputs": [
    {
     "data": {
      "text/plain": [
       "'Tuesday'"
      ]
     },
     "execution_count": 35,
     "metadata": {},
     "output_type": "execute_result"
    }
   ],
   "source": [
    "(friday + two_business_days).day_name()"
   ]
  },
  {
   "cell_type": "code",
   "execution_count": 40,
   "id": "f6bb655e-3589-4b38-ad14-9acdfa0568c9",
   "metadata": {},
   "outputs": [
    {
     "name": "stdout",
     "output_type": "stream",
     "text": [
      "<table border=\"1\" class=\"dataframe\">\n",
      "  <thead>\n",
      "    <tr style=\"text-align: right;\">\n",
      "      <th>Date Offset</th>\n",
      "      <th>Frequency String</th>\n",
      "      <th>Description</th>\n",
      "    </tr>\n",
      "  </thead>\n",
      "  <tbody>\n",
      "    <tr>\n",
      "      <td>DateOffset</td>\n",
      "      <td>None</td>\n",
      "      <td>Generic offset class, defaults to absolute 24 hours</td>\n",
      "    </tr>\n",
      "    <tr>\n",
      "      <td>BDay or BusinessDay</td>\n",
      "      <td>'B'</td>\n",
      "      <td>business day (weekday)</td>\n",
      "    </tr>\n",
      "    <tr>\n",
      "      <td>CDay or CustomBusinessDay</td>\n",
      "      <td>'C'</td>\n",
      "      <td>custom business day</td>\n",
      "    </tr>\n",
      "    <tr>\n",
      "      <td>Week</td>\n",
      "      <td>'W'</td>\n",
      "      <td>one week, optionally anchored on a day of the week</td>\n",
      "    </tr>\n",
      "    <tr>\n",
      "      <td>WeekOfMonth</td>\n",
      "      <td>'WOM'</td>\n",
      "      <td>the x-th day of the y-th week of each month</td>\n",
      "    </tr>\n",
      "    <tr>\n",
      "      <td>LastWeekOfMonth</td>\n",
      "      <td>'LWOM'</td>\n",
      "      <td>the x-th day of the last week of each month</td>\n",
      "    </tr>\n",
      "    <tr>\n",
      "      <td>MonthEnd</td>\n",
      "      <td>'M'</td>\n",
      "      <td>calendar month end</td>\n",
      "    </tr>\n",
      "    <tr>\n",
      "      <td>MonthBegin</td>\n",
      "      <td>'MS'</td>\n",
      "      <td>calendar month begin</td>\n",
      "    </tr>\n",
      "    <tr>\n",
      "      <td>BMonthEnd or BusinessMonthEnd</td>\n",
      "      <td>'BM'</td>\n",
      "      <td>business month end</td>\n",
      "    </tr>\n",
      "    <tr>\n",
      "      <td>BMonthBegin or BusinessMonthBegin</td>\n",
      "      <td>'BMS'</td>\n",
      "      <td>business month begin</td>\n",
      "    </tr>\n",
      "    <tr>\n",
      "      <td>CBMonthEnd or CustomBusinessMonthEnd</td>\n",
      "      <td>'CBM'</td>\n",
      "      <td>custom business month end</td>\n",
      "    </tr>\n",
      "    <tr>\n",
      "      <td>CBMonthBegin or CustomBusinessMonthBegin</td>\n",
      "      <td>'CBMS'</td>\n",
      "      <td>custom business month begin</td>\n",
      "    </tr>\n",
      "    <tr>\n",
      "      <td>SemiMonthEnd</td>\n",
      "      <td>'SM'</td>\n",
      "      <td>15th (or other day_of_month) and calendar month end</td>\n",
      "    </tr>\n",
      "    <tr>\n",
      "      <td>SemiMonthBegin</td>\n",
      "      <td>'SMS'</td>\n",
      "      <td>15th (or other day_of_month) and calendar month begin</td>\n",
      "    </tr>\n",
      "    <tr>\n",
      "      <td>QuarterEnd</td>\n",
      "      <td>'Q'</td>\n",
      "      <td>calendar quarter end</td>\n",
      "    </tr>\n",
      "    <tr>\n",
      "      <td>QuarterBegin</td>\n",
      "      <td>'QS'</td>\n",
      "      <td>calendar quarter begin</td>\n",
      "    </tr>\n",
      "    <tr>\n",
      "      <td>BQuarterEnd</td>\n",
      "      <td>'BQ</td>\n",
      "      <td>business quarter end</td>\n",
      "    </tr>\n",
      "    <tr>\n",
      "      <td>BQuarterBegin</td>\n",
      "      <td>'BQS'</td>\n",
      "      <td>business quarter begin</td>\n",
      "    </tr>\n",
      "    <tr>\n",
      "      <td>FY5253Quarter</td>\n",
      "      <td>'REQ'</td>\n",
      "      <td>retail (aka 52-53 week) quarter</td>\n",
      "    </tr>\n",
      "    <tr>\n",
      "      <td>YearEnd</td>\n",
      "      <td>'A'</td>\n",
      "      <td>calendar year end</td>\n",
      "    </tr>\n",
      "    <tr>\n",
      "      <td>YearBegin</td>\n",
      "      <td>'AS' or 'BYS'</td>\n",
      "      <td>calendar year begin</td>\n",
      "    </tr>\n",
      "    <tr>\n",
      "      <td>BYearEnd</td>\n",
      "      <td>'BA'</td>\n",
      "      <td>business year end</td>\n",
      "    </tr>\n",
      "    <tr>\n",
      "      <td>BYearBegin</td>\n",
      "      <td>'BAS'</td>\n",
      "      <td>business year begin</td>\n",
      "    </tr>\n",
      "    <tr>\n",
      "      <td>FY5253</td>\n",
      "      <td>'RE'</td>\n",
      "      <td>retail (aka 52-53 week) year</td>\n",
      "    </tr>\n",
      "    <tr>\n",
      "      <td>Easter</td>\n",
      "      <td>None</td>\n",
      "      <td>Easter holiday</td>\n",
      "    </tr>\n",
      "    <tr>\n",
      "      <td>BusinessHour</td>\n",
      "      <td>'BH'</td>\n",
      "      <td>business hour</td>\n",
      "    </tr>\n",
      "    <tr>\n",
      "      <td>CustomBusinessHour</td>\n",
      "      <td>'CBH'</td>\n",
      "      <td>custom business hour</td>\n",
      "    </tr>\n",
      "    <tr>\n",
      "      <td>Day</td>\n",
      "      <td>'D'</td>\n",
      "      <td>one absolute day</td>\n",
      "    </tr>\n",
      "    <tr>\n",
      "      <td>Hour</td>\n",
      "      <td>'H'</td>\n",
      "      <td>one hour</td>\n",
      "    </tr>\n",
      "    <tr>\n",
      "      <td>Minute</td>\n",
      "      <td>'T' or 'min'</td>\n",
      "      <td>one minute</td>\n",
      "    </tr>\n",
      "    <tr>\n",
      "      <td>Second</td>\n",
      "      <td>'S'</td>\n",
      "      <td>one second</td>\n",
      "    </tr>\n",
      "    <tr>\n",
      "      <td>Milli</td>\n",
      "      <td>'L' or 'ms'</td>\n",
      "      <td>one millisecond</td>\n",
      "    </tr>\n",
      "    <tr>\n",
      "      <td>Micro</td>\n",
      "      <td>'U' or 'us'</td>\n",
      "      <td>one microsecond</td>\n",
      "    </tr>\n",
      "    <tr>\n",
      "      <td>Nano</td>\n",
      "      <td>'N'</td>\n",
      "      <td>one nanosecond</td>\n",
      "    </tr>\n",
      "  </tbody>\n",
      "</table>\n"
     ]
    }
   ],
   "source": [
    "table = pd.read_html('https://pandas.pydata.org/docs/user_guide/timeseries.html')\n",
    "print(table[2].to_html(index=False))"
   ]
  },
  {
   "cell_type": "code",
   "execution_count": 41,
   "id": "3e7792ac-ac0c-4e2b-a2e7-be51c97c045d",
   "metadata": {},
   "outputs": [
    {
     "data": {
      "text/plain": [
       "'Saturday'"
      ]
     },
     "execution_count": 41,
     "metadata": {},
     "output_type": "execute_result"
    }
   ],
   "source": [
    "ts = pd.Timestamp('2018-01-06 00:00:00')\n",
    "ts.day_name()"
   ]
  },
  {
   "cell_type": "code",
   "execution_count": 42,
   "id": "620c7ed0-d56b-432d-aa5d-73f5502dddd1",
   "metadata": {},
   "outputs": [
    {
     "data": {
      "text/plain": [
       "Timestamp('2018-01-08 09:00:00')"
      ]
     },
     "execution_count": 42,
     "metadata": {},
     "output_type": "execute_result"
    }
   ],
   "source": [
    "offset = pd.offsets.BusinessHour(start='09:00')\n",
    "offset.rollforward(ts)"
   ]
  },
  {
   "cell_type": "code",
   "execution_count": 43,
   "id": "b4fe9e0f-006a-4cc6-9be4-6dc6016fb5ff",
   "metadata": {},
   "outputs": [
    {
     "data": {
      "text/plain": [
       "Timestamp('2018-01-08 10:00:00')"
      ]
     },
     "execution_count": 43,
     "metadata": {},
     "output_type": "execute_result"
    }
   ],
   "source": [
    "ts + offset"
   ]
  },
  {
   "cell_type": "code",
   "execution_count": 44,
   "id": "0146647d-d50b-4bb0-a661-cf4458f91287",
   "metadata": {},
   "outputs": [
    {
     "data": {
      "text/plain": [
       "<CustomBusinessDay>"
      ]
     },
     "execution_count": 44,
     "metadata": {},
     "output_type": "execute_result"
    }
   ],
   "source": [
    "weekmask_egypt = 'Sun Mon Tue Wed Thu'\n",
    "holidays = ['2012-05-01', datetime.datetime(2013, 5, 1), np.datetime64('2014-05-01')]\n",
    "bday_egypt = pd.offsets.CustomBusinessDay(holidays=holidays, weekmask=weekmask_egypt)\n",
    "bday_egypt"
   ]
  },
  {
   "cell_type": "code",
   "execution_count": 45,
   "id": "6f049b56-0d75-452e-9494-71d3d068f252",
   "metadata": {},
   "outputs": [
    {
     "data": {
      "text/plain": [
       "Timestamp('2013-05-05 00:00:00')"
      ]
     },
     "execution_count": 45,
     "metadata": {},
     "output_type": "execute_result"
    }
   ],
   "source": [
    "dt =datetime.datetime(2013, 4, 30)\n",
    "dt + 2*bday_egypt"
   ]
  },
  {
   "cell_type": "code",
   "execution_count": 46,
   "id": "45ad5c2f-e40d-4fb2-848e-f3f80c5dc532",
   "metadata": {},
   "outputs": [
    {
     "data": {
      "text/plain": [
       "'Sunday'"
      ]
     },
     "execution_count": 46,
     "metadata": {},
     "output_type": "execute_result"
    }
   ],
   "source": [
    "(dt + 2*bday_egypt).day_name()"
   ]
  },
  {
   "cell_type": "code",
   "execution_count": 47,
   "id": "56c5a98f-c4e1-4aab-b4bd-a2e46141d8d6",
   "metadata": {},
   "outputs": [
    {
     "data": {
      "text/plain": [
       "Timestamp('2014-01-21 00:00:00')"
      ]
     },
     "execution_count": 47,
     "metadata": {},
     "output_type": "execute_result"
    }
   ],
   "source": [
    "from pandas.tseries.holiday import USFederalHolidayCalendar\n",
    "bday_us = pd.offsets.CustomBusinessDay(calendar=USFederalHolidayCalendar())\n",
    "dt = datetime.datetime(2014, 1, 17)\n",
    "dt + bday_us"
   ]
  },
  {
   "cell_type": "code",
   "execution_count": 48,
   "id": "a7e02146-93e3-4515-8e55-0a9ba1f3ec63",
   "metadata": {},
   "outputs": [
    {
     "data": {
      "text/plain": [
       "Timestamp('2014-01-02 00:00:00')"
      ]
     },
     "execution_count": 48,
     "metadata": {},
     "output_type": "execute_result"
    }
   ],
   "source": [
    "bmth_us = pd.offsets.CustomBusinessMonthBegin(calendar=USFederalHolidayCalendar())\n",
    "dt = datetime.datetime(2013, 12, 17)\n",
    "dt + bmth_us"
   ]
  },
  {
   "cell_type": "code",
   "execution_count": 49,
   "id": "5c44fa81-d2f4-4067-a074-7665d6621b75",
   "metadata": {},
   "outputs": [
    {
     "data": {
      "text/plain": [
       "DatetimeIndex(['2010-01-04', '2010-02-01', '2010-03-01', '2010-04-01',\n",
       "               '2010-05-03', '2010-06-01', '2010-07-01', '2010-08-02',\n",
       "               '2010-09-01', '2010-10-01', '2010-11-01', '2010-12-01',\n",
       "               '2011-01-03', '2011-02-01', '2011-03-01', '2011-04-01',\n",
       "               '2011-05-02', '2011-06-01', '2011-07-01', '2011-08-01',\n",
       "               '2011-09-01', '2011-10-03', '2011-11-01', '2011-12-01'],\n",
       "              dtype='datetime64[ns]', freq='CBMS')"
      ]
     },
     "execution_count": 49,
     "metadata": {},
     "output_type": "execute_result"
    }
   ],
   "source": [
    "pd.date_range('20100101', '20120101', freq=bmth_us)"
   ]
  },
  {
   "cell_type": "code",
   "execution_count": 61,
   "id": "e1bc72d7-4738-4306-b620-1f2355a2c862",
   "metadata": {},
   "outputs": [
    {
     "data": {
      "text/plain": [
       "'Friday'"
      ]
     },
     "execution_count": 61,
     "metadata": {},
     "output_type": "execute_result"
    }
   ],
   "source": [
    "bh = pd.offsets.BusinessHour()\n",
    "pd.Timestamp('2014-08-01 10:00').day_name()"
   ]
  },
  {
   "cell_type": "code",
   "execution_count": 52,
   "id": "1c2f12dc-7906-4235-9b1f-e9e8fab757cf",
   "metadata": {},
   "outputs": [
    {
     "data": {
      "text/plain": [
       "Timestamp('2014-08-01 11:00:00')"
      ]
     },
     "execution_count": 52,
     "metadata": {},
     "output_type": "execute_result"
    }
   ],
   "source": [
    "pd.Timestamp('2014-08-01 10:00') + bh"
   ]
  },
  {
   "cell_type": "code",
   "execution_count": 53,
   "id": "82ea850d-19d3-4fc1-b256-972a4ffd851c",
   "metadata": {},
   "outputs": [
    {
     "data": {
      "text/plain": [
       "Timestamp('2014-08-01 10:00:00')"
      ]
     },
     "execution_count": 53,
     "metadata": {},
     "output_type": "execute_result"
    }
   ],
   "source": [
    "pd.Timestamp('2014-08-01 08:00') + bh"
   ]
  },
  {
   "cell_type": "code",
   "execution_count": 59,
   "id": "db10258d-e574-4aeb-a8a0-afd8535b1a13",
   "metadata": {},
   "outputs": [
    {
     "data": {
      "text/plain": [
       "Timestamp('2014-08-01 16:59:00')"
      ]
     },
     "execution_count": 59,
     "metadata": {},
     "output_type": "execute_result"
    }
   ],
   "source": [
    "pd.Timestamp('2014-08-01 15:59') + bh"
   ]
  },
  {
   "cell_type": "code",
   "execution_count": 60,
   "id": "8a4fc0f5-5451-4383-83c7-f31f8a38233d",
   "metadata": {},
   "outputs": [
    {
     "data": {
      "text/plain": [
       "Timestamp('2014-08-04 09:30:00')"
      ]
     },
     "execution_count": 60,
     "metadata": {},
     "output_type": "execute_result"
    }
   ],
   "source": [
    "pd.Timestamp('2014-08-01 16:30') + bh"
   ]
  },
  {
   "cell_type": "code",
   "execution_count": 62,
   "id": "52832cdf-899f-4350-a744-4e86bd917399",
   "metadata": {},
   "outputs": [
    {
     "data": {
      "text/plain": [
       "Timestamp('2014-08-01 12:00:00')"
      ]
     },
     "execution_count": 62,
     "metadata": {},
     "output_type": "execute_result"
    }
   ],
   "source": [
    "pd.Timestamp('2014-08-01 10:00') + pd.offsets.BusinessHour(2)"
   ]
  },
  {
   "cell_type": "code",
   "execution_count": 63,
   "id": "c1ec7698-1fd6-4ff1-9f3a-62a6f5238bf4",
   "metadata": {},
   "outputs": [
    {
     "data": {
      "text/plain": [
       "Timestamp('2014-07-31 15:00:00')"
      ]
     },
     "execution_count": 63,
     "metadata": {},
     "output_type": "execute_result"
    }
   ],
   "source": [
    "pd.Timestamp('2014-08-01 10:00') + pd.offsets.BusinessHour(-3)"
   ]
  },
  {
   "cell_type": "code",
   "execution_count": 65,
   "id": "cedfa701-8e8c-4be2-84a6-345660dc93e1",
   "metadata": {},
   "outputs": [
    {
     "data": {
      "text/plain": [
       "'Friday'"
      ]
     },
     "execution_count": 65,
     "metadata": {},
     "output_type": "execute_result"
    }
   ],
   "source": [
    "bh = pd.offsets.BusinessHour(start='17:00', end='09:00')\n",
    "pd.Timestamp('2014-08-01 17:00').day_name()"
   ]
  },
  {
   "cell_type": "code",
   "execution_count": null,
   "id": "32d38cda-f6c8-482b-a789-ea4a7366d1c2",
   "metadata": {},
   "outputs": [],
   "source": [
    "pd.Timestamp('2014-08-01 17:00') + bh # 18:00"
   ]
  },
  {
   "cell_type": "code",
   "execution_count": null,
   "id": "d6cf38b7-6295-43cf-b23d-2b445370a508",
   "metadata": {},
   "outputs": [],
   "source": [
    "pd.Timestamp('2014-08-01 23:00') + bh # 00:00 of next day"
   ]
  },
  {
   "cell_type": "code",
   "execution_count": null,
   "id": "39215414-c4a9-41ec-8fc1-f669e4394ef2",
   "metadata": {},
   "outputs": [],
   "source": [
    "pd.Timestamp('2014-08-02 04:00') + bh # 05:00 of next day"
   ]
  },
  {
   "cell_type": "code",
   "execution_count": 64,
   "id": "8b51fd44-bcdd-48f3-8f25-b195a0c81a7a",
   "metadata": {},
   "outputs": [
    {
     "data": {
      "text/plain": [
       "Timestamp('2014-08-04 10:00:00')"
      ]
     },
     "execution_count": 64,
     "metadata": {},
     "output_type": "execute_result"
    }
   ],
   "source": [
    "pd.Timestamp('2014-08-04 04:00') + bh # 05:00 of next day"
   ]
  },
  {
   "cell_type": "code",
   "execution_count": 69,
   "id": "3aea2d34-a3ec-4eee-874b-7c725712255f",
   "metadata": {},
   "outputs": [
    {
     "data": {
      "text/plain": [
       "Timestamp('2014-08-04 09:00:00')"
      ]
     },
     "execution_count": 69,
     "metadata": {},
     "output_type": "execute_result"
    }
   ],
   "source": [
    "pd.offsets.BusinessHour().rollforward(pd.Timestamp('2014-08-02 14:00'))"
   ]
  },
  {
   "cell_type": "code",
   "execution_count": 86,
   "id": "94224be2-cc71-400b-b23f-62fe1bc9f323",
   "metadata": {},
   "outputs": [],
   "source": [
    "from pandas.tseries.holiday import USFederalHolidayCalendar\n",
    "bhour_us = pd.offsets.CustomBusinessHour(calendar=USFederalHolidayCalendar())"
   ]
  },
  {
   "cell_type": "code",
   "execution_count": 83,
   "id": "65fd0b7d-1626-4d5d-9274-21a7a123ba96",
   "metadata": {},
   "outputs": [
    {
     "data": {
      "text/plain": [
       "'Tuesday'"
      ]
     },
     "execution_count": 83,
     "metadata": {},
     "output_type": "execute_result"
    }
   ],
   "source": [
    "dt = datetime.datetime(2014, 1, 17, 15)\n",
    "# (dt + bhour_us).day_name()\n",
    "# dt + bhour_us * 2\n",
    "(dt + bhour_us * 2).day_name()\n",
    "# dt + pd.Timedelta('1 hour')"
   ]
  },
  {
   "cell_type": "code",
   "execution_count": 94,
   "id": "074122d6-8e8a-4fca-a744-d651739782c5",
   "metadata": {},
   "outputs": [
    {
     "data": {
      "text/plain": [
       "Timestamp('2014-01-16 15:00:00')"
      ]
     },
     "execution_count": 94,
     "metadata": {},
     "output_type": "execute_result"
    }
   ],
   "source": [
    "dt1 = datetime.datetime(2014, 1, 16, 13)\n",
    "dt1 + bhour_us*2"
   ]
  },
  {
   "cell_type": "code",
   "execution_count": 95,
   "id": "077879b7-875f-4d8b-ab32-bc29bdfc3d78",
   "metadata": {},
   "outputs": [
    {
     "data": {
      "text/plain": [
       "Timestamp('2014-01-21 10:00:00')"
      ]
     },
     "execution_count": 95,
     "metadata": {},
     "output_type": "execute_result"
    }
   ],
   "source": [
    "bhour_mon = pd.offsets.CustomBusinessHour(start='10:00', weekmask='Tue Wed Thu Fri')\n",
    "dt + bhour_mon * 2"
   ]
  },
  {
   "cell_type": "code",
   "execution_count": 98,
   "id": "1d64c443-8e3d-40d4-8733-794b8d0da0ab",
   "metadata": {},
   "outputs": [
    {
     "name": "stdout",
     "output_type": "stream",
     "text": [
      "<table border=\"1\" class=\"dataframe\">\n",
      "  <thead>\n",
      "    <tr style=\"text-align: right;\">\n",
      "      <th>Alias</th>\n",
      "      <th>Description</th>\n",
      "    </tr>\n",
      "  </thead>\n",
      "  <tbody>\n",
      "    <tr>\n",
      "      <td>W-SUN</td>\n",
      "      <td>weekly frequency (Sundays). Same as ‘W’</td>\n",
      "    </tr>\n",
      "    <tr>\n",
      "      <td>W-MON</td>\n",
      "      <td>weekly frequency (Mondays)</td>\n",
      "    </tr>\n",
      "    <tr>\n",
      "      <td>W-TUE</td>\n",
      "      <td>weekly frequency (Tuesdays)</td>\n",
      "    </tr>\n",
      "    <tr>\n",
      "      <td>W-WED</td>\n",
      "      <td>weekly frequency (Wednesdays)</td>\n",
      "    </tr>\n",
      "    <tr>\n",
      "      <td>W-THU</td>\n",
      "      <td>weekly frequency (Thursdays)</td>\n",
      "    </tr>\n",
      "    <tr>\n",
      "      <td>W-FRI</td>\n",
      "      <td>weekly frequency (Fridays)</td>\n",
      "    </tr>\n",
      "    <tr>\n",
      "      <td>W-SAT</td>\n",
      "      <td>weekly frequency (Saturdays)</td>\n",
      "    </tr>\n",
      "    <tr>\n",
      "      <td>(B)Q(S)-DEC</td>\n",
      "      <td>quarterly frequency, year ends in December. Same as ‘Q’</td>\n",
      "    </tr>\n",
      "    <tr>\n",
      "      <td>(B)Q(S)-JAN</td>\n",
      "      <td>quarterly frequency, year ends in January</td>\n",
      "    </tr>\n",
      "    <tr>\n",
      "      <td>(B)Q(S)-FEB</td>\n",
      "      <td>quarterly frequency, year ends in February</td>\n",
      "    </tr>\n",
      "    <tr>\n",
      "      <td>(B)Q(S)-MAR</td>\n",
      "      <td>quarterly frequency, year ends in March</td>\n",
      "    </tr>\n",
      "    <tr>\n",
      "      <td>(B)Q(S)-APR</td>\n",
      "      <td>quarterly frequency, year ends in April</td>\n",
      "    </tr>\n",
      "    <tr>\n",
      "      <td>(B)Q(S)-MAY</td>\n",
      "      <td>quarterly frequency, year ends in May</td>\n",
      "    </tr>\n",
      "    <tr>\n",
      "      <td>(B)Q(S)-JUN</td>\n",
      "      <td>quarterly frequency, year ends in June</td>\n",
      "    </tr>\n",
      "    <tr>\n",
      "      <td>(B)Q(S)-JUL</td>\n",
      "      <td>quarterly frequency, year ends in July</td>\n",
      "    </tr>\n",
      "    <tr>\n",
      "      <td>(B)Q(S)-AUG</td>\n",
      "      <td>quarterly frequency, year ends in August</td>\n",
      "    </tr>\n",
      "    <tr>\n",
      "      <td>(B)Q(S)-SEP</td>\n",
      "      <td>quarterly frequency, year ends in September</td>\n",
      "    </tr>\n",
      "    <tr>\n",
      "      <td>(B)Q(S)-OCT</td>\n",
      "      <td>quarterly frequency, year ends in October</td>\n",
      "    </tr>\n",
      "    <tr>\n",
      "      <td>(B)Q(S)-NOV</td>\n",
      "      <td>quarterly frequency, year ends in November</td>\n",
      "    </tr>\n",
      "    <tr>\n",
      "      <td>(B)A(S)-DEC</td>\n",
      "      <td>annual frequency, anchored end of December. Same as ‘A’</td>\n",
      "    </tr>\n",
      "    <tr>\n",
      "      <td>(B)A(S)-JAN</td>\n",
      "      <td>annual frequency, anchored end of January</td>\n",
      "    </tr>\n",
      "    <tr>\n",
      "      <td>(B)A(S)-FEB</td>\n",
      "      <td>annual frequency, anchored end of February</td>\n",
      "    </tr>\n",
      "    <tr>\n",
      "      <td>(B)A(S)-MAR</td>\n",
      "      <td>annual frequency, anchored end of March</td>\n",
      "    </tr>\n",
      "    <tr>\n",
      "      <td>(B)A(S)-APR</td>\n",
      "      <td>annual frequency, anchored end of April</td>\n",
      "    </tr>\n",
      "    <tr>\n",
      "      <td>(B)A(S)-MAY</td>\n",
      "      <td>annual frequency, anchored end of May</td>\n",
      "    </tr>\n",
      "    <tr>\n",
      "      <td>(B)A(S)-JUN</td>\n",
      "      <td>annual frequency, anchored end of June</td>\n",
      "    </tr>\n",
      "    <tr>\n",
      "      <td>(B)A(S)-JUL</td>\n",
      "      <td>annual frequency, anchored end of July</td>\n",
      "    </tr>\n",
      "    <tr>\n",
      "      <td>(B)A(S)-AUG</td>\n",
      "      <td>annual frequency, anchored end of August</td>\n",
      "    </tr>\n",
      "    <tr>\n",
      "      <td>(B)A(S)-SEP</td>\n",
      "      <td>annual frequency, anchored end of September</td>\n",
      "    </tr>\n",
      "    <tr>\n",
      "      <td>(B)A(S)-OCT</td>\n",
      "      <td>annual frequency, anchored end of October</td>\n",
      "    </tr>\n",
      "    <tr>\n",
      "      <td>(B)A(S)-NOV</td>\n",
      "      <td>annual frequency, anchored end of November</td>\n",
      "    </tr>\n",
      "  </tbody>\n",
      "</table>\n"
     ]
    }
   ],
   "source": [
    "print(table[4].to_html(index=False))"
   ]
  },
  {
   "cell_type": "code",
   "execution_count": 100,
   "id": "24fab487-a620-44da-bb49-c04674935a79",
   "metadata": {},
   "outputs": [],
   "source": [
    "from pandas.tseries.holiday import (Holiday, USMemorialDay, AbstractHolidayCalendar, nearest_workday, MO)"
   ]
  },
  {
   "cell_type": "code",
   "execution_count": 106,
   "id": "b690818e-8e1d-4b18-aa88-04a609c34477",
   "metadata": {},
   "outputs": [
    {
     "data": {
      "text/plain": [
       "DatetimeIndex(['2012-05-28', '2012-07-04', '2012-10-08'], dtype='datetime64[ns]', freq=None)"
      ]
     },
     "execution_count": 106,
     "metadata": {},
     "output_type": "execute_result"
    }
   ],
   "source": [
    "class ExampleCalendar(AbstractHolidayCalendar):\n",
    "    rules = [USMemorialDay, Holiday('July 4th', month=7, day=4, observance=nearest_workday),\n",
    "             Holiday('Columbus Day', month=10, day=1, offset=pd.DateOffset(weekday=MO(2)))]\n",
    "cal = ExampleCalendar()\n",
    "cal.holidays(datetime.datetime(2012, 1, 1), datetime.datetime(2012, 12, 31))"
   ]
  },
  {
   "cell_type": "code",
   "execution_count": 105,
   "id": "6216814c-b4fd-488a-9aca-03f9996a0c4e",
   "metadata": {},
   "outputs": [
    {
     "data": {
      "text/plain": [
       "Holiday: 2012-01-01 00:00:00 (year=2012-12-31 00:00:00, month=None, day=None, )"
      ]
     },
     "execution_count": 105,
     "metadata": {},
     "output_type": "execute_result"
    }
   ],
   "source": [
    "t= Holiday(datetime.datetime(2012, 1, 1), datetime.datetime(2012, 12, 31))\n",
    "t"
   ]
  },
  {
   "cell_type": "code",
   "execution_count": 108,
   "id": "32104daa-7c50-420e-b0cb-6308b961e563",
   "metadata": {},
   "outputs": [],
   "source": [
    "rng = pd.date_range('2012-01-01', '2013-01-03')"
   ]
  },
  {
   "cell_type": "code",
   "execution_count": 123,
   "id": "cb9d1cad-a7c6-49d7-935a-f4631e42ad2f",
   "metadata": {},
   "outputs": [],
   "source": [
    "ts = pd.Series(range(len(rng)), index=rng)"
   ]
  },
  {
   "cell_type": "code",
   "execution_count": 124,
   "id": "0dbea377-9a62-48b2-86c2-d03f6b0e1549",
   "metadata": {},
   "outputs": [
    {
     "data": {
      "text/plain": [
       "2012-01-01     0\n",
       "2012-01-02     1\n",
       "2012-01-03     2\n",
       "2012-01-04     3\n",
       "2012-01-05     4\n",
       "2012-01-06     5\n",
       "2012-01-07     6\n",
       "2012-01-08     7\n",
       "2012-01-09     8\n",
       "2012-01-10     9\n",
       "2012-01-11    10\n",
       "2012-01-12    11\n",
       "2012-01-13    12\n",
       "2012-01-14    13\n",
       "2012-01-15    14\n",
       "2012-01-16    15\n",
       "2012-01-17    16\n",
       "2012-01-18    17\n",
       "2012-01-19    18\n",
       "2012-01-20    19\n",
       "Freq: D, dtype: int64"
      ]
     },
     "execution_count": 124,
     "metadata": {},
     "output_type": "execute_result"
    }
   ],
   "source": [
    "ts = ts[:20]\n",
    "ts"
   ]
  },
  {
   "cell_type": "code",
   "execution_count": 125,
   "id": "6b4cf2e9-7d6e-4501-8535-2b635e93dc89",
   "metadata": {},
   "outputs": [
    {
     "data": {
      "text/plain": [
       "2012-01-01     NaN\n",
       "2012-01-02     NaN\n",
       "2012-01-03     NaN\n",
       "2012-01-04     NaN\n",
       "2012-01-05     NaN\n",
       "2012-01-06     0.0\n",
       "2012-01-07     1.0\n",
       "2012-01-08     2.0\n",
       "2012-01-09     3.0\n",
       "2012-01-10     4.0\n",
       "2012-01-11     5.0\n",
       "2012-01-12     6.0\n",
       "2012-01-13     7.0\n",
       "2012-01-14     8.0\n",
       "2012-01-15     9.0\n",
       "2012-01-16    10.0\n",
       "2012-01-17    11.0\n",
       "2012-01-18    12.0\n",
       "2012-01-19    13.0\n",
       "2012-01-20    14.0\n",
       "Freq: D, dtype: float64"
      ]
     },
     "execution_count": 125,
     "metadata": {},
     "output_type": "execute_result"
    }
   ],
   "source": [
    "ts.shift(5)"
   ]
  },
  {
   "cell_type": "code",
   "execution_count": 126,
   "id": "3cd0937d-d372-46be-abc1-95ec0768eec0",
   "metadata": {},
   "outputs": [
    {
     "data": {
      "text/plain": [
       "2012-01-06     0\n",
       "2012-01-09     1\n",
       "2012-01-10     2\n",
       "2012-01-11     3\n",
       "2012-01-12     4\n",
       "2012-01-13     5\n",
       "2012-01-13     6\n",
       "2012-01-13     7\n",
       "2012-01-16     8\n",
       "2012-01-17     9\n",
       "2012-01-18    10\n",
       "2012-01-19    11\n",
       "2012-01-20    12\n",
       "2012-01-20    13\n",
       "2012-01-20    14\n",
       "2012-01-23    15\n",
       "2012-01-24    16\n",
       "2012-01-25    17\n",
       "2012-01-26    18\n",
       "2012-01-27    19\n",
       "dtype: int64"
      ]
     },
     "execution_count": 126,
     "metadata": {},
     "output_type": "execute_result"
    }
   ],
   "source": [
    "ts.shift(5, freq=pd.offsets.BDay())"
   ]
  },
  {
   "cell_type": "code",
   "execution_count": 127,
   "id": "a5873c0d-870f-46e7-a222-5f4736a5393a",
   "metadata": {},
   "outputs": [
    {
     "data": {
      "text/plain": [
       "2012-05-31     0\n",
       "2012-05-31     1\n",
       "2012-05-31     2\n",
       "2012-05-31     3\n",
       "2012-05-31     4\n",
       "2012-05-31     5\n",
       "2012-05-31     6\n",
       "2012-05-31     7\n",
       "2012-05-31     8\n",
       "2012-05-31     9\n",
       "2012-05-31    10\n",
       "2012-05-31    11\n",
       "2012-05-31    12\n",
       "2012-05-31    13\n",
       "2012-05-31    14\n",
       "2012-05-31    15\n",
       "2012-05-31    16\n",
       "2012-05-31    17\n",
       "2012-05-31    18\n",
       "2012-05-31    19\n",
       "dtype: int64"
      ]
     },
     "execution_count": 127,
     "metadata": {},
     "output_type": "execute_result"
    }
   ],
   "source": [
    "ts.shift(5, freq='BM')"
   ]
  },
  {
   "cell_type": "code",
   "execution_count": 128,
   "id": "14335a0d-e6ab-49a1-afef-27ab242ace2f",
   "metadata": {},
   "outputs": [
    {
     "data": {
      "text/plain": [
       "2012-01-01 00:00:00    270\n",
       "2012-01-01 00:00:01    492\n",
       "2012-01-01 00:00:02    300\n",
       "2012-01-01 00:00:03    228\n",
       "2012-01-01 00:00:04    126\n",
       "                      ... \n",
       "2012-01-01 00:01:35    264\n",
       "2012-01-01 00:01:36    186\n",
       "2012-01-01 00:01:37     66\n",
       "2012-01-01 00:01:38    129\n",
       "2012-01-01 00:01:39    256\n",
       "Freq: S, Length: 100, dtype: int32"
      ]
     },
     "execution_count": 128,
     "metadata": {},
     "output_type": "execute_result"
    }
   ],
   "source": [
    "rng = pd.date_range('1/1/2012', periods=100, freq='S')\n",
    "ts = pd.Series(np.random.randint(0, 500, len(rng)), index=rng)\n",
    "ts"
   ]
  },
  {
   "cell_type": "code",
   "execution_count": 129,
   "id": "9bbddd6d-6164-4197-a0e8-a792f6ab7653",
   "metadata": {},
   "outputs": [
    {
     "data": {
      "text/plain": [
       "2012-01-01    237.37\n",
       "Freq: 5T, dtype: float64"
      ]
     },
     "execution_count": 129,
     "metadata": {},
     "output_type": "execute_result"
    }
   ],
   "source": [
    "ts.resample('5Min').mean()"
   ]
  },
  {
   "cell_type": "code",
   "execution_count": 133,
   "id": "0f7a5305-26b7-45c0-b335-638eb058e99c",
   "metadata": {},
   "outputs": [
    {
     "data": {
      "text/plain": [
       "2011-12-31 23:55:00    270.000000\n",
       "2012-01-01 00:00:00    237.040404\n",
       "Freq: 5T, dtype: float64"
      ]
     },
     "execution_count": 133,
     "metadata": {},
     "output_type": "execute_result"
    }
   ],
   "source": [
    "ts.resample('5Min', closed='right').mean()"
   ]
  },
  {
   "cell_type": "code",
   "execution_count": 136,
   "id": "c856bc4e-69bf-4af5-abd1-62a2c4ecd9a5",
   "metadata": {},
   "outputs": [
    {
     "data": {
      "text/plain": [
       "2012-01-01    237.37\n",
       "Freq: 5T, dtype: float64"
      ]
     },
     "execution_count": 136,
     "metadata": {},
     "output_type": "execute_result"
    }
   ],
   "source": [
    "ts.resample('5Min', label='right').mean()"
   ]
  },
  {
   "cell_type": "code",
   "execution_count": null,
   "id": "6d778073-f081-40f5-bcf7-7c2267abaa38",
   "metadata": {},
   "outputs": [],
   "source": []
  },
  {
   "cell_type": "code",
   "execution_count": null,
   "id": "d441a7ee-2073-4fe1-bf2b-91c3b1837190",
   "metadata": {},
   "outputs": [],
   "source": []
  },
  {
   "cell_type": "code",
   "execution_count": null,
   "id": "42a1159b-737b-4562-b11f-ca3be57ced51",
   "metadata": {},
   "outputs": [],
   "source": []
  },
  {
   "cell_type": "code",
   "execution_count": null,
   "id": "212cabdf-99af-489c-9d1e-934a3b75917b",
   "metadata": {},
   "outputs": [],
   "source": []
  },
  {
   "cell_type": "code",
   "execution_count": null,
   "id": "97f15de0-b11f-4749-831f-8f116a6d4e23",
   "metadata": {},
   "outputs": [],
   "source": []
  },
  {
   "cell_type": "code",
   "execution_count": null,
   "id": "f7305b29-b5fb-4202-93cc-e882379e12e4",
   "metadata": {},
   "outputs": [],
   "source": []
  },
  {
   "cell_type": "code",
   "execution_count": null,
   "id": "9a59a252-8ebc-49e2-b053-0e3637f2cebb",
   "metadata": {},
   "outputs": [],
   "source": []
  },
  {
   "cell_type": "code",
   "execution_count": null,
   "id": "78e7accb-48c4-4bd7-acd2-7c27fb9c834e",
   "metadata": {},
   "outputs": [],
   "source": []
  },
  {
   "cell_type": "code",
   "execution_count": null,
   "id": "d8ea8f39-63db-4ab1-b7f6-66640f7c9cba",
   "metadata": {},
   "outputs": [],
   "source": []
  },
  {
   "cell_type": "code",
   "execution_count": null,
   "id": "0ec8d33e-df47-40a2-b38e-8ea550b1f7c2",
   "metadata": {},
   "outputs": [],
   "source": []
  },
  {
   "cell_type": "code",
   "execution_count": null,
   "id": "8e9effc2-c16d-4c62-9669-6d4d16533e39",
   "metadata": {},
   "outputs": [],
   "source": []
  },
  {
   "cell_type": "code",
   "execution_count": null,
   "id": "c0cc6e7a-3947-4167-8392-54db01b7db3f",
   "metadata": {},
   "outputs": [],
   "source": []
  },
  {
   "cell_type": "code",
   "execution_count": null,
   "id": "4dd0ba62-3438-4f77-b844-00a09e286acf",
   "metadata": {},
   "outputs": [],
   "source": []
  },
  {
   "cell_type": "code",
   "execution_count": null,
   "id": "e2292c57-ed1d-4739-8e32-4d0fe892f08e",
   "metadata": {},
   "outputs": [],
   "source": []
  },
  {
   "cell_type": "code",
   "execution_count": null,
   "id": "dfb22c53-0a7e-43e4-9885-f897525b2af4",
   "metadata": {},
   "outputs": [],
   "source": []
  },
  {
   "cell_type": "code",
   "execution_count": null,
   "id": "94934cee-c727-4cce-9cb6-4bdf021ca6bc",
   "metadata": {},
   "outputs": [],
   "source": []
  },
  {
   "cell_type": "code",
   "execution_count": null,
   "id": "73ead6cf-cb9c-46be-a09f-f84f03a1a096",
   "metadata": {},
   "outputs": [],
   "source": []
  },
  {
   "cell_type": "code",
   "execution_count": null,
   "id": "08387f56-e38a-4662-9bc4-dd8fff4e9f10",
   "metadata": {},
   "outputs": [],
   "source": []
  },
  {
   "cell_type": "code",
   "execution_count": null,
   "id": "09c35460-baff-4da6-b8a5-14dca768c3ff",
   "metadata": {},
   "outputs": [],
   "source": []
  },
  {
   "cell_type": "code",
   "execution_count": null,
   "id": "acde5b5a-e9ed-40f0-a5c3-c50ebe4e261e",
   "metadata": {},
   "outputs": [],
   "source": []
  },
  {
   "cell_type": "code",
   "execution_count": null,
   "id": "cc18a299-d257-4df5-85d4-8b3dafcc450a",
   "metadata": {},
   "outputs": [],
   "source": []
  },
  {
   "cell_type": "code",
   "execution_count": null,
   "id": "0fe19ab9-a9bc-4b46-aef1-c4724d58c5d5",
   "metadata": {},
   "outputs": [],
   "source": []
  },
  {
   "cell_type": "code",
   "execution_count": null,
   "id": "15d375f1-482b-4c06-977e-a85c8a1f9801",
   "metadata": {},
   "outputs": [],
   "source": []
  },
  {
   "cell_type": "code",
   "execution_count": null,
   "id": "4cb9e362-73fc-4d98-bec2-0647823b121d",
   "metadata": {},
   "outputs": [],
   "source": []
  },
  {
   "cell_type": "code",
   "execution_count": null,
   "id": "0e46e221-0d82-481b-a810-1438f0f44133",
   "metadata": {},
   "outputs": [],
   "source": []
  },
  {
   "cell_type": "code",
   "execution_count": null,
   "id": "e66c3198-d9c8-4a02-8f93-ff35e0d106c8",
   "metadata": {},
   "outputs": [],
   "source": []
  },
  {
   "cell_type": "code",
   "execution_count": null,
   "id": "7fb773b9-e46e-436d-b6d7-6463351ccbee",
   "metadata": {},
   "outputs": [],
   "source": []
  },
  {
   "cell_type": "code",
   "execution_count": null,
   "id": "87f43e33-c573-41e2-ad98-bf9b48f5c1ba",
   "metadata": {},
   "outputs": [],
   "source": []
  },
  {
   "cell_type": "code",
   "execution_count": null,
   "id": "de66e5c7-b651-4249-b01e-71b955eacb25",
   "metadata": {},
   "outputs": [],
   "source": []
  },
  {
   "cell_type": "code",
   "execution_count": null,
   "id": "0cb826f9-affe-458b-a89f-6ad33004fe56",
   "metadata": {},
   "outputs": [],
   "source": []
  },
  {
   "cell_type": "code",
   "execution_count": null,
   "id": "d686e36a-f372-470b-b58e-3ef276d556c8",
   "metadata": {},
   "outputs": [],
   "source": []
  },
  {
   "cell_type": "code",
   "execution_count": null,
   "id": "872d04a0-b1e4-4076-a6a2-468498c75f8a",
   "metadata": {},
   "outputs": [],
   "source": []
  },
  {
   "cell_type": "code",
   "execution_count": null,
   "id": "bf13acc9-f8f0-4e23-b855-fd9314ed5a6c",
   "metadata": {},
   "outputs": [],
   "source": []
  },
  {
   "cell_type": "code",
   "execution_count": null,
   "id": "072996a0-22e9-43de-9e51-a8af42abef51",
   "metadata": {},
   "outputs": [],
   "source": []
  },
  {
   "cell_type": "code",
   "execution_count": null,
   "id": "7ae6c6e9-3e43-4026-bb4e-4379284350fc",
   "metadata": {},
   "outputs": [],
   "source": []
  },
  {
   "cell_type": "code",
   "execution_count": null,
   "id": "cbd5495a-2410-459d-b841-58bcb34535a9",
   "metadata": {},
   "outputs": [],
   "source": []
  },
  {
   "cell_type": "code",
   "execution_count": null,
   "id": "f3991141-c35a-457a-88b2-c6cdf2f84a1e",
   "metadata": {},
   "outputs": [],
   "source": []
  },
  {
   "cell_type": "code",
   "execution_count": null,
   "id": "1769701b-17f4-441f-88ae-eeeab9a8a78a",
   "metadata": {},
   "outputs": [],
   "source": []
  },
  {
   "cell_type": "code",
   "execution_count": null,
   "id": "c382bc53-8362-45ad-97ae-c687b6be69a9",
   "metadata": {},
   "outputs": [],
   "source": []
  },
  {
   "cell_type": "code",
   "execution_count": null,
   "id": "79479b75-5c5e-4eaa-89e8-e677f277e95b",
   "metadata": {},
   "outputs": [],
   "source": []
  },
  {
   "cell_type": "code",
   "execution_count": null,
   "id": "06f0eb11-9d81-4940-84b7-0b9849e1b6ca",
   "metadata": {},
   "outputs": [],
   "source": []
  },
  {
   "cell_type": "code",
   "execution_count": null,
   "id": "c86256d6-ee19-44ff-923d-73fe4665017f",
   "metadata": {},
   "outputs": [],
   "source": []
  },
  {
   "cell_type": "code",
   "execution_count": null,
   "id": "6ddd79ff-2456-405f-b7f8-a6e42de18535",
   "metadata": {},
   "outputs": [],
   "source": []
  },
  {
   "cell_type": "code",
   "execution_count": null,
   "id": "6be8adca-fae4-4499-9748-2a692de32fde",
   "metadata": {},
   "outputs": [],
   "source": []
  },
  {
   "cell_type": "code",
   "execution_count": null,
   "id": "120e8ed9-b39d-46e0-a04d-7df71974e293",
   "metadata": {},
   "outputs": [],
   "source": []
  },
  {
   "cell_type": "code",
   "execution_count": null,
   "id": "f48a71cb-082b-4a12-9cf8-f71bfbb42029",
   "metadata": {},
   "outputs": [],
   "source": []
  },
  {
   "cell_type": "code",
   "execution_count": null,
   "id": "d11aa463-58ab-4c7e-bcc9-25a4b98e6ced",
   "metadata": {},
   "outputs": [],
   "source": []
  },
  {
   "cell_type": "code",
   "execution_count": null,
   "id": "a8968221-b64c-4382-be1b-dc3059881e9a",
   "metadata": {},
   "outputs": [],
   "source": []
  },
  {
   "cell_type": "code",
   "execution_count": null,
   "id": "2e8a5e70-2767-45cd-9744-7499aab4c493",
   "metadata": {},
   "outputs": [],
   "source": []
  },
  {
   "cell_type": "code",
   "execution_count": null,
   "id": "0ec1ccae-549a-4218-8654-7c722252663a",
   "metadata": {},
   "outputs": [],
   "source": []
  },
  {
   "cell_type": "code",
   "execution_count": null,
   "id": "594337b9-c085-41b3-9651-400bc86cd906",
   "metadata": {},
   "outputs": [],
   "source": []
  },
  {
   "cell_type": "code",
   "execution_count": null,
   "id": "4d32ae6d-fd99-4dfd-8795-12ceba5e3fd9",
   "metadata": {},
   "outputs": [],
   "source": []
  },
  {
   "cell_type": "code",
   "execution_count": null,
   "id": "3c06b9ac-4818-45bc-af13-0d374a8836fd",
   "metadata": {},
   "outputs": [],
   "source": []
  },
  {
   "cell_type": "code",
   "execution_count": null,
   "id": "a98b26ae-fe70-4241-8cd6-71155b8a6ae8",
   "metadata": {},
   "outputs": [],
   "source": []
  },
  {
   "cell_type": "code",
   "execution_count": null,
   "id": "74b81e7b-7ac4-402a-99e1-30dbdc7596b2",
   "metadata": {},
   "outputs": [],
   "source": []
  },
  {
   "cell_type": "code",
   "execution_count": null,
   "id": "0903cc7b-69d9-424c-847f-445b1ebd9ada",
   "metadata": {},
   "outputs": [],
   "source": []
  },
  {
   "cell_type": "code",
   "execution_count": null,
   "id": "7e867556-237d-4cfa-83a3-8cf1bcdaf938",
   "metadata": {},
   "outputs": [],
   "source": []
  },
  {
   "cell_type": "code",
   "execution_count": null,
   "id": "180c884b-7adc-40c1-85cc-86597b2662e9",
   "metadata": {},
   "outputs": [],
   "source": []
  },
  {
   "cell_type": "code",
   "execution_count": null,
   "id": "ed125da6-828d-4209-ba86-7c638c9957d9",
   "metadata": {},
   "outputs": [],
   "source": []
  },
  {
   "cell_type": "code",
   "execution_count": null,
   "id": "f7b5f00d-b16b-4586-a7b8-718ff281ded2",
   "metadata": {},
   "outputs": [],
   "source": []
  },
  {
   "cell_type": "code",
   "execution_count": null,
   "id": "2d9ae1d6-6654-462e-8d68-b3c1d98fae65",
   "metadata": {},
   "outputs": [],
   "source": []
  },
  {
   "cell_type": "code",
   "execution_count": null,
   "id": "cf20518e-ba8d-4bcc-8e99-597a69cc3abc",
   "metadata": {},
   "outputs": [],
   "source": []
  },
  {
   "cell_type": "code",
   "execution_count": null,
   "id": "1e175b2e-5957-439f-bf91-6a53ec9f3701",
   "metadata": {},
   "outputs": [],
   "source": []
  },
  {
   "cell_type": "code",
   "execution_count": null,
   "id": "c9b93eb7-2a29-4036-b4c4-6d30dbfe09d6",
   "metadata": {},
   "outputs": [],
   "source": []
  },
  {
   "cell_type": "code",
   "execution_count": null,
   "id": "0f3531d5-eb14-4646-b8cf-4b3c294c14c6",
   "metadata": {},
   "outputs": [],
   "source": []
  },
  {
   "cell_type": "code",
   "execution_count": null,
   "id": "99e277dc-6120-4461-bff1-2521851e2aa5",
   "metadata": {},
   "outputs": [],
   "source": []
  },
  {
   "cell_type": "code",
   "execution_count": null,
   "id": "980e4872-c637-4a4e-90ac-4f86745def77",
   "metadata": {},
   "outputs": [],
   "source": []
  },
  {
   "cell_type": "code",
   "execution_count": null,
   "id": "e654bb9d-ea46-40ee-bdb4-222f0eef31b0",
   "metadata": {},
   "outputs": [],
   "source": []
  },
  {
   "cell_type": "code",
   "execution_count": null,
   "id": "214a6fdf-2154-4129-9084-fa14b4143a00",
   "metadata": {},
   "outputs": [],
   "source": []
  },
  {
   "cell_type": "code",
   "execution_count": null,
   "id": "17555a7b-a6cf-4b8b-879b-88512ea992d8",
   "metadata": {},
   "outputs": [],
   "source": []
  },
  {
   "cell_type": "code",
   "execution_count": null,
   "id": "4343c5c9-1390-47e5-905e-f93c57df9ca1",
   "metadata": {},
   "outputs": [],
   "source": []
  },
  {
   "cell_type": "code",
   "execution_count": null,
   "id": "d39f2082-6f7a-4a20-a2b1-274ca2af8488",
   "metadata": {},
   "outputs": [],
   "source": []
  },
  {
   "cell_type": "code",
   "execution_count": null,
   "id": "4ee7a741-e76f-4b8d-bcab-1de99e1c1ce9",
   "metadata": {},
   "outputs": [],
   "source": []
  },
  {
   "cell_type": "code",
   "execution_count": null,
   "id": "ca8f1b1f-6dd6-42f3-8993-6f15d4256500",
   "metadata": {},
   "outputs": [],
   "source": []
  },
  {
   "cell_type": "code",
   "execution_count": null,
   "id": "9aea73f6-dc91-49a6-bc61-254c737ad4dc",
   "metadata": {},
   "outputs": [],
   "source": []
  },
  {
   "cell_type": "code",
   "execution_count": null,
   "id": "0ab669d3-7b10-4fe6-bdc4-10d4c1d83118",
   "metadata": {},
   "outputs": [],
   "source": []
  },
  {
   "cell_type": "code",
   "execution_count": null,
   "id": "c6e6ced0-15b5-46fc-9b00-59e37b4f8516",
   "metadata": {},
   "outputs": [],
   "source": []
  },
  {
   "cell_type": "code",
   "execution_count": null,
   "id": "83cfc294-b992-41a8-9e28-f0a645cae0f0",
   "metadata": {},
   "outputs": [],
   "source": []
  },
  {
   "cell_type": "code",
   "execution_count": null,
   "id": "e2f77e97-ac98-4a9e-91c0-abbd38e0c73b",
   "metadata": {},
   "outputs": [],
   "source": []
  },
  {
   "cell_type": "code",
   "execution_count": null,
   "id": "49a62269-64e7-4be4-9a2e-5b9e7e1dde9c",
   "metadata": {},
   "outputs": [],
   "source": []
  },
  {
   "cell_type": "code",
   "execution_count": null,
   "id": "95d55caa-df19-414d-81e2-1a5aeca9c5b5",
   "metadata": {},
   "outputs": [],
   "source": []
  },
  {
   "cell_type": "code",
   "execution_count": null,
   "id": "f5b5a34a-f850-4df0-90ca-2f2068374c7c",
   "metadata": {},
   "outputs": [],
   "source": []
  },
  {
   "cell_type": "code",
   "execution_count": null,
   "id": "287a3cd7-e36c-46c6-a8ee-4c4bec33d6ce",
   "metadata": {},
   "outputs": [],
   "source": []
  },
  {
   "cell_type": "code",
   "execution_count": null,
   "id": "a5c95c9f-9030-4fca-8b98-20c0547444dc",
   "metadata": {},
   "outputs": [],
   "source": []
  },
  {
   "cell_type": "code",
   "execution_count": null,
   "id": "d671ac5e-68ea-4301-b7e5-23b80d0507af",
   "metadata": {},
   "outputs": [],
   "source": []
  },
  {
   "cell_type": "code",
   "execution_count": null,
   "id": "19b1b25d-7cbd-47c3-883a-e92278978e78",
   "metadata": {},
   "outputs": [],
   "source": []
  },
  {
   "cell_type": "code",
   "execution_count": null,
   "id": "86420be2-c7ef-4051-9407-b679deb013c9",
   "metadata": {},
   "outputs": [],
   "source": []
  },
  {
   "cell_type": "code",
   "execution_count": null,
   "id": "5ca33f29-b76a-448c-8160-f244df64f704",
   "metadata": {},
   "outputs": [],
   "source": []
  },
  {
   "cell_type": "code",
   "execution_count": null,
   "id": "bc0eb2f1-e479-4856-86fc-981e2718bedc",
   "metadata": {},
   "outputs": [],
   "source": []
  },
  {
   "cell_type": "code",
   "execution_count": null,
   "id": "b6155160-0ef7-430a-918a-9276708fee1c",
   "metadata": {},
   "outputs": [],
   "source": []
  },
  {
   "cell_type": "code",
   "execution_count": null,
   "id": "14f40642-5f14-4edc-90eb-be8dddb419fe",
   "metadata": {},
   "outputs": [],
   "source": []
  },
  {
   "cell_type": "code",
   "execution_count": null,
   "id": "f56a56b3-24c6-48dd-a3b9-d8306d959683",
   "metadata": {},
   "outputs": [],
   "source": []
  },
  {
   "cell_type": "code",
   "execution_count": null,
   "id": "670af1e9-483b-432c-8acb-6a2c9dfcbfbf",
   "metadata": {},
   "outputs": [],
   "source": []
  },
  {
   "cell_type": "code",
   "execution_count": null,
   "id": "d3bc2213-ea8c-4f41-9e44-fa9d4396ab59",
   "metadata": {},
   "outputs": [],
   "source": []
  },
  {
   "cell_type": "code",
   "execution_count": null,
   "id": "d6383e30-6603-442e-8d04-c288b664c75b",
   "metadata": {},
   "outputs": [],
   "source": []
  },
  {
   "cell_type": "code",
   "execution_count": null,
   "id": "13fd8ee7-c64c-4b67-b818-0680b19b84ce",
   "metadata": {},
   "outputs": [],
   "source": []
  },
  {
   "cell_type": "code",
   "execution_count": null,
   "id": "7e604504-d219-434a-b811-123582a64fba",
   "metadata": {},
   "outputs": [],
   "source": []
  },
  {
   "cell_type": "code",
   "execution_count": null,
   "id": "59b167a6-4f29-42ad-be4b-b4bfe6da4184",
   "metadata": {},
   "outputs": [],
   "source": []
  },
  {
   "cell_type": "code",
   "execution_count": null,
   "id": "26ee44d4-5031-4c05-abdb-ba4cddb5c2e1",
   "metadata": {},
   "outputs": [],
   "source": []
  },
  {
   "cell_type": "code",
   "execution_count": null,
   "id": "fc8f0d16-be77-4d53-8d68-0872b337e4e5",
   "metadata": {},
   "outputs": [],
   "source": []
  },
  {
   "cell_type": "code",
   "execution_count": null,
   "id": "f82cc49d-677d-4abc-97e2-207284b4e727",
   "metadata": {},
   "outputs": [],
   "source": []
  },
  {
   "cell_type": "code",
   "execution_count": null,
   "id": "3a87519d-0eab-43b2-81b5-c4749df80750",
   "metadata": {},
   "outputs": [],
   "source": []
  },
  {
   "cell_type": "code",
   "execution_count": null,
   "id": "e894d249-fae4-47a8-8242-9bda7bdc4231",
   "metadata": {},
   "outputs": [],
   "source": []
  },
  {
   "cell_type": "code",
   "execution_count": null,
   "id": "8c3e48fc-e317-466d-9ebb-bafe8cafb975",
   "metadata": {},
   "outputs": [],
   "source": []
  },
  {
   "cell_type": "code",
   "execution_count": null,
   "id": "039d3b4d-59cc-44b9-8a43-451d74b085c0",
   "metadata": {},
   "outputs": [],
   "source": []
  },
  {
   "cell_type": "code",
   "execution_count": null,
   "id": "9669549a-4101-479b-8bb2-d8010263cecd",
   "metadata": {},
   "outputs": [],
   "source": []
  },
  {
   "cell_type": "code",
   "execution_count": null,
   "id": "0a605bcd-5c5a-47aa-a96e-81799ddff460",
   "metadata": {},
   "outputs": [],
   "source": []
  },
  {
   "cell_type": "code",
   "execution_count": null,
   "id": "e308e014-0f60-4e91-8865-e20adbda396d",
   "metadata": {},
   "outputs": [],
   "source": []
  },
  {
   "cell_type": "code",
   "execution_count": null,
   "id": "7b7d6c66-bd36-403d-9263-8bba27393e8c",
   "metadata": {},
   "outputs": [],
   "source": []
  },
  {
   "cell_type": "code",
   "execution_count": null,
   "id": "8298383b-d8c0-42fe-b4bc-0bef3ca354ab",
   "metadata": {},
   "outputs": [],
   "source": []
  },
  {
   "cell_type": "code",
   "execution_count": null,
   "id": "716c8d11-27b6-43c5-9576-505d8ff2280b",
   "metadata": {},
   "outputs": [],
   "source": []
  },
  {
   "cell_type": "code",
   "execution_count": null,
   "id": "f69c129f-6280-485c-9462-208cf412ef20",
   "metadata": {},
   "outputs": [],
   "source": []
  },
  {
   "cell_type": "code",
   "execution_count": null,
   "id": "1407f439-e82d-4535-8dd3-47693fad9ac1",
   "metadata": {},
   "outputs": [],
   "source": []
  },
  {
   "cell_type": "code",
   "execution_count": null,
   "id": "6730ca7e-ef45-4827-8c23-16dd2d3efd93",
   "metadata": {},
   "outputs": [],
   "source": []
  },
  {
   "cell_type": "code",
   "execution_count": null,
   "id": "fb1a8264-0404-4199-8e07-c49ccd48362b",
   "metadata": {},
   "outputs": [],
   "source": []
  },
  {
   "cell_type": "code",
   "execution_count": null,
   "id": "b4a84dd5-d849-4768-a382-3d0cec7a21a0",
   "metadata": {},
   "outputs": [],
   "source": []
  },
  {
   "cell_type": "code",
   "execution_count": null,
   "id": "35db9727-cbe3-458d-aabf-85ca04e9a225",
   "metadata": {},
   "outputs": [],
   "source": []
  },
  {
   "cell_type": "code",
   "execution_count": null,
   "id": "77668b43-bcf5-4fd3-9ee9-e8c2f09bd5e0",
   "metadata": {},
   "outputs": [],
   "source": []
  },
  {
   "cell_type": "code",
   "execution_count": null,
   "id": "ab07cba8-0ef5-46ff-afe3-a2f93a4a9984",
   "metadata": {},
   "outputs": [],
   "source": []
  },
  {
   "cell_type": "code",
   "execution_count": null,
   "id": "8ff1911b-ea7a-4763-b58e-e75895585611",
   "metadata": {},
   "outputs": [],
   "source": []
  },
  {
   "cell_type": "code",
   "execution_count": null,
   "id": "7c90a852-e5ea-453b-b2e4-1da9b0c5b276",
   "metadata": {},
   "outputs": [],
   "source": []
  },
  {
   "cell_type": "code",
   "execution_count": null,
   "id": "10633d83-a4a3-4709-ac86-9f911cd55059",
   "metadata": {},
   "outputs": [],
   "source": []
  },
  {
   "cell_type": "code",
   "execution_count": null,
   "id": "f69746d6-e44b-4389-b699-2689c2054e6b",
   "metadata": {},
   "outputs": [],
   "source": []
  },
  {
   "cell_type": "code",
   "execution_count": null,
   "id": "cbce20a3-3f43-44cb-97db-96d15d353c01",
   "metadata": {},
   "outputs": [],
   "source": []
  },
  {
   "cell_type": "code",
   "execution_count": null,
   "id": "e1d5c45d-4846-47fc-a4ad-bb98784d6691",
   "metadata": {},
   "outputs": [],
   "source": []
  },
  {
   "cell_type": "code",
   "execution_count": null,
   "id": "12fd81eb-677d-4799-99e0-5e9657aad651",
   "metadata": {},
   "outputs": [],
   "source": []
  },
  {
   "cell_type": "code",
   "execution_count": null,
   "id": "f471d321-8da2-49ad-931e-3283db250154",
   "metadata": {},
   "outputs": [],
   "source": []
  },
  {
   "cell_type": "code",
   "execution_count": null,
   "id": "aba5b473-2186-4251-9b9d-a0b68c74a76d",
   "metadata": {},
   "outputs": [],
   "source": []
  },
  {
   "cell_type": "code",
   "execution_count": null,
   "id": "65d927b6-41cd-4fde-b717-cc91606aa92c",
   "metadata": {},
   "outputs": [],
   "source": []
  },
  {
   "cell_type": "code",
   "execution_count": null,
   "id": "1225e983-9c4b-4670-a2e5-4b4e67dffd0a",
   "metadata": {},
   "outputs": [],
   "source": []
  },
  {
   "cell_type": "code",
   "execution_count": null,
   "id": "c7b37991-e457-4482-9a8d-8d7fb55c3070",
   "metadata": {},
   "outputs": [],
   "source": []
  },
  {
   "cell_type": "code",
   "execution_count": null,
   "id": "26826934-e935-4617-84e8-6b237580629e",
   "metadata": {},
   "outputs": [],
   "source": []
  },
  {
   "cell_type": "code",
   "execution_count": null,
   "id": "f01935d5-6e5e-461f-ac71-c44371fcbf34",
   "metadata": {},
   "outputs": [],
   "source": []
  },
  {
   "cell_type": "code",
   "execution_count": null,
   "id": "f451f328-79db-4fb7-94b0-4f41babd0276",
   "metadata": {},
   "outputs": [],
   "source": []
  },
  {
   "cell_type": "code",
   "execution_count": null,
   "id": "d8677c63-3636-4f29-adfd-68f0ed5c6c8e",
   "metadata": {},
   "outputs": [],
   "source": []
  },
  {
   "cell_type": "code",
   "execution_count": null,
   "id": "ba3b9953-0289-4f74-aaf3-8f845f1fe546",
   "metadata": {},
   "outputs": [],
   "source": []
  },
  {
   "cell_type": "code",
   "execution_count": null,
   "id": "82cc985d-846a-468b-8259-b02a7fe69e5d",
   "metadata": {},
   "outputs": [],
   "source": []
  },
  {
   "cell_type": "code",
   "execution_count": null,
   "id": "a86364f7-538f-4f8d-942a-92f08b43f39e",
   "metadata": {},
   "outputs": [],
   "source": []
  }
 ],
 "metadata": {
  "kernelspec": {
   "display_name": "Python 3",
   "language": "python",
   "name": "python3"
  },
  "language_info": {
   "codemirror_mode": {
    "name": "ipython",
    "version": 3
   },
   "file_extension": ".py",
   "mimetype": "text/x-python",
   "name": "python",
   "nbconvert_exporter": "python",
   "pygments_lexer": "ipython3",
   "version": "3.7.11"
  }
 },
 "nbformat": 4,
 "nbformat_minor": 5
}
