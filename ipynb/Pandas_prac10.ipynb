{
 "cells": [
  {
   "cell_type": "code",
   "execution_count": 1,
   "id": "7cb6e4b7-b015-42d7-8563-c25031723bb7",
   "metadata": {},
   "outputs": [],
   "source": [
    "import numpy as np\n",
    "import pandas as pd"
   ]
  },
  {
   "cell_type": "code",
   "execution_count": 2,
   "id": "4dc301a0-1667-4151-9d0a-da2683b2f1cc",
   "metadata": {
    "tags": []
   },
   "outputs": [
    {
     "data": {
      "text/html": [
       "<div>\n",
       "<style scoped>\n",
       "    .dataframe tbody tr th:only-of-type {\n",
       "        vertical-align: middle;\n",
       "    }\n",
       "\n",
       "    .dataframe tbody tr th {\n",
       "        vertical-align: top;\n",
       "    }\n",
       "\n",
       "    .dataframe thead th {\n",
       "        text-align: right;\n",
       "    }\n",
       "</style>\n",
       "<table border=\"1\" class=\"dataframe\">\n",
       "  <thead>\n",
       "    <tr style=\"text-align: right;\">\n",
       "      <th></th>\n",
       "      <th>0</th>\n",
       "      <th>1</th>\n",
       "      <th>2</th>\n",
       "    </tr>\n",
       "  </thead>\n",
       "  <tbody>\n",
       "    <tr>\n",
       "      <th>0</th>\n",
       "      <td>1</td>\n",
       "      <td>2</td>\n",
       "      <td>0.6</td>\n",
       "    </tr>\n",
       "    <tr>\n",
       "      <th>1</th>\n",
       "      <td>2</td>\n",
       "      <td>3</td>\n",
       "      <td>0.4</td>\n",
       "    </tr>\n",
       "    <tr>\n",
       "      <th>2</th>\n",
       "      <td>3</td>\n",
       "      <td>4</td>\n",
       "      <td>0.2</td>\n",
       "    </tr>\n",
       "    <tr>\n",
       "      <th>3</th>\n",
       "      <td>4</td>\n",
       "      <td>5</td>\n",
       "      <td>0.7</td>\n",
       "    </tr>\n",
       "  </tbody>\n",
       "</table>\n",
       "</div>"
      ],
      "text/plain": [
       "   0  1    2\n",
       "0  1  2  0.6\n",
       "1  2  3  0.4\n",
       "2  3  4  0.2\n",
       "3  4  5  0.7"
      ]
     },
     "execution_count": 2,
     "metadata": {},
     "output_type": "execute_result"
    }
   ],
   "source": [
    "df = pd.DataFrame([[1,2,0.6], [2,3,0.4], [3,4,0.2], [4,5,.7]])\n",
    "df"
   ]
  },
  {
   "cell_type": "code",
   "execution_count": 9,
   "id": "b07f111b-26c3-4f3b-bf4e-3b47079e4d57",
   "metadata": {},
   "outputs": [
    {
     "data": {
      "text/html": [
       "<div>\n",
       "<style scoped>\n",
       "    .dataframe tbody tr th:only-of-type {\n",
       "        vertical-align: middle;\n",
       "    }\n",
       "\n",
       "    .dataframe tbody tr th {\n",
       "        vertical-align: top;\n",
       "    }\n",
       "\n",
       "    .dataframe thead th {\n",
       "        text-align: right;\n",
       "    }\n",
       "</style>\n",
       "<table border=\"1\" class=\"dataframe\">\n",
       "  <thead>\n",
       "    <tr style=\"text-align: right;\">\n",
       "      <th></th>\n",
       "      <th>0</th>\n",
       "      <th>1</th>\n",
       "      <th>2</th>\n",
       "    </tr>\n",
       "  </thead>\n",
       "  <tbody>\n",
       "    <tr>\n",
       "      <th>0</th>\n",
       "      <td>1.000000</td>\n",
       "      <td>2.000000</td>\n",
       "      <td>0.600000</td>\n",
       "    </tr>\n",
       "    <tr>\n",
       "      <th>1</th>\n",
       "      <td>1.750000</td>\n",
       "      <td>2.750000</td>\n",
       "      <td>0.450000</td>\n",
       "    </tr>\n",
       "    <tr>\n",
       "      <th>2</th>\n",
       "      <td>2.615385</td>\n",
       "      <td>3.615385</td>\n",
       "      <td>0.276923</td>\n",
       "    </tr>\n",
       "    <tr>\n",
       "      <th>3</th>\n",
       "      <td>3.550000</td>\n",
       "      <td>4.550000</td>\n",
       "      <td>0.562500</td>\n",
       "    </tr>\n",
       "  </tbody>\n",
       "</table>\n",
       "</div>"
      ],
      "text/plain": [
       "          0         1         2\n",
       "0  1.000000  2.000000  0.600000\n",
       "1  1.750000  2.750000  0.450000\n",
       "2  2.615385  3.615385  0.276923\n",
       "3  3.550000  4.550000  0.562500"
      ]
     },
     "execution_count": 9,
     "metadata": {},
     "output_type": "execute_result"
    }
   ],
   "source": [
    "df = pd.DataFrame([[1,2,0.6], [2,3,0.4], [3,4,0.2], [4,5,0.7]])"
   ]
  },
  {
   "cell_type": "code",
   "execution_count": 17,
   "id": "db385835-2d70-461e-8b4c-89186ba8e967",
   "metadata": {},
   "outputs": [
    {
     "name": "stdout",
     "output_type": "stream",
     "text": [
      "   0  1    2\n",
      "0  1  2  0.6\n",
      "1  2  3  0.4\n",
      "2  3  4  0.2\n",
      "3  4  5  0.7\n"
     ]
    }
   ],
   "source": [
    "for i in df.ewm(2):\n",
    "    print(i)"
   ]
  },
  {
   "cell_type": "code",
   "execution_count": 27,
   "id": "e6627857-dfbd-4c11-b936-45d04fc62c0f",
   "metadata": {},
   "outputs": [
    {
     "data": {
      "text/plain": [
       "6"
      ]
     },
     "execution_count": 27,
     "metadata": {},
     "output_type": "execute_result"
    }
   ],
   "source": []
  },
  {
   "cell_type": "code",
   "execution_count": null,
   "id": "d4d4237e-0bca-4dcf-80dd-5871d8aac19b",
   "metadata": {},
   "outputs": [],
   "source": [
    "online_ewm = df.head(2).ewm(0.5).online()\n",
    "online_ewm.mean()"
   ]
  },
  {
   "cell_type": "code",
   "execution_count": 15,
   "id": "419cc41c-cd2a-4c9d-8ac8-d73c6e588116",
   "metadata": {},
   "outputs": [
    {
     "data": {
      "text/plain": [
       "0    2.500\n",
       "1    3.500\n",
       "2    0.475\n",
       "dtype: float64"
      ]
     },
     "execution_count": 15,
     "metadata": {},
     "output_type": "execute_result"
    }
   ],
   "source": [
    "df.mean()"
   ]
  },
  {
   "cell_type": "code",
   "execution_count": 28,
   "id": "485738a9-df0e-4c0d-8633-bbae75c994c4",
   "metadata": {},
   "outputs": [
    {
     "data": {
      "text/plain": [
       "2020-01-01    NaN\n",
       "2020-01-03    1.0\n",
       "2020-01-04    3.0\n",
       "2020-01-05    5.0\n",
       "2020-01-29    7.0\n",
       "dtype: float64"
      ]
     },
     "execution_count": 28,
     "metadata": {},
     "output_type": "execute_result"
    }
   ],
   "source": [
    "time = ['2020-01-01', '2020-01-03', '2020-01-04', '2020-01-05', '2020-01-29']\n",
    "s = pd.Series(range(5), index=pd.DatetimeIndex(time))\n",
    "s.rolling(window=2).sum()"
   ]
  },
  {
   "cell_type": "code",
   "execution_count": 29,
   "id": "e574f1ed-ac2b-4c7c-96f8-ab77fa136cdc",
   "metadata": {},
   "outputs": [
    {
     "data": {
      "text/plain": [
       "2020-01-01    0.0\n",
       "2020-01-03    1.0\n",
       "2020-01-04    3.0\n",
       "2020-01-05    5.0\n",
       "2020-01-29    4.0\n",
       "dtype: float64"
      ]
     },
     "execution_count": 29,
     "metadata": {},
     "output_type": "execute_result"
    }
   ],
   "source": [
    "s.rolling(window='2D').sum()"
   ]
  },
  {
   "cell_type": "code",
   "execution_count": 31,
   "id": "3739c422-79cb-4d41-a022-701bb6c7dd8e",
   "metadata": {},
   "outputs": [
    {
     "data": {
      "text/plain": [
       "2020-01-01    0\n",
       "2020-01-03    1\n",
       "2020-01-04    2\n",
       "2020-01-05    3\n",
       "2020-01-29    4\n",
       "dtype: int64"
      ]
     },
     "execution_count": 31,
     "metadata": {},
     "output_type": "execute_result"
    }
   ],
   "source": [
    "s"
   ]
  },
  {
   "cell_type": "code",
   "execution_count": 32,
   "id": "b0e924ee-5715-4c1d-9c64-6c13d5d8beaa",
   "metadata": {},
   "outputs": [
    {
     "name": "stdout",
     "output_type": "stream",
     "text": [
      "2020-01-01    0\n",
      "dtype: int64\n",
      "2020-01-03    1\n",
      "dtype: int64\n",
      "2020-01-03    1\n",
      "2020-01-04    2\n",
      "dtype: int64\n",
      "2020-01-04    2\n",
      "2020-01-05    3\n",
      "dtype: int64\n",
      "2020-01-29    4\n",
      "dtype: int64\n"
     ]
    }
   ],
   "source": [
    "for i in s.rolling(window='2D'):\n",
    "    print(i)"
   ]
  },
  {
   "cell_type": "code",
   "execution_count": 34,
   "id": "3fb5bfe8-71c7-4a10-abba-131647262c08",
   "metadata": {},
   "outputs": [
    {
     "data": {
      "text/html": [
       "<div>\n",
       "<style scoped>\n",
       "    .dataframe tbody tr th:only-of-type {\n",
       "        vertical-align: middle;\n",
       "    }\n",
       "\n",
       "    .dataframe tbody tr th {\n",
       "        vertical-align: top;\n",
       "    }\n",
       "\n",
       "    .dataframe thead th {\n",
       "        text-align: right;\n",
       "    }\n",
       "</style>\n",
       "<table border=\"1\" class=\"dataframe\">\n",
       "  <thead>\n",
       "    <tr style=\"text-align: right;\">\n",
       "      <th></th>\n",
       "      <th>A</th>\n",
       "    </tr>\n",
       "  </thead>\n",
       "  <tbody>\n",
       "    <tr>\n",
       "      <th>2020-01-01</th>\n",
       "      <td>0.5</td>\n",
       "    </tr>\n",
       "    <tr>\n",
       "      <th>2020-01-02</th>\n",
       "      <td>1.5</td>\n",
       "    </tr>\n",
       "    <tr>\n",
       "      <th>2020-01-03</th>\n",
       "      <td>2.5</td>\n",
       "    </tr>\n",
       "    <tr>\n",
       "      <th>2020-01-04</th>\n",
       "      <td>3.5</td>\n",
       "    </tr>\n",
       "    <tr>\n",
       "      <th>2020-01-05</th>\n",
       "      <td>4.0</td>\n",
       "    </tr>\n",
       "  </tbody>\n",
       "</table>\n",
       "</div>"
      ],
      "text/plain": [
       "              A\n",
       "2020-01-01  0.5\n",
       "2020-01-02  1.5\n",
       "2020-01-03  2.5\n",
       "2020-01-04  3.5\n",
       "2020-01-05  4.0"
      ]
     },
     "execution_count": 34,
     "metadata": {},
     "output_type": "execute_result"
    }
   ],
   "source": [
    "df = pd.DataFrame({'A': [0, 1, 2, 3, 4]}, index=pd.date_range('2020', periods=5, freq='1D'))\n",
    "df.rolling('2D', center=True).mean()"
   ]
  },
  {
   "cell_type": "code",
   "execution_count": 36,
   "id": "03641ade-3273-4b33-bce1-0f22c27cfb34",
   "metadata": {},
   "outputs": [
    {
     "name": "stdout",
     "output_type": "stream",
     "text": [
      "            A\n",
      "2020-01-01  0\n",
      "2020-01-02  1\n",
      "            A\n",
      "2020-01-02  1\n",
      "2020-01-03  2\n",
      "            A\n",
      "2020-01-03  2\n",
      "2020-01-04  3\n",
      "            A\n",
      "2020-01-04  3\n",
      "2020-01-05  4\n",
      "            A\n",
      "2020-01-05  4\n"
     ]
    }
   ],
   "source": [
    "for i in df.rolling('2D', center=True):\n",
    "    print(i)"
   ]
  },
  {
   "cell_type": "code",
   "execution_count": 39,
   "id": "f1776909-4b0a-4964-959d-1d2c28d7d18d",
   "metadata": {},
   "outputs": [
    {
     "name": "stdout",
     "output_type": "stream",
     "text": [
      "0    0\n",
      "1    1\n",
      "2    2\n",
      "dtype: int64\n",
      "0    0\n",
      "1    1\n",
      "2    2\n",
      "3    3\n",
      "dtype: int64\n",
      "0    0\n",
      "1    1\n",
      "2    2\n",
      "3    3\n",
      "4    4\n",
      "dtype: int64\n",
      "1    1\n",
      "2    2\n",
      "3    3\n",
      "4    4\n",
      "5    5\n",
      "dtype: int64\n",
      "2    2\n",
      "3    3\n",
      "4    4\n",
      "5    5\n",
      "6    6\n",
      "dtype: int64\n",
      "3    3\n",
      "4    4\n",
      "5    5\n",
      "6    6\n",
      "7    7\n",
      "dtype: int64\n",
      "4    4\n",
      "5    5\n",
      "6    6\n",
      "7    7\n",
      "8    8\n",
      "dtype: int64\n",
      "5    5\n",
      "6    6\n",
      "7    7\n",
      "8    8\n",
      "9    9\n",
      "dtype: int64\n",
      "6    6\n",
      "7    7\n",
      "8    8\n",
      "9    9\n",
      "dtype: int64\n",
      "7    7\n",
      "8    8\n",
      "9    9\n",
      "dtype: int64\n"
     ]
    }
   ],
   "source": [
    "s = pd.Series(range(10))\n",
    "for i in s.rolling(window=5, center=True):\n",
    "    print(i)"
   ]
  },
  {
   "cell_type": "code",
   "execution_count": 40,
   "id": "82211ffd-ba00-4f6d-beee-873683e6105c",
   "metadata": {},
   "outputs": [],
   "source": [
    "df = pd.DataFrame({\"x\": 1}, index=[ pd.Timestamp(\"20130101 09:00:01\"),\n",
    "                                    pd.Timestamp(\"20130101 09:00:02\"),\n",
    "                                    pd.Timestamp(\"20130101 09:00:03\"),\n",
    "                                    pd.Timestamp(\"20130101 09:00:04\"),\n",
    "                                    pd.Timestamp(\"20130101 09:00:06\")])\n",
    "df['right'] = df.rolling('2s', closed='right').mean()"
   ]
  },
  {
   "cell_type": "code",
   "execution_count": 45,
   "id": "99390771-157c-4f3c-8b4a-0c3ca3ced0ae",
   "metadata": {},
   "outputs": [
    {
     "name": "stdout",
     "output_type": "stream",
     "text": [
      "2013-01-01 09:00:01    1\n",
      "Name: x, dtype: int64\n",
      "2013-01-01 09:00:01    1\n",
      "2013-01-01 09:00:02    1\n",
      "Name: x, dtype: int64\n",
      "2013-01-01 09:00:02    1\n",
      "2013-01-01 09:00:03    1\n",
      "Name: x, dtype: int64\n",
      "2013-01-01 09:00:03    1\n",
      "2013-01-01 09:00:04    1\n",
      "Name: x, dtype: int64\n",
      "2013-01-01 09:00:06    1\n",
      "Name: x, dtype: int64\n"
     ]
    }
   ],
   "source": [
    "for i in df.rolling('2s', closed='right').x:\n",
    "    print(i)"
   ]
  },
  {
   "cell_type": "code",
   "execution_count": 48,
   "id": "ff892068-e43e-4ca7-a211-867b7769f48f",
   "metadata": {},
   "outputs": [
    {
     "name": "stdout",
     "output_type": "stream",
     "text": [
      "Series([], Name: x, dtype: int64)\n",
      "2013-01-01 09:00:01    1\n",
      "Name: x, dtype: int64\n",
      "2013-01-01 09:00:01    1\n",
      "2013-01-01 09:00:02    1\n",
      "Name: x, dtype: int64\n",
      "2013-01-01 09:00:02    1\n",
      "2013-01-01 09:00:03    1\n",
      "Name: x, dtype: int64\n",
      "2013-01-01 09:00:04    1\n",
      "Name: x, dtype: int64\n"
     ]
    }
   ],
   "source": [
    "for i in df.rolling('2s', closed='left').x:\n",
    "    print(i)"
   ]
  },
  {
   "cell_type": "code",
   "execution_count": 49,
   "id": "7a85390e-a3a4-46ef-a521-3ba504ee4b30",
   "metadata": {},
   "outputs": [
    {
     "name": "stdout",
     "output_type": "stream",
     "text": [
      "2013-01-01 09:00:01    1\n",
      "Name: x, dtype: int64\n",
      "2013-01-01 09:00:01    1\n",
      "2013-01-01 09:00:02    1\n",
      "Name: x, dtype: int64\n",
      "2013-01-01 09:00:01    1\n",
      "2013-01-01 09:00:02    1\n",
      "2013-01-01 09:00:03    1\n",
      "Name: x, dtype: int64\n",
      "2013-01-01 09:00:02    1\n",
      "2013-01-01 09:00:03    1\n",
      "2013-01-01 09:00:04    1\n",
      "Name: x, dtype: int64\n",
      "2013-01-01 09:00:04    1\n",
      "2013-01-01 09:00:06    1\n",
      "Name: x, dtype: int64\n"
     ]
    }
   ],
   "source": [
    "for i in df.rolling('2s', closed='both').x:\n",
    "    print(i)"
   ]
  },
  {
   "cell_type": "code",
   "execution_count": 50,
   "id": "10eba81b-6e66-40b1-bdcb-a2139ede5e93",
   "metadata": {},
   "outputs": [
    {
     "name": "stdout",
     "output_type": "stream",
     "text": [
      "Series([], Name: x, dtype: int64)\n",
      "2013-01-01 09:00:01    1\n",
      "Name: x, dtype: int64\n",
      "2013-01-01 09:00:02    1\n",
      "Name: x, dtype: int64\n",
      "2013-01-01 09:00:03    1\n",
      "Name: x, dtype: int64\n",
      "Series([], Name: x, dtype: int64)\n"
     ]
    }
   ],
   "source": [
    "for i in df.rolling('2s', closed='neither').x:\n",
    "    print(i)"
   ]
  },
  {
   "cell_type": "code",
   "execution_count": 51,
   "id": "9dea0fce-d305-4450-9281-ab3cfdac1bb1",
   "metadata": {},
   "outputs": [
    {
     "data": {
      "text/html": [
       "<div>\n",
       "<style scoped>\n",
       "    .dataframe tbody tr th:only-of-type {\n",
       "        vertical-align: middle;\n",
       "    }\n",
       "\n",
       "    .dataframe tbody tr th {\n",
       "        vertical-align: top;\n",
       "    }\n",
       "\n",
       "    .dataframe thead th {\n",
       "        text-align: right;\n",
       "    }\n",
       "</style>\n",
       "<table border=\"1\" class=\"dataframe\">\n",
       "  <thead>\n",
       "    <tr style=\"text-align: right;\">\n",
       "      <th></th>\n",
       "      <th>values</th>\n",
       "    </tr>\n",
       "  </thead>\n",
       "  <tbody>\n",
       "    <tr>\n",
       "      <th>0</th>\n",
       "      <td>0.0</td>\n",
       "    </tr>\n",
       "    <tr>\n",
       "      <th>1</th>\n",
       "      <td>1.0</td>\n",
       "    </tr>\n",
       "    <tr>\n",
       "      <th>2</th>\n",
       "      <td>3.0</td>\n",
       "    </tr>\n",
       "    <tr>\n",
       "      <th>3</th>\n",
       "      <td>3.0</td>\n",
       "    </tr>\n",
       "    <tr>\n",
       "      <th>4</th>\n",
       "      <td>10.0</td>\n",
       "    </tr>\n",
       "  </tbody>\n",
       "</table>\n",
       "</div>"
      ],
      "text/plain": [
       "   values\n",
       "0     0.0\n",
       "1     1.0\n",
       "2     3.0\n",
       "3     3.0\n",
       "4    10.0"
      ]
     },
     "execution_count": 51,
     "metadata": {},
     "output_type": "execute_result"
    }
   ],
   "source": [
    "use_expanding = [True, False, True, False, True]\n",
    "df = pd.DataFrame({'values': range(5)})\n",
    "from pandas.api.indexers import BaseIndexer\n",
    "class CustomIndexer(BaseIndexer):\n",
    "    def get_window_bounds(self, num_values, min_periods, center, closed):\n",
    "        start = np.empty(num_values, dtype=np.int64)\n",
    "        end = np.empty(num_values, dtype=np.int64)\n",
    "        for i in range(num_values):\n",
    "            if self.use_expanding[i]:\n",
    "                start[i] = 0\n",
    "                end[i] = i + 1\n",
    "            else:\n",
    "                start[i] = i\n",
    "                end[i] = i + self.window_size\n",
    "        return start, end\n",
    "indexer = CustomIndexer(window_size=1, use_expanding=use_expanding)\n",
    "df.rolling(indexer).sum()"
   ]
  },
  {
   "cell_type": "code",
   "execution_count": 55,
   "id": "a7443a65-4e5c-44e7-92ec-5f1901242a98",
   "metadata": {},
   "outputs": [
    {
     "data": {
      "text/html": [
       "<div>\n",
       "<style scoped>\n",
       "    .dataframe tbody tr th:only-of-type {\n",
       "        vertical-align: middle;\n",
       "    }\n",
       "\n",
       "    .dataframe tbody tr th {\n",
       "        vertical-align: top;\n",
       "    }\n",
       "\n",
       "    .dataframe thead th {\n",
       "        text-align: right;\n",
       "    }\n",
       "</style>\n",
       "<table border=\"1\" class=\"dataframe\">\n",
       "  <thead>\n",
       "    <tr style=\"text-align: right;\">\n",
       "      <th></th>\n",
       "      <th>values</th>\n",
       "    </tr>\n",
       "  </thead>\n",
       "  <tbody>\n",
       "    <tr>\n",
       "      <th>0</th>\n",
       "      <td>0.0</td>\n",
       "    </tr>\n",
       "    <tr>\n",
       "      <th>1</th>\n",
       "      <td>1.0</td>\n",
       "    </tr>\n",
       "    <tr>\n",
       "      <th>2</th>\n",
       "      <td>3.0</td>\n",
       "    </tr>\n",
       "    <tr>\n",
       "      <th>3</th>\n",
       "      <td>3.0</td>\n",
       "    </tr>\n",
       "    <tr>\n",
       "      <th>4</th>\n",
       "      <td>10.0</td>\n",
       "    </tr>\n",
       "  </tbody>\n",
       "</table>\n",
       "</div>"
      ],
      "text/plain": [
       "   values\n",
       "0     0.0\n",
       "1     1.0\n",
       "2     3.0\n",
       "3     3.0\n",
       "4    10.0"
      ]
     },
     "execution_count": 55,
     "metadata": {},
     "output_type": "execute_result"
    }
   ],
   "source": [
    "use_expanding = [True, False, True, False, True]\n",
    "df = pd.DataFrame({'values': range(5)})\n",
    "from pandas.api.indexers import BaseIndexer\n",
    "class CustomIndexer(BaseIndexer):\n",
    "    def get_window_bounds(self, num_values, min_periods, center, closed):\n",
    "        start = np.empty(num_values, dtype=np.int64)\n",
    "        end = np.empty(num_values, dtype=np.int64)\n",
    "        for i in range(num_values):\n",
    "            if self.use_expanding[i]:\n",
    "                start[i] = 0\n",
    "                end[i] = i + 1\n",
    "            else:\n",
    "                start[i] = i\n",
    "                end[i] = i + self.window_size\n",
    "        return start, end\n",
    "indexer = CustomIndexer(window_size=1, use_expanding=use_expanding)\n",
    "df.rolling(indexer).sum()"
   ]
  },
  {
   "cell_type": "code",
   "execution_count": 67,
   "id": "ae70aa36-40f4-4960-be83-bed9bebdeb1b",
   "metadata": {},
   "outputs": [
    {
     "name": "stdout",
     "output_type": "stream",
     "text": [
      "            0\n",
      "2020-01-01  0\n",
      "            0\n",
      "2020-01-02  1\n",
      "            0\n",
      "2020-01-03  2\n",
      "            0\n",
      "2020-01-04  3\n",
      "            0\n",
      "2020-01-04  3\n",
      "2020-01-05  4\n",
      "            0\n",
      "2020-01-04  3\n",
      "2020-01-05  4\n",
      "2020-01-06  5\n",
      "            0\n",
      "2020-01-07  6\n",
      "            0\n",
      "2020-01-08  7\n",
      "            0\n",
      "2020-01-09  8\n",
      "            0\n",
      "2020-01-10  9\n"
     ]
    }
   ],
   "source": [
    "from pandas.api.indexers import VariableOffsetWindowIndexer\n",
    "df = pd.DataFrame(range(10), index=pd.date_range('2020', periods=10))\n",
    "# df\n",
    "offset = pd.offsets.BDay(1)\n",
    "indexer = VariableOffsetWindowIndexer(index=df.index, offset=offset)\n",
    "for i in df.rolling(indexer):\n",
    "    print(i)"
   ]
  },
  {
   "cell_type": "code",
   "execution_count": 5,
   "id": "91259ced-4696-4987-9bdf-5544696d011b",
   "metadata": {},
   "outputs": [
    {
     "data": {
      "text/html": [
       "<div>\n",
       "<style scoped>\n",
       "    .dataframe tbody tr th:only-of-type {\n",
       "        vertical-align: middle;\n",
       "    }\n",
       "\n",
       "    .dataframe tbody tr th {\n",
       "        vertical-align: top;\n",
       "    }\n",
       "\n",
       "    .dataframe thead th {\n",
       "        text-align: right;\n",
       "    }\n",
       "</style>\n",
       "<table border=\"1\" class=\"dataframe\">\n",
       "  <thead>\n",
       "    <tr style=\"text-align: right;\">\n",
       "      <th></th>\n",
       "      <th>A</th>\n",
       "      <th>B</th>\n",
       "      <th>C</th>\n",
       "      <th>D</th>\n",
       "    </tr>\n",
       "  </thead>\n",
       "  <tbody>\n",
       "    <tr>\n",
       "      <th>2020-01-01</th>\n",
       "      <td>-0.543583</td>\n",
       "      <td>-0.588736</td>\n",
       "      <td>1.116405</td>\n",
       "      <td>1.218742</td>\n",
       "    </tr>\n",
       "    <tr>\n",
       "      <th>2020-01-02</th>\n",
       "      <td>-0.207198</td>\n",
       "      <td>0.196343</td>\n",
       "      <td>0.217880</td>\n",
       "      <td>-0.210867</td>\n",
       "    </tr>\n",
       "    <tr>\n",
       "      <th>2020-01-03</th>\n",
       "      <td>-0.113428</td>\n",
       "      <td>0.093499</td>\n",
       "      <td>1.436925</td>\n",
       "      <td>-0.880112</td>\n",
       "    </tr>\n",
       "    <tr>\n",
       "      <th>2020-01-04</th>\n",
       "      <td>-0.422756</td>\n",
       "      <td>-0.482494</td>\n",
       "      <td>0.843452</td>\n",
       "      <td>-0.456330</td>\n",
       "    </tr>\n",
       "    <tr>\n",
       "      <th>2020-01-05</th>\n",
       "      <td>-0.145542</td>\n",
       "      <td>0.438325</td>\n",
       "      <td>2.333066</td>\n",
       "      <td>0.278738</td>\n",
       "    </tr>\n",
       "    <tr>\n",
       "      <th>2020-01-06</th>\n",
       "      <td>-0.081122</td>\n",
       "      <td>2.228140</td>\n",
       "      <td>1.745636</td>\n",
       "      <td>-0.144605</td>\n",
       "    </tr>\n",
       "    <tr>\n",
       "      <th>2020-01-07</th>\n",
       "      <td>0.047339</td>\n",
       "      <td>5.328704</td>\n",
       "      <td>1.879513</td>\n",
       "      <td>-0.187532</td>\n",
       "    </tr>\n",
       "    <tr>\n",
       "      <th>2020-01-08</th>\n",
       "      <td>-0.193188</td>\n",
       "      <td>5.352630</td>\n",
       "      <td>0.855872</td>\n",
       "      <td>-0.651730</td>\n",
       "    </tr>\n",
       "    <tr>\n",
       "      <th>2020-01-09</th>\n",
       "      <td>0.742860</td>\n",
       "      <td>5.563415</td>\n",
       "      <td>0.488059</td>\n",
       "      <td>-0.347088</td>\n",
       "    </tr>\n",
       "    <tr>\n",
       "      <th>2020-01-10</th>\n",
       "      <td>0.197228</td>\n",
       "      <td>5.568159</td>\n",
       "      <td>-0.052614</td>\n",
       "      <td>-0.461156</td>\n",
       "    </tr>\n",
       "  </tbody>\n",
       "</table>\n",
       "</div>"
      ],
      "text/plain": [
       "                   A         B         C         D\n",
       "2020-01-01 -0.543583 -0.588736  1.116405  1.218742\n",
       "2020-01-02 -0.207198  0.196343  0.217880 -0.210867\n",
       "2020-01-03 -0.113428  0.093499  1.436925 -0.880112\n",
       "2020-01-04 -0.422756 -0.482494  0.843452 -0.456330\n",
       "2020-01-05 -0.145542  0.438325  2.333066  0.278738\n",
       "2020-01-06 -0.081122  2.228140  1.745636 -0.144605\n",
       "2020-01-07  0.047339  5.328704  1.879513 -0.187532\n",
       "2020-01-08 -0.193188  5.352630  0.855872 -0.651730\n",
       "2020-01-09  0.742860  5.563415  0.488059 -0.347088\n",
       "2020-01-10  0.197228  5.568159 -0.052614 -0.461156"
      ]
     },
     "execution_count": 5,
     "metadata": {},
     "output_type": "execute_result"
    }
   ],
   "source": [
    "df = pd.DataFrame(np.random.randn(10, 4), index=pd.date_range('2020-01-01', periods=10), columns=list('ABCD'))\n",
    "df1 = df.cumsum()\n",
    "df1"
   ]
  },
  {
   "cell_type": "code",
   "execution_count": 6,
   "id": "b326fc26-19e7-4685-8a38-ddceafe595e4",
   "metadata": {},
   "outputs": [
    {
     "data": {
      "text/html": [
       "<div>\n",
       "<style scoped>\n",
       "    .dataframe tbody tr th:only-of-type {\n",
       "        vertical-align: middle;\n",
       "    }\n",
       "\n",
       "    .dataframe tbody tr th {\n",
       "        vertical-align: top;\n",
       "    }\n",
       "\n",
       "    .dataframe thead th {\n",
       "        text-align: right;\n",
       "    }\n",
       "</style>\n",
       "<table border=\"1\" class=\"dataframe\">\n",
       "  <thead>\n",
       "    <tr style=\"text-align: right;\">\n",
       "      <th></th>\n",
       "      <th>A</th>\n",
       "      <th>B</th>\n",
       "      <th>C</th>\n",
       "      <th>D</th>\n",
       "    </tr>\n",
       "  </thead>\n",
       "  <tbody>\n",
       "    <tr>\n",
       "      <th>2020-01-01</th>\n",
       "      <td>-0.543583</td>\n",
       "      <td>-0.588736</td>\n",
       "      <td>1.116405</td>\n",
       "      <td>1.218742</td>\n",
       "    </tr>\n",
       "    <tr>\n",
       "      <th>2020-01-02</th>\n",
       "      <td>0.336385</td>\n",
       "      <td>0.785078</td>\n",
       "      <td>-0.898525</td>\n",
       "      <td>-1.429609</td>\n",
       "    </tr>\n",
       "    <tr>\n",
       "      <th>2020-01-03</th>\n",
       "      <td>0.093770</td>\n",
       "      <td>-0.102844</td>\n",
       "      <td>1.219045</td>\n",
       "      <td>-0.669245</td>\n",
       "    </tr>\n",
       "    <tr>\n",
       "      <th>2020-01-04</th>\n",
       "      <td>-0.309329</td>\n",
       "      <td>-0.575993</td>\n",
       "      <td>-0.593473</td>\n",
       "      <td>0.423782</td>\n",
       "    </tr>\n",
       "    <tr>\n",
       "      <th>2020-01-05</th>\n",
       "      <td>0.277215</td>\n",
       "      <td>0.920819</td>\n",
       "      <td>1.489614</td>\n",
       "      <td>0.735067</td>\n",
       "    </tr>\n",
       "    <tr>\n",
       "      <th>2020-01-06</th>\n",
       "      <td>0.064419</td>\n",
       "      <td>1.789815</td>\n",
       "      <td>-0.587430</td>\n",
       "      <td>-0.423343</td>\n",
       "    </tr>\n",
       "    <tr>\n",
       "      <th>2020-01-07</th>\n",
       "      <td>0.128461</td>\n",
       "      <td>3.100564</td>\n",
       "      <td>0.133877</td>\n",
       "      <td>-0.042927</td>\n",
       "    </tr>\n",
       "    <tr>\n",
       "      <th>2020-01-08</th>\n",
       "      <td>-0.240527</td>\n",
       "      <td>0.023926</td>\n",
       "      <td>-1.023641</td>\n",
       "      <td>-0.464198</td>\n",
       "    </tr>\n",
       "    <tr>\n",
       "      <th>2020-01-09</th>\n",
       "      <td>0.936048</td>\n",
       "      <td>0.210785</td>\n",
       "      <td>-0.367813</td>\n",
       "      <td>0.304642</td>\n",
       "    </tr>\n",
       "    <tr>\n",
       "      <th>2020-01-10</th>\n",
       "      <td>-0.545632</td>\n",
       "      <td>0.004744</td>\n",
       "      <td>-0.540674</td>\n",
       "      <td>-0.114068</td>\n",
       "    </tr>\n",
       "  </tbody>\n",
       "</table>\n",
       "</div>"
      ],
      "text/plain": [
       "                   A         B         C         D\n",
       "2020-01-01 -0.543583 -0.588736  1.116405  1.218742\n",
       "2020-01-02  0.336385  0.785078 -0.898525 -1.429609\n",
       "2020-01-03  0.093770 -0.102844  1.219045 -0.669245\n",
       "2020-01-04 -0.309329 -0.575993 -0.593473  0.423782\n",
       "2020-01-05  0.277215  0.920819  1.489614  0.735067\n",
       "2020-01-06  0.064419  1.789815 -0.587430 -0.423343\n",
       "2020-01-07  0.128461  3.100564  0.133877 -0.042927\n",
       "2020-01-08 -0.240527  0.023926 -1.023641 -0.464198\n",
       "2020-01-09  0.936048  0.210785 -0.367813  0.304642\n",
       "2020-01-10 -0.545632  0.004744 -0.540674 -0.114068"
      ]
     },
     "execution_count": 6,
     "metadata": {},
     "output_type": "execute_result"
    }
   ],
   "source": [
    "df"
   ]
  },
  {
   "cell_type": "code",
   "execution_count": 7,
   "id": "6f3ef742-7302-4ab6-bd77-855c16c1df8a",
   "metadata": {},
   "outputs": [
    {
     "data": {
      "text/html": [
       "<div>\n",
       "<style scoped>\n",
       "    .dataframe tbody tr th:only-of-type {\n",
       "        vertical-align: middle;\n",
       "    }\n",
       "\n",
       "    .dataframe tbody tr th {\n",
       "        vertical-align: top;\n",
       "    }\n",
       "\n",
       "    .dataframe thead th {\n",
       "        text-align: right;\n",
       "    }\n",
       "</style>\n",
       "<table border=\"1\" class=\"dataframe\">\n",
       "  <thead>\n",
       "    <tr style=\"text-align: right;\">\n",
       "      <th></th>\n",
       "      <th>A</th>\n",
       "      <th>B</th>\n",
       "      <th>C</th>\n",
       "      <th>D</th>\n",
       "    </tr>\n",
       "  </thead>\n",
       "  <tbody>\n",
       "    <tr>\n",
       "      <th>2020-01-01</th>\n",
       "      <td>NaN</td>\n",
       "      <td>NaN</td>\n",
       "      <td>NaN</td>\n",
       "      <td>NaN</td>\n",
       "    </tr>\n",
       "    <tr>\n",
       "      <th>2020-01-02</th>\n",
       "      <td>1.0</td>\n",
       "      <td>1.0</td>\n",
       "      <td>-1.0</td>\n",
       "      <td>-1.0</td>\n",
       "    </tr>\n",
       "    <tr>\n",
       "      <th>2020-01-03</th>\n",
       "      <td>-1.0</td>\n",
       "      <td>1.0</td>\n",
       "      <td>-1.0</td>\n",
       "      <td>1.0</td>\n",
       "    </tr>\n",
       "    <tr>\n",
       "      <th>2020-01-04</th>\n",
       "      <td>1.0</td>\n",
       "      <td>1.0</td>\n",
       "      <td>1.0</td>\n",
       "      <td>-1.0</td>\n",
       "    </tr>\n",
       "  </tbody>\n",
       "</table>\n",
       "</div>"
      ],
      "text/plain": [
       "              A    B    C    D\n",
       "2020-01-01  NaN  NaN  NaN  NaN\n",
       "2020-01-02  1.0  1.0 -1.0 -1.0\n",
       "2020-01-03 -1.0  1.0 -1.0  1.0\n",
       "2020-01-04  1.0  1.0  1.0 -1.0"
      ]
     },
     "execution_count": 7,
     "metadata": {},
     "output_type": "execute_result"
    }
   ],
   "source": [
    "df2 = df1[:4]\n",
    "df2.rolling(window=2).corr(df1['B'])"
   ]
  },
  {
   "cell_type": "code",
   "execution_count": 8,
   "id": "fafaf3d8-9e35-411b-ac43-e2948e1158de",
   "metadata": {},
   "outputs": [
    {
     "data": {
      "text/html": [
       "<div>\n",
       "<style scoped>\n",
       "    .dataframe tbody tr th:only-of-type {\n",
       "        vertical-align: middle;\n",
       "    }\n",
       "\n",
       "    .dataframe tbody tr th {\n",
       "        vertical-align: top;\n",
       "    }\n",
       "\n",
       "    .dataframe thead th {\n",
       "        text-align: right;\n",
       "    }\n",
       "</style>\n",
       "<table border=\"1\" class=\"dataframe\">\n",
       "  <thead>\n",
       "    <tr style=\"text-align: right;\">\n",
       "      <th></th>\n",
       "      <th>A</th>\n",
       "      <th>B</th>\n",
       "      <th>C</th>\n",
       "      <th>D</th>\n",
       "    </tr>\n",
       "  </thead>\n",
       "  <tbody>\n",
       "    <tr>\n",
       "      <th>2020-01-01</th>\n",
       "      <td>-0.543583</td>\n",
       "      <td>-0.588736</td>\n",
       "      <td>1.116405</td>\n",
       "      <td>1.218742</td>\n",
       "    </tr>\n",
       "    <tr>\n",
       "      <th>2020-01-02</th>\n",
       "      <td>-0.207198</td>\n",
       "      <td>0.196343</td>\n",
       "      <td>0.217880</td>\n",
       "      <td>-0.210867</td>\n",
       "    </tr>\n",
       "    <tr>\n",
       "      <th>2020-01-03</th>\n",
       "      <td>-0.113428</td>\n",
       "      <td>0.093499</td>\n",
       "      <td>1.436925</td>\n",
       "      <td>-0.880112</td>\n",
       "    </tr>\n",
       "    <tr>\n",
       "      <th>2020-01-04</th>\n",
       "      <td>-0.422756</td>\n",
       "      <td>-0.482494</td>\n",
       "      <td>0.843452</td>\n",
       "      <td>-0.456330</td>\n",
       "    </tr>\n",
       "  </tbody>\n",
       "</table>\n",
       "</div>"
      ],
      "text/plain": [
       "                   A         B         C         D\n",
       "2020-01-01 -0.543583 -0.588736  1.116405  1.218742\n",
       "2020-01-02 -0.207198  0.196343  0.217880 -0.210867\n",
       "2020-01-03 -0.113428  0.093499  1.436925 -0.880112\n",
       "2020-01-04 -0.422756 -0.482494  0.843452 -0.456330"
      ]
     },
     "execution_count": 8,
     "metadata": {},
     "output_type": "execute_result"
    }
   ],
   "source": [
    "df2"
   ]
  },
  {
   "cell_type": "code",
   "execution_count": null,
   "id": "1650e1a7-c762-4b09-841b-09eadd90bca3",
   "metadata": {},
   "outputs": [],
   "source": []
  },
  {
   "cell_type": "code",
   "execution_count": null,
   "id": "e43ae0ab-746f-41a3-a4a9-8dadd94f7e6e",
   "metadata": {},
   "outputs": [],
   "source": []
  },
  {
   "cell_type": "code",
   "execution_count": null,
   "id": "280df766-937a-48f0-9548-2008b92daec8",
   "metadata": {},
   "outputs": [],
   "source": []
  },
  {
   "cell_type": "code",
   "execution_count": null,
   "id": "208050b8-7227-4db0-8899-cfac57320634",
   "metadata": {},
   "outputs": [],
   "source": []
  },
  {
   "cell_type": "code",
   "execution_count": null,
   "id": "437a0983-e7bb-47e1-982c-f42a91d5c396",
   "metadata": {},
   "outputs": [],
   "source": []
  },
  {
   "cell_type": "code",
   "execution_count": null,
   "id": "9a62ce08-55b0-42df-92b3-74e08c10e2d0",
   "metadata": {},
   "outputs": [],
   "source": []
  },
  {
   "cell_type": "code",
   "execution_count": null,
   "id": "b7fd45bd-26af-480a-9344-9f2855a95ee4",
   "metadata": {},
   "outputs": [],
   "source": []
  },
  {
   "cell_type": "code",
   "execution_count": null,
   "id": "58187d08-a25c-4451-9d5a-fee068cacb45",
   "metadata": {},
   "outputs": [],
   "source": []
  },
  {
   "cell_type": "code",
   "execution_count": null,
   "id": "5e5ba1d8-6352-4e42-bd6e-4d24070c42c7",
   "metadata": {},
   "outputs": [],
   "source": []
  },
  {
   "cell_type": "code",
   "execution_count": null,
   "id": "647b19c0-a28d-40aa-b3a4-eb5e70f61a3a",
   "metadata": {},
   "outputs": [],
   "source": []
  },
  {
   "cell_type": "code",
   "execution_count": null,
   "id": "e4677a33-0aca-429f-a1f8-a556c7d8e554",
   "metadata": {},
   "outputs": [],
   "source": []
  },
  {
   "cell_type": "code",
   "execution_count": null,
   "id": "d7f045bf-a849-4e18-837e-ac6fee54d65e",
   "metadata": {},
   "outputs": [],
   "source": []
  },
  {
   "cell_type": "code",
   "execution_count": null,
   "id": "9983d047-e3ac-41ae-9d7b-e16b9ef6fce4",
   "metadata": {},
   "outputs": [],
   "source": []
  },
  {
   "cell_type": "code",
   "execution_count": null,
   "id": "3f12e6af-509c-42de-b647-9681ad4672d3",
   "metadata": {},
   "outputs": [],
   "source": []
  },
  {
   "cell_type": "code",
   "execution_count": null,
   "id": "73506452-e68e-4997-a974-6d781b3c17e8",
   "metadata": {},
   "outputs": [],
   "source": []
  },
  {
   "cell_type": "code",
   "execution_count": null,
   "id": "ad1ae8a3-5c34-43ce-a2d6-9cb947c924e0",
   "metadata": {},
   "outputs": [],
   "source": []
  },
  {
   "cell_type": "code",
   "execution_count": null,
   "id": "e8437d27-6386-45a0-9c87-11d6a186793f",
   "metadata": {},
   "outputs": [],
   "source": []
  },
  {
   "cell_type": "code",
   "execution_count": null,
   "id": "1c5c83dd-5a70-48d1-b3f0-b986461f6f93",
   "metadata": {},
   "outputs": [],
   "source": []
  },
  {
   "cell_type": "code",
   "execution_count": null,
   "id": "63baff04-22ea-4fb9-9026-55933d328af0",
   "metadata": {},
   "outputs": [],
   "source": []
  },
  {
   "cell_type": "code",
   "execution_count": null,
   "id": "c84fa8f3-5105-4051-abca-17b92bfd0548",
   "metadata": {},
   "outputs": [],
   "source": []
  },
  {
   "cell_type": "code",
   "execution_count": null,
   "id": "3dd38477-fa7c-462c-af9c-07bb39793597",
   "metadata": {},
   "outputs": [],
   "source": []
  },
  {
   "cell_type": "code",
   "execution_count": null,
   "id": "0fc168b3-6cf8-4cd6-b2bd-7c6de5f3b133",
   "metadata": {},
   "outputs": [],
   "source": []
  },
  {
   "cell_type": "code",
   "execution_count": null,
   "id": "d5f3e5c3-5e8c-4378-b1fb-5f5e0f1eab3a",
   "metadata": {},
   "outputs": [],
   "source": []
  },
  {
   "cell_type": "code",
   "execution_count": null,
   "id": "5fdfdadf-4f5e-4a7f-a485-cfdbbd1619c1",
   "metadata": {},
   "outputs": [],
   "source": []
  },
  {
   "cell_type": "code",
   "execution_count": null,
   "id": "eec1f70c-0996-4430-b06a-1ddd85ecac6a",
   "metadata": {},
   "outputs": [],
   "source": []
  },
  {
   "cell_type": "code",
   "execution_count": null,
   "id": "1e139d1b-2aee-4535-a1c3-f6606a22ebf0",
   "metadata": {},
   "outputs": [],
   "source": []
  },
  {
   "cell_type": "code",
   "execution_count": null,
   "id": "33e56b06-0d01-46ca-a9cf-0517767b86fa",
   "metadata": {},
   "outputs": [],
   "source": []
  },
  {
   "cell_type": "code",
   "execution_count": null,
   "id": "e55633f5-a871-48f4-97dc-3e9ef01d6ea8",
   "metadata": {},
   "outputs": [],
   "source": []
  },
  {
   "cell_type": "code",
   "execution_count": null,
   "id": "608f8716-7ac9-44eb-adbe-af212f3842a9",
   "metadata": {},
   "outputs": [],
   "source": []
  },
  {
   "cell_type": "code",
   "execution_count": null,
   "id": "8b878ae0-926b-4b5b-9f94-f8d88f9ef5d9",
   "metadata": {},
   "outputs": [],
   "source": []
  },
  {
   "cell_type": "code",
   "execution_count": null,
   "id": "1aae99be-88aa-4377-8b51-7a0c10925de8",
   "metadata": {},
   "outputs": [],
   "source": []
  },
  {
   "cell_type": "code",
   "execution_count": null,
   "id": "96dae580-93e3-4955-bebc-e01456fb291e",
   "metadata": {},
   "outputs": [],
   "source": []
  },
  {
   "cell_type": "code",
   "execution_count": null,
   "id": "dc4a72df-9edd-45af-ad8b-4742e2a13496",
   "metadata": {},
   "outputs": [],
   "source": []
  },
  {
   "cell_type": "code",
   "execution_count": null,
   "id": "1efe6e1b-5e5b-4f8a-9e2a-746cc914166a",
   "metadata": {},
   "outputs": [],
   "source": []
  },
  {
   "cell_type": "code",
   "execution_count": null,
   "id": "959adf1d-6d8e-4705-9323-0ab05a914941",
   "metadata": {},
   "outputs": [],
   "source": []
  },
  {
   "cell_type": "code",
   "execution_count": null,
   "id": "8c9122ef-98b5-4d6f-a0fc-5a29a17b85b0",
   "metadata": {},
   "outputs": [],
   "source": []
  },
  {
   "cell_type": "code",
   "execution_count": null,
   "id": "e756f020-2f25-4595-a288-b6e7e5469428",
   "metadata": {},
   "outputs": [],
   "source": []
  },
  {
   "cell_type": "code",
   "execution_count": null,
   "id": "8a04cd97-b6f3-4bfc-8ff8-b118a0a8f8ba",
   "metadata": {},
   "outputs": [],
   "source": []
  },
  {
   "cell_type": "code",
   "execution_count": null,
   "id": "0c2c7075-3a1b-44b1-9d47-01798e1b3c37",
   "metadata": {},
   "outputs": [],
   "source": []
  },
  {
   "cell_type": "code",
   "execution_count": null,
   "id": "43112116-29fe-4fd1-95e4-2c0b043a217e",
   "metadata": {},
   "outputs": [],
   "source": []
  },
  {
   "cell_type": "code",
   "execution_count": null,
   "id": "93ae02e8-2129-4066-a3c0-15bb63b7cc60",
   "metadata": {},
   "outputs": [],
   "source": []
  },
  {
   "cell_type": "code",
   "execution_count": null,
   "id": "afa1d0f6-a044-4a90-9776-8d6b6caef393",
   "metadata": {},
   "outputs": [],
   "source": []
  },
  {
   "cell_type": "code",
   "execution_count": null,
   "id": "48b1f183-590b-4be3-92a0-57a7614af5ea",
   "metadata": {},
   "outputs": [],
   "source": []
  },
  {
   "cell_type": "code",
   "execution_count": null,
   "id": "86bb424f-6621-4701-9990-bc6c07646a5a",
   "metadata": {},
   "outputs": [],
   "source": []
  },
  {
   "cell_type": "code",
   "execution_count": null,
   "id": "3138ad08-c948-4e9f-bcc4-8119cd62eb2d",
   "metadata": {},
   "outputs": [],
   "source": []
  },
  {
   "cell_type": "code",
   "execution_count": null,
   "id": "23ed2b15-55e8-41f9-af88-cefeb2b3ba0f",
   "metadata": {},
   "outputs": [],
   "source": []
  },
  {
   "cell_type": "code",
   "execution_count": null,
   "id": "87e103c4-2e60-41fe-8304-2cd05e025226",
   "metadata": {},
   "outputs": [],
   "source": []
  },
  {
   "cell_type": "code",
   "execution_count": null,
   "id": "4a67daea-007a-4a2b-8a73-b14c97c625f5",
   "metadata": {},
   "outputs": [],
   "source": []
  },
  {
   "cell_type": "code",
   "execution_count": null,
   "id": "dd7300c9-88b9-4bf6-9af0-5bf153650fd6",
   "metadata": {},
   "outputs": [],
   "source": []
  },
  {
   "cell_type": "code",
   "execution_count": null,
   "id": "b82aab18-ea56-4e22-bcbc-6aa6f122c3ad",
   "metadata": {},
   "outputs": [],
   "source": []
  },
  {
   "cell_type": "code",
   "execution_count": null,
   "id": "83bb37fe-7a6e-4d56-b293-47fc7e79aac0",
   "metadata": {},
   "outputs": [],
   "source": []
  },
  {
   "cell_type": "code",
   "execution_count": null,
   "id": "33aa168e-0a23-45ec-bcbb-4450b958ebe3",
   "metadata": {},
   "outputs": [],
   "source": []
  },
  {
   "cell_type": "code",
   "execution_count": null,
   "id": "518d4617-388b-4e23-adea-0a924db6e905",
   "metadata": {},
   "outputs": [],
   "source": []
  },
  {
   "cell_type": "code",
   "execution_count": null,
   "id": "b042219d-f3db-4e8a-ae73-dfd1f8ea3835",
   "metadata": {},
   "outputs": [],
   "source": []
  },
  {
   "cell_type": "code",
   "execution_count": null,
   "id": "092efa27-60d4-4573-b3b9-94debc58ab0a",
   "metadata": {},
   "outputs": [],
   "source": []
  },
  {
   "cell_type": "code",
   "execution_count": null,
   "id": "c58bd711-6faf-491a-95f6-29d1af76e051",
   "metadata": {},
   "outputs": [],
   "source": []
  },
  {
   "cell_type": "code",
   "execution_count": null,
   "id": "b82a014a-789d-40a2-8f49-bcd41f5a3e75",
   "metadata": {},
   "outputs": [],
   "source": []
  },
  {
   "cell_type": "code",
   "execution_count": null,
   "id": "fbe34232-23fd-4106-9fff-dd0b0bcdaace",
   "metadata": {},
   "outputs": [],
   "source": []
  },
  {
   "cell_type": "code",
   "execution_count": null,
   "id": "688a211d-e41a-419f-ad1e-448f8d139059",
   "metadata": {},
   "outputs": [],
   "source": []
  },
  {
   "cell_type": "code",
   "execution_count": null,
   "id": "f1198753-c31f-4d9e-bccc-227f4c17c7a9",
   "metadata": {},
   "outputs": [],
   "source": []
  },
  {
   "cell_type": "code",
   "execution_count": null,
   "id": "439265b8-1058-43e3-aaf6-000f9befaef5",
   "metadata": {},
   "outputs": [],
   "source": []
  }
 ],
 "metadata": {
  "kernelspec": {
   "display_name": "Python 3",
   "language": "python",
   "name": "python3"
  },
  "language_info": {
   "codemirror_mode": {
    "name": "ipython",
    "version": 3
   },
   "file_extension": ".py",
   "mimetype": "text/x-python",
   "name": "python",
   "nbconvert_exporter": "python",
   "pygments_lexer": "ipython3",
   "version": "3.7.11"
  }
 },
 "nbformat": 4,
 "nbformat_minor": 5
}
