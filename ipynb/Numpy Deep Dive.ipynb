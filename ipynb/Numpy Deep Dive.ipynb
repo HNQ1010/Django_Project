{
 "cells": [
  {
   "cell_type": "code",
   "execution_count": 103,
   "id": "dc2dbe5f",
   "metadata": {},
   "outputs": [],
   "source": [
    "import numpy as np"
   ]
  },
  {
   "cell_type": "markdown",
   "id": "bb061e47",
   "metadata": {},
   "source": [
    "### The Basic"
   ]
  },
  {
   "cell_type": "code",
   "execution_count": 104,
   "id": "468a66a3",
   "metadata": {},
   "outputs": [],
   "source": [
    "a = np.array([1,2,3])\n",
    "b = np.array([[9.0, 8.0, 7.0], [6.0, 5.0, 4.0]])"
   ]
  },
  {
   "cell_type": "code",
   "execution_count": 105,
   "id": "87ffb4a0",
   "metadata": {},
   "outputs": [
    {
     "data": {
      "text/plain": [
       "(1, 2)"
      ]
     },
     "execution_count": 105,
     "metadata": {},
     "output_type": "execute_result"
    }
   ],
   "source": [
    "a.ndim , b.ndim"
   ]
  },
  {
   "cell_type": "code",
   "execution_count": 106,
   "id": "1c72711b",
   "metadata": {},
   "outputs": [
    {
     "data": {
      "text/plain": [
       "((3,), (2, 3))"
      ]
     },
     "execution_count": 106,
     "metadata": {},
     "output_type": "execute_result"
    }
   ],
   "source": [
    "a.shape, b.shape"
   ]
  },
  {
   "cell_type": "code",
   "execution_count": 107,
   "id": "d0507c6e",
   "metadata": {},
   "outputs": [
    {
     "data": {
      "text/plain": [
       "(dtype('int32'), dtype('float64'))"
      ]
     },
     "execution_count": 107,
     "metadata": {},
     "output_type": "execute_result"
    }
   ],
   "source": [
    "a.dtype, b.dtype"
   ]
  },
  {
   "cell_type": "code",
   "execution_count": 108,
   "id": "1cc381a6",
   "metadata": {},
   "outputs": [
    {
     "data": {
      "text/plain": [
       "(3, 6)"
      ]
     },
     "execution_count": 108,
     "metadata": {},
     "output_type": "execute_result"
    }
   ],
   "source": [
    "a.size, b.size"
   ]
  },
  {
   "cell_type": "code",
   "execution_count": 109,
   "id": "d376dd1e",
   "metadata": {},
   "outputs": [
    {
     "data": {
      "text/plain": [
       "(4, 8)"
      ]
     },
     "execution_count": 109,
     "metadata": {},
     "output_type": "execute_result"
    }
   ],
   "source": [
    "a.itemsize, b.itemsize"
   ]
  },
  {
   "cell_type": "code",
   "execution_count": 110,
   "id": "92d29f39",
   "metadata": {},
   "outputs": [
    {
     "data": {
      "text/plain": [
       "(12, 48)"
      ]
     },
     "execution_count": 110,
     "metadata": {},
     "output_type": "execute_result"
    }
   ],
   "source": [
    "a.nbytes, b.nbytes"
   ]
  },
  {
   "cell_type": "code",
   "execution_count": 111,
   "id": "cb8eef86",
   "metadata": {},
   "outputs": [
    {
     "data": {
      "text/plain": [
       "(48, 384)"
      ]
     },
     "execution_count": 111,
     "metadata": {},
     "output_type": "execute_result"
    }
   ],
   "source": [
    "a.itemsize * a.nbytes, b.itemsize* b.nbytes"
   ]
  },
  {
   "cell_type": "markdown",
   "id": "d2891485",
   "metadata": {},
   "source": [
    "### Accesssing/ changing specigic elements, rows, columns, etc"
   ]
  },
  {
   "cell_type": "code",
   "execution_count": 112,
   "id": "d1dd980a",
   "metadata": {},
   "outputs": [],
   "source": [
    "a = np.array([[1,2,3,4,5,6,7],[8,9,10,11,12,13,14]])"
   ]
  },
  {
   "cell_type": "code",
   "execution_count": 113,
   "id": "a84d0f96",
   "metadata": {},
   "outputs": [
    {
     "data": {
      "text/plain": [
       "13"
      ]
     },
     "execution_count": 113,
     "metadata": {},
     "output_type": "execute_result"
    }
   ],
   "source": [
    "# get a specific elenment [row, column]\n",
    "a[1,5] # or a[1][5]"
   ]
  },
  {
   "cell_type": "code",
   "execution_count": 114,
   "id": "39b21ed1",
   "metadata": {},
   "outputs": [
    {
     "data": {
      "text/plain": [
       "array([1, 2, 3, 4, 5, 6, 7])"
      ]
     },
     "execution_count": 114,
     "metadata": {},
     "output_type": "execute_result"
    }
   ],
   "source": [
    "# get row 0 and all column\n",
    "a[0,:]"
   ]
  },
  {
   "cell_type": "code",
   "execution_count": 115,
   "id": "1dc26dde",
   "metadata": {},
   "outputs": [
    {
     "data": {
      "text/plain": [
       "array([ 3, 10])"
      ]
     },
     "execution_count": 115,
     "metadata": {},
     "output_type": "execute_result"
    }
   ],
   "source": [
    "# get all rows and column 2\n",
    "a[:,2]"
   ]
  },
  {
   "cell_type": "code",
   "execution_count": 116,
   "id": "4b8d831c",
   "metadata": {},
   "outputs": [
    {
     "data": {
      "text/plain": [
       "array([2, 4])"
      ]
     },
     "execution_count": 116,
     "metadata": {},
     "output_type": "execute_result"
    }
   ],
   "source": [
    "# getting a little more fancy [start_index : end_index:stepsize] : row 0 from first element to fourth element, step by 2\n",
    "a[0, 1:4:2]"
   ]
  },
  {
   "cell_type": "code",
   "execution_count": 117,
   "id": "9f547ad1",
   "metadata": {},
   "outputs": [
    {
     "data": {
      "text/plain": [
       "array([[ 1,  2,  3,  4,  5,  6,  7],\n",
       "       [ 8,  9, 10, 11, 12, 20, 14]])"
      ]
     },
     "execution_count": 117,
     "metadata": {},
     "output_type": "execute_result"
    }
   ],
   "source": [
    "# stick an index with a value : assign row 1 - column 5 with value 20\n",
    "a[1,5] =20\n",
    "a"
   ]
  },
  {
   "cell_type": "code",
   "execution_count": 118,
   "id": "78c7e0f3",
   "metadata": {},
   "outputs": [
    {
     "data": {
      "text/plain": [
       "array([[ 1,  2,  3,  1,  5,  6,  7],\n",
       "       [ 8,  9, 10,  2, 12, 20, 14]])"
      ]
     },
     "execution_count": 118,
     "metadata": {},
     "output_type": "execute_result"
    }
   ],
   "source": [
    "# assign all row at column 3 with value 1 in first row and value 2 in second row\n",
    "a[:, 3] = [1,2] \n",
    "a"
   ]
  },
  {
   "cell_type": "markdown",
   "id": "ce135476",
   "metadata": {},
   "source": [
    "####  3d example"
   ]
  },
  {
   "cell_type": "code",
   "execution_count": 119,
   "id": "efae76c2",
   "metadata": {},
   "outputs": [
    {
     "data": {
      "text/plain": [
       "array([[[1, 2],\n",
       "        [3, 4]],\n",
       "\n",
       "       [[5, 6],\n",
       "        [7, 8]]])"
      ]
     },
     "execution_count": 119,
     "metadata": {},
     "output_type": "execute_result"
    }
   ],
   "source": [
    "b =np.array([\n",
    "    [\n",
    "        [1,2],[3,4]\n",
    "    ],\n",
    "    [\n",
    "        [5,6],[7,8]\n",
    "    ]\n",
    "])\n",
    "b"
   ]
  },
  {
   "cell_type": "code",
   "execution_count": 120,
   "id": "df15f079",
   "metadata": {},
   "outputs": [
    {
     "data": {
      "text/plain": [
       "array([[3, 4],\n",
       "       [7, 8]])"
      ]
     },
     "execution_count": 120,
     "metadata": {},
     "output_type": "execute_result"
    }
   ],
   "source": [
    "# get the specific element (work outside in): all rows (row-all columns)  3d-array[row, row, column]\n",
    "b[:,1]"
   ]
  },
  {
   "cell_type": "code",
   "execution_count": 121,
   "id": "6955c4c1",
   "metadata": {},
   "outputs": [
    {
     "data": {
      "text/plain": [
       "array([[[1, 2],\n",
       "        [9, 9]],\n",
       "\n",
       "       [[5, 6],\n",
       "        [8, 8]]])"
      ]
     },
     "execution_count": 121,
     "metadata": {},
     "output_type": "execute_result"
    }
   ],
   "source": [
    "# replace all rows at (row 1 and all column) with value [9,9],[8,8]\n",
    "b[:, 1,:] = [[9,9],[8,8]]\n",
    "b"
   ]
  },
  {
   "cell_type": "markdown",
   "id": "0ae6bd97",
   "metadata": {},
   "source": [
    "### Initializing diferent types of arrays"
   ]
  },
  {
   "cell_type": "code",
   "execution_count": 122,
   "id": "b821ddd9",
   "metadata": {},
   "outputs": [],
   "source": [
    "import numpy as np"
   ]
  },
  {
   "cell_type": "code",
   "execution_count": 123,
   "id": "d37726d6",
   "metadata": {},
   "outputs": [
    {
     "data": {
      "text/plain": [
       "array([0., 0., 0., 0., 0.])"
      ]
     },
     "execution_count": 123,
     "metadata": {},
     "output_type": "execute_result"
    }
   ],
   "source": [
    "# all 0s matrix\n",
    "np.zeros(5) # array 1-d"
   ]
  },
  {
   "cell_type": "code",
   "execution_count": 124,
   "id": "54002bae",
   "metadata": {},
   "outputs": [
    {
     "data": {
      "text/plain": [
       "array([[[0., 0.],\n",
       "        [0., 0.],\n",
       "        [0., 0.],\n",
       "        [0., 0.]],\n",
       "\n",
       "       [[0., 0.],\n",
       "        [0., 0.],\n",
       "        [0., 0.],\n",
       "        [0., 0.]]])"
      ]
     },
     "execution_count": 124,
     "metadata": {},
     "output_type": "execute_result"
    }
   ],
   "source": [
    "np.zeros([2,4,2]) # array 3d"
   ]
  },
  {
   "cell_type": "code",
   "execution_count": 125,
   "id": "06d0c701",
   "metadata": {},
   "outputs": [
    {
     "data": {
      "text/plain": [
       "array([1, 1])"
      ]
     },
     "execution_count": 125,
     "metadata": {},
     "output_type": "execute_result"
    }
   ],
   "source": [
    "np.ones(2, dtype='int32')"
   ]
  },
  {
   "cell_type": "code",
   "execution_count": 126,
   "id": "743dcd2d",
   "metadata": {},
   "outputs": [
    {
     "data": {
      "text/plain": [
       "array([4, 4])"
      ]
     },
     "execution_count": 126,
     "metadata": {},
     "output_type": "execute_result"
    }
   ],
   "source": [
    "# any orther number\n",
    "np.full(2, 4) # 2d of number 4"
   ]
  },
  {
   "cell_type": "code",
   "execution_count": 3,
   "id": "c0e3ec5d",
   "metadata": {},
   "outputs": [
    {
     "data": {
      "text/plain": [
       "array([[2, 2, 2, 2],\n",
       "       [2, 2, 2, 2]])"
      ]
     },
     "execution_count": 3,
     "metadata": {},
     "output_type": "execute_result"
    }
   ],
   "source": [
    "import numpy as np\n",
    "np.full((2,4), 2) # 2x4 of number 2"
   ]
  },
  {
   "cell_type": "code",
   "execution_count": 128,
   "id": "d2c8dbde",
   "metadata": {},
   "outputs": [
    {
     "data": {
      "text/plain": [
       "(array([[ 1,  2,  3,  1,  5,  6,  7],\n",
       "        [ 8,  9, 10,  2, 12, 20, 14]]),\n",
       " (2, 7))"
      ]
     },
     "execution_count": 128,
     "metadata": {},
     "output_type": "execute_result"
    }
   ],
   "source": [
    "a, a.shape"
   ]
  },
  {
   "cell_type": "code",
   "execution_count": 129,
   "id": "5b625a0d",
   "metadata": {},
   "outputs": [
    {
     "data": {
      "text/plain": [
       "array([[4, 4, 4, 4, 4, 4, 4],\n",
       "       [4, 4, 4, 4, 4, 4, 4]])"
      ]
     },
     "execution_count": 129,
     "metadata": {},
     "output_type": "execute_result"
    }
   ],
   "source": [
    "np.full(a.shape,4)"
   ]
  },
  {
   "cell_type": "code",
   "execution_count": 130,
   "id": "4cfce32e",
   "metadata": {},
   "outputs": [
    {
     "data": {
      "text/plain": [
       "array([[4, 4, 4, 4, 4, 4, 4],\n",
       "       [4, 4, 4, 4, 4, 4, 4]])"
      ]
     },
     "execution_count": 130,
     "metadata": {},
     "output_type": "execute_result"
    }
   ],
   "source": [
    "# use full-like without shape of array\n",
    "np.full_like(a,4)"
   ]
  },
  {
   "cell_type": "code",
   "execution_count": 131,
   "id": "fc4cca32",
   "metadata": {},
   "outputs": [
    {
     "data": {
      "text/plain": [
       "array([[0.63721144, 0.99154654, 0.42539643],\n",
       "       [0.02665591, 0.71526983, 0.48558405]])"
      ]
     },
     "execution_count": 131,
     "metadata": {},
     "output_type": "execute_result"
    }
   ],
   "source": [
    "# random decimal numbers\n",
    "np.random.rand(2,3) # array 2x3"
   ]
  },
  {
   "cell_type": "code",
   "execution_count": 132,
   "id": "7b4c38e4",
   "metadata": {},
   "outputs": [
    {
     "data": {
      "text/plain": [
       "array([[0, 1, 0],\n",
       "       [2, 2, 2],\n",
       "       [0, 2, 1]])"
      ]
     },
     "execution_count": 132,
     "metadata": {},
     "output_type": "execute_result"
    }
   ],
   "source": [
    "# random int numbers random.randint(int, size)\n",
    "np.random.randint(3, size=(3,3)) # array with shape (3,3) in range(3)"
   ]
  },
  {
   "cell_type": "code",
   "execution_count": 133,
   "id": "9d13234e",
   "metadata": {},
   "outputs": [
    {
     "data": {
      "text/plain": [
       "array([[5, 3, 3, 4],\n",
       "       [3, 4, 5, 3],\n",
       "       [3, 5, 4, 3]])"
      ]
     },
     "execution_count": 133,
     "metadata": {},
     "output_type": "execute_result"
    }
   ],
   "source": [
    "np.random.randint(3,6, size=(3,4))"
   ]
  },
  {
   "cell_type": "code",
   "execution_count": 134,
   "id": "efebda11",
   "metadata": {},
   "outputs": [
    {
     "data": {
      "text/plain": [
       "array([[ 0,  0, -2, -1, -1, -2,  0],\n",
       "       [ 1,  1,  2, -1,  2,  1, -2]])"
      ]
     },
     "execution_count": 134,
     "metadata": {},
     "output_type": "execute_result"
    }
   ],
   "source": [
    "np.random.randint(-2, 3, size = (a.shape))"
   ]
  },
  {
   "cell_type": "code",
   "execution_count": 136,
   "id": "6bcf8adb",
   "metadata": {},
   "outputs": [
    {
     "data": {
      "text/plain": [
       "array([[1., 0., 0.],\n",
       "       [0., 1., 0.],\n",
       "       [0., 0., 1.]])"
      ]
     },
     "execution_count": 136,
     "metadata": {},
     "output_type": "execute_result"
    }
   ],
   "source": [
    "# The identity maxtrix\n",
    "np.identity(3) # matrix with diagonal value 1, and shape (3,3)"
   ]
  },
  {
   "cell_type": "code",
   "execution_count": 152,
   "id": "93a15bed",
   "metadata": {},
   "outputs": [
    {
     "data": {
      "text/plain": [
       "array([[1, 2, 3],\n",
       "       [1, 2, 3],\n",
       "       [1, 2, 3]])"
      ]
     },
     "execution_count": 152,
     "metadata": {},
     "output_type": "execute_result"
    }
   ],
   "source": [
    "# Repeat an array\n",
    "arr = np.array([[1,2,3]])\n",
    "r1 = np.repeat(arr, 3, axis =0)\n",
    "r1"
   ]
  },
  {
   "cell_type": "code",
   "execution_count": 153,
   "id": "838f816d",
   "metadata": {},
   "outputs": [
    {
     "data": {
      "text/plain": [
       "array([[1, 1, 1, 2, 2, 2, 3, 3, 3]])"
      ]
     },
     "execution_count": 153,
     "metadata": {},
     "output_type": "execute_result"
    }
   ],
   "source": [
    "r2 = np.repeat(arr, 3, axis =1)\n",
    "r2"
   ]
  },
  {
   "cell_type": "code",
   "execution_count": 154,
   "id": "0d3e093a",
   "metadata": {},
   "outputs": [
    {
     "data": {
      "text/plain": [
       "2"
      ]
     },
     "execution_count": 154,
     "metadata": {},
     "output_type": "execute_result"
    }
   ],
   "source": [
    "arr[0][1]"
   ]
  },
  {
   "cell_type": "code",
   "execution_count": 159,
   "id": "6d23fdb7",
   "metadata": {},
   "outputs": [
    {
     "name": "stdout",
     "output_type": "stream",
     "text": [
      "[[1. 1. 1. 1. 1.]\n",
      " [1. 1. 1. 1. 1.]\n",
      " [1. 1. 1. 1. 1.]\n",
      " [1. 1. 1. 1. 1.]\n",
      " [1. 1. 1. 1. 1.]]\n",
      "[[0. 0. 0.]\n",
      " [0. 9. 0.]\n",
      " [0. 0. 0.]]\n",
      "[[1. 1. 1. 1. 1.]\n",
      " [1. 0. 0. 0. 1.]\n",
      " [1. 0. 9. 0. 1.]\n",
      " [1. 0. 0. 0. 1.]\n",
      " [1. 1. 1. 1. 1.]]\n"
     ]
    }
   ],
   "source": [
    "output = np.ones((5,5))\n",
    "print(output)\n",
    "z = np.zeros((3,3))\n",
    "z[1,1] = 9\n",
    "output[1:-1, 1:-1] = z\n",
    "print(z)\n",
    "print(output)"
   ]
  },
  {
   "cell_type": "markdown",
   "id": "4bbe541e",
   "metadata": {},
   "source": [
    "### Be careful when copying arrays !!!!"
   ]
  },
  {
   "cell_type": "code",
   "execution_count": 161,
   "id": "300182ef",
   "metadata": {},
   "outputs": [
    {
     "name": "stdout",
     "output_type": "stream",
     "text": [
      "[100   2   3]\n",
      "[100   2   3]\n"
     ]
    }
   ],
   "source": [
    "a  = np.array([1,2,3])\n",
    "b  = a\n",
    "b[0] = 100\n",
    "print(a)\n",
    "print(b)"
   ]
  },
  {
   "cell_type": "code",
   "execution_count": 165,
   "id": "b153de0b",
   "metadata": {},
   "outputs": [
    {
     "name": "stdout",
     "output_type": "stream",
     "text": [
      "[0, 1, 2]\n",
      "[100, 1, 2]\n"
     ]
    }
   ],
   "source": [
    "a = ([0, 1,2])\n",
    "b = a.copy()\n",
    "b[0] = 100\n",
    "print(a)\n",
    "print(b)"
   ]
  },
  {
   "cell_type": "markdown",
   "id": "aa307ac4",
   "metadata": {},
   "source": [
    "## Mathematics"
   ]
  },
  {
   "cell_type": "code",
   "execution_count": 167,
   "id": "9dcb47c9",
   "metadata": {},
   "outputs": [],
   "source": [
    "a = np.array([1,2,3,4])"
   ]
  },
  {
   "cell_type": "code",
   "execution_count": 168,
   "id": "64374cfc",
   "metadata": {},
   "outputs": [
    {
     "data": {
      "text/plain": [
       "array([3, 4, 5, 6])"
      ]
     },
     "execution_count": 168,
     "metadata": {},
     "output_type": "execute_result"
    }
   ],
   "source": [
    "a + 2"
   ]
  },
  {
   "cell_type": "code",
   "execution_count": 169,
   "id": "e15a4bf7",
   "metadata": {},
   "outputs": [
    {
     "data": {
      "text/plain": [
       "array([2, 4, 6, 8])"
      ]
     },
     "execution_count": 169,
     "metadata": {},
     "output_type": "execute_result"
    }
   ],
   "source": [
    "a * 2"
   ]
  },
  {
   "cell_type": "code",
   "execution_count": 170,
   "id": "b9b39b42",
   "metadata": {},
   "outputs": [
    {
     "data": {
      "text/plain": [
       "array([0.33333333, 0.66666667, 1.        , 1.33333333])"
      ]
     },
     "execution_count": 170,
     "metadata": {},
     "output_type": "execute_result"
    }
   ],
   "source": [
    "a /3"
   ]
  },
  {
   "cell_type": "code",
   "execution_count": 171,
   "id": "44fb7b02",
   "metadata": {},
   "outputs": [],
   "source": [
    "b = np.array([1,2,3,2])"
   ]
  },
  {
   "cell_type": "code",
   "execution_count": 173,
   "id": "25bf84d4",
   "metadata": {},
   "outputs": [
    {
     "name": "stdout",
     "output_type": "stream",
     "text": [
      "[2 4 6 6]\n",
      "[0 0 0 2]\n",
      "[1 4 9 8]\n",
      "[1. 1. 1. 2.]\n"
     ]
    }
   ],
   "source": [
    "print(a + b)\n",
    "print(a-b)\n",
    "print(a*b)\n",
    "print(a/b)"
   ]
  },
  {
   "cell_type": "code",
   "execution_count": 175,
   "id": "ed949f72",
   "metadata": {},
   "outputs": [
    {
     "data": {
      "text/plain": [
       "array([ 0.54030231, -0.41614684, -0.9899925 , -0.65364362])"
      ]
     },
     "execution_count": 175,
     "metadata": {},
     "output_type": "execute_result"
    }
   ],
   "source": [
    "# take the sin, cos\n",
    "np.cos(a)\n",
    "# see more in spicy document"
   ]
  },
  {
   "cell_type": "markdown",
   "id": "4e239ce6",
   "metadata": {},
   "source": [
    "## Linear Algebra"
   ]
  },
  {
   "cell_type": "code",
   "execution_count": 178,
   "id": "38fb34b2",
   "metadata": {},
   "outputs": [
    {
     "data": {
      "text/plain": [
       "(array([[1., 1., 1.],\n",
       "        [1., 1., 1.]]),\n",
       " array([[2, 2],\n",
       "        [2, 2],\n",
       "        [2, 2]]))"
      ]
     },
     "execution_count": 178,
     "metadata": {},
     "output_type": "execute_result"
    }
   ],
   "source": [
    "a = np.ones((2,3))\n",
    "b = np.full((3,2), 2)\n",
    "a, b"
   ]
  },
  {
   "cell_type": "code",
   "execution_count": 179,
   "id": "930ee1ea",
   "metadata": {},
   "outputs": [
    {
     "data": {
      "text/plain": [
       "array([[6., 6.],\n",
       "       [6., 6.]])"
      ]
     },
     "execution_count": 179,
     "metadata": {},
     "output_type": "execute_result"
    }
   ],
   "source": [
    "a.dot(b)"
   ]
  },
  {
   "cell_type": "code",
   "execution_count": 180,
   "id": "c1b1951e",
   "metadata": {},
   "outputs": [
    {
     "data": {
      "text/plain": [
       "array([[6., 6.],\n",
       "       [6., 6.]])"
      ]
     },
     "execution_count": 180,
     "metadata": {},
     "output_type": "execute_result"
    }
   ],
   "source": [
    "# or \n",
    "np.matmul(a,b)"
   ]
  },
  {
   "cell_type": "code",
   "execution_count": 181,
   "id": "39fcc07a",
   "metadata": {},
   "outputs": [
    {
     "data": {
      "text/plain": [
       "1.0"
      ]
     },
     "execution_count": 181,
     "metadata": {},
     "output_type": "execute_result"
    }
   ],
   "source": [
    "# Find the determinant\n",
    "c = np.identity(3)\n",
    "np.linalg.det(c)"
   ]
  },
  {
   "cell_type": "code",
   "execution_count": 183,
   "id": "95391695",
   "metadata": {},
   "outputs": [],
   "source": [
    "## Reference docs (spicy)\n",
    "# Determinant\n",
    "# Trace\n",
    "# Singular Vector Decomposition\n",
    "# Eigenvalues\n",
    "# Matrix Norm\n",
    "# Inverse\n",
    "# Etc..."
   ]
  },
  {
   "cell_type": "markdown",
   "id": "e94e9f45",
   "metadata": {},
   "source": [
    "### Statistics"
   ]
  },
  {
   "cell_type": "code",
   "execution_count": 187,
   "id": "f1eb8128",
   "metadata": {},
   "outputs": [
    {
     "data": {
      "text/plain": [
       "(3.5, 1, 6, 21)"
      ]
     },
     "execution_count": 187,
     "metadata": {},
     "output_type": "execute_result"
    }
   ],
   "source": [
    "stats = np.array([[1,2,3],[4,5,6]])\n",
    "stats.mean(),stats.min(), stats.max(), stats.sum()"
   ]
  },
  {
   "cell_type": "code",
   "execution_count": 193,
   "id": "c2d639f9",
   "metadata": {},
   "outputs": [
    {
     "data": {
      "text/plain": [
       "15"
      ]
     },
     "execution_count": 193,
     "metadata": {},
     "output_type": "execute_result"
    }
   ],
   "source": [
    "np.max(stats, axis=0).sum()"
   ]
  },
  {
   "cell_type": "markdown",
   "id": "8b157fb7",
   "metadata": {},
   "source": [
    "### Reorganizing arrays"
   ]
  },
  {
   "cell_type": "code",
   "execution_count": 197,
   "id": "757be721",
   "metadata": {},
   "outputs": [
    {
     "data": {
      "text/plain": [
       "array([[1, 2, 3],\n",
       "       [4, 5, 6]])"
      ]
     },
     "execution_count": 197,
     "metadata": {},
     "output_type": "execute_result"
    }
   ],
   "source": [
    "bf = np.array([[1,2,3],[4,5,6]])\n",
    "af = bf.reshape((2,3))\n",
    "af"
   ]
  },
  {
   "cell_type": "code",
   "execution_count": 201,
   "id": "371e314d",
   "metadata": {},
   "outputs": [
    {
     "name": "stdout",
     "output_type": "stream",
     "text": [
      "[[1 2 3 4]\n",
      " [5 6 7 8]\n",
      " [1 2 3 4]\n",
      " [5 6 7 8]]\n",
      "[1 2 3 4 5 6 7 8]\n"
     ]
    }
   ],
   "source": [
    "# Stacking vectors\n",
    "v1 = np.array([1,2,3,4])\n",
    "v2 = np.array([5,6,7,8])\n",
    "print(np.vstack([v1,v2,v1,v2])) # vertical stack\n",
    "print(np.hstack((v1,v2)))"
   ]
  },
  {
   "cell_type": "markdown",
   "id": "ef3b61b1",
   "metadata": {},
   "source": [
    "### Miscellanious"
   ]
  },
  {
   "cell_type": "markdown",
   "id": "81c82626",
   "metadata": {},
   "source": [
    "#### Load data from file"
   ]
  },
  {
   "cell_type": "code",
   "execution_count": 210,
   "id": "b9a1ce10",
   "metadata": {},
   "outputs": [
    {
     "data": {
      "text/plain": [
       "array([[  1.,   2.,   3.,   4.,   5., 199.,  23.,   2.,   4.,   5.,   5.,\n",
       "          5.,   5.,   2.,   2.,  23.,   2.,   3.,  13.,  13.,   1.,  23.,\n",
       "        123.,   1.,  31.],\n",
       "       [  1.,   2.,   3.,   4.,   5., 199.,  23.,   2.,   4.,   5.,   5.,\n",
       "          5.,   5.,   2.,   2.,  23.,   2.,   3.,  13.,  13.,   1.,  23.,\n",
       "        123.,   1.,  31.],\n",
       "       [  1.,   2.,   3.,   4.,   5., 199.,  23.,   2.,   4.,   5.,   5.,\n",
       "          5.,   5.,   2.,   2.,  23.,   2.,   3.,  13.,  13.,   1.,  23.,\n",
       "        123.,   1.,  31.],\n",
       "       [  1.,   2.,   3.,   4.,   5., 199.,  23.,   2.,   4.,   5.,   5.,\n",
       "          5.,   5.,   2.,   2.,  23.,   2.,   3.,  13.,  13.,   1.,  23.,\n",
       "        123.,   1.,  31.],\n",
       "       [  1.,   2.,   3.,   4.,   5., 199.,  23.,   2.,   4.,   5.,   5.,\n",
       "          5.,   5.,   2.,   2.,  23.,   2.,   3.,  13.,  13.,   1.,  23.,\n",
       "        123.,   1.,  31.],\n",
       "       [  1.,   2.,   3.,   4.,   5., 199.,  23.,   2.,   4.,   5.,   5.,\n",
       "          5.,   5.,   2.,   2.,  23.,   2.,   3.,  13.,  13.,   1.,  23.,\n",
       "        123.,   1.,  31.]])"
      ]
     },
     "execution_count": 210,
     "metadata": {},
     "output_type": "execute_result"
    }
   ],
   "source": [
    "file_data = np.genfromtxt('numbers.txt', delimiter = ',')\n",
    "file_data"
   ]
  },
  {
   "cell_type": "code",
   "execution_count": 216,
   "id": "604cf8bc",
   "metadata": {},
   "outputs": [
    {
     "data": {
      "text/plain": [
       "array([[  1,   2,   3,   4,   5, 199,  23,   2,   4,   5,   5,   5,   5,\n",
       "          2,   2,  23,   2,   3,  13,  13,   1,  23, 123,   1,  31],\n",
       "       [  1,   2,   3,   4,   5, 199,  23,   2,   4,   5,   5,   5,   5,\n",
       "          2,   2,  23,   2,   3,  13,  13,   1,  23, 123,   1,  31],\n",
       "       [  1,   2,   3,   4,   5, 199,  23,   2,   4,   5,   5,   5,   5,\n",
       "          2,   2,  23,   2,   3,  13,  13,   1,  23, 123,   1,  31],\n",
       "       [  1,   2,   3,   4,   5, 199,  23,   2,   4,   5,   5,   5,   5,\n",
       "          2,   2,  23,   2,   3,  13,  13,   1,  23, 123,   1,  31],\n",
       "       [  1,   2,   3,   4,   5, 199,  23,   2,   4,   5,   5,   5,   5,\n",
       "          2,   2,  23,   2,   3,  13,  13,   1,  23, 123,   1,  31],\n",
       "       [  1,   2,   3,   4,   5, 199,  23,   2,   4,   5,   5,   5,   5,\n",
       "          2,   2,  23,   2,   3,  13,  13,   1,  23, 123,   1,  31]])"
      ]
     },
     "execution_count": 216,
     "metadata": {},
     "output_type": "execute_result"
    }
   ],
   "source": [
    "file_data = file_data.astype('int')\n",
    "file_data"
   ]
  },
  {
   "cell_type": "code",
   "execution_count": 217,
   "id": "24ac57ac",
   "metadata": {},
   "outputs": [
    {
     "data": {
      "text/plain": [
       "dtype('int32')"
      ]
     },
     "execution_count": 217,
     "metadata": {},
     "output_type": "execute_result"
    }
   ],
   "source": [
    "file_data.dtype"
   ]
  },
  {
   "cell_type": "markdown",
   "id": "c42b8b78",
   "metadata": {},
   "source": [
    "### Boolean and advanced indexing"
   ]
  },
  {
   "cell_type": "code",
   "execution_count": 218,
   "id": "31097363",
   "metadata": {},
   "outputs": [
    {
     "data": {
      "text/plain": [
       "array([[False, False, False, False, False,  True, False, False, False,\n",
       "        False, False, False, False, False, False, False, False, False,\n",
       "        False, False, False, False,  True, False, False],\n",
       "       [False, False, False, False, False,  True, False, False, False,\n",
       "        False, False, False, False, False, False, False, False, False,\n",
       "        False, False, False, False,  True, False, False],\n",
       "       [False, False, False, False, False,  True, False, False, False,\n",
       "        False, False, False, False, False, False, False, False, False,\n",
       "        False, False, False, False,  True, False, False],\n",
       "       [False, False, False, False, False,  True, False, False, False,\n",
       "        False, False, False, False, False, False, False, False, False,\n",
       "        False, False, False, False,  True, False, False],\n",
       "       [False, False, False, False, False,  True, False, False, False,\n",
       "        False, False, False, False, False, False, False, False, False,\n",
       "        False, False, False, False,  True, False, False],\n",
       "       [False, False, False, False, False,  True, False, False, False,\n",
       "        False, False, False, False, False, False, False, False, False,\n",
       "        False, False, False, False,  True, False, False]])"
      ]
     },
     "execution_count": 218,
     "metadata": {},
     "output_type": "execute_result"
    }
   ],
   "source": [
    "file_data > 50"
   ]
  },
  {
   "cell_type": "code",
   "execution_count": 231,
   "id": "98569e06",
   "metadata": {},
   "outputs": [
    {
     "data": {
      "text/plain": [
       "array([199, 123, 199, 123, 199, 123, 199, 123, 199, 123, 199, 123])"
      ]
     },
     "execution_count": 231,
     "metadata": {},
     "output_type": "execute_result"
    }
   ],
   "source": [
    "file_data[file_data > 50]"
   ]
  },
  {
   "cell_type": "code",
   "execution_count": 233,
   "id": "3485907a",
   "metadata": {},
   "outputs": [
    {
     "data": {
      "text/plain": [
       "array([[False, False, False, False, False,  True, False, False, False,\n",
       "        False, False, False, False, False, False, False, False, False,\n",
       "        False, False, False, False,  True, False, False],\n",
       "       [False, False, False, False, False,  True, False, False, False,\n",
       "        False, False, False, False, False, False, False, False, False,\n",
       "        False, False, False, False,  True, False, False],\n",
       "       [False, False, False, False, False,  True, False, False, False,\n",
       "        False, False, False, False, False, False, False, False, False,\n",
       "        False, False, False, False,  True, False, False],\n",
       "       [False, False, False, False, False,  True, False, False, False,\n",
       "        False, False, False, False, False, False, False, False, False,\n",
       "        False, False, False, False,  True, False, False],\n",
       "       [False, False, False, False, False,  True, False, False, False,\n",
       "        False, False, False, False, False, False, False, False, False,\n",
       "        False, False, False, False,  True, False, False],\n",
       "       [False, False, False, False, False,  True, False, False, False,\n",
       "        False, False, False, False, False, False, False, False, False,\n",
       "        False, False, False, False,  True, False, False]])"
      ]
     },
     "execution_count": 233,
     "metadata": {},
     "output_type": "execute_result"
    }
   ],
   "source": [
    "np.array(file_data >50)"
   ]
  },
  {
   "cell_type": "code",
   "execution_count": 237,
   "id": "0083ae16",
   "metadata": {},
   "outputs": [
    {
     "data": {
      "text/plain": [
       "(True,\n",
       " False,\n",
       " array([False, False, False, False, False,  True, False, False, False,\n",
       "        False, False, False, False, False, False, False, False, False,\n",
       "        False, False, False, False,  True, False, False]))"
      ]
     },
     "execution_count": 237,
     "metadata": {},
     "output_type": "execute_result"
    }
   ],
   "source": [
    "np.any(file_data > 50), np.all(file_data > 50), np.any(file_data > 50, axis = 0)"
   ]
  },
  {
   "cell_type": "code",
   "execution_count": 241,
   "id": "5f7245c0",
   "metadata": {},
   "outputs": [
    {
     "data": {
      "text/plain": [
       "array([[False, False, False, False, False, False, False, False, False,\n",
       "        False, False, False, False, False, False, False, False, False,\n",
       "        False, False, False, False, False, False, False],\n",
       "       [False, False, False, False, False, False, False, False, False,\n",
       "        False, False, False, False, False, False, False, False, False,\n",
       "        False, False, False, False, False, False, False],\n",
       "       [False, False, False, False, False, False, False, False, False,\n",
       "        False, False, False, False, False, False, False, False, False,\n",
       "        False, False, False, False, False, False, False],\n",
       "       [False, False, False, False, False, False, False, False, False,\n",
       "        False, False, False, False, False, False, False, False, False,\n",
       "        False, False, False, False, False, False, False],\n",
       "       [False, False, False, False, False, False, False, False, False,\n",
       "        False, False, False, False, False, False, False, False, False,\n",
       "        False, False, False, False, False, False, False],\n",
       "       [False, False, False, False, False, False, False, False, False,\n",
       "        False, False, False, False, False, False, False, False, False,\n",
       "        False, False, False, False, False, False, False]])"
      ]
     },
     "execution_count": 241,
     "metadata": {},
     "output_type": "execute_result"
    }
   ],
   "source": [
    "((file_data > 50) & (file_data < 100))"
   ]
  },
  {
   "cell_type": "code",
   "execution_count": 242,
   "id": "c5fed9a2",
   "metadata": {},
   "outputs": [
    {
     "data": {
      "text/plain": [
       "array([[ True,  True,  True,  True,  True, False,  True,  True,  True,\n",
       "         True,  True,  True,  True,  True,  True,  True,  True,  True,\n",
       "         True,  True,  True,  True, False,  True,  True],\n",
       "       [ True,  True,  True,  True,  True, False,  True,  True,  True,\n",
       "         True,  True,  True,  True,  True,  True,  True,  True,  True,\n",
       "         True,  True,  True,  True, False,  True,  True],\n",
       "       [ True,  True,  True,  True,  True, False,  True,  True,  True,\n",
       "         True,  True,  True,  True,  True,  True,  True,  True,  True,\n",
       "         True,  True,  True,  True, False,  True,  True],\n",
       "       [ True,  True,  True,  True,  True, False,  True,  True,  True,\n",
       "         True,  True,  True,  True,  True,  True,  True,  True,  True,\n",
       "         True,  True,  True,  True, False,  True,  True],\n",
       "       [ True,  True,  True,  True,  True, False,  True,  True,  True,\n",
       "         True,  True,  True,  True,  True,  True,  True,  True,  True,\n",
       "         True,  True,  True,  True, False,  True,  True],\n",
       "       [ True,  True,  True,  True,  True, False,  True,  True,  True,\n",
       "         True,  True,  True,  True,  True,  True,  True,  True,  True,\n",
       "         True,  True,  True,  True, False,  True,  True]])"
      ]
     },
     "execution_count": 242,
     "metadata": {},
     "output_type": "execute_result"
    }
   ],
   "source": [
    "(~(file_data > 50) & (file_data < 100))"
   ]
  },
  {
   "cell_type": "code",
   "execution_count": 243,
   "id": "95af9fb7",
   "metadata": {},
   "outputs": [
    {
     "data": {
      "text/plain": [
       "array([2, 3, 4, 5])"
      ]
     },
     "execution_count": 243,
     "metadata": {},
     "output_type": "execute_result"
    }
   ],
   "source": [
    "file_data[[0,1,2,3],[1,2,3,4]]"
   ]
  }
 ],
 "metadata": {
  "kernelspec": {
   "display_name": "Python 3 (ipykernel)",
   "language": "python",
   "name": "python3"
  },
  "language_info": {
   "codemirror_mode": {
    "name": "ipython",
    "version": 3
   },
   "file_extension": ".py",
   "mimetype": "text/x-python",
   "name": "python",
   "nbconvert_exporter": "python",
   "pygments_lexer": "ipython3",
   "version": "3.7.11"
  }
 },
 "nbformat": 4,
 "nbformat_minor": 5
}
