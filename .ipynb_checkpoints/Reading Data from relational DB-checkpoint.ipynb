{
 "cells": [
  {
   "cell_type": "code",
   "execution_count": 18,
   "id": "6c454bcd-d629-4c71-ade0-92d3b1f8606c",
   "metadata": {},
   "outputs": [],
   "source": [
    "import pandas as pd"
   ]
  },
  {
   "cell_type": "code",
   "execution_count": 19,
   "id": "6b6851bc-ea79-4fc2-bae8-cb2a56df11a9",
   "metadata": {},
   "outputs": [],
   "source": [
    "import sqlite3"
   ]
  },
  {
   "cell_type": "markdown",
   "id": "d44a28b3-2c7d-466d-ac1e-a9d59c5bbaa5",
   "metadata": {},
   "source": [
    "In order to work with SQLite database from Python, we first hae to connect to it. We can do that using connect function, which return **connection** object"
   ]
  },
  {
   "cell_type": "code",
   "execution_count": 24,
   "id": "a4739365-c838-4c8a-a4b8-81da26762a6a",
   "metadata": {},
   "outputs": [],
   "source": [
    "conn = sqlite3.connect('chinook.db') # If the database exists then put it into the directory file or you have to create new database with your data."
   ]
  },
  {
   "cell_type": "markdown",
   "id": "4254ffac-7010-4c09-a3ca-c46de2dd0073",
   "metadata": {},
   "source": [
    "Once we have a **Connection** object, we can then create a **Cursor** object. **Cursors** allow us to execut SQL command against database."
   ]
  },
  {
   "cell_type": "code",
   "execution_count": 21,
   "id": "61fc06f8-8b36-401f-887b-c7bdd2282c42",
   "metadata": {},
   "outputs": [],
   "source": [
    "cur = conn.cursor()"
   ]
  },
  {
   "cell_type": "markdown",
   "id": "c7ffccae-4081-4894-8ba8-424dc8fa2f14",
   "metadata": {},
   "source": [
    "The **cursor** created has a method **execute**, which will receive SQL parameters to run against the database\n",
    "\n",
    "The code below will fetch first 5 rows from the employees table"
   ]
  },
  {
   "cell_type": "code",
   "execution_count": 38,
   "id": "01b1daf8-8599-4a65-920f-61be3f078dcf",
   "metadata": {},
   "outputs": [
    {
     "data": {
      "text/plain": [
       "<sqlite3.Cursor at 0x28731a4bdc0>"
      ]
     },
     "execution_count": 38,
     "metadata": {},
     "output_type": "execute_result"
    }
   ],
   "source": [
    "cur.execute('SELECT * FROM employees LIMIT 5')"
   ]
  },
  {
   "cell_type": "markdown",
   "id": "f8e44e39-eeb2-4758-a797-f59168593302",
   "metadata": {},
   "source": [
    "After execute the query, you can't assign the result to a variable, because we need to run another command to actually fetch the result\n",
    "\n",
    "Using **fetchall** method to getch all of the results of the query"
   ]
  },
  {
   "cell_type": "code",
   "execution_count": 39,
   "id": "96bfbcca-d76b-49a6-8147-2d407efc5e93",
   "metadata": {},
   "outputs": [
    {
     "data": {
      "text/plain": [
       "[(1,\n",
       "  'Adams',\n",
       "  'Andrew',\n",
       "  'General Manager',\n",
       "  None,\n",
       "  '1962-02-18 00:00:00',\n",
       "  '2002-08-14 00:00:00',\n",
       "  '11120 Jasper Ave NW',\n",
       "  'Edmonton',\n",
       "  'AB',\n",
       "  'Canada',\n",
       "  'T5K 2N1',\n",
       "  '+1 (780) 428-9482',\n",
       "  '+1 (780) 428-3457',\n",
       "  'andrew@chinookcorp.com'),\n",
       " (2,\n",
       "  'Edwards',\n",
       "  'Nancy',\n",
       "  'Sales Manager',\n",
       "  1,\n",
       "  '1958-12-08 00:00:00',\n",
       "  '2002-05-01 00:00:00',\n",
       "  '825 8 Ave SW',\n",
       "  'Calgary',\n",
       "  'AB',\n",
       "  'Canada',\n",
       "  'T2P 2T3',\n",
       "  '+1 (403) 262-3443',\n",
       "  '+1 (403) 262-3322',\n",
       "  'nancy@chinookcorp.com'),\n",
       " (3,\n",
       "  'Peacock',\n",
       "  'Jane',\n",
       "  'Sales Support Agent',\n",
       "  2,\n",
       "  '1973-08-29 00:00:00',\n",
       "  '2002-04-01 00:00:00',\n",
       "  '1111 6 Ave SW',\n",
       "  'Calgary',\n",
       "  'AB',\n",
       "  'Canada',\n",
       "  'T2P 5M5',\n",
       "  '+1 (403) 262-3443',\n",
       "  '+1 (403) 262-6712',\n",
       "  'jane@chinookcorp.com'),\n",
       " (4,\n",
       "  'Park',\n",
       "  'Margaret',\n",
       "  'Sales Support Agent',\n",
       "  2,\n",
       "  '1947-09-19 00:00:00',\n",
       "  '2003-05-03 00:00:00',\n",
       "  '683 10 Street SW',\n",
       "  'Calgary',\n",
       "  'AB',\n",
       "  'Canada',\n",
       "  'T2P 5G3',\n",
       "  '+1 (403) 263-4423',\n",
       "  '+1 (403) 263-4289',\n",
       "  'margaret@chinookcorp.com'),\n",
       " (5,\n",
       "  'Johnson',\n",
       "  'Steve',\n",
       "  'Sales Support Agent',\n",
       "  2,\n",
       "  '1965-03-03 00:00:00',\n",
       "  '2003-10-17 00:00:00',\n",
       "  '7727B 41 Ave',\n",
       "  'Calgary',\n",
       "  'AB',\n",
       "  'Canada',\n",
       "  'T3B 1Y7',\n",
       "  '1 (780) 836-9987',\n",
       "  '1 (780) 836-9543',\n",
       "  'steve@chinookcorp.com')]"
      ]
     },
     "execution_count": 39,
     "metadata": {},
     "output_type": "execute_result"
    }
   ],
   "source": [
    "results = cur.fetchall()\n",
    "results"
   ]
  },
  {
   "cell_type": "markdown",
   "id": "a5560502-082a-4b3c-8ff7-ab6fd92ed3f2",
   "metadata": {},
   "source": [
    "After get the result, we use pandas to put the result into DataFrame that processing easier."
   ]
  },
  {
   "cell_type": "code",
   "execution_count": 41,
   "id": "4405024f-420c-4a5a-a66b-a735cd98b065",
   "metadata": {},
   "outputs": [
    {
     "data": {
      "text/html": [
       "<div>\n",
       "<style scoped>\n",
       "    .dataframe tbody tr th:only-of-type {\n",
       "        vertical-align: middle;\n",
       "    }\n",
       "\n",
       "    .dataframe tbody tr th {\n",
       "        vertical-align: top;\n",
       "    }\n",
       "\n",
       "    .dataframe thead th {\n",
       "        text-align: right;\n",
       "    }\n",
       "</style>\n",
       "<table border=\"1\" class=\"dataframe\">\n",
       "  <thead>\n",
       "    <tr style=\"text-align: right;\">\n",
       "      <th></th>\n",
       "      <th>0</th>\n",
       "      <th>1</th>\n",
       "      <th>2</th>\n",
       "      <th>3</th>\n",
       "      <th>4</th>\n",
       "      <th>5</th>\n",
       "      <th>6</th>\n",
       "      <th>7</th>\n",
       "      <th>8</th>\n",
       "      <th>9</th>\n",
       "      <th>10</th>\n",
       "      <th>11</th>\n",
       "      <th>12</th>\n",
       "      <th>13</th>\n",
       "      <th>14</th>\n",
       "    </tr>\n",
       "  </thead>\n",
       "  <tbody>\n",
       "    <tr>\n",
       "      <th>0</th>\n",
       "      <td>1</td>\n",
       "      <td>Adams</td>\n",
       "      <td>Andrew</td>\n",
       "      <td>General Manager</td>\n",
       "      <td>NaN</td>\n",
       "      <td>1962-02-18 00:00:00</td>\n",
       "      <td>2002-08-14 00:00:00</td>\n",
       "      <td>11120 Jasper Ave NW</td>\n",
       "      <td>Edmonton</td>\n",
       "      <td>AB</td>\n",
       "      <td>Canada</td>\n",
       "      <td>T5K 2N1</td>\n",
       "      <td>+1 (780) 428-9482</td>\n",
       "      <td>+1 (780) 428-3457</td>\n",
       "      <td>andrew@chinookcorp.com</td>\n",
       "    </tr>\n",
       "    <tr>\n",
       "      <th>1</th>\n",
       "      <td>2</td>\n",
       "      <td>Edwards</td>\n",
       "      <td>Nancy</td>\n",
       "      <td>Sales Manager</td>\n",
       "      <td>1.0</td>\n",
       "      <td>1958-12-08 00:00:00</td>\n",
       "      <td>2002-05-01 00:00:00</td>\n",
       "      <td>825 8 Ave SW</td>\n",
       "      <td>Calgary</td>\n",
       "      <td>AB</td>\n",
       "      <td>Canada</td>\n",
       "      <td>T2P 2T3</td>\n",
       "      <td>+1 (403) 262-3443</td>\n",
       "      <td>+1 (403) 262-3322</td>\n",
       "      <td>nancy@chinookcorp.com</td>\n",
       "    </tr>\n",
       "    <tr>\n",
       "      <th>2</th>\n",
       "      <td>3</td>\n",
       "      <td>Peacock</td>\n",
       "      <td>Jane</td>\n",
       "      <td>Sales Support Agent</td>\n",
       "      <td>2.0</td>\n",
       "      <td>1973-08-29 00:00:00</td>\n",
       "      <td>2002-04-01 00:00:00</td>\n",
       "      <td>1111 6 Ave SW</td>\n",
       "      <td>Calgary</td>\n",
       "      <td>AB</td>\n",
       "      <td>Canada</td>\n",
       "      <td>T2P 5M5</td>\n",
       "      <td>+1 (403) 262-3443</td>\n",
       "      <td>+1 (403) 262-6712</td>\n",
       "      <td>jane@chinookcorp.com</td>\n",
       "    </tr>\n",
       "    <tr>\n",
       "      <th>3</th>\n",
       "      <td>4</td>\n",
       "      <td>Park</td>\n",
       "      <td>Margaret</td>\n",
       "      <td>Sales Support Agent</td>\n",
       "      <td>2.0</td>\n",
       "      <td>1947-09-19 00:00:00</td>\n",
       "      <td>2003-05-03 00:00:00</td>\n",
       "      <td>683 10 Street SW</td>\n",
       "      <td>Calgary</td>\n",
       "      <td>AB</td>\n",
       "      <td>Canada</td>\n",
       "      <td>T2P 5G3</td>\n",
       "      <td>+1 (403) 263-4423</td>\n",
       "      <td>+1 (403) 263-4289</td>\n",
       "      <td>margaret@chinookcorp.com</td>\n",
       "    </tr>\n",
       "    <tr>\n",
       "      <th>4</th>\n",
       "      <td>5</td>\n",
       "      <td>Johnson</td>\n",
       "      <td>Steve</td>\n",
       "      <td>Sales Support Agent</td>\n",
       "      <td>2.0</td>\n",
       "      <td>1965-03-03 00:00:00</td>\n",
       "      <td>2003-10-17 00:00:00</td>\n",
       "      <td>7727B 41 Ave</td>\n",
       "      <td>Calgary</td>\n",
       "      <td>AB</td>\n",
       "      <td>Canada</td>\n",
       "      <td>T3B 1Y7</td>\n",
       "      <td>1 (780) 836-9987</td>\n",
       "      <td>1 (780) 836-9543</td>\n",
       "      <td>steve@chinookcorp.com</td>\n",
       "    </tr>\n",
       "  </tbody>\n",
       "</table>\n",
       "</div>"
      ],
      "text/plain": [
       "   0        1         2                    3    4                    5   \\\n",
       "0   1    Adams    Andrew      General Manager  NaN  1962-02-18 00:00:00   \n",
       "1   2  Edwards     Nancy        Sales Manager  1.0  1958-12-08 00:00:00   \n",
       "2   3  Peacock      Jane  Sales Support Agent  2.0  1973-08-29 00:00:00   \n",
       "3   4     Park  Margaret  Sales Support Agent  2.0  1947-09-19 00:00:00   \n",
       "4   5  Johnson     Steve  Sales Support Agent  2.0  1965-03-03 00:00:00   \n",
       "\n",
       "                    6                    7         8   9       10       11  \\\n",
       "0  2002-08-14 00:00:00  11120 Jasper Ave NW  Edmonton  AB  Canada  T5K 2N1   \n",
       "1  2002-05-01 00:00:00         825 8 Ave SW   Calgary  AB  Canada  T2P 2T3   \n",
       "2  2002-04-01 00:00:00        1111 6 Ave SW   Calgary  AB  Canada  T2P 5M5   \n",
       "3  2003-05-03 00:00:00     683 10 Street SW   Calgary  AB  Canada  T2P 5G3   \n",
       "4  2003-10-17 00:00:00         7727B 41 Ave   Calgary  AB  Canada  T3B 1Y7   \n",
       "\n",
       "                  12                 13                        14  \n",
       "0  +1 (780) 428-9482  +1 (780) 428-3457    andrew@chinookcorp.com  \n",
       "1  +1 (403) 262-3443  +1 (403) 262-3322     nancy@chinookcorp.com  \n",
       "2  +1 (403) 262-3443  +1 (403) 262-6712      jane@chinookcorp.com  \n",
       "3  +1 (403) 263-4423  +1 (403) 263-4289  margaret@chinookcorp.com  \n",
       "4   1 (780) 836-9987   1 (780) 836-9543     steve@chinookcorp.com  "
      ]
     },
     "execution_count": 41,
     "metadata": {},
     "output_type": "execute_result"
    }
   ],
   "source": [
    "df = pd.DataFrame(results)\n",
    "df"
   ]
  },
  {
   "cell_type": "code",
   "execution_count": 45,
   "id": "3ba81471-8ca2-41c8-acf8-1f7c56f55d4d",
   "metadata": {},
   "outputs": [
    {
     "data": {
      "text/html": [
       "<div>\n",
       "<style scoped>\n",
       "    .dataframe tbody tr th:only-of-type {\n",
       "        vertical-align: middle;\n",
       "    }\n",
       "\n",
       "    .dataframe tbody tr th {\n",
       "        vertical-align: top;\n",
       "    }\n",
       "\n",
       "    .dataframe thead th {\n",
       "        text-align: right;\n",
       "    }\n",
       "</style>\n",
       "<table border=\"1\" class=\"dataframe\">\n",
       "  <thead>\n",
       "    <tr style=\"text-align: right;\">\n",
       "      <th></th>\n",
       "      <th>0</th>\n",
       "      <th>1</th>\n",
       "      <th>2</th>\n",
       "      <th>3</th>\n",
       "      <th>4</th>\n",
       "      <th>5</th>\n",
       "      <th>6</th>\n",
       "      <th>7</th>\n",
       "      <th>8</th>\n",
       "      <th>9</th>\n",
       "      <th>10</th>\n",
       "      <th>11</th>\n",
       "      <th>12</th>\n",
       "      <th>13</th>\n",
       "      <th>14</th>\n",
       "    </tr>\n",
       "  </thead>\n",
       "  <tbody>\n",
       "    <tr>\n",
       "      <th>0</th>\n",
       "      <td>1</td>\n",
       "      <td>Adams</td>\n",
       "      <td>Andrew</td>\n",
       "      <td>General Manager</td>\n",
       "      <td>NaN</td>\n",
       "      <td>1962-02-18 00:00:00</td>\n",
       "      <td>2002-08-14 00:00:00</td>\n",
       "      <td>11120 Jasper Ave NW</td>\n",
       "      <td>Edmonton</td>\n",
       "      <td>AB</td>\n",
       "      <td>Canada</td>\n",
       "      <td>T5K 2N1</td>\n",
       "      <td>+1 (780) 428-9482</td>\n",
       "      <td>+1 (780) 428-3457</td>\n",
       "      <td>andrew@chinookcorp.com</td>\n",
       "    </tr>\n",
       "  </tbody>\n",
       "</table>\n",
       "</div>"
      ],
      "text/plain": [
       "   0      1       2                3   4                    5   \\\n",
       "0   1  Adams  Andrew  General Manager NaN  1962-02-18 00:00:00   \n",
       "\n",
       "                    6                    7         8   9       10       11  \\\n",
       "0  2002-08-14 00:00:00  11120 Jasper Ave NW  Edmonton  AB  Canada  T5K 2N1   \n",
       "\n",
       "                  12                 13                      14  \n",
       "0  +1 (780) 428-9482  +1 (780) 428-3457  andrew@chinookcorp.com  "
      ]
     },
     "execution_count": 45,
     "metadata": {},
     "output_type": "execute_result"
    }
   ],
   "source": [
    "df.head(1)"
   ]
  },
  {
   "cell_type": "markdown",
   "id": "35605d06-47d1-43c0-94e3-951d7f17262b",
   "metadata": {},
   "source": [
    "Close **connection** and **cursor** after work done to prevent sqlite database from being locked. It will raise an error if you want to update or do operation inside the databse."
   ]
  },
  {
   "cell_type": "code",
   "execution_count": 47,
   "id": "cbfea1f0-e241-43f1-8b14-6f4e157e8ae0",
   "metadata": {},
   "outputs": [],
   "source": [
    "cur.close()\n",
    "conn.close()"
   ]
  },
  {
   "cell_type": "markdown",
   "id": "018d444d-7e1e-46ff-b9b2-75a389c1ed39",
   "metadata": {},
   "source": [
    "### Using pandas **read_sql** method"
   ]
  },
  {
   "cell_type": "markdown",
   "id": "c6cf1099-7fa8-4c39-9d53-0e11578427ff",
   "metadata": {},
   "source": [
    "We can use the pandas **read_sql** function to read the results of a SQL query directly into a pandas DataFrame. The code will execute the query and it will return a DataFrame immediately. It has several advantage:\n",
    "* It doesn't require us to create a **Cursor** object or call **fetchall** at the end\n",
    "* It automatically reads in the names of the headers from the table\n",
    "* It crates a DataFrame, so we can quickly explore the data."
   ]
  },
  {
   "cell_type": "code",
   "execution_count": 49,
   "id": "5f242be2-013f-4918-a20e-b532d8db41bc",
   "metadata": {},
   "outputs": [],
   "source": [
    "import pandas\n",
    "import sqlite3"
   ]
  },
  {
   "cell_type": "code",
   "execution_count": null,
   "id": "53de1fe8-b41d-4c69-8749-84405d37d804",
   "metadata": {},
   "outputs": [],
   "source": [
    "conn = sqlite3.connect('chinook.db')"
   ]
  },
  {
   "cell_type": "code",
   "execution_count": null,
   "id": "dbbee984-0f02-444b-9514-32981cda5ca8",
   "metadata": {},
   "outputs": [],
   "source": [
    "df = pd.read_sql"
   ]
  },
  {
   "cell_type": "code",
   "execution_count": null,
   "id": "805ac301-89b6-4638-81a9-925e53b242c6",
   "metadata": {},
   "outputs": [],
   "source": []
  },
  {
   "cell_type": "code",
   "execution_count": null,
   "id": "78ca7337-aafa-42bb-86e7-65a482375a1a",
   "metadata": {},
   "outputs": [],
   "source": []
  },
  {
   "cell_type": "code",
   "execution_count": null,
   "id": "156c5c16-9ff0-449d-b120-6ab27d41161d",
   "metadata": {},
   "outputs": [],
   "source": []
  },
  {
   "cell_type": "code",
   "execution_count": null,
   "id": "80032a54-4653-4b07-a3e7-2177c94abc0d",
   "metadata": {},
   "outputs": [],
   "source": []
  },
  {
   "cell_type": "code",
   "execution_count": null,
   "id": "ac9e532c-4e88-45a4-9d9f-a76c8193cd59",
   "metadata": {},
   "outputs": [],
   "source": []
  },
  {
   "cell_type": "code",
   "execution_count": null,
   "id": "7c32b579-a9be-4c4e-acec-383835a7b6e5",
   "metadata": {},
   "outputs": [],
   "source": []
  },
  {
   "cell_type": "code",
   "execution_count": null,
   "id": "f23b2d2b-6d1e-4802-9a2f-dfeb3ff33a37",
   "metadata": {},
   "outputs": [],
   "source": []
  },
  {
   "cell_type": "code",
   "execution_count": null,
   "id": "214a49ac-4d9d-48fa-b8c4-93370190552b",
   "metadata": {},
   "outputs": [],
   "source": []
  },
  {
   "cell_type": "code",
   "execution_count": null,
   "id": "3ab5a14f-a8d5-4c7d-8c17-46788108dbb6",
   "metadata": {},
   "outputs": [],
   "source": []
  },
  {
   "cell_type": "code",
   "execution_count": null,
   "id": "bf003260-392b-4d26-b611-943fb3fac976",
   "metadata": {},
   "outputs": [],
   "source": []
  },
  {
   "cell_type": "code",
   "execution_count": null,
   "id": "3a39a5be-032c-4912-8ce6-69e7761a5a94",
   "metadata": {},
   "outputs": [],
   "source": []
  },
  {
   "cell_type": "code",
   "execution_count": null,
   "id": "cf400693-e0f7-40c5-8426-8d6e1920f5cf",
   "metadata": {},
   "outputs": [],
   "source": []
  },
  {
   "cell_type": "code",
   "execution_count": null,
   "id": "13569b90-db0a-438d-802d-b68f1257e3fe",
   "metadata": {},
   "outputs": [],
   "source": []
  },
  {
   "cell_type": "code",
   "execution_count": null,
   "id": "003e21a8-7f40-4aae-853d-dd316b45386d",
   "metadata": {},
   "outputs": [],
   "source": []
  },
  {
   "cell_type": "code",
   "execution_count": null,
   "id": "af2c863e-9666-4b1c-a0f1-4130a0f443c4",
   "metadata": {},
   "outputs": [],
   "source": []
  },
  {
   "cell_type": "code",
   "execution_count": null,
   "id": "d89dbfbb-7e21-4e9f-99f0-3511a622143d",
   "metadata": {},
   "outputs": [],
   "source": []
  },
  {
   "cell_type": "code",
   "execution_count": null,
   "id": "9e928d32-0f18-465b-bbff-271b3a1dda03",
   "metadata": {},
   "outputs": [],
   "source": []
  },
  {
   "cell_type": "code",
   "execution_count": null,
   "id": "1df06da3-4932-4dcf-bb4b-eb65963b0301",
   "metadata": {},
   "outputs": [],
   "source": []
  },
  {
   "cell_type": "code",
   "execution_count": null,
   "id": "7c8fba80-a35a-4162-a07b-333e966d3962",
   "metadata": {},
   "outputs": [],
   "source": []
  },
  {
   "cell_type": "code",
   "execution_count": null,
   "id": "4b4a6686-69c9-460d-8c87-1b9e7d477437",
   "metadata": {},
   "outputs": [],
   "source": []
  },
  {
   "cell_type": "code",
   "execution_count": null,
   "id": "9b1ee567-a5d4-4262-99d9-aa10c6be3345",
   "metadata": {},
   "outputs": [],
   "source": []
  },
  {
   "cell_type": "code",
   "execution_count": null,
   "id": "9df543ee-c1f8-46ac-967a-df0ccb896cb9",
   "metadata": {},
   "outputs": [],
   "source": []
  },
  {
   "cell_type": "code",
   "execution_count": null,
   "id": "f0ec0a24-eaf6-4021-b497-f328581f86e7",
   "metadata": {},
   "outputs": [],
   "source": []
  },
  {
   "cell_type": "code",
   "execution_count": null,
   "id": "78cca6ec-07c4-4631-a9c2-d33f95484385",
   "metadata": {},
   "outputs": [],
   "source": []
  },
  {
   "cell_type": "code",
   "execution_count": null,
   "id": "ceae11c5-3904-4f22-bf9f-c70ce9f8c361",
   "metadata": {},
   "outputs": [],
   "source": []
  },
  {
   "cell_type": "code",
   "execution_count": null,
   "id": "51cca466-c3cc-41ca-bf37-6e368d04b738",
   "metadata": {},
   "outputs": [],
   "source": []
  },
  {
   "cell_type": "code",
   "execution_count": null,
   "id": "c6800c09-2cc2-4d43-8ef2-2f0cb340711b",
   "metadata": {},
   "outputs": [],
   "source": []
  },
  {
   "cell_type": "code",
   "execution_count": null,
   "id": "a067028e-3bb0-4b1a-8457-964f0d9cdf93",
   "metadata": {},
   "outputs": [],
   "source": []
  },
  {
   "cell_type": "code",
   "execution_count": null,
   "id": "612f32d9-cbb4-4272-951e-37526d6c4e8c",
   "metadata": {},
   "outputs": [],
   "source": []
  },
  {
   "cell_type": "code",
   "execution_count": null,
   "id": "62fb6760-945e-4edc-b0f3-16eb1af576c0",
   "metadata": {},
   "outputs": [],
   "source": []
  },
  {
   "cell_type": "code",
   "execution_count": null,
   "id": "a9e1f4ea-f2e2-4df9-9ecb-3f58d50455fc",
   "metadata": {},
   "outputs": [],
   "source": []
  },
  {
   "cell_type": "code",
   "execution_count": null,
   "id": "dab705ba-70f2-4b89-a44b-8a6314ab2601",
   "metadata": {},
   "outputs": [],
   "source": []
  },
  {
   "cell_type": "code",
   "execution_count": null,
   "id": "ddb571a7-fa26-414e-b5e4-d69e3d6d8030",
   "metadata": {},
   "outputs": [],
   "source": []
  },
  {
   "cell_type": "code",
   "execution_count": null,
   "id": "729f5c2f-193f-4063-a3ab-f1e8447eceeb",
   "metadata": {},
   "outputs": [],
   "source": []
  },
  {
   "cell_type": "code",
   "execution_count": null,
   "id": "6a9f7ad9-72e7-45fa-87eb-91992d657bf2",
   "metadata": {},
   "outputs": [],
   "source": []
  },
  {
   "cell_type": "code",
   "execution_count": null,
   "id": "a9ef0729-2f08-4da9-91e2-2dc03a7c00b6",
   "metadata": {},
   "outputs": [],
   "source": []
  },
  {
   "cell_type": "code",
   "execution_count": null,
   "id": "e2205546-c1ac-403b-bdf2-662b93af9709",
   "metadata": {},
   "outputs": [],
   "source": []
  },
  {
   "cell_type": "code",
   "execution_count": null,
   "id": "bbb6b497-7090-466a-99dd-4ace4a913456",
   "metadata": {},
   "outputs": [],
   "source": []
  },
  {
   "cell_type": "code",
   "execution_count": null,
   "id": "39547094-602c-4acf-8870-da45ed3ea920",
   "metadata": {},
   "outputs": [],
   "source": []
  },
  {
   "cell_type": "code",
   "execution_count": null,
   "id": "27b0137c-428b-4228-8315-0fb657a594a0",
   "metadata": {},
   "outputs": [],
   "source": []
  },
  {
   "cell_type": "code",
   "execution_count": null,
   "id": "d66ede87-0c99-40b4-87c5-88b73576ba87",
   "metadata": {},
   "outputs": [],
   "source": []
  },
  {
   "cell_type": "code",
   "execution_count": null,
   "id": "e72d9922-56ee-42e9-9b50-bc9cb16d81b7",
   "metadata": {},
   "outputs": [],
   "source": []
  },
  {
   "cell_type": "code",
   "execution_count": null,
   "id": "11d30719-33fd-4bef-9094-5e7001288da9",
   "metadata": {},
   "outputs": [],
   "source": []
  },
  {
   "cell_type": "code",
   "execution_count": null,
   "id": "07dc327b-4dcd-4ea4-b93a-cd4c849144ca",
   "metadata": {},
   "outputs": [],
   "source": []
  },
  {
   "cell_type": "code",
   "execution_count": null,
   "id": "64825a02-00fd-4fa1-8f78-8718d304b8b2",
   "metadata": {},
   "outputs": [],
   "source": []
  },
  {
   "cell_type": "code",
   "execution_count": null,
   "id": "24fbd02b-818e-4e8d-b864-bc4073093243",
   "metadata": {},
   "outputs": [],
   "source": []
  },
  {
   "cell_type": "code",
   "execution_count": null,
   "id": "15e77220-7b71-4e93-ae4c-9295194bfa0e",
   "metadata": {},
   "outputs": [],
   "source": []
  },
  {
   "cell_type": "code",
   "execution_count": null,
   "id": "1de0e958-7957-46c8-9865-b5548dfda2f4",
   "metadata": {},
   "outputs": [],
   "source": []
  },
  {
   "cell_type": "code",
   "execution_count": null,
   "id": "35075817-7f3d-44a2-ae68-afba37162361",
   "metadata": {},
   "outputs": [],
   "source": []
  },
  {
   "cell_type": "code",
   "execution_count": null,
   "id": "365e45d1-b80b-49cf-ace5-c45b019d1d87",
   "metadata": {},
   "outputs": [],
   "source": []
  },
  {
   "cell_type": "code",
   "execution_count": null,
   "id": "bbbd3621-f36d-4c7d-88cd-e984681c0a80",
   "metadata": {},
   "outputs": [],
   "source": []
  },
  {
   "cell_type": "code",
   "execution_count": null,
   "id": "33892ff2-0c36-4b0e-b25e-ab3b00c6867e",
   "metadata": {},
   "outputs": [],
   "source": []
  },
  {
   "cell_type": "code",
   "execution_count": null,
   "id": "f06da19e-041f-4a97-b287-a7392df37804",
   "metadata": {},
   "outputs": [],
   "source": []
  },
  {
   "cell_type": "code",
   "execution_count": null,
   "id": "6ca8e30c-48d9-46e3-9e88-d66329a894cb",
   "metadata": {},
   "outputs": [],
   "source": []
  },
  {
   "cell_type": "code",
   "execution_count": null,
   "id": "a34b4c20-e048-4557-a333-fbf821902db3",
   "metadata": {},
   "outputs": [],
   "source": []
  },
  {
   "cell_type": "code",
   "execution_count": null,
   "id": "75e40e1b-baa1-4469-9170-cf89a934e13b",
   "metadata": {},
   "outputs": [],
   "source": []
  },
  {
   "cell_type": "code",
   "execution_count": null,
   "id": "7a0351a2-d50c-44de-9363-d1d70701b3b4",
   "metadata": {},
   "outputs": [],
   "source": []
  },
  {
   "cell_type": "code",
   "execution_count": null,
   "id": "b8e0ac08-d76d-483e-8c77-28ae3b30886d",
   "metadata": {},
   "outputs": [],
   "source": []
  },
  {
   "cell_type": "code",
   "execution_count": null,
   "id": "a5b1d457-59ee-4a69-ae03-8fccc3cfbc13",
   "metadata": {},
   "outputs": [],
   "source": []
  },
  {
   "cell_type": "code",
   "execution_count": null,
   "id": "6bbfa2be-89f5-4563-94dc-c5225c463431",
   "metadata": {},
   "outputs": [],
   "source": []
  },
  {
   "cell_type": "code",
   "execution_count": null,
   "id": "5d9ad670-020d-4cf9-83aa-56a3c9dea7b9",
   "metadata": {},
   "outputs": [],
   "source": []
  },
  {
   "cell_type": "code",
   "execution_count": null,
   "id": "604af9fb-45d3-4d48-98aa-869728165aac",
   "metadata": {},
   "outputs": [],
   "source": []
  },
  {
   "cell_type": "code",
   "execution_count": null,
   "id": "1789d9e3-336a-4c82-a370-19af93d0fd30",
   "metadata": {},
   "outputs": [],
   "source": []
  },
  {
   "cell_type": "code",
   "execution_count": null,
   "id": "99f98fec-b2f3-44dd-8aa2-60a60164f8a3",
   "metadata": {},
   "outputs": [],
   "source": []
  },
  {
   "cell_type": "code",
   "execution_count": null,
   "id": "f3c93bc0-66c2-46d6-bed0-6cb1770af35d",
   "metadata": {},
   "outputs": [],
   "source": []
  },
  {
   "cell_type": "code",
   "execution_count": null,
   "id": "849364e7-fe60-4412-aad8-b5483802b92d",
   "metadata": {},
   "outputs": [],
   "source": []
  },
  {
   "cell_type": "code",
   "execution_count": null,
   "id": "32fe0a76-0351-40e9-ae04-fa2ad61cdb49",
   "metadata": {},
   "outputs": [],
   "source": []
  },
  {
   "cell_type": "code",
   "execution_count": null,
   "id": "be57854f-3e37-411e-9fa4-9f0f3a0d06d9",
   "metadata": {},
   "outputs": [],
   "source": []
  },
  {
   "cell_type": "code",
   "execution_count": null,
   "id": "71de028b-8f0a-4f46-84ac-b2a8a326644d",
   "metadata": {},
   "outputs": [],
   "source": []
  },
  {
   "cell_type": "code",
   "execution_count": null,
   "id": "1bcc8efc-88e7-48f4-8ce6-e022be6bc1ee",
   "metadata": {},
   "outputs": [],
   "source": []
  },
  {
   "cell_type": "code",
   "execution_count": null,
   "id": "45f9237a-8bfd-4000-ac81-34e9f3cce319",
   "metadata": {},
   "outputs": [],
   "source": []
  },
  {
   "cell_type": "code",
   "execution_count": null,
   "id": "365a4ae2-4c66-4ac7-82b0-b8675cbe6ce7",
   "metadata": {},
   "outputs": [],
   "source": []
  },
  {
   "cell_type": "code",
   "execution_count": null,
   "id": "1ee12ed0-6c73-466c-a5ae-e2a28868d53a",
   "metadata": {},
   "outputs": [],
   "source": []
  },
  {
   "cell_type": "code",
   "execution_count": null,
   "id": "7cc5fb83-2485-451e-b24b-cb9ddf702dbe",
   "metadata": {},
   "outputs": [],
   "source": []
  },
  {
   "cell_type": "code",
   "execution_count": null,
   "id": "f4b417a6-0387-4734-a66b-4c3e047bb3eb",
   "metadata": {},
   "outputs": [],
   "source": []
  },
  {
   "cell_type": "code",
   "execution_count": null,
   "id": "461c6ac6-c05b-42e8-93fa-c0f171877b88",
   "metadata": {},
   "outputs": [],
   "source": []
  },
  {
   "cell_type": "code",
   "execution_count": null,
   "id": "d7505bc8-16ad-45bf-81e5-cfd19b39dcdf",
   "metadata": {},
   "outputs": [],
   "source": []
  },
  {
   "cell_type": "code",
   "execution_count": null,
   "id": "9b2c66b1-e373-49b6-bc64-22a898a8f2dc",
   "metadata": {},
   "outputs": [],
   "source": []
  },
  {
   "cell_type": "code",
   "execution_count": null,
   "id": "fd36ec8b-6c9c-49e2-a29a-14a3a8d57fdc",
   "metadata": {},
   "outputs": [],
   "source": []
  },
  {
   "cell_type": "code",
   "execution_count": null,
   "id": "91766398-bb3e-4daf-92c3-181ae3bb2c95",
   "metadata": {},
   "outputs": [],
   "source": []
  },
  {
   "cell_type": "code",
   "execution_count": null,
   "id": "a015ac13-ea9f-4009-84d8-4ce3839b8642",
   "metadata": {},
   "outputs": [],
   "source": []
  },
  {
   "cell_type": "code",
   "execution_count": null,
   "id": "5a8e6a0e-f816-4079-8038-3f2d8bb0a864",
   "metadata": {},
   "outputs": [],
   "source": []
  },
  {
   "cell_type": "code",
   "execution_count": null,
   "id": "7bfc073e-174e-43c8-8b56-c8cdeaf7a805",
   "metadata": {},
   "outputs": [],
   "source": []
  },
  {
   "cell_type": "code",
   "execution_count": null,
   "id": "ea9d81e9-8aad-4abf-81cd-c5e6313e781a",
   "metadata": {},
   "outputs": [],
   "source": []
  },
  {
   "cell_type": "code",
   "execution_count": null,
   "id": "29fea45b-35a4-4381-a394-dca1adb01f59",
   "metadata": {},
   "outputs": [],
   "source": []
  },
  {
   "cell_type": "code",
   "execution_count": null,
   "id": "f89fa8e1-810d-429b-b226-1fceba99701d",
   "metadata": {},
   "outputs": [],
   "source": []
  },
  {
   "cell_type": "code",
   "execution_count": null,
   "id": "c5bd6081-7955-4bca-9dc6-0a11a45ec5aa",
   "metadata": {},
   "outputs": [],
   "source": []
  },
  {
   "cell_type": "code",
   "execution_count": null,
   "id": "ebf4b349-54fb-46dc-ba55-62339ae172ef",
   "metadata": {},
   "outputs": [],
   "source": []
  },
  {
   "cell_type": "code",
   "execution_count": null,
   "id": "070fed7b-c5d2-4b30-b032-32514e1b8e17",
   "metadata": {},
   "outputs": [],
   "source": []
  },
  {
   "cell_type": "code",
   "execution_count": null,
   "id": "bd035519-8745-446e-8a75-459ba4546c99",
   "metadata": {},
   "outputs": [],
   "source": []
  },
  {
   "cell_type": "code",
   "execution_count": null,
   "id": "74be637a-1cc2-4efe-abda-7e09e97ce79a",
   "metadata": {},
   "outputs": [],
   "source": []
  },
  {
   "cell_type": "code",
   "execution_count": null,
   "id": "0c5c5d92-7b35-451c-b7af-0b3a0dfc3421",
   "metadata": {},
   "outputs": [],
   "source": []
  },
  {
   "cell_type": "code",
   "execution_count": null,
   "id": "f1b01351-6620-41b3-85f0-1c55c42927cb",
   "metadata": {},
   "outputs": [],
   "source": []
  },
  {
   "cell_type": "code",
   "execution_count": null,
   "id": "b720eb9c-d172-4813-b617-235defb715dd",
   "metadata": {},
   "outputs": [],
   "source": []
  },
  {
   "cell_type": "code",
   "execution_count": null,
   "id": "4e8ed923-8fd3-4243-bc76-bd4cf3171d1a",
   "metadata": {},
   "outputs": [],
   "source": []
  },
  {
   "cell_type": "code",
   "execution_count": null,
   "id": "b812d563-0833-4c71-aa6d-ce3a29dd1e86",
   "metadata": {},
   "outputs": [],
   "source": []
  },
  {
   "cell_type": "code",
   "execution_count": null,
   "id": "78aa0c3a-ab01-4b28-8937-69abdbe9fc46",
   "metadata": {},
   "outputs": [],
   "source": []
  },
  {
   "cell_type": "code",
   "execution_count": null,
   "id": "87147998-3f64-47b2-9426-af3e35d07118",
   "metadata": {},
   "outputs": [],
   "source": []
  },
  {
   "cell_type": "code",
   "execution_count": null,
   "id": "deff4a15-16ab-4441-a4f0-3959771d8160",
   "metadata": {},
   "outputs": [],
   "source": []
  },
  {
   "cell_type": "code",
   "execution_count": null,
   "id": "4a67e97f-7015-4af0-9dbf-88c25b54e1df",
   "metadata": {},
   "outputs": [],
   "source": []
  },
  {
   "cell_type": "code",
   "execution_count": null,
   "id": "73f769bb-0258-435f-b49d-db58158e1782",
   "metadata": {},
   "outputs": [],
   "source": []
  },
  {
   "cell_type": "code",
   "execution_count": null,
   "id": "d38d6089-c5e5-48b4-b5b0-1bcfa404718e",
   "metadata": {},
   "outputs": [],
   "source": []
  },
  {
   "cell_type": "code",
   "execution_count": null,
   "id": "07e6f315-221e-485c-8721-f51d2657d243",
   "metadata": {},
   "outputs": [],
   "source": []
  },
  {
   "cell_type": "code",
   "execution_count": null,
   "id": "4e0db818-cc20-446c-ae31-9f47f1076e19",
   "metadata": {},
   "outputs": [],
   "source": []
  },
  {
   "cell_type": "code",
   "execution_count": null,
   "id": "7d6141e4-e4aa-4977-8cd6-abfd486d1299",
   "metadata": {},
   "outputs": [],
   "source": []
  },
  {
   "cell_type": "code",
   "execution_count": null,
   "id": "acec4bd4-490a-4378-8b60-59e03a4c18be",
   "metadata": {},
   "outputs": [],
   "source": []
  },
  {
   "cell_type": "code",
   "execution_count": null,
   "id": "7dbe981d-2707-49fe-b81a-616b54d6446c",
   "metadata": {},
   "outputs": [],
   "source": []
  },
  {
   "cell_type": "code",
   "execution_count": null,
   "id": "dbb27078-81b4-4864-9bfd-42f2f48bedbd",
   "metadata": {},
   "outputs": [],
   "source": []
  },
  {
   "cell_type": "code",
   "execution_count": null,
   "id": "09aaa459-531b-4b80-b50b-d4cf4a0c4d60",
   "metadata": {},
   "outputs": [],
   "source": []
  },
  {
   "cell_type": "code",
   "execution_count": null,
   "id": "7cb0ab55-945a-4131-8915-ade17c70c807",
   "metadata": {},
   "outputs": [],
   "source": []
  },
  {
   "cell_type": "code",
   "execution_count": null,
   "id": "0c32fad7-c6f2-4b92-80b4-15d32954d736",
   "metadata": {},
   "outputs": [],
   "source": []
  },
  {
   "cell_type": "code",
   "execution_count": null,
   "id": "868dda24-9b85-4936-9fdf-897c91626efa",
   "metadata": {},
   "outputs": [],
   "source": []
  },
  {
   "cell_type": "code",
   "execution_count": null,
   "id": "fb2b3eab-f15e-4194-8be4-bc59c2d3773b",
   "metadata": {},
   "outputs": [],
   "source": []
  },
  {
   "cell_type": "code",
   "execution_count": null,
   "id": "9b54ed7d-68e3-485a-af37-2e4875681844",
   "metadata": {},
   "outputs": [],
   "source": []
  },
  {
   "cell_type": "code",
   "execution_count": null,
   "id": "0f3b405e-e831-4b80-8009-99d398b5b68b",
   "metadata": {},
   "outputs": [],
   "source": []
  },
  {
   "cell_type": "code",
   "execution_count": null,
   "id": "6d4d75f1-4aa5-4b31-8608-1246a534f429",
   "metadata": {},
   "outputs": [],
   "source": []
  },
  {
   "cell_type": "code",
   "execution_count": null,
   "id": "b9735bb0-f1f0-49dd-b186-c1f5a9a7e9e2",
   "metadata": {},
   "outputs": [],
   "source": []
  },
  {
   "cell_type": "code",
   "execution_count": null,
   "id": "edc71118-e2a7-423e-99b3-155b9ef130a7",
   "metadata": {},
   "outputs": [],
   "source": []
  },
  {
   "cell_type": "code",
   "execution_count": null,
   "id": "f4630ef9-daec-4ec6-aa11-f52b941a2c26",
   "metadata": {},
   "outputs": [],
   "source": []
  },
  {
   "cell_type": "code",
   "execution_count": null,
   "id": "a18857fc-c033-4730-a635-b404a49629cc",
   "metadata": {},
   "outputs": [],
   "source": []
  },
  {
   "cell_type": "code",
   "execution_count": null,
   "id": "accad05f-e248-4c75-948c-55efb3f135f9",
   "metadata": {},
   "outputs": [],
   "source": []
  },
  {
   "cell_type": "code",
   "execution_count": null,
   "id": "f4c73937-f018-4831-85cb-4ff28bbc820d",
   "metadata": {},
   "outputs": [],
   "source": []
  },
  {
   "cell_type": "code",
   "execution_count": null,
   "id": "a5f3eb8a-a43e-4220-bc49-724f26892a59",
   "metadata": {},
   "outputs": [],
   "source": []
  },
  {
   "cell_type": "code",
   "execution_count": null,
   "id": "314dcba4-55ba-4897-bdf5-2ce6a2577ff9",
   "metadata": {},
   "outputs": [],
   "source": []
  },
  {
   "cell_type": "code",
   "execution_count": null,
   "id": "86afbb56-81c3-40cc-9268-758320ad55be",
   "metadata": {},
   "outputs": [],
   "source": []
  },
  {
   "cell_type": "code",
   "execution_count": null,
   "id": "bc2c5988-04b4-439f-98f4-d980b4bdd455",
   "metadata": {},
   "outputs": [],
   "source": []
  },
  {
   "cell_type": "code",
   "execution_count": null,
   "id": "b62f7abc-c86b-4ea2-bf1c-7b6ccb9a1581",
   "metadata": {},
   "outputs": [],
   "source": []
  },
  {
   "cell_type": "code",
   "execution_count": null,
   "id": "7b4daafe-bee7-44da-8fa2-88a12af12a18",
   "metadata": {},
   "outputs": [],
   "source": []
  },
  {
   "cell_type": "code",
   "execution_count": null,
   "id": "c6e1da57-7cb6-42a7-8d75-fd8293bf5ae6",
   "metadata": {},
   "outputs": [],
   "source": []
  },
  {
   "cell_type": "code",
   "execution_count": null,
   "id": "7e30d7da-8a4a-4a4d-8407-77a434de1fc2",
   "metadata": {},
   "outputs": [],
   "source": []
  },
  {
   "cell_type": "code",
   "execution_count": null,
   "id": "5b1b436b-b2da-465a-82a7-bb6f29fdfdfa",
   "metadata": {},
   "outputs": [],
   "source": []
  },
  {
   "cell_type": "code",
   "execution_count": null,
   "id": "d82ce6f0-d1ac-47ac-8533-9b9d62855eb5",
   "metadata": {},
   "outputs": [],
   "source": []
  },
  {
   "cell_type": "code",
   "execution_count": null,
   "id": "76b3fbf2-d5ff-4cf4-9c58-cca1fef98006",
   "metadata": {},
   "outputs": [],
   "source": []
  },
  {
   "cell_type": "code",
   "execution_count": null,
   "id": "e753ac25-73b5-4866-bb8e-d27356b5027e",
   "metadata": {},
   "outputs": [],
   "source": []
  },
  {
   "cell_type": "code",
   "execution_count": null,
   "id": "126b2e71-c6ad-4ec2-8127-69aeb8f03b94",
   "metadata": {},
   "outputs": [],
   "source": []
  },
  {
   "cell_type": "code",
   "execution_count": null,
   "id": "ee6bdc19-b9f4-41ac-b140-9861f5854edc",
   "metadata": {},
   "outputs": [],
   "source": []
  },
  {
   "cell_type": "code",
   "execution_count": null,
   "id": "22c05fc8-5d2c-4e05-a398-b3ed061d5d0f",
   "metadata": {},
   "outputs": [],
   "source": []
  },
  {
   "cell_type": "code",
   "execution_count": null,
   "id": "cedf0054-4b93-437f-8af0-5f4fa85b0c25",
   "metadata": {},
   "outputs": [],
   "source": []
  },
  {
   "cell_type": "code",
   "execution_count": null,
   "id": "e795e864-03e7-4ef0-9e75-fd6d55a74d55",
   "metadata": {},
   "outputs": [],
   "source": []
  },
  {
   "cell_type": "code",
   "execution_count": null,
   "id": "724af52b-a245-492c-93b0-ddd23fb8a0de",
   "metadata": {},
   "outputs": [],
   "source": []
  },
  {
   "cell_type": "code",
   "execution_count": null,
   "id": "4887b872-2f1f-402a-93f2-7d28c89997e9",
   "metadata": {},
   "outputs": [],
   "source": []
  },
  {
   "cell_type": "code",
   "execution_count": null,
   "id": "10861f96-146d-4888-a1fd-d32941263415",
   "metadata": {},
   "outputs": [],
   "source": []
  }
 ],
 "metadata": {
  "kernelspec": {
   "display_name": "Python 3 (ipykernel)",
   "language": "python",
   "name": "python3"
  },
  "language_info": {
   "codemirror_mode": {
    "name": "ipython",
    "version": 3
   },
   "file_extension": ".py",
   "mimetype": "text/x-python",
   "name": "python",
   "nbconvert_exporter": "python",
   "pygments_lexer": "ipython3",
   "version": "3.9.1"
  }
 },
 "nbformat": 4,
 "nbformat_minor": 5
}
